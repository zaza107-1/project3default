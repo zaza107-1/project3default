{
  "cells": [
    {
      "cell_type": "markdown",
      "source": [
        "# Automated ML\n",
        "\n",
        "TODO: Import Dependencies. In the cell below, import all the dependencies that you will need to complete the project."
      ],
      "metadata": {}
    },
    {
      "cell_type": "code",
      "source": [
        "import logging\n",
        "import os\n",
        "import csv\n",
        "\n",
        "from matplotlib import pyplot as plt\n",
        "import numpy as np\n",
        "import pandas as pd\n",
        "import pkg_resources\n",
        "\n",
        "import azureml.core\n",
        "from azureml.core.experiment import Experiment\n",
        "from azureml.core.workspace import Workspace\n",
        "from azureml.train.automl import AutoMLConfig\n",
        "from azureml.core.dataset import Dataset\n",
        "from azureml.data.dataset_factory import TabularDatasetFactory\n",
        "\n",
        "\n",
        "# Check core SDK version number\n",
        "print(\"SDK version:\", azureml.core.VERSION)"
      ],
      "outputs": [
        {
          "output_type": "stream",
          "name": "stdout",
          "text": [
            "SDK version: 1.20.0\n"
          ]
        }
      ],
      "execution_count": 1,
      "metadata": {
        "gather": {
          "logged": 1612190940472
        },
        "jupyter": {
          "outputs_hidden": false,
          "source_hidden": false
        },
        "nteract": {
          "transient": {
            "deleting": false
          }
        }
      }
    },
    {
      "cell_type": "markdown",
      "source": [
        "## Dataset\n",
        "\n",
        "### Overview\n",
        "TODO: In this markdown cell, give an overview of the dataset you are using. Also mention the task you will be performing.\n",
        "\n",
        "\n",
        "TODO: Get data. In the cell below, write code to access the data you will be using in this project. Remember that the dataset needs to be external."
      ],
      "metadata": {}
    },
    {
      "cell_type": "code",
      "source": [
        "from azureml.data.dataset_factory import TabularDatasetFactory\n",
        "\n",
        "# Create TabularDataset using TabularDatasetFactory\n",
        "\n",
        "### YOUR CODE HERE ###\n",
        "from azureml.core.dataset import Dataset\n",
        "##url = 'https://archive.ics.uci.edu/ml/machine-learning-databases/00519/heart_failure_clinical_records_dataset.csv'\n",
        "##dataset2 = TabularDatasetFactory.from_delimited_files(path = url)\n",
        "###ds2 = dataset2.to_pandas_dataframe() ### YOUR CODE HERE ###\n",
        "\n",
        "url = 'https://raw.githubusercontent.com/zaza107-1/nd00333-capstone/master/heart_failure_clinical_records_dataset.csv'\n",
        "dataset = Dataset.Tabular.from_delimited_files(path=url)\n",
        "ds = dataset.to_pandas_dataframe()\n",
        "\n",
        "ds.describe()"
      ],
      "outputs": [
        {
          "output_type": "execute_result",
          "execution_count": 2,
          "data": {
            "text/plain": "              age     anaemia  creatinine_phosphokinase    diabetes  \\\ncount  299.000000  299.000000                299.000000  299.000000   \nmean    60.833893    0.431438                581.839465    0.418060   \nstd     11.894809    0.496107                970.287881    0.494067   \nmin     40.000000    0.000000                 23.000000    0.000000   \n25%     51.000000    0.000000                116.500000    0.000000   \n50%     60.000000    0.000000                250.000000    0.000000   \n75%     70.000000    1.000000                582.000000    1.000000   \nmax     95.000000    1.000000               7861.000000    1.000000   \n\n       ejection_fraction  high_blood_pressure      platelets  \\\ncount         299.000000           299.000000     299.000000   \nmean           38.083612             0.351171  263358.029264   \nstd            11.834841             0.478136   97804.236869   \nmin            14.000000             0.000000   25100.000000   \n25%            30.000000             0.000000  212500.000000   \n50%            38.000000             0.000000  262000.000000   \n75%            45.000000             1.000000  303500.000000   \nmax            80.000000             1.000000  850000.000000   \n\n       serum_creatinine  serum_sodium         sex    smoking        time  \\\ncount         299.00000    299.000000  299.000000  299.00000  299.000000   \nmean            1.39388    136.625418    0.648829    0.32107  130.260870   \nstd             1.03451      4.412477    0.478136    0.46767   77.614208   \nmin             0.50000    113.000000    0.000000    0.00000    4.000000   \n25%             0.90000    134.000000    0.000000    0.00000   73.000000   \n50%             1.10000    137.000000    1.000000    0.00000  115.000000   \n75%             1.40000    140.000000    1.000000    1.00000  203.000000   \nmax             9.40000    148.000000    1.000000    1.00000  285.000000   \n\n       DEATH_EVENT  \ncount    299.00000  \nmean       0.32107  \nstd        0.46767  \nmin        0.00000  \n25%        0.00000  \n50%        0.00000  \n75%        1.00000  \nmax        1.00000  ",
            "text/html": "<div>\n<style scoped>\n    .dataframe tbody tr th:only-of-type {\n        vertical-align: middle;\n    }\n\n    .dataframe tbody tr th {\n        vertical-align: top;\n    }\n\n    .dataframe thead th {\n        text-align: right;\n    }\n</style>\n<table border=\"1\" class=\"dataframe\">\n  <thead>\n    <tr style=\"text-align: right;\">\n      <th></th>\n      <th>age</th>\n      <th>anaemia</th>\n      <th>creatinine_phosphokinase</th>\n      <th>diabetes</th>\n      <th>ejection_fraction</th>\n      <th>high_blood_pressure</th>\n      <th>platelets</th>\n      <th>serum_creatinine</th>\n      <th>serum_sodium</th>\n      <th>sex</th>\n      <th>smoking</th>\n      <th>time</th>\n      <th>DEATH_EVENT</th>\n    </tr>\n  </thead>\n  <tbody>\n    <tr>\n      <th>count</th>\n      <td>299.000000</td>\n      <td>299.000000</td>\n      <td>299.000000</td>\n      <td>299.000000</td>\n      <td>299.000000</td>\n      <td>299.000000</td>\n      <td>299.000000</td>\n      <td>299.00000</td>\n      <td>299.000000</td>\n      <td>299.000000</td>\n      <td>299.00000</td>\n      <td>299.000000</td>\n      <td>299.00000</td>\n    </tr>\n    <tr>\n      <th>mean</th>\n      <td>60.833893</td>\n      <td>0.431438</td>\n      <td>581.839465</td>\n      <td>0.418060</td>\n      <td>38.083612</td>\n      <td>0.351171</td>\n      <td>263358.029264</td>\n      <td>1.39388</td>\n      <td>136.625418</td>\n      <td>0.648829</td>\n      <td>0.32107</td>\n      <td>130.260870</td>\n      <td>0.32107</td>\n    </tr>\n    <tr>\n      <th>std</th>\n      <td>11.894809</td>\n      <td>0.496107</td>\n      <td>970.287881</td>\n      <td>0.494067</td>\n      <td>11.834841</td>\n      <td>0.478136</td>\n      <td>97804.236869</td>\n      <td>1.03451</td>\n      <td>4.412477</td>\n      <td>0.478136</td>\n      <td>0.46767</td>\n      <td>77.614208</td>\n      <td>0.46767</td>\n    </tr>\n    <tr>\n      <th>min</th>\n      <td>40.000000</td>\n      <td>0.000000</td>\n      <td>23.000000</td>\n      <td>0.000000</td>\n      <td>14.000000</td>\n      <td>0.000000</td>\n      <td>25100.000000</td>\n      <td>0.50000</td>\n      <td>113.000000</td>\n      <td>0.000000</td>\n      <td>0.00000</td>\n      <td>4.000000</td>\n      <td>0.00000</td>\n    </tr>\n    <tr>\n      <th>25%</th>\n      <td>51.000000</td>\n      <td>0.000000</td>\n      <td>116.500000</td>\n      <td>0.000000</td>\n      <td>30.000000</td>\n      <td>0.000000</td>\n      <td>212500.000000</td>\n      <td>0.90000</td>\n      <td>134.000000</td>\n      <td>0.000000</td>\n      <td>0.00000</td>\n      <td>73.000000</td>\n      <td>0.00000</td>\n    </tr>\n    <tr>\n      <th>50%</th>\n      <td>60.000000</td>\n      <td>0.000000</td>\n      <td>250.000000</td>\n      <td>0.000000</td>\n      <td>38.000000</td>\n      <td>0.000000</td>\n      <td>262000.000000</td>\n      <td>1.10000</td>\n      <td>137.000000</td>\n      <td>1.000000</td>\n      <td>0.00000</td>\n      <td>115.000000</td>\n      <td>0.00000</td>\n    </tr>\n    <tr>\n      <th>75%</th>\n      <td>70.000000</td>\n      <td>1.000000</td>\n      <td>582.000000</td>\n      <td>1.000000</td>\n      <td>45.000000</td>\n      <td>1.000000</td>\n      <td>303500.000000</td>\n      <td>1.40000</td>\n      <td>140.000000</td>\n      <td>1.000000</td>\n      <td>1.00000</td>\n      <td>203.000000</td>\n      <td>1.00000</td>\n    </tr>\n    <tr>\n      <th>max</th>\n      <td>95.000000</td>\n      <td>1.000000</td>\n      <td>7861.000000</td>\n      <td>1.000000</td>\n      <td>80.000000</td>\n      <td>1.000000</td>\n      <td>850000.000000</td>\n      <td>9.40000</td>\n      <td>148.000000</td>\n      <td>1.000000</td>\n      <td>1.00000</td>\n      <td>285.000000</td>\n      <td>1.00000</td>\n    </tr>\n  </tbody>\n</table>\n</div>"
          },
          "metadata": {}
        }
      ],
      "execution_count": 2,
      "metadata": {
        "gather": {
          "logged": 1612190950245
        }
      }
    },
    {
      "cell_type": "code",
      "source": [
        "ws = Workspace.from_config()\n",
        "\n",
        "# choose a name for experiment\n",
        "experiment_name = 'AutoML_heart'\n",
        "project_folder = '.'\n",
        "experiment=Experiment(ws, experiment_name)"
      ],
      "outputs": [
        {
          "output_type": "stream",
          "name": "stdout",
          "text": [
            "Performing interactive authentication. Please follow the instructions on the terminal.\n",
            "To sign in, use a web browser to open the page https://microsoft.com/devicelogin and enter the code EET7J4YYA to authenticate.\n",
            "You have logged in. Now let us find all the subscriptions to which you have access...\n",
            "Interactive authentication successfully completed.\n"
          ]
        }
      ],
      "execution_count": 3,
      "metadata": {
        "gather": {
          "logged": 1612190981434
        },
        "jupyter": {
          "outputs_hidden": false,
          "source_hidden": false
        },
        "nteract": {
          "transient": {
            "deleting": false
          }
        }
      }
    },
    {
      "cell_type": "code",
      "source": [
        "from azureml.core.compute import AmlCompute\n",
        "from azureml.core.compute import ComputeTarget\n",
        "from azureml.core.compute_target import ComputeTargetException\n",
        "\n",
        "# NOTE: update the cluster name to match the existing cluster\n",
        "# Choose a name for your CPU cluster\n",
        "amlcompute_cluster_name = \"auto-ml\"\n",
        "\n",
        "# Verify that cluster does not exist already\n",
        "try:\n",
        "    compute_target = ComputeTarget(workspace=ws, name=amlcompute_cluster_name)\n",
        "    print('Found existing cluster, use it.')\n",
        "except ComputeTargetException:\n",
        "    compute_config = AmlCompute.provisioning_configuration(vm_size='STANDARD_D2_V2',# for GPU, use \"STANDARD_NC6\"\n",
        "                                                           #vm_priority = 'lowpriority', # optional\n",
        "                                                           max_nodes=4)\n",
        "    compute_target = ComputeTarget.create(ws, amlcompute_cluster_name, compute_config)\n",
        "\n",
        "compute_target.wait_for_completion(show_output=True)\n",
        "# For a more detailed view of current AmlCompute status, use get_status()."
      ],
      "outputs": [
        {
          "output_type": "stream",
          "name": "stdout",
          "text": [
            "Found existing cluster, use it.\n",
            "\n",
            "Running\n"
          ]
        }
      ],
      "execution_count": 18,
      "metadata": {
        "gather": {
          "logged": 1612192450870
        }
      }
    },
    {
      "cell_type": "code",
      "source": [
        "from train2 import clean_data\r\n",
        "\r\n",
        "# Use the clean_data function to clean your data.\r\n",
        "x, y = clean_data(ds) ### your code###\r\n",
        "\r\n",
        "from sklearn.model_selection import train_test_split\r\n",
        "\r\n",
        "x_train, x_test, y_train, y_test = train_test_split(x, y, random_state=42, test_size=0.33)\r\n",
        "\r\n",
        "df_train = pd.concat([x_train, y_train], axis=1)"
      ],
      "outputs": [],
      "execution_count": 5,
      "metadata": {
        "collapsed": true,
        "jupyter": {
          "source_hidden": false,
          "outputs_hidden": false
        },
        "nteract": {
          "transient": {
            "deleting": false
          }
        },
        "gather": {
          "logged": 1612191015550
        }
      }
    },
    {
      "cell_type": "code",
      "source": [
        "df_train.describe()"
      ],
      "outputs": [
        {
          "output_type": "execute_result",
          "execution_count": 6,
          "data": {
            "text/plain": "              age     anaemia  creatinine_phosphokinase    diabetes  \\\ncount  200.000000  200.000000                200.000000  200.000000   \nmean    60.588335    0.420000                582.765000    0.395000   \nstd     11.287966    0.494797                944.276208    0.490077   \nmin     40.000000    0.000000                 23.000000    0.000000   \n25%     52.000000    0.000000                109.000000    0.000000   \n50%     60.000000    0.000000                244.500000    0.000000   \n75%     67.250000    1.000000                582.000000    1.000000   \nmax     95.000000    1.000000               7861.000000    1.000000   \n\n       ejection_fraction  high_blood_pressure      platelets  \\\ncount          200.00000           200.000000     200.000000   \nmean            38.59500             0.365000  260130.062100   \nstd             11.68003             0.482638   91079.331644   \nmin             20.00000             0.000000   62000.000000   \n25%             30.00000             0.000000  203000.000000   \n50%             38.00000             0.000000  256000.000000   \n75%             45.00000             1.000000  304250.000000   \nmax             80.00000             1.000000  621000.000000   \n\n       serum_creatinine  serum_sodium         sex     smoking        time  \\\ncount        200.000000    200.000000  200.000000  200.000000  200.000000   \nmean           1.385200    136.620000    0.635000    0.305000  133.735000   \nstd            1.019065      4.318431    0.482638    0.461563   77.612973   \nmin            0.500000    113.000000    0.000000    0.000000    4.000000   \n25%            0.900000    134.000000    0.000000    0.000000   78.750000   \n50%            1.100000    137.000000    1.000000    0.000000  119.500000   \n75%            1.400000    140.000000    1.000000    1.000000  206.250000   \nmax            9.000000    146.000000    1.000000    1.000000  285.000000   \n\n       DEATH_EVENT  \ncount   200.000000  \nmean      0.270000  \nstd       0.445074  \nmin       0.000000  \n25%       0.000000  \n50%       0.000000  \n75%       1.000000  \nmax       1.000000  ",
            "text/html": "<div>\n<style scoped>\n    .dataframe tbody tr th:only-of-type {\n        vertical-align: middle;\n    }\n\n    .dataframe tbody tr th {\n        vertical-align: top;\n    }\n\n    .dataframe thead th {\n        text-align: right;\n    }\n</style>\n<table border=\"1\" class=\"dataframe\">\n  <thead>\n    <tr style=\"text-align: right;\">\n      <th></th>\n      <th>age</th>\n      <th>anaemia</th>\n      <th>creatinine_phosphokinase</th>\n      <th>diabetes</th>\n      <th>ejection_fraction</th>\n      <th>high_blood_pressure</th>\n      <th>platelets</th>\n      <th>serum_creatinine</th>\n      <th>serum_sodium</th>\n      <th>sex</th>\n      <th>smoking</th>\n      <th>time</th>\n      <th>DEATH_EVENT</th>\n    </tr>\n  </thead>\n  <tbody>\n    <tr>\n      <th>count</th>\n      <td>200.000000</td>\n      <td>200.000000</td>\n      <td>200.000000</td>\n      <td>200.000000</td>\n      <td>200.00000</td>\n      <td>200.000000</td>\n      <td>200.000000</td>\n      <td>200.000000</td>\n      <td>200.000000</td>\n      <td>200.000000</td>\n      <td>200.000000</td>\n      <td>200.000000</td>\n      <td>200.000000</td>\n    </tr>\n    <tr>\n      <th>mean</th>\n      <td>60.588335</td>\n      <td>0.420000</td>\n      <td>582.765000</td>\n      <td>0.395000</td>\n      <td>38.59500</td>\n      <td>0.365000</td>\n      <td>260130.062100</td>\n      <td>1.385200</td>\n      <td>136.620000</td>\n      <td>0.635000</td>\n      <td>0.305000</td>\n      <td>133.735000</td>\n      <td>0.270000</td>\n    </tr>\n    <tr>\n      <th>std</th>\n      <td>11.287966</td>\n      <td>0.494797</td>\n      <td>944.276208</td>\n      <td>0.490077</td>\n      <td>11.68003</td>\n      <td>0.482638</td>\n      <td>91079.331644</td>\n      <td>1.019065</td>\n      <td>4.318431</td>\n      <td>0.482638</td>\n      <td>0.461563</td>\n      <td>77.612973</td>\n      <td>0.445074</td>\n    </tr>\n    <tr>\n      <th>min</th>\n      <td>40.000000</td>\n      <td>0.000000</td>\n      <td>23.000000</td>\n      <td>0.000000</td>\n      <td>20.00000</td>\n      <td>0.000000</td>\n      <td>62000.000000</td>\n      <td>0.500000</td>\n      <td>113.000000</td>\n      <td>0.000000</td>\n      <td>0.000000</td>\n      <td>4.000000</td>\n      <td>0.000000</td>\n    </tr>\n    <tr>\n      <th>25%</th>\n      <td>52.000000</td>\n      <td>0.000000</td>\n      <td>109.000000</td>\n      <td>0.000000</td>\n      <td>30.00000</td>\n      <td>0.000000</td>\n      <td>203000.000000</td>\n      <td>0.900000</td>\n      <td>134.000000</td>\n      <td>0.000000</td>\n      <td>0.000000</td>\n      <td>78.750000</td>\n      <td>0.000000</td>\n    </tr>\n    <tr>\n      <th>50%</th>\n      <td>60.000000</td>\n      <td>0.000000</td>\n      <td>244.500000</td>\n      <td>0.000000</td>\n      <td>38.00000</td>\n      <td>0.000000</td>\n      <td>256000.000000</td>\n      <td>1.100000</td>\n      <td>137.000000</td>\n      <td>1.000000</td>\n      <td>0.000000</td>\n      <td>119.500000</td>\n      <td>0.000000</td>\n    </tr>\n    <tr>\n      <th>75%</th>\n      <td>67.250000</td>\n      <td>1.000000</td>\n      <td>582.000000</td>\n      <td>1.000000</td>\n      <td>45.00000</td>\n      <td>1.000000</td>\n      <td>304250.000000</td>\n      <td>1.400000</td>\n      <td>140.000000</td>\n      <td>1.000000</td>\n      <td>1.000000</td>\n      <td>206.250000</td>\n      <td>1.000000</td>\n    </tr>\n    <tr>\n      <th>max</th>\n      <td>95.000000</td>\n      <td>1.000000</td>\n      <td>7861.000000</td>\n      <td>1.000000</td>\n      <td>80.00000</td>\n      <td>1.000000</td>\n      <td>621000.000000</td>\n      <td>9.000000</td>\n      <td>146.000000</td>\n      <td>1.000000</td>\n      <td>1.000000</td>\n      <td>285.000000</td>\n      <td>1.000000</td>\n    </tr>\n  </tbody>\n</table>\n</div>"
          },
          "metadata": {}
        }
      ],
      "execution_count": 6,
      "metadata": {
        "collapsed": true,
        "jupyter": {
          "source_hidden": false,
          "outputs_hidden": false
        },
        "nteract": {
          "transient": {
            "deleting": false
          }
        },
        "gather": {
          "logged": 1612191019556
        }
      }
    },
    {
      "cell_type": "markdown",
      "source": [
        "## AutoML Configuration\n",
        "\n",
        "TODO: Explain why you chose the automl settings and cofiguration you used below."
      ],
      "metadata": {}
    },
    {
      "cell_type": "code",
      "source": [
        "compute_target"
      ],
      "outputs": [
        {
          "output_type": "execute_result",
          "execution_count": 7,
          "data": {
            "text/plain": "{\n  \"id\": \"/subscriptions/9b72f9e6-56c5-4c16-991b-19c652994860/resourceGroups/aml-quickstarts-136840/providers/Microsoft.MachineLearningServices/workspaces/quick-starts-ws-136840/computes/auto-ml\",\n  \"name\": \"auto-ml\",\n  \"location\": \"southcentralus\",\n  \"tags\": null,\n  \"properties\": {\n    \"description\": null,\n    \"computeType\": \"ComputeInstance\",\n    \"computeLocation\": \"southcentralus\",\n    \"resourceId\": null,\n    \"provisioningErrors\": null,\n    \"provisioningState\": \"Succeeded\",\n    \"properties\": {\n      \"vmSize\": \"STANDARD_DS3_V2\",\n      \"applications\": [\n        {\n          \"displayName\": \"Jupyter\",\n          \"endpointUri\": \"https://auto-ml.southcentralus.instances.azureml.ms\"\n        },\n        {\n          \"displayName\": \"Jupyter Lab\",\n          \"endpointUri\": \"https://auto-ml.southcentralus.instances.azureml.ms/lab\"\n        },\n        {\n          \"displayName\": \"RStudio\",\n          \"endpointUri\": \"https://auto-ml-8787.southcentralus.instances.azureml.ms\"\n        }\n      ],\n      \"connectivityEndpoints\": {\n        \"publicIpAddress\": \"13.85.195.170\",\n        \"privateIpAddress\": \"10.0.0.5\"\n      },\n      \"sshSettings\": {\n        \"sshPublicAccess\": \"Disabled\",\n        \"adminUserName\": \"azureuser\",\n        \"adminPublicKey\": null,\n        \"sshPort\": 4001\n      },\n      \"personalComputeInstanceSettings\": null,\n      \"subnet\": {\n        \"id\": null\n      },\n      \"errors\": []\n    },\n    \"status\": {\n      \"errors\": [],\n      \"creationTime\": \"2021-02-01T14:34:43.435010+00:00\",\n      \"createdBy\": {\n        \"userObjectId\": \"79db5a02-534d-45b6-9c22-f51ed7371be1\",\n        \"userTenantId\": \"660b3398-b80e-49d2-bc5b-ac1dc93b5254\",\n        \"userName\": \"ODL_User 136840\"\n      },\n      \"modifiedTime\": \"2021-02-01T14:37:00.113625+00:00\",\n      \"state\": \"Running\",\n      \"vmSize\": \"STANDARD_DS3_V2\"\n    }\n  }\n}",
            "text/html": "<table style=\"width:100%\"><tr><th>Name</th><th>Workspace</th><th>State</th><th>Location</th><th>VmSize</th><th>Application URI</th><th>Docs</th></tr><tr><td><a href=\"https://ml.azure.com/compute/auto-ml/details?wsid=/subscriptions/9b72f9e6-56c5-4c16-991b-19c652994860/resourcegroups/aml-quickstarts-136840/workspaces/quick-starts-ws-136840\" target=\"_blank\" rel=\"noopener\">auto-ml</a></td><td><a href=\"https://ml.azure.com?wsid=/subscriptions/9b72f9e6-56c5-4c16-991b-19c652994860/resourcegroups/aml-quickstarts-136840/workspaces/quick-starts-ws-136840\" target=\"_blank\" rel=\"noopener\">quick-starts-ws-136840</a></td><td>Running</td><td>southcentralus</td><td>STANDARD_DS3_V2</td><td><a href=\"https://auto-ml.southcentralus.instances.azureml.ms\" target=\"_blank\" rel=\"noopener\">Jupyter</a>  <a href=\"https://auto-ml.southcentralus.instances.azureml.ms/lab\" target=\"_blank\" rel=\"noopener\">JupyterLab</a>  <a href=\"https://auto-ml-8787.southcentralus.instances.azureml.ms\" target=\"_blank\" rel=\"noopener\">RStudio</a></td><td><a href=\"https://docs.microsoft.com/en-us/python/api/azureml-core/azureml.core.compute.computeinstance.ComputeInstance?view=azure-ml-py\" target=\"_blank\" rel=\"noopener\">Doc</a></td></tr></table>"
          },
          "metadata": {}
        }
      ],
      "execution_count": 7,
      "metadata": {
        "collapsed": true,
        "jupyter": {
          "source_hidden": false,
          "outputs_hidden": false
        },
        "nteract": {
          "transient": {
            "deleting": false
          }
        },
        "gather": {
          "logged": 1612191023509
        }
      }
    },
    {
      "cell_type": "code",
      "source": [
        "if 'training' not in os.listdir():\r\n",
        "    os.mkdir(\"./training\")"
      ],
      "outputs": [],
      "execution_count": 8,
      "metadata": {
        "collapsed": true,
        "jupyter": {
          "source_hidden": false,
          "outputs_hidden": false
        },
        "nteract": {
          "transient": {
            "deleting": false
          }
        },
        "gather": {
          "logged": 1612191028389
        }
      }
    },
    {
      "cell_type": "code",
      "source": [
        "# TODO: Put your automl settings here\n",
        "automl_settings = {\"experiment_timeout_minutes\": 15,\n",
        "                    \"max_concurrent_iterations\": 5,\n",
        "                    \"primary_metric\" : 'accuracy'}\n",
        "\n",
        "# TODO: Put your automl config here\n",
        "automl_config = AutoMLConfig(compute_target=compute_target,\n",
        "                             task = \"classification\",\n",
        "                             training_data=dataset,\n",
        "                             label_column_name=\"DEATH_EVENT\",   \n",
        "                             path = project_folder,\n",
        "                             enable_early_stopping= True,\n",
        "                             featurization= 'auto',\n",
        "                             debug_log = \"automl_errors.log\",\n",
        "                             **automl_settings)"
      ],
      "outputs": [],
      "execution_count": 13,
      "metadata": {
        "gather": {
          "logged": 1612191103419
        },
        "jupyter": {
          "outputs_hidden": false,
          "source_hidden": false
        },
        "nteract": {
          "transient": {
            "deleting": false
          }
        }
      }
    },
    {
      "cell_type": "code",
      "source": [
        "# TODO: Submit your experiment\n",
        "remote_run = experiment.submit(automl_config)\n",
        "\n",
        "remote_run.wait_for_completion()"
      ],
      "outputs": [
        {
          "output_type": "stream",
          "name": "stdout",
          "text": [
            "Running on remote.\n"
          ]
        },
        {
          "output_type": "execute_result",
          "execution_count": 14,
          "data": {
            "text/plain": "{'runId': 'AutoML_7764ea4d-b7a4-469f-848d-05fe5eedca4c',\n 'target': 'auto-ml',\n 'status': 'Completed',\n 'startTimeUtc': '2021-02-01T14:52:07.795626Z',\n 'endTimeUtc': '2021-02-01T15:08:28.840792Z',\n 'properties': {'num_iterations': '1000',\n  'training_type': 'TrainFull',\n  'acquisition_function': 'EI',\n  'primary_metric': 'accuracy',\n  'train_split': '0',\n  'acquisition_parameter': '0',\n  'num_cross_validation': None,\n  'target': 'auto-ml',\n  'AMLSettingsJsonString': '{\"path\":null,\"name\":\"AutoML_heart\",\"subscription_id\":\"9b72f9e6-56c5-4c16-991b-19c652994860\",\"resource_group\":\"aml-quickstarts-136840\",\"workspace_name\":\"quick-starts-ws-136840\",\"region\":\"southcentralus\",\"compute_target\":\"auto-ml\",\"spark_service\":null,\"azure_service\":\"remote\",\"many_models\":false,\"pipeline_fetch_max_batch_size\":1,\"iterations\":1000,\"primary_metric\":\"accuracy\",\"task_type\":\"classification\",\"data_script\":null,\"validation_size\":0.0,\"n_cross_validations\":null,\"y_min\":null,\"y_max\":null,\"num_classes\":null,\"featurization\":\"auto\",\"_ignore_package_version_incompatibilities\":false,\"is_timeseries\":false,\"max_cores_per_iteration\":1,\"max_concurrent_iterations\":5,\"iteration_timeout_minutes\":null,\"mem_in_mb\":null,\"enforce_time_on_windows\":false,\"experiment_timeout_minutes\":15,\"experiment_exit_score\":null,\"whitelist_models\":null,\"blacklist_algos\":[\"TensorFlowLinearClassifier\",\"TensorFlowDNN\"],\"supported_models\":[\"SVM\",\"LinearSVM\",\"KNN\",\"TensorFlowDNN\",\"RandomForest\",\"XGBoostClassifier\",\"TensorFlowLinearClassifier\",\"BernoulliNaiveBayes\",\"LightGBM\",\"SGD\",\"DecisionTree\",\"LogisticRegression\",\"AveragedPerceptronClassifier\",\"GradientBoosting\",\"ExtremeRandomTrees\",\"MultinomialNaiveBayes\"],\"auto_blacklist\":true,\"blacklist_samples_reached\":false,\"exclude_nan_labels\":true,\"verbosity\":20,\"_debug_log\":\"azureml_automl.log\",\"show_warnings\":false,\"model_explainability\":true,\"service_url\":null,\"sdk_url\":null,\"sdk_packages\":null,\"enable_onnx_compatible_models\":false,\"enable_split_onnx_featurizer_estimator_models\":false,\"vm_type\":\"STANDARD_DS3_V2\",\"telemetry_verbosity\":20,\"send_telemetry\":true,\"enable_dnn\":false,\"scenario\":\"SDK-1.13.0\",\"environment_label\":null,\"force_text_dnn\":false,\"enable_feature_sweeping\":true,\"enable_early_stopping\":true,\"early_stopping_n_iters\":10,\"metrics\":null,\"enable_ensembling\":true,\"enable_stack_ensembling\":true,\"ensemble_iterations\":15,\"enable_tf\":false,\"enable_subsampling\":null,\"subsample_seed\":null,\"enable_nimbusml\":false,\"enable_streaming\":false,\"force_streaming\":false,\"track_child_runs\":true,\"allowed_private_models\":[],\"label_column_name\":\"DEATH_EVENT\",\"weight_column_name\":null,\"cv_split_column_names\":null,\"enable_local_managed\":false,\"_local_managed_run_id\":null,\"cost_mode\":1,\"lag_length\":0,\"metric_operation\":\"maximize\",\"preprocess\":true}',\n  'DataPrepJsonString': '{\\\\\"training_data\\\\\": \\\\\"{\\\\\\\\\\\\\"blocks\\\\\\\\\\\\\": [{\\\\\\\\\\\\\"id\\\\\\\\\\\\\": \\\\\\\\\\\\\"b76641eb-3334-4a8e-bfb6-bbf1674cfa9e\\\\\\\\\\\\\", \\\\\\\\\\\\\"type\\\\\\\\\\\\\": \\\\\\\\\\\\\"Microsoft.DPrep.GetFilesBlock\\\\\\\\\\\\\", \\\\\\\\\\\\\"arguments\\\\\\\\\\\\\": {\\\\\\\\\\\\\"isArchive\\\\\\\\\\\\\": false, \\\\\\\\\\\\\"path\\\\\\\\\\\\\": {\\\\\\\\\\\\\"target\\\\\\\\\\\\\": 4, \\\\\\\\\\\\\"resourceDetails\\\\\\\\\\\\\": [{\\\\\\\\\\\\\"path\\\\\\\\\\\\\": \\\\\\\\\\\\\"https://raw.githubusercontent.com/zaza107-1/nd00333-capstone/master/heart_failure_clinical_records_dataset.csv\\\\\\\\\\\\\"}]}}, \\\\\\\\\\\\\"localData\\\\\\\\\\\\\": {}, \\\\\\\\\\\\\"isEnabled\\\\\\\\\\\\\": true, \\\\\\\\\\\\\"name\\\\\\\\\\\\\": null, \\\\\\\\\\\\\"annotation\\\\\\\\\\\\\": null}, {\\\\\\\\\\\\\"id\\\\\\\\\\\\\": \\\\\\\\\\\\\"110afc24-7c82-4f4a-af9d-3c283d1667db\\\\\\\\\\\\\", \\\\\\\\\\\\\"type\\\\\\\\\\\\\": \\\\\\\\\\\\\"Microsoft.DPrep.ParseDelimitedBlock\\\\\\\\\\\\\", \\\\\\\\\\\\\"arguments\\\\\\\\\\\\\": {\\\\\\\\\\\\\"columnHeadersMode\\\\\\\\\\\\\": 3, \\\\\\\\\\\\\"fileEncoding\\\\\\\\\\\\\": 0, \\\\\\\\\\\\\"handleQuotedLineBreaks\\\\\\\\\\\\\": false, \\\\\\\\\\\\\"preview\\\\\\\\\\\\\": false, \\\\\\\\\\\\\"separator\\\\\\\\\\\\\": \\\\\\\\\\\\\",\\\\\\\\\\\\\", \\\\\\\\\\\\\"skipRows\\\\\\\\\\\\\": 0, \\\\\\\\\\\\\"skipRowsMode\\\\\\\\\\\\\": 0}, \\\\\\\\\\\\\"localData\\\\\\\\\\\\\": {}, \\\\\\\\\\\\\"isEnabled\\\\\\\\\\\\\": true, \\\\\\\\\\\\\"name\\\\\\\\\\\\\": null, \\\\\\\\\\\\\"annotation\\\\\\\\\\\\\": null}, {\\\\\\\\\\\\\"id\\\\\\\\\\\\\": \\\\\\\\\\\\\"10252121-df17-466e-9ae1-1e8573455f36\\\\\\\\\\\\\", \\\\\\\\\\\\\"type\\\\\\\\\\\\\": \\\\\\\\\\\\\"Microsoft.DPrep.DropColumnsBlock\\\\\\\\\\\\\", \\\\\\\\\\\\\"arguments\\\\\\\\\\\\\": {\\\\\\\\\\\\\"columns\\\\\\\\\\\\\": {\\\\\\\\\\\\\"type\\\\\\\\\\\\\": 0, \\\\\\\\\\\\\"details\\\\\\\\\\\\\": {\\\\\\\\\\\\\"selectedColumns\\\\\\\\\\\\\": [\\\\\\\\\\\\\"Path\\\\\\\\\\\\\"]}}}, \\\\\\\\\\\\\"localData\\\\\\\\\\\\\": {}, \\\\\\\\\\\\\"isEnabled\\\\\\\\\\\\\": true, \\\\\\\\\\\\\"name\\\\\\\\\\\\\": null, \\\\\\\\\\\\\"annotation\\\\\\\\\\\\\": null}, {\\\\\\\\\\\\\"id\\\\\\\\\\\\\": \\\\\\\\\\\\\"17a40b50-0142-4f9d-80bb-88092999a4f2\\\\\\\\\\\\\", \\\\\\\\\\\\\"type\\\\\\\\\\\\\": \\\\\\\\\\\\\"Microsoft.DPrep.SetColumnTypesBlock\\\\\\\\\\\\\", \\\\\\\\\\\\\"arguments\\\\\\\\\\\\\": {\\\\\\\\\\\\\"columnConversion\\\\\\\\\\\\\": [{\\\\\\\\\\\\\"column\\\\\\\\\\\\\": {\\\\\\\\\\\\\"type\\\\\\\\\\\\\": 2, \\\\\\\\\\\\\"details\\\\\\\\\\\\\": {\\\\\\\\\\\\\"selectedColumn\\\\\\\\\\\\\": \\\\\\\\\\\\\"age\\\\\\\\\\\\\"}}, \\\\\\\\\\\\\"typeProperty\\\\\\\\\\\\\": 3}, {\\\\\\\\\\\\\"column\\\\\\\\\\\\\": {\\\\\\\\\\\\\"type\\\\\\\\\\\\\": 2, \\\\\\\\\\\\\"details\\\\\\\\\\\\\": {\\\\\\\\\\\\\"selectedColumn\\\\\\\\\\\\\": \\\\\\\\\\\\\"anaemia\\\\\\\\\\\\\"}}, \\\\\\\\\\\\\"typeProperty\\\\\\\\\\\\\": 2}, {\\\\\\\\\\\\\"column\\\\\\\\\\\\\": {\\\\\\\\\\\\\"type\\\\\\\\\\\\\": 2, \\\\\\\\\\\\\"details\\\\\\\\\\\\\": {\\\\\\\\\\\\\"selectedColumn\\\\\\\\\\\\\": \\\\\\\\\\\\\"creatinine_phosphokinase\\\\\\\\\\\\\"}}, \\\\\\\\\\\\\"typeProperty\\\\\\\\\\\\\": 2}, {\\\\\\\\\\\\\"column\\\\\\\\\\\\\": {\\\\\\\\\\\\\"type\\\\\\\\\\\\\": 2, \\\\\\\\\\\\\"details\\\\\\\\\\\\\": {\\\\\\\\\\\\\"selectedColumn\\\\\\\\\\\\\": \\\\\\\\\\\\\"diabetes\\\\\\\\\\\\\"}}, \\\\\\\\\\\\\"typeProperty\\\\\\\\\\\\\": 2}, {\\\\\\\\\\\\\"column\\\\\\\\\\\\\": {\\\\\\\\\\\\\"type\\\\\\\\\\\\\": 2, \\\\\\\\\\\\\"details\\\\\\\\\\\\\": {\\\\\\\\\\\\\"selectedColumn\\\\\\\\\\\\\": \\\\\\\\\\\\\"ejection_fraction\\\\\\\\\\\\\"}}, \\\\\\\\\\\\\"typeProperty\\\\\\\\\\\\\": 2}, {\\\\\\\\\\\\\"column\\\\\\\\\\\\\": {\\\\\\\\\\\\\"type\\\\\\\\\\\\\": 2, \\\\\\\\\\\\\"details\\\\\\\\\\\\\": {\\\\\\\\\\\\\"selectedColumn\\\\\\\\\\\\\": \\\\\\\\\\\\\"high_blood_pressure\\\\\\\\\\\\\"}}, \\\\\\\\\\\\\"typeProperty\\\\\\\\\\\\\": 2}, {\\\\\\\\\\\\\"column\\\\\\\\\\\\\": {\\\\\\\\\\\\\"type\\\\\\\\\\\\\": 2, \\\\\\\\\\\\\"details\\\\\\\\\\\\\": {\\\\\\\\\\\\\"selectedColumn\\\\\\\\\\\\\": \\\\\\\\\\\\\"platelets\\\\\\\\\\\\\"}}, \\\\\\\\\\\\\"typeProperty\\\\\\\\\\\\\": 3}, {\\\\\\\\\\\\\"column\\\\\\\\\\\\\": {\\\\\\\\\\\\\"type\\\\\\\\\\\\\": 2, \\\\\\\\\\\\\"details\\\\\\\\\\\\\": {\\\\\\\\\\\\\"selectedColumn\\\\\\\\\\\\\": \\\\\\\\\\\\\"serum_creatinine\\\\\\\\\\\\\"}}, \\\\\\\\\\\\\"typeProperty\\\\\\\\\\\\\": 3}, {\\\\\\\\\\\\\"column\\\\\\\\\\\\\": {\\\\\\\\\\\\\"type\\\\\\\\\\\\\": 2, \\\\\\\\\\\\\"details\\\\\\\\\\\\\": {\\\\\\\\\\\\\"selectedColumn\\\\\\\\\\\\\": \\\\\\\\\\\\\"serum_sodium\\\\\\\\\\\\\"}}, \\\\\\\\\\\\\"typeProperty\\\\\\\\\\\\\": 2}, {\\\\\\\\\\\\\"column\\\\\\\\\\\\\": {\\\\\\\\\\\\\"type\\\\\\\\\\\\\": 2, \\\\\\\\\\\\\"details\\\\\\\\\\\\\": {\\\\\\\\\\\\\"selectedColumn\\\\\\\\\\\\\": \\\\\\\\\\\\\"sex\\\\\\\\\\\\\"}}, \\\\\\\\\\\\\"typeProperty\\\\\\\\\\\\\": 2}, {\\\\\\\\\\\\\"column\\\\\\\\\\\\\": {\\\\\\\\\\\\\"type\\\\\\\\\\\\\": 2, \\\\\\\\\\\\\"details\\\\\\\\\\\\\": {\\\\\\\\\\\\\"selectedColumn\\\\\\\\\\\\\": \\\\\\\\\\\\\"smoking\\\\\\\\\\\\\"}}, \\\\\\\\\\\\\"typeProperty\\\\\\\\\\\\\": 2}, {\\\\\\\\\\\\\"column\\\\\\\\\\\\\": {\\\\\\\\\\\\\"type\\\\\\\\\\\\\": 2, \\\\\\\\\\\\\"details\\\\\\\\\\\\\": {\\\\\\\\\\\\\"selectedColumn\\\\\\\\\\\\\": \\\\\\\\\\\\\"time\\\\\\\\\\\\\"}}, \\\\\\\\\\\\\"typeProperty\\\\\\\\\\\\\": 2}, {\\\\\\\\\\\\\"column\\\\\\\\\\\\\": {\\\\\\\\\\\\\"type\\\\\\\\\\\\\": 2, \\\\\\\\\\\\\"details\\\\\\\\\\\\\": {\\\\\\\\\\\\\"selectedColumn\\\\\\\\\\\\\": \\\\\\\\\\\\\"DEATH_EVENT\\\\\\\\\\\\\"}}, \\\\\\\\\\\\\"typeProperty\\\\\\\\\\\\\": 2}]}, \\\\\\\\\\\\\"localData\\\\\\\\\\\\\": {}, \\\\\\\\\\\\\"isEnabled\\\\\\\\\\\\\": true, \\\\\\\\\\\\\"name\\\\\\\\\\\\\": null, \\\\\\\\\\\\\"annotation\\\\\\\\\\\\\": null}], \\\\\\\\\\\\\"inspectors\\\\\\\\\\\\\": [], \\\\\\\\\\\\\"meta\\\\\\\\\\\\\": {\\\\\\\\\\\\\"savedDatasetId\\\\\\\\\\\\\": \\\\\\\\\\\\\"7e3cb069-e61b-4f46-b993-05b7f09534d8\\\\\\\\\\\\\", \\\\\\\\\\\\\"datasetType\\\\\\\\\\\\\": \\\\\\\\\\\\\"tabular\\\\\\\\\\\\\", \\\\\\\\\\\\\"subscriptionId\\\\\\\\\\\\\": \\\\\\\\\\\\\"9b72f9e6-56c5-4c16-991b-19c652994860\\\\\\\\\\\\\", \\\\\\\\\\\\\"workspaceId\\\\\\\\\\\\\": \\\\\\\\\\\\\"5952c8ee-e8f6-428f-b474-17b67c18d46a\\\\\\\\\\\\\", \\\\\\\\\\\\\"workspaceLocation\\\\\\\\\\\\\": \\\\\\\\\\\\\"southcentralus\\\\\\\\\\\\\"}}\\\\\", \\\\\"activities\\\\\": 0}',\n  'EnableSubsampling': None,\n  'runTemplate': 'AutoML',\n  'azureml.runsource': 'automl',\n  'display_task_type': 'classification',\n  'dependencies_versions': '{\"azureml-widgets\": \"1.20.0\", \"azureml-train\": \"1.20.0\", \"azureml-train-restclients-hyperdrive\": \"1.20.0\", \"azureml-train-core\": \"1.20.0\", \"azureml-train-automl\": \"1.20.0\", \"azureml-train-automl-runtime\": \"1.20.0\", \"azureml-train-automl-client\": \"1.20.0\", \"azureml-tensorboard\": \"1.20.0\", \"azureml-telemetry\": \"1.20.0\", \"azureml-sdk\": \"1.20.0\", \"azureml-samples\": \"0+unknown\", \"azureml-pipeline\": \"1.20.0\", \"azureml-pipeline-steps\": \"1.20.0\", \"azureml-pipeline-core\": \"1.20.0\", \"azureml-opendatasets\": \"1.20.0\", \"azureml-model-management-sdk\": \"1.0.1b6.post1\", \"azureml-mlflow\": \"1.20.0.post1\", \"azureml-interpret\": \"1.20.0\", \"azureml-explain-model\": \"1.20.0\", \"azureml-defaults\": \"1.20.0\", \"azureml-dataset-runtime\": \"1.20.0\", \"azureml-dataprep\": \"2.7.3\", \"azureml-dataprep-rslex\": \"1.5.0\", \"azureml-dataprep-native\": \"27.0.0\", \"azureml-datadrift\": \"1.20.0\", \"azureml-core\": \"1.20.0\", \"azureml-contrib-services\": \"1.20.0\", \"azureml-contrib-server\": \"1.20.0\", \"azureml-contrib-reinforcementlearning\": \"1.20.0\", \"azureml-contrib-pipeline-steps\": \"1.20.0\", \"azureml-contrib-notebook\": \"1.20.0\", \"azureml-contrib-interpret\": \"1.20.0\", \"azureml-contrib-gbdt\": \"1.20.0\", \"azureml-contrib-fairness\": \"1.20.0\", \"azureml-contrib-dataset\": \"1.20.0\", \"azureml-cli-common\": \"1.20.0\", \"azureml-automl-runtime\": \"1.20.0\", \"azureml-automl-core\": \"1.20.0\", \"azureml-accel-models\": \"1.20.0\"}',\n  '_aml_system_scenario_identification': 'Remote.Parent',\n  'ClientType': 'SDK',\n  'environment_cpu_name': 'AzureML-AutoML',\n  'environment_cpu_label': 'prod',\n  'environment_gpu_name': 'AzureML-AutoML-GPU',\n  'environment_gpu_label': 'prod',\n  'root_attribution': 'automl',\n  'attribution': 'AutoML',\n  'Orchestrator': 'AutoML',\n  'CancelUri': 'https://southcentralus.experiments.azureml.net/jasmine/v1.0/subscriptions/9b72f9e6-56c5-4c16-991b-19c652994860/resourceGroups/aml-quickstarts-136840/providers/Microsoft.MachineLearningServices/workspaces/quick-starts-ws-136840/experimentids/907dd154-c6cf-40f9-914f-ff80dcdce6f5/cancel/AutoML_7764ea4d-b7a4-469f-848d-05fe5eedca4c',\n  'ClientSdkVersion': '1.20.0.post1',\n  'snapshotId': '00000000-0000-0000-0000-000000000000',\n  'SetupRunId': 'AutoML_7764ea4d-b7a4-469f-848d-05fe5eedca4c_setup',\n  'SetupRunContainerId': 'dcid.AutoML_7764ea4d-b7a4-469f-848d-05fe5eedca4c_setup',\n  'FeaturizationRunJsonPath': 'featurizer_container.json',\n  'FeaturizationRunId': 'AutoML_7764ea4d-b7a4-469f-848d-05fe5eedca4c_featurize',\n  'ProblemInfoJsonString': '{\"dataset_num_categorical\": 0, \"is_sparse\": false, \"subsampling\": false, \"dataset_classes\": 2, \"dataset_features\": 12, \"dataset_samples\": 299, \"single_frequency_class_detected\": false}',\n  'ModelExplainRunId': 'AutoML_7764ea4d-b7a4-469f-848d-05fe5eedca4c_ModelExplain'},\n 'inputDatasets': [{'dataset': {'id': '7e3cb069-e61b-4f46-b993-05b7f09534d8'}, 'consumptionDetails': {'type': 'RunInput', 'inputName': 'training_data', 'mechanism': 'Direct'}}],\n 'outputDatasets': [],\n 'logFiles': {},\n 'submittedBy': 'ODL_User 136840'}"
          },
          "metadata": {}
        }
      ],
      "execution_count": 14,
      "metadata": {
        "gather": {
          "logged": 1612192113319
        },
        "jupyter": {
          "outputs_hidden": false,
          "source_hidden": false
        },
        "nteract": {
          "transient": {
            "deleting": false
          }
        }
      }
    },
    {
      "cell_type": "markdown",
      "source": [
        "## Run Details\n",
        "\n",
        "OPTIONAL: Write about the different models trained and their performance. Why do you think some models did better than others?\n",
        "\n",
        "TODO: In the cell below, use the `RunDetails` widget to show the different experiments."
      ],
      "metadata": {}
    },
    {
      "cell_type": "code",
      "source": [
        "from azureml.widgets import RunDetails\n",
        "RunDetails(remote_run).show()"
      ],
      "outputs": [
        {
          "output_type": "display_data",
          "data": {
            "text/plain": "_AutoMLWidget(widget_settings={'childWidgetDisplay': 'popup', 'send_telemetry': False, 'log_level': 'INFO', 's…",
            "application/vnd.jupyter.widget-view+json": {
              "version_major": 2,
              "version_minor": 0,
              "model_id": "8ad5b53bcd4d4464bc03119cbca48d34"
            }
          },
          "metadata": {}
        },
        {
          "output_type": "display_data",
          "data": {
            "application/aml.mini.widget.v1": "{\"status\": \"Completed\", \"workbench_run_details_uri\": \"https://ml.azure.com/experiments/AutoML_heart/runs/AutoML_7764ea4d-b7a4-469f-848d-05fe5eedca4c?wsid=/subscriptions/9b72f9e6-56c5-4c16-991b-19c652994860/resourcegroups/aml-quickstarts-136840/workspaces/quick-starts-ws-136840\", \"run_id\": \"AutoML_7764ea4d-b7a4-469f-848d-05fe5eedca4c\", \"run_properties\": {\"run_id\": \"AutoML_7764ea4d-b7a4-469f-848d-05fe5eedca4c\", \"created_utc\": \"2021-02-01T14:51:49.374266Z\", \"properties\": {\"num_iterations\": \"1000\", \"training_type\": \"TrainFull\", \"acquisition_function\": \"EI\", \"primary_metric\": \"accuracy\", \"train_split\": \"0\", \"acquisition_parameter\": \"0\", \"num_cross_validation\": null, \"target\": \"auto-ml\", \"AMLSettingsJsonString\": \"{\\\"path\\\":null,\\\"name\\\":\\\"AutoML_heart\\\",\\\"subscription_id\\\":\\\"9b72f9e6-56c5-4c16-991b-19c652994860\\\",\\\"resource_group\\\":\\\"aml-quickstarts-136840\\\",\\\"workspace_name\\\":\\\"quick-starts-ws-136840\\\",\\\"region\\\":\\\"southcentralus\\\",\\\"compute_target\\\":\\\"auto-ml\\\",\\\"spark_service\\\":null,\\\"azure_service\\\":\\\"remote\\\",\\\"many_models\\\":false,\\\"pipeline_fetch_max_batch_size\\\":1,\\\"iterations\\\":1000,\\\"primary_metric\\\":\\\"accuracy\\\",\\\"task_type\\\":\\\"classification\\\",\\\"data_script\\\":null,\\\"validation_size\\\":0.0,\\\"n_cross_validations\\\":null,\\\"y_min\\\":null,\\\"y_max\\\":null,\\\"num_classes\\\":null,\\\"featurization\\\":\\\"auto\\\",\\\"_ignore_package_version_incompatibilities\\\":false,\\\"is_timeseries\\\":false,\\\"max_cores_per_iteration\\\":1,\\\"max_concurrent_iterations\\\":5,\\\"iteration_timeout_minutes\\\":null,\\\"mem_in_mb\\\":null,\\\"enforce_time_on_windows\\\":false,\\\"experiment_timeout_minutes\\\":15,\\\"experiment_exit_score\\\":null,\\\"whitelist_models\\\":null,\\\"blacklist_algos\\\":[\\\"TensorFlowLinearClassifier\\\",\\\"TensorFlowDNN\\\"],\\\"supported_models\\\":[\\\"SVM\\\",\\\"LinearSVM\\\",\\\"KNN\\\",\\\"TensorFlowDNN\\\",\\\"RandomForest\\\",\\\"XGBoostClassifier\\\",\\\"TensorFlowLinearClassifier\\\",\\\"BernoulliNaiveBayes\\\",\\\"LightGBM\\\",\\\"SGD\\\",\\\"DecisionTree\\\",\\\"LogisticRegression\\\",\\\"AveragedPerceptronClassifier\\\",\\\"GradientBoosting\\\",\\\"ExtremeRandomTrees\\\",\\\"MultinomialNaiveBayes\\\"],\\\"auto_blacklist\\\":true,\\\"blacklist_samples_reached\\\":false,\\\"exclude_nan_labels\\\":true,\\\"verbosity\\\":20,\\\"_debug_log\\\":\\\"azureml_automl.log\\\",\\\"show_warnings\\\":false,\\\"model_explainability\\\":true,\\\"service_url\\\":null,\\\"sdk_url\\\":null,\\\"sdk_packages\\\":null,\\\"enable_onnx_compatible_models\\\":false,\\\"enable_split_onnx_featurizer_estimator_models\\\":false,\\\"vm_type\\\":\\\"STANDARD_DS3_V2\\\",\\\"telemetry_verbosity\\\":20,\\\"send_telemetry\\\":true,\\\"enable_dnn\\\":false,\\\"scenario\\\":\\\"SDK-1.13.0\\\",\\\"environment_label\\\":null,\\\"force_text_dnn\\\":false,\\\"enable_feature_sweeping\\\":true,\\\"enable_early_stopping\\\":true,\\\"early_stopping_n_iters\\\":10,\\\"metrics\\\":null,\\\"enable_ensembling\\\":true,\\\"enable_stack_ensembling\\\":true,\\\"ensemble_iterations\\\":15,\\\"enable_tf\\\":false,\\\"enable_subsampling\\\":null,\\\"subsample_seed\\\":null,\\\"enable_nimbusml\\\":false,\\\"enable_streaming\\\":false,\\\"force_streaming\\\":false,\\\"track_child_runs\\\":true,\\\"allowed_private_models\\\":[],\\\"label_column_name\\\":\\\"DEATH_EVENT\\\",\\\"weight_column_name\\\":null,\\\"cv_split_column_names\\\":null,\\\"enable_local_managed\\\":false,\\\"_local_managed_run_id\\\":null,\\\"cost_mode\\\":1,\\\"lag_length\\\":0,\\\"metric_operation\\\":\\\"maximize\\\",\\\"preprocess\\\":true}\", \"DataPrepJsonString\": \"{\\\\\\\"training_data\\\\\\\": \\\\\\\"{\\\\\\\\\\\\\\\"blocks\\\\\\\\\\\\\\\": [{\\\\\\\\\\\\\\\"id\\\\\\\\\\\\\\\": \\\\\\\\\\\\\\\"b76641eb-3334-4a8e-bfb6-bbf1674cfa9e\\\\\\\\\\\\\\\", \\\\\\\\\\\\\\\"type\\\\\\\\\\\\\\\": \\\\\\\\\\\\\\\"Microsoft.DPrep.GetFilesBlock\\\\\\\\\\\\\\\", \\\\\\\\\\\\\\\"arguments\\\\\\\\\\\\\\\": {\\\\\\\\\\\\\\\"isArchive\\\\\\\\\\\\\\\": false, \\\\\\\\\\\\\\\"path\\\\\\\\\\\\\\\": {\\\\\\\\\\\\\\\"target\\\\\\\\\\\\\\\": 4, \\\\\\\\\\\\\\\"resourceDetails\\\\\\\\\\\\\\\": [{\\\\\\\\\\\\\\\"path\\\\\\\\\\\\\\\": \\\\\\\\\\\\\\\"https://raw.githubusercontent.com/zaza107-1/nd00333-capstone/master/heart_failure_clinical_records_dataset.csv\\\\\\\\\\\\\\\"}]}}, \\\\\\\\\\\\\\\"localData\\\\\\\\\\\\\\\": {}, \\\\\\\\\\\\\\\"isEnabled\\\\\\\\\\\\\\\": true, \\\\\\\\\\\\\\\"name\\\\\\\\\\\\\\\": null, \\\\\\\\\\\\\\\"annotation\\\\\\\\\\\\\\\": null}, {\\\\\\\\\\\\\\\"id\\\\\\\\\\\\\\\": \\\\\\\\\\\\\\\"110afc24-7c82-4f4a-af9d-3c283d1667db\\\\\\\\\\\\\\\", \\\\\\\\\\\\\\\"type\\\\\\\\\\\\\\\": \\\\\\\\\\\\\\\"Microsoft.DPrep.ParseDelimitedBlock\\\\\\\\\\\\\\\", \\\\\\\\\\\\\\\"arguments\\\\\\\\\\\\\\\": {\\\\\\\\\\\\\\\"columnHeadersMode\\\\\\\\\\\\\\\": 3, \\\\\\\\\\\\\\\"fileEncoding\\\\\\\\\\\\\\\": 0, \\\\\\\\\\\\\\\"handleQuotedLineBreaks\\\\\\\\\\\\\\\": false, \\\\\\\\\\\\\\\"preview\\\\\\\\\\\\\\\": false, \\\\\\\\\\\\\\\"separator\\\\\\\\\\\\\\\": \\\\\\\\\\\\\\\",\\\\\\\\\\\\\\\", \\\\\\\\\\\\\\\"skipRows\\\\\\\\\\\\\\\": 0, \\\\\\\\\\\\\\\"skipRowsMode\\\\\\\\\\\\\\\": 0}, \\\\\\\\\\\\\\\"localData\\\\\\\\\\\\\\\": {}, \\\\\\\\\\\\\\\"isEnabled\\\\\\\\\\\\\\\": true, \\\\\\\\\\\\\\\"name\\\\\\\\\\\\\\\": null, \\\\\\\\\\\\\\\"annotation\\\\\\\\\\\\\\\": null}, {\\\\\\\\\\\\\\\"id\\\\\\\\\\\\\\\": \\\\\\\\\\\\\\\"10252121-df17-466e-9ae1-1e8573455f36\\\\\\\\\\\\\\\", \\\\\\\\\\\\\\\"type\\\\\\\\\\\\\\\": \\\\\\\\\\\\\\\"Microsoft.DPrep.DropColumnsBlock\\\\\\\\\\\\\\\", \\\\\\\\\\\\\\\"arguments\\\\\\\\\\\\\\\": {\\\\\\\\\\\\\\\"columns\\\\\\\\\\\\\\\": {\\\\\\\\\\\\\\\"type\\\\\\\\\\\\\\\": 0, \\\\\\\\\\\\\\\"details\\\\\\\\\\\\\\\": {\\\\\\\\\\\\\\\"selectedColumns\\\\\\\\\\\\\\\": [\\\\\\\\\\\\\\\"Path\\\\\\\\\\\\\\\"]}}}, \\\\\\\\\\\\\\\"localData\\\\\\\\\\\\\\\": {}, \\\\\\\\\\\\\\\"isEnabled\\\\\\\\\\\\\\\": true, \\\\\\\\\\\\\\\"name\\\\\\\\\\\\\\\": null, \\\\\\\\\\\\\\\"annotation\\\\\\\\\\\\\\\": null}, {\\\\\\\\\\\\\\\"id\\\\\\\\\\\\\\\": \\\\\\\\\\\\\\\"17a40b50-0142-4f9d-80bb-88092999a4f2\\\\\\\\\\\\\\\", \\\\\\\\\\\\\\\"type\\\\\\\\\\\\\\\": \\\\\\\\\\\\\\\"Microsoft.DPrep.SetColumnTypesBlock\\\\\\\\\\\\\\\", \\\\\\\\\\\\\\\"arguments\\\\\\\\\\\\\\\": {\\\\\\\\\\\\\\\"columnConversion\\\\\\\\\\\\\\\": [{\\\\\\\\\\\\\\\"column\\\\\\\\\\\\\\\": {\\\\\\\\\\\\\\\"type\\\\\\\\\\\\\\\": 2, \\\\\\\\\\\\\\\"details\\\\\\\\\\\\\\\": {\\\\\\\\\\\\\\\"selectedColumn\\\\\\\\\\\\\\\": \\\\\\\\\\\\\\\"age\\\\\\\\\\\\\\\"}}, \\\\\\\\\\\\\\\"typeProperty\\\\\\\\\\\\\\\": 3}, {\\\\\\\\\\\\\\\"column\\\\\\\\\\\\\\\": {\\\\\\\\\\\\\\\"type\\\\\\\\\\\\\\\": 2, \\\\\\\\\\\\\\\"details\\\\\\\\\\\\\\\": {\\\\\\\\\\\\\\\"selectedColumn\\\\\\\\\\\\\\\": \\\\\\\\\\\\\\\"anaemia\\\\\\\\\\\\\\\"}}, \\\\\\\\\\\\\\\"typeProperty\\\\\\\\\\\\\\\": 2}, {\\\\\\\\\\\\\\\"column\\\\\\\\\\\\\\\": {\\\\\\\\\\\\\\\"type\\\\\\\\\\\\\\\": 2, \\\\\\\\\\\\\\\"details\\\\\\\\\\\\\\\": {\\\\\\\\\\\\\\\"selectedColumn\\\\\\\\\\\\\\\": \\\\\\\\\\\\\\\"creatinine_phosphokinase\\\\\\\\\\\\\\\"}}, \\\\\\\\\\\\\\\"typeProperty\\\\\\\\\\\\\\\": 2}, {\\\\\\\\\\\\\\\"column\\\\\\\\\\\\\\\": {\\\\\\\\\\\\\\\"type\\\\\\\\\\\\\\\": 2, \\\\\\\\\\\\\\\"details\\\\\\\\\\\\\\\": {\\\\\\\\\\\\\\\"selectedColumn\\\\\\\\\\\\\\\": \\\\\\\\\\\\\\\"diabetes\\\\\\\\\\\\\\\"}}, \\\\\\\\\\\\\\\"typeProperty\\\\\\\\\\\\\\\": 2}, {\\\\\\\\\\\\\\\"column\\\\\\\\\\\\\\\": {\\\\\\\\\\\\\\\"type\\\\\\\\\\\\\\\": 2, \\\\\\\\\\\\\\\"details\\\\\\\\\\\\\\\": {\\\\\\\\\\\\\\\"selectedColumn\\\\\\\\\\\\\\\": \\\\\\\\\\\\\\\"ejection_fraction\\\\\\\\\\\\\\\"}}, \\\\\\\\\\\\\\\"typeProperty\\\\\\\\\\\\\\\": 2}, {\\\\\\\\\\\\\\\"column\\\\\\\\\\\\\\\": {\\\\\\\\\\\\\\\"type\\\\\\\\\\\\\\\": 2, \\\\\\\\\\\\\\\"details\\\\\\\\\\\\\\\": {\\\\\\\\\\\\\\\"selectedColumn\\\\\\\\\\\\\\\": \\\\\\\\\\\\\\\"high_blood_pressure\\\\\\\\\\\\\\\"}}, \\\\\\\\\\\\\\\"typeProperty\\\\\\\\\\\\\\\": 2}, {\\\\\\\\\\\\\\\"column\\\\\\\\\\\\\\\": {\\\\\\\\\\\\\\\"type\\\\\\\\\\\\\\\": 2, \\\\\\\\\\\\\\\"details\\\\\\\\\\\\\\\": {\\\\\\\\\\\\\\\"selectedColumn\\\\\\\\\\\\\\\": \\\\\\\\\\\\\\\"platelets\\\\\\\\\\\\\\\"}}, \\\\\\\\\\\\\\\"typeProperty\\\\\\\\\\\\\\\": 3}, {\\\\\\\\\\\\\\\"column\\\\\\\\\\\\\\\": {\\\\\\\\\\\\\\\"type\\\\\\\\\\\\\\\": 2, \\\\\\\\\\\\\\\"details\\\\\\\\\\\\\\\": {\\\\\\\\\\\\\\\"selectedColumn\\\\\\\\\\\\\\\": \\\\\\\\\\\\\\\"serum_creatinine\\\\\\\\\\\\\\\"}}, \\\\\\\\\\\\\\\"typeProperty\\\\\\\\\\\\\\\": 3}, {\\\\\\\\\\\\\\\"column\\\\\\\\\\\\\\\": {\\\\\\\\\\\\\\\"type\\\\\\\\\\\\\\\": 2, \\\\\\\\\\\\\\\"details\\\\\\\\\\\\\\\": {\\\\\\\\\\\\\\\"selectedColumn\\\\\\\\\\\\\\\": \\\\\\\\\\\\\\\"serum_sodium\\\\\\\\\\\\\\\"}}, \\\\\\\\\\\\\\\"typeProperty\\\\\\\\\\\\\\\": 2}, {\\\\\\\\\\\\\\\"column\\\\\\\\\\\\\\\": {\\\\\\\\\\\\\\\"type\\\\\\\\\\\\\\\": 2, \\\\\\\\\\\\\\\"details\\\\\\\\\\\\\\\": {\\\\\\\\\\\\\\\"selectedColumn\\\\\\\\\\\\\\\": \\\\\\\\\\\\\\\"sex\\\\\\\\\\\\\\\"}}, \\\\\\\\\\\\\\\"typeProperty\\\\\\\\\\\\\\\": 2}, {\\\\\\\\\\\\\\\"column\\\\\\\\\\\\\\\": {\\\\\\\\\\\\\\\"type\\\\\\\\\\\\\\\": 2, \\\\\\\\\\\\\\\"details\\\\\\\\\\\\\\\": {\\\\\\\\\\\\\\\"selectedColumn\\\\\\\\\\\\\\\": \\\\\\\\\\\\\\\"smoking\\\\\\\\\\\\\\\"}}, \\\\\\\\\\\\\\\"typeProperty\\\\\\\\\\\\\\\": 2}, {\\\\\\\\\\\\\\\"column\\\\\\\\\\\\\\\": {\\\\\\\\\\\\\\\"type\\\\\\\\\\\\\\\": 2, \\\\\\\\\\\\\\\"details\\\\\\\\\\\\\\\": {\\\\\\\\\\\\\\\"selectedColumn\\\\\\\\\\\\\\\": \\\\\\\\\\\\\\\"time\\\\\\\\\\\\\\\"}}, \\\\\\\\\\\\\\\"typeProperty\\\\\\\\\\\\\\\": 2}, {\\\\\\\\\\\\\\\"column\\\\\\\\\\\\\\\": {\\\\\\\\\\\\\\\"type\\\\\\\\\\\\\\\": 2, \\\\\\\\\\\\\\\"details\\\\\\\\\\\\\\\": {\\\\\\\\\\\\\\\"selectedColumn\\\\\\\\\\\\\\\": \\\\\\\\\\\\\\\"DEATH_EVENT\\\\\\\\\\\\\\\"}}, \\\\\\\\\\\\\\\"typeProperty\\\\\\\\\\\\\\\": 2}]}, \\\\\\\\\\\\\\\"localData\\\\\\\\\\\\\\\": {}, \\\\\\\\\\\\\\\"isEnabled\\\\\\\\\\\\\\\": true, \\\\\\\\\\\\\\\"name\\\\\\\\\\\\\\\": null, \\\\\\\\\\\\\\\"annotation\\\\\\\\\\\\\\\": null}], \\\\\\\\\\\\\\\"inspectors\\\\\\\\\\\\\\\": [], \\\\\\\\\\\\\\\"meta\\\\\\\\\\\\\\\": {\\\\\\\\\\\\\\\"savedDatasetId\\\\\\\\\\\\\\\": \\\\\\\\\\\\\\\"7e3cb069-e61b-4f46-b993-05b7f09534d8\\\\\\\\\\\\\\\", \\\\\\\\\\\\\\\"datasetType\\\\\\\\\\\\\\\": \\\\\\\\\\\\\\\"tabular\\\\\\\\\\\\\\\", \\\\\\\\\\\\\\\"subscriptionId\\\\\\\\\\\\\\\": \\\\\\\\\\\\\\\"9b72f9e6-56c5-4c16-991b-19c652994860\\\\\\\\\\\\\\\", \\\\\\\\\\\\\\\"workspaceId\\\\\\\\\\\\\\\": \\\\\\\\\\\\\\\"5952c8ee-e8f6-428f-b474-17b67c18d46a\\\\\\\\\\\\\\\", \\\\\\\\\\\\\\\"workspaceLocation\\\\\\\\\\\\\\\": \\\\\\\\\\\\\\\"southcentralus\\\\\\\\\\\\\\\"}}\\\\\\\", \\\\\\\"activities\\\\\\\": 0}\", \"EnableSubsampling\": null, \"runTemplate\": \"AutoML\", \"azureml.runsource\": \"automl\", \"display_task_type\": \"classification\", \"dependencies_versions\": \"{\\\"azureml-widgets\\\": \\\"1.20.0\\\", \\\"azureml-train\\\": \\\"1.20.0\\\", \\\"azureml-train-restclients-hyperdrive\\\": \\\"1.20.0\\\", \\\"azureml-train-core\\\": \\\"1.20.0\\\", \\\"azureml-train-automl\\\": \\\"1.20.0\\\", \\\"azureml-train-automl-runtime\\\": \\\"1.20.0\\\", \\\"azureml-train-automl-client\\\": \\\"1.20.0\\\", \\\"azureml-tensorboard\\\": \\\"1.20.0\\\", \\\"azureml-telemetry\\\": \\\"1.20.0\\\", \\\"azureml-sdk\\\": \\\"1.20.0\\\", \\\"azureml-samples\\\": \\\"0+unknown\\\", \\\"azureml-pipeline\\\": \\\"1.20.0\\\", \\\"azureml-pipeline-steps\\\": \\\"1.20.0\\\", \\\"azureml-pipeline-core\\\": \\\"1.20.0\\\", \\\"azureml-opendatasets\\\": \\\"1.20.0\\\", \\\"azureml-model-management-sdk\\\": \\\"1.0.1b6.post1\\\", \\\"azureml-mlflow\\\": \\\"1.20.0.post1\\\", \\\"azureml-interpret\\\": \\\"1.20.0\\\", \\\"azureml-explain-model\\\": \\\"1.20.0\\\", \\\"azureml-defaults\\\": \\\"1.20.0\\\", \\\"azureml-dataset-runtime\\\": \\\"1.20.0\\\", \\\"azureml-dataprep\\\": \\\"2.7.3\\\", \\\"azureml-dataprep-rslex\\\": \\\"1.5.0\\\", \\\"azureml-dataprep-native\\\": \\\"27.0.0\\\", \\\"azureml-datadrift\\\": \\\"1.20.0\\\", \\\"azureml-core\\\": \\\"1.20.0\\\", \\\"azureml-contrib-services\\\": \\\"1.20.0\\\", \\\"azureml-contrib-server\\\": \\\"1.20.0\\\", \\\"azureml-contrib-reinforcementlearning\\\": \\\"1.20.0\\\", \\\"azureml-contrib-pipeline-steps\\\": \\\"1.20.0\\\", \\\"azureml-contrib-notebook\\\": \\\"1.20.0\\\", \\\"azureml-contrib-interpret\\\": \\\"1.20.0\\\", \\\"azureml-contrib-gbdt\\\": \\\"1.20.0\\\", \\\"azureml-contrib-fairness\\\": \\\"1.20.0\\\", \\\"azureml-contrib-dataset\\\": \\\"1.20.0\\\", \\\"azureml-cli-common\\\": \\\"1.20.0\\\", \\\"azureml-automl-runtime\\\": \\\"1.20.0\\\", \\\"azureml-automl-core\\\": \\\"1.20.0\\\", \\\"azureml-accel-models\\\": \\\"1.20.0\\\"}\", \"_aml_system_scenario_identification\": \"Remote.Parent\", \"ClientType\": \"SDK\", \"environment_cpu_name\": \"AzureML-AutoML\", \"environment_cpu_label\": \"prod\", \"environment_gpu_name\": \"AzureML-AutoML-GPU\", \"environment_gpu_label\": \"prod\", \"root_attribution\": \"automl\", \"attribution\": \"AutoML\", \"Orchestrator\": \"AutoML\", \"CancelUri\": \"https://southcentralus.experiments.azureml.net/jasmine/v1.0/subscriptions/9b72f9e6-56c5-4c16-991b-19c652994860/resourceGroups/aml-quickstarts-136840/providers/Microsoft.MachineLearningServices/workspaces/quick-starts-ws-136840/experimentids/907dd154-c6cf-40f9-914f-ff80dcdce6f5/cancel/AutoML_7764ea4d-b7a4-469f-848d-05fe5eedca4c\", \"ClientSdkVersion\": \"1.20.0.post1\", \"snapshotId\": \"00000000-0000-0000-0000-000000000000\", \"SetupRunId\": \"AutoML_7764ea4d-b7a4-469f-848d-05fe5eedca4c_setup\", \"SetupRunContainerId\": \"dcid.AutoML_7764ea4d-b7a4-469f-848d-05fe5eedca4c_setup\", \"FeaturizationRunJsonPath\": \"featurizer_container.json\", \"FeaturizationRunId\": \"AutoML_7764ea4d-b7a4-469f-848d-05fe5eedca4c_featurize\", \"ProblemInfoJsonString\": \"{\\\"dataset_num_categorical\\\": 0, \\\"is_sparse\\\": false, \\\"subsampling\\\": false, \\\"dataset_classes\\\": 2, \\\"dataset_features\\\": 12, \\\"dataset_samples\\\": 299, \\\"single_frequency_class_detected\\\": false}\", \"ModelExplainRunId\": \"AutoML_7764ea4d-b7a4-469f-848d-05fe5eedca4c_ModelExplain\"}, \"tags\": {\"model_explain_run\": \"best_run\", \"_aml_system_azureml.automlComponent\": \"AutoML\", \"pipeline_id\": \"\", \"score\": \"\", \"predicted_cost\": \"\", \"fit_time\": \"\", \"training_percent\": \"\", \"iteration\": \"\", \"run_preprocessor\": \"\", \"run_algorithm\": \"\", \"dynamic_whitelisting_iterations\": \"<25>;<30>;<35>;\", \"automl_best_child_run_id\": \"AutoML_7764ea4d-b7a4-469f-848d-05fe5eedca4c_38\", \"model_explain_best_run_child_id\": \"AutoML_7764ea4d-b7a4-469f-848d-05fe5eedca4c_38\"}, \"end_time_utc\": \"2021-02-01T15:08:28.840792Z\", \"status\": \"Completed\", \"log_files\": {}, \"log_groups\": [], \"run_duration\": \"0:16:39\"}, \"child_runs\": [{\"run_id\": \"AutoML_7764ea4d-b7a4-469f-848d-05fe5eedca4c_1\", \"run_number\": 5, \"metric\": null, \"status\": \"Completed\", \"run_type\": \"azureml.scriptrun\", \"training_percent\": \"100\", \"start_time\": \"2021-02-01T14:57:16.797874Z\", \"end_time\": \"2021-02-01T14:58:07.616726Z\", \"created_time\": \"2021-02-01T14:57:05.845915Z\", \"created_time_dt\": \"2021-02-01T14:57:05.845915Z\", \"duration\": \"0:01:01\", \"iteration\": \"1\", \"goal\": \"accuracy_max\", \"run_name\": \"MaxAbsScaler, XGBoostClassifier\", \"run_properties\": \"copy=True\", \"primary_metric\": 0.83586207, \"best_metric\": 0.83597701}, {\"run_id\": \"AutoML_7764ea4d-b7a4-469f-848d-05fe5eedca4c_2\", \"run_number\": 6, \"metric\": null, \"status\": \"Completed\", \"run_type\": \"azureml.scriptrun\", \"training_percent\": \"100\", \"start_time\": \"2021-02-01T14:57:18.936187Z\", \"end_time\": \"2021-02-01T14:58:09.859195Z\", \"created_time\": \"2021-02-01T14:57:05.848307Z\", \"created_time_dt\": \"2021-02-01T14:57:05.848307Z\", \"duration\": \"0:01:04\", \"iteration\": \"2\", \"goal\": \"accuracy_max\", \"run_name\": \"MinMaxScaler, RandomForest\", \"run_properties\": \"copy=True, feature_range=(0, 1\", \"primary_metric\": 0.83931034, \"best_metric\": 0.83931034}, {\"run_id\": \"AutoML_7764ea4d-b7a4-469f-848d-05fe5eedca4c_0\", \"run_number\": 7, \"metric\": null, \"status\": \"Completed\", \"run_type\": \"azureml.scriptrun\", \"training_percent\": \"100\", \"start_time\": \"2021-02-01T14:57:19.148627Z\", \"end_time\": \"2021-02-01T14:58:12.778184Z\", \"created_time\": \"2021-02-01T14:57:05.888151Z\", \"created_time_dt\": \"2021-02-01T14:57:05.888151Z\", \"duration\": \"0:01:06\", \"iteration\": \"0\", \"goal\": \"accuracy_max\", \"run_name\": \"MaxAbsScaler, LightGBM\", \"run_properties\": \"copy=True\", \"primary_metric\": 0.83597701, \"best_metric\": 0.83597701}, {\"run_id\": \"AutoML_7764ea4d-b7a4-469f-848d-05fe5eedca4c_3\", \"run_number\": 8, \"metric\": null, \"status\": \"Completed\", \"run_type\": \"azureml.scriptrun\", \"training_percent\": \"100\", \"start_time\": \"2021-02-01T14:57:19.380629Z\", \"end_time\": \"2021-02-01T14:58:10.119596Z\", \"created_time\": \"2021-02-01T14:57:05.900034Z\", \"created_time_dt\": \"2021-02-01T14:57:05.900034Z\", \"duration\": \"0:01:04\", \"iteration\": \"3\", \"goal\": \"accuracy_max\", \"run_name\": \"MinMaxScaler, RandomForest\", \"run_properties\": \"copy=True, feature_range=(0, 1\", \"primary_metric\": 0.83264368, \"best_metric\": 0.83931034}, {\"run_id\": \"AutoML_7764ea4d-b7a4-469f-848d-05fe5eedca4c_4\", \"run_number\": 9, \"metric\": null, \"status\": \"Completed\", \"run_type\": \"azureml.scriptrun\", \"training_percent\": \"100\", \"start_time\": \"2021-02-01T14:57:18.668047Z\", \"end_time\": \"2021-02-01T14:58:12.463241Z\", \"created_time\": \"2021-02-01T14:57:05.964034Z\", \"created_time_dt\": \"2021-02-01T14:57:05.964034Z\", \"duration\": \"0:01:06\", \"iteration\": \"4\", \"goal\": \"accuracy_max\", \"run_name\": \"MinMaxScaler, RandomForest\", \"run_properties\": \"copy=True, feature_range=(0, 1\", \"primary_metric\": 0.82586207, \"best_metric\": 0.83931034}, {\"run_id\": \"AutoML_7764ea4d-b7a4-469f-848d-05fe5eedca4c_5\", \"run_number\": 10, \"metric\": null, \"status\": \"Completed\", \"run_type\": \"azureml.scriptrun\", \"training_percent\": \"100\", \"start_time\": \"2021-02-01T14:58:23.949837Z\", \"end_time\": \"2021-02-01T14:59:23.35794Z\", \"created_time\": \"2021-02-01T14:58:11.308522Z\", \"created_time_dt\": \"2021-02-01T14:58:11.308522Z\", \"duration\": \"0:01:12\", \"iteration\": \"5\", \"goal\": \"accuracy_max\", \"run_name\": \"SparseNormalizer, XGBoostClassifier\", \"run_properties\": \"<azureml.automl.runtime.shared.model_wrappers.SparseNormalizer object at 0x7fc1bcadf630\", \"primary_metric\": 0.81597701, \"best_metric\": 0.83931034}, {\"run_id\": \"AutoML_7764ea4d-b7a4-469f-848d-05fe5eedca4c_6\", \"run_number\": 11, \"metric\": null, \"status\": \"Completed\", \"run_type\": \"azureml.scriptrun\", \"training_percent\": \"100\", \"start_time\": \"2021-02-01T14:58:32.971073Z\", \"end_time\": \"2021-02-01T14:59:25.158942Z\", \"created_time\": \"2021-02-01T14:58:19.740111Z\", \"created_time_dt\": \"2021-02-01T14:58:19.740111Z\", \"duration\": \"0:01:05\", \"iteration\": \"6\", \"goal\": \"accuracy_max\", \"run_name\": \"MinMaxScaler, SVM\", \"run_properties\": \"copy=True, feature_range=(0, 1\", \"primary_metric\": 0.7191954, \"best_metric\": 0.83931034}, {\"run_id\": \"AutoML_7764ea4d-b7a4-469f-848d-05fe5eedca4c_7\", \"run_number\": 12, \"metric\": null, \"status\": \"Completed\", \"run_type\": \"azureml.scriptrun\", \"training_percent\": \"100\", \"start_time\": \"2021-02-01T14:58:30.699821Z\", \"end_time\": \"2021-02-01T14:59:30.501962Z\", \"created_time\": \"2021-02-01T14:58:19.772617Z\", \"created_time_dt\": \"2021-02-01T14:58:19.772617Z\", \"duration\": \"0:01:10\", \"iteration\": \"7\", \"goal\": \"accuracy_max\", \"run_name\": \"SparseNormalizer, XGBoostClassifier\", \"run_properties\": \"<azureml.automl.runtime.shared.model_wrappers.SparseNormalizer object at 0x7f61603e0e80\", \"primary_metric\": 0.82287356, \"best_metric\": 0.83931034}, {\"run_id\": \"AutoML_7764ea4d-b7a4-469f-848d-05fe5eedca4c_8\", \"run_number\": 13, \"metric\": null, \"status\": \"Completed\", \"run_type\": \"azureml.scriptrun\", \"training_percent\": \"100\", \"start_time\": \"2021-02-01T14:58:30.884698Z\", \"end_time\": \"2021-02-01T14:59:24.03323Z\", \"created_time\": \"2021-02-01T14:58:19.911882Z\", \"created_time_dt\": \"2021-02-01T14:58:19.911882Z\", \"duration\": \"0:01:04\", \"iteration\": \"8\", \"goal\": \"accuracy_max\", \"run_name\": \"SparseNormalizer, XGBoostClassifier\", \"run_properties\": \"<azureml.automl.runtime.shared.model_wrappers.SparseNormalizer object at 0x7f9a82f30240\", \"primary_metric\": 0.83275862, \"best_metric\": 0.83931034}, {\"run_id\": \"AutoML_7764ea4d-b7a4-469f-848d-05fe5eedca4c_9\", \"run_number\": 14, \"metric\": null, \"status\": \"Completed\", \"run_type\": \"azureml.scriptrun\", \"training_percent\": \"100\", \"start_time\": \"2021-02-01T14:58:30.942175Z\", \"end_time\": \"2021-02-01T14:59:24.98703Z\", \"created_time\": \"2021-02-01T14:58:19.907576Z\", \"created_time_dt\": \"2021-02-01T14:58:19.907576Z\", \"duration\": \"0:01:05\", \"iteration\": \"9\", \"goal\": \"accuracy_max\", \"run_name\": \"SparseNormalizer, XGBoostClassifier\", \"run_properties\": \"<azureml.automl.runtime.shared.model_wrappers.SparseNormalizer object at 0x7fcb01498f28\", \"primary_metric\": 0.83931034, \"best_metric\": 0.83931034}, {\"run_id\": \"AutoML_7764ea4d-b7a4-469f-848d-05fe5eedca4c_10\", \"run_number\": 15, \"metric\": null, \"status\": \"Completed\", \"run_type\": \"azureml.scriptrun\", \"training_percent\": \"100\", \"start_time\": \"2021-02-01T14:59:40.135567Z\", \"end_time\": \"2021-02-01T15:00:41.185681Z\", \"created_time\": \"2021-02-01T14:59:26.746405Z\", \"created_time_dt\": \"2021-02-01T14:59:26.746405Z\", \"duration\": \"0:01:14\", \"iteration\": \"10\", \"goal\": \"accuracy_max\", \"run_name\": \"RobustScaler, SVM\", \"run_properties\": \"copy=True, quantile_range=[10, 90], with_centering=True,\\n             with_scaling=True\", \"primary_metric\": 0.71218391, \"best_metric\": 0.83931034}, {\"run_id\": \"AutoML_7764ea4d-b7a4-469f-848d-05fe5eedca4c_11\", \"run_number\": 16, \"metric\": null, \"status\": \"Completed\", \"run_type\": \"azureml.scriptrun\", \"training_percent\": \"100\", \"start_time\": \"2021-02-01T14:59:40.647047Z\", \"end_time\": \"2021-02-01T15:00:38.631863Z\", \"created_time\": \"2021-02-01T14:59:26.749846Z\", \"created_time_dt\": \"2021-02-01T14:59:26.749846Z\", \"duration\": \"0:01:11\", \"iteration\": \"11\", \"goal\": \"accuracy_max\", \"run_name\": \"RobustScaler, ExtremeRandomTrees\", \"run_properties\": \"copy=True, quantile_range=[10, 90], with_centering=True,\\n             with_scaling=False\", \"primary_metric\": 0.84252874, \"best_metric\": 0.84252874}, {\"run_id\": \"AutoML_7764ea4d-b7a4-469f-848d-05fe5eedca4c_12\", \"run_number\": 17, \"metric\": null, \"status\": \"Completed\", \"run_type\": \"azureml.scriptrun\", \"training_percent\": \"100\", \"start_time\": \"2021-02-01T14:59:44.03363Z\", \"end_time\": \"2021-02-01T15:00:41.411074Z\", \"created_time\": \"2021-02-01T14:59:32.498507Z\", \"created_time_dt\": \"2021-02-01T14:59:32.498507Z\", \"duration\": \"0:01:08\", \"iteration\": \"12\", \"goal\": \"accuracy_max\", \"run_name\": \"MaxAbsScaler, LightGBM\", \"run_properties\": \"copy=True\", \"primary_metric\": 0.75931034, \"best_metric\": 0.84252874}, {\"run_id\": \"AutoML_7764ea4d-b7a4-469f-848d-05fe5eedca4c_14\", \"run_number\": 18, \"metric\": null, \"status\": \"Completed\", \"run_type\": \"azureml.scriptrun\", \"training_percent\": \"100\", \"start_time\": \"2021-02-01T14:59:44.434185Z\", \"end_time\": \"2021-02-01T15:00:51.785756Z\", \"created_time\": \"2021-02-01T14:59:32.626007Z\", \"created_time_dt\": \"2021-02-01T14:59:32.626007Z\", \"duration\": \"0:01:19\", \"iteration\": \"14\", \"goal\": \"accuracy_max\", \"run_name\": \"MaxAbsScaler, LightGBM\", \"run_properties\": \"copy=True\", \"primary_metric\": 0.82931034, \"best_metric\": 0.84252874}, {\"run_id\": \"AutoML_7764ea4d-b7a4-469f-848d-05fe5eedca4c_13\", \"run_number\": 19, \"metric\": null, \"status\": \"Completed\", \"run_type\": \"azureml.scriptrun\", \"training_percent\": \"100\", \"start_time\": \"2021-02-01T14:59:43.205607Z\", \"end_time\": \"2021-02-01T15:00:39.357972Z\", \"created_time\": \"2021-02-01T14:59:32.643692Z\", \"created_time_dt\": \"2021-02-01T14:59:32.643692Z\", \"duration\": \"0:01:06\", \"iteration\": \"13\", \"goal\": \"accuracy_max\", \"run_name\": \"StandardScalerWrapper, LightGBM\", \"run_properties\": \"<azureml.automl.runtime.shared.model_wrappers.StandardScalerWrapper object at 0x7f34cd726c88\", \"primary_metric\": 0.81597701, \"best_metric\": 0.84252874}, {\"run_id\": \"AutoML_7764ea4d-b7a4-469f-848d-05fe5eedca4c_15\", \"run_number\": 20, \"metric\": null, \"status\": \"Completed\", \"run_type\": \"azureml.scriptrun\", \"training_percent\": \"100\", \"start_time\": \"2021-02-01T15:00:53.423812Z\", \"end_time\": \"2021-02-01T15:01:47.205818Z\", \"created_time\": \"2021-02-01T15:00:42.594584Z\", \"created_time_dt\": \"2021-02-01T15:00:42.594584Z\", \"duration\": \"0:01:04\", \"iteration\": \"15\", \"goal\": \"accuracy_max\", \"run_name\": \"StandardScalerWrapper, LightGBM\", \"run_properties\": \"<azureml.automl.runtime.shared.model_wrappers.StandardScalerWrapper object at 0x7f6f521feb70\", \"primary_metric\": 0.84252874, \"best_metric\": 0.84252874}, {\"run_id\": \"AutoML_7764ea4d-b7a4-469f-848d-05fe5eedca4c_16\", \"run_number\": 21, \"metric\": null, \"status\": \"Completed\", \"run_type\": \"azureml.scriptrun\", \"training_percent\": \"100\", \"start_time\": \"2021-02-01T15:00:57.317941Z\", \"end_time\": \"2021-02-01T15:01:55.25647Z\", \"created_time\": \"2021-02-01T15:00:42.695211Z\", \"created_time_dt\": \"2021-02-01T15:00:42.695211Z\", \"duration\": \"0:01:12\", \"iteration\": \"16\", \"goal\": \"accuracy_max\", \"run_name\": \"StandardScalerWrapper, LightGBM\", \"run_properties\": \"<azureml.automl.runtime.shared.model_wrappers.StandardScalerWrapper object at 0x7fb3eca51208\", \"primary_metric\": 0.8491954, \"best_metric\": 0.8491954}, {\"run_id\": \"AutoML_7764ea4d-b7a4-469f-848d-05fe5eedca4c_17\", \"run_number\": 22, \"metric\": null, \"status\": \"Completed\", \"run_type\": \"azureml.scriptrun\", \"training_percent\": \"100\", \"start_time\": \"2021-02-01T15:00:59.714003Z\", \"end_time\": \"2021-02-01T15:01:54.159612Z\", \"created_time\": \"2021-02-01T15:00:49.989018Z\", \"created_time_dt\": \"2021-02-01T15:00:49.989018Z\", \"duration\": \"0:01:04\", \"iteration\": \"17\", \"goal\": \"accuracy_max\", \"run_name\": \"SparseNormalizer, XGBoostClassifier\", \"run_properties\": \"<azureml.automl.runtime.shared.model_wrappers.SparseNormalizer object at 0x7f31cc620cc0\", \"primary_metric\": 0.8362069, \"best_metric\": 0.8491954}, {\"run_id\": \"AutoML_7764ea4d-b7a4-469f-848d-05fe5eedca4c_18\", \"run_number\": 23, \"metric\": null, \"status\": \"Completed\", \"run_type\": \"azureml.scriptrun\", \"training_percent\": \"100\", \"start_time\": \"2021-02-01T15:01:00.173543Z\", \"end_time\": \"2021-02-01T15:01:50.973183Z\", \"created_time\": \"2021-02-01T15:00:50.010648Z\", \"created_time_dt\": \"2021-02-01T15:00:50.010648Z\", \"duration\": \"0:01:00\", \"iteration\": \"18\", \"goal\": \"accuracy_max\", \"run_name\": \"MinMaxScaler, LightGBM\", \"run_properties\": \"copy=True, feature_range=(0, 1\", \"primary_metric\": 0.84252874, \"best_metric\": 0.8491954}, {\"run_id\": \"AutoML_7764ea4d-b7a4-469f-848d-05fe5eedca4c_19\", \"run_number\": 24, \"metric\": null, \"status\": \"Completed\", \"run_type\": \"azureml.scriptrun\", \"training_percent\": \"100\", \"start_time\": \"2021-02-01T15:01:05.527366Z\", \"end_time\": \"2021-02-01T15:02:01.802478Z\", \"created_time\": \"2021-02-01T15:00:54.793497Z\", \"created_time_dt\": \"2021-02-01T15:00:54.793497Z\", \"duration\": \"0:01:07\", \"iteration\": \"19\", \"goal\": \"accuracy_max\", \"run_name\": \"SparseNormalizer, XGBoostClassifier\", \"run_properties\": \"<azureml.automl.runtime.shared.model_wrappers.SparseNormalizer object at 0x7f0eb049cf60\", \"primary_metric\": 0.85942529, \"best_metric\": 0.85942529}, {\"run_id\": \"AutoML_7764ea4d-b7a4-469f-848d-05fe5eedca4c_20\", \"run_number\": 25, \"metric\": null, \"status\": \"Completed\", \"run_type\": \"azureml.scriptrun\", \"training_percent\": \"100\", \"start_time\": \"2021-02-01T15:02:05.007496Z\", \"end_time\": \"2021-02-01T15:03:00.24745Z\", \"created_time\": \"2021-02-01T15:01:49.448232Z\", \"created_time_dt\": \"2021-02-01T15:01:49.448232Z\", \"duration\": \"0:01:10\", \"iteration\": \"20\", \"goal\": \"accuracy_max\", \"run_name\": \"MinMaxScaler, LightGBM\", \"run_properties\": \"copy=True, feature_range=(0, 1\", \"primary_metric\": 0.83275862, \"best_metric\": 0.85942529}, {\"run_id\": \"AutoML_7764ea4d-b7a4-469f-848d-05fe5eedca4c_21\", \"run_number\": 26, \"metric\": null, \"status\": \"Completed\", \"run_type\": \"azureml.scriptrun\", \"training_percent\": \"100\", \"start_time\": \"2021-02-01T15:02:05.012836Z\", \"end_time\": \"2021-02-01T15:03:07.256999Z\", \"created_time\": \"2021-02-01T15:01:54.165559Z\", \"created_time_dt\": \"2021-02-01T15:01:54.165559Z\", \"duration\": \"0:01:13\", \"iteration\": \"21\", \"goal\": \"accuracy_max\", \"run_name\": \"StandardScalerWrapper, LightGBM\", \"run_properties\": \"<azureml.automl.runtime.shared.model_wrappers.StandardScalerWrapper object at 0x7f62e533bef0\", \"primary_metric\": 0.83586207, \"best_metric\": 0.85942529}, {\"run_id\": \"AutoML_7764ea4d-b7a4-469f-848d-05fe5eedca4c_22\", \"run_number\": 27, \"metric\": null, \"status\": \"Completed\", \"run_type\": \"azureml.scriptrun\", \"training_percent\": \"100\", \"start_time\": \"2021-02-01T15:02:10.440863Z\", \"end_time\": \"2021-02-01T15:03:00.62984Z\", \"created_time\": \"2021-02-01T15:02:00.161Z\", \"created_time_dt\": \"2021-02-01T15:02:00.161Z\", \"duration\": \"0:01:00\", \"iteration\": \"22\", \"goal\": \"accuracy_max\", \"run_name\": \"MaxAbsScaler, ExtremeRandomTrees\", \"run_properties\": \"copy=True\", \"primary_metric\": 0.85287356, \"best_metric\": 0.85942529}, {\"run_id\": \"AutoML_7764ea4d-b7a4-469f-848d-05fe5eedca4c_23\", \"run_number\": 28, \"metric\": null, \"status\": \"Completed\", \"run_type\": \"azureml.scriptrun\", \"training_percent\": \"100\", \"start_time\": \"2021-02-01T15:02:18.687472Z\", \"end_time\": \"2021-02-01T15:03:15.100761Z\", \"created_time\": \"2021-02-01T15:02:00.204506Z\", \"created_time_dt\": \"2021-02-01T15:02:00.204506Z\", \"duration\": \"0:01:14\", \"iteration\": \"23\", \"goal\": \"accuracy_max\", \"run_name\": \"StandardScalerWrapper, LightGBM\", \"run_properties\": \"<azureml.automl.runtime.shared.model_wrappers.StandardScalerWrapper object at 0x7fecf15c20f0\", \"primary_metric\": 0.83931034, \"best_metric\": 0.85942529}, {\"run_id\": \"AutoML_7764ea4d-b7a4-469f-848d-05fe5eedca4c_24\", \"run_number\": 29, \"metric\": null, \"status\": \"Completed\", \"run_type\": \"azureml.scriptrun\", \"training_percent\": \"100\", \"start_time\": \"2021-02-01T15:02:24.661315Z\", \"end_time\": \"2021-02-01T15:03:14.836637Z\", \"created_time\": \"2021-02-01T15:02:13.373601Z\", \"created_time_dt\": \"2021-02-01T15:02:13.373601Z\", \"duration\": \"0:01:01\", \"iteration\": \"24\", \"goal\": \"accuracy_max\", \"run_name\": \"MinMaxScaler, LightGBM\", \"run_properties\": \"copy=True, feature_range=(0, 1\", \"primary_metric\": 0.84264368, \"best_metric\": 0.85942529}, {\"run_id\": \"AutoML_7764ea4d-b7a4-469f-848d-05fe5eedca4c_25\", \"run_number\": 30, \"metric\": null, \"status\": \"Completed\", \"run_type\": \"azureml.scriptrun\", \"training_percent\": \"100\", \"start_time\": \"2021-02-01T15:03:16.765756Z\", \"end_time\": \"2021-02-01T15:04:13.239409Z\", \"created_time\": \"2021-02-01T15:03:04.438481Z\", \"created_time_dt\": \"2021-02-01T15:03:04.438481Z\", \"duration\": \"0:01:08\", \"iteration\": \"25\", \"goal\": \"accuracy_max\", \"run_name\": \"SparseNormalizer, XGBoostClassifier\", \"run_properties\": \"<azureml.automl.runtime.shared.model_wrappers.SparseNormalizer object at 0x7f0c17f18470\", \"primary_metric\": 0.6791954, \"best_metric\": 0.85942529}, {\"run_id\": \"AutoML_7764ea4d-b7a4-469f-848d-05fe5eedca4c_26\", \"run_number\": 31, \"metric\": null, \"status\": \"Completed\", \"run_type\": \"azureml.scriptrun\", \"training_percent\": \"100\", \"start_time\": \"2021-02-01T15:03:14.846781Z\", \"end_time\": \"2021-02-01T15:04:08.36288Z\", \"created_time\": \"2021-02-01T15:03:04.598786Z\", \"created_time_dt\": \"2021-02-01T15:03:04.598786Z\", \"duration\": \"0:01:03\", \"iteration\": \"26\", \"goal\": \"accuracy_max\", \"run_name\": \"SparseNormalizer, XGBoostClassifier\", \"run_properties\": \"<azureml.automl.runtime.shared.model_wrappers.SparseNormalizer object at 0x7f8164e29240\", \"primary_metric\": 0.84954023, \"best_metric\": 0.85942529}, {\"run_id\": \"AutoML_7764ea4d-b7a4-469f-848d-05fe5eedca4c_27\", \"run_number\": 32, \"metric\": null, \"status\": \"Completed\", \"run_type\": \"azureml.scriptrun\", \"training_percent\": \"100\", \"start_time\": \"2021-02-01T15:03:22.188699Z\", \"end_time\": \"2021-02-01T15:04:12.898471Z\", \"created_time\": \"2021-02-01T15:03:10.328601Z\", \"created_time_dt\": \"2021-02-01T15:03:10.328601Z\", \"duration\": \"0:01:02\", \"iteration\": \"27\", \"goal\": \"accuracy_max\", \"run_name\": \"SparseNormalizer, XGBoostClassifier\", \"run_properties\": \"<azureml.automl.runtime.shared.model_wrappers.SparseNormalizer object at 0x7f7a14664978\", \"primary_metric\": 0.83287356, \"best_metric\": 0.85942529}, {\"run_id\": \"AutoML_7764ea4d-b7a4-469f-848d-05fe5eedca4c_28\", \"run_number\": 33, \"metric\": null, \"status\": \"Completed\", \"run_type\": \"azureml.scriptrun\", \"training_percent\": \"100\", \"start_time\": \"2021-02-01T15:03:29.415296Z\", \"end_time\": \"2021-02-01T15:05:01.575329Z\", \"created_time\": \"2021-02-01T15:03:17.288517Z\", \"created_time_dt\": \"2021-02-01T15:03:17.288517Z\", \"duration\": \"0:01:44\", \"iteration\": \"28\", \"goal\": \"accuracy_max\", \"run_name\": \"MaxAbsScaler, LightGBM\", \"run_properties\": \"copy=True\", \"primary_metric\": 0.77574713, \"best_metric\": 0.85942529}, {\"run_id\": \"AutoML_7764ea4d-b7a4-469f-848d-05fe5eedca4c_29\", \"run_number\": 34, \"metric\": null, \"status\": \"Completed\", \"run_type\": \"azureml.scriptrun\", \"training_percent\": \"100\", \"start_time\": \"2021-02-01T15:03:30.956161Z\", \"end_time\": \"2021-02-01T15:04:19.597242Z\", \"created_time\": \"2021-02-01T15:03:17.407568Z\", \"created_time_dt\": \"2021-02-01T15:03:17.407568Z\", \"duration\": \"0:01:02\", \"iteration\": \"29\", \"goal\": \"accuracy_max\", \"run_name\": \"SparseNormalizer, XGBoostClassifier\", \"run_properties\": \"<azureml.automl.runtime.shared.model_wrappers.SparseNormalizer object at 0x7f5818102278\", \"primary_metric\": 0.81632184, \"best_metric\": 0.85942529}, {\"run_id\": \"AutoML_7764ea4d-b7a4-469f-848d-05fe5eedca4c_30\", \"run_number\": 35, \"metric\": null, \"status\": \"Completed\", \"run_type\": \"azureml.scriptrun\", \"training_percent\": \"100\", \"start_time\": \"2021-02-01T15:04:28.534544Z\", \"end_time\": \"2021-02-01T15:05:34.177389Z\", \"created_time\": \"2021-02-01T15:04:11.855045Z\", \"created_time_dt\": \"2021-02-01T15:04:11.855045Z\", \"duration\": \"0:01:22\", \"iteration\": \"30\", \"goal\": \"accuracy_max\", \"run_name\": \"SparseNormalizer, XGBoostClassifier\", \"run_properties\": \"<azureml.automl.runtime.shared.model_wrappers.SparseNormalizer object at 0x7fdd885235c0\", \"primary_metric\": 0.6791954, \"best_metric\": 0.85942529}, {\"run_id\": \"AutoML_7764ea4d-b7a4-469f-848d-05fe5eedca4c_31\", \"run_number\": 36, \"metric\": null, \"status\": \"Completed\", \"run_type\": \"azureml.scriptrun\", \"training_percent\": \"100\", \"start_time\": \"2021-02-01T15:04:27.406603Z\", \"end_time\": \"2021-02-01T15:05:27.294779Z\", \"created_time\": \"2021-02-01T15:04:17.309349Z\", \"created_time_dt\": \"2021-02-01T15:04:17.309349Z\", \"duration\": \"0:01:09\", \"iteration\": \"31\", \"goal\": \"accuracy_max\", \"run_name\": \"SparseNormalizer, XGBoostClassifier\", \"run_properties\": \"<azureml.automl.runtime.shared.model_wrappers.SparseNormalizer object at 0x7f8960328320\", \"primary_metric\": 0.83954023, \"best_metric\": 0.85942529}, {\"run_id\": \"AutoML_7764ea4d-b7a4-469f-848d-05fe5eedca4c_32\", \"run_number\": 37, \"metric\": null, \"status\": \"Completed\", \"run_type\": \"azureml.scriptrun\", \"training_percent\": \"100\", \"start_time\": \"2021-02-01T15:04:29.952381Z\", \"end_time\": \"2021-02-01T15:05:46.040907Z\", \"created_time\": \"2021-02-01T15:04:17.463976Z\", \"created_time_dt\": \"2021-02-01T15:04:17.463976Z\", \"duration\": \"0:01:28\", \"iteration\": \"32\", \"goal\": \"accuracy_max\", \"run_name\": \"MinMaxScaler, GradientBoosting\", \"run_properties\": \"copy=True, feature_range=(0, 1\", \"primary_metric\": 0.83597701, \"best_metric\": 0.85942529}, {\"run_id\": \"AutoML_7764ea4d-b7a4-469f-848d-05fe5eedca4c_33\", \"run_number\": 38, \"metric\": null, \"status\": \"Completed\", \"run_type\": \"azureml.scriptrun\", \"training_percent\": \"100\", \"start_time\": \"2021-02-01T15:04:36.152327Z\", \"end_time\": \"2021-02-01T15:05:33.559298Z\", \"created_time\": \"2021-02-01T15:04:25.013157Z\", \"created_time_dt\": \"2021-02-01T15:04:25.013157Z\", \"duration\": \"0:01:08\", \"iteration\": \"33\", \"goal\": \"accuracy_max\", \"run_name\": \"MinMaxScaler, LightGBM\", \"run_properties\": \"copy=True, feature_range=(0, 1\", \"primary_metric\": 0.82597701, \"best_metric\": 0.85942529}, {\"run_id\": \"AutoML_7764ea4d-b7a4-469f-848d-05fe5eedca4c_34\", \"run_number\": 39, \"metric\": null, \"status\": \"Canceled\", \"run_type\": \"azureml.scriptrun\", \"training_percent\": \"100\", \"start_time\": \"2021-02-01T15:05:16.624258Z\", \"end_time\": \"2021-02-01T15:05:53.984663Z\", \"created_time\": \"2021-02-01T15:05:04.076133Z\", \"created_time_dt\": \"2021-02-01T15:05:04.076133Z\", \"duration\": \"0:00:49\", \"iteration\": \"34\", \"goal\": \"accuracy_max\", \"run_name\": \"MaxAbsScaler, LightGBM\", \"run_properties\": \"copy=True\", \"primary_metric\": 0.79597701, \"best_metric\": 0.85942529}, {\"run_id\": \"AutoML_7764ea4d-b7a4-469f-848d-05fe5eedca4c_35\", \"run_number\": 40, \"metric\": null, \"status\": \"Canceled\", \"run_type\": \"azureml.scriptrun\", \"training_percent\": \"100\", \"start_time\": \"2021-02-01T15:05:44.031812Z\", \"end_time\": \"2021-02-01T15:05:53.95466Z\", \"created_time\": \"2021-02-01T15:05:31.004502Z\", \"created_time_dt\": \"2021-02-01T15:05:31.004502Z\", \"duration\": \"0:00:22\", \"iteration\": \"35\", \"goal\": null, \"run_name\": \"Canceled\", \"run_properties\": null}, {\"run_id\": \"AutoML_7764ea4d-b7a4-469f-848d-05fe5eedca4c_36\", \"run_number\": 41, \"metric\": null, \"status\": \"Canceled\", \"run_type\": \"azureml.scriptrun\", \"training_percent\": \"100\", \"start_time\": \"2021-02-01T15:05:35.883816Z\", \"end_time\": \"2021-02-01T15:05:54.269364Z\", \"created_time\": \"2021-02-01T15:05:35.883816Z\", \"created_time_dt\": \"2021-02-01T15:05:35.883816Z\", \"duration\": \"0:00:18\", \"iteration\": \"36\", \"goal\": null, \"run_name\": \"Canceled\", \"run_properties\": null}, {\"run_id\": \"AutoML_7764ea4d-b7a4-469f-848d-05fe5eedca4c_37\", \"run_number\": 42, \"metric\": null, \"status\": \"Canceled\", \"run_type\": \"azureml.scriptrun\", \"training_percent\": \"100\", \"start_time\": \"2021-02-01T15:05:40.077928Z\", \"end_time\": \"2021-02-01T15:05:55.919256Z\", \"created_time\": \"2021-02-01T15:05:40.077928Z\", \"created_time_dt\": \"2021-02-01T15:05:40.077928Z\", \"duration\": \"0:00:15\", \"iteration\": \"37\", \"goal\": null, \"run_name\": \"Canceled\", \"run_properties\": null}, {\"run_id\": \"AutoML_7764ea4d-b7a4-469f-848d-05fe5eedca4c_39\", \"run_number\": 43, \"metric\": null, \"status\": \"Completed\", \"run_type\": \"azureml.scriptrun\", \"training_percent\": \"100\", \"start_time\": \"2021-02-01T15:06:10.797543Z\", \"end_time\": \"2021-02-01T15:08:17.87211Z\", \"created_time\": \"2021-02-01T15:05:57.618756Z\", \"created_time_dt\": \"2021-02-01T15:05:57.618756Z\", \"duration\": \"0:02:20\", \"iteration\": \"39\", \"goal\": \"accuracy_max\", \"run_name\": \"StackEnsemble\", \"run_properties\": \"base_learners=[('19',\\n                                        Pipeline(memory=None,\\n                                                 steps=[('sparsenormalizer',\\n                                                         <azureml.automl.runtime.shared.model_wrappers.SparseNormalizer object at 0x7f6fec1e0358>\", \"primary_metric\": 0.86275862, \"best_metric\": 0.87965517}, {\"run_id\": \"AutoML_7764ea4d-b7a4-469f-848d-05fe5eedca4c_38\", \"run_number\": 44, \"metric\": null, \"status\": \"Completed\", \"run_type\": \"azureml.scriptrun\", \"training_percent\": \"100\", \"start_time\": \"2021-02-01T15:06:12.002009Z\", \"end_time\": \"2021-02-01T15:08:19.437566Z\", \"created_time\": \"2021-02-01T15:05:57.677768Z\", \"created_time_dt\": \"2021-02-01T15:05:57.677768Z\", \"duration\": \"0:02:21\", \"iteration\": \"38\", \"goal\": \"accuracy_max\", \"run_name\": \"VotingEnsemble\", \"run_properties\": \"classification_labels=None,\\n                              estimators=[('19',\\n                                           Pipeline(memory=None,\\n                                                    steps=[('sparsenormalizer',\\n                                                            <azureml.automl.runtime.shared.model_wrappers.SparseNormalizer object at 0x7efdd8804550>\", \"primary_metric\": 0.87965517, \"best_metric\": 0.87965517}], \"children_metrics\": {\"categories\": [0], \"series\": {\"precision_score_macro\": [{\"categories\": [\"0\", \"1\", \"2\", \"3\", \"4\", \"5\", \"6\", \"7\", \"8\", \"9\", \"10\", \"11\", \"12\", \"13\", \"14\", \"15\", \"16\", \"17\", \"18\", \"19\", \"20\", \"21\", \"22\", \"23\", \"24\", \"25\", \"26\", \"27\", \"28\", \"29\", \"30\", \"31\", \"32\", \"33\", \"34\", \"38\", \"39\"], \"mode\": \"markers\", \"name\": \"precision_score_macro\", \"stepped\": false, \"type\": \"scatter\", \"data\": [0.8167365852764965, 0.8232986049897815, 0.8192243344535545, 0.8245872074785119, 0.8051174791392184, 0.8065625011906477, 0.6972934453103118, 0.8098152219970096, 0.8294928031541303, 0.8346361199822299, 0.6759368650672999, 0.8409246451489014, 0.8598423504975228, 0.8189554616923038, 0.8206159767006449, 0.8348069985569986, 0.842830154272374, 0.8208112856094415, 0.820811314502491, 0.8517628574817296, 0.8401106876215572, 0.8355435398993751, 0.8773984180071137, 0.8181842815113274, 0.8336255411255411, 0.33959770114942534, 0.8451538107313784, 0.8223907988782131, 0.7798344672568811, 0.7923321243973418, 0.33959770114942534, 0.847161440877116, 0.8249674556945724, 0.8195315538770916, 0.8309607952434039, 0.8922669774288767, 0.8652769225659253]}, {\"categories\": [\"0\", \"1\", \"2\", \"3\", \"4\", \"5\", \"6\", \"7\", \"8\", \"9\", \"10\", \"11\", \"12\", \"13\", \"14\", \"15\", \"16\", \"17\", \"18\", \"19\", \"20\", \"21\", \"22\", \"23\", \"24\", \"25\", \"26\", \"27\", \"28\", \"29\", \"30\", \"31\", \"32\", \"33\", \"34\", \"38\", \"39\"], \"mode\": \"lines\", \"name\": \"precision_score_macro_max\", \"stepped\": true, \"type\": \"scatter\", \"data\": [0.8167365852764965, 0.8232986049897815, 0.8232986049897815, 0.8245872074785119, 0.8245872074785119, 0.8245872074785119, 0.8245872074785119, 0.8245872074785119, 0.8294928031541303, 0.8346361199822299, 0.8346361199822299, 0.8409246451489014, 0.8598423504975228, 0.8598423504975228, 0.8598423504975228, 0.8598423504975228, 0.8598423504975228, 0.8598423504975228, 0.8598423504975228, 0.8598423504975228, 0.8598423504975228, 0.8598423504975228, 0.8773984180071137, 0.8773984180071137, 0.8773984180071137, 0.8773984180071137, 0.8773984180071137, 0.8773984180071137, 0.8773984180071137, 0.8773984180071137, 0.8773984180071137, 0.8773984180071137, 0.8773984180071137, 0.8773984180071137, 0.8773984180071137, 0.8922669774288767, 0.8922669774288767]}], \"f1_score_macro\": [{\"categories\": [\"0\", \"1\", \"2\", \"3\", \"4\", \"5\", \"6\", \"7\", \"8\", \"9\", \"10\", \"11\", \"12\", \"13\", \"14\", \"15\", \"16\", \"17\", \"18\", \"19\", \"20\", \"21\", \"22\", \"23\", \"24\", \"25\", \"26\", \"27\", \"28\", \"29\", \"30\", \"31\", \"32\", \"33\", \"34\", \"38\", \"39\"], \"mode\": \"markers\", \"name\": \"f1_score_macro\", \"stepped\": false, \"type\": \"scatter\", \"data\": [0.8043314151248963, 0.8078501228997539, 0.8039356759566397, 0.7959555440139123, 0.7908898888328038, 0.773858753195474, 0.627982242148157, 0.7844731356932927, 0.795801446434647, 0.8074461666644328, 0.6281894760570867, 0.8093175433327204, 0.6219075071334602, 0.7681720336915822, 0.7897716503362009, 0.8112085339848484, 0.8149235165508687, 0.8062936525373925, 0.8134576789359711, 0.830495916408293, 0.7871346760946698, 0.7980332129988881, 0.8169269118917457, 0.7977758039697399, 0.8099093597097031, 0.4024893878511494, 0.8139218100656445, 0.7968390672753305, 0.6942620036771706, 0.7715417659530845, 0.4024893878511494, 0.8003796381208674, 0.7966170324676243, 0.7809443649409323, 0.7129403492055006, 0.8533382589697419, 0.8354972345635823]}, {\"categories\": [\"0\", \"1\", \"2\", \"3\", \"4\", \"5\", \"6\", \"7\", \"8\", \"9\", \"10\", \"11\", \"12\", \"13\", \"14\", \"15\", \"16\", \"17\", \"18\", \"19\", \"20\", \"21\", \"22\", \"23\", \"24\", \"25\", \"26\", \"27\", \"28\", \"29\", \"30\", \"31\", \"32\", \"33\", \"34\", \"38\", \"39\"], \"mode\": \"lines\", \"name\": \"f1_score_macro_max\", \"stepped\": true, \"type\": \"scatter\", \"data\": [0.8043314151248963, 0.8078501228997539, 0.8078501228997539, 0.8078501228997539, 0.8078501228997539, 0.8078501228997539, 0.8078501228997539, 0.8078501228997539, 0.8078501228997539, 0.8078501228997539, 0.8078501228997539, 0.8093175433327204, 0.8093175433327204, 0.8093175433327204, 0.8093175433327204, 0.8112085339848484, 0.8149235165508687, 0.8149235165508687, 0.8149235165508687, 0.830495916408293, 0.830495916408293, 0.830495916408293, 0.830495916408293, 0.830495916408293, 0.830495916408293, 0.830495916408293, 0.830495916408293, 0.830495916408293, 0.830495916408293, 0.830495916408293, 0.830495916408293, 0.830495916408293, 0.830495916408293, 0.830495916408293, 0.830495916408293, 0.8533382589697419, 0.8533382589697419]}], \"AUC_macro\": [{\"categories\": [\"0\", \"1\", \"2\", \"3\", \"4\", \"5\", \"6\", \"7\", \"8\", \"9\", \"10\", \"11\", \"12\", \"13\", \"14\", \"15\", \"16\", \"17\", \"18\", \"19\", \"20\", \"21\", \"22\", \"23\", \"24\", \"25\", \"26\", \"27\", \"28\", \"29\", \"30\", \"31\", \"32\", \"33\", \"34\", \"38\", \"39\"], \"mode\": \"markers\", \"name\": \"AUC_macro\", \"stepped\": false, \"type\": \"scatter\", \"data\": [0.8840955354735103, 0.8847369443591411, 0.9054479633702174, 0.892225136870503, 0.8960563318980366, 0.885180373144103, 0.7472287308356531, 0.879342659940915, 0.900381358452125, 0.8972961414295512, 0.7980165731907722, 0.8919059202683917, 0.8677734895264072, 0.8951362690597817, 0.8922546979548123, 0.8985968029703155, 0.9073525190336402, 0.8879981568848561, 0.9020244240376962, 0.8956376700699927, 0.8956792126341326, 0.8893476218818896, 0.8909707688192814, 0.8955813779618127, 0.9075940232938517, 0.5, 0.8905101635291567, 0.8766188158555149, 0.8523181402672249, 0.8722308385698545, 0.5, 0.8899456261976859, 0.9056415227242459, 0.8882255278072211, 0.8762875786578876, 0.9155198346657156, 0.9156252014258308]}, {\"categories\": [\"0\", \"1\", \"2\", \"3\", \"4\", \"5\", \"6\", \"7\", \"8\", \"9\", \"10\", \"11\", \"12\", \"13\", \"14\", \"15\", \"16\", \"17\", \"18\", \"19\", \"20\", \"21\", \"22\", \"23\", \"24\", \"25\", \"26\", \"27\", \"28\", \"29\", \"30\", \"31\", \"32\", \"33\", \"34\", \"38\", \"39\"], \"mode\": \"lines\", \"name\": \"AUC_macro_max\", \"stepped\": true, \"type\": \"scatter\", \"data\": [0.8840955354735103, 0.8847369443591411, 0.9054479633702174, 0.9054479633702174, 0.9054479633702174, 0.9054479633702174, 0.9054479633702174, 0.9054479633702174, 0.9054479633702174, 0.9054479633702174, 0.9054479633702174, 0.9054479633702174, 0.9054479633702174, 0.9054479633702174, 0.9054479633702174, 0.9054479633702174, 0.9073525190336402, 0.9073525190336402, 0.9073525190336402, 0.9073525190336402, 0.9073525190336402, 0.9073525190336402, 0.9073525190336402, 0.9073525190336402, 0.9075940232938517, 0.9075940232938517, 0.9075940232938517, 0.9075940232938517, 0.9075940232938517, 0.9075940232938517, 0.9075940232938517, 0.9075940232938517, 0.9075940232938517, 0.9075940232938517, 0.9075940232938517, 0.9155198346657156, 0.9156252014258308]}], \"average_precision_score_micro\": [{\"categories\": [\"0\", \"1\", \"2\", \"3\", \"4\", \"5\", \"6\", \"7\", \"8\", \"9\", \"10\", \"11\", \"12\", \"13\", \"14\", \"15\", \"16\", \"17\", \"18\", \"19\", \"20\", \"21\", \"22\", \"23\", \"24\", \"25\", \"26\", \"27\", \"28\", \"29\", \"30\", \"31\", \"32\", \"33\", \"34\", \"38\", \"39\"], \"mode\": \"markers\", \"name\": \"average_precision_score_micro\", \"stepped\": false, \"type\": \"scatter\", \"data\": [0.9020054536251629, 0.9033793522124445, 0.9186255367513623, 0.9001170041175296, 0.9131836187002328, 0.8926053989111079, 0.7777410625656827, 0.895111815566743, 0.9076713764950277, 0.9080346510055284, 0.8210527590633685, 0.9086652087116365, 0.8688128363733986, 0.9104410359135713, 0.8905441744626564, 0.9136348515728081, 0.9178327798926695, 0.8969673089031585, 0.9140810408453633, 0.9085498136036645, 0.8923926976103151, 0.9071089680992521, 0.9058506765442681, 0.9156914643567193, 0.9199062254949626, 0.6309528339278636, 0.9015291478498986, 0.8865530400376571, 0.8715786820343983, 0.8834201135360648, 0.6309528339278636, 0.9031676894746848, 0.9090540137387391, 0.8850493541804705, 0.8784458229991607, 0.9242047745436676, 0.9163073355013204]}, {\"categories\": [\"0\", \"1\", \"2\", \"3\", \"4\", \"5\", \"6\", \"7\", \"8\", \"9\", \"10\", \"11\", \"12\", \"13\", \"14\", \"15\", \"16\", \"17\", \"18\", \"19\", \"20\", \"21\", \"22\", \"23\", \"24\", \"25\", \"26\", \"27\", \"28\", \"29\", \"30\", \"31\", \"32\", \"33\", \"34\", \"38\", \"39\"], \"mode\": \"lines\", \"name\": \"average_precision_score_micro_max\", \"stepped\": true, \"type\": \"scatter\", \"data\": [0.9020054536251629, 0.9033793522124445, 0.9186255367513623, 0.9186255367513623, 0.9186255367513623, 0.9186255367513623, 0.9186255367513623, 0.9186255367513623, 0.9186255367513623, 0.9186255367513623, 0.9186255367513623, 0.9186255367513623, 0.9186255367513623, 0.9186255367513623, 0.9186255367513623, 0.9186255367513623, 0.9186255367513623, 0.9186255367513623, 0.9186255367513623, 0.9186255367513623, 0.9186255367513623, 0.9186255367513623, 0.9186255367513623, 0.9186255367513623, 0.9199062254949626, 0.9199062254949626, 0.9199062254949626, 0.9199062254949626, 0.9199062254949626, 0.9199062254949626, 0.9199062254949626, 0.9199062254949626, 0.9199062254949626, 0.9199062254949626, 0.9199062254949626, 0.9242047745436676, 0.9242047745436676]}], \"accuracy\": [{\"categories\": [\"0\", \"1\", \"2\", \"3\", \"4\", \"5\", \"6\", \"7\", \"8\", \"9\", \"10\", \"11\", \"12\", \"13\", \"14\", \"15\", \"16\", \"17\", \"18\", \"19\", \"20\", \"21\", \"22\", \"23\", \"24\", \"25\", \"26\", \"27\", \"28\", \"29\", \"30\", \"31\", \"32\", \"33\", \"34\", \"38\", \"39\"], \"mode\": \"markers\", \"name\": \"accuracy\", \"stepped\": false, \"type\": \"scatter\", \"data\": [0.8359770114942527, 0.8358620689655172, 0.8393103448275863, 0.8326436781609197, 0.8258620689655171, 0.8159770114942528, 0.7191954022988506, 0.8228735632183908, 0.8327586206896551, 0.8393103448275863, 0.7121839080459771, 0.842528735632184, 0.7593103448275862, 0.8159770114942528, 0.8293103448275861, 0.8425287356321839, 0.8491954022988505, 0.8362068965517242, 0.8425287356321839, 0.859425287356322, 0.8327586206896551, 0.8358620689655174, 0.852873563218391, 0.8393103448275863, 0.8426436781609195, 0.6791954022988507, 0.8495402298850575, 0.8328735632183909, 0.7757471264367817, 0.8163218390804599, 0.6791954022988507, 0.8395402298850575, 0.8359770114942527, 0.825977011494253, 0.7959770114942529, 0.8796551724137931, 0.8627586206896553]}, {\"categories\": [\"0\", \"1\", \"2\", \"3\", \"4\", \"5\", \"6\", \"7\", \"8\", \"9\", \"10\", \"11\", \"12\", \"13\", \"14\", \"15\", \"16\", \"17\", \"18\", \"19\", \"20\", \"21\", \"22\", \"23\", \"24\", \"25\", \"26\", \"27\", \"28\", \"29\", \"30\", \"31\", \"32\", \"33\", \"34\", \"38\", \"39\"], \"mode\": \"lines\", \"name\": \"accuracy_max\", \"stepped\": true, \"type\": \"scatter\", \"data\": [0.8359770114942527, 0.8359770114942527, 0.8393103448275863, 0.8393103448275863, 0.8393103448275863, 0.8393103448275863, 0.8393103448275863, 0.8393103448275863, 0.8393103448275863, 0.8393103448275863, 0.8393103448275863, 0.842528735632184, 0.842528735632184, 0.842528735632184, 0.842528735632184, 0.842528735632184, 0.8491954022988505, 0.8491954022988505, 0.8491954022988505, 0.859425287356322, 0.859425287356322, 0.859425287356322, 0.859425287356322, 0.859425287356322, 0.859425287356322, 0.859425287356322, 0.859425287356322, 0.859425287356322, 0.859425287356322, 0.859425287356322, 0.859425287356322, 0.859425287356322, 0.859425287356322, 0.859425287356322, 0.859425287356322, 0.8796551724137931, 0.8796551724137931]}], \"log_loss\": [{\"categories\": [\"0\", \"1\", \"2\", \"3\", \"4\", \"5\", \"6\", \"7\", \"8\", \"9\", \"10\", \"11\", \"12\", \"13\", \"14\", \"15\", \"16\", \"17\", \"18\", \"19\", \"20\", \"21\", \"22\", \"23\", \"24\", \"25\", \"26\", \"27\", \"28\", \"29\", \"30\", \"31\", \"32\", \"33\", \"34\", \"38\", \"39\"], \"mode\": \"markers\", \"name\": \"log_loss\", \"stepped\": false, \"type\": \"scatter\", \"data\": [0.4772179826627182, 0.41764279466886123, 0.3710377936280828, 0.4043610696182788, 0.38385687223492754, 0.5122999797546753, 0.5817831888527587, 0.4113226523427646, 0.394405483274961, 0.4087218920262994, 0.5300073153073968, 0.38725192902738936, 0.5016580412766779, 0.4208631129595055, 0.4509924561355497, 0.36711678101912315, 0.3883081223050062, 0.4182362547689416, 0.370120467812017, 0.3897855382721082, 0.4610826767394425, 0.39355878400113725, 0.40642178825036995, 0.3930762721076957, 0.36930712626488404, 0.6324863089689194, 0.3964188793382829, 0.42146098150574496, 0.4747333530318934, 0.4614898791139773, 0.6325605574309864, 0.40489745353161055, 0.4195386220179901, 0.45699429302722006, 0.47211902720205234, 0.3780738754044163, 0.3693397696430881]}, {\"categories\": [\"0\", \"1\", \"2\", \"3\", \"4\", \"5\", \"6\", \"7\", \"8\", \"9\", \"10\", \"11\", \"12\", \"13\", \"14\", \"15\", \"16\", \"17\", \"18\", \"19\", \"20\", \"21\", \"22\", \"23\", \"24\", \"25\", \"26\", \"27\", \"28\", \"29\", \"30\", \"31\", \"32\", \"33\", \"34\", \"38\", \"39\"], \"mode\": \"lines\", \"name\": \"log_loss_min\", \"stepped\": true, \"type\": \"scatter\", \"data\": [0.4772179826627182, 0.41764279466886123, 0.3710377936280828, 0.3710377936280828, 0.3710377936280828, 0.3710377936280828, 0.3710377936280828, 0.3710377936280828, 0.3710377936280828, 0.3710377936280828, 0.3710377936280828, 0.3710377936280828, 0.3710377936280828, 0.3710377936280828, 0.3710377936280828, 0.36711678101912315, 0.36711678101912315, 0.36711678101912315, 0.36711678101912315, 0.36711678101912315, 0.36711678101912315, 0.36711678101912315, 0.36711678101912315, 0.36711678101912315, 0.36711678101912315, 0.36711678101912315, 0.36711678101912315, 0.36711678101912315, 0.36711678101912315, 0.36711678101912315, 0.36711678101912315, 0.36711678101912315, 0.36711678101912315, 0.36711678101912315, 0.36711678101912315, 0.36711678101912315, 0.36711678101912315]}], \"AUC_weighted\": [{\"categories\": [\"0\", \"1\", \"2\", \"3\", \"4\", \"5\", \"6\", \"7\", \"8\", \"9\", \"10\", \"11\", \"12\", \"13\", \"14\", \"15\", \"16\", \"17\", \"18\", \"19\", \"20\", \"21\", \"22\", \"23\", \"24\", \"25\", \"26\", \"27\", \"28\", \"29\", \"30\", \"31\", \"32\", \"33\", \"34\", \"38\", \"39\"], \"mode\": \"markers\", \"name\": \"AUC_weighted\", \"stepped\": false, \"type\": \"scatter\", \"data\": [0.8840955354735103, 0.8847369443591411, 0.9054479633702174, 0.892225136870503, 0.8960563318980366, 0.885180373144103, 0.747228730835653, 0.879342659940915, 0.900381358452125, 0.8972961414295512, 0.7980165731907722, 0.8919059202683917, 0.8677734895264072, 0.8951362690597817, 0.8922546979548123, 0.8985968029703155, 0.9073525190336402, 0.8879981568848561, 0.9020244240376962, 0.8956376700699927, 0.8956792126341325, 0.8893476218818896, 0.8909707688192816, 0.8955813779618129, 0.9075940232938517, 0.5, 0.8905101635291566, 0.876618815855515, 0.8523181402672249, 0.8722308385698547, 0.5, 0.8899456261976859, 0.9056415227242459, 0.8882255278072211, 0.8762875786578876, 0.9155198346657156, 0.9156252014258308]}, {\"categories\": [\"0\", \"1\", \"2\", \"3\", \"4\", \"5\", \"6\", \"7\", \"8\", \"9\", \"10\", \"11\", \"12\", \"13\", \"14\", \"15\", \"16\", \"17\", \"18\", \"19\", \"20\", \"21\", \"22\", \"23\", \"24\", \"25\", \"26\", \"27\", \"28\", \"29\", \"30\", \"31\", \"32\", \"33\", \"34\", \"38\", \"39\"], \"mode\": \"lines\", \"name\": \"AUC_weighted_max\", \"stepped\": true, \"type\": \"scatter\", \"data\": [0.8840955354735103, 0.8847369443591411, 0.9054479633702174, 0.9054479633702174, 0.9054479633702174, 0.9054479633702174, 0.9054479633702174, 0.9054479633702174, 0.9054479633702174, 0.9054479633702174, 0.9054479633702174, 0.9054479633702174, 0.9054479633702174, 0.9054479633702174, 0.9054479633702174, 0.9054479633702174, 0.9073525190336402, 0.9073525190336402, 0.9073525190336402, 0.9073525190336402, 0.9073525190336402, 0.9073525190336402, 0.9073525190336402, 0.9073525190336402, 0.9075940232938517, 0.9075940232938517, 0.9075940232938517, 0.9075940232938517, 0.9075940232938517, 0.9075940232938517, 0.9075940232938517, 0.9075940232938517, 0.9075940232938517, 0.9075940232938517, 0.9075940232938517, 0.9155198346657156, 0.9156252014258308]}], \"recall_score_macro\": [{\"categories\": [\"0\", \"1\", \"2\", \"3\", \"4\", \"5\", \"6\", \"7\", \"8\", \"9\", \"10\", \"11\", \"12\", \"13\", \"14\", \"15\", \"16\", \"17\", \"18\", \"19\", \"20\", \"21\", \"22\", \"23\", \"24\", \"25\", \"26\", \"27\", \"28\", \"29\", \"30\", \"31\", \"32\", \"33\", \"34\", \"38\", \"39\"], \"mode\": \"markers\", \"name\": \"recall_score_macro\", \"stepped\": false, \"type\": \"scatter\", \"data\": [0.8077082895810014, 0.8130249020938379, 0.8049889847312615, 0.7965256863337526, 0.8013195591911266, 0.775727283046219, 0.6460097287025205, 0.785013547950905, 0.7918168440699906, 0.8019137909827269, 0.6464924981260793, 0.8059726246611257, 0.6307160894660895, 0.7625731572013036, 0.7869737704769169, 0.8119737704769168, 0.8109820991048107, 0.8095071398852862, 0.8198020533051998, 0.830857153176089, 0.7743373746454411, 0.795156426969928, 0.801788312596379, 0.7972001099586911, 0.8099516697706056, 0.5, 0.810638899207835, 0.7961315133188702, 0.6898960820199378, 0.7685181427712892, 0.5, 0.7901596423535784, 0.7927803447188458, 0.7768547228578693, 0.7027399939242045, 0.843975776480067, 0.8346718224249688]}, {\"categories\": [\"0\", \"1\", \"2\", \"3\", \"4\", \"5\", \"6\", \"7\", \"8\", \"9\", \"10\", \"11\", \"12\", \"13\", \"14\", \"15\", \"16\", \"17\", \"18\", \"19\", \"20\", \"21\", \"22\", \"23\", \"24\", \"25\", \"26\", \"27\", \"28\", \"29\", \"30\", \"31\", \"32\", \"33\", \"34\", \"38\", \"39\"], \"mode\": \"lines\", \"name\": \"recall_score_macro_max\", \"stepped\": true, \"type\": \"scatter\", \"data\": [0.8077082895810014, 0.8130249020938379, 0.8130249020938379, 0.8130249020938379, 0.8130249020938379, 0.8130249020938379, 0.8130249020938379, 0.8130249020938379, 0.8130249020938379, 0.8130249020938379, 0.8130249020938379, 0.8130249020938379, 0.8130249020938379, 0.8130249020938379, 0.8130249020938379, 0.8130249020938379, 0.8130249020938379, 0.8130249020938379, 0.8198020533051998, 0.830857153176089, 0.830857153176089, 0.830857153176089, 0.830857153176089, 0.830857153176089, 0.830857153176089, 0.830857153176089, 0.830857153176089, 0.830857153176089, 0.830857153176089, 0.830857153176089, 0.830857153176089, 0.830857153176089, 0.830857153176089, 0.830857153176089, 0.830857153176089, 0.843975776480067, 0.843975776480067]}], \"precision_score_micro\": [{\"categories\": [\"0\", \"1\", \"2\", \"3\", \"4\", \"5\", \"6\", \"7\", \"8\", \"9\", \"10\", \"11\", \"12\", \"13\", \"14\", \"15\", \"16\", \"17\", \"18\", \"19\", \"20\", \"21\", \"22\", \"23\", \"24\", \"25\", \"26\", \"27\", \"28\", \"29\", \"30\", \"31\", \"32\", \"33\", \"34\", \"38\", \"39\"], \"mode\": \"markers\", \"name\": \"precision_score_micro\", \"stepped\": false, \"type\": \"scatter\", \"data\": [0.8359770114942527, 0.8358620689655172, 0.8393103448275863, 0.8326436781609197, 0.8258620689655171, 0.8159770114942528, 0.7191954022988506, 0.8228735632183908, 0.8327586206896551, 0.8393103448275863, 0.7121839080459771, 0.842528735632184, 0.7593103448275862, 0.8159770114942528, 0.8293103448275861, 0.8425287356321839, 0.8491954022988505, 0.8362068965517242, 0.8425287356321839, 0.859425287356322, 0.8327586206896551, 0.8358620689655174, 0.852873563218391, 0.8393103448275863, 0.8426436781609195, 0.6791954022988507, 0.8495402298850575, 0.8328735632183909, 0.7757471264367817, 0.8163218390804599, 0.6791954022988507, 0.8395402298850575, 0.8359770114942527, 0.825977011494253, 0.7959770114942529, 0.8796551724137931, 0.8627586206896553]}, {\"categories\": [\"0\", \"1\", \"2\", \"3\", \"4\", \"5\", \"6\", \"7\", \"8\", \"9\", \"10\", \"11\", \"12\", \"13\", \"14\", \"15\", \"16\", \"17\", \"18\", \"19\", \"20\", \"21\", \"22\", \"23\", \"24\", \"25\", \"26\", \"27\", \"28\", \"29\", \"30\", \"31\", \"32\", \"33\", \"34\", \"38\", \"39\"], \"mode\": \"lines\", \"name\": \"precision_score_micro_max\", \"stepped\": true, \"type\": \"scatter\", \"data\": [0.8359770114942527, 0.8359770114942527, 0.8393103448275863, 0.8393103448275863, 0.8393103448275863, 0.8393103448275863, 0.8393103448275863, 0.8393103448275863, 0.8393103448275863, 0.8393103448275863, 0.8393103448275863, 0.842528735632184, 0.842528735632184, 0.842528735632184, 0.842528735632184, 0.842528735632184, 0.8491954022988505, 0.8491954022988505, 0.8491954022988505, 0.859425287356322, 0.859425287356322, 0.859425287356322, 0.859425287356322, 0.859425287356322, 0.859425287356322, 0.859425287356322, 0.859425287356322, 0.859425287356322, 0.859425287356322, 0.859425287356322, 0.859425287356322, 0.859425287356322, 0.859425287356322, 0.859425287356322, 0.859425287356322, 0.8796551724137931, 0.8796551724137931]}], \"recall_score_micro\": [{\"categories\": [\"0\", \"1\", \"2\", \"3\", \"4\", \"5\", \"6\", \"7\", \"8\", \"9\", \"10\", \"11\", \"12\", \"13\", \"14\", \"15\", \"16\", \"17\", \"18\", \"19\", \"20\", \"21\", \"22\", \"23\", \"24\", \"25\", \"26\", \"27\", \"28\", \"29\", \"30\", \"31\", \"32\", \"33\", \"34\", \"38\", \"39\"], \"mode\": \"markers\", \"name\": \"recall_score_micro\", \"stepped\": false, \"type\": \"scatter\", \"data\": [0.8359770114942527, 0.8358620689655172, 0.8393103448275863, 0.8326436781609197, 0.8258620689655171, 0.8159770114942528, 0.7191954022988506, 0.8228735632183908, 0.8327586206896551, 0.8393103448275863, 0.7121839080459771, 0.842528735632184, 0.7593103448275862, 0.8159770114942528, 0.8293103448275861, 0.8425287356321839, 0.8491954022988505, 0.8362068965517242, 0.8425287356321839, 0.859425287356322, 0.8327586206896551, 0.8358620689655174, 0.852873563218391, 0.8393103448275863, 0.8426436781609195, 0.6791954022988507, 0.8495402298850575, 0.8328735632183909, 0.7757471264367817, 0.8163218390804599, 0.6791954022988507, 0.8395402298850575, 0.8359770114942527, 0.825977011494253, 0.7959770114942529, 0.8796551724137931, 0.8627586206896553]}, {\"categories\": [\"0\", \"1\", \"2\", \"3\", \"4\", \"5\", \"6\", \"7\", \"8\", \"9\", \"10\", \"11\", \"12\", \"13\", \"14\", \"15\", \"16\", \"17\", \"18\", \"19\", \"20\", \"21\", \"22\", \"23\", \"24\", \"25\", \"26\", \"27\", \"28\", \"29\", \"30\", \"31\", \"32\", \"33\", \"34\", \"38\", \"39\"], \"mode\": \"lines\", \"name\": \"recall_score_micro_max\", \"stepped\": true, \"type\": \"scatter\", \"data\": [0.8359770114942527, 0.8359770114942527, 0.8393103448275863, 0.8393103448275863, 0.8393103448275863, 0.8393103448275863, 0.8393103448275863, 0.8393103448275863, 0.8393103448275863, 0.8393103448275863, 0.8393103448275863, 0.842528735632184, 0.842528735632184, 0.842528735632184, 0.842528735632184, 0.842528735632184, 0.8491954022988505, 0.8491954022988505, 0.8491954022988505, 0.859425287356322, 0.859425287356322, 0.859425287356322, 0.859425287356322, 0.859425287356322, 0.859425287356322, 0.859425287356322, 0.859425287356322, 0.859425287356322, 0.859425287356322, 0.859425287356322, 0.859425287356322, 0.859425287356322, 0.859425287356322, 0.859425287356322, 0.859425287356322, 0.8796551724137931, 0.8796551724137931]}], \"f1_score_micro\": [{\"categories\": [\"0\", \"1\", \"2\", \"3\", \"4\", \"5\", \"6\", \"7\", \"8\", \"9\", \"10\", \"11\", \"12\", \"13\", \"14\", \"15\", \"16\", \"17\", \"18\", \"19\", \"20\", \"21\", \"22\", \"23\", \"24\", \"25\", \"26\", \"27\", \"28\", \"29\", \"30\", \"31\", \"32\", \"33\", \"34\", \"38\", \"39\"], \"mode\": \"markers\", \"name\": \"f1_score_micro\", \"stepped\": false, \"type\": \"scatter\", \"data\": [0.8359770114942527, 0.8358620689655172, 0.8393103448275863, 0.8326436781609197, 0.8258620689655171, 0.8159770114942528, 0.7191954022988506, 0.8228735632183908, 0.8327586206896551, 0.8393103448275863, 0.7121839080459771, 0.842528735632184, 0.7593103448275862, 0.8159770114942528, 0.8293103448275861, 0.842528735632184, 0.8491954022988505, 0.8362068965517242, 0.8425287356321839, 0.859425287356322, 0.8327586206896551, 0.8358620689655174, 0.852873563218391, 0.8393103448275863, 0.8426436781609198, 0.6791954022988507, 0.8495402298850575, 0.8328735632183909, 0.7757471264367817, 0.8163218390804599, 0.6791954022988507, 0.8395402298850575, 0.8359770114942527, 0.825977011494253, 0.7959770114942529, 0.8796551724137931, 0.8627586206896553]}, {\"categories\": [\"0\", \"1\", \"2\", \"3\", \"4\", \"5\", \"6\", \"7\", \"8\", \"9\", \"10\", \"11\", \"12\", \"13\", \"14\", \"15\", \"16\", \"17\", \"18\", \"19\", \"20\", \"21\", \"22\", \"23\", \"24\", \"25\", \"26\", \"27\", \"28\", \"29\", \"30\", \"31\", \"32\", \"33\", \"34\", \"38\", \"39\"], \"mode\": \"lines\", \"name\": \"f1_score_micro_max\", \"stepped\": true, \"type\": \"scatter\", \"data\": [0.8359770114942527, 0.8359770114942527, 0.8393103448275863, 0.8393103448275863, 0.8393103448275863, 0.8393103448275863, 0.8393103448275863, 0.8393103448275863, 0.8393103448275863, 0.8393103448275863, 0.8393103448275863, 0.842528735632184, 0.842528735632184, 0.842528735632184, 0.842528735632184, 0.842528735632184, 0.8491954022988505, 0.8491954022988505, 0.8491954022988505, 0.859425287356322, 0.859425287356322, 0.859425287356322, 0.859425287356322, 0.859425287356322, 0.859425287356322, 0.859425287356322, 0.859425287356322, 0.859425287356322, 0.859425287356322, 0.859425287356322, 0.859425287356322, 0.859425287356322, 0.859425287356322, 0.859425287356322, 0.859425287356322, 0.8796551724137931, 0.8796551724137931]}], \"recall_score_weighted\": [{\"categories\": [\"0\", \"1\", \"2\", \"3\", \"4\", \"5\", \"6\", \"7\", \"8\", \"9\", \"10\", \"11\", \"12\", \"13\", \"14\", \"15\", \"16\", \"17\", \"18\", \"19\", \"20\", \"21\", \"22\", \"23\", \"24\", \"25\", \"26\", \"27\", \"28\", \"29\", \"30\", \"31\", \"32\", \"33\", \"34\", \"38\", \"39\"], \"mode\": \"markers\", \"name\": \"recall_score_weighted\", \"stepped\": false, \"type\": \"scatter\", \"data\": [0.8359770114942527, 0.8358620689655172, 0.8393103448275863, 0.8326436781609197, 0.8258620689655171, 0.8159770114942528, 0.7191954022988506, 0.8228735632183908, 0.8327586206896551, 0.8393103448275863, 0.7121839080459771, 0.842528735632184, 0.7593103448275862, 0.8159770114942528, 0.8293103448275861, 0.8425287356321839, 0.8491954022988505, 0.8362068965517242, 0.8425287356321839, 0.859425287356322, 0.8327586206896551, 0.8358620689655174, 0.852873563218391, 0.8393103448275863, 0.8426436781609195, 0.6791954022988507, 0.8495402298850575, 0.8328735632183909, 0.7757471264367817, 0.8163218390804599, 0.6791954022988507, 0.8395402298850575, 0.8359770114942527, 0.825977011494253, 0.7959770114942529, 0.8796551724137931, 0.8627586206896553]}, {\"categories\": [\"0\", \"1\", \"2\", \"3\", \"4\", \"5\", \"6\", \"7\", \"8\", \"9\", \"10\", \"11\", \"12\", \"13\", \"14\", \"15\", \"16\", \"17\", \"18\", \"19\", \"20\", \"21\", \"22\", \"23\", \"24\", \"25\", \"26\", \"27\", \"28\", \"29\", \"30\", \"31\", \"32\", \"33\", \"34\", \"38\", \"39\"], \"mode\": \"lines\", \"name\": \"recall_score_weighted_max\", \"stepped\": true, \"type\": \"scatter\", \"data\": [0.8359770114942527, 0.8359770114942527, 0.8393103448275863, 0.8393103448275863, 0.8393103448275863, 0.8393103448275863, 0.8393103448275863, 0.8393103448275863, 0.8393103448275863, 0.8393103448275863, 0.8393103448275863, 0.842528735632184, 0.842528735632184, 0.842528735632184, 0.842528735632184, 0.842528735632184, 0.8491954022988505, 0.8491954022988505, 0.8491954022988505, 0.859425287356322, 0.859425287356322, 0.859425287356322, 0.859425287356322, 0.859425287356322, 0.859425287356322, 0.859425287356322, 0.859425287356322, 0.859425287356322, 0.859425287356322, 0.859425287356322, 0.859425287356322, 0.859425287356322, 0.859425287356322, 0.859425287356322, 0.859425287356322, 0.8796551724137931, 0.8796551724137931]}], \"average_precision_score_macro\": [{\"categories\": [\"0\", \"1\", \"2\", \"3\", \"4\", \"5\", \"6\", \"7\", \"8\", \"9\", \"10\", \"11\", \"12\", \"13\", \"14\", \"15\", \"16\", \"17\", \"18\", \"19\", \"20\", \"21\", \"22\", \"23\", \"24\", \"25\", \"26\", \"27\", \"28\", \"29\", \"30\", \"31\", \"32\", \"33\", \"34\", \"38\", \"39\"], \"mode\": \"markers\", \"name\": \"average_precision_score_macro\", \"stepped\": false, \"type\": \"scatter\", \"data\": [0.8807888197525153, 0.8807340475847678, 0.892647641399466, 0.8917818152897476, 0.8813261438163298, 0.8616494772080385, 0.745469896825244, 0.8749745008185043, 0.8918330319186867, 0.8885208428861692, 0.7827606185608855, 0.882467977539888, 0.8661390074776559, 0.8853202275375762, 0.8701230666969517, 0.8869847145598306, 0.8964433544019815, 0.8819949781809319, 0.8964139455857676, 0.8913113719010383, 0.8806211822466963, 0.881126876947534, 0.8909684955672263, 0.8848370447988796, 0.9009506738929163, 0.5, 0.8801441796559588, 0.8693352187905472, 0.834706521081684, 0.858263134261079, 0.5, 0.8877093705490765, 0.8948433185462367, 0.8603458634123851, 0.8720697037799846, 0.9049046135368292, 0.9040307266052743]}, {\"categories\": [\"0\", \"1\", \"2\", \"3\", \"4\", \"5\", \"6\", \"7\", \"8\", \"9\", \"10\", \"11\", \"12\", \"13\", \"14\", \"15\", \"16\", \"17\", \"18\", \"19\", \"20\", \"21\", \"22\", \"23\", \"24\", \"25\", \"26\", \"27\", \"28\", \"29\", \"30\", \"31\", \"32\", \"33\", \"34\", \"38\", \"39\"], \"mode\": \"lines\", \"name\": \"average_precision_score_macro_max\", \"stepped\": true, \"type\": \"scatter\", \"data\": [0.8807888197525153, 0.8807888197525153, 0.892647641399466, 0.892647641399466, 0.892647641399466, 0.892647641399466, 0.892647641399466, 0.892647641399466, 0.892647641399466, 0.892647641399466, 0.892647641399466, 0.892647641399466, 0.892647641399466, 0.892647641399466, 0.892647641399466, 0.892647641399466, 0.8964433544019815, 0.8964433544019815, 0.8964433544019815, 0.8964433544019815, 0.8964433544019815, 0.8964433544019815, 0.8964433544019815, 0.8964433544019815, 0.9009506738929163, 0.9009506738929163, 0.9009506738929163, 0.9009506738929163, 0.9009506738929163, 0.9009506738929163, 0.9009506738929163, 0.9009506738929163, 0.9009506738929163, 0.9009506738929163, 0.9009506738929163, 0.9049046135368292, 0.9049046135368292]}], \"balanced_accuracy\": [{\"categories\": [\"0\", \"1\", \"2\", \"3\", \"4\", \"5\", \"6\", \"7\", \"8\", \"9\", \"10\", \"11\", \"12\", \"13\", \"14\", \"15\", \"16\", \"17\", \"18\", \"19\", \"20\", \"21\", \"22\", \"23\", \"24\", \"25\", \"26\", \"27\", \"28\", \"29\", \"30\", \"31\", \"32\", \"33\", \"34\", \"38\", \"39\"], \"mode\": \"markers\", \"name\": \"balanced_accuracy\", \"stepped\": false, \"type\": \"scatter\", \"data\": [0.8077082895810014, 0.8130249020938379, 0.8049889847312615, 0.7965256863337526, 0.8013195591911266, 0.775727283046219, 0.6460097287025205, 0.785013547950905, 0.7918168440699906, 0.8019137909827269, 0.6464924981260793, 0.8059726246611257, 0.6307160894660895, 0.7625731572013036, 0.7869737704769169, 0.8119737704769168, 0.8109820991048107, 0.8095071398852862, 0.8198020533051998, 0.830857153176089, 0.7743373746454411, 0.795156426969928, 0.801788312596379, 0.7972001099586911, 0.8099516697706056, 0.5, 0.810638899207835, 0.7961315133188702, 0.6898960820199378, 0.7685181427712892, 0.5, 0.7901596423535784, 0.7927803447188458, 0.7768547228578693, 0.7027399939242045, 0.843975776480067, 0.8346718224249688]}, {\"categories\": [\"0\", \"1\", \"2\", \"3\", \"4\", \"5\", \"6\", \"7\", \"8\", \"9\", \"10\", \"11\", \"12\", \"13\", \"14\", \"15\", \"16\", \"17\", \"18\", \"19\", \"20\", \"21\", \"22\", \"23\", \"24\", \"25\", \"26\", \"27\", \"28\", \"29\", \"30\", \"31\", \"32\", \"33\", \"34\", \"38\", \"39\"], \"mode\": \"lines\", \"name\": \"balanced_accuracy_max\", \"stepped\": true, \"type\": \"scatter\", \"data\": [0.8077082895810014, 0.8130249020938379, 0.8130249020938379, 0.8130249020938379, 0.8130249020938379, 0.8130249020938379, 0.8130249020938379, 0.8130249020938379, 0.8130249020938379, 0.8130249020938379, 0.8130249020938379, 0.8130249020938379, 0.8130249020938379, 0.8130249020938379, 0.8130249020938379, 0.8130249020938379, 0.8130249020938379, 0.8130249020938379, 0.8198020533051998, 0.830857153176089, 0.830857153176089, 0.830857153176089, 0.830857153176089, 0.830857153176089, 0.830857153176089, 0.830857153176089, 0.830857153176089, 0.830857153176089, 0.830857153176089, 0.830857153176089, 0.830857153176089, 0.830857153176089, 0.830857153176089, 0.830857153176089, 0.830857153176089, 0.843975776480067, 0.843975776480067]}], \"matthews_correlation\": [{\"categories\": [\"0\", \"1\", \"2\", \"3\", \"4\", \"5\", \"6\", \"7\", \"8\", \"9\", \"10\", \"11\", \"12\", \"13\", \"14\", \"15\", \"16\", \"17\", \"18\", \"19\", \"20\", \"21\", \"22\", \"23\", \"24\", \"25\", \"26\", \"27\", \"28\", \"29\", \"30\", \"31\", \"32\", \"33\", \"34\", \"38\", \"39\"], \"mode\": \"markers\", \"name\": \"matthews_correlation\", \"stepped\": false, \"type\": \"scatter\", \"data\": [0.6231314496952846, 0.6345538749068885, 0.623163226072254, 0.6180009272225857, 0.6047380243306968, 0.5789333483305701, 0.3274273759647216, 0.5926056841761447, 0.6181804708226917, 0.6345874802720357, 0.3146711782836013, 0.6436953975515822, 0.41993956162728124, 0.5742971315138105, 0.6050404127354617, 0.6441816088928001, 0.6516593564836755, 0.6291702367253744, 0.6397730947209479, 0.6809445446362712, 0.6095220324085087, 0.6258143539273139, 0.6719365908290065, 0.6136788245796136, 0.6410564451644493, 0.0, 0.6526669490817252, 0.6164081983255285, 0.4519046300757797, 0.5595527392494505, 0.0, 0.6324638012528603, 0.6157677763884697, 0.5924450529615604, 0.5135776078981058, 0.732325229761966, 0.6970531625962442]}, {\"categories\": [\"0\", \"1\", \"2\", \"3\", \"4\", \"5\", \"6\", \"7\", \"8\", \"9\", \"10\", \"11\", \"12\", \"13\", \"14\", \"15\", \"16\", \"17\", \"18\", \"19\", \"20\", \"21\", \"22\", \"23\", \"24\", \"25\", \"26\", \"27\", \"28\", \"29\", \"30\", \"31\", \"32\", \"33\", \"34\", \"38\", \"39\"], \"mode\": \"lines\", \"name\": \"matthews_correlation_max\", \"stepped\": true, \"type\": \"scatter\", \"data\": [0.6231314496952846, 0.6345538749068885, 0.6345538749068885, 0.6345538749068885, 0.6345538749068885, 0.6345538749068885, 0.6345538749068885, 0.6345538749068885, 0.6345538749068885, 0.6345874802720357, 0.6345874802720357, 0.6436953975515822, 0.6436953975515822, 0.6436953975515822, 0.6436953975515822, 0.6441816088928001, 0.6516593564836755, 0.6516593564836755, 0.6516593564836755, 0.6809445446362712, 0.6809445446362712, 0.6809445446362712, 0.6809445446362712, 0.6809445446362712, 0.6809445446362712, 0.6809445446362712, 0.6809445446362712, 0.6809445446362712, 0.6809445446362712, 0.6809445446362712, 0.6809445446362712, 0.6809445446362712, 0.6809445446362712, 0.6809445446362712, 0.6809445446362712, 0.732325229761966, 0.732325229761966]}], \"AUC_micro\": [{\"categories\": [\"0\", \"1\", \"2\", \"3\", \"4\", \"5\", \"6\", \"7\", \"8\", \"9\", \"10\", \"11\", \"12\", \"13\", \"14\", \"15\", \"16\", \"17\", \"18\", \"19\", \"20\", \"21\", \"22\", \"23\", \"24\", \"25\", \"26\", \"27\", \"28\", \"29\", \"30\", \"31\", \"32\", \"33\", \"34\", \"38\", \"39\"], \"mode\": \"markers\", \"name\": \"AUC_micro\", \"stepped\": false, \"type\": \"scatter\", \"data\": [0.9035422116527941, 0.9042166732725592, 0.9156357510899722, 0.9002712379442462, 0.9072985863390144, 0.8864583168186023, 0.7848025498744879, 0.8925694279297133, 0.903497291584093, 0.9043783855198839, 0.8146436781609196, 0.9073901440084555, 0.8558131853613423, 0.9036513409961687, 0.8912654247588849, 0.9113745541022592, 0.913787818734311, 0.8939495309816357, 0.9124388954947815, 0.9057662835249042, 0.8871465186946758, 0.9006299379046109, 0.9038248117320649, 0.9128384198705245, 0.9169690844233056, 0.6791954022988507, 0.9005986259743691, 0.8888676179151803, 0.864544193420531, 0.8879885057471265, 0.6791954022988507, 0.8989475492138987, 0.905984674329502, 0.8870140044920068, 0.8704818337957457, 0.9208306249174264, 0.916021667327256]}, {\"categories\": [\"0\", \"1\", \"2\", \"3\", \"4\", \"5\", \"6\", \"7\", \"8\", \"9\", \"10\", \"11\", \"12\", \"13\", \"14\", \"15\", \"16\", \"17\", \"18\", \"19\", \"20\", \"21\", \"22\", \"23\", \"24\", \"25\", \"26\", \"27\", \"28\", \"29\", \"30\", \"31\", \"32\", \"33\", \"34\", \"38\", \"39\"], \"mode\": \"lines\", \"name\": \"AUC_micro_max\", \"stepped\": true, \"type\": \"scatter\", \"data\": [0.9035422116527941, 0.9042166732725592, 0.9156357510899722, 0.9156357510899722, 0.9156357510899722, 0.9156357510899722, 0.9156357510899722, 0.9156357510899722, 0.9156357510899722, 0.9156357510899722, 0.9156357510899722, 0.9156357510899722, 0.9156357510899722, 0.9156357510899722, 0.9156357510899722, 0.9156357510899722, 0.9156357510899722, 0.9156357510899722, 0.9156357510899722, 0.9156357510899722, 0.9156357510899722, 0.9156357510899722, 0.9156357510899722, 0.9156357510899722, 0.9169690844233056, 0.9169690844233056, 0.9169690844233056, 0.9169690844233056, 0.9169690844233056, 0.9169690844233056, 0.9169690844233056, 0.9169690844233056, 0.9169690844233056, 0.9169690844233056, 0.9169690844233056, 0.9208306249174264, 0.9208306249174264]}], \"precision_score_weighted\": [{\"categories\": [\"0\", \"1\", \"2\", \"3\", \"4\", \"5\", \"6\", \"7\", \"8\", \"9\", \"10\", \"11\", \"12\", \"13\", \"14\", \"15\", \"16\", \"17\", \"18\", \"19\", \"20\", \"21\", \"22\", \"23\", \"24\", \"25\", \"26\", \"27\", \"28\", \"29\", \"30\", \"31\", \"32\", \"33\", \"34\", \"38\", \"39\"], \"mode\": \"markers\", \"name\": \"precision_score_weighted\", \"stepped\": false, \"type\": \"scatter\", \"data\": [0.8443308716969533, 0.8506678986628277, 0.8504128894128673, 0.8469063326561826, 0.8435840717808484, 0.832856005878968, 0.738685870709334, 0.837153057106774, 0.8471991704876658, 0.8503095268050291, 0.7238533899328502, 0.8570830750616596, 0.8241893216192067, 0.8328665171242908, 0.8413490727579933, 0.8575584589739762, 0.8605560460731889, 0.8464264202888815, 0.8536655186898594, 0.8716503690991079, 0.845502967347495, 0.8532453478116515, 0.8699948677675813, 0.8505732852344436, 0.8556666218838632, 0.47055053507728895, 0.8632553265105122, 0.8463196464385015, 0.7915787865391313, 0.8238092504696702, 0.47055053507728895, 0.8559490730224113, 0.8457699355209612, 0.8382176329417709, 0.8245342350802621, 0.8930800928207224, 0.87874969785125]}, {\"categories\": [\"0\", \"1\", \"2\", \"3\", \"4\", \"5\", \"6\", \"7\", \"8\", \"9\", \"10\", \"11\", \"12\", \"13\", \"14\", \"15\", \"16\", \"17\", \"18\", \"19\", \"20\", \"21\", \"22\", \"23\", \"24\", \"25\", \"26\", \"27\", \"28\", \"29\", \"30\", \"31\", \"32\", \"33\", \"34\", \"38\", \"39\"], \"mode\": \"lines\", \"name\": \"precision_score_weighted_max\", \"stepped\": true, \"type\": \"scatter\", \"data\": [0.8443308716969533, 0.8506678986628277, 0.8506678986628277, 0.8506678986628277, 0.8506678986628277, 0.8506678986628277, 0.8506678986628277, 0.8506678986628277, 0.8506678986628277, 0.8506678986628277, 0.8506678986628277, 0.8570830750616596, 0.8570830750616596, 0.8570830750616596, 0.8570830750616596, 0.8575584589739762, 0.8605560460731889, 0.8605560460731889, 0.8605560460731889, 0.8716503690991079, 0.8716503690991079, 0.8716503690991079, 0.8716503690991079, 0.8716503690991079, 0.8716503690991079, 0.8716503690991079, 0.8716503690991079, 0.8716503690991079, 0.8716503690991079, 0.8716503690991079, 0.8716503690991079, 0.8716503690991079, 0.8716503690991079, 0.8716503690991079, 0.8716503690991079, 0.8930800928207224, 0.8930800928207224]}], \"weighted_accuracy\": [{\"categories\": [\"0\", \"1\", \"2\", \"3\", \"4\", \"5\", \"6\", \"7\", \"8\", \"9\", \"10\", \"11\", \"12\", \"13\", \"14\", \"15\", \"16\", \"17\", \"18\", \"19\", \"20\", \"21\", \"22\", \"23\", \"24\", \"25\", \"26\", \"27\", \"28\", \"29\", \"30\", \"31\", \"32\", \"33\", \"34\", \"38\", \"39\"], \"mode\": \"markers\", \"name\": \"weighted_accuracy\", \"stepped\": false, \"type\": \"scatter\", \"data\": [0.8541321922200625, 0.8502962163535492, 0.858692581347175, 0.8569024790914439, 0.8405194697717286, 0.8409456202840964, 0.7698814019351353, 0.8459653173983817, 0.8595287859119706, 0.8640079405944784, 0.7581248806366365, 0.8659647493680076, 0.8409032945905187, 0.8489197405665564, 0.8572318293313085, 0.8627033459458465, 0.873959402436074, 0.8535480316158818, 0.8568207677613288, 0.8778154474276393, 0.871506427706724, 0.8605855281282174, 0.8864511194054332, 0.8638836774484625, 0.8644676882147795, 0.7931711479234276, 0.8734514076072569, 0.8549398496329562, 0.8276578072504888, 0.8441175155555168, 0.7931711479234276, 0.8696163512263926, 0.8639512621735219, 0.8583351098078585, 0.8554841494148127, 0.9022420818079511, 0.8804863750334233]}, {\"categories\": [\"0\", \"1\", \"2\", \"3\", \"4\", \"5\", \"6\", \"7\", \"8\", \"9\", \"10\", \"11\", \"12\", \"13\", \"14\", \"15\", \"16\", \"17\", \"18\", \"19\", \"20\", \"21\", \"22\", \"23\", \"24\", \"25\", \"26\", \"27\", \"28\", \"29\", \"30\", \"31\", \"32\", \"33\", \"34\", \"38\", \"39\"], \"mode\": \"lines\", \"name\": \"weighted_accuracy_max\", \"stepped\": true, \"type\": \"scatter\", \"data\": [0.8541321922200625, 0.8541321922200625, 0.858692581347175, 0.858692581347175, 0.858692581347175, 0.858692581347175, 0.858692581347175, 0.858692581347175, 0.8595287859119706, 0.8640079405944784, 0.8640079405944784, 0.8659647493680076, 0.8659647493680076, 0.8659647493680076, 0.8659647493680076, 0.8659647493680076, 0.873959402436074, 0.873959402436074, 0.873959402436074, 0.8778154474276393, 0.8778154474276393, 0.8778154474276393, 0.8864511194054332, 0.8864511194054332, 0.8864511194054332, 0.8864511194054332, 0.8864511194054332, 0.8864511194054332, 0.8864511194054332, 0.8864511194054332, 0.8864511194054332, 0.8864511194054332, 0.8864511194054332, 0.8864511194054332, 0.8864511194054332, 0.9022420818079511, 0.9022420818079511]}], \"average_precision_score_weighted\": [{\"categories\": [\"0\", \"1\", \"2\", \"3\", \"4\", \"5\", \"6\", \"7\", \"8\", \"9\", \"10\", \"11\", \"12\", \"13\", \"14\", \"15\", \"16\", \"17\", \"18\", \"19\", \"20\", \"21\", \"22\", \"23\", \"24\", \"25\", \"26\", \"27\", \"28\", \"29\", \"30\", \"31\", \"32\", \"33\", \"34\", \"38\", \"39\"], \"mode\": \"markers\", \"name\": \"average_precision_score_weighted\", \"stepped\": false, \"type\": \"scatter\", \"data\": [0.9061112830231934, 0.907154018724502, 0.9211106859325767, 0.91244887700175, 0.912332163414068, 0.8983764202728152, 0.7902984708289256, 0.9006152166437232, 0.9165549146745361, 0.9126926295526324, 0.8266773551675792, 0.909918238359116, 0.8992124057005514, 0.9148132428087162, 0.89933312883859, 0.9139002185041992, 0.9207554304535966, 0.9051350361494794, 0.9206627380176673, 0.9130600422548178, 0.908411983712013, 0.9105790712632071, 0.9130479622506584, 0.9145039700880538, 0.9250095480051399, 0.5827102655568768, 0.9060660336140408, 0.8927649452696722, 0.8773409037627611, 0.8856280200282729, 0.5827102655568768, 0.9101244571305628, 0.9197807978852005, 0.8933240283439172, 0.9018891511020787, 0.9277030496847438, 0.9272851400903871]}, {\"categories\": [\"0\", \"1\", \"2\", \"3\", \"4\", \"5\", \"6\", \"7\", \"8\", \"9\", \"10\", \"11\", \"12\", \"13\", \"14\", \"15\", \"16\", \"17\", \"18\", \"19\", \"20\", \"21\", \"22\", \"23\", \"24\", \"25\", \"26\", \"27\", \"28\", \"29\", \"30\", \"31\", \"32\", \"33\", \"34\", \"38\", \"39\"], \"mode\": \"lines\", \"name\": \"average_precision_score_weighted_max\", \"stepped\": true, \"type\": \"scatter\", \"data\": [0.9061112830231934, 0.907154018724502, 0.9211106859325767, 0.9211106859325767, 0.9211106859325767, 0.9211106859325767, 0.9211106859325767, 0.9211106859325767, 0.9211106859325767, 0.9211106859325767, 0.9211106859325767, 0.9211106859325767, 0.9211106859325767, 0.9211106859325767, 0.9211106859325767, 0.9211106859325767, 0.9211106859325767, 0.9211106859325767, 0.9211106859325767, 0.9211106859325767, 0.9211106859325767, 0.9211106859325767, 0.9211106859325767, 0.9211106859325767, 0.9250095480051399, 0.9250095480051399, 0.9250095480051399, 0.9250095480051399, 0.9250095480051399, 0.9250095480051399, 0.9250095480051399, 0.9250095480051399, 0.9250095480051399, 0.9250095480051399, 0.9250095480051399, 0.9277030496847438, 0.9277030496847438]}], \"norm_macro_recall\": [{\"categories\": [\"0\", \"1\", \"2\", \"3\", \"4\", \"5\", \"6\", \"7\", \"8\", \"9\", \"10\", \"11\", \"12\", \"13\", \"14\", \"15\", \"16\", \"17\", \"18\", \"19\", \"20\", \"21\", \"22\", \"23\", \"24\", \"25\", \"26\", \"27\", \"28\", \"29\", \"30\", \"31\", \"32\", \"33\", \"34\", \"38\", \"39\"], \"mode\": \"markers\", \"name\": \"norm_macro_recall\", \"stepped\": false, \"type\": \"scatter\", \"data\": [0.6154165791620023, 0.626049804187676, 0.6099779694625231, 0.5930513726675054, 0.6026391183822535, 0.5514545660924378, 0.30924433778781607, 0.5700270959018099, 0.5836336881399811, 0.6038275819654537, 0.2958558096492879, 0.6119452493222516, 0.26143217893217885, 0.5251463144026072, 0.5739475409538338, 0.6239475409538338, 0.6219641982096216, 0.6190142797705727, 0.6396041066103995, 0.6617143063521781, 0.548674749290882, 0.5903128539398562, 0.6035766251927579, 0.5944002199173823, 0.6199033395412114, 0.0, 0.6212777984156702, 0.5922630266377406, 0.37979216403987565, 0.5370362855425785, 0.0, 0.5803192847071565, 0.5855606894376916, 0.5537094457157385, 0.40547998784840883, 0.6879515529601342, 0.6693436448499377]}, {\"categories\": [\"0\", \"1\", \"2\", \"3\", \"4\", \"5\", \"6\", \"7\", \"8\", \"9\", \"10\", \"11\", \"12\", \"13\", \"14\", \"15\", \"16\", \"17\", \"18\", \"19\", \"20\", \"21\", \"22\", \"23\", \"24\", \"25\", \"26\", \"27\", \"28\", \"29\", \"30\", \"31\", \"32\", \"33\", \"34\", \"38\", \"39\"], \"mode\": \"lines\", \"name\": \"norm_macro_recall_max\", \"stepped\": true, \"type\": \"scatter\", \"data\": [0.6154165791620023, 0.626049804187676, 0.626049804187676, 0.626049804187676, 0.626049804187676, 0.626049804187676, 0.626049804187676, 0.626049804187676, 0.626049804187676, 0.626049804187676, 0.626049804187676, 0.626049804187676, 0.626049804187676, 0.626049804187676, 0.626049804187676, 0.626049804187676, 0.626049804187676, 0.626049804187676, 0.6396041066103995, 0.6617143063521781, 0.6617143063521781, 0.6617143063521781, 0.6617143063521781, 0.6617143063521781, 0.6617143063521781, 0.6617143063521781, 0.6617143063521781, 0.6617143063521781, 0.6617143063521781, 0.6617143063521781, 0.6617143063521781, 0.6617143063521781, 0.6617143063521781, 0.6617143063521781, 0.6617143063521781, 0.6879515529601342, 0.6879515529601342]}], \"f1_score_weighted\": [{\"categories\": [\"0\", \"1\", \"2\", \"3\", \"4\", \"5\", \"6\", \"7\", \"8\", \"9\", \"10\", \"11\", \"12\", \"13\", \"14\", \"15\", \"16\", \"17\", \"18\", \"19\", \"20\", \"21\", \"22\", \"23\", \"24\", \"25\", \"26\", \"27\", \"28\", \"29\", \"30\", \"31\", \"32\", \"33\", \"34\", \"38\", \"39\"], \"mode\": \"markers\", \"name\": \"f1_score_weighted\", \"stepped\": false, \"type\": \"scatter\", \"data\": [0.8333388901455894, 0.8342588560383983, 0.8370801264991201, 0.8269461843271945, 0.8237718994938868, 0.8088075274881824, 0.689554419268011, 0.8182849428892383, 0.8268845927520065, 0.8353431131714999, 0.6891031065061642, 0.8377049894762469, 0.7057466799580798, 0.8071000235326506, 0.8228378700361446, 0.8395925776340063, 0.8441244070778913, 0.8330919162782356, 0.8418407106243672, 0.855642166392532, 0.8223384899086943, 0.8307688676797806, 0.8438162993201577, 0.8363603598728471, 0.8389130933376574, 0.5534120288954022, 0.8444890292067422, 0.828560409716706, 0.7550407397324856, 0.8119119409080092, 0.5534120288954022, 0.8324933802222503, 0.8295532765398808, 0.8175797496448685, 0.7690657521002142, 0.8743438620435804, 0.8580548471381058]}, {\"categories\": [\"0\", \"1\", \"2\", \"3\", \"4\", \"5\", \"6\", \"7\", \"8\", \"9\", \"10\", \"11\", \"12\", \"13\", \"14\", \"15\", \"16\", \"17\", \"18\", \"19\", \"20\", \"21\", \"22\", \"23\", \"24\", \"25\", \"26\", \"27\", \"28\", \"29\", \"30\", \"31\", \"32\", \"33\", \"34\", \"38\", \"39\"], \"mode\": \"lines\", \"name\": \"f1_score_weighted_max\", \"stepped\": true, \"type\": \"scatter\", \"data\": [0.8333388901455894, 0.8342588560383983, 0.8370801264991201, 0.8370801264991201, 0.8370801264991201, 0.8370801264991201, 0.8370801264991201, 0.8370801264991201, 0.8370801264991201, 0.8370801264991201, 0.8370801264991201, 0.8377049894762469, 0.8377049894762469, 0.8377049894762469, 0.8377049894762469, 0.8395925776340063, 0.8441244070778913, 0.8441244070778913, 0.8441244070778913, 0.855642166392532, 0.855642166392532, 0.855642166392532, 0.855642166392532, 0.855642166392532, 0.855642166392532, 0.855642166392532, 0.855642166392532, 0.855642166392532, 0.855642166392532, 0.855642166392532, 0.855642166392532, 0.855642166392532, 0.855642166392532, 0.855642166392532, 0.855642166392532, 0.8743438620435804, 0.8743438620435804]}]}, \"metricName\": null, \"primaryMetricName\": \"accuracy\", \"showLegend\": false}, \"run_metrics\": [{\"name\": \"experiment_status\", \"run_id\": \"AutoML_7764ea4d-b7a4-469f-848d-05fe5eedca4c\", \"categories\": [0, 1, 2, 3, 4, 5, 6, 7, 8, 9, 10, 11, 12, 13], \"series\": [{\"data\": [\"DatasetEvaluation\", \"FeaturesGeneration\", \"DatasetFeaturization\", \"DatasetFeaturizationCompleted\", \"DatasetCrossValidationSplit\", \"ModelSelection\", \"BestRunExplainModel\", \"ModelExplanationDataSetSetup\", \"PickSurrogateModel\", \"EngineeredFeatureExplanations\", \"EngineeredFeatureExplanations\", \"RawFeaturesExplanations\", \"RawFeaturesExplanations\", \"BestRunExplainModel\"]}]}, {\"name\": \"experiment_status_description\", \"run_id\": \"AutoML_7764ea4d-b7a4-469f-848d-05fe5eedca4c\", \"categories\": [0, 1, 2, 3, 4, 5, 6, 7, 8, 9, 10, 11, 12, 13], \"series\": [{\"data\": [\"Gathering dataset statistics.\", \"Generating features for the dataset.\", \"Beginning to fit featurizers and featurize the dataset.\", \"Completed fit featurizers and featurizing the dataset.\", \"Generating individually featurized CV splits.\", \"Beginning model selection.\", \"Best run model explanations started\", \"Model explanations data setup completed\", \"Choosing LightGBM as the surrogate model for explanations\", \"Computation of engineered features started\", \"Computation of engineered features completed\", \"Computation of raw features started\", \"Computation of raw features completed\", \"Best run model explanations completed\"]}]}, {\"name\": \"recall_score_weighted\", \"run_id\": \"AutoML_7764ea4d-b7a4-469f-848d-05fe5eedca4c\", \"categories\": [0], \"series\": [{\"data\": [0.8796551724137931]}]}, {\"name\": \"recall_score_macro\", \"run_id\": \"AutoML_7764ea4d-b7a4-469f-848d-05fe5eedca4c\", \"categories\": [0], \"series\": [{\"data\": [0.843975776480067]}]}, {\"name\": \"precision_score_weighted\", \"run_id\": \"AutoML_7764ea4d-b7a4-469f-848d-05fe5eedca4c\", \"categories\": [0], \"series\": [{\"data\": [0.8930800928207224]}]}, {\"name\": \"recall_score_micro\", \"run_id\": \"AutoML_7764ea4d-b7a4-469f-848d-05fe5eedca4c\", \"categories\": [0], \"series\": [{\"data\": [0.8796551724137931]}]}, {\"name\": \"average_precision_score_macro\", \"run_id\": \"AutoML_7764ea4d-b7a4-469f-848d-05fe5eedca4c\", \"categories\": [0], \"series\": [{\"data\": [0.9049046135368292]}]}, {\"name\": \"average_precision_score_micro\", \"run_id\": \"AutoML_7764ea4d-b7a4-469f-848d-05fe5eedca4c\", \"categories\": [0], \"series\": [{\"data\": [0.9242047745436676]}]}, {\"name\": \"f1_score_macro\", \"run_id\": \"AutoML_7764ea4d-b7a4-469f-848d-05fe5eedca4c\", \"categories\": [0], \"series\": [{\"data\": [0.8533382589697419]}]}, {\"name\": \"AUC_macro\", \"run_id\": \"AutoML_7764ea4d-b7a4-469f-848d-05fe5eedca4c\", \"categories\": [0], \"series\": [{\"data\": [0.9155198346657156]}]}, {\"name\": \"AUC_weighted\", \"run_id\": \"AutoML_7764ea4d-b7a4-469f-848d-05fe5eedca4c\", \"categories\": [0], \"series\": [{\"data\": [0.9155198346657156]}]}, {\"name\": \"balanced_accuracy\", \"run_id\": \"AutoML_7764ea4d-b7a4-469f-848d-05fe5eedca4c\", \"categories\": [0], \"series\": [{\"data\": [0.843975776480067]}]}, {\"name\": \"precision_score_micro\", \"run_id\": \"AutoML_7764ea4d-b7a4-469f-848d-05fe5eedca4c\", \"categories\": [0], \"series\": [{\"data\": [0.8796551724137931]}]}, {\"name\": \"matthews_correlation\", \"run_id\": \"AutoML_7764ea4d-b7a4-469f-848d-05fe5eedca4c\", \"categories\": [0], \"series\": [{\"data\": [0.732325229761966]}]}, {\"name\": \"precision_score_macro\", \"run_id\": \"AutoML_7764ea4d-b7a4-469f-848d-05fe5eedca4c\", \"categories\": [0], \"series\": [{\"data\": [0.8922669774288767]}]}, {\"name\": \"f1_score_weighted\", \"run_id\": \"AutoML_7764ea4d-b7a4-469f-848d-05fe5eedca4c\", \"categories\": [0], \"series\": [{\"data\": [0.8743438620435804]}]}, {\"name\": \"weighted_accuracy\", \"run_id\": \"AutoML_7764ea4d-b7a4-469f-848d-05fe5eedca4c\", \"categories\": [0], \"series\": [{\"data\": [0.9022420818079511]}]}, {\"name\": \"accuracy\", \"run_id\": \"AutoML_7764ea4d-b7a4-469f-848d-05fe5eedca4c\", \"categories\": [0], \"series\": [{\"data\": [0.8796551724137931]}]}, {\"name\": \"norm_macro_recall\", \"run_id\": \"AutoML_7764ea4d-b7a4-469f-848d-05fe5eedca4c\", \"categories\": [0], \"series\": [{\"data\": [0.6879515529601342]}]}, {\"name\": \"AUC_micro\", \"run_id\": \"AutoML_7764ea4d-b7a4-469f-848d-05fe5eedca4c\", \"categories\": [0], \"series\": [{\"data\": [0.9208306249174264]}]}, {\"name\": \"average_precision_score_weighted\", \"run_id\": \"AutoML_7764ea4d-b7a4-469f-848d-05fe5eedca4c\", \"categories\": [0], \"series\": [{\"data\": [0.9277030496847438]}]}, {\"name\": \"log_loss\", \"run_id\": \"AutoML_7764ea4d-b7a4-469f-848d-05fe5eedca4c\", \"categories\": [0], \"series\": [{\"data\": [0.3780738754044163]}]}, {\"name\": \"f1_score_micro\", \"run_id\": \"AutoML_7764ea4d-b7a4-469f-848d-05fe5eedca4c\", \"categories\": [0], \"series\": [{\"data\": [0.8796551724137931]}]}], \"run_logs\": \"\\nRun is completed.\", \"graph\": {}, \"widget_settings\": {\"childWidgetDisplay\": \"popup\", \"send_telemetry\": false, \"log_level\": \"INFO\", \"sdk_version\": \"1.20.0\"}, \"loading\": false}"
          },
          "metadata": {}
        }
      ],
      "execution_count": 15,
      "metadata": {
        "gather": {
          "logged": 1612192320449
        },
        "jupyter": {
          "outputs_hidden": false,
          "source_hidden": false
        },
        "nteract": {
          "transient": {
            "deleting": false
          }
        }
      }
    },
    {
      "cell_type": "markdown",
      "source": [
        "## Best Model\n",
        "\n",
        "TODO: In the cell below, get the best model from the automl experiments and display all the properties of the model.\n",
        "\n"
      ],
      "metadata": {}
    },
    {
      "cell_type": "code",
      "source": [
        "best_run, fitted_model = remote_run.get_output()\n",
        "print(best_run)\n",
        "print(fitted_model)"
      ],
      "outputs": [
        {
          "output_type": "stream",
          "name": "stdout",
          "text": [
            "Run(Experiment: AutoML_heart,\n",
            "Id: AutoML_7764ea4d-b7a4-469f-848d-05fe5eedca4c_38,\n",
            "Type: azureml.scriptrun,\n",
            "Status: Completed)\n",
            "Pipeline(memory=None,\n",
            "         steps=[('datatransformer',\n",
            "                 DataTransformer(enable_dnn=None, enable_feature_sweeping=None,\n",
            "                                 feature_sweeping_config=None,\n",
            "                                 feature_sweeping_timeout=None,\n",
            "                                 featurization_config=None, force_text_dnn=None,\n",
            "                                 is_cross_validation=None,\n",
            "                                 is_onnx_compatible=None, logger=None,\n",
            "                                 observer=None, task=None, working_dir=None)),\n",
            "                ('prefittedsoftvotingclassifier',...\n",
            "                                                                                                reg_lambda=0.42105263157894735,\n",
            "                                                                                                silent=True,\n",
            "                                                                                                subsample=0.24789473684210528,\n",
            "                                                                                                subsample_for_bin=200000,\n",
            "                                                                                                subsample_freq=0,\n",
            "                                                                                                verbose=-10))],\n",
            "                                                                     verbose=False))],\n",
            "                                               flatten_transform=None,\n",
            "                                               weights=[0.09090909090909091,\n",
            "                                                        0.09090909090909091,\n",
            "                                                        0.09090909090909091,\n",
            "                                                        0.18181818181818182,\n",
            "                                                        0.18181818181818182,\n",
            "                                                        0.18181818181818182,\n",
            "                                                        0.09090909090909091,\n",
            "                                                        0.09090909090909091]))],\n",
            "         verbose=False)\n"
          ]
        }
      ],
      "execution_count": 19,
      "metadata": {
        "gather": {
          "logged": 1612192498766
        },
        "jupyter": {
          "outputs_hidden": false,
          "source_hidden": false
        },
        "nteract": {
          "transient": {
            "deleting": false
          }
        }
      }
    },
    {
      "cell_type": "code",
      "source": [
        "#TODO: Save the best model\n",
        "\n",
        "best_run.register_model(model_name = 'automl_best_model.pkl', model_path = '.')\n",
        "\n",
        "import joblib\n",
        "\n",
        "joblib.dump(value= fitted_model, filename = './model_ML_fitted.joblib')"
      ],
      "outputs": [
        {
          "output_type": "execute_result",
          "execution_count": 21,
          "data": {
            "text/plain": "['./model_ML_fitted.joblib']"
          },
          "metadata": {}
        }
      ],
      "execution_count": 21,
      "metadata": {
        "gather": {
          "logged": 1612192608083
        },
        "jupyter": {
          "outputs_hidden": false,
          "source_hidden": false
        },
        "nteract": {
          "transient": {
            "deleting": false
          }
        }
      }
    },
    {
      "cell_type": "markdown",
      "source": [
        "## Model Deployment\n",
        "\n",
        "Remember you have to deploy only one of the two models you trained.. Perform the steps in the rest of this notebook only if you wish to deploy this model.\n",
        "\n",
        "TODO: In the cell below, register the model, create an inference config and deploy the model as a web service."
      ],
      "metadata": {}
    },
    {
      "cell_type": "code",
      "source": [
        "#best_run.download_file(constants.CONDA_ENV_FILE_PATH, 'myenv.yml')\r\n",
        "\r\n",
        "from azureml.core.environment import Environment\r\n",
        "from azureml.core.model import InferenceConfig\r\n",
        "\r\n",
        "env = Environment.get(ws, \"AzureML-Minimal\")\r\n",
        "for pip_package in [\"scikit-learn\"]:\r\n",
        "    env.python.conda_dependencies.add_pip_package(pip_package)\r\n",
        "\r\n",
        "inference_config = InferenceConfig(entry_script='score.py',\r\n",
        "                                    environment=env)\r\n",
        "\r\n"
      ],
      "outputs": [
        {
          "output_type": "stream",
          "name": "stderr",
          "text": [
            "ERROR:azureml._model_management._util:entry_script score.py doesn't exist. entry_script should be path relative to current working directory\n",
            "\n"
          ]
        },
        {
          "output_type": "error",
          "ename": "WebserviceException",
          "evalue": "WebserviceException:\n\tMessage: entry_script score.py doesn't exist. entry_script should be path relative to current working directory\n\tInnerException None\n\tErrorResponse \n{\n    \"error\": {\n        \"message\": \"entry_script score.py doesn't exist. entry_script should be path relative to current working directory\"\n    }\n}",
          "traceback": [
            "\u001b[0;31m---------------------------------------------------------------------------\u001b[0m",
            "\u001b[0;31mWebserviceException\u001b[0m                       Traceback (most recent call last)",
            "\u001b[0;32m<ipython-input-36-4565ba0b7aa5>\u001b[0m in \u001b[0;36m<module>\u001b[0;34m\u001b[0m\n\u001b[1;32m      9\u001b[0m \u001b[0;34m\u001b[0m\u001b[0m\n\u001b[1;32m     10\u001b[0m inference_config = InferenceConfig(entry_script='score.py',\n\u001b[0;32m---> 11\u001b[0;31m                                     environment=env)\n\u001b[0m\u001b[1;32m     12\u001b[0m \u001b[0;34m\u001b[0m\u001b[0m\n",
            "\u001b[0;32m/anaconda/envs/azureml_py36/lib/python3.6/site-packages/azureml/core/model.py\u001b[0m in \u001b[0;36m__init__\u001b[0;34m(self, entry_script, runtime, conda_file, extra_docker_file_steps, source_directory, enable_gpu, description, base_image, base_image_registry, cuda_version, environment)\u001b[0m\n\u001b[1;32m   2055\u001b[0m         \u001b[0mself\u001b[0m\u001b[0;34m.\u001b[0m\u001b[0menvironment\u001b[0m \u001b[0;34m=\u001b[0m \u001b[0menvironment\u001b[0m\u001b[0;34m\u001b[0m\u001b[0;34m\u001b[0m\u001b[0m\n\u001b[1;32m   2056\u001b[0m \u001b[0;34m\u001b[0m\u001b[0m\n\u001b[0;32m-> 2057\u001b[0;31m         \u001b[0mself\u001b[0m\u001b[0;34m.\u001b[0m\u001b[0mvalidate_configuration\u001b[0m\u001b[0;34m(\u001b[0m\u001b[0;34m)\u001b[0m\u001b[0;34m\u001b[0m\u001b[0;34m\u001b[0m\u001b[0m\n\u001b[0m\u001b[1;32m   2058\u001b[0m \u001b[0;34m\u001b[0m\u001b[0m\n\u001b[1;32m   2059\u001b[0m     \u001b[0;32mdef\u001b[0m \u001b[0m__repr__\u001b[0m\u001b[0;34m(\u001b[0m\u001b[0mself\u001b[0m\u001b[0;34m)\u001b[0m\u001b[0;34m:\u001b[0m\u001b[0;34m\u001b[0m\u001b[0;34m\u001b[0m\u001b[0m\n",
            "\u001b[0;32m/anaconda/envs/azureml_py36/lib/python3.6/site-packages/azureml/core/model.py\u001b[0m in \u001b[0;36mvalidate_configuration\u001b[0;34m(self)\u001b[0m\n\u001b[1;32m   2163\u001b[0m         validate_path_exists_or_throw(joinPath(self.source_directory, self.entry_script),\n\u001b[1;32m   2164\u001b[0m                                       \u001b[0;34m'entry_script'\u001b[0m\u001b[0;34m,\u001b[0m\u001b[0;34m\u001b[0m\u001b[0;34m\u001b[0m\u001b[0m\n\u001b[0;32m-> 2165\u001b[0;31m                                       \u001b[0mextra_message\u001b[0m\u001b[0;34m=\u001b[0m\u001b[0;34m'entry_script should be path relative to '\u001b[0m\u001b[0;34m\u001b[0m\u001b[0;34m\u001b[0m\u001b[0m\n\u001b[0m\u001b[1;32m   2166\u001b[0m                                                     'current working directory')\n\u001b[1;32m   2167\u001b[0m \u001b[0;34m\u001b[0m\u001b[0m\n",
            "\u001b[0;32m/anaconda/envs/azureml_py36/lib/python3.6/site-packages/azureml/_model_management/_util.py\u001b[0m in \u001b[0;36mvalidate_path_exists_or_throw\u001b[0;34m(member, name, extra_message)\u001b[0m\n\u001b[1;32m    875\u001b[0m     \u001b[0;32mif\u001b[0m \u001b[0;32mnot\u001b[0m \u001b[0mos\u001b[0m\u001b[0;34m.\u001b[0m\u001b[0mpath\u001b[0m\u001b[0;34m.\u001b[0m\u001b[0mexists\u001b[0m\u001b[0;34m(\u001b[0m\u001b[0mmember\u001b[0m\u001b[0;34m)\u001b[0m\u001b[0;34m:\u001b[0m\u001b[0;34m\u001b[0m\u001b[0;34m\u001b[0m\u001b[0m\n\u001b[1;32m    876\u001b[0m         raise WebserviceException(\"{0} {1} doesn't exist. {2}\".format(name, member, extra_message),\n\u001b[0;32m--> 877\u001b[0;31m                                   logger=module_logger)\n\u001b[0m\u001b[1;32m    878\u001b[0m \u001b[0;34m\u001b[0m\u001b[0m\n\u001b[1;32m    879\u001b[0m \u001b[0;34m\u001b[0m\u001b[0m\n",
            "\u001b[0;31mWebserviceException\u001b[0m: WebserviceException:\n\tMessage: entry_script score.py doesn't exist. entry_script should be path relative to current working directory\n\tInnerException None\n\tErrorResponse \n{\n    \"error\": {\n        \"message\": \"entry_script score.py doesn't exist. entry_script should be path relative to current working directory\"\n    }\n}"
          ]
        }
      ],
      "execution_count": 36,
      "metadata": {
        "collapsed": true,
        "jupyter": {
          "source_hidden": false,
          "outputs_hidden": false
        },
        "nteract": {
          "transient": {
            "deleting": false
          }
        }
      }
    },
    {
      "cell_type": "code",
      "source": [
        "from azureml.core import Model\r\n",
        "from azureml.core.webservice import AciWebservice, Webservice\r\n",
        "import joblib\r\n",
        "##model = best_run.register_model(model_name='model_name', model_path='./outputs/model_name.pkl',\r\n",
        "  ##                     model_framework=Model.Framework.SCIKITLEARN)\r\n",
        "\r\n",
        "model = best_run.register_model(model_name = 'automl_best_model.pkl', model_path = '.', model_framework=Model.Framework.SCIKITLEARN )\r\n",
        "\r\n",
        "\r\n",
        "aci_config = AciWebservice.deploy_configuration(cpu_cores=1, memory_gb=2,\r\n",
        "                                                enable_app_insights=True, auth_enabled=False)  \r\n",
        "service_name =  'automl'\r\n",
        "service = Model.deploy(ws, service_name, [model], deployment_config=aci_config, overwrite=True)\r\n",
        "service.wait_for_deployment(show_output = True)\r\n",
        "print(service.get_logs())"
      ],
      "outputs": [
        {
          "output_type": "stream",
          "name": "stdout",
          "text": [
            "Tips: You can try get_logs(): https://aka.ms/debugimage#dockerlog or local deployment: https://aka.ms/debugimage#debug-locally to debug if deployment takes longer than 10 minutes.\n",
            "Running..........................................................................................................................................................................................................\n",
            "Failed\n"
          ]
        },
        {
          "output_type": "stream",
          "name": "stderr",
          "text": [
            "ERROR:azureml.core.webservice.webservice:Service deployment polling reached non-successful terminal state, current service state: Unhealthy\n",
            "Operation ID: bb9e6dd8-4e39-4bb3-b3ef-97056e515895\n",
            "More information can be found using '.get_logs()'\n",
            "Error:\n",
            "{\n",
            "  \"code\": \"AciDeploymentFailed\",\n",
            "  \"message\": \"Aci Deployment failed with exception: Error in entry script, FileNotFoundError: [Errno 2] No such file or directory: 'azureml-models/automl_best_model.pkl/7', please run print(service.get_logs()) to get details.\",\n",
            "  \"details\": [\n",
            "    {\n",
            "      \"code\": \"CrashLoopBackOff\",\n",
            "      \"message\": \"Error in entry script, FileNotFoundError: [Errno 2] No such file or directory: 'azureml-models/automl_best_model.pkl/7', please run print(service.get_logs()) to get details.\"\n",
            "    }\n",
            "  ]\n",
            "}\n",
            "\n"
          ]
        },
        {
          "output_type": "error",
          "ename": "WebserviceException",
          "evalue": "WebserviceException:\n\tMessage: Service deployment polling reached non-successful terminal state, current service state: Unhealthy\nOperation ID: bb9e6dd8-4e39-4bb3-b3ef-97056e515895\nMore information can be found using '.get_logs()'\nError:\n{\n  \"code\": \"AciDeploymentFailed\",\n  \"message\": \"Aci Deployment failed with exception: Error in entry script, FileNotFoundError: [Errno 2] No such file or directory: 'azureml-models/automl_best_model.pkl/7', please run print(service.get_logs()) to get details.\",\n  \"details\": [\n    {\n      \"code\": \"CrashLoopBackOff\",\n      \"message\": \"Error in entry script, FileNotFoundError: [Errno 2] No such file or directory: 'azureml-models/automl_best_model.pkl/7', please run print(service.get_logs()) to get details.\"\n    }\n  ]\n}\n\tInnerException None\n\tErrorResponse \n{\n    \"error\": {\n        \"message\": \"Service deployment polling reached non-successful terminal state, current service state: Unhealthy\\nOperation ID: bb9e6dd8-4e39-4bb3-b3ef-97056e515895\\nMore information can be found using '.get_logs()'\\nError:\\n{\\n  \\\"code\\\": \\\"AciDeploymentFailed\\\",\\n  \\\"message\\\": \\\"Aci Deployment failed with exception: Error in entry script, FileNotFoundError: [Errno 2] No such file or directory: 'azureml-models/automl_best_model.pkl/7', please run print(service.get_logs()) to get details.\\\",\\n  \\\"details\\\": [\\n    {\\n      \\\"code\\\": \\\"CrashLoopBackOff\\\",\\n      \\\"message\\\": \\\"Error in entry script, FileNotFoundError: [Errno 2] No such file or directory: 'azureml-models/automl_best_model.pkl/7', please run print(service.get_logs()) to get details.\\\"\\n    }\\n  ]\\n}\"\n    }\n}",
          "traceback": [
            "\u001b[0;31m---------------------------------------------------------------------------\u001b[0m",
            "\u001b[0;31mWebserviceException\u001b[0m                       Traceback (most recent call last)",
            "\u001b[0;32m<ipython-input-31-01cdbbe09149>\u001b[0m in \u001b[0;36m<module>\u001b[0;34m\u001b[0m\n\u001b[1;32m     12\u001b[0m \u001b[0mservice_name\u001b[0m \u001b[0;34m=\u001b[0m  \u001b[0;34m'automl'\u001b[0m\u001b[0;34m\u001b[0m\u001b[0;34m\u001b[0m\u001b[0m\n\u001b[1;32m     13\u001b[0m \u001b[0mservice\u001b[0m \u001b[0;34m=\u001b[0m \u001b[0mModel\u001b[0m\u001b[0;34m.\u001b[0m\u001b[0mdeploy\u001b[0m\u001b[0;34m(\u001b[0m\u001b[0mws\u001b[0m\u001b[0;34m,\u001b[0m \u001b[0mservice_name\u001b[0m\u001b[0;34m,\u001b[0m \u001b[0;34m[\u001b[0m\u001b[0mmodel\u001b[0m\u001b[0;34m]\u001b[0m\u001b[0;34m,\u001b[0m \u001b[0mdeployment_config\u001b[0m\u001b[0;34m=\u001b[0m\u001b[0maci_config\u001b[0m\u001b[0;34m,\u001b[0m \u001b[0moverwrite\u001b[0m\u001b[0;34m=\u001b[0m\u001b[0;32mTrue\u001b[0m\u001b[0;34m)\u001b[0m\u001b[0;34m\u001b[0m\u001b[0;34m\u001b[0m\u001b[0m\n\u001b[0;32m---> 14\u001b[0;31m \u001b[0mservice\u001b[0m\u001b[0;34m.\u001b[0m\u001b[0mwait_for_deployment\u001b[0m\u001b[0;34m(\u001b[0m\u001b[0mshow_output\u001b[0m \u001b[0;34m=\u001b[0m \u001b[0;32mTrue\u001b[0m\u001b[0;34m)\u001b[0m\u001b[0;34m\u001b[0m\u001b[0;34m\u001b[0m\u001b[0m\n\u001b[0m\u001b[1;32m     15\u001b[0m \u001b[0mprint\u001b[0m\u001b[0;34m(\u001b[0m\u001b[0mservice\u001b[0m\u001b[0;34m.\u001b[0m\u001b[0mget_logs\u001b[0m\u001b[0;34m(\u001b[0m\u001b[0;34m)\u001b[0m\u001b[0;34m)\u001b[0m\u001b[0;34m\u001b[0m\u001b[0;34m\u001b[0m\u001b[0m\n",
            "\u001b[0;32m/anaconda/envs/azureml_py36/lib/python3.6/site-packages/azureml/core/webservice/webservice.py\u001b[0m in \u001b[0;36mwait_for_deployment\u001b[0;34m(self, show_output, timeout_sec)\u001b[0m\n\u001b[1;32m    913\u001b[0m                                           \u001b[0;34m'Error:\\n'\u001b[0m\u001b[0;34m\u001b[0m\u001b[0;34m\u001b[0m\u001b[0m\n\u001b[1;32m    914\u001b[0m                                           '{}'.format(self.state, self._operation_endpoint.split('/')[-1],\n\u001b[0;32m--> 915\u001b[0;31m                                                       logs_response, error_response), logger=module_logger)\n\u001b[0m\u001b[1;32m    916\u001b[0m             print('{} service creation operation finished, operation \"{}\"'.format(self._webservice_type,\n\u001b[1;32m    917\u001b[0m                                                                                   operation_state))\n",
            "\u001b[0;31mWebserviceException\u001b[0m: WebserviceException:\n\tMessage: Service deployment polling reached non-successful terminal state, current service state: Unhealthy\nOperation ID: bb9e6dd8-4e39-4bb3-b3ef-97056e515895\nMore information can be found using '.get_logs()'\nError:\n{\n  \"code\": \"AciDeploymentFailed\",\n  \"message\": \"Aci Deployment failed with exception: Error in entry script, FileNotFoundError: [Errno 2] No such file or directory: 'azureml-models/automl_best_model.pkl/7', please run print(service.get_logs()) to get details.\",\n  \"details\": [\n    {\n      \"code\": \"CrashLoopBackOff\",\n      \"message\": \"Error in entry script, FileNotFoundError: [Errno 2] No such file or directory: 'azureml-models/automl_best_model.pkl/7', please run print(service.get_logs()) to get details.\"\n    }\n  ]\n}\n\tInnerException None\n\tErrorResponse \n{\n    \"error\": {\n        \"message\": \"Service deployment polling reached non-successful terminal state, current service state: Unhealthy\\nOperation ID: bb9e6dd8-4e39-4bb3-b3ef-97056e515895\\nMore information can be found using '.get_logs()'\\nError:\\n{\\n  \\\"code\\\": \\\"AciDeploymentFailed\\\",\\n  \\\"message\\\": \\\"Aci Deployment failed with exception: Error in entry script, FileNotFoundError: [Errno 2] No such file or directory: 'azureml-models/automl_best_model.pkl/7', please run print(service.get_logs()) to get details.\\\",\\n  \\\"details\\\": [\\n    {\\n      \\\"code\\\": \\\"CrashLoopBackOff\\\",\\n      \\\"message\\\": \\\"Error in entry script, FileNotFoundError: [Errno 2] No such file or directory: 'azureml-models/automl_best_model.pkl/7', please run print(service.get_logs()) to get details.\\\"\\n    }\\n  ]\\n}\"\n    }\n}"
          ]
        }
      ],
      "execution_count": 31,
      "metadata": {
        "gather": {
          "logged": 1598431435189
        },
        "jupyter": {
          "outputs_hidden": false,
          "source_hidden": false
        },
        "nteract": {
          "transient": {
            "deleting": false
          }
        }
      }
    },
    {
      "cell_type": "code",
      "source": [
        "print(service.get_logs())"
      ],
      "outputs": [
        {
          "output_type": "stream",
          "name": "stdout",
          "text": [
            "None\n"
          ]
        }
      ],
      "execution_count": 30,
      "metadata": {
        "collapsed": true,
        "jupyter": {
          "source_hidden": false,
          "outputs_hidden": false
        },
        "nteract": {
          "transient": {
            "deleting": false
          }
        },
        "gather": {
          "logged": 1612195235509
        }
      }
    },
    {
      "cell_type": "markdown",
      "source": [
        "TODO: In the cell below, send a request to the web service you deployed to test it."
      ],
      "metadata": {
        "collapsed": true,
        "gather": {
          "logged": 1598431657736
        },
        "jupyter": {
          "outputs_hidden": false,
          "source_hidden": false
        },
        "nteract": {
          "transient": {
            "deleting": false
          }
        }
      }
    },
    {
      "cell_type": "code",
      "source": [
        "import requests\r\n",
        "import json\r\n",
        "# URL for the web service, should be similar to:\r\n",
        "# 'http://8530a665-66f3-49c8-a953-b82a2d312917.eastus.azurecontainer.io/score'\r\n",
        "scoring_uri = service.scoring_uri\r\n",
        "# If the service is authenticated, set the key or token\r\n",
        "#key = ''\r\n",
        "\r\n",
        "# Two sets of data to score, so we get two results back\r\n",
        "data = {\"data\":\r\n",
        "        [\r\n",
        "          {\r\n",
        "           \"age\": 75, \r\n",
        "           \"anaemia\": 0, \r\n",
        "           \"creatinine_phosphokinase\": 582, \r\n",
        "           \"diabetes\": 0, \r\n",
        "           \"ejection_fraction\": 20, \r\n",
        "           \"high_blood_pressure\": 1, \r\n",
        "           \"platelets\": 265000, \r\n",
        "           \"serum_creatinine\": 1.9, \r\n",
        "           \"serum_sodium\": 130, \r\n",
        "           \"sex\": 1, \r\n",
        "           \"smoking\": 0,\r\n",
        "           \"time\": 4\r\n",
        "          },\r\n",
        "      ]\r\n",
        "    }"
      ],
      "outputs": [],
      "execution_count": 25,
      "metadata": {
        "gather": {
          "logged": 1612194084693
        },
        "jupyter": {
          "outputs_hidden": false,
          "source_hidden": false
        },
        "nteract": {
          "transient": {
            "deleting": false
          }
        }
      }
    },
    {
      "cell_type": "code",
      "source": [
        "# Convert to JSON string\r\n",
        "input_data = json.dumps(data)\r\n",
        "with open(\"data.json\", \"w\") as _f:\r\n",
        "    _f.write(input_data)\r\n",
        "# Set the content type\r\n",
        "headers = {'Content-Type': 'application/json'}\r\n",
        "# If authentication is enabled, set the authorization header\r\n",
        "#headers['Authorization'] = f'Bearer {key}'\r\n",
        "# Make the request and display the response\r\n",
        "resp = requests.post(scoring_uri, input_data, headers=headers)\r\n",
        "print(resp.json())"
      ],
      "outputs": [
        {
          "output_type": "error",
          "ename": "MissingSchema",
          "evalue": "Invalid URL 'None': No schema supplied. Perhaps you meant http://None?",
          "traceback": [
            "\u001b[0;31m---------------------------------------------------------------------------\u001b[0m",
            "\u001b[0;31mMissingSchema\u001b[0m                             Traceback (most recent call last)",
            "\u001b[0;32m<ipython-input-26-8758ab3fd207>\u001b[0m in \u001b[0;36m<module>\u001b[0;34m\u001b[0m\n\u001b[1;32m      8\u001b[0m \u001b[0;31m#headers['Authorization'] = f'Bearer {key}'\u001b[0m\u001b[0;34m\u001b[0m\u001b[0;34m\u001b[0m\u001b[0;34m\u001b[0m\u001b[0m\n\u001b[1;32m      9\u001b[0m \u001b[0;31m# Make the request and display the response\u001b[0m\u001b[0;34m\u001b[0m\u001b[0;34m\u001b[0m\u001b[0;34m\u001b[0m\u001b[0m\n\u001b[0;32m---> 10\u001b[0;31m \u001b[0mresp\u001b[0m \u001b[0;34m=\u001b[0m \u001b[0mrequests\u001b[0m\u001b[0;34m.\u001b[0m\u001b[0mpost\u001b[0m\u001b[0;34m(\u001b[0m\u001b[0mscoring_uri\u001b[0m\u001b[0;34m,\u001b[0m \u001b[0minput_data\u001b[0m\u001b[0;34m,\u001b[0m \u001b[0mheaders\u001b[0m\u001b[0;34m=\u001b[0m\u001b[0mheaders\u001b[0m\u001b[0;34m)\u001b[0m\u001b[0;34m\u001b[0m\u001b[0;34m\u001b[0m\u001b[0m\n\u001b[0m\u001b[1;32m     11\u001b[0m \u001b[0mprint\u001b[0m\u001b[0;34m(\u001b[0m\u001b[0mresp\u001b[0m\u001b[0;34m.\u001b[0m\u001b[0mjson\u001b[0m\u001b[0;34m(\u001b[0m\u001b[0;34m)\u001b[0m\u001b[0;34m)\u001b[0m\u001b[0;34m\u001b[0m\u001b[0;34m\u001b[0m\u001b[0m\n",
            "\u001b[0;32m/anaconda/envs/azureml_py36/lib/python3.6/site-packages/requests/api.py\u001b[0m in \u001b[0;36mpost\u001b[0;34m(url, data, json, **kwargs)\u001b[0m\n\u001b[1;32m    117\u001b[0m     \"\"\"\n\u001b[1;32m    118\u001b[0m \u001b[0;34m\u001b[0m\u001b[0m\n\u001b[0;32m--> 119\u001b[0;31m     \u001b[0;32mreturn\u001b[0m \u001b[0mrequest\u001b[0m\u001b[0;34m(\u001b[0m\u001b[0;34m'post'\u001b[0m\u001b[0;34m,\u001b[0m \u001b[0murl\u001b[0m\u001b[0;34m,\u001b[0m \u001b[0mdata\u001b[0m\u001b[0;34m=\u001b[0m\u001b[0mdata\u001b[0m\u001b[0;34m,\u001b[0m \u001b[0mjson\u001b[0m\u001b[0;34m=\u001b[0m\u001b[0mjson\u001b[0m\u001b[0;34m,\u001b[0m \u001b[0;34m**\u001b[0m\u001b[0mkwargs\u001b[0m\u001b[0;34m)\u001b[0m\u001b[0;34m\u001b[0m\u001b[0;34m\u001b[0m\u001b[0m\n\u001b[0m\u001b[1;32m    120\u001b[0m \u001b[0;34m\u001b[0m\u001b[0m\n\u001b[1;32m    121\u001b[0m \u001b[0;34m\u001b[0m\u001b[0m\n",
            "\u001b[0;32m/anaconda/envs/azureml_py36/lib/python3.6/site-packages/requests/api.py\u001b[0m in \u001b[0;36mrequest\u001b[0;34m(method, url, **kwargs)\u001b[0m\n\u001b[1;32m     59\u001b[0m     \u001b[0;31m# cases, and look like a memory leak in others.\u001b[0m\u001b[0;34m\u001b[0m\u001b[0;34m\u001b[0m\u001b[0;34m\u001b[0m\u001b[0m\n\u001b[1;32m     60\u001b[0m     \u001b[0;32mwith\u001b[0m \u001b[0msessions\u001b[0m\u001b[0;34m.\u001b[0m\u001b[0mSession\u001b[0m\u001b[0;34m(\u001b[0m\u001b[0;34m)\u001b[0m \u001b[0;32mas\u001b[0m \u001b[0msession\u001b[0m\u001b[0;34m:\u001b[0m\u001b[0;34m\u001b[0m\u001b[0;34m\u001b[0m\u001b[0m\n\u001b[0;32m---> 61\u001b[0;31m         \u001b[0;32mreturn\u001b[0m \u001b[0msession\u001b[0m\u001b[0;34m.\u001b[0m\u001b[0mrequest\u001b[0m\u001b[0;34m(\u001b[0m\u001b[0mmethod\u001b[0m\u001b[0;34m=\u001b[0m\u001b[0mmethod\u001b[0m\u001b[0;34m,\u001b[0m \u001b[0murl\u001b[0m\u001b[0;34m=\u001b[0m\u001b[0murl\u001b[0m\u001b[0;34m,\u001b[0m \u001b[0;34m**\u001b[0m\u001b[0mkwargs\u001b[0m\u001b[0;34m)\u001b[0m\u001b[0;34m\u001b[0m\u001b[0;34m\u001b[0m\u001b[0m\n\u001b[0m\u001b[1;32m     62\u001b[0m \u001b[0;34m\u001b[0m\u001b[0m\n\u001b[1;32m     63\u001b[0m \u001b[0;34m\u001b[0m\u001b[0m\n",
            "\u001b[0;32m/anaconda/envs/azureml_py36/lib/python3.6/site-packages/requests/sessions.py\u001b[0m in \u001b[0;36mrequest\u001b[0;34m(self, method, url, params, data, headers, cookies, files, auth, timeout, allow_redirects, proxies, hooks, stream, verify, cert, json)\u001b[0m\n\u001b[1;32m    526\u001b[0m             \u001b[0mhooks\u001b[0m\u001b[0;34m=\u001b[0m\u001b[0mhooks\u001b[0m\u001b[0;34m,\u001b[0m\u001b[0;34m\u001b[0m\u001b[0;34m\u001b[0m\u001b[0m\n\u001b[1;32m    527\u001b[0m         )\n\u001b[0;32m--> 528\u001b[0;31m         \u001b[0mprep\u001b[0m \u001b[0;34m=\u001b[0m \u001b[0mself\u001b[0m\u001b[0;34m.\u001b[0m\u001b[0mprepare_request\u001b[0m\u001b[0;34m(\u001b[0m\u001b[0mreq\u001b[0m\u001b[0;34m)\u001b[0m\u001b[0;34m\u001b[0m\u001b[0;34m\u001b[0m\u001b[0m\n\u001b[0m\u001b[1;32m    529\u001b[0m \u001b[0;34m\u001b[0m\u001b[0m\n\u001b[1;32m    530\u001b[0m         \u001b[0mproxies\u001b[0m \u001b[0;34m=\u001b[0m \u001b[0mproxies\u001b[0m \u001b[0;32mor\u001b[0m \u001b[0;34m{\u001b[0m\u001b[0;34m}\u001b[0m\u001b[0;34m\u001b[0m\u001b[0;34m\u001b[0m\u001b[0m\n",
            "\u001b[0;32m/anaconda/envs/azureml_py36/lib/python3.6/site-packages/requests/sessions.py\u001b[0m in \u001b[0;36mprepare_request\u001b[0;34m(self, request)\u001b[0m\n\u001b[1;32m    464\u001b[0m             \u001b[0mauth\u001b[0m\u001b[0;34m=\u001b[0m\u001b[0mmerge_setting\u001b[0m\u001b[0;34m(\u001b[0m\u001b[0mauth\u001b[0m\u001b[0;34m,\u001b[0m \u001b[0mself\u001b[0m\u001b[0;34m.\u001b[0m\u001b[0mauth\u001b[0m\u001b[0;34m)\u001b[0m\u001b[0;34m,\u001b[0m\u001b[0;34m\u001b[0m\u001b[0;34m\u001b[0m\u001b[0m\n\u001b[1;32m    465\u001b[0m             \u001b[0mcookies\u001b[0m\u001b[0;34m=\u001b[0m\u001b[0mmerged_cookies\u001b[0m\u001b[0;34m,\u001b[0m\u001b[0;34m\u001b[0m\u001b[0;34m\u001b[0m\u001b[0m\n\u001b[0;32m--> 466\u001b[0;31m             \u001b[0mhooks\u001b[0m\u001b[0;34m=\u001b[0m\u001b[0mmerge_hooks\u001b[0m\u001b[0;34m(\u001b[0m\u001b[0mrequest\u001b[0m\u001b[0;34m.\u001b[0m\u001b[0mhooks\u001b[0m\u001b[0;34m,\u001b[0m \u001b[0mself\u001b[0m\u001b[0;34m.\u001b[0m\u001b[0mhooks\u001b[0m\u001b[0;34m)\u001b[0m\u001b[0;34m,\u001b[0m\u001b[0;34m\u001b[0m\u001b[0;34m\u001b[0m\u001b[0m\n\u001b[0m\u001b[1;32m    467\u001b[0m         )\n\u001b[1;32m    468\u001b[0m         \u001b[0;32mreturn\u001b[0m \u001b[0mp\u001b[0m\u001b[0;34m\u001b[0m\u001b[0;34m\u001b[0m\u001b[0m\n",
            "\u001b[0;32m/anaconda/envs/azureml_py36/lib/python3.6/site-packages/requests/models.py\u001b[0m in \u001b[0;36mprepare\u001b[0;34m(self, method, url, headers, files, data, params, auth, cookies, hooks, json)\u001b[0m\n\u001b[1;32m    314\u001b[0m \u001b[0;34m\u001b[0m\u001b[0m\n\u001b[1;32m    315\u001b[0m         \u001b[0mself\u001b[0m\u001b[0;34m.\u001b[0m\u001b[0mprepare_method\u001b[0m\u001b[0;34m(\u001b[0m\u001b[0mmethod\u001b[0m\u001b[0;34m)\u001b[0m\u001b[0;34m\u001b[0m\u001b[0;34m\u001b[0m\u001b[0m\n\u001b[0;32m--> 316\u001b[0;31m         \u001b[0mself\u001b[0m\u001b[0;34m.\u001b[0m\u001b[0mprepare_url\u001b[0m\u001b[0;34m(\u001b[0m\u001b[0murl\u001b[0m\u001b[0;34m,\u001b[0m \u001b[0mparams\u001b[0m\u001b[0;34m)\u001b[0m\u001b[0;34m\u001b[0m\u001b[0;34m\u001b[0m\u001b[0m\n\u001b[0m\u001b[1;32m    317\u001b[0m         \u001b[0mself\u001b[0m\u001b[0;34m.\u001b[0m\u001b[0mprepare_headers\u001b[0m\u001b[0;34m(\u001b[0m\u001b[0mheaders\u001b[0m\u001b[0;34m)\u001b[0m\u001b[0;34m\u001b[0m\u001b[0;34m\u001b[0m\u001b[0m\n\u001b[1;32m    318\u001b[0m         \u001b[0mself\u001b[0m\u001b[0;34m.\u001b[0m\u001b[0mprepare_cookies\u001b[0m\u001b[0;34m(\u001b[0m\u001b[0mcookies\u001b[0m\u001b[0;34m)\u001b[0m\u001b[0;34m\u001b[0m\u001b[0;34m\u001b[0m\u001b[0m\n",
            "\u001b[0;32m/anaconda/envs/azureml_py36/lib/python3.6/site-packages/requests/models.py\u001b[0m in \u001b[0;36mprepare_url\u001b[0;34m(self, url, params)\u001b[0m\n\u001b[1;32m    388\u001b[0m             \u001b[0merror\u001b[0m \u001b[0;34m=\u001b[0m \u001b[0merror\u001b[0m\u001b[0;34m.\u001b[0m\u001b[0mformat\u001b[0m\u001b[0;34m(\u001b[0m\u001b[0mto_native_string\u001b[0m\u001b[0;34m(\u001b[0m\u001b[0murl\u001b[0m\u001b[0;34m,\u001b[0m \u001b[0;34m'utf8'\u001b[0m\u001b[0;34m)\u001b[0m\u001b[0;34m)\u001b[0m\u001b[0;34m\u001b[0m\u001b[0;34m\u001b[0m\u001b[0m\n\u001b[1;32m    389\u001b[0m \u001b[0;34m\u001b[0m\u001b[0m\n\u001b[0;32m--> 390\u001b[0;31m             \u001b[0;32mraise\u001b[0m \u001b[0mMissingSchema\u001b[0m\u001b[0;34m(\u001b[0m\u001b[0merror\u001b[0m\u001b[0;34m)\u001b[0m\u001b[0;34m\u001b[0m\u001b[0;34m\u001b[0m\u001b[0m\n\u001b[0m\u001b[1;32m    391\u001b[0m \u001b[0;34m\u001b[0m\u001b[0m\n\u001b[1;32m    392\u001b[0m         \u001b[0;32mif\u001b[0m \u001b[0;32mnot\u001b[0m \u001b[0mhost\u001b[0m\u001b[0;34m:\u001b[0m\u001b[0;34m\u001b[0m\u001b[0;34m\u001b[0m\u001b[0m\n",
            "\u001b[0;31mMissingSchema\u001b[0m: Invalid URL 'None': No schema supplied. Perhaps you meant http://None?"
          ]
        }
      ],
      "execution_count": 26,
      "metadata": {
        "collapsed": true,
        "jupyter": {
          "source_hidden": false,
          "outputs_hidden": false
        },
        "nteract": {
          "transient": {
            "deleting": false
          }
        }
      }
    },
    {
      "cell_type": "markdown",
      "source": [
        "TODO: In the cell below, print the logs of the web service and delete the service"
      ],
      "metadata": {
        "collapsed": true,
        "gather": {
          "logged": 1598432765711
        },
        "jupyter": {
          "outputs_hidden": false,
          "source_hidden": false
        },
        "nteract": {
          "transient": {
            "deleting": false
          }
        }
      }
    },
    {
      "cell_type": "code",
      "source": [
        "service.delete()\r\n",
        "model.delete()"
      ],
      "outputs": [],
      "execution_count": null,
      "metadata": {
        "jupyter": {
          "outputs_hidden": false,
          "source_hidden": false
        },
        "nteract": {
          "transient": {
            "deleting": false
          }
        }
      }
    }
  ],
  "metadata": {
    "kernel_info": {
      "name": "python3"
    },
    "kernelspec": {
      "name": "python3",
      "language": "python",
      "display_name": "Python 3"
    },
    "language_info": {
      "name": "python",
      "version": "3.6.9",
      "mimetype": "text/x-python",
      "codemirror_mode": {
        "name": "ipython",
        "version": 3
      },
      "pygments_lexer": "ipython3",
      "nbconvert_exporter": "python",
      "file_extension": ".py"
    },
    "nteract": {
      "version": "nteract-front-end@1.0.0"
    }
  },
  "nbformat": 4,
  "nbformat_minor": 2
}