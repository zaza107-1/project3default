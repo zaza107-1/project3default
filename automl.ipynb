{
  "cells": [
    {
      "cell_type": "markdown",
      "source": [
        "# Automated ML\n",
        "\n",
        "TODO: Import Dependencies. In the cell below, import all the dependencies that you will need to complete the project."
      ],
      "metadata": {}
    },
    {
      "cell_type": "code",
      "source": [
        "import logging\n",
        "import os\n",
        "import csv\n",
        "\n",
        "from matplotlib import pyplot as plt\n",
        "import numpy as np\n",
        "import pandas as pd\n",
        "import pkg_resources\n",
        "\n",
        "import azureml.core\n",
        "from azureml.core.experiment import Experiment\n",
        "from azureml.core.workspace import Workspace\n",
        "from azureml.train.automl import AutoMLConfig\n",
        "from azureml.core.dataset import Dataset\n",
        "from azureml.data.dataset_factory import TabularDatasetFactory\n",
        "\n",
        "\n",
        "# Check core SDK version number\n",
        "print(\"SDK version:\", azureml.core.VERSION)"
      ],
      "outputs": [
        {
          "output_type": "stream",
          "name": "stdout",
          "text": [
            "SDK version: 1.20.0\n"
          ]
        }
      ],
      "execution_count": 1,
      "metadata": {
        "gather": {
          "logged": 1613150562924
        },
        "jupyter": {
          "outputs_hidden": false,
          "source_hidden": false
        },
        "nteract": {
          "transient": {
            "deleting": false
          }
        }
      }
    },
    {
      "cell_type": "markdown",
      "source": [
        "## Dataset\n",
        "\n",
        "### Overview\n",
        "TODO: In this markdown cell, give an overview of the dataset you are using. Also mention the task you will be performing.\n",
        "\n",
        "\n",
        "TODO: Get data. In the cell below, write code to access the data you will be using in this project. Remember that the dataset needs to be external."
      ],
      "metadata": {}
    },
    {
      "cell_type": "code",
      "source": [
        "from azureml.data.dataset_factory import TabularDatasetFactory\n",
        "\n",
        "# Create TabularDataset using TabularDatasetFactory\n",
        "\n",
        "### YOUR CODE HERE ###\n",
        "from azureml.core.dataset import Dataset\n",
        "##url = 'https://archive.ics.uci.edu/ml/machine-learning-databases/00519/heart_failure_clinical_records_dataset.csv'\n",
        "##dataset2 = TabularDatasetFactory.from_delimited_files(path = url)\n",
        "###ds2 = dataset2.to_pandas_dataframe() ### YOUR CODE HERE ###\n",
        "\n",
        "url = 'https://raw.githubusercontent.com/zaza107-1/nd00333-capstone/master/heart_failure_clinical_records_dataset.csv'\n",
        "dataset = Dataset.Tabular.from_delimited_files(path=url)\n",
        "ds = dataset.to_pandas_dataframe()\n",
        "\n",
        "ds.describe()"
      ],
      "outputs": [
        {
          "output_type": "execute_result",
          "execution_count": 2,
          "data": {
            "text/plain": "              age     anaemia  creatinine_phosphokinase    diabetes  \\\ncount  299.000000  299.000000                299.000000  299.000000   \nmean    60.833893    0.431438                581.839465    0.418060   \nstd     11.894809    0.496107                970.287881    0.494067   \nmin     40.000000    0.000000                 23.000000    0.000000   \n25%     51.000000    0.000000                116.500000    0.000000   \n50%     60.000000    0.000000                250.000000    0.000000   \n75%     70.000000    1.000000                582.000000    1.000000   \nmax     95.000000    1.000000               7861.000000    1.000000   \n\n       ejection_fraction  high_blood_pressure      platelets  \\\ncount         299.000000           299.000000     299.000000   \nmean           38.083612             0.351171  263358.029264   \nstd            11.834841             0.478136   97804.236869   \nmin            14.000000             0.000000   25100.000000   \n25%            30.000000             0.000000  212500.000000   \n50%            38.000000             0.000000  262000.000000   \n75%            45.000000             1.000000  303500.000000   \nmax            80.000000             1.000000  850000.000000   \n\n       serum_creatinine  serum_sodium         sex    smoking        time  \\\ncount         299.00000    299.000000  299.000000  299.00000  299.000000   \nmean            1.39388    136.625418    0.648829    0.32107  130.260870   \nstd             1.03451      4.412477    0.478136    0.46767   77.614208   \nmin             0.50000    113.000000    0.000000    0.00000    4.000000   \n25%             0.90000    134.000000    0.000000    0.00000   73.000000   \n50%             1.10000    137.000000    1.000000    0.00000  115.000000   \n75%             1.40000    140.000000    1.000000    1.00000  203.000000   \nmax             9.40000    148.000000    1.000000    1.00000  285.000000   \n\n       DEATH_EVENT  \ncount    299.00000  \nmean       0.32107  \nstd        0.46767  \nmin        0.00000  \n25%        0.00000  \n50%        0.00000  \n75%        1.00000  \nmax        1.00000  ",
            "text/html": "<div>\n<style scoped>\n    .dataframe tbody tr th:only-of-type {\n        vertical-align: middle;\n    }\n\n    .dataframe tbody tr th {\n        vertical-align: top;\n    }\n\n    .dataframe thead th {\n        text-align: right;\n    }\n</style>\n<table border=\"1\" class=\"dataframe\">\n  <thead>\n    <tr style=\"text-align: right;\">\n      <th></th>\n      <th>age</th>\n      <th>anaemia</th>\n      <th>creatinine_phosphokinase</th>\n      <th>diabetes</th>\n      <th>ejection_fraction</th>\n      <th>high_blood_pressure</th>\n      <th>platelets</th>\n      <th>serum_creatinine</th>\n      <th>serum_sodium</th>\n      <th>sex</th>\n      <th>smoking</th>\n      <th>time</th>\n      <th>DEATH_EVENT</th>\n    </tr>\n  </thead>\n  <tbody>\n    <tr>\n      <th>count</th>\n      <td>299.000000</td>\n      <td>299.000000</td>\n      <td>299.000000</td>\n      <td>299.000000</td>\n      <td>299.000000</td>\n      <td>299.000000</td>\n      <td>299.000000</td>\n      <td>299.00000</td>\n      <td>299.000000</td>\n      <td>299.000000</td>\n      <td>299.00000</td>\n      <td>299.000000</td>\n      <td>299.00000</td>\n    </tr>\n    <tr>\n      <th>mean</th>\n      <td>60.833893</td>\n      <td>0.431438</td>\n      <td>581.839465</td>\n      <td>0.418060</td>\n      <td>38.083612</td>\n      <td>0.351171</td>\n      <td>263358.029264</td>\n      <td>1.39388</td>\n      <td>136.625418</td>\n      <td>0.648829</td>\n      <td>0.32107</td>\n      <td>130.260870</td>\n      <td>0.32107</td>\n    </tr>\n    <tr>\n      <th>std</th>\n      <td>11.894809</td>\n      <td>0.496107</td>\n      <td>970.287881</td>\n      <td>0.494067</td>\n      <td>11.834841</td>\n      <td>0.478136</td>\n      <td>97804.236869</td>\n      <td>1.03451</td>\n      <td>4.412477</td>\n      <td>0.478136</td>\n      <td>0.46767</td>\n      <td>77.614208</td>\n      <td>0.46767</td>\n    </tr>\n    <tr>\n      <th>min</th>\n      <td>40.000000</td>\n      <td>0.000000</td>\n      <td>23.000000</td>\n      <td>0.000000</td>\n      <td>14.000000</td>\n      <td>0.000000</td>\n      <td>25100.000000</td>\n      <td>0.50000</td>\n      <td>113.000000</td>\n      <td>0.000000</td>\n      <td>0.00000</td>\n      <td>4.000000</td>\n      <td>0.00000</td>\n    </tr>\n    <tr>\n      <th>25%</th>\n      <td>51.000000</td>\n      <td>0.000000</td>\n      <td>116.500000</td>\n      <td>0.000000</td>\n      <td>30.000000</td>\n      <td>0.000000</td>\n      <td>212500.000000</td>\n      <td>0.90000</td>\n      <td>134.000000</td>\n      <td>0.000000</td>\n      <td>0.00000</td>\n      <td>73.000000</td>\n      <td>0.00000</td>\n    </tr>\n    <tr>\n      <th>50%</th>\n      <td>60.000000</td>\n      <td>0.000000</td>\n      <td>250.000000</td>\n      <td>0.000000</td>\n      <td>38.000000</td>\n      <td>0.000000</td>\n      <td>262000.000000</td>\n      <td>1.10000</td>\n      <td>137.000000</td>\n      <td>1.000000</td>\n      <td>0.00000</td>\n      <td>115.000000</td>\n      <td>0.00000</td>\n    </tr>\n    <tr>\n      <th>75%</th>\n      <td>70.000000</td>\n      <td>1.000000</td>\n      <td>582.000000</td>\n      <td>1.000000</td>\n      <td>45.000000</td>\n      <td>1.000000</td>\n      <td>303500.000000</td>\n      <td>1.40000</td>\n      <td>140.000000</td>\n      <td>1.000000</td>\n      <td>1.00000</td>\n      <td>203.000000</td>\n      <td>1.00000</td>\n    </tr>\n    <tr>\n      <th>max</th>\n      <td>95.000000</td>\n      <td>1.000000</td>\n      <td>7861.000000</td>\n      <td>1.000000</td>\n      <td>80.000000</td>\n      <td>1.000000</td>\n      <td>850000.000000</td>\n      <td>9.40000</td>\n      <td>148.000000</td>\n      <td>1.000000</td>\n      <td>1.00000</td>\n      <td>285.000000</td>\n      <td>1.00000</td>\n    </tr>\n  </tbody>\n</table>\n</div>"
          },
          "metadata": {}
        }
      ],
      "execution_count": 2,
      "metadata": {
        "gather": {
          "logged": 1613150568860
        }
      }
    },
    {
      "cell_type": "code",
      "source": [
        "ws = Workspace.from_config()\n",
        "\n",
        "# choose a name for experiment\n",
        "experiment_name = 'AutoML_heart'\n",
        "project_folder = '.'\n",
        "experiment=Experiment(ws, experiment_name)"
      ],
      "outputs": [
        {
          "output_type": "stream",
          "name": "stdout",
          "text": [
            "Performing interactive authentication. Please follow the instructions on the terminal.\n",
            "To sign in, use a web browser to open the page https://microsoft.com/devicelogin and enter the code FUW4WRL7K to authenticate.\n",
            "You have logged in. Now let us find all the subscriptions to which you have access...\n",
            "Interactive authentication successfully completed.\n"
          ]
        }
      ],
      "execution_count": 3,
      "metadata": {
        "gather": {
          "logged": 1613150617037
        },
        "jupyter": {
          "outputs_hidden": false,
          "source_hidden": false
        },
        "nteract": {
          "transient": {
            "deleting": false
          }
        }
      }
    },
    {
      "cell_type": "code",
      "source": [
        "from azureml.core.compute import AmlCompute\n",
        "from azureml.core.compute import ComputeTarget\n",
        "from azureml.core.compute_target import ComputeTargetException\n",
        "\n",
        "# NOTE: update the cluster name to match the existing cluster\n",
        "# Choose a name for your CPU cluster\n",
        "amlcompute_cluster_name = \"auto-ml\"\n",
        "\n",
        "# Verify that cluster does not exist already\n",
        "try:\n",
        "    compute_target = ComputeTarget(workspace=ws, name=amlcompute_cluster_name)\n",
        "    print('Found existing cluster, use it.')\n",
        "except ComputeTargetException:\n",
        "    compute_config = AmlCompute.provisioning_configuration(vm_size='STANDARD_D2_V2',# for GPU, use \"STANDARD_NC6\"\n",
        "                                                           #vm_priority = 'lowpriority', # optional\n",
        "                                                           max_nodes=4)\n",
        "    compute_target = ComputeTarget.create(ws, amlcompute_cluster_name, compute_config)\n",
        "\n",
        "compute_target.wait_for_completion(show_output=True)\n",
        "# For a more detailed view of current AmlCompute status, use get_status()."
      ],
      "outputs": [
        {
          "output_type": "stream",
          "name": "stdout",
          "text": [
            "Found existing cluster, use it.\n",
            "\n",
            "Running\n"
          ]
        }
      ],
      "execution_count": 4,
      "metadata": {
        "gather": {
          "logged": 1613150622926
        }
      }
    },
    {
      "cell_type": "code",
      "source": [
        "from train2 import clean_data\r\n",
        "\r\n",
        "# Use the clean_data function to clean your data.\r\n",
        "x, y = clean_data(ds) ### your code###\r\n",
        "\r\n",
        "from sklearn.model_selection import train_test_split\r\n",
        "\r\n",
        "x_train, x_test, y_train, y_test = train_test_split(x, y, random_state=42, test_size=0.33)\r\n",
        "\r\n",
        "df_train = pd.concat([x_train, y_train], axis=1)"
      ],
      "outputs": [],
      "execution_count": 5,
      "metadata": {
        "collapsed": true,
        "jupyter": {
          "source_hidden": false,
          "outputs_hidden": false
        },
        "nteract": {
          "transient": {
            "deleting": false
          }
        },
        "gather": {
          "logged": 1613150624495
        }
      }
    },
    {
      "cell_type": "code",
      "source": [
        "df_train.describe()"
      ],
      "outputs": [
        {
          "output_type": "execute_result",
          "execution_count": 6,
          "data": {
            "text/plain": "              age     anaemia  creatinine_phosphokinase    diabetes  \\\ncount  200.000000  200.000000                200.000000  200.000000   \nmean    60.588335    0.420000                582.765000    0.395000   \nstd     11.287966    0.494797                944.276208    0.490077   \nmin     40.000000    0.000000                 23.000000    0.000000   \n25%     52.000000    0.000000                109.000000    0.000000   \n50%     60.000000    0.000000                244.500000    0.000000   \n75%     67.250000    1.000000                582.000000    1.000000   \nmax     95.000000    1.000000               7861.000000    1.000000   \n\n       ejection_fraction  high_blood_pressure      platelets  \\\ncount          200.00000           200.000000     200.000000   \nmean            38.59500             0.365000  260130.062100   \nstd             11.68003             0.482638   91079.331644   \nmin             20.00000             0.000000   62000.000000   \n25%             30.00000             0.000000  203000.000000   \n50%             38.00000             0.000000  256000.000000   \n75%             45.00000             1.000000  304250.000000   \nmax             80.00000             1.000000  621000.000000   \n\n       serum_creatinine  serum_sodium         sex     smoking        time  \\\ncount        200.000000    200.000000  200.000000  200.000000  200.000000   \nmean           1.385200    136.620000    0.635000    0.305000  133.735000   \nstd            1.019065      4.318431    0.482638    0.461563   77.612973   \nmin            0.500000    113.000000    0.000000    0.000000    4.000000   \n25%            0.900000    134.000000    0.000000    0.000000   78.750000   \n50%            1.100000    137.000000    1.000000    0.000000  119.500000   \n75%            1.400000    140.000000    1.000000    1.000000  206.250000   \nmax            9.000000    146.000000    1.000000    1.000000  285.000000   \n\n       DEATH_EVENT  \ncount   200.000000  \nmean      0.270000  \nstd       0.445074  \nmin       0.000000  \n25%       0.000000  \n50%       0.000000  \n75%       1.000000  \nmax       1.000000  ",
            "text/html": "<div>\n<style scoped>\n    .dataframe tbody tr th:only-of-type {\n        vertical-align: middle;\n    }\n\n    .dataframe tbody tr th {\n        vertical-align: top;\n    }\n\n    .dataframe thead th {\n        text-align: right;\n    }\n</style>\n<table border=\"1\" class=\"dataframe\">\n  <thead>\n    <tr style=\"text-align: right;\">\n      <th></th>\n      <th>age</th>\n      <th>anaemia</th>\n      <th>creatinine_phosphokinase</th>\n      <th>diabetes</th>\n      <th>ejection_fraction</th>\n      <th>high_blood_pressure</th>\n      <th>platelets</th>\n      <th>serum_creatinine</th>\n      <th>serum_sodium</th>\n      <th>sex</th>\n      <th>smoking</th>\n      <th>time</th>\n      <th>DEATH_EVENT</th>\n    </tr>\n  </thead>\n  <tbody>\n    <tr>\n      <th>count</th>\n      <td>200.000000</td>\n      <td>200.000000</td>\n      <td>200.000000</td>\n      <td>200.000000</td>\n      <td>200.00000</td>\n      <td>200.000000</td>\n      <td>200.000000</td>\n      <td>200.000000</td>\n      <td>200.000000</td>\n      <td>200.000000</td>\n      <td>200.000000</td>\n      <td>200.000000</td>\n      <td>200.000000</td>\n    </tr>\n    <tr>\n      <th>mean</th>\n      <td>60.588335</td>\n      <td>0.420000</td>\n      <td>582.765000</td>\n      <td>0.395000</td>\n      <td>38.59500</td>\n      <td>0.365000</td>\n      <td>260130.062100</td>\n      <td>1.385200</td>\n      <td>136.620000</td>\n      <td>0.635000</td>\n      <td>0.305000</td>\n      <td>133.735000</td>\n      <td>0.270000</td>\n    </tr>\n    <tr>\n      <th>std</th>\n      <td>11.287966</td>\n      <td>0.494797</td>\n      <td>944.276208</td>\n      <td>0.490077</td>\n      <td>11.68003</td>\n      <td>0.482638</td>\n      <td>91079.331644</td>\n      <td>1.019065</td>\n      <td>4.318431</td>\n      <td>0.482638</td>\n      <td>0.461563</td>\n      <td>77.612973</td>\n      <td>0.445074</td>\n    </tr>\n    <tr>\n      <th>min</th>\n      <td>40.000000</td>\n      <td>0.000000</td>\n      <td>23.000000</td>\n      <td>0.000000</td>\n      <td>20.00000</td>\n      <td>0.000000</td>\n      <td>62000.000000</td>\n      <td>0.500000</td>\n      <td>113.000000</td>\n      <td>0.000000</td>\n      <td>0.000000</td>\n      <td>4.000000</td>\n      <td>0.000000</td>\n    </tr>\n    <tr>\n      <th>25%</th>\n      <td>52.000000</td>\n      <td>0.000000</td>\n      <td>109.000000</td>\n      <td>0.000000</td>\n      <td>30.00000</td>\n      <td>0.000000</td>\n      <td>203000.000000</td>\n      <td>0.900000</td>\n      <td>134.000000</td>\n      <td>0.000000</td>\n      <td>0.000000</td>\n      <td>78.750000</td>\n      <td>0.000000</td>\n    </tr>\n    <tr>\n      <th>50%</th>\n      <td>60.000000</td>\n      <td>0.000000</td>\n      <td>244.500000</td>\n      <td>0.000000</td>\n      <td>38.00000</td>\n      <td>0.000000</td>\n      <td>256000.000000</td>\n      <td>1.100000</td>\n      <td>137.000000</td>\n      <td>1.000000</td>\n      <td>0.000000</td>\n      <td>119.500000</td>\n      <td>0.000000</td>\n    </tr>\n    <tr>\n      <th>75%</th>\n      <td>67.250000</td>\n      <td>1.000000</td>\n      <td>582.000000</td>\n      <td>1.000000</td>\n      <td>45.00000</td>\n      <td>1.000000</td>\n      <td>304250.000000</td>\n      <td>1.400000</td>\n      <td>140.000000</td>\n      <td>1.000000</td>\n      <td>1.000000</td>\n      <td>206.250000</td>\n      <td>1.000000</td>\n    </tr>\n    <tr>\n      <th>max</th>\n      <td>95.000000</td>\n      <td>1.000000</td>\n      <td>7861.000000</td>\n      <td>1.000000</td>\n      <td>80.00000</td>\n      <td>1.000000</td>\n      <td>621000.000000</td>\n      <td>9.000000</td>\n      <td>146.000000</td>\n      <td>1.000000</td>\n      <td>1.000000</td>\n      <td>285.000000</td>\n      <td>1.000000</td>\n    </tr>\n  </tbody>\n</table>\n</div>"
          },
          "metadata": {}
        }
      ],
      "execution_count": 6,
      "metadata": {
        "collapsed": true,
        "jupyter": {
          "source_hidden": false,
          "outputs_hidden": false
        },
        "nteract": {
          "transient": {
            "deleting": false
          }
        },
        "gather": {
          "logged": 1613150624832
        }
      }
    },
    {
      "cell_type": "markdown",
      "source": [
        "## AutoML Configuration\n",
        "\n",
        "TODO: Explain why you chose the automl settings and cofiguration you used below."
      ],
      "metadata": {}
    },
    {
      "cell_type": "code",
      "source": [
        "compute_target"
      ],
      "outputs": [
        {
          "output_type": "execute_result",
          "execution_count": 7,
          "data": {
            "text/plain": "{\n  \"id\": \"/subscriptions/3e42d11f-d64d-4173-af9b-12ecaa1030b3/resourceGroups/aml-quickstarts-138715/providers/Microsoft.MachineLearningServices/workspaces/quick-starts-ws-138715/computes/auto-ml\",\n  \"name\": \"auto-ml\",\n  \"location\": \"southcentralus\",\n  \"tags\": null,\n  \"properties\": {\n    \"description\": null,\n    \"computeType\": \"ComputeInstance\",\n    \"computeLocation\": \"southcentralus\",\n    \"resourceId\": null,\n    \"provisioningErrors\": null,\n    \"provisioningState\": \"Succeeded\",\n    \"properties\": {\n      \"vmSize\": \"STANDARD_DS3_V2\",\n      \"applications\": [\n        {\n          \"displayName\": \"Jupyter\",\n          \"endpointUri\": \"https://auto-ml.southcentralus.instances.azureml.ms\"\n        },\n        {\n          \"displayName\": \"Jupyter Lab\",\n          \"endpointUri\": \"https://auto-ml.southcentralus.instances.azureml.ms/lab\"\n        },\n        {\n          \"displayName\": \"RStudio\",\n          \"endpointUri\": \"https://auto-ml-8787.southcentralus.instances.azureml.ms\"\n        }\n      ],\n      \"connectivityEndpoints\": {\n        \"publicIpAddress\": \"40.74.165.186\",\n        \"privateIpAddress\": \"10.0.0.5\"\n      },\n      \"sshSettings\": {\n        \"sshPublicAccess\": \"Disabled\",\n        \"adminUserName\": \"azureuser\",\n        \"adminPublicKey\": null,\n        \"sshPort\": 4001\n      },\n      \"personalComputeInstanceSettings\": null,\n      \"subnet\": {\n        \"id\": null\n      },\n      \"errors\": []\n    },\n    \"status\": {\n      \"errors\": [],\n      \"creationTime\": \"2021-02-12T17:19:27.795517+00:00\",\n      \"createdBy\": {\n        \"userObjectId\": \"8a1a5550-0db2-48cd-86dc-c0887789553e\",\n        \"userTenantId\": \"660b3398-b80e-49d2-bc5b-ac1dc93b5254\",\n        \"userName\": \"ODL_User 138715\"\n      },\n      \"modifiedTime\": \"2021-02-12T17:21:30.005446+00:00\",\n      \"state\": \"Running\",\n      \"vmSize\": \"STANDARD_DS3_V2\"\n    }\n  }\n}",
            "text/html": "<table style=\"width:100%\"><tr><th>Name</th><th>Workspace</th><th>State</th><th>Location</th><th>VmSize</th><th>Application URI</th><th>Docs</th></tr><tr><td><a href=\"https://ml.azure.com/compute/auto-ml/details?wsid=/subscriptions/3e42d11f-d64d-4173-af9b-12ecaa1030b3/resourcegroups/aml-quickstarts-138715/workspaces/quick-starts-ws-138715\" target=\"_blank\" rel=\"noopener\">auto-ml</a></td><td><a href=\"https://ml.azure.com?wsid=/subscriptions/3e42d11f-d64d-4173-af9b-12ecaa1030b3/resourcegroups/aml-quickstarts-138715/workspaces/quick-starts-ws-138715\" target=\"_blank\" rel=\"noopener\">quick-starts-ws-138715</a></td><td>Running</td><td>southcentralus</td><td>STANDARD_DS3_V2</td><td><a href=\"https://auto-ml.southcentralus.instances.azureml.ms\" target=\"_blank\" rel=\"noopener\">Jupyter</a>  <a href=\"https://auto-ml.southcentralus.instances.azureml.ms/lab\" target=\"_blank\" rel=\"noopener\">JupyterLab</a>  <a href=\"https://auto-ml-8787.southcentralus.instances.azureml.ms\" target=\"_blank\" rel=\"noopener\">RStudio</a></td><td><a href=\"https://docs.microsoft.com/en-us/python/api/azureml-core/azureml.core.compute.computeinstance.ComputeInstance?view=azure-ml-py\" target=\"_blank\" rel=\"noopener\">Doc</a></td></tr></table>"
          },
          "metadata": {}
        }
      ],
      "execution_count": 7,
      "metadata": {
        "collapsed": true,
        "jupyter": {
          "source_hidden": false,
          "outputs_hidden": false
        },
        "nteract": {
          "transient": {
            "deleting": false
          }
        },
        "gather": {
          "logged": 1613150625053
        }
      }
    },
    {
      "cell_type": "code",
      "source": [
        "if 'training' not in os.listdir():\r\n",
        "    os.mkdir(\"./training\")"
      ],
      "outputs": [],
      "execution_count": 8,
      "metadata": {
        "collapsed": true,
        "jupyter": {
          "source_hidden": false,
          "outputs_hidden": false
        },
        "nteract": {
          "transient": {
            "deleting": false
          }
        },
        "gather": {
          "logged": 1613150625287
        }
      }
    },
    {
      "cell_type": "code",
      "source": [
        "# TODO: Put your automl settings here\n",
        "automl_settings = {\"experiment_timeout_minutes\": 15,\n",
        "                    \"max_concurrent_iterations\": 5,\n",
        "                    \"primary_metric\" : 'accuracy'}\n",
        "\n",
        "# TODO: Put your automl config here\n",
        "automl_config = AutoMLConfig(compute_target=compute_target,\n",
        "                             task = \"classification\",\n",
        "                             training_data=dataset,\n",
        "                             label_column_name=\"DEATH_EVENT\",   \n",
        "                             path = project_folder,\n",
        "                             enable_early_stopping= True,\n",
        "                             featurization= 'auto',\n",
        "                             debug_log = \"automl_errors.log\",\n",
        "                             **automl_settings)"
      ],
      "outputs": [],
      "execution_count": 9,
      "metadata": {
        "gather": {
          "logged": 1613150625467
        },
        "jupyter": {
          "outputs_hidden": false,
          "source_hidden": false
        },
        "nteract": {
          "transient": {
            "deleting": false
          }
        }
      }
    },
    {
      "cell_type": "code",
      "source": [
        "# TODO: Submit your experiment\n",
        "remote_run = experiment.submit(automl_config)\n",
        "\n",
        "remote_run.wait_for_completion()"
      ],
      "outputs": [
        {
          "output_type": "stream",
          "name": "stdout",
          "text": [
            "Running on remote.\n"
          ]
        },
        {
          "output_type": "execute_result",
          "execution_count": 10,
          "data": {
            "text/plain": "{'runId': 'AutoML_78f226cc-243e-49aa-8e99-1054944e70a5',\n 'target': 'auto-ml',\n 'status': 'Completed',\n 'startTimeUtc': '2021-02-12T17:24:03.931838Z',\n 'endTimeUtc': '2021-02-12T17:38:05.249391Z',\n 'properties': {'num_iterations': '1000',\n  'training_type': 'TrainFull',\n  'acquisition_function': 'EI',\n  'primary_metric': 'accuracy',\n  'train_split': '0',\n  'acquisition_parameter': '0',\n  'num_cross_validation': None,\n  'target': 'auto-ml',\n  'AMLSettingsJsonString': '{\"path\":null,\"name\":\"AutoML_heart\",\"subscription_id\":\"3e42d11f-d64d-4173-af9b-12ecaa1030b3\",\"resource_group\":\"aml-quickstarts-138715\",\"workspace_name\":\"quick-starts-ws-138715\",\"region\":\"southcentralus\",\"compute_target\":\"auto-ml\",\"spark_service\":null,\"azure_service\":\"remote\",\"many_models\":false,\"pipeline_fetch_max_batch_size\":1,\"iterations\":1000,\"primary_metric\":\"accuracy\",\"task_type\":\"classification\",\"data_script\":null,\"validation_size\":0.0,\"n_cross_validations\":null,\"y_min\":null,\"y_max\":null,\"num_classes\":null,\"featurization\":\"auto\",\"_ignore_package_version_incompatibilities\":false,\"is_timeseries\":false,\"max_cores_per_iteration\":1,\"max_concurrent_iterations\":5,\"iteration_timeout_minutes\":null,\"mem_in_mb\":null,\"enforce_time_on_windows\":false,\"experiment_timeout_minutes\":15,\"experiment_exit_score\":null,\"whitelist_models\":null,\"blacklist_algos\":[\"TensorFlowLinearClassifier\",\"TensorFlowDNN\"],\"supported_models\":[\"XGBoostClassifier\",\"GradientBoosting\",\"LightGBM\",\"SGD\",\"SVM\",\"TensorFlowLinearClassifier\",\"TensorFlowDNN\",\"RandomForest\",\"BernoulliNaiveBayes\",\"KNN\",\"LogisticRegression\",\"MultinomialNaiveBayes\",\"ExtremeRandomTrees\",\"AveragedPerceptronClassifier\",\"DecisionTree\",\"LinearSVM\"],\"auto_blacklist\":true,\"blacklist_samples_reached\":false,\"exclude_nan_labels\":true,\"verbosity\":20,\"_debug_log\":\"azureml_automl.log\",\"show_warnings\":false,\"model_explainability\":true,\"service_url\":null,\"sdk_url\":null,\"sdk_packages\":null,\"enable_onnx_compatible_models\":false,\"enable_split_onnx_featurizer_estimator_models\":false,\"vm_type\":\"STANDARD_DS3_V2\",\"telemetry_verbosity\":20,\"send_telemetry\":true,\"enable_dnn\":false,\"scenario\":\"SDK-1.13.0\",\"environment_label\":null,\"force_text_dnn\":false,\"enable_feature_sweeping\":true,\"enable_early_stopping\":true,\"early_stopping_n_iters\":10,\"metrics\":null,\"enable_ensembling\":true,\"enable_stack_ensembling\":true,\"ensemble_iterations\":15,\"enable_tf\":false,\"enable_subsampling\":null,\"subsample_seed\":null,\"enable_nimbusml\":false,\"enable_streaming\":false,\"force_streaming\":false,\"track_child_runs\":true,\"allowed_private_models\":[],\"label_column_name\":\"DEATH_EVENT\",\"weight_column_name\":null,\"cv_split_column_names\":null,\"enable_local_managed\":false,\"_local_managed_run_id\":null,\"cost_mode\":1,\"lag_length\":0,\"metric_operation\":\"maximize\",\"preprocess\":true}',\n  'DataPrepJsonString': '{\\\\\"training_data\\\\\": \\\\\"{\\\\\\\\\\\\\"blocks\\\\\\\\\\\\\": [{\\\\\\\\\\\\\"id\\\\\\\\\\\\\": \\\\\\\\\\\\\"f02fc7bb-19cf-418d-8cbb-e4b147cb1bb0\\\\\\\\\\\\\", \\\\\\\\\\\\\"type\\\\\\\\\\\\\": \\\\\\\\\\\\\"Microsoft.DPrep.GetFilesBlock\\\\\\\\\\\\\", \\\\\\\\\\\\\"arguments\\\\\\\\\\\\\": {\\\\\\\\\\\\\"isArchive\\\\\\\\\\\\\": false, \\\\\\\\\\\\\"path\\\\\\\\\\\\\": {\\\\\\\\\\\\\"target\\\\\\\\\\\\\": 4, \\\\\\\\\\\\\"resourceDetails\\\\\\\\\\\\\": [{\\\\\\\\\\\\\"path\\\\\\\\\\\\\": \\\\\\\\\\\\\"https://raw.githubusercontent.com/zaza107-1/nd00333-capstone/master/heart_failure_clinical_records_dataset.csv\\\\\\\\\\\\\"}]}}, \\\\\\\\\\\\\"localData\\\\\\\\\\\\\": {}, \\\\\\\\\\\\\"isEnabled\\\\\\\\\\\\\": true, \\\\\\\\\\\\\"name\\\\\\\\\\\\\": null, \\\\\\\\\\\\\"annotation\\\\\\\\\\\\\": null}, {\\\\\\\\\\\\\"id\\\\\\\\\\\\\": \\\\\\\\\\\\\"4b0d4ac2-5bde-4659-ba2a-f16568941599\\\\\\\\\\\\\", \\\\\\\\\\\\\"type\\\\\\\\\\\\\": \\\\\\\\\\\\\"Microsoft.DPrep.ParseDelimitedBlock\\\\\\\\\\\\\", \\\\\\\\\\\\\"arguments\\\\\\\\\\\\\": {\\\\\\\\\\\\\"columnHeadersMode\\\\\\\\\\\\\": 3, \\\\\\\\\\\\\"fileEncoding\\\\\\\\\\\\\": 0, \\\\\\\\\\\\\"handleQuotedLineBreaks\\\\\\\\\\\\\": false, \\\\\\\\\\\\\"preview\\\\\\\\\\\\\": false, \\\\\\\\\\\\\"separator\\\\\\\\\\\\\": \\\\\\\\\\\\\",\\\\\\\\\\\\\", \\\\\\\\\\\\\"skipRows\\\\\\\\\\\\\": 0, \\\\\\\\\\\\\"skipRowsMode\\\\\\\\\\\\\": 0}, \\\\\\\\\\\\\"localData\\\\\\\\\\\\\": {}, \\\\\\\\\\\\\"isEnabled\\\\\\\\\\\\\": true, \\\\\\\\\\\\\"name\\\\\\\\\\\\\": null, \\\\\\\\\\\\\"annotation\\\\\\\\\\\\\": null}, {\\\\\\\\\\\\\"id\\\\\\\\\\\\\": \\\\\\\\\\\\\"209e9d2e-ba4a-4253-908f-c44f378a242b\\\\\\\\\\\\\", \\\\\\\\\\\\\"type\\\\\\\\\\\\\": \\\\\\\\\\\\\"Microsoft.DPrep.DropColumnsBlock\\\\\\\\\\\\\", \\\\\\\\\\\\\"arguments\\\\\\\\\\\\\": {\\\\\\\\\\\\\"columns\\\\\\\\\\\\\": {\\\\\\\\\\\\\"type\\\\\\\\\\\\\": 0, \\\\\\\\\\\\\"details\\\\\\\\\\\\\": {\\\\\\\\\\\\\"selectedColumns\\\\\\\\\\\\\": [\\\\\\\\\\\\\"Path\\\\\\\\\\\\\"]}}}, \\\\\\\\\\\\\"localData\\\\\\\\\\\\\": {}, \\\\\\\\\\\\\"isEnabled\\\\\\\\\\\\\": true, \\\\\\\\\\\\\"name\\\\\\\\\\\\\": null, \\\\\\\\\\\\\"annotation\\\\\\\\\\\\\": null}, {\\\\\\\\\\\\\"id\\\\\\\\\\\\\": \\\\\\\\\\\\\"69d24758-3470-4c5a-a8a3-1143dbb155e2\\\\\\\\\\\\\", \\\\\\\\\\\\\"type\\\\\\\\\\\\\": \\\\\\\\\\\\\"Microsoft.DPrep.SetColumnTypesBlock\\\\\\\\\\\\\", \\\\\\\\\\\\\"arguments\\\\\\\\\\\\\": {\\\\\\\\\\\\\"columnConversion\\\\\\\\\\\\\": [{\\\\\\\\\\\\\"column\\\\\\\\\\\\\": {\\\\\\\\\\\\\"type\\\\\\\\\\\\\": 2, \\\\\\\\\\\\\"details\\\\\\\\\\\\\": {\\\\\\\\\\\\\"selectedColumn\\\\\\\\\\\\\": \\\\\\\\\\\\\"age\\\\\\\\\\\\\"}}, \\\\\\\\\\\\\"typeProperty\\\\\\\\\\\\\": 3}, {\\\\\\\\\\\\\"column\\\\\\\\\\\\\": {\\\\\\\\\\\\\"type\\\\\\\\\\\\\": 2, \\\\\\\\\\\\\"details\\\\\\\\\\\\\": {\\\\\\\\\\\\\"selectedColumn\\\\\\\\\\\\\": \\\\\\\\\\\\\"anaemia\\\\\\\\\\\\\"}}, \\\\\\\\\\\\\"typeProperty\\\\\\\\\\\\\": 2}, {\\\\\\\\\\\\\"column\\\\\\\\\\\\\": {\\\\\\\\\\\\\"type\\\\\\\\\\\\\": 2, \\\\\\\\\\\\\"details\\\\\\\\\\\\\": {\\\\\\\\\\\\\"selectedColumn\\\\\\\\\\\\\": \\\\\\\\\\\\\"creatinine_phosphokinase\\\\\\\\\\\\\"}}, \\\\\\\\\\\\\"typeProperty\\\\\\\\\\\\\": 2}, {\\\\\\\\\\\\\"column\\\\\\\\\\\\\": {\\\\\\\\\\\\\"type\\\\\\\\\\\\\": 2, \\\\\\\\\\\\\"details\\\\\\\\\\\\\": {\\\\\\\\\\\\\"selectedColumn\\\\\\\\\\\\\": \\\\\\\\\\\\\"diabetes\\\\\\\\\\\\\"}}, \\\\\\\\\\\\\"typeProperty\\\\\\\\\\\\\": 2}, {\\\\\\\\\\\\\"column\\\\\\\\\\\\\": {\\\\\\\\\\\\\"type\\\\\\\\\\\\\": 2, \\\\\\\\\\\\\"details\\\\\\\\\\\\\": {\\\\\\\\\\\\\"selectedColumn\\\\\\\\\\\\\": \\\\\\\\\\\\\"ejection_fraction\\\\\\\\\\\\\"}}, \\\\\\\\\\\\\"typeProperty\\\\\\\\\\\\\": 2}, {\\\\\\\\\\\\\"column\\\\\\\\\\\\\": {\\\\\\\\\\\\\"type\\\\\\\\\\\\\": 2, \\\\\\\\\\\\\"details\\\\\\\\\\\\\": {\\\\\\\\\\\\\"selectedColumn\\\\\\\\\\\\\": \\\\\\\\\\\\\"high_blood_pressure\\\\\\\\\\\\\"}}, \\\\\\\\\\\\\"typeProperty\\\\\\\\\\\\\": 2}, {\\\\\\\\\\\\\"column\\\\\\\\\\\\\": {\\\\\\\\\\\\\"type\\\\\\\\\\\\\": 2, \\\\\\\\\\\\\"details\\\\\\\\\\\\\": {\\\\\\\\\\\\\"selectedColumn\\\\\\\\\\\\\": \\\\\\\\\\\\\"platelets\\\\\\\\\\\\\"}}, \\\\\\\\\\\\\"typeProperty\\\\\\\\\\\\\": 3}, {\\\\\\\\\\\\\"column\\\\\\\\\\\\\": {\\\\\\\\\\\\\"type\\\\\\\\\\\\\": 2, \\\\\\\\\\\\\"details\\\\\\\\\\\\\": {\\\\\\\\\\\\\"selectedColumn\\\\\\\\\\\\\": \\\\\\\\\\\\\"serum_creatinine\\\\\\\\\\\\\"}}, \\\\\\\\\\\\\"typeProperty\\\\\\\\\\\\\": 3}, {\\\\\\\\\\\\\"column\\\\\\\\\\\\\": {\\\\\\\\\\\\\"type\\\\\\\\\\\\\": 2, \\\\\\\\\\\\\"details\\\\\\\\\\\\\": {\\\\\\\\\\\\\"selectedColumn\\\\\\\\\\\\\": \\\\\\\\\\\\\"serum_sodium\\\\\\\\\\\\\"}}, \\\\\\\\\\\\\"typeProperty\\\\\\\\\\\\\": 2}, {\\\\\\\\\\\\\"column\\\\\\\\\\\\\": {\\\\\\\\\\\\\"type\\\\\\\\\\\\\": 2, \\\\\\\\\\\\\"details\\\\\\\\\\\\\": {\\\\\\\\\\\\\"selectedColumn\\\\\\\\\\\\\": \\\\\\\\\\\\\"sex\\\\\\\\\\\\\"}}, \\\\\\\\\\\\\"typeProperty\\\\\\\\\\\\\": 2}, {\\\\\\\\\\\\\"column\\\\\\\\\\\\\": {\\\\\\\\\\\\\"type\\\\\\\\\\\\\": 2, \\\\\\\\\\\\\"details\\\\\\\\\\\\\": {\\\\\\\\\\\\\"selectedColumn\\\\\\\\\\\\\": \\\\\\\\\\\\\"smoking\\\\\\\\\\\\\"}}, \\\\\\\\\\\\\"typeProperty\\\\\\\\\\\\\": 2}, {\\\\\\\\\\\\\"column\\\\\\\\\\\\\": {\\\\\\\\\\\\\"type\\\\\\\\\\\\\": 2, \\\\\\\\\\\\\"details\\\\\\\\\\\\\": {\\\\\\\\\\\\\"selectedColumn\\\\\\\\\\\\\": \\\\\\\\\\\\\"time\\\\\\\\\\\\\"}}, \\\\\\\\\\\\\"typeProperty\\\\\\\\\\\\\": 2}, {\\\\\\\\\\\\\"column\\\\\\\\\\\\\": {\\\\\\\\\\\\\"type\\\\\\\\\\\\\": 2, \\\\\\\\\\\\\"details\\\\\\\\\\\\\": {\\\\\\\\\\\\\"selectedColumn\\\\\\\\\\\\\": \\\\\\\\\\\\\"DEATH_EVENT\\\\\\\\\\\\\"}}, \\\\\\\\\\\\\"typeProperty\\\\\\\\\\\\\": 2}]}, \\\\\\\\\\\\\"localData\\\\\\\\\\\\\": {}, \\\\\\\\\\\\\"isEnabled\\\\\\\\\\\\\": true, \\\\\\\\\\\\\"name\\\\\\\\\\\\\": null, \\\\\\\\\\\\\"annotation\\\\\\\\\\\\\": null}], \\\\\\\\\\\\\"inspectors\\\\\\\\\\\\\": [], \\\\\\\\\\\\\"meta\\\\\\\\\\\\\": {\\\\\\\\\\\\\"savedDatasetId\\\\\\\\\\\\\": \\\\\\\\\\\\\"1e89d668-6416-46cd-b1a6-d3f5caebc247\\\\\\\\\\\\\", \\\\\\\\\\\\\"datasetType\\\\\\\\\\\\\": \\\\\\\\\\\\\"tabular\\\\\\\\\\\\\", \\\\\\\\\\\\\"subscriptionId\\\\\\\\\\\\\": \\\\\\\\\\\\\"3e42d11f-d64d-4173-af9b-12ecaa1030b3\\\\\\\\\\\\\", \\\\\\\\\\\\\"workspaceId\\\\\\\\\\\\\": \\\\\\\\\\\\\"d4a52d98-fec4-4093-a772-6bbe4b761c43\\\\\\\\\\\\\", \\\\\\\\\\\\\"workspaceLocation\\\\\\\\\\\\\": \\\\\\\\\\\\\"southcentralus\\\\\\\\\\\\\"}}\\\\\", \\\\\"activities\\\\\": 0}',\n  'EnableSubsampling': None,\n  'runTemplate': 'AutoML',\n  'azureml.runsource': 'automl',\n  'display_task_type': 'classification',\n  'dependencies_versions': '{\"azureml-widgets\": \"1.20.0\", \"azureml-train\": \"1.20.0\", \"azureml-train-restclients-hyperdrive\": \"1.20.0\", \"azureml-train-core\": \"1.20.0\", \"azureml-train-automl\": \"1.20.0\", \"azureml-train-automl-runtime\": \"1.20.0\", \"azureml-train-automl-client\": \"1.20.0\", \"azureml-tensorboard\": \"1.20.0\", \"azureml-telemetry\": \"1.20.0\", \"azureml-sdk\": \"1.20.0\", \"azureml-samples\": \"0+unknown\", \"azureml-pipeline\": \"1.20.0\", \"azureml-pipeline-steps\": \"1.20.0\", \"azureml-pipeline-core\": \"1.20.0\", \"azureml-opendatasets\": \"1.20.0\", \"azureml-model-management-sdk\": \"1.0.1b6.post1\", \"azureml-mlflow\": \"1.20.0.post1\", \"azureml-interpret\": \"1.20.0\", \"azureml-explain-model\": \"1.20.0\", \"azureml-defaults\": \"1.20.0\", \"azureml-dataset-runtime\": \"1.20.0\", \"azureml-dataprep\": \"2.7.3\", \"azureml-dataprep-rslex\": \"1.5.0\", \"azureml-dataprep-native\": \"27.0.0\", \"azureml-datadrift\": \"1.20.0\", \"azureml-core\": \"1.20.0\", \"azureml-contrib-services\": \"1.20.0\", \"azureml-contrib-server\": \"1.20.0\", \"azureml-contrib-reinforcementlearning\": \"1.20.0\", \"azureml-contrib-pipeline-steps\": \"1.20.0\", \"azureml-contrib-notebook\": \"1.20.0\", \"azureml-contrib-interpret\": \"1.20.0\", \"azureml-contrib-gbdt\": \"1.20.0\", \"azureml-contrib-fairness\": \"1.20.0\", \"azureml-contrib-dataset\": \"1.20.0\", \"azureml-cli-common\": \"1.20.0\", \"azureml-automl-runtime\": \"1.20.0\", \"azureml-automl-core\": \"1.20.0\", \"azureml-accel-models\": \"1.20.0\"}',\n  '_aml_system_scenario_identification': 'Remote.Parent',\n  'ClientType': 'SDK',\n  'environment_cpu_name': 'AzureML-AutoML',\n  'environment_cpu_label': 'prod',\n  'environment_gpu_name': 'AzureML-AutoML-GPU',\n  'environment_gpu_label': 'prod',\n  'root_attribution': 'automl',\n  'attribution': 'AutoML',\n  'Orchestrator': 'AutoML',\n  'CancelUri': 'https://southcentralus.experiments.azureml.net/jasmine/v1.0/subscriptions/3e42d11f-d64d-4173-af9b-12ecaa1030b3/resourceGroups/aml-quickstarts-138715/providers/Microsoft.MachineLearningServices/workspaces/quick-starts-ws-138715/experimentids/da4b57f7-6aaa-4524-af3b-b6a0e8726de6/cancel/AutoML_78f226cc-243e-49aa-8e99-1054944e70a5',\n  'ClientSdkVersion': '1.21.0',\n  'snapshotId': '00000000-0000-0000-0000-000000000000',\n  'SetupRunId': 'AutoML_78f226cc-243e-49aa-8e99-1054944e70a5_setup',\n  'SetupRunContainerId': 'dcid.AutoML_78f226cc-243e-49aa-8e99-1054944e70a5_setup',\n  'FeaturizationRunJsonPath': 'featurizer_container.json',\n  'FeaturizationRunId': 'AutoML_78f226cc-243e-49aa-8e99-1054944e70a5_featurize',\n  'ProblemInfoJsonString': '{\"dataset_num_categorical\": 0, \"is_sparse\": false, \"subsampling\": false, \"dataset_classes\": 2, \"dataset_features\": 12, \"dataset_samples\": 299, \"single_frequency_class_detected\": false}',\n  'ModelExplainRunId': 'AutoML_78f226cc-243e-49aa-8e99-1054944e70a5_ModelExplain'},\n 'inputDatasets': [{'dataset': {'id': '1e89d668-6416-46cd-b1a6-d3f5caebc247'}, 'consumptionDetails': {'type': 'RunInput', 'inputName': 'training_data', 'mechanism': 'Direct'}}],\n 'outputDatasets': [],\n 'logFiles': {},\n 'submittedBy': 'ODL_User 138715'}"
          },
          "metadata": {}
        }
      ],
      "execution_count": 10,
      "metadata": {
        "gather": {
          "logged": 1613151489312
        },
        "jupyter": {
          "outputs_hidden": false,
          "source_hidden": false
        },
        "nteract": {
          "transient": {
            "deleting": false
          }
        }
      }
    },
    {
      "cell_type": "markdown",
      "source": [
        "## Run Details\n",
        "\n",
        "OPTIONAL: Write about the different models trained and their performance. Why do you think some models did better than others?\n",
        "\n",
        "TODO: In the cell below, use the `RunDetails` widget to show the different experiments."
      ],
      "metadata": {}
    },
    {
      "cell_type": "code",
      "source": [
        "from azureml.widgets import RunDetails\n",
        "RunDetails(remote_run).show()"
      ],
      "outputs": [
        {
          "output_type": "display_data",
          "data": {
            "text/plain": "_AutoMLWidget(widget_settings={'childWidgetDisplay': 'popup', 'send_telemetry': False, 'log_level': 'INFO', 's…",
            "application/vnd.jupyter.widget-view+json": {
              "version_major": 2,
              "version_minor": 0,
              "model_id": "e7ed5a62b3834669a9b72419e756351e"
            }
          },
          "metadata": {}
        },
        {
          "output_type": "display_data",
          "data": {
            "application/aml.mini.widget.v1": "{\"status\": \"Completed\", \"workbench_run_details_uri\": \"https://ml.azure.com/experiments/AutoML_heart/runs/AutoML_78f226cc-243e-49aa-8e99-1054944e70a5?wsid=/subscriptions/3e42d11f-d64d-4173-af9b-12ecaa1030b3/resourcegroups/aml-quickstarts-138715/workspaces/quick-starts-ws-138715\", \"run_id\": \"AutoML_78f226cc-243e-49aa-8e99-1054944e70a5\", \"run_properties\": {\"run_id\": \"AutoML_78f226cc-243e-49aa-8e99-1054944e70a5\", \"created_utc\": \"2021-02-12T17:23:47.160078Z\", \"properties\": {\"num_iterations\": \"1000\", \"training_type\": \"TrainFull\", \"acquisition_function\": \"EI\", \"primary_metric\": \"accuracy\", \"train_split\": \"0\", \"acquisition_parameter\": \"0\", \"num_cross_validation\": null, \"target\": \"auto-ml\", \"AMLSettingsJsonString\": \"{\\\"path\\\":null,\\\"name\\\":\\\"AutoML_heart\\\",\\\"subscription_id\\\":\\\"3e42d11f-d64d-4173-af9b-12ecaa1030b3\\\",\\\"resource_group\\\":\\\"aml-quickstarts-138715\\\",\\\"workspace_name\\\":\\\"quick-starts-ws-138715\\\",\\\"region\\\":\\\"southcentralus\\\",\\\"compute_target\\\":\\\"auto-ml\\\",\\\"spark_service\\\":null,\\\"azure_service\\\":\\\"remote\\\",\\\"many_models\\\":false,\\\"pipeline_fetch_max_batch_size\\\":1,\\\"iterations\\\":1000,\\\"primary_metric\\\":\\\"accuracy\\\",\\\"task_type\\\":\\\"classification\\\",\\\"data_script\\\":null,\\\"validation_size\\\":0.0,\\\"n_cross_validations\\\":null,\\\"y_min\\\":null,\\\"y_max\\\":null,\\\"num_classes\\\":null,\\\"featurization\\\":\\\"auto\\\",\\\"_ignore_package_version_incompatibilities\\\":false,\\\"is_timeseries\\\":false,\\\"max_cores_per_iteration\\\":1,\\\"max_concurrent_iterations\\\":5,\\\"iteration_timeout_minutes\\\":null,\\\"mem_in_mb\\\":null,\\\"enforce_time_on_windows\\\":false,\\\"experiment_timeout_minutes\\\":15,\\\"experiment_exit_score\\\":null,\\\"whitelist_models\\\":null,\\\"blacklist_algos\\\":[\\\"TensorFlowLinearClassifier\\\",\\\"TensorFlowDNN\\\"],\\\"supported_models\\\":[\\\"XGBoostClassifier\\\",\\\"GradientBoosting\\\",\\\"LightGBM\\\",\\\"SGD\\\",\\\"SVM\\\",\\\"TensorFlowLinearClassifier\\\",\\\"TensorFlowDNN\\\",\\\"RandomForest\\\",\\\"BernoulliNaiveBayes\\\",\\\"KNN\\\",\\\"LogisticRegression\\\",\\\"MultinomialNaiveBayes\\\",\\\"ExtremeRandomTrees\\\",\\\"AveragedPerceptronClassifier\\\",\\\"DecisionTree\\\",\\\"LinearSVM\\\"],\\\"auto_blacklist\\\":true,\\\"blacklist_samples_reached\\\":false,\\\"exclude_nan_labels\\\":true,\\\"verbosity\\\":20,\\\"_debug_log\\\":\\\"azureml_automl.log\\\",\\\"show_warnings\\\":false,\\\"model_explainability\\\":true,\\\"service_url\\\":null,\\\"sdk_url\\\":null,\\\"sdk_packages\\\":null,\\\"enable_onnx_compatible_models\\\":false,\\\"enable_split_onnx_featurizer_estimator_models\\\":false,\\\"vm_type\\\":\\\"STANDARD_DS3_V2\\\",\\\"telemetry_verbosity\\\":20,\\\"send_telemetry\\\":true,\\\"enable_dnn\\\":false,\\\"scenario\\\":\\\"SDK-1.13.0\\\",\\\"environment_label\\\":null,\\\"force_text_dnn\\\":false,\\\"enable_feature_sweeping\\\":true,\\\"enable_early_stopping\\\":true,\\\"early_stopping_n_iters\\\":10,\\\"metrics\\\":null,\\\"enable_ensembling\\\":true,\\\"enable_stack_ensembling\\\":true,\\\"ensemble_iterations\\\":15,\\\"enable_tf\\\":false,\\\"enable_subsampling\\\":null,\\\"subsample_seed\\\":null,\\\"enable_nimbusml\\\":false,\\\"enable_streaming\\\":false,\\\"force_streaming\\\":false,\\\"track_child_runs\\\":true,\\\"allowed_private_models\\\":[],\\\"label_column_name\\\":\\\"DEATH_EVENT\\\",\\\"weight_column_name\\\":null,\\\"cv_split_column_names\\\":null,\\\"enable_local_managed\\\":false,\\\"_local_managed_run_id\\\":null,\\\"cost_mode\\\":1,\\\"lag_length\\\":0,\\\"metric_operation\\\":\\\"maximize\\\",\\\"preprocess\\\":true}\", \"DataPrepJsonString\": \"{\\\\\\\"training_data\\\\\\\": \\\\\\\"{\\\\\\\\\\\\\\\"blocks\\\\\\\\\\\\\\\": [{\\\\\\\\\\\\\\\"id\\\\\\\\\\\\\\\": \\\\\\\\\\\\\\\"f02fc7bb-19cf-418d-8cbb-e4b147cb1bb0\\\\\\\\\\\\\\\", \\\\\\\\\\\\\\\"type\\\\\\\\\\\\\\\": \\\\\\\\\\\\\\\"Microsoft.DPrep.GetFilesBlock\\\\\\\\\\\\\\\", \\\\\\\\\\\\\\\"arguments\\\\\\\\\\\\\\\": {\\\\\\\\\\\\\\\"isArchive\\\\\\\\\\\\\\\": false, \\\\\\\\\\\\\\\"path\\\\\\\\\\\\\\\": {\\\\\\\\\\\\\\\"target\\\\\\\\\\\\\\\": 4, \\\\\\\\\\\\\\\"resourceDetails\\\\\\\\\\\\\\\": [{\\\\\\\\\\\\\\\"path\\\\\\\\\\\\\\\": \\\\\\\\\\\\\\\"https://raw.githubusercontent.com/zaza107-1/nd00333-capstone/master/heart_failure_clinical_records_dataset.csv\\\\\\\\\\\\\\\"}]}}, \\\\\\\\\\\\\\\"localData\\\\\\\\\\\\\\\": {}, \\\\\\\\\\\\\\\"isEnabled\\\\\\\\\\\\\\\": true, \\\\\\\\\\\\\\\"name\\\\\\\\\\\\\\\": null, \\\\\\\\\\\\\\\"annotation\\\\\\\\\\\\\\\": null}, {\\\\\\\\\\\\\\\"id\\\\\\\\\\\\\\\": \\\\\\\\\\\\\\\"4b0d4ac2-5bde-4659-ba2a-f16568941599\\\\\\\\\\\\\\\", \\\\\\\\\\\\\\\"type\\\\\\\\\\\\\\\": \\\\\\\\\\\\\\\"Microsoft.DPrep.ParseDelimitedBlock\\\\\\\\\\\\\\\", \\\\\\\\\\\\\\\"arguments\\\\\\\\\\\\\\\": {\\\\\\\\\\\\\\\"columnHeadersMode\\\\\\\\\\\\\\\": 3, \\\\\\\\\\\\\\\"fileEncoding\\\\\\\\\\\\\\\": 0, \\\\\\\\\\\\\\\"handleQuotedLineBreaks\\\\\\\\\\\\\\\": false, \\\\\\\\\\\\\\\"preview\\\\\\\\\\\\\\\": false, \\\\\\\\\\\\\\\"separator\\\\\\\\\\\\\\\": \\\\\\\\\\\\\\\",\\\\\\\\\\\\\\\", \\\\\\\\\\\\\\\"skipRows\\\\\\\\\\\\\\\": 0, \\\\\\\\\\\\\\\"skipRowsMode\\\\\\\\\\\\\\\": 0}, \\\\\\\\\\\\\\\"localData\\\\\\\\\\\\\\\": {}, \\\\\\\\\\\\\\\"isEnabled\\\\\\\\\\\\\\\": true, \\\\\\\\\\\\\\\"name\\\\\\\\\\\\\\\": null, \\\\\\\\\\\\\\\"annotation\\\\\\\\\\\\\\\": null}, {\\\\\\\\\\\\\\\"id\\\\\\\\\\\\\\\": \\\\\\\\\\\\\\\"209e9d2e-ba4a-4253-908f-c44f378a242b\\\\\\\\\\\\\\\", \\\\\\\\\\\\\\\"type\\\\\\\\\\\\\\\": \\\\\\\\\\\\\\\"Microsoft.DPrep.DropColumnsBlock\\\\\\\\\\\\\\\", \\\\\\\\\\\\\\\"arguments\\\\\\\\\\\\\\\": {\\\\\\\\\\\\\\\"columns\\\\\\\\\\\\\\\": {\\\\\\\\\\\\\\\"type\\\\\\\\\\\\\\\": 0, \\\\\\\\\\\\\\\"details\\\\\\\\\\\\\\\": {\\\\\\\\\\\\\\\"selectedColumns\\\\\\\\\\\\\\\": [\\\\\\\\\\\\\\\"Path\\\\\\\\\\\\\\\"]}}}, \\\\\\\\\\\\\\\"localData\\\\\\\\\\\\\\\": {}, \\\\\\\\\\\\\\\"isEnabled\\\\\\\\\\\\\\\": true, \\\\\\\\\\\\\\\"name\\\\\\\\\\\\\\\": null, \\\\\\\\\\\\\\\"annotation\\\\\\\\\\\\\\\": null}, {\\\\\\\\\\\\\\\"id\\\\\\\\\\\\\\\": \\\\\\\\\\\\\\\"69d24758-3470-4c5a-a8a3-1143dbb155e2\\\\\\\\\\\\\\\", \\\\\\\\\\\\\\\"type\\\\\\\\\\\\\\\": \\\\\\\\\\\\\\\"Microsoft.DPrep.SetColumnTypesBlock\\\\\\\\\\\\\\\", \\\\\\\\\\\\\\\"arguments\\\\\\\\\\\\\\\": {\\\\\\\\\\\\\\\"columnConversion\\\\\\\\\\\\\\\": [{\\\\\\\\\\\\\\\"column\\\\\\\\\\\\\\\": {\\\\\\\\\\\\\\\"type\\\\\\\\\\\\\\\": 2, \\\\\\\\\\\\\\\"details\\\\\\\\\\\\\\\": {\\\\\\\\\\\\\\\"selectedColumn\\\\\\\\\\\\\\\": \\\\\\\\\\\\\\\"age\\\\\\\\\\\\\\\"}}, \\\\\\\\\\\\\\\"typeProperty\\\\\\\\\\\\\\\": 3}, {\\\\\\\\\\\\\\\"column\\\\\\\\\\\\\\\": {\\\\\\\\\\\\\\\"type\\\\\\\\\\\\\\\": 2, \\\\\\\\\\\\\\\"details\\\\\\\\\\\\\\\": {\\\\\\\\\\\\\\\"selectedColumn\\\\\\\\\\\\\\\": \\\\\\\\\\\\\\\"anaemia\\\\\\\\\\\\\\\"}}, \\\\\\\\\\\\\\\"typeProperty\\\\\\\\\\\\\\\": 2}, {\\\\\\\\\\\\\\\"column\\\\\\\\\\\\\\\": {\\\\\\\\\\\\\\\"type\\\\\\\\\\\\\\\": 2, \\\\\\\\\\\\\\\"details\\\\\\\\\\\\\\\": {\\\\\\\\\\\\\\\"selectedColumn\\\\\\\\\\\\\\\": \\\\\\\\\\\\\\\"creatinine_phosphokinase\\\\\\\\\\\\\\\"}}, \\\\\\\\\\\\\\\"typeProperty\\\\\\\\\\\\\\\": 2}, {\\\\\\\\\\\\\\\"column\\\\\\\\\\\\\\\": {\\\\\\\\\\\\\\\"type\\\\\\\\\\\\\\\": 2, \\\\\\\\\\\\\\\"details\\\\\\\\\\\\\\\": {\\\\\\\\\\\\\\\"selectedColumn\\\\\\\\\\\\\\\": \\\\\\\\\\\\\\\"diabetes\\\\\\\\\\\\\\\"}}, \\\\\\\\\\\\\\\"typeProperty\\\\\\\\\\\\\\\": 2}, {\\\\\\\\\\\\\\\"column\\\\\\\\\\\\\\\": {\\\\\\\\\\\\\\\"type\\\\\\\\\\\\\\\": 2, \\\\\\\\\\\\\\\"details\\\\\\\\\\\\\\\": {\\\\\\\\\\\\\\\"selectedColumn\\\\\\\\\\\\\\\": \\\\\\\\\\\\\\\"ejection_fraction\\\\\\\\\\\\\\\"}}, \\\\\\\\\\\\\\\"typeProperty\\\\\\\\\\\\\\\": 2}, {\\\\\\\\\\\\\\\"column\\\\\\\\\\\\\\\": {\\\\\\\\\\\\\\\"type\\\\\\\\\\\\\\\": 2, \\\\\\\\\\\\\\\"details\\\\\\\\\\\\\\\": {\\\\\\\\\\\\\\\"selectedColumn\\\\\\\\\\\\\\\": \\\\\\\\\\\\\\\"high_blood_pressure\\\\\\\\\\\\\\\"}}, \\\\\\\\\\\\\\\"typeProperty\\\\\\\\\\\\\\\": 2}, {\\\\\\\\\\\\\\\"column\\\\\\\\\\\\\\\": {\\\\\\\\\\\\\\\"type\\\\\\\\\\\\\\\": 2, \\\\\\\\\\\\\\\"details\\\\\\\\\\\\\\\": {\\\\\\\\\\\\\\\"selectedColumn\\\\\\\\\\\\\\\": \\\\\\\\\\\\\\\"platelets\\\\\\\\\\\\\\\"}}, \\\\\\\\\\\\\\\"typeProperty\\\\\\\\\\\\\\\": 3}, {\\\\\\\\\\\\\\\"column\\\\\\\\\\\\\\\": {\\\\\\\\\\\\\\\"type\\\\\\\\\\\\\\\": 2, \\\\\\\\\\\\\\\"details\\\\\\\\\\\\\\\": {\\\\\\\\\\\\\\\"selectedColumn\\\\\\\\\\\\\\\": \\\\\\\\\\\\\\\"serum_creatinine\\\\\\\\\\\\\\\"}}, \\\\\\\\\\\\\\\"typeProperty\\\\\\\\\\\\\\\": 3}, {\\\\\\\\\\\\\\\"column\\\\\\\\\\\\\\\": {\\\\\\\\\\\\\\\"type\\\\\\\\\\\\\\\": 2, \\\\\\\\\\\\\\\"details\\\\\\\\\\\\\\\": {\\\\\\\\\\\\\\\"selectedColumn\\\\\\\\\\\\\\\": \\\\\\\\\\\\\\\"serum_sodium\\\\\\\\\\\\\\\"}}, \\\\\\\\\\\\\\\"typeProperty\\\\\\\\\\\\\\\": 2}, {\\\\\\\\\\\\\\\"column\\\\\\\\\\\\\\\": {\\\\\\\\\\\\\\\"type\\\\\\\\\\\\\\\": 2, \\\\\\\\\\\\\\\"details\\\\\\\\\\\\\\\": {\\\\\\\\\\\\\\\"selectedColumn\\\\\\\\\\\\\\\": \\\\\\\\\\\\\\\"sex\\\\\\\\\\\\\\\"}}, \\\\\\\\\\\\\\\"typeProperty\\\\\\\\\\\\\\\": 2}, {\\\\\\\\\\\\\\\"column\\\\\\\\\\\\\\\": {\\\\\\\\\\\\\\\"type\\\\\\\\\\\\\\\": 2, \\\\\\\\\\\\\\\"details\\\\\\\\\\\\\\\": {\\\\\\\\\\\\\\\"selectedColumn\\\\\\\\\\\\\\\": \\\\\\\\\\\\\\\"smoking\\\\\\\\\\\\\\\"}}, \\\\\\\\\\\\\\\"typeProperty\\\\\\\\\\\\\\\": 2}, {\\\\\\\\\\\\\\\"column\\\\\\\\\\\\\\\": {\\\\\\\\\\\\\\\"type\\\\\\\\\\\\\\\": 2, \\\\\\\\\\\\\\\"details\\\\\\\\\\\\\\\": {\\\\\\\\\\\\\\\"selectedColumn\\\\\\\\\\\\\\\": \\\\\\\\\\\\\\\"time\\\\\\\\\\\\\\\"}}, \\\\\\\\\\\\\\\"typeProperty\\\\\\\\\\\\\\\": 2}, {\\\\\\\\\\\\\\\"column\\\\\\\\\\\\\\\": {\\\\\\\\\\\\\\\"type\\\\\\\\\\\\\\\": 2, \\\\\\\\\\\\\\\"details\\\\\\\\\\\\\\\": {\\\\\\\\\\\\\\\"selectedColumn\\\\\\\\\\\\\\\": \\\\\\\\\\\\\\\"DEATH_EVENT\\\\\\\\\\\\\\\"}}, \\\\\\\\\\\\\\\"typeProperty\\\\\\\\\\\\\\\": 2}]}, \\\\\\\\\\\\\\\"localData\\\\\\\\\\\\\\\": {}, \\\\\\\\\\\\\\\"isEnabled\\\\\\\\\\\\\\\": true, \\\\\\\\\\\\\\\"name\\\\\\\\\\\\\\\": null, \\\\\\\\\\\\\\\"annotation\\\\\\\\\\\\\\\": null}], \\\\\\\\\\\\\\\"inspectors\\\\\\\\\\\\\\\": [], \\\\\\\\\\\\\\\"meta\\\\\\\\\\\\\\\": {\\\\\\\\\\\\\\\"savedDatasetId\\\\\\\\\\\\\\\": \\\\\\\\\\\\\\\"1e89d668-6416-46cd-b1a6-d3f5caebc247\\\\\\\\\\\\\\\", \\\\\\\\\\\\\\\"datasetType\\\\\\\\\\\\\\\": \\\\\\\\\\\\\\\"tabular\\\\\\\\\\\\\\\", \\\\\\\\\\\\\\\"subscriptionId\\\\\\\\\\\\\\\": \\\\\\\\\\\\\\\"3e42d11f-d64d-4173-af9b-12ecaa1030b3\\\\\\\\\\\\\\\", \\\\\\\\\\\\\\\"workspaceId\\\\\\\\\\\\\\\": \\\\\\\\\\\\\\\"d4a52d98-fec4-4093-a772-6bbe4b761c43\\\\\\\\\\\\\\\", \\\\\\\\\\\\\\\"workspaceLocation\\\\\\\\\\\\\\\": \\\\\\\\\\\\\\\"southcentralus\\\\\\\\\\\\\\\"}}\\\\\\\", \\\\\\\"activities\\\\\\\": 0}\", \"EnableSubsampling\": null, \"runTemplate\": \"AutoML\", \"azureml.runsource\": \"automl\", \"display_task_type\": \"classification\", \"dependencies_versions\": \"{\\\"azureml-widgets\\\": \\\"1.20.0\\\", \\\"azureml-train\\\": \\\"1.20.0\\\", \\\"azureml-train-restclients-hyperdrive\\\": \\\"1.20.0\\\", \\\"azureml-train-core\\\": \\\"1.20.0\\\", \\\"azureml-train-automl\\\": \\\"1.20.0\\\", \\\"azureml-train-automl-runtime\\\": \\\"1.20.0\\\", \\\"azureml-train-automl-client\\\": \\\"1.20.0\\\", \\\"azureml-tensorboard\\\": \\\"1.20.0\\\", \\\"azureml-telemetry\\\": \\\"1.20.0\\\", \\\"azureml-sdk\\\": \\\"1.20.0\\\", \\\"azureml-samples\\\": \\\"0+unknown\\\", \\\"azureml-pipeline\\\": \\\"1.20.0\\\", \\\"azureml-pipeline-steps\\\": \\\"1.20.0\\\", \\\"azureml-pipeline-core\\\": \\\"1.20.0\\\", \\\"azureml-opendatasets\\\": \\\"1.20.0\\\", \\\"azureml-model-management-sdk\\\": \\\"1.0.1b6.post1\\\", \\\"azureml-mlflow\\\": \\\"1.20.0.post1\\\", \\\"azureml-interpret\\\": \\\"1.20.0\\\", \\\"azureml-explain-model\\\": \\\"1.20.0\\\", \\\"azureml-defaults\\\": \\\"1.20.0\\\", \\\"azureml-dataset-runtime\\\": \\\"1.20.0\\\", \\\"azureml-dataprep\\\": \\\"2.7.3\\\", \\\"azureml-dataprep-rslex\\\": \\\"1.5.0\\\", \\\"azureml-dataprep-native\\\": \\\"27.0.0\\\", \\\"azureml-datadrift\\\": \\\"1.20.0\\\", \\\"azureml-core\\\": \\\"1.20.0\\\", \\\"azureml-contrib-services\\\": \\\"1.20.0\\\", \\\"azureml-contrib-server\\\": \\\"1.20.0\\\", \\\"azureml-contrib-reinforcementlearning\\\": \\\"1.20.0\\\", \\\"azureml-contrib-pipeline-steps\\\": \\\"1.20.0\\\", \\\"azureml-contrib-notebook\\\": \\\"1.20.0\\\", \\\"azureml-contrib-interpret\\\": \\\"1.20.0\\\", \\\"azureml-contrib-gbdt\\\": \\\"1.20.0\\\", \\\"azureml-contrib-fairness\\\": \\\"1.20.0\\\", \\\"azureml-contrib-dataset\\\": \\\"1.20.0\\\", \\\"azureml-cli-common\\\": \\\"1.20.0\\\", \\\"azureml-automl-runtime\\\": \\\"1.20.0\\\", \\\"azureml-automl-core\\\": \\\"1.20.0\\\", \\\"azureml-accel-models\\\": \\\"1.20.0\\\"}\", \"_aml_system_scenario_identification\": \"Remote.Parent\", \"ClientType\": \"SDK\", \"environment_cpu_name\": \"AzureML-AutoML\", \"environment_cpu_label\": \"prod\", \"environment_gpu_name\": \"AzureML-AutoML-GPU\", \"environment_gpu_label\": \"prod\", \"root_attribution\": \"automl\", \"attribution\": \"AutoML\", \"Orchestrator\": \"AutoML\", \"CancelUri\": \"https://southcentralus.experiments.azureml.net/jasmine/v1.0/subscriptions/3e42d11f-d64d-4173-af9b-12ecaa1030b3/resourceGroups/aml-quickstarts-138715/providers/Microsoft.MachineLearningServices/workspaces/quick-starts-ws-138715/experimentids/da4b57f7-6aaa-4524-af3b-b6a0e8726de6/cancel/AutoML_78f226cc-243e-49aa-8e99-1054944e70a5\", \"ClientSdkVersion\": \"1.21.0\", \"snapshotId\": \"00000000-0000-0000-0000-000000000000\", \"SetupRunId\": \"AutoML_78f226cc-243e-49aa-8e99-1054944e70a5_setup\", \"SetupRunContainerId\": \"dcid.AutoML_78f226cc-243e-49aa-8e99-1054944e70a5_setup\", \"FeaturizationRunJsonPath\": \"featurizer_container.json\", \"FeaturizationRunId\": \"AutoML_78f226cc-243e-49aa-8e99-1054944e70a5_featurize\", \"ProblemInfoJsonString\": \"{\\\"dataset_num_categorical\\\": 0, \\\"is_sparse\\\": false, \\\"subsampling\\\": false, \\\"dataset_classes\\\": 2, \\\"dataset_features\\\": 12, \\\"dataset_samples\\\": 299, \\\"single_frequency_class_detected\\\": false}\", \"ModelExplainRunId\": \"AutoML_78f226cc-243e-49aa-8e99-1054944e70a5_ModelExplain\"}, \"tags\": {\"model_explain_run\": \"best_run\", \"_aml_system_azureml.automlComponent\": \"AutoML\", \"pipeline_id\": \"\", \"score\": \"\", \"predicted_cost\": \"\", \"fit_time\": \"\", \"training_percent\": \"\", \"iteration\": \"\", \"run_preprocessor\": \"\", \"run_algorithm\": \"\", \"dynamic_whitelisting_iterations\": \"<25>;<30>;<35>;\", \"automl_best_child_run_id\": \"AutoML_78f226cc-243e-49aa-8e99-1054944e70a5_38\", \"model_explain_best_run_child_id\": \"AutoML_78f226cc-243e-49aa-8e99-1054944e70a5_38\"}, \"end_time_utc\": \"2021-02-12T17:38:05.249391Z\", \"status\": \"Completed\", \"log_files\": {}, \"log_groups\": [], \"run_duration\": \"0:14:18\"}, \"child_runs\": [{\"run_id\": \"AutoML_78f226cc-243e-49aa-8e99-1054944e70a5_4\", \"run_number\": 5, \"metric\": null, \"status\": \"Completed\", \"run_type\": \"azureml.scriptrun\", \"training_percent\": \"100\", \"start_time\": \"2021-02-12T17:28:02.780421Z\", \"end_time\": \"2021-02-12T17:28:49.582901Z\", \"created_time\": \"2021-02-12T17:27:47.435928Z\", \"created_time_dt\": \"2021-02-12T17:27:47.435928Z\", \"duration\": \"0:01:02\", \"iteration\": \"4\", \"goal\": \"accuracy_max\", \"run_name\": \"MinMaxScaler, RandomForest\", \"run_properties\": \"copy=True, feature_range=(0, 1\", \"primary_metric\": 0.81574713, \"best_metric\": 0.8562069}, {\"run_id\": \"AutoML_78f226cc-243e-49aa-8e99-1054944e70a5_3\", \"run_number\": 6, \"metric\": null, \"status\": \"Completed\", \"run_type\": \"azureml.scriptrun\", \"training_percent\": \"100\", \"start_time\": \"2021-02-12T17:28:01.996268Z\", \"end_time\": \"2021-02-12T17:28:51.909263Z\", \"created_time\": \"2021-02-12T17:27:47.44938Z\", \"created_time_dt\": \"2021-02-12T17:27:47.44938Z\", \"duration\": \"0:01:04\", \"iteration\": \"3\", \"goal\": \"accuracy_max\", \"run_name\": \"MinMaxScaler, RandomForest\", \"run_properties\": \"copy=True, feature_range=(0, 1\", \"primary_metric\": 0.82931034, \"best_metric\": 0.8562069}, {\"run_id\": \"AutoML_78f226cc-243e-49aa-8e99-1054944e70a5_2\", \"run_number\": 7, \"metric\": null, \"status\": \"Completed\", \"run_type\": \"azureml.scriptrun\", \"training_percent\": \"100\", \"start_time\": \"2021-02-12T17:28:04.008662Z\", \"end_time\": \"2021-02-12T17:28:51.290563Z\", \"created_time\": \"2021-02-12T17:27:47.450684Z\", \"created_time_dt\": \"2021-02-12T17:27:47.450684Z\", \"duration\": \"0:01:03\", \"iteration\": \"2\", \"goal\": \"accuracy_max\", \"run_name\": \"MinMaxScaler, RandomForest\", \"run_properties\": \"copy=True, feature_range=(0, 1\", \"primary_metric\": 0.8562069, \"best_metric\": 0.8562069}, {\"run_id\": \"AutoML_78f226cc-243e-49aa-8e99-1054944e70a5_1\", \"run_number\": 8, \"metric\": null, \"status\": \"Completed\", \"run_type\": \"azureml.scriptrun\", \"training_percent\": \"100\", \"start_time\": \"2021-02-12T17:28:01.7371Z\", \"end_time\": \"2021-02-12T17:29:05.184618Z\", \"created_time\": \"2021-02-12T17:27:47.443454Z\", \"created_time_dt\": \"2021-02-12T17:27:47.443454Z\", \"duration\": \"0:01:17\", \"iteration\": \"1\", \"goal\": \"accuracy_max\", \"run_name\": \"MaxAbsScaler, XGBoostClassifier\", \"run_properties\": \"copy=True\", \"primary_metric\": 0.83586207, \"best_metric\": 0.83597701}, {\"run_id\": \"AutoML_78f226cc-243e-49aa-8e99-1054944e70a5_0\", \"run_number\": 9, \"metric\": null, \"status\": \"Completed\", \"run_type\": \"azureml.scriptrun\", \"training_percent\": \"100\", \"start_time\": \"2021-02-12T17:28:02.265423Z\", \"end_time\": \"2021-02-12T17:28:51.141811Z\", \"created_time\": \"2021-02-12T17:27:47.455406Z\", \"created_time_dt\": \"2021-02-12T17:27:47.455406Z\", \"duration\": \"0:01:03\", \"iteration\": \"0\", \"goal\": \"accuracy_max\", \"run_name\": \"MaxAbsScaler, LightGBM\", \"run_properties\": \"copy=True\", \"primary_metric\": 0.83597701, \"best_metric\": 0.83597701}, {\"run_id\": \"AutoML_78f226cc-243e-49aa-8e99-1054944e70a5_5\", \"run_number\": 10, \"metric\": null, \"status\": \"Completed\", \"run_type\": \"azureml.scriptrun\", \"training_percent\": \"100\", \"start_time\": \"2021-02-12T17:29:02.761089Z\", \"end_time\": \"2021-02-12T17:29:47.476086Z\", \"created_time\": \"2021-02-12T17:28:52.770433Z\", \"created_time_dt\": \"2021-02-12T17:28:52.770433Z\", \"duration\": \"0:00:54\", \"iteration\": \"5\", \"goal\": \"accuracy_max\", \"run_name\": \"StandardScalerWrapper, LogisticRegression\", \"run_properties\": \"<azureml.automl.runtime.shared.model_wrappers.StandardScalerWrapper object at 0x7efdf22539b0\", \"primary_metric\": 0.80586207, \"best_metric\": 0.8562069}, {\"run_id\": \"AutoML_78f226cc-243e-49aa-8e99-1054944e70a5_6\", \"run_number\": 11, \"metric\": null, \"status\": \"Completed\", \"run_type\": \"azureml.scriptrun\", \"training_percent\": \"100\", \"start_time\": \"2021-02-12T17:29:09.605902Z\", \"end_time\": \"2021-02-12T17:29:52.912592Z\", \"created_time\": \"2021-02-12T17:28:55.728858Z\", \"created_time_dt\": \"2021-02-12T17:28:55.728858Z\", \"duration\": \"0:00:57\", \"iteration\": \"6\", \"goal\": \"accuracy_max\", \"run_name\": \"MinMaxScaler, SVM\", \"run_properties\": \"copy=True, feature_range=(0, 1\", \"primary_metric\": 0.7191954, \"best_metric\": 0.8562069}, {\"run_id\": \"AutoML_78f226cc-243e-49aa-8e99-1054944e70a5_8\", \"run_number\": 12, \"metric\": null, \"status\": \"Completed\", \"run_type\": \"azureml.scriptrun\", \"training_percent\": \"100\", \"start_time\": \"2021-02-12T17:29:05.598865Z\", \"end_time\": \"2021-02-12T17:29:47.388715Z\", \"created_time\": \"2021-02-12T17:28:55.747058Z\", \"created_time_dt\": \"2021-02-12T17:28:55.747058Z\", \"duration\": \"0:00:51\", \"iteration\": \"8\", \"goal\": \"accuracy_max\", \"run_name\": \"SparseNormalizer, XGBoostClassifier\", \"run_properties\": \"<azureml.automl.runtime.shared.model_wrappers.SparseNormalizer object at 0x7ff31038dd30\", \"primary_metric\": 0.83275862, \"best_metric\": 0.8562069}, {\"run_id\": \"AutoML_78f226cc-243e-49aa-8e99-1054944e70a5_7\", \"run_number\": 13, \"metric\": null, \"status\": \"Completed\", \"run_type\": \"azureml.scriptrun\", \"training_percent\": \"100\", \"start_time\": \"2021-02-12T17:29:07.432673Z\", \"end_time\": \"2021-02-12T17:29:52.152351Z\", \"created_time\": \"2021-02-12T17:28:55.744094Z\", \"created_time_dt\": \"2021-02-12T17:28:55.744094Z\", \"duration\": \"0:00:56\", \"iteration\": \"7\", \"goal\": \"accuracy_max\", \"run_name\": \"SparseNormalizer, XGBoostClassifier\", \"run_properties\": \"<azureml.automl.runtime.shared.model_wrappers.SparseNormalizer object at 0x7fc695d5f780\", \"primary_metric\": 0.82287356, \"best_metric\": 0.8562069}, {\"run_id\": \"AutoML_78f226cc-243e-49aa-8e99-1054944e70a5_9\", \"run_number\": 14, \"metric\": null, \"status\": \"Completed\", \"run_type\": \"azureml.scriptrun\", \"training_percent\": \"100\", \"start_time\": \"2021-02-12T17:29:19.521912Z\", \"end_time\": \"2021-02-12T17:30:24.607764Z\", \"created_time\": \"2021-02-12T17:29:06.847968Z\", \"created_time_dt\": \"2021-02-12T17:29:06.847968Z\", \"duration\": \"0:01:17\", \"iteration\": \"9\", \"goal\": \"accuracy_max\", \"run_name\": \"SparseNormalizer, XGBoostClassifier\", \"run_properties\": \"<azureml.automl.runtime.shared.model_wrappers.SparseNormalizer object at 0x7f3374b53668\", \"primary_metric\": 0.83931034, \"best_metric\": 0.8562069}, {\"run_id\": \"AutoML_78f226cc-243e-49aa-8e99-1054944e70a5_10\", \"run_number\": 15, \"metric\": null, \"status\": \"Completed\", \"run_type\": \"azureml.scriptrun\", \"training_percent\": \"100\", \"start_time\": \"2021-02-12T17:30:00.161861Z\", \"end_time\": \"2021-02-12T17:30:48.069973Z\", \"created_time\": \"2021-02-12T17:29:49.050152Z\", \"created_time_dt\": \"2021-02-12T17:29:49.050152Z\", \"duration\": \"0:00:59\", \"iteration\": \"10\", \"goal\": \"accuracy_max\", \"run_name\": \"StandardScalerWrapper, RandomForest\", \"run_properties\": \"<azureml.automl.runtime.shared.model_wrappers.StandardScalerWrapper object at 0x7fe3c55770b8\", \"primary_metric\": 0.84609195, \"best_metric\": 0.8562069}, {\"run_id\": \"AutoML_78f226cc-243e-49aa-8e99-1054944e70a5_11\", \"run_number\": 16, \"metric\": null, \"status\": \"Completed\", \"run_type\": \"azureml.scriptrun\", \"training_percent\": \"100\", \"start_time\": \"2021-02-12T17:29:59.971815Z\", \"end_time\": \"2021-02-12T17:30:47.440077Z\", \"created_time\": \"2021-02-12T17:29:49.067263Z\", \"created_time_dt\": \"2021-02-12T17:29:49.067263Z\", \"duration\": \"0:00:58\", \"iteration\": \"11\", \"goal\": \"accuracy_max\", \"run_name\": \"StandardScalerWrapper, LightGBM\", \"run_properties\": \"<azureml.automl.runtime.shared.model_wrappers.StandardScalerWrapper object at 0x7f19558e48d0\", \"primary_metric\": 0.83252874, \"best_metric\": 0.8562069}, {\"run_id\": \"AutoML_78f226cc-243e-49aa-8e99-1054944e70a5_12\", \"run_number\": 17, \"metric\": null, \"status\": \"Completed\", \"run_type\": \"azureml.scriptrun\", \"training_percent\": \"100\", \"start_time\": \"2021-02-12T17:30:03.887676Z\", \"end_time\": \"2021-02-12T17:30:48.666651Z\", \"created_time\": \"2021-02-12T17:29:53.735077Z\", \"created_time_dt\": \"2021-02-12T17:29:53.735077Z\", \"duration\": \"0:00:54\", \"iteration\": \"12\", \"goal\": \"accuracy_max\", \"run_name\": \"MinMaxScaler, LightGBM\", \"run_properties\": \"copy=True, feature_range=(0, 1\", \"primary_metric\": 0.8162069, \"best_metric\": 0.8562069}, {\"run_id\": \"AutoML_78f226cc-243e-49aa-8e99-1054944e70a5_13\", \"run_number\": 18, \"metric\": null, \"status\": \"Completed\", \"run_type\": \"azureml.scriptrun\", \"training_percent\": \"100\", \"start_time\": \"2021-02-12T17:30:07.411205Z\", \"end_time\": \"2021-02-12T17:30:55.329603Z\", \"created_time\": \"2021-02-12T17:29:56.546052Z\", \"created_time_dt\": \"2021-02-12T17:29:56.546052Z\", \"duration\": \"0:00:58\", \"iteration\": \"13\", \"goal\": \"accuracy_max\", \"run_name\": \"MaxAbsScaler, GradientBoosting\", \"run_properties\": \"copy=True\", \"primary_metric\": 0.84942529, \"best_metric\": 0.8562069}, {\"run_id\": \"AutoML_78f226cc-243e-49aa-8e99-1054944e70a5_14\", \"run_number\": 19, \"metric\": null, \"status\": \"Completed\", \"run_type\": \"azureml.scriptrun\", \"training_percent\": \"100\", \"start_time\": \"2021-02-12T17:30:39.62971Z\", \"end_time\": \"2021-02-12T17:31:28.650028Z\", \"created_time\": \"2021-02-12T17:30:26.6359Z\", \"created_time_dt\": \"2021-02-12T17:30:26.6359Z\", \"duration\": \"0:01:02\", \"iteration\": \"14\", \"goal\": \"accuracy_max\", \"run_name\": \"StandardScalerWrapper, LightGBM\", \"run_properties\": \"<azureml.automl.runtime.shared.model_wrappers.StandardScalerWrapper object at 0x7f6d913817f0\", \"primary_metric\": 0.84252874, \"best_metric\": 0.8562069}, {\"run_id\": \"AutoML_78f226cc-243e-49aa-8e99-1054944e70a5_15\", \"run_number\": 20, \"metric\": null, \"status\": \"Completed\", \"run_type\": \"azureml.scriptrun\", \"training_percent\": \"100\", \"start_time\": \"2021-02-12T17:31:01.31096Z\", \"end_time\": \"2021-02-12T17:31:49.378347Z\", \"created_time\": \"2021-02-12T17:30:49.650639Z\", \"created_time_dt\": \"2021-02-12T17:30:49.650639Z\", \"duration\": \"0:00:59\", \"iteration\": \"15\", \"goal\": \"accuracy_max\", \"run_name\": \"StandardScalerWrapper, LightGBM\", \"run_properties\": \"<azureml.automl.runtime.shared.model_wrappers.StandardScalerWrapper object at 0x7fef40e44f28\", \"primary_metric\": 0.82586207, \"best_metric\": 0.8562069}, {\"run_id\": \"AutoML_78f226cc-243e-49aa-8e99-1054944e70a5_16\", \"run_number\": 21, \"metric\": null, \"status\": \"Completed\", \"run_type\": \"azureml.scriptrun\", \"training_percent\": \"100\", \"start_time\": \"2021-02-12T17:31:05.056662Z\", \"end_time\": \"2021-02-12T17:31:53.963865Z\", \"created_time\": \"2021-02-12T17:30:52.934665Z\", \"created_time_dt\": \"2021-02-12T17:30:52.934665Z\", \"duration\": \"0:01:01\", \"iteration\": \"16\", \"goal\": \"accuracy_max\", \"run_name\": \"MinMaxScaler, LightGBM\", \"run_properties\": \"copy=True, feature_range=(0, 1\", \"primary_metric\": 0.83252874, \"best_metric\": 0.8562069}, {\"run_id\": \"AutoML_78f226cc-243e-49aa-8e99-1054944e70a5_17\", \"run_number\": 22, \"metric\": null, \"status\": \"Completed\", \"run_type\": \"azureml.scriptrun\", \"training_percent\": \"100\", \"start_time\": \"2021-02-12T17:31:05.491704Z\", \"end_time\": \"2021-02-12T17:31:54.232131Z\", \"created_time\": \"2021-02-12T17:30:53.327963Z\", \"created_time_dt\": \"2021-02-12T17:30:53.327963Z\", \"duration\": \"0:01:00\", \"iteration\": \"17\", \"goal\": \"accuracy_max\", \"run_name\": \"SparseNormalizer, XGBoostClassifier\", \"run_properties\": \"<azureml.automl.runtime.shared.model_wrappers.SparseNormalizer object at 0x7f84f7ff1080\", \"primary_metric\": 0.84954023, \"best_metric\": 0.8562069}, {\"run_id\": \"AutoML_78f226cc-243e-49aa-8e99-1054944e70a5_18\", \"run_number\": 23, \"metric\": null, \"status\": \"Completed\", \"run_type\": \"azureml.scriptrun\", \"training_percent\": \"100\", \"start_time\": \"2021-02-12T17:31:13.315427Z\", \"end_time\": \"2021-02-12T17:31:56.824432Z\", \"created_time\": \"2021-02-12T17:30:59.400044Z\", \"created_time_dt\": \"2021-02-12T17:30:59.400044Z\", \"duration\": \"0:00:57\", \"iteration\": \"18\", \"goal\": \"accuracy_max\", \"run_name\": \"MaxAbsScaler, LightGBM\", \"run_properties\": \"copy=True\", \"primary_metric\": 0.83931034, \"best_metric\": 0.8562069}, {\"run_id\": \"AutoML_78f226cc-243e-49aa-8e99-1054944e70a5_19\", \"run_number\": 24, \"metric\": null, \"status\": \"Completed\", \"run_type\": \"azureml.scriptrun\", \"training_percent\": \"100\", \"start_time\": \"2021-02-12T17:31:41.588671Z\", \"end_time\": \"2021-02-12T17:32:31.700544Z\", \"created_time\": \"2021-02-12T17:31:30.73534Z\", \"created_time_dt\": \"2021-02-12T17:31:30.73534Z\", \"duration\": \"0:01:00\", \"iteration\": \"19\", \"goal\": \"accuracy_max\", \"run_name\": \"SparseNormalizer, XGBoostClassifier\", \"run_properties\": \"<azureml.automl.runtime.shared.model_wrappers.SparseNormalizer object at 0x7f51c72e6978\", \"primary_metric\": 0.8362069, \"best_metric\": 0.8562069}, {\"run_id\": \"AutoML_78f226cc-243e-49aa-8e99-1054944e70a5_20\", \"run_number\": 25, \"metric\": null, \"status\": \"Completed\", \"run_type\": \"azureml.scriptrun\", \"training_percent\": \"100\", \"start_time\": \"2021-02-12T17:32:03.123135Z\", \"end_time\": \"2021-02-12T17:32:49.034517Z\", \"created_time\": \"2021-02-12T17:31:51.410896Z\", \"created_time_dt\": \"2021-02-12T17:31:51.410896Z\", \"duration\": \"0:00:57\", \"iteration\": \"20\", \"goal\": \"accuracy_max\", \"run_name\": \"TruncatedSVDWrapper, XGBoostClassifier\", \"run_properties\": \"n_components=0.6036842105263158, random_state=None\", \"primary_metric\": 0.78218391, \"best_metric\": 0.8562069}, {\"run_id\": \"AutoML_78f226cc-243e-49aa-8e99-1054944e70a5_21\", \"run_number\": 26, \"metric\": null, \"status\": \"Completed\", \"run_type\": \"azureml.scriptrun\", \"training_percent\": \"100\", \"start_time\": \"2021-02-12T17:32:07.845823Z\", \"end_time\": \"2021-02-12T17:32:52.880403Z\", \"created_time\": \"2021-02-12T17:31:56.109715Z\", \"created_time_dt\": \"2021-02-12T17:31:56.109715Z\", \"duration\": \"0:00:56\", \"iteration\": \"21\", \"goal\": \"accuracy_max\", \"run_name\": \"MinMaxScaler, LightGBM\", \"run_properties\": \"copy=True, feature_range=(0, 1\", \"primary_metric\": 0.82609195, \"best_metric\": 0.8562069}, {\"run_id\": \"AutoML_78f226cc-243e-49aa-8e99-1054944e70a5_22\", \"run_number\": 27, \"metric\": null, \"status\": \"Completed\", \"run_type\": \"azureml.scriptrun\", \"training_percent\": \"100\", \"start_time\": \"2021-02-12T17:32:08.503895Z\", \"end_time\": \"2021-02-12T17:32:55.395454Z\", \"created_time\": \"2021-02-12T17:31:56.120419Z\", \"created_time_dt\": \"2021-02-12T17:31:56.120419Z\", \"duration\": \"0:00:59\", \"iteration\": \"22\", \"goal\": \"accuracy_max\", \"run_name\": \"StandardScalerWrapper, RandomForest\", \"run_properties\": \"<azureml.automl.runtime.shared.model_wrappers.StandardScalerWrapper object at 0x7f23d9e4dfd0\", \"primary_metric\": 0.83597701, \"best_metric\": 0.8562069}, {\"run_id\": \"AutoML_78f226cc-243e-49aa-8e99-1054944e70a5_23\", \"run_number\": 28, \"metric\": null, \"status\": \"Completed\", \"run_type\": \"azureml.scriptrun\", \"training_percent\": \"100\", \"start_time\": \"2021-02-12T17:32:13.234639Z\", \"end_time\": \"2021-02-12T17:33:02.639886Z\", \"created_time\": \"2021-02-12T17:31:59.850168Z\", \"created_time_dt\": \"2021-02-12T17:31:59.850168Z\", \"duration\": \"0:01:02\", \"iteration\": \"23\", \"goal\": \"accuracy_max\", \"run_name\": \"MinMaxScaler, LightGBM\", \"run_properties\": \"copy=True, feature_range=(0, 1\", \"primary_metric\": 0.84252874, \"best_metric\": 0.8562069}, {\"run_id\": \"AutoML_78f226cc-243e-49aa-8e99-1054944e70a5_24\", \"run_number\": 29, \"metric\": null, \"status\": \"Completed\", \"run_type\": \"azureml.scriptrun\", \"training_percent\": \"100\", \"start_time\": \"2021-02-12T17:32:48.915648Z\", \"end_time\": \"2021-02-12T17:33:37.959798Z\", \"created_time\": \"2021-02-12T17:32:33.704877Z\", \"created_time_dt\": \"2021-02-12T17:32:33.704877Z\", \"duration\": \"0:01:04\", \"iteration\": \"24\", \"goal\": \"accuracy_max\", \"run_name\": \"RobustScaler, RandomForest\", \"run_properties\": \"copy=True, quantile_range=[10, 90], with_centering=True,\\n             with_scaling=True\", \"primary_metric\": 0.8391954, \"best_metric\": 0.8562069}, {\"run_id\": \"AutoML_78f226cc-243e-49aa-8e99-1054944e70a5_25\", \"run_number\": 30, \"metric\": null, \"status\": \"Completed\", \"run_type\": \"azureml.scriptrun\", \"training_percent\": \"100\", \"start_time\": \"2021-02-12T17:33:05.091995Z\", \"end_time\": \"2021-02-12T17:33:57.133767Z\", \"created_time\": \"2021-02-12T17:32:52.639731Z\", \"created_time_dt\": \"2021-02-12T17:32:52.639731Z\", \"duration\": \"0:01:04\", \"iteration\": \"25\", \"goal\": \"accuracy_max\", \"run_name\": \"MinMaxScaler, RandomForest\", \"run_properties\": \"copy=True, feature_range=(0, 1\", \"primary_metric\": 0.81896552, \"best_metric\": 0.8562069}, {\"run_id\": \"AutoML_78f226cc-243e-49aa-8e99-1054944e70a5_26\", \"run_number\": 31, \"metric\": null, \"status\": \"Completed\", \"run_type\": \"azureml.scriptrun\", \"training_percent\": \"100\", \"start_time\": \"2021-02-12T17:33:10.099744Z\", \"end_time\": \"2021-02-12T17:33:55.928616Z\", \"created_time\": \"2021-02-12T17:32:56.62231Z\", \"created_time_dt\": \"2021-02-12T17:32:56.62231Z\", \"duration\": \"0:00:59\", \"iteration\": \"26\", \"goal\": \"accuracy_max\", \"run_name\": \"MaxAbsScaler, LightGBM\", \"run_properties\": \"copy=True\", \"primary_metric\": 0.82931034, \"best_metric\": 0.8562069}, {\"run_id\": \"AutoML_78f226cc-243e-49aa-8e99-1054944e70a5_27\", \"run_number\": 32, \"metric\": null, \"status\": \"Completed\", \"run_type\": \"azureml.scriptrun\", \"training_percent\": \"100\", \"start_time\": \"2021-02-12T17:33:11.985821Z\", \"end_time\": \"2021-02-12T17:33:54.491226Z\", \"created_time\": \"2021-02-12T17:33:00.893677Z\", \"created_time_dt\": \"2021-02-12T17:33:00.893677Z\", \"duration\": \"0:00:53\", \"iteration\": \"27\", \"goal\": \"accuracy_max\", \"run_name\": \"SparseNormalizer, LightGBM\", \"run_properties\": \"<azureml.automl.runtime.shared.model_wrappers.SparseNormalizer object at 0x7f63475fe3c8\", \"primary_metric\": 0.84287356, \"best_metric\": 0.8562069}, {\"run_id\": \"AutoML_78f226cc-243e-49aa-8e99-1054944e70a5_28\", \"run_number\": 33, \"metric\": null, \"status\": \"Completed\", \"run_type\": \"azureml.scriptrun\", \"training_percent\": \"100\", \"start_time\": \"2021-02-12T17:33:14.874474Z\", \"end_time\": \"2021-02-12T17:34:12.245575Z\", \"created_time\": \"2021-02-12T17:33:04.710106Z\", \"created_time_dt\": \"2021-02-12T17:33:04.710106Z\", \"duration\": \"0:01:07\", \"iteration\": \"28\", \"goal\": \"accuracy_max\", \"run_name\": \"StandardScalerWrapper, ExtremeRandomTrees\", \"run_properties\": \"<azureml.automl.runtime.shared.model_wrappers.StandardScalerWrapper object at 0x7f9bea563fd0\", \"primary_metric\": 0.83241379, \"best_metric\": 0.8562069}, {\"run_id\": \"AutoML_78f226cc-243e-49aa-8e99-1054944e70a5_29\", \"run_number\": 34, \"metric\": null, \"status\": \"Completed\", \"run_type\": \"azureml.scriptrun\", \"training_percent\": \"100\", \"start_time\": \"2021-02-12T17:33:52.400746Z\", \"end_time\": \"2021-02-12T17:34:53.474318Z\", \"created_time\": \"2021-02-12T17:33:39.893585Z\", \"created_time_dt\": \"2021-02-12T17:33:39.893585Z\", \"duration\": \"0:01:13\", \"iteration\": \"29\", \"goal\": \"accuracy_max\", \"run_name\": \"SparseNormalizer, ExtremeRandomTrees\", \"run_properties\": \"<azureml.automl.runtime.shared.model_wrappers.SparseNormalizer object at 0x7ff7124cc550\", \"primary_metric\": 0.78908046, \"best_metric\": 0.8562069}, {\"run_id\": \"AutoML_78f226cc-243e-49aa-8e99-1054944e70a5_30\", \"run_number\": 35, \"metric\": null, \"status\": \"Completed\", \"run_type\": \"azureml.scriptrun\", \"training_percent\": \"100\", \"start_time\": \"2021-02-12T17:34:13.443279Z\", \"end_time\": \"2021-02-12T17:35:05.596143Z\", \"created_time\": \"2021-02-12T17:33:59.656079Z\", \"created_time_dt\": \"2021-02-12T17:33:59.656079Z\", \"duration\": \"0:01:05\", \"iteration\": \"30\", \"goal\": \"accuracy_max\", \"run_name\": \"StandardScalerWrapper, RandomForest\", \"run_properties\": \"<azureml.automl.runtime.shared.model_wrappers.StandardScalerWrapper object at 0x7f4f21cdb2b0\", \"primary_metric\": 0.6791954, \"best_metric\": 0.8562069}, {\"run_id\": \"AutoML_78f226cc-243e-49aa-8e99-1054944e70a5_31\", \"run_number\": 36, \"metric\": null, \"status\": \"Completed\", \"run_type\": \"azureml.scriptrun\", \"training_percent\": \"100\", \"start_time\": \"2021-02-12T17:34:16.92085Z\", \"end_time\": \"2021-02-12T17:35:11.301845Z\", \"created_time\": \"2021-02-12T17:34:04.902314Z\", \"created_time_dt\": \"2021-02-12T17:34:04.902314Z\", \"duration\": \"0:01:06\", \"iteration\": \"31\", \"goal\": \"accuracy_max\", \"run_name\": \"RobustScaler, LightGBM\", \"run_properties\": \"copy=True, quantile_range=[25, 75], with_centering=True,\\n             with_scaling=False\", \"primary_metric\": 0.82942529, \"best_metric\": 0.8562069}, {\"run_id\": \"AutoML_78f226cc-243e-49aa-8e99-1054944e70a5_32\", \"run_number\": 37, \"metric\": null, \"status\": \"Completed\", \"run_type\": \"azureml.scriptrun\", \"training_percent\": \"100\", \"start_time\": \"2021-02-12T17:34:18.57578Z\", \"end_time\": \"2021-02-12T17:35:05.206262Z\", \"created_time\": \"2021-02-12T17:34:04.910225Z\", \"created_time_dt\": \"2021-02-12T17:34:04.910225Z\", \"duration\": \"0:01:00\", \"iteration\": \"32\", \"goal\": \"accuracy_max\", \"run_name\": \"StandardScalerWrapper, XGBoostClassifier\", \"run_properties\": \"<azureml.automl.runtime.shared.model_wrappers.StandardScalerWrapper object at 0x7f188fb287b8\", \"primary_metric\": 0.81954023, \"best_metric\": 0.8562069}, {\"run_id\": \"AutoML_78f226cc-243e-49aa-8e99-1054944e70a5_33\", \"run_number\": 38, \"metric\": null, \"status\": \"Completed\", \"run_type\": \"azureml.scriptrun\", \"training_percent\": \"100\", \"start_time\": \"2021-02-12T17:34:25.618972Z\", \"end_time\": \"2021-02-12T17:35:38.379933Z\", \"created_time\": \"2021-02-12T17:34:15.382668Z\", \"created_time_dt\": \"2021-02-12T17:34:15.382668Z\", \"duration\": \"0:01:22\", \"iteration\": \"33\", \"goal\": \"accuracy_max\", \"run_name\": \"StandardScalerWrapper, LightGBM\", \"run_properties\": \"<azureml.automl.runtime.shared.model_wrappers.StandardScalerWrapper object at 0x7f633dd43828\", \"primary_metric\": 0.82586207, \"best_metric\": 0.8562069}, {\"run_id\": \"AutoML_78f226cc-243e-49aa-8e99-1054944e70a5_34\", \"run_number\": 39, \"metric\": null, \"status\": \"Canceled\", \"run_type\": \"azureml.scriptrun\", \"training_percent\": \"100\", \"start_time\": \"2021-02-12T17:35:08.711838Z\", \"end_time\": \"2021-02-12T17:35:45.999719Z\", \"created_time\": \"2021-02-12T17:34:55.614779Z\", \"created_time_dt\": \"2021-02-12T17:34:55.614779Z\", \"duration\": \"0:00:50\", \"iteration\": \"34\", \"goal\": \"accuracy_max\", \"run_name\": \"StandardScalerWrapper, XGBoostClassifier\", \"run_properties\": \"<azureml.automl.runtime.shared.model_wrappers.StandardScalerWrapper object at 0x7f5cb1a34eb8\", \"primary_metric\": 0.83931034, \"best_metric\": 0.8562069}, {\"run_id\": \"AutoML_78f226cc-243e-49aa-8e99-1054944e70a5_35\", \"run_number\": 40, \"metric\": null, \"status\": \"Canceled\", \"run_type\": \"azureml.scriptrun\", \"training_percent\": \"100\", \"start_time\": \"2021-02-12T17:35:18.624933Z\", \"end_time\": \"2021-02-12T17:35:45.497374Z\", \"created_time\": \"2021-02-12T17:35:07.814952Z\", \"created_time_dt\": \"2021-02-12T17:35:07.814952Z\", \"duration\": \"0:00:37\", \"iteration\": \"35\", \"goal\": null, \"run_name\": \"MinMaxScaler, RandomForest\", \"run_properties\": null, \"primary_metric\": 0.71241379, \"best_metric\": 0.8562069}, {\"run_id\": \"AutoML_78f226cc-243e-49aa-8e99-1054944e70a5_36\", \"run_number\": 41, \"metric\": null, \"status\": \"Canceled\", \"run_type\": \"azureml.scriptrun\", \"training_percent\": \"100\", \"start_time\": \"2021-02-12T17:35:22.885504Z\", \"end_time\": \"2021-02-12T17:35:45.334095Z\", \"created_time\": \"2021-02-12T17:35:10.704712Z\", \"created_time_dt\": \"2021-02-12T17:35:10.704712Z\", \"duration\": \"0:00:34\", \"iteration\": \"36\", \"goal\": null, \"run_name\": \"SparseNormalizer, XGBoostClassifier\", \"run_properties\": null}, {\"run_id\": \"AutoML_78f226cc-243e-49aa-8e99-1054944e70a5_37\", \"run_number\": 42, \"metric\": null, \"status\": \"Canceled\", \"run_type\": \"azureml.scriptrun\", \"training_percent\": \"100\", \"start_time\": \"2021-02-12T17:35:24.583911Z\", \"end_time\": \"2021-02-12T17:35:45.871414Z\", \"created_time\": \"2021-02-12T17:35:14.35289Z\", \"created_time_dt\": \"2021-02-12T17:35:14.35289Z\", \"duration\": \"0:00:31\", \"iteration\": \"37\", \"goal\": null, \"run_name\": \"MinMaxScaler, LightGBM\", \"run_properties\": null}, {\"run_id\": \"AutoML_78f226cc-243e-49aa-8e99-1054944e70a5_38\", \"run_number\": 43, \"metric\": null, \"status\": \"Completed\", \"run_type\": \"azureml.scriptrun\", \"training_percent\": \"100\", \"start_time\": \"2021-02-12T17:36:00.958324Z\", \"end_time\": \"2021-02-12T17:37:49.33416Z\", \"created_time\": \"2021-02-12T17:35:48.205976Z\", \"created_time_dt\": \"2021-02-12T17:35:48.205976Z\", \"duration\": \"0:02:01\", \"iteration\": \"38\", \"goal\": \"accuracy_max\", \"run_name\": \"VotingEnsemble\", \"run_properties\": \"classification_labels=None,\\n                              estimators=[('2',\\n                                           Pipeline(memory=None,\\n                                                    steps=[('minmaxscaler',\\n                                                            MinMaxScaler(copy=True,\\n                                                                         feature_range=(0,\\n                                                                                        1\", \"primary_metric\": 0.87298851, \"best_metric\": 0.87298851}, {\"run_id\": \"AutoML_78f226cc-243e-49aa-8e99-1054944e70a5_39\", \"run_number\": 44, \"metric\": null, \"status\": \"Completed\", \"run_type\": \"azureml.scriptrun\", \"training_percent\": \"100\", \"start_time\": \"2021-02-12T17:36:00.760082Z\", \"end_time\": \"2021-02-12T17:37:56.437563Z\", \"created_time\": \"2021-02-12T17:35:48.232542Z\", \"created_time_dt\": \"2021-02-12T17:35:48.232542Z\", \"duration\": \"0:02:08\", \"iteration\": \"39\", \"goal\": \"accuracy_max\", \"run_name\": \"StackEnsemble\", \"run_properties\": \"base_learners=[('2',\\n                                        Pipeline(memory=None,\\n                                                 steps=[('minmaxscaler',\\n                                                         MinMaxScaler(copy=True,\\n                                                                      feature_range=(0,\\n                                                                                     1\", \"primary_metric\": 0.85965517, \"best_metric\": 0.87298851}], \"children_metrics\": {\"categories\": [0], \"series\": {\"accuracy\": [{\"categories\": [\"0\", \"1\", \"2\", \"3\", \"4\", \"5\", \"6\", \"7\", \"8\", \"9\", \"10\", \"11\", \"12\", \"13\", \"14\", \"15\", \"16\", \"17\", \"18\", \"19\", \"20\", \"21\", \"22\", \"23\", \"24\", \"25\", \"26\", \"27\", \"28\", \"29\", \"30\", \"31\", \"32\", \"33\", \"34\", \"35\", \"38\", \"39\"], \"mode\": \"markers\", \"name\": \"accuracy\", \"stepped\": false, \"type\": \"scatter\", \"data\": [0.8359770114942527, 0.8358620689655172, 0.8562068965517241, 0.8293103448275861, 0.8157471264367816, 0.8058620689655172, 0.7191954022988506, 0.8228735632183908, 0.8327586206896551, 0.8393103448275863, 0.8460919540229886, 0.8325287356321839, 0.8162068965517243, 0.8494252873563217, 0.8425287356321839, 0.8258620689655173, 0.8325287356321839, 0.8495402298850575, 0.8393103448275863, 0.8362068965517242, 0.782183908045977, 0.8260919540229885, 0.8359770114942527, 0.8425287356321839, 0.8391954022988506, 0.8189655172413793, 0.8293103448275861, 0.8428735632183908, 0.8324137931034483, 0.7890804597701151, 0.6791954022988507, 0.8294252873563218, 0.8195402298850574, 0.8258620689655173, 0.8393103448275863, 0.7124137931034482, 0.8729885057471265, 0.8596551724137932]}, {\"categories\": [\"0\", \"1\", \"2\", \"3\", \"4\", \"5\", \"6\", \"7\", \"8\", \"9\", \"10\", \"11\", \"12\", \"13\", \"14\", \"15\", \"16\", \"17\", \"18\", \"19\", \"20\", \"21\", \"22\", \"23\", \"24\", \"25\", \"26\", \"27\", \"28\", \"29\", \"30\", \"31\", \"32\", \"33\", \"34\", \"35\", \"38\", \"39\"], \"mode\": \"lines\", \"name\": \"accuracy_max\", \"stepped\": true, \"type\": \"scatter\", \"data\": [0.8359770114942527, 0.8359770114942527, 0.8562068965517241, 0.8562068965517241, 0.8562068965517241, 0.8562068965517241, 0.8562068965517241, 0.8562068965517241, 0.8562068965517241, 0.8562068965517241, 0.8562068965517241, 0.8562068965517241, 0.8562068965517241, 0.8562068965517241, 0.8562068965517241, 0.8562068965517241, 0.8562068965517241, 0.8562068965517241, 0.8562068965517241, 0.8562068965517241, 0.8562068965517241, 0.8562068965517241, 0.8562068965517241, 0.8562068965517241, 0.8562068965517241, 0.8562068965517241, 0.8562068965517241, 0.8562068965517241, 0.8562068965517241, 0.8562068965517241, 0.8562068965517241, 0.8562068965517241, 0.8562068965517241, 0.8562068965517241, 0.8562068965517241, 0.8562068965517241, 0.8729885057471265, 0.8729885057471265]}], \"recall_score_weighted\": [{\"categories\": [\"0\", \"1\", \"2\", \"3\", \"4\", \"5\", \"6\", \"7\", \"8\", \"9\", \"10\", \"11\", \"12\", \"13\", \"14\", \"15\", \"16\", \"17\", \"18\", \"19\", \"20\", \"21\", \"22\", \"23\", \"24\", \"25\", \"26\", \"27\", \"28\", \"29\", \"30\", \"31\", \"32\", \"33\", \"34\", \"35\", \"38\", \"39\"], \"mode\": \"markers\", \"name\": \"recall_score_weighted\", \"stepped\": false, \"type\": \"scatter\", \"data\": [0.8359770114942527, 0.8358620689655172, 0.8562068965517241, 0.8293103448275861, 0.8157471264367816, 0.8058620689655172, 0.7191954022988506, 0.8228735632183908, 0.8327586206896551, 0.8393103448275863, 0.8460919540229886, 0.8325287356321839, 0.8162068965517243, 0.8494252873563217, 0.8425287356321839, 0.8258620689655173, 0.8325287356321839, 0.8495402298850575, 0.8393103448275863, 0.8362068965517242, 0.782183908045977, 0.8260919540229885, 0.8359770114942527, 0.8425287356321839, 0.8391954022988506, 0.8189655172413793, 0.8293103448275861, 0.8428735632183908, 0.8324137931034483, 0.7890804597701151, 0.6791954022988507, 0.8294252873563218, 0.8195402298850574, 0.8258620689655173, 0.8393103448275863, 0.7124137931034482, 0.8729885057471265, 0.8596551724137932]}, {\"categories\": [\"0\", \"1\", \"2\", \"3\", \"4\", \"5\", \"6\", \"7\", \"8\", \"9\", \"10\", \"11\", \"12\", \"13\", \"14\", \"15\", \"16\", \"17\", \"18\", \"19\", \"20\", \"21\", \"22\", \"23\", \"24\", \"25\", \"26\", \"27\", \"28\", \"29\", \"30\", \"31\", \"32\", \"33\", \"34\", \"35\", \"38\", \"39\"], \"mode\": \"lines\", \"name\": \"recall_score_weighted_max\", \"stepped\": true, \"type\": \"scatter\", \"data\": [0.8359770114942527, 0.8359770114942527, 0.8562068965517241, 0.8562068965517241, 0.8562068965517241, 0.8562068965517241, 0.8562068965517241, 0.8562068965517241, 0.8562068965517241, 0.8562068965517241, 0.8562068965517241, 0.8562068965517241, 0.8562068965517241, 0.8562068965517241, 0.8562068965517241, 0.8562068965517241, 0.8562068965517241, 0.8562068965517241, 0.8562068965517241, 0.8562068965517241, 0.8562068965517241, 0.8562068965517241, 0.8562068965517241, 0.8562068965517241, 0.8562068965517241, 0.8562068965517241, 0.8562068965517241, 0.8562068965517241, 0.8562068965517241, 0.8562068965517241, 0.8562068965517241, 0.8562068965517241, 0.8562068965517241, 0.8562068965517241, 0.8562068965517241, 0.8562068965517241, 0.8729885057471265, 0.8729885057471265]}], \"precision_score_macro\": [{\"categories\": [\"0\", \"1\", \"2\", \"3\", \"4\", \"5\", \"6\", \"7\", \"8\", \"9\", \"10\", \"11\", \"12\", \"13\", \"14\", \"15\", \"16\", \"17\", \"18\", \"19\", \"20\", \"21\", \"22\", \"23\", \"24\", \"25\", \"26\", \"27\", \"28\", \"29\", \"30\", \"31\", \"32\", \"33\", \"34\", \"35\", \"38\", \"39\"], \"mode\": \"markers\", \"name\": \"precision_score_macro\", \"stepped\": false, \"type\": \"scatter\", \"data\": [0.8167365852764965, 0.8232986049897815, 0.8416623925591317, 0.8139207760838195, 0.7893829394719487, 0.8058505123150432, 0.7064937558693181, 0.8098152219970096, 0.8294928031541303, 0.8346361199822299, 0.8434212130580419, 0.8256218986962693, 0.8510579163187859, 0.8407085999749043, 0.8348069985569986, 0.8306639479682959, 0.824909420289855, 0.8451538107313784, 0.8366777806592385, 0.8208112856094415, 0.7518589655958077, 0.8466691396365309, 0.8172483250286454, 0.820811314502491, 0.8193316583619786, 0.7969315095379337, 0.8206159767006449, 0.8381498648410414, 0.8120121676886551, 0.7624426101485599, 0.33959770114942534, 0.8128261897238881, 0.8349356593487027, 0.83311486271141, 0.82479852876592, 0.535060606060606, 0.8856083884333312, 0.8732620585935802]}, {\"categories\": [\"0\", \"1\", \"2\", \"3\", \"4\", \"5\", \"6\", \"7\", \"8\", \"9\", \"10\", \"11\", \"12\", \"13\", \"14\", \"15\", \"16\", \"17\", \"18\", \"19\", \"20\", \"21\", \"22\", \"23\", \"24\", \"25\", \"26\", \"27\", \"28\", \"29\", \"30\", \"31\", \"32\", \"33\", \"34\", \"35\", \"38\", \"39\"], \"mode\": \"lines\", \"name\": \"precision_score_macro_max\", \"stepped\": true, \"type\": \"scatter\", \"data\": [0.8167365852764965, 0.8232986049897815, 0.8416623925591317, 0.8416623925591317, 0.8416623925591317, 0.8416623925591317, 0.8416623925591317, 0.8416623925591317, 0.8416623925591317, 0.8416623925591317, 0.8434212130580419, 0.8434212130580419, 0.8510579163187859, 0.8510579163187859, 0.8510579163187859, 0.8510579163187859, 0.8510579163187859, 0.8510579163187859, 0.8510579163187859, 0.8510579163187859, 0.8510579163187859, 0.8510579163187859, 0.8510579163187859, 0.8510579163187859, 0.8510579163187859, 0.8510579163187859, 0.8510579163187859, 0.8510579163187859, 0.8510579163187859, 0.8510579163187859, 0.8510579163187859, 0.8510579163187859, 0.8510579163187859, 0.8510579163187859, 0.8510579163187859, 0.8510579163187859, 0.8856083884333312, 0.8856083884333312]}], \"average_precision_score_micro\": [{\"categories\": [\"0\", \"1\", \"2\", \"3\", \"4\", \"5\", \"6\", \"7\", \"8\", \"9\", \"10\", \"11\", \"12\", \"13\", \"14\", \"15\", \"16\", \"17\", \"18\", \"19\", \"20\", \"21\", \"22\", \"23\", \"24\", \"25\", \"26\", \"27\", \"28\", \"29\", \"30\", \"31\", \"32\", \"33\", \"34\", \"35\", \"38\", \"39\"], \"mode\": \"markers\", \"name\": \"average_precision_score_micro\", \"stepped\": false, \"type\": \"scatter\", \"data\": [0.9020054536251629, 0.9033793522124445, 0.9129023876376982, 0.9068597621699764, 0.8991592223880875, 0.8886704555795628, 0.7808993354003306, 0.895111815566743, 0.9076713764950277, 0.9080346510055284, 0.9158720898342991, 0.9153552510550519, 0.8958112764082692, 0.9206077372334975, 0.9136348515728081, 0.9115238323257916, 0.90363316833069, 0.9015291478498986, 0.9100085270296232, 0.8969673089031585, 0.8781634456814766, 0.9045880262347422, 0.9206278492405261, 0.9140810408453633, 0.9073641703849766, 0.88516564496118, 0.8905441744626564, 0.908063588959051, 0.903985667048808, 0.8579917190226947, 0.7844565510772465, 0.9138922263431747, 0.9019715624413595, 0.8993099726576814, 0.8950673049215215, 0.8596841643275365, 0.9221170540949295, 0.9256299995428947]}, {\"categories\": [\"0\", \"1\", \"2\", \"3\", \"4\", \"5\", \"6\", \"7\", \"8\", \"9\", \"10\", \"11\", \"12\", \"13\", \"14\", \"15\", \"16\", \"17\", \"18\", \"19\", \"20\", \"21\", \"22\", \"23\", \"24\", \"25\", \"26\", \"27\", \"28\", \"29\", \"30\", \"31\", \"32\", \"33\", \"34\", \"35\", \"38\", \"39\"], \"mode\": \"lines\", \"name\": \"average_precision_score_micro_max\", \"stepped\": true, \"type\": \"scatter\", \"data\": [0.9020054536251629, 0.9033793522124445, 0.9129023876376982, 0.9129023876376982, 0.9129023876376982, 0.9129023876376982, 0.9129023876376982, 0.9129023876376982, 0.9129023876376982, 0.9129023876376982, 0.9158720898342991, 0.9158720898342991, 0.9158720898342991, 0.9206077372334975, 0.9206077372334975, 0.9206077372334975, 0.9206077372334975, 0.9206077372334975, 0.9206077372334975, 0.9206077372334975, 0.9206077372334975, 0.9206077372334975, 0.9206278492405261, 0.9206278492405261, 0.9206278492405261, 0.9206278492405261, 0.9206278492405261, 0.9206278492405261, 0.9206278492405261, 0.9206278492405261, 0.9206278492405261, 0.9206278492405261, 0.9206278492405261, 0.9206278492405261, 0.9206278492405261, 0.9206278492405261, 0.9221170540949295, 0.9256299995428947]}], \"precision_score_micro\": [{\"categories\": [\"0\", \"1\", \"2\", \"3\", \"4\", \"5\", \"6\", \"7\", \"8\", \"9\", \"10\", \"11\", \"12\", \"13\", \"14\", \"15\", \"16\", \"17\", \"18\", \"19\", \"20\", \"21\", \"22\", \"23\", \"24\", \"25\", \"26\", \"27\", \"28\", \"29\", \"30\", \"31\", \"32\", \"33\", \"34\", \"35\", \"38\", \"39\"], \"mode\": \"markers\", \"name\": \"precision_score_micro\", \"stepped\": false, \"type\": \"scatter\", \"data\": [0.8359770114942527, 0.8358620689655172, 0.8562068965517241, 0.8293103448275861, 0.8157471264367816, 0.8058620689655172, 0.7191954022988506, 0.8228735632183908, 0.8327586206896551, 0.8393103448275863, 0.8460919540229886, 0.8325287356321839, 0.8162068965517243, 0.8494252873563217, 0.8425287356321839, 0.8258620689655173, 0.8325287356321839, 0.8495402298850575, 0.8393103448275863, 0.8362068965517242, 0.782183908045977, 0.8260919540229885, 0.8359770114942527, 0.8425287356321839, 0.8391954022988506, 0.8189655172413793, 0.8293103448275861, 0.8428735632183908, 0.8324137931034483, 0.7890804597701151, 0.6791954022988507, 0.8294252873563218, 0.8195402298850574, 0.8258620689655173, 0.8393103448275863, 0.7124137931034482, 0.8729885057471265, 0.8596551724137932]}, {\"categories\": [\"0\", \"1\", \"2\", \"3\", \"4\", \"5\", \"6\", \"7\", \"8\", \"9\", \"10\", \"11\", \"12\", \"13\", \"14\", \"15\", \"16\", \"17\", \"18\", \"19\", \"20\", \"21\", \"22\", \"23\", \"24\", \"25\", \"26\", \"27\", \"28\", \"29\", \"30\", \"31\", \"32\", \"33\", \"34\", \"35\", \"38\", \"39\"], \"mode\": \"lines\", \"name\": \"precision_score_micro_max\", \"stepped\": true, \"type\": \"scatter\", \"data\": [0.8359770114942527, 0.8359770114942527, 0.8562068965517241, 0.8562068965517241, 0.8562068965517241, 0.8562068965517241, 0.8562068965517241, 0.8562068965517241, 0.8562068965517241, 0.8562068965517241, 0.8562068965517241, 0.8562068965517241, 0.8562068965517241, 0.8562068965517241, 0.8562068965517241, 0.8562068965517241, 0.8562068965517241, 0.8562068965517241, 0.8562068965517241, 0.8562068965517241, 0.8562068965517241, 0.8562068965517241, 0.8562068965517241, 0.8562068965517241, 0.8562068965517241, 0.8562068965517241, 0.8562068965517241, 0.8562068965517241, 0.8562068965517241, 0.8562068965517241, 0.8562068965517241, 0.8562068965517241, 0.8562068965517241, 0.8562068965517241, 0.8562068965517241, 0.8562068965517241, 0.8729885057471265, 0.8729885057471265]}], \"norm_macro_recall\": [{\"categories\": [\"0\", \"1\", \"2\", \"3\", \"4\", \"5\", \"6\", \"7\", \"8\", \"9\", \"10\", \"11\", \"12\", \"13\", \"14\", \"15\", \"16\", \"17\", \"18\", \"19\", \"20\", \"21\", \"22\", \"23\", \"24\", \"25\", \"26\", \"27\", \"28\", \"29\", \"30\", \"31\", \"32\", \"33\", \"34\", \"35\", \"38\", \"39\"], \"mode\": \"markers\", \"name\": \"norm_macro_recall\", \"stepped\": false, \"type\": \"scatter\", \"data\": [0.6154165791620023, 0.626049804187676, 0.6481191309961333, 0.5701822812961256, 0.622353341357346, 0.5198297654544793, 0.29169973022146933, 0.5700270959018099, 0.5836336881399811, 0.6038275819654537, 0.6140917139687162, 0.5771091381285889, 0.48830689206547334, 0.6408629355008073, 0.6239475409538338, 0.5545767333353145, 0.5764207810369137, 0.6212777984156702, 0.598403933912515, 0.6190142797705727, 0.48954212193857494, 0.5201972239558051, 0.6110377912832146, 0.6396041066103995, 0.6263328223391152, 0.6404044597660158, 0.5739475409538338, 0.6107025914588843, 0.6323691326471648, 0.5683022419355371, 0.0, 0.6015088685151614, 0.5207736402930911, 0.559558885685888, 0.6119178322948345, 0.14924085576259488, 0.6760467910553724, 0.6485614109384132]}, {\"categories\": [\"0\", \"1\", \"2\", \"3\", \"4\", \"5\", \"6\", \"7\", \"8\", \"9\", \"10\", \"11\", \"12\", \"13\", \"14\", \"15\", \"16\", \"17\", \"18\", \"19\", \"20\", \"21\", \"22\", \"23\", \"24\", \"25\", \"26\", \"27\", \"28\", \"29\", \"30\", \"31\", \"32\", \"33\", \"34\", \"35\", \"38\", \"39\"], \"mode\": \"lines\", \"name\": \"norm_macro_recall_max\", \"stepped\": true, \"type\": \"scatter\", \"data\": [0.6154165791620023, 0.626049804187676, 0.6481191309961333, 0.6481191309961333, 0.6481191309961333, 0.6481191309961333, 0.6481191309961333, 0.6481191309961333, 0.6481191309961333, 0.6481191309961333, 0.6481191309961333, 0.6481191309961333, 0.6481191309961333, 0.6481191309961333, 0.6481191309961333, 0.6481191309961333, 0.6481191309961333, 0.6481191309961333, 0.6481191309961333, 0.6481191309961333, 0.6481191309961333, 0.6481191309961333, 0.6481191309961333, 0.6481191309961333, 0.6481191309961333, 0.6481191309961333, 0.6481191309961333, 0.6481191309961333, 0.6481191309961333, 0.6481191309961333, 0.6481191309961333, 0.6481191309961333, 0.6481191309961333, 0.6481191309961333, 0.6481191309961333, 0.6481191309961333, 0.6760467910553724, 0.6760467910553724]}], \"weighted_accuracy\": [{\"categories\": [\"0\", \"1\", \"2\", \"3\", \"4\", \"5\", \"6\", \"7\", \"8\", \"9\", \"10\", \"11\", \"12\", \"13\", \"14\", \"15\", \"16\", \"17\", \"18\", \"19\", \"20\", \"21\", \"22\", \"23\", \"24\", \"25\", \"26\", \"27\", \"28\", \"29\", \"30\", \"31\", \"32\", \"33\", \"34\", \"35\", \"38\", \"39\"], \"mode\": \"markers\", \"name\": \"weighted_accuracy\", \"stepped\": false, \"type\": \"scatter\", \"data\": [0.8541321922200625, 0.8502962163535492, 0.8759899024783753, 0.8562779913678593, 0.8181194207550652, 0.8372855236312118, 0.7753373974588196, 0.8459653173983817, 0.8595287859119706, 0.8640079405944784, 0.8704532968400333, 0.8601908221055835, 0.8632868083242563, 0.8678629334826151, 0.8627033459458465, 0.8565084003744683, 0.8626350288831249, 0.8734514076072569, 0.8669339017794584, 0.8535480316158818, 0.8046623905773391, 0.8683139582924287, 0.856198472557314, 0.8568207677613288, 0.8566634517531406, 0.8157276936076935, 0.8572318293313085, 0.865591445732413, 0.8434588004220241, 0.7919080898004455, 0.7931711479234276, 0.8479314423842336, 0.8569762141082642, 0.8542102965403224, 0.8613171490646818, 0.8016583347979948, 0.8951217481694604, 0.8817633938324254]}, {\"categories\": [\"0\", \"1\", \"2\", \"3\", \"4\", \"5\", \"6\", \"7\", \"8\", \"9\", \"10\", \"11\", \"12\", \"13\", \"14\", \"15\", \"16\", \"17\", \"18\", \"19\", \"20\", \"21\", \"22\", \"23\", \"24\", \"25\", \"26\", \"27\", \"28\", \"29\", \"30\", \"31\", \"32\", \"33\", \"34\", \"35\", \"38\", \"39\"], \"mode\": \"lines\", \"name\": \"weighted_accuracy_max\", \"stepped\": true, \"type\": \"scatter\", \"data\": [0.8541321922200625, 0.8541321922200625, 0.8759899024783753, 0.8759899024783753, 0.8759899024783753, 0.8759899024783753, 0.8759899024783753, 0.8759899024783753, 0.8759899024783753, 0.8759899024783753, 0.8759899024783753, 0.8759899024783753, 0.8759899024783753, 0.8759899024783753, 0.8759899024783753, 0.8759899024783753, 0.8759899024783753, 0.8759899024783753, 0.8759899024783753, 0.8759899024783753, 0.8759899024783753, 0.8759899024783753, 0.8759899024783753, 0.8759899024783753, 0.8759899024783753, 0.8759899024783753, 0.8759899024783753, 0.8759899024783753, 0.8759899024783753, 0.8759899024783753, 0.8759899024783753, 0.8759899024783753, 0.8759899024783753, 0.8759899024783753, 0.8759899024783753, 0.8759899024783753, 0.8951217481694604, 0.8951217481694604]}], \"precision_score_weighted\": [{\"categories\": [\"0\", \"1\", \"2\", \"3\", \"4\", \"5\", \"6\", \"7\", \"8\", \"9\", \"10\", \"11\", \"12\", \"13\", \"14\", \"15\", \"16\", \"17\", \"18\", \"19\", \"20\", \"21\", \"22\", \"23\", \"24\", \"25\", \"26\", \"27\", \"28\", \"29\", \"30\", \"31\", \"32\", \"33\", \"34\", \"35\", \"38\", \"39\"], \"mode\": \"markers\", \"name\": \"precision_score_weighted\", \"stepped\": false, \"type\": \"scatter\", \"data\": [0.8443308716969533, 0.8506678986628277, 0.8654035121688795, 0.8386830700811212, 0.8381251840763693, 0.8268833868779895, 0.7422589582498128, 0.837153057106774, 0.8471991704876658, 0.8503095268050291, 0.8572447418429693, 0.8494995299094643, 0.8442625341323492, 0.8641387925445647, 0.8575584589739762, 0.8445519029566506, 0.8443523654839247, 0.8632553265105122, 0.8553606304186647, 0.8464264202888815, 0.7966037645053071, 0.8458189288953408, 0.8473757818060665, 0.8536655186898594, 0.8515623519409127, 0.8490103279691062, 0.8413490727579933, 0.8588021390937213, 0.8513845067289397, 0.8123856268873235, 0.47055053507728895, 0.8416368516655138, 0.840623900302411, 0.8465205057519798, 0.8520676351939469, 0.6056005921281783, 0.8881739663385091, 0.8771988340633768]}, {\"categories\": [\"0\", \"1\", \"2\", \"3\", \"4\", \"5\", \"6\", \"7\", \"8\", \"9\", \"10\", \"11\", \"12\", \"13\", \"14\", \"15\", \"16\", \"17\", \"18\", \"19\", \"20\", \"21\", \"22\", \"23\", \"24\", \"25\", \"26\", \"27\", \"28\", \"29\", \"30\", \"31\", \"32\", \"33\", \"34\", \"35\", \"38\", \"39\"], \"mode\": \"lines\", \"name\": \"precision_score_weighted_max\", \"stepped\": true, \"type\": \"scatter\", \"data\": [0.8443308716969533, 0.8506678986628277, 0.8654035121688795, 0.8654035121688795, 0.8654035121688795, 0.8654035121688795, 0.8654035121688795, 0.8654035121688795, 0.8654035121688795, 0.8654035121688795, 0.8654035121688795, 0.8654035121688795, 0.8654035121688795, 0.8654035121688795, 0.8654035121688795, 0.8654035121688795, 0.8654035121688795, 0.8654035121688795, 0.8654035121688795, 0.8654035121688795, 0.8654035121688795, 0.8654035121688795, 0.8654035121688795, 0.8654035121688795, 0.8654035121688795, 0.8654035121688795, 0.8654035121688795, 0.8654035121688795, 0.8654035121688795, 0.8654035121688795, 0.8654035121688795, 0.8654035121688795, 0.8654035121688795, 0.8654035121688795, 0.8654035121688795, 0.8654035121688795, 0.8881739663385091, 0.8881739663385091]}], \"f1_score_micro\": [{\"categories\": [\"0\", \"1\", \"2\", \"3\", \"4\", \"5\", \"6\", \"7\", \"8\", \"9\", \"10\", \"11\", \"12\", \"13\", \"14\", \"15\", \"16\", \"17\", \"18\", \"19\", \"20\", \"21\", \"22\", \"23\", \"24\", \"25\", \"26\", \"27\", \"28\", \"29\", \"30\", \"31\", \"32\", \"33\", \"34\", \"35\", \"38\", \"39\"], \"mode\": \"markers\", \"name\": \"f1_score_micro\", \"stepped\": false, \"type\": \"scatter\", \"data\": [0.8359770114942527, 0.8358620689655172, 0.8562068965517241, 0.8293103448275861, 0.8157471264367816, 0.8058620689655172, 0.7191954022988506, 0.8228735632183908, 0.8327586206896551, 0.8393103448275863, 0.8460919540229886, 0.8325287356321839, 0.8162068965517243, 0.849425287356322, 0.842528735632184, 0.8258620689655173, 0.8325287356321839, 0.8495402298850575, 0.8393103448275863, 0.8362068965517242, 0.782183908045977, 0.8260919540229885, 0.8359770114942527, 0.8425287356321839, 0.8391954022988506, 0.8189655172413793, 0.8293103448275861, 0.8428735632183908, 0.8324137931034483, 0.7890804597701151, 0.6791954022988507, 0.8294252873563218, 0.8195402298850574, 0.8258620689655173, 0.8393103448275863, 0.7124137931034482, 0.8729885057471265, 0.8596551724137932]}, {\"categories\": [\"0\", \"1\", \"2\", \"3\", \"4\", \"5\", \"6\", \"7\", \"8\", \"9\", \"10\", \"11\", \"12\", \"13\", \"14\", \"15\", \"16\", \"17\", \"18\", \"19\", \"20\", \"21\", \"22\", \"23\", \"24\", \"25\", \"26\", \"27\", \"28\", \"29\", \"30\", \"31\", \"32\", \"33\", \"34\", \"35\", \"38\", \"39\"], \"mode\": \"lines\", \"name\": \"f1_score_micro_max\", \"stepped\": true, \"type\": \"scatter\", \"data\": [0.8359770114942527, 0.8359770114942527, 0.8562068965517241, 0.8562068965517241, 0.8562068965517241, 0.8562068965517241, 0.8562068965517241, 0.8562068965517241, 0.8562068965517241, 0.8562068965517241, 0.8562068965517241, 0.8562068965517241, 0.8562068965517241, 0.8562068965517241, 0.8562068965517241, 0.8562068965517241, 0.8562068965517241, 0.8562068965517241, 0.8562068965517241, 0.8562068965517241, 0.8562068965517241, 0.8562068965517241, 0.8562068965517241, 0.8562068965517241, 0.8562068965517241, 0.8562068965517241, 0.8562068965517241, 0.8562068965517241, 0.8562068965517241, 0.8562068965517241, 0.8562068965517241, 0.8562068965517241, 0.8562068965517241, 0.8562068965517241, 0.8562068965517241, 0.8562068965517241, 0.8729885057471265, 0.8729885057471265]}], \"AUC_weighted\": [{\"categories\": [\"0\", \"1\", \"2\", \"3\", \"4\", \"5\", \"6\", \"7\", \"8\", \"9\", \"10\", \"11\", \"12\", \"13\", \"14\", \"15\", \"16\", \"17\", \"18\", \"19\", \"20\", \"21\", \"22\", \"23\", \"24\", \"25\", \"26\", \"27\", \"28\", \"29\", \"30\", \"31\", \"32\", \"33\", \"34\", \"35\", \"38\", \"39\"], \"mode\": \"markers\", \"name\": \"AUC_weighted\", \"stepped\": false, \"type\": \"scatter\", \"data\": [0.8840955354735103, 0.8847369443591411, 0.8969334335509395, 0.8974293597960645, 0.8960000626841588, 0.8693964808816068, 0.747228730835653, 0.879342659940915, 0.900381358452125, 0.8972961414295512, 0.9052944407571409, 0.9025306153504093, 0.891905943190211, 0.9065117332197422, 0.8985968029703155, 0.8922771932851454, 0.8964478961732395, 0.8905101635291566, 0.9022516357593588, 0.8879981568848561, 0.8493337943288172, 0.8947674802399058, 0.9086845241672474, 0.9020244240376962, 0.8979013715255422, 0.8882171117572147, 0.8922546979548123, 0.8941915194497001, 0.8959801456044592, 0.847283416297661, 0.7413305878607366, 0.9010544736621968, 0.8956902993787719, 0.8784186715416121, 0.8890898286146856, 0.8736821811885885, 0.9163111808947049, 0.9166373593458834]}, {\"categories\": [\"0\", \"1\", \"2\", \"3\", \"4\", \"5\", \"6\", \"7\", \"8\", \"9\", \"10\", \"11\", \"12\", \"13\", \"14\", \"15\", \"16\", \"17\", \"18\", \"19\", \"20\", \"21\", \"22\", \"23\", \"24\", \"25\", \"26\", \"27\", \"28\", \"29\", \"30\", \"31\", \"32\", \"33\", \"34\", \"35\", \"38\", \"39\"], \"mode\": \"lines\", \"name\": \"AUC_weighted_max\", \"stepped\": true, \"type\": \"scatter\", \"data\": [0.8840955354735103, 0.8847369443591411, 0.8969334335509395, 0.8974293597960645, 0.8974293597960645, 0.8974293597960645, 0.8974293597960645, 0.8974293597960645, 0.900381358452125, 0.900381358452125, 0.9052944407571409, 0.9052944407571409, 0.9052944407571409, 0.9065117332197422, 0.9065117332197422, 0.9065117332197422, 0.9065117332197422, 0.9065117332197422, 0.9065117332197422, 0.9065117332197422, 0.9065117332197422, 0.9065117332197422, 0.9086845241672474, 0.9086845241672474, 0.9086845241672474, 0.9086845241672474, 0.9086845241672474, 0.9086845241672474, 0.9086845241672474, 0.9086845241672474, 0.9086845241672474, 0.9086845241672474, 0.9086845241672474, 0.9086845241672474, 0.9086845241672474, 0.9086845241672474, 0.9163111808947049, 0.9166373593458834]}], \"log_loss\": [{\"categories\": [\"0\", \"1\", \"2\", \"3\", \"4\", \"5\", \"6\", \"7\", \"8\", \"9\", \"10\", \"11\", \"12\", \"13\", \"14\", \"15\", \"16\", \"17\", \"18\", \"19\", \"20\", \"21\", \"22\", \"23\", \"24\", \"25\", \"26\", \"27\", \"28\", \"29\", \"30\", \"31\", \"32\", \"33\", \"34\", \"35\", \"38\", \"39\"], \"mode\": \"markers\", \"name\": \"log_loss\", \"stepped\": false, \"type\": \"scatter\", \"data\": [0.4772179826627182, 0.41764279466886123, 0.37103002435881527, 0.3948557400376621, 0.3850642636477245, 0.42216330746327824, 0.5801225295620345, 0.4113226523427646, 0.394405483274961, 0.4087218920262994, 0.3971042897516659, 0.38231145959136503, 0.43800197328407603, 0.3643994687515757, 0.36711678101912315, 0.4006499095980418, 0.42130321116348846, 0.3964188793382829, 0.41916278548122055, 0.4182362547689416, 0.440906974630766, 0.4227894568759668, 0.3584968688914138, 0.370120467812017, 0.4791778501571254, 0.4618869254220909, 0.4509924561355497, 0.3881262762921599, 0.457768152783523, 0.6111866896434925, 0.6198936598807153, 0.3710905094615249, 0.4937811237209755, 0.40774362905828293, 0.4630721184303791, 0.5217260593079803, 0.38256486796358147, 0.38664028790691185]}, {\"categories\": [\"0\", \"1\", \"2\", \"3\", \"4\", \"5\", \"6\", \"7\", \"8\", \"9\", \"10\", \"11\", \"12\", \"13\", \"14\", \"15\", \"16\", \"17\", \"18\", \"19\", \"20\", \"21\", \"22\", \"23\", \"24\", \"25\", \"26\", \"27\", \"28\", \"29\", \"30\", \"31\", \"32\", \"33\", \"34\", \"35\", \"38\", \"39\"], \"mode\": \"lines\", \"name\": \"log_loss_min\", \"stepped\": true, \"type\": \"scatter\", \"data\": [0.4772179826627182, 0.41764279466886123, 0.37103002435881527, 0.37103002435881527, 0.37103002435881527, 0.37103002435881527, 0.37103002435881527, 0.37103002435881527, 0.37103002435881527, 0.37103002435881527, 0.37103002435881527, 0.37103002435881527, 0.37103002435881527, 0.3643994687515757, 0.3643994687515757, 0.3643994687515757, 0.3643994687515757, 0.3643994687515757, 0.3643994687515757, 0.3643994687515757, 0.3643994687515757, 0.3643994687515757, 0.3584968688914138, 0.3584968688914138, 0.3584968688914138, 0.3584968688914138, 0.3584968688914138, 0.3584968688914138, 0.3584968688914138, 0.3584968688914138, 0.3584968688914138, 0.3584968688914138, 0.3584968688914138, 0.3584968688914138, 0.3584968688914138, 0.3584968688914138, 0.3584968688914138, 0.3584968688914138]}], \"f1_score_macro\": [{\"categories\": [\"0\", \"1\", \"2\", \"3\", \"4\", \"5\", \"6\", \"7\", \"8\", \"9\", \"10\", \"11\", \"12\", \"13\", \"14\", \"15\", \"16\", \"17\", \"18\", \"19\", \"20\", \"21\", \"22\", \"23\", \"24\", \"25\", \"26\", \"27\", \"28\", \"29\", \"30\", \"31\", \"32\", \"33\", \"34\", \"35\", \"38\", \"39\"], \"mode\": \"markers\", \"name\": \"f1_score_macro\", \"stepped\": false, \"type\": \"scatter\", \"data\": [0.8043314151248963, 0.8078501228997539, 0.8243292630833196, 0.788695185321904, 0.7909555290825655, 0.7602613062010702, 0.6174025387252858, 0.7844731356932927, 0.795801446434647, 0.8074461666644328, 0.8131296422792588, 0.7901699674133443, 0.7543996407879174, 0.817909545860353, 0.8112085339848484, 0.7819539914520132, 0.792244378564663, 0.8139218100656445, 0.800592919675218, 0.8062936525373925, 0.7374019526302135, 0.7754192497122441, 0.80169442154096, 0.8134576789359711, 0.8071836911355857, 0.796717019514858, 0.7897716503362009, 0.8070822106545676, 0.803420514447281, 0.7637115521657245, 0.4024893878511494, 0.7960972801200688, 0.7695296688112171, 0.7843435200960237, 0.8026096581295047, 0.5099118495878485, 0.8456672194389572, 0.8304645412220779]}, {\"categories\": [\"0\", \"1\", \"2\", \"3\", \"4\", \"5\", \"6\", \"7\", \"8\", \"9\", \"10\", \"11\", \"12\", \"13\", \"14\", \"15\", \"16\", \"17\", \"18\", \"19\", \"20\", \"21\", \"22\", \"23\", \"24\", \"25\", \"26\", \"27\", \"28\", \"29\", \"30\", \"31\", \"32\", \"33\", \"34\", \"35\", \"38\", \"39\"], \"mode\": \"lines\", \"name\": \"f1_score_macro_max\", \"stepped\": true, \"type\": \"scatter\", \"data\": [0.8043314151248963, 0.8078501228997539, 0.8243292630833196, 0.8243292630833196, 0.8243292630833196, 0.8243292630833196, 0.8243292630833196, 0.8243292630833196, 0.8243292630833196, 0.8243292630833196, 0.8243292630833196, 0.8243292630833196, 0.8243292630833196, 0.8243292630833196, 0.8243292630833196, 0.8243292630833196, 0.8243292630833196, 0.8243292630833196, 0.8243292630833196, 0.8243292630833196, 0.8243292630833196, 0.8243292630833196, 0.8243292630833196, 0.8243292630833196, 0.8243292630833196, 0.8243292630833196, 0.8243292630833196, 0.8243292630833196, 0.8243292630833196, 0.8243292630833196, 0.8243292630833196, 0.8243292630833196, 0.8243292630833196, 0.8243292630833196, 0.8243292630833196, 0.8243292630833196, 0.8456672194389572, 0.8456672194389572]}], \"AUC_micro\": [{\"categories\": [\"0\", \"1\", \"2\", \"3\", \"4\", \"5\", \"6\", \"7\", \"8\", \"9\", \"10\", \"11\", \"12\", \"13\", \"14\", \"15\", \"16\", \"17\", \"18\", \"19\", \"20\", \"21\", \"22\", \"23\", \"24\", \"25\", \"26\", \"27\", \"28\", \"29\", \"30\", \"31\", \"32\", \"33\", \"34\", \"35\", \"38\", \"39\"], \"mode\": \"markers\", \"name\": \"AUC_micro\", \"stepped\": false, \"type\": \"scatter\", \"data\": [0.9035422116527941, 0.9042166732725592, 0.913273219711983, 0.906002246003435, 0.8996085348130534, 0.8840276126304664, 0.7862070286695733, 0.8925694279297133, 0.903497291584093, 0.9043783855198839, 0.9133569824283262, 0.9128853217069628, 0.8913511692429648, 0.9163725723345223, 0.9113745541022592, 0.9043745541022592, 0.9018189985467036, 0.9005986259743691, 0.9062068965517242, 0.8939495309816357, 0.8692227506936187, 0.8975012551195668, 0.918524639978861, 0.9124388954947815, 0.9112829964328182, 0.8815814506539834, 0.8912654247588849, 0.9042848460827058, 0.9052244682256573, 0.8561465186946757, 0.7800783458845291, 0.9119125379838817, 0.9036357510899722, 0.8949320914255516, 0.8984388954947814, 0.8458483287092087, 0.9201483683445633, 0.9225616329766151]}, {\"categories\": [\"0\", \"1\", \"2\", \"3\", \"4\", \"5\", \"6\", \"7\", \"8\", \"9\", \"10\", \"11\", \"12\", \"13\", \"14\", \"15\", \"16\", \"17\", \"18\", \"19\", \"20\", \"21\", \"22\", \"23\", \"24\", \"25\", \"26\", \"27\", \"28\", \"29\", \"30\", \"31\", \"32\", \"33\", \"34\", \"35\", \"38\", \"39\"], \"mode\": \"lines\", \"name\": \"AUC_micro_max\", \"stepped\": true, \"type\": \"scatter\", \"data\": [0.9035422116527941, 0.9042166732725592, 0.913273219711983, 0.913273219711983, 0.913273219711983, 0.913273219711983, 0.913273219711983, 0.913273219711983, 0.913273219711983, 0.913273219711983, 0.9133569824283262, 0.9133569824283262, 0.9133569824283262, 0.9163725723345223, 0.9163725723345223, 0.9163725723345223, 0.9163725723345223, 0.9163725723345223, 0.9163725723345223, 0.9163725723345223, 0.9163725723345223, 0.9163725723345223, 0.918524639978861, 0.918524639978861, 0.918524639978861, 0.918524639978861, 0.918524639978861, 0.918524639978861, 0.918524639978861, 0.918524639978861, 0.918524639978861, 0.918524639978861, 0.918524639978861, 0.918524639978861, 0.918524639978861, 0.918524639978861, 0.9201483683445633, 0.9225616329766151]}], \"recall_score_micro\": [{\"categories\": [\"0\", \"1\", \"2\", \"3\", \"4\", \"5\", \"6\", \"7\", \"8\", \"9\", \"10\", \"11\", \"12\", \"13\", \"14\", \"15\", \"16\", \"17\", \"18\", \"19\", \"20\", \"21\", \"22\", \"23\", \"24\", \"25\", \"26\", \"27\", \"28\", \"29\", \"30\", \"31\", \"32\", \"33\", \"34\", \"35\", \"38\", \"39\"], \"mode\": \"markers\", \"name\": \"recall_score_micro\", \"stepped\": false, \"type\": \"scatter\", \"data\": [0.8359770114942527, 0.8358620689655172, 0.8562068965517241, 0.8293103448275861, 0.8157471264367816, 0.8058620689655172, 0.7191954022988506, 0.8228735632183908, 0.8327586206896551, 0.8393103448275863, 0.8460919540229886, 0.8325287356321839, 0.8162068965517243, 0.8494252873563217, 0.8425287356321839, 0.8258620689655173, 0.8325287356321839, 0.8495402298850575, 0.8393103448275863, 0.8362068965517242, 0.782183908045977, 0.8260919540229885, 0.8359770114942527, 0.8425287356321839, 0.8391954022988506, 0.8189655172413793, 0.8293103448275861, 0.8428735632183908, 0.8324137931034483, 0.7890804597701151, 0.6791954022988507, 0.8294252873563218, 0.8195402298850574, 0.8258620689655173, 0.8393103448275863, 0.7124137931034482, 0.8729885057471265, 0.8596551724137932]}, {\"categories\": [\"0\", \"1\", \"2\", \"3\", \"4\", \"5\", \"6\", \"7\", \"8\", \"9\", \"10\", \"11\", \"12\", \"13\", \"14\", \"15\", \"16\", \"17\", \"18\", \"19\", \"20\", \"21\", \"22\", \"23\", \"24\", \"25\", \"26\", \"27\", \"28\", \"29\", \"30\", \"31\", \"32\", \"33\", \"34\", \"35\", \"38\", \"39\"], \"mode\": \"lines\", \"name\": \"recall_score_micro_max\", \"stepped\": true, \"type\": \"scatter\", \"data\": [0.8359770114942527, 0.8359770114942527, 0.8562068965517241, 0.8562068965517241, 0.8562068965517241, 0.8562068965517241, 0.8562068965517241, 0.8562068965517241, 0.8562068965517241, 0.8562068965517241, 0.8562068965517241, 0.8562068965517241, 0.8562068965517241, 0.8562068965517241, 0.8562068965517241, 0.8562068965517241, 0.8562068965517241, 0.8562068965517241, 0.8562068965517241, 0.8562068965517241, 0.8562068965517241, 0.8562068965517241, 0.8562068965517241, 0.8562068965517241, 0.8562068965517241, 0.8562068965517241, 0.8562068965517241, 0.8562068965517241, 0.8562068965517241, 0.8562068965517241, 0.8562068965517241, 0.8562068965517241, 0.8562068965517241, 0.8562068965517241, 0.8562068965517241, 0.8562068965517241, 0.8729885057471265, 0.8729885057471265]}], \"matthews_correlation\": [{\"categories\": [\"0\", \"1\", \"2\", \"3\", \"4\", \"5\", \"6\", \"7\", \"8\", \"9\", \"10\", \"11\", \"12\", \"13\", \"14\", \"15\", \"16\", \"17\", \"18\", \"19\", \"20\", \"21\", \"22\", \"23\", \"24\", \"25\", \"26\", \"27\", \"28\", \"29\", \"30\", \"31\", \"32\", \"33\", \"34\", \"35\", \"38\", \"39\"], \"mode\": \"markers\", \"name\": \"matthews_correlation\", \"stepped\": false, \"type\": \"scatter\", \"data\": [0.6231314496952846, 0.6345538749068885, 0.6643463096224009, 0.5972357856909725, 0.5991609983231047, 0.5606427593059455, 0.3209765261842765, 0.5926056841761447, 0.6181804708226917, 0.6345874802720357, 0.6476990204494667, 0.610283417163898, 0.5805968916603675, 0.6584857474415073, 0.6441816088928001, 0.6017028936543165, 0.610521840287896, 0.6526669490817252, 0.6320897071733595, 0.6291702367253744, 0.49467403376201047, 0.5985307000342799, 0.6213813422755524, 0.6397730947209479, 0.6311508496494223, 0.6161400601436928, 0.6050404127354617, 0.6406313184697939, 0.6259565060163055, 0.5448679626330625, 0.0, 0.6120097589838405, 0.5859889020033766, 0.6065841517882886, 0.6284918095534159, 0.18116797020287556, 0.7194256984354892, 0.6925579896674814]}, {\"categories\": [\"0\", \"1\", \"2\", \"3\", \"4\", \"5\", \"6\", \"7\", \"8\", \"9\", \"10\", \"11\", \"12\", \"13\", \"14\", \"15\", \"16\", \"17\", \"18\", \"19\", \"20\", \"21\", \"22\", \"23\", \"24\", \"25\", \"26\", \"27\", \"28\", \"29\", \"30\", \"31\", \"32\", \"33\", \"34\", \"35\", \"38\", \"39\"], \"mode\": \"lines\", \"name\": \"matthews_correlation_max\", \"stepped\": true, \"type\": \"scatter\", \"data\": [0.6231314496952846, 0.6345538749068885, 0.6643463096224009, 0.6643463096224009, 0.6643463096224009, 0.6643463096224009, 0.6643463096224009, 0.6643463096224009, 0.6643463096224009, 0.6643463096224009, 0.6643463096224009, 0.6643463096224009, 0.6643463096224009, 0.6643463096224009, 0.6643463096224009, 0.6643463096224009, 0.6643463096224009, 0.6643463096224009, 0.6643463096224009, 0.6643463096224009, 0.6643463096224009, 0.6643463096224009, 0.6643463096224009, 0.6643463096224009, 0.6643463096224009, 0.6643463096224009, 0.6643463096224009, 0.6643463096224009, 0.6643463096224009, 0.6643463096224009, 0.6643463096224009, 0.6643463096224009, 0.6643463096224009, 0.6643463096224009, 0.6643463096224009, 0.6643463096224009, 0.7194256984354892, 0.7194256984354892]}], \"average_precision_score_macro\": [{\"categories\": [\"0\", \"1\", \"2\", \"3\", \"4\", \"5\", \"6\", \"7\", \"8\", \"9\", \"10\", \"11\", \"12\", \"13\", \"14\", \"15\", \"16\", \"17\", \"18\", \"19\", \"20\", \"21\", \"22\", \"23\", \"24\", \"25\", \"26\", \"27\", \"28\", \"29\", \"30\", \"31\", \"32\", \"33\", \"34\", \"35\", \"38\", \"39\"], \"mode\": \"markers\", \"name\": \"average_precision_score_macro\", \"stepped\": false, \"type\": \"scatter\", \"data\": [0.8807888197525153, 0.8807340475847678, 0.8906214180637692, 0.8900839598731227, 0.8820195576917689, 0.8571178507782798, 0.745469896825244, 0.8749745008185043, 0.8918330319186867, 0.8885208428861692, 0.9035087423921901, 0.8945349664625457, 0.8866065834105781, 0.900142561760313, 0.8869847145598306, 0.8822849766998608, 0.8869420121401553, 0.8801441796559588, 0.8918742359962035, 0.8819949781809319, 0.8294067592654855, 0.8914413855454489, 0.8970960271161111, 0.8964139455857676, 0.8915927938461625, 0.8812339933029445, 0.8701230666969517, 0.8845929539454108, 0.8944601466186921, 0.847116562973311, 0.6956621681204254, 0.8973298770177239, 0.8846017871895763, 0.8743408404027152, 0.8670051871471305, 0.8665157736233298, 0.9031592480073918, 0.9031248120207354]}, {\"categories\": [\"0\", \"1\", \"2\", \"3\", \"4\", \"5\", \"6\", \"7\", \"8\", \"9\", \"10\", \"11\", \"12\", \"13\", \"14\", \"15\", \"16\", \"17\", \"18\", \"19\", \"20\", \"21\", \"22\", \"23\", \"24\", \"25\", \"26\", \"27\", \"28\", \"29\", \"30\", \"31\", \"32\", \"33\", \"34\", \"35\", \"38\", \"39\"], \"mode\": \"lines\", \"name\": \"average_precision_score_macro_max\", \"stepped\": true, \"type\": \"scatter\", \"data\": [0.8807888197525153, 0.8807888197525153, 0.8906214180637692, 0.8906214180637692, 0.8906214180637692, 0.8906214180637692, 0.8906214180637692, 0.8906214180637692, 0.8918330319186867, 0.8918330319186867, 0.9035087423921901, 0.9035087423921901, 0.9035087423921901, 0.9035087423921901, 0.9035087423921901, 0.9035087423921901, 0.9035087423921901, 0.9035087423921901, 0.9035087423921901, 0.9035087423921901, 0.9035087423921901, 0.9035087423921901, 0.9035087423921901, 0.9035087423921901, 0.9035087423921901, 0.9035087423921901, 0.9035087423921901, 0.9035087423921901, 0.9035087423921901, 0.9035087423921901, 0.9035087423921901, 0.9035087423921901, 0.9035087423921901, 0.9035087423921901, 0.9035087423921901, 0.9035087423921901, 0.9035087423921901, 0.9035087423921901]}], \"average_precision_score_weighted\": [{\"categories\": [\"0\", \"1\", \"2\", \"3\", \"4\", \"5\", \"6\", \"7\", \"8\", \"9\", \"10\", \"11\", \"12\", \"13\", \"14\", \"15\", \"16\", \"17\", \"18\", \"19\", \"20\", \"21\", \"22\", \"23\", \"24\", \"25\", \"26\", \"27\", \"28\", \"29\", \"30\", \"31\", \"32\", \"33\", \"34\", \"35\", \"38\", \"39\"], \"mode\": \"markers\", \"name\": \"average_precision_score_weighted\", \"stepped\": false, \"type\": \"scatter\", \"data\": [0.9061112830231934, 0.907154018724502, 0.9153437646399769, 0.9144291147879453, 0.9113462979945149, 0.892221836801804, 0.7902984708289256, 0.9006152166437232, 0.9165549146745361, 0.9126926295526324, 0.9238463617186536, 0.9196896625977816, 0.9116660235734508, 0.9241542017547829, 0.9139002185041992, 0.9135350273104205, 0.913099077205518, 0.9060660336140408, 0.9185264340158863, 0.9051350361494794, 0.8733005243173396, 0.9177586180946771, 0.9220676425344791, 0.9206627380176673, 0.9117432707849599, 0.908010967364741, 0.89933312883859, 0.9132053137035909, 0.9162352038356216, 0.875128775119751, 0.76778859597446, 0.9204076295706818, 0.9080352585855126, 0.9033274554028671, 0.8970735335670106, 0.8983697710977048, 0.9265053844830646, 0.9272087037855352]}, {\"categories\": [\"0\", \"1\", \"2\", \"3\", \"4\", \"5\", \"6\", \"7\", \"8\", \"9\", \"10\", \"11\", \"12\", \"13\", \"14\", \"15\", \"16\", \"17\", \"18\", \"19\", \"20\", \"21\", \"22\", \"23\", \"24\", \"25\", \"26\", \"27\", \"28\", \"29\", \"30\", \"31\", \"32\", \"33\", \"34\", \"35\", \"38\", \"39\"], \"mode\": \"lines\", \"name\": \"average_precision_score_weighted_max\", \"stepped\": true, \"type\": \"scatter\", \"data\": [0.9061112830231934, 0.907154018724502, 0.9153437646399769, 0.9153437646399769, 0.9153437646399769, 0.9153437646399769, 0.9153437646399769, 0.9153437646399769, 0.9165549146745361, 0.9165549146745361, 0.9238463617186536, 0.9238463617186536, 0.9238463617186536, 0.9241542017547829, 0.9241542017547829, 0.9241542017547829, 0.9241542017547829, 0.9241542017547829, 0.9241542017547829, 0.9241542017547829, 0.9241542017547829, 0.9241542017547829, 0.9241542017547829, 0.9241542017547829, 0.9241542017547829, 0.9241542017547829, 0.9241542017547829, 0.9241542017547829, 0.9241542017547829, 0.9241542017547829, 0.9241542017547829, 0.9241542017547829, 0.9241542017547829, 0.9241542017547829, 0.9241542017547829, 0.9241542017547829, 0.9265053844830646, 0.9272087037855352]}], \"balanced_accuracy\": [{\"categories\": [\"0\", \"1\", \"2\", \"3\", \"4\", \"5\", \"6\", \"7\", \"8\", \"9\", \"10\", \"11\", \"12\", \"13\", \"14\", \"15\", \"16\", \"17\", \"18\", \"19\", \"20\", \"21\", \"22\", \"23\", \"24\", \"25\", \"26\", \"27\", \"28\", \"29\", \"30\", \"31\", \"32\", \"33\", \"34\", \"35\", \"38\", \"39\"], \"mode\": \"markers\", \"name\": \"balanced_accuracy\", \"stepped\": false, \"type\": \"scatter\", \"data\": [0.8077082895810014, 0.8130249020938379, 0.8240595654980666, 0.7850911406480627, 0.8111766706786729, 0.7599148827272397, 0.6372374249193471, 0.785013547950905, 0.7918168440699906, 0.8019137909827269, 0.807045856984358, 0.7885545690642944, 0.7441534460327366, 0.8204314677504037, 0.8119737704769168, 0.7772883666676573, 0.7882103905184569, 0.810638899207835, 0.7992019669562576, 0.8095071398852862, 0.7447710609692876, 0.7600986119779026, 0.8055188956416073, 0.8198020533051998, 0.8131664111695576, 0.8202022298830081, 0.7869737704769169, 0.8053512957294421, 0.8161845663235823, 0.7841511209677685, 0.5, 0.8007544342575807, 0.7603868201465456, 0.779779442842944, 0.8059589161474173, 0.5723477006085702, 0.8380233955276861, 0.8242807054692067]}, {\"categories\": [\"0\", \"1\", \"2\", \"3\", \"4\", \"5\", \"6\", \"7\", \"8\", \"9\", \"10\", \"11\", \"12\", \"13\", \"14\", \"15\", \"16\", \"17\", \"18\", \"19\", \"20\", \"21\", \"22\", \"23\", \"24\", \"25\", \"26\", \"27\", \"28\", \"29\", \"30\", \"31\", \"32\", \"33\", \"34\", \"35\", \"38\", \"39\"], \"mode\": \"lines\", \"name\": \"balanced_accuracy_max\", \"stepped\": true, \"type\": \"scatter\", \"data\": [0.8077082895810014, 0.8130249020938379, 0.8240595654980666, 0.8240595654980666, 0.8240595654980666, 0.8240595654980666, 0.8240595654980666, 0.8240595654980666, 0.8240595654980666, 0.8240595654980666, 0.8240595654980666, 0.8240595654980666, 0.8240595654980666, 0.8240595654980666, 0.8240595654980666, 0.8240595654980666, 0.8240595654980666, 0.8240595654980666, 0.8240595654980666, 0.8240595654980666, 0.8240595654980666, 0.8240595654980666, 0.8240595654980666, 0.8240595654980666, 0.8240595654980666, 0.8240595654980666, 0.8240595654980666, 0.8240595654980666, 0.8240595654980666, 0.8240595654980666, 0.8240595654980666, 0.8240595654980666, 0.8240595654980666, 0.8240595654980666, 0.8240595654980666, 0.8240595654980666, 0.8380233955276861, 0.8380233955276861]}], \"AUC_macro\": [{\"categories\": [\"0\", \"1\", \"2\", \"3\", \"4\", \"5\", \"6\", \"7\", \"8\", \"9\", \"10\", \"11\", \"12\", \"13\", \"14\", \"15\", \"16\", \"17\", \"18\", \"19\", \"20\", \"21\", \"22\", \"23\", \"24\", \"25\", \"26\", \"27\", \"28\", \"29\", \"30\", \"31\", \"32\", \"33\", \"34\", \"35\", \"38\", \"39\"], \"mode\": \"markers\", \"name\": \"AUC_macro\", \"stepped\": false, \"type\": \"scatter\", \"data\": [0.8840955354735103, 0.8847369443591411, 0.8969334335509395, 0.8974293597960645, 0.8960000626841588, 0.8693964808816068, 0.7472287308356531, 0.879342659940915, 0.900381358452125, 0.8972961414295512, 0.9052944407571412, 0.9025306153504093, 0.891905943190211, 0.9065117332197424, 0.8985968029703155, 0.8922771932851454, 0.8964478961732395, 0.8905101635291567, 0.9022516357593588, 0.8879981568848561, 0.8493337943288172, 0.8947674802399058, 0.9086845241672474, 0.9020244240376962, 0.897901371525542, 0.8882171117572147, 0.8922546979548123, 0.8941915194497001, 0.8959801456044592, 0.847283416297661, 0.7413305878607366, 0.9010544736621968, 0.8956902993787719, 0.8784186715416119, 0.8890898286146856, 0.8736821811885885, 0.9163111808947049, 0.9166373593458836]}, {\"categories\": [\"0\", \"1\", \"2\", \"3\", \"4\", \"5\", \"6\", \"7\", \"8\", \"9\", \"10\", \"11\", \"12\", \"13\", \"14\", \"15\", \"16\", \"17\", \"18\", \"19\", \"20\", \"21\", \"22\", \"23\", \"24\", \"25\", \"26\", \"27\", \"28\", \"29\", \"30\", \"31\", \"32\", \"33\", \"34\", \"35\", \"38\", \"39\"], \"mode\": \"lines\", \"name\": \"AUC_macro_max\", \"stepped\": true, \"type\": \"scatter\", \"data\": [0.8840955354735103, 0.8847369443591411, 0.8969334335509395, 0.8974293597960645, 0.8974293597960645, 0.8974293597960645, 0.8974293597960645, 0.8974293597960645, 0.900381358452125, 0.900381358452125, 0.9052944407571412, 0.9052944407571412, 0.9052944407571412, 0.9065117332197424, 0.9065117332197424, 0.9065117332197424, 0.9065117332197424, 0.9065117332197424, 0.9065117332197424, 0.9065117332197424, 0.9065117332197424, 0.9065117332197424, 0.9086845241672474, 0.9086845241672474, 0.9086845241672474, 0.9086845241672474, 0.9086845241672474, 0.9086845241672474, 0.9086845241672474, 0.9086845241672474, 0.9086845241672474, 0.9086845241672474, 0.9086845241672474, 0.9086845241672474, 0.9086845241672474, 0.9086845241672474, 0.9163111808947049, 0.9166373593458836]}], \"recall_score_macro\": [{\"categories\": [\"0\", \"1\", \"2\", \"3\", \"4\", \"5\", \"6\", \"7\", \"8\", \"9\", \"10\", \"11\", \"12\", \"13\", \"14\", \"15\", \"16\", \"17\", \"18\", \"19\", \"20\", \"21\", \"22\", \"23\", \"24\", \"25\", \"26\", \"27\", \"28\", \"29\", \"30\", \"31\", \"32\", \"33\", \"34\", \"35\", \"38\", \"39\"], \"mode\": \"markers\", \"name\": \"recall_score_macro\", \"stepped\": false, \"type\": \"scatter\", \"data\": [0.8077082895810014, 0.8130249020938379, 0.8240595654980666, 0.7850911406480627, 0.8111766706786729, 0.7599148827272397, 0.6372374249193471, 0.785013547950905, 0.7918168440699906, 0.8019137909827269, 0.807045856984358, 0.7885545690642944, 0.7441534460327366, 0.8204314677504037, 0.8119737704769168, 0.7772883666676573, 0.7882103905184569, 0.810638899207835, 0.7992019669562576, 0.8095071398852862, 0.7447710609692876, 0.7600986119779026, 0.8055188956416073, 0.8198020533051998, 0.8131664111695576, 0.8202022298830081, 0.7869737704769169, 0.8053512957294421, 0.8161845663235823, 0.7841511209677685, 0.5, 0.8007544342575807, 0.7603868201465456, 0.779779442842944, 0.8059589161474173, 0.5723477006085702, 0.8380233955276861, 0.8242807054692067]}, {\"categories\": [\"0\", \"1\", \"2\", \"3\", \"4\", \"5\", \"6\", \"7\", \"8\", \"9\", \"10\", \"11\", \"12\", \"13\", \"14\", \"15\", \"16\", \"17\", \"18\", \"19\", \"20\", \"21\", \"22\", \"23\", \"24\", \"25\", \"26\", \"27\", \"28\", \"29\", \"30\", \"31\", \"32\", \"33\", \"34\", \"35\", \"38\", \"39\"], \"mode\": \"lines\", \"name\": \"recall_score_macro_max\", \"stepped\": true, \"type\": \"scatter\", \"data\": [0.8077082895810014, 0.8130249020938379, 0.8240595654980666, 0.8240595654980666, 0.8240595654980666, 0.8240595654980666, 0.8240595654980666, 0.8240595654980666, 0.8240595654980666, 0.8240595654980666, 0.8240595654980666, 0.8240595654980666, 0.8240595654980666, 0.8240595654980666, 0.8240595654980666, 0.8240595654980666, 0.8240595654980666, 0.8240595654980666, 0.8240595654980666, 0.8240595654980666, 0.8240595654980666, 0.8240595654980666, 0.8240595654980666, 0.8240595654980666, 0.8240595654980666, 0.8240595654980666, 0.8240595654980666, 0.8240595654980666, 0.8240595654980666, 0.8240595654980666, 0.8240595654980666, 0.8240595654980666, 0.8240595654980666, 0.8240595654980666, 0.8240595654980666, 0.8240595654980666, 0.8380233955276861, 0.8380233955276861]}], \"f1_score_weighted\": [{\"categories\": [\"0\", \"1\", \"2\", \"3\", \"4\", \"5\", \"6\", \"7\", \"8\", \"9\", \"10\", \"11\", \"12\", \"13\", \"14\", \"15\", \"16\", \"17\", \"18\", \"19\", \"20\", \"21\", \"22\", \"23\", \"24\", \"25\", \"26\", \"27\", \"28\", \"29\", \"30\", \"31\", \"32\", \"33\", \"34\", \"35\", \"38\", \"39\"], \"mode\": \"markers\", \"name\": \"f1_score_weighted\", \"stepped\": false, \"type\": \"scatter\", \"data\": [0.8333388901455894, 0.8342588560383983, 0.8532323948366967, 0.8242588107214196, 0.8193287722505991, 0.7960087602225838, 0.685267715495593, 0.8182849428892383, 0.8268845927520065, 0.8353431131714999, 0.8413820090504102, 0.8263420407700537, 0.7958195704490614, 0.8459151495399425, 0.8395925776340063, 0.8169177397878812, 0.8255981585104607, 0.8444890292067422, 0.8323341032522762, 0.8330919162782356, 0.7803393404970617, 0.8132634517824846, 0.8326214844820397, 0.8418407106243672, 0.8371347374612668, 0.8236455159953397, 0.8228378700361446, 0.8377025491229627, 0.833472683994225, 0.7935504700026611, 0.5534120288954022, 0.8256975668164033, 0.8080979228611413, 0.8176633995446144, 0.8341644215726021, 0.6231573344664053, 0.867208487518185, 0.8534745263571137]}, {\"categories\": [\"0\", \"1\", \"2\", \"3\", \"4\", \"5\", \"6\", \"7\", \"8\", \"9\", \"10\", \"11\", \"12\", \"13\", \"14\", \"15\", \"16\", \"17\", \"18\", \"19\", \"20\", \"21\", \"22\", \"23\", \"24\", \"25\", \"26\", \"27\", \"28\", \"29\", \"30\", \"31\", \"32\", \"33\", \"34\", \"35\", \"38\", \"39\"], \"mode\": \"lines\", \"name\": \"f1_score_weighted_max\", \"stepped\": true, \"type\": \"scatter\", \"data\": [0.8333388901455894, 0.8342588560383983, 0.8532323948366967, 0.8532323948366967, 0.8532323948366967, 0.8532323948366967, 0.8532323948366967, 0.8532323948366967, 0.8532323948366967, 0.8532323948366967, 0.8532323948366967, 0.8532323948366967, 0.8532323948366967, 0.8532323948366967, 0.8532323948366967, 0.8532323948366967, 0.8532323948366967, 0.8532323948366967, 0.8532323948366967, 0.8532323948366967, 0.8532323948366967, 0.8532323948366967, 0.8532323948366967, 0.8532323948366967, 0.8532323948366967, 0.8532323948366967, 0.8532323948366967, 0.8532323948366967, 0.8532323948366967, 0.8532323948366967, 0.8532323948366967, 0.8532323948366967, 0.8532323948366967, 0.8532323948366967, 0.8532323948366967, 0.8532323948366967, 0.867208487518185, 0.867208487518185]}]}, \"metricName\": null, \"primaryMetricName\": \"accuracy\", \"showLegend\": false}, \"run_metrics\": [{\"name\": \"experiment_status\", \"run_id\": \"AutoML_78f226cc-243e-49aa-8e99-1054944e70a5\", \"categories\": [0, 1, 2, 3, 4, 5, 6, 7, 8, 9, 10, 11, 12, 13], \"series\": [{\"data\": [\"DatasetEvaluation\", \"FeaturesGeneration\", \"DatasetFeaturization\", \"DatasetFeaturizationCompleted\", \"DatasetCrossValidationSplit\", \"ModelSelection\", \"BestRunExplainModel\", \"ModelExplanationDataSetSetup\", \"PickSurrogateModel\", \"EngineeredFeatureExplanations\", \"EngineeredFeatureExplanations\", \"RawFeaturesExplanations\", \"RawFeaturesExplanations\", \"BestRunExplainModel\"]}]}, {\"name\": \"experiment_status_description\", \"run_id\": \"AutoML_78f226cc-243e-49aa-8e99-1054944e70a5\", \"categories\": [0, 1, 2, 3, 4, 5, 6, 7, 8, 9, 10, 11, 12, 13], \"series\": [{\"data\": [\"Gathering dataset statistics.\", \"Generating features for the dataset.\", \"Beginning to fit featurizers and featurize the dataset.\", \"Completed fit featurizers and featurizing the dataset.\", \"Generating individually featurized CV splits.\", \"Beginning model selection.\", \"Best run model explanations started\", \"Model explanations data setup completed\", \"Choosing LightGBM as the surrogate model for explanations\", \"Computation of engineered features started\", \"Computation of engineered features completed\", \"Computation of raw features started\", \"Computation of raw features completed\", \"Best run model explanations completed\"]}]}, {\"name\": \"norm_macro_recall\", \"run_id\": \"AutoML_78f226cc-243e-49aa-8e99-1054944e70a5\", \"categories\": [0], \"series\": [{\"data\": [0.6760467910553724]}]}, {\"name\": \"precision_score_macro\", \"run_id\": \"AutoML_78f226cc-243e-49aa-8e99-1054944e70a5\", \"categories\": [0], \"series\": [{\"data\": [0.8856083884333312]}]}, {\"name\": \"balanced_accuracy\", \"run_id\": \"AutoML_78f226cc-243e-49aa-8e99-1054944e70a5\", \"categories\": [0], \"series\": [{\"data\": [0.8380233955276861]}]}, {\"name\": \"average_precision_score_macro\", \"run_id\": \"AutoML_78f226cc-243e-49aa-8e99-1054944e70a5\", \"categories\": [0], \"series\": [{\"data\": [0.9031592480073918]}]}, {\"name\": \"recall_score_macro\", \"run_id\": \"AutoML_78f226cc-243e-49aa-8e99-1054944e70a5\", \"categories\": [0], \"series\": [{\"data\": [0.8380233955276861]}]}, {\"name\": \"recall_score_micro\", \"run_id\": \"AutoML_78f226cc-243e-49aa-8e99-1054944e70a5\", \"categories\": [0], \"series\": [{\"data\": [0.8729885057471265]}]}, {\"name\": \"average_precision_score_micro\", \"run_id\": \"AutoML_78f226cc-243e-49aa-8e99-1054944e70a5\", \"categories\": [0], \"series\": [{\"data\": [0.9221170540949295]}]}, {\"name\": \"log_loss\", \"run_id\": \"AutoML_78f226cc-243e-49aa-8e99-1054944e70a5\", \"categories\": [0], \"series\": [{\"data\": [0.38256486796358147]}]}, {\"name\": \"f1_score_macro\", \"run_id\": \"AutoML_78f226cc-243e-49aa-8e99-1054944e70a5\", \"categories\": [0], \"series\": [{\"data\": [0.8456672194389572]}]}, {\"name\": \"recall_score_weighted\", \"run_id\": \"AutoML_78f226cc-243e-49aa-8e99-1054944e70a5\", \"categories\": [0], \"series\": [{\"data\": [0.8729885057471265]}]}, {\"name\": \"weighted_accuracy\", \"run_id\": \"AutoML_78f226cc-243e-49aa-8e99-1054944e70a5\", \"categories\": [0], \"series\": [{\"data\": [0.8951217481694604]}]}, {\"name\": \"AUC_macro\", \"run_id\": \"AutoML_78f226cc-243e-49aa-8e99-1054944e70a5\", \"categories\": [0], \"series\": [{\"data\": [0.9163111808947049]}]}, {\"name\": \"AUC_micro\", \"run_id\": \"AutoML_78f226cc-243e-49aa-8e99-1054944e70a5\", \"categories\": [0], \"series\": [{\"data\": [0.9201483683445633]}]}, {\"name\": \"accuracy\", \"run_id\": \"AutoML_78f226cc-243e-49aa-8e99-1054944e70a5\", \"categories\": [0], \"series\": [{\"data\": [0.8729885057471265]}]}, {\"name\": \"f1_score_micro\", \"run_id\": \"AutoML_78f226cc-243e-49aa-8e99-1054944e70a5\", \"categories\": [0], \"series\": [{\"data\": [0.8729885057471265]}]}, {\"name\": \"precision_score_micro\", \"run_id\": \"AutoML_78f226cc-243e-49aa-8e99-1054944e70a5\", \"categories\": [0], \"series\": [{\"data\": [0.8729885057471265]}]}, {\"name\": \"AUC_weighted\", \"run_id\": \"AutoML_78f226cc-243e-49aa-8e99-1054944e70a5\", \"categories\": [0], \"series\": [{\"data\": [0.9163111808947049]}]}, {\"name\": \"precision_score_weighted\", \"run_id\": \"AutoML_78f226cc-243e-49aa-8e99-1054944e70a5\", \"categories\": [0], \"series\": [{\"data\": [0.8881739663385091]}]}, {\"name\": \"f1_score_weighted\", \"run_id\": \"AutoML_78f226cc-243e-49aa-8e99-1054944e70a5\", \"categories\": [0], \"series\": [{\"data\": [0.867208487518185]}]}, {\"name\": \"matthews_correlation\", \"run_id\": \"AutoML_78f226cc-243e-49aa-8e99-1054944e70a5\", \"categories\": [0], \"series\": [{\"data\": [0.7194256984354892]}]}, {\"name\": \"average_precision_score_weighted\", \"run_id\": \"AutoML_78f226cc-243e-49aa-8e99-1054944e70a5\", \"categories\": [0], \"series\": [{\"data\": [0.9265053844830646]}]}], \"run_logs\": \"\\nRun is completed.\", \"graph\": {}, \"widget_settings\": {\"childWidgetDisplay\": \"popup\", \"send_telemetry\": false, \"log_level\": \"INFO\", \"sdk_version\": \"1.20.0\"}, \"loading\": false}"
          },
          "metadata": {}
        }
      ],
      "execution_count": 11,
      "metadata": {
        "gather": {
          "logged": 1613151489422
        },
        "jupyter": {
          "outputs_hidden": false,
          "source_hidden": false
        },
        "nteract": {
          "transient": {
            "deleting": false
          }
        }
      }
    },
    {
      "cell_type": "markdown",
      "source": [
        "## Best Model\n",
        "\n",
        "TODO: In the cell below, get the best model from the automl experiments and display all the properties of the model.\n",
        "\n"
      ],
      "metadata": {}
    },
    {
      "cell_type": "code",
      "source": [
        "best_run, fitted_model = remote_run.get_output()\n",
        "print(best_run)\n",
        "print(fitted_model)"
      ],
      "outputs": [
        {
          "output_type": "stream",
          "name": "stderr",
          "text": [
            "WARNING:root:The version of the SDK does not match the version the model was trained on.\n",
            "WARNING:root:The consistency in the result may not be guaranteed.\n",
            "WARNING:root:Package:azureml-automl-core, training version:1.21.0, current version:1.20.0\n",
            "Package:azureml-automl-runtime, training version:1.21.0, current version:1.20.0\n",
            "Package:azureml-core, training version:1.21.0.post1, current version:1.20.0\n",
            "Package:azureml-dataprep, training version:2.8.2, current version:2.7.3\n",
            "Package:azureml-dataprep-native, training version:28.0.0, current version:27.0.0\n",
            "Package:azureml-dataprep-rslex, training version:1.6.0, current version:1.5.0\n",
            "Package:azureml-dataset-runtime, training version:1.21.0, current version:1.20.0\n",
            "Package:azureml-defaults, training version:1.21.0, current version:1.20.0\n",
            "Package:azureml-interpret, training version:1.21.0, current version:1.20.0\n",
            "Package:azureml-pipeline-core, training version:1.21.0, current version:1.20.0\n",
            "Package:azureml-telemetry, training version:1.21.0, current version:1.20.0\n",
            "Package:azureml-train-automl-client, training version:1.21.0, current version:1.20.0\n",
            "Package:azureml-train-automl-runtime, training version:1.21.0, current version:1.20.0\n",
            "WARNING:root:Please ensure the version of your local conda dependencies match the version on which your model was trained in order to properly retrieve your model.\n"
          ]
        },
        {
          "output_type": "stream",
          "name": "stdout",
          "text": [
            "Run(Experiment: AutoML_heart,\n",
            "Id: AutoML_78f226cc-243e-49aa-8e99-1054944e70a5_38,\n",
            "Type: azureml.scriptrun,\n",
            "Status: Completed)\n",
            "Pipeline(memory=None,\n",
            "         steps=[('datatransformer',\n",
            "                 DataTransformer(enable_dnn=None, enable_feature_sweeping=None,\n",
            "                                 feature_sweeping_config=None,\n",
            "                                 feature_sweeping_timeout=None,\n",
            "                                 featurization_config=None, force_text_dnn=None,\n",
            "                                 is_cross_validation=None,\n",
            "                                 is_onnx_compatible=None, logger=None,\n",
            "                                 observer=None, task=None, working_dir=None)),\n",
            "                ('prefittedsoftvotingclassifier',...\n",
            "                                                                                                subsample=0.24789473684210528,\n",
            "                                                                                                subsample_for_bin=200000,\n",
            "                                                                                                subsample_freq=0,\n",
            "                                                                                                verbose=-10))],\n",
            "                                                                     verbose=False))],\n",
            "                                               flatten_transform=None,\n",
            "                                               weights=[0.06666666666666667,\n",
            "                                                        0.2,\n",
            "                                                        0.06666666666666667,\n",
            "                                                        0.13333333333333333,\n",
            "                                                        0.06666666666666667,\n",
            "                                                        0.06666666666666667,\n",
            "                                                        0.06666666666666667,\n",
            "                                                        0.13333333333333333,\n",
            "                                                        0.06666666666666667,\n",
            "                                                        0.06666666666666667,\n",
            "                                                        0.06666666666666667]))],\n",
            "         verbose=False)\n"
          ]
        }
      ],
      "execution_count": 12,
      "metadata": {
        "gather": {
          "logged": 1613151504882
        },
        "jupyter": {
          "outputs_hidden": false,
          "source_hidden": false
        },
        "nteract": {
          "transient": {
            "deleting": false
          }
        }
      }
    },
    {
      "cell_type": "code",
      "source": [
        "#TODO: Save the best model\n",
        "\n",
        "best_run.register_model(model_name = 'automl_best_model.pkl', model_path = '/outputs/model.pkl')\n",
        "\n",
        "import joblib\n",
        "\n",
        "joblib.dump(value= fitted_model, filename = './model_ML_fitted.joblib')"
      ],
      "outputs": [
        {
          "output_type": "execute_result",
          "execution_count": 13,
          "data": {
            "text/plain": "['./model_ML_fitted.joblib']"
          },
          "metadata": {}
        }
      ],
      "execution_count": 13,
      "metadata": {
        "gather": {
          "logged": 1613151505717
        },
        "jupyter": {
          "outputs_hidden": false,
          "source_hidden": false
        },
        "nteract": {
          "transient": {
            "deleting": false
          }
        }
      }
    },
    {
      "cell_type": "markdown",
      "source": [
        "## Model Deployment\n",
        "\n",
        "Remember you have to deploy only one of the two models you trained.. Perform the steps in the rest of this notebook only if you wish to deploy this model.\n",
        "\n",
        "TODO: In the cell below, register the model, create an inference config and deploy the model as a web service."
      ],
      "metadata": {}
    },
    {
      "cell_type": "code",
      "source": [
        "#best_run.download_file(constants.CONDA_ENV_FILE_PATH, 'myenv.yml')\r\n",
        "\r\n",
        "from azureml.core.environment import Environment\r\n",
        "from azureml.core.model import InferenceConfig\r\n",
        "\r\n",
        "env = Environment.get(ws, \"AzureML-AutoML\")\r\n",
        "for pip_package in [\"scikit-learn\"]:\r\n",
        "    env.python.conda_dependencies.add_pip_package(pip_package)\r\n",
        "\r\n",
        "#inference_config = InferenceConfig(entry_script='score.py',\r\n",
        "#                                    environment=env)\r\n",
        "\r\n"
      ],
      "outputs": [],
      "execution_count": 24,
      "metadata": {
        "collapsed": true,
        "jupyter": {
          "source_hidden": false,
          "outputs_hidden": false
        },
        "nteract": {
          "transient": {
            "deleting": false
          }
        },
        "gather": {
          "logged": 1613151598866
        }
      }
    },
    {
      "cell_type": "code",
      "source": [
        "best_run.properties['model_name']"
      ],
      "outputs": [
        {
          "output_type": "execute_result",
          "execution_count": 15,
          "data": {
            "text/plain": "'AutoML78f226cc238'"
          },
          "metadata": {}
        }
      ],
      "execution_count": 15,
      "metadata": {
        "collapsed": true,
        "jupyter": {
          "source_hidden": false,
          "outputs_hidden": false
        },
        "nteract": {
          "transient": {
            "deleting": false
          }
        },
        "gather": {
          "logged": 1613151506640
        }
      }
    },
    {
      "cell_type": "code",
      "source": [
        "#Model.get_model_path('model_ML_fitted.joblib')"
      ],
      "outputs": [],
      "execution_count": 23,
      "metadata": {
        "collapsed": true,
        "jupyter": {
          "source_hidden": false,
          "outputs_hidden": false
        },
        "nteract": {
          "transient": {
            "deleting": false
          }
        },
        "gather": {
          "logged": 1613151597169
        }
      }
    },
    {
      "cell_type": "code",
      "source": [
        "from azureml.core import Model\r\n",
        "from azureml.core.webservice import AciWebservice, Webservice\r\n",
        "import joblib\r\n",
        "##model = best_run.register_model(model_name='model_name', model_path='./outputs/model_name.pkl',\r\n",
        "  ##                     model_framework=Model.Framework.SCIKITLEARN)\r\n",
        "inference_config = InferenceConfig(entry_script='score.py',\r\n",
        "                                    environment=env)\r\n",
        "\r\n",
        "model = best_run.register_model(model_name = 'automl_best_model.pkl', model_path = './outputs/model.pkl', model_framework=Model.Framework.SCIKITLEARN )\r\n",
        "\r\n",
        "\r\n",
        "aci_config = AciWebservice.deploy_configuration(cpu_cores=1, memory_gb=2,\r\n",
        "                                                enable_app_insights=True, auth_enabled=False)  \r\n",
        "service_name =  'automl57'\r\n",
        "service = Model.deploy(ws, service_name, [model], inference_config, deployment_config=aci_config, overwrite=True)\r\n",
        "service.wait_for_deployment(show_output = True)\r\n",
        "print(service.get_logs())"
      ],
      "outputs": [
        {
          "output_type": "stream",
          "name": "stdout",
          "text": [
            "Tips: You can try get_logs(): https://aka.ms/debugimage#dockerlog or local deployment: https://aka.ms/debugimage#debug-locally to debug if deployment takes longer than 10 minutes.\n",
            "Running..............\n",
            "Succeeded\n",
            "ACI service creation operation finished, operation \"Succeeded\"\n",
            "2021-02-12T19:23:21,390194100+00:00 - gunicorn/run \n",
            "2021-02-12T19:23:21,392727000+00:00 - iot-server/run \n",
            "2021-02-12T19:23:21,402167500+00:00 - rsyslog/run \n",
            "2021-02-12T19:23:21,419443600+00:00 - nginx/run \n",
            "/usr/sbin/nginx: /azureml-envs/azureml_09ff55f546b313bb1ab136a466214499/lib/libcrypto.so.1.0.0: no version information available (required by /usr/sbin/nginx)\n",
            "/usr/sbin/nginx: /azureml-envs/azureml_09ff55f546b313bb1ab136a466214499/lib/libcrypto.so.1.0.0: no version information available (required by /usr/sbin/nginx)\n",
            "/usr/sbin/nginx: /azureml-envs/azureml_09ff55f546b313bb1ab136a466214499/lib/libssl.so.1.0.0: no version information available (required by /usr/sbin/nginx)\n",
            "/usr/sbin/nginx: /azureml-envs/azureml_09ff55f546b313bb1ab136a466214499/lib/libssl.so.1.0.0: no version information available (required by /usr/sbin/nginx)\n",
            "/usr/sbin/nginx: /azureml-envs/azureml_09ff55f546b313bb1ab136a466214499/lib/libssl.so.1.0.0: no version information available (required by /usr/sbin/nginx)\n",
            "rsyslogd: /azureml-envs/azureml_09ff55f546b313bb1ab136a466214499/lib/libuuid.so.1: no version information available (required by rsyslogd)\n",
            "EdgeHubConnectionString and IOTEDGE_IOTHUBHOSTNAME are not set. Exiting...\n",
            "2021-02-12T19:23:22,633906800+00:00 - iot-server/finish 1 0\n",
            "2021-02-12T19:23:22,640329500+00:00 - Exit code 1 is normal. Not restarting iot-server.\n",
            "Starting gunicorn 19.9.0\n",
            "Listening at: http://127.0.0.1:31311 (68)\n",
            "Using worker: sync\n",
            "worker timeout is set to 300\n",
            "Booting worker with pid: 97\n",
            "SPARK_HOME not set. Skipping PySpark Initialization.\n",
            "Generating new fontManager, this may take some time...\n",
            "Initializing logger\n",
            "2021-02-12 19:23:30,549 | root | INFO | Starting up app insights client\n",
            "2021-02-12 19:23:30,550 | root | INFO | Starting up request id generator\n",
            "2021-02-12 19:23:30,551 | root | INFO | Starting up app insight hooks\n",
            "2021-02-12 19:23:30,551 | root | INFO | Invoking user's init function\n",
            "2021-02-12 19:23:39,878 | root | INFO | Users's init has completed successfully\n",
            "/azureml-envs/azureml_09ff55f546b313bb1ab136a466214499/lib/python3.6/site-packages/sklearn/externals/joblib/__init__.py:15: FutureWarning: sklearn.externals.joblib is deprecated in 0.21 and will be removed in 0.23. Please import this functionality directly from joblib, which can be installed with: pip install joblib. If this warning is raised when loading pickled models, you may need to re-serialize those models with scikit-learn 0.21+.\n",
            "  warnings.warn(msg, category=FutureWarning)\n",
            "2021-02-12 19:23:39,888 | root | INFO | Skipping middleware: dbg_model_info as it's not enabled.\n",
            "2021-02-12 19:23:39,888 | root | INFO | Skipping middleware: dbg_resource_usage as it's not enabled.\n",
            "2021-02-12 19:23:39,891 | root | INFO | Scoring timeout is found from os.environ: 60000 ms\n",
            "2021-02-12 19:23:39,905 | root | INFO | Swagger file not present\n",
            "2021-02-12 19:23:39,905 | root | INFO | 404\n",
            "127.0.0.1 - - [12/Feb/2021:19:23:39 +0000] \"GET /swagger.json HTTP/1.0\" 404 19 \"-\" \"Go-http-client/1.1\"\n",
            "2021-02-12 19:23:41,469 | root | INFO | Swagger file not present\n",
            "2021-02-12 19:23:41,469 | root | INFO | 404\n",
            "127.0.0.1 - - [12/Feb/2021:19:23:41 +0000] \"GET /swagger.json HTTP/1.0\" 404 19 \"-\" \"Go-http-client/1.1\"\n",
            "\n"
          ]
        }
      ],
      "execution_count": 41,
      "metadata": {
        "gather": {
          "logged": 1613157821907
        },
        "jupyter": {
          "outputs_hidden": false,
          "source_hidden": false
        },
        "nteract": {
          "transient": {
            "deleting": false
          }
        }
      }
    },
    {
      "cell_type": "code",
      "source": [
        "#print(service.get_logs())"
      ],
      "outputs": [],
      "execution_count": null,
      "metadata": {
        "collapsed": true,
        "jupyter": {
          "source_hidden": false,
          "outputs_hidden": false
        },
        "nteract": {
          "transient": {
            "deleting": false
          }
        },
        "gather": {
          "logged": 1612195235509
        }
      }
    },
    {
      "cell_type": "markdown",
      "source": [
        "TODO: In the cell below, send a request to the web service you deployed to test it."
      ],
      "metadata": {
        "collapsed": true,
        "gather": {
          "logged": 1598431657736
        },
        "jupyter": {
          "outputs_hidden": false,
          "source_hidden": false
        },
        "nteract": {
          "transient": {
            "deleting": false
          }
        }
      }
    },
    {
      "cell_type": "code",
      "source": [
        "import requests\r\n",
        "import json\r\n",
        "# URL for the web service, should be similar to:\r\n",
        "# 'http://8530a665-66f3-49c8-a953-b82a2d312917.eastus.azurecontainer.io/score'\r\n",
        "scoring_uri = service.scoring_uri\r\n",
        "# If the service is authenticated, set the key or token\r\n",
        "#key = ''\r\n",
        "\r\n",
        "# Two sets of data to score, so we get two results back\r\n",
        "data = {\"data\":\r\n",
        "        [\r\n",
        "          {\r\n",
        "           \"age\": 75, \r\n",
        "           \"anaemia\": 0, \r\n",
        "           \"creatinine_phosphokinase\": 582, \r\n",
        "           \"diabetes\": 0, \r\n",
        "           \"ejection_fraction\": 20, \r\n",
        "           \"high_blood_pressure\": 1, \r\n",
        "           \"platelets\": 265000, \r\n",
        "           \"serum_creatinine\": 1.9, \r\n",
        "           \"serum_sodium\": 130, \r\n",
        "           \"sex\": 1, \r\n",
        "           \"smoking\": 0,\r\n",
        "           \"time\": 4\r\n",
        "          },\r\n",
        "          \r\n",
        "      ]\r\n",
        "    }"
      ],
      "outputs": [],
      "execution_count": 43,
      "metadata": {
        "gather": {
          "logged": 1613157867434
        },
        "jupyter": {
          "outputs_hidden": false,
          "source_hidden": false
        },
        "nteract": {
          "transient": {
            "deleting": false
          }
        }
      }
    },
    {
      "cell_type": "code",
      "source": [
        "# Convert to JSON string\r\n",
        "input_data = json.dumps(data)\r\n",
        "with open(\"data.json\", \"w\") as _f:\r\n",
        "    _f.write(input_data)\r\n",
        "# Set the content type\r\n",
        "headers = {'Content-Type': 'application/json'}\r\n",
        "# If authentication is enabled, set the authorization header\r\n",
        "#headers['Authorization'] = f'Bearer {key}'\r\n",
        "# Make the request and display the response\r\n",
        "resp = requests.post(scoring_uri, input_data, headers=headers)\r\n",
        "print(resp.json())"
      ],
      "outputs": [
        {
          "output_type": "stream",
          "name": "stdout",
          "text": [
            "[1]\n"
          ]
        }
      ],
      "execution_count": 44,
      "metadata": {
        "collapsed": true,
        "jupyter": {
          "source_hidden": false,
          "outputs_hidden": false
        },
        "nteract": {
          "transient": {
            "deleting": false
          }
        },
        "gather": {
          "logged": 1613157873228
        }
      }
    },
    {
      "cell_type": "code",
      "source": [
        "resp\r\n"
      ],
      "outputs": [
        {
          "output_type": "execute_result",
          "execution_count": 34,
          "data": {
            "text/plain": "<Response [200]>"
          },
          "metadata": {}
        }
      ],
      "execution_count": 34,
      "metadata": {
        "collapsed": true,
        "jupyter": {
          "source_hidden": false,
          "outputs_hidden": false
        },
        "nteract": {
          "transient": {
            "deleting": false
          }
        },
        "gather": {
          "logged": 1613156478052
        }
      }
    },
    {
      "cell_type": "markdown",
      "source": [
        "TODO: In the cell below, print the logs of the web service and delete the service"
      ],
      "metadata": {
        "collapsed": true,
        "gather": {
          "logged": 1598432765711
        },
        "jupyter": {
          "outputs_hidden": false,
          "source_hidden": false
        },
        "nteract": {
          "transient": {
            "deleting": false
          }
        }
      }
    },
    {
      "cell_type": "code",
      "source": [
        "service.delete()\r\n",
        "model.delete()"
      ],
      "outputs": [],
      "execution_count": null,
      "metadata": {
        "jupyter": {
          "outputs_hidden": false,
          "source_hidden": false
        },
        "nteract": {
          "transient": {
            "deleting": false
          }
        }
      }
    }
  ],
  "metadata": {
    "kernel_info": {
      "name": "python3"
    },
    "kernelspec": {
      "name": "python3",
      "language": "python",
      "display_name": "Python 3"
    },
    "language_info": {
      "name": "python",
      "version": "3.6.9",
      "mimetype": "text/x-python",
      "codemirror_mode": {
        "name": "ipython",
        "version": 3
      },
      "pygments_lexer": "ipython3",
      "nbconvert_exporter": "python",
      "file_extension": ".py"
    },
    "nteract": {
      "version": "nteract-front-end@1.0.0"
    }
  },
  "nbformat": 4,
  "nbformat_minor": 2
}