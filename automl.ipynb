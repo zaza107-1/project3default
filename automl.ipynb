{
  "cells": [
    {
      "cell_type": "markdown",
      "source": [
        "# Automated ML\n",
        "\n",
        "TODO: Import Dependencies. In the cell below, import all the dependencies that you will need to complete the project."
      ],
      "metadata": {}
    },
    {
      "cell_type": "code",
      "source": [
        "import logging\n",
        "import os\n",
        "import csv\n",
        "\n",
        "from matplotlib import pyplot as plt\n",
        "import numpy as np\n",
        "import pandas as pd\n",
        "import pkg_resources\n",
        "\n",
        "import azureml.core\n",
        "from azureml.core.experiment import Experiment\n",
        "from azureml.core.workspace import Workspace\n",
        "from azureml.train.automl import AutoMLConfig\n",
        "from azureml.core.dataset import Dataset\n",
        "from azureml.data.dataset_factory import TabularDatasetFactory\n",
        "\n",
        "\n",
        "# Check core SDK version number\n",
        "print(\"SDK version:\", azureml.core.VERSION)"
      ],
      "outputs": [
        {
          "output_type": "stream",
          "name": "stdout",
          "text": [
            "SDK version: 1.20.0\n"
          ]
        }
      ],
      "execution_count": 1,
      "metadata": {
        "gather": {
          "logged": 1613131871349
        },
        "jupyter": {
          "outputs_hidden": false,
          "source_hidden": false
        },
        "nteract": {
          "transient": {
            "deleting": false
          }
        }
      }
    },
    {
      "cell_type": "markdown",
      "source": [
        "## Dataset\n",
        "\n",
        "### Overview\n",
        "TODO: In this markdown cell, give an overview of the dataset you are using. Also mention the task you will be performing.\n",
        "\n",
        "\n",
        "TODO: Get data. In the cell below, write code to access the data you will be using in this project. Remember that the dataset needs to be external."
      ],
      "metadata": {}
    },
    {
      "cell_type": "code",
      "source": [
        "from azureml.data.dataset_factory import TabularDatasetFactory\n",
        "\n",
        "# Create TabularDataset using TabularDatasetFactory\n",
        "\n",
        "### YOUR CODE HERE ###\n",
        "from azureml.core.dataset import Dataset\n",
        "##url = 'https://archive.ics.uci.edu/ml/machine-learning-databases/00519/heart_failure_clinical_records_dataset.csv'\n",
        "##dataset2 = TabularDatasetFactory.from_delimited_files(path = url)\n",
        "###ds2 = dataset2.to_pandas_dataframe() ### YOUR CODE HERE ###\n",
        "\n",
        "url = 'https://raw.githubusercontent.com/zaza107-1/nd00333-capstone/master/heart_failure_clinical_records_dataset.csv'\n",
        "dataset = Dataset.Tabular.from_delimited_files(path=url)\n",
        "ds = dataset.to_pandas_dataframe()\n",
        "\n",
        "ds.describe()"
      ],
      "outputs": [
        {
          "output_type": "execute_result",
          "execution_count": 2,
          "data": {
            "text/plain": "              age     anaemia  creatinine_phosphokinase    diabetes  \\\ncount  299.000000  299.000000                299.000000  299.000000   \nmean    60.833893    0.431438                581.839465    0.418060   \nstd     11.894809    0.496107                970.287881    0.494067   \nmin     40.000000    0.000000                 23.000000    0.000000   \n25%     51.000000    0.000000                116.500000    0.000000   \n50%     60.000000    0.000000                250.000000    0.000000   \n75%     70.000000    1.000000                582.000000    1.000000   \nmax     95.000000    1.000000               7861.000000    1.000000   \n\n       ejection_fraction  high_blood_pressure      platelets  \\\ncount         299.000000           299.000000     299.000000   \nmean           38.083612             0.351171  263358.029264   \nstd            11.834841             0.478136   97804.236869   \nmin            14.000000             0.000000   25100.000000   \n25%            30.000000             0.000000  212500.000000   \n50%            38.000000             0.000000  262000.000000   \n75%            45.000000             1.000000  303500.000000   \nmax            80.000000             1.000000  850000.000000   \n\n       serum_creatinine  serum_sodium         sex    smoking        time  \\\ncount         299.00000    299.000000  299.000000  299.00000  299.000000   \nmean            1.39388    136.625418    0.648829    0.32107  130.260870   \nstd             1.03451      4.412477    0.478136    0.46767   77.614208   \nmin             0.50000    113.000000    0.000000    0.00000    4.000000   \n25%             0.90000    134.000000    0.000000    0.00000   73.000000   \n50%             1.10000    137.000000    1.000000    0.00000  115.000000   \n75%             1.40000    140.000000    1.000000    1.00000  203.000000   \nmax             9.40000    148.000000    1.000000    1.00000  285.000000   \n\n       DEATH_EVENT  \ncount    299.00000  \nmean       0.32107  \nstd        0.46767  \nmin        0.00000  \n25%        0.00000  \n50%        0.00000  \n75%        1.00000  \nmax        1.00000  ",
            "text/html": "<div>\n<style scoped>\n    .dataframe tbody tr th:only-of-type {\n        vertical-align: middle;\n    }\n\n    .dataframe tbody tr th {\n        vertical-align: top;\n    }\n\n    .dataframe thead th {\n        text-align: right;\n    }\n</style>\n<table border=\"1\" class=\"dataframe\">\n  <thead>\n    <tr style=\"text-align: right;\">\n      <th></th>\n      <th>age</th>\n      <th>anaemia</th>\n      <th>creatinine_phosphokinase</th>\n      <th>diabetes</th>\n      <th>ejection_fraction</th>\n      <th>high_blood_pressure</th>\n      <th>platelets</th>\n      <th>serum_creatinine</th>\n      <th>serum_sodium</th>\n      <th>sex</th>\n      <th>smoking</th>\n      <th>time</th>\n      <th>DEATH_EVENT</th>\n    </tr>\n  </thead>\n  <tbody>\n    <tr>\n      <th>count</th>\n      <td>299.000000</td>\n      <td>299.000000</td>\n      <td>299.000000</td>\n      <td>299.000000</td>\n      <td>299.000000</td>\n      <td>299.000000</td>\n      <td>299.000000</td>\n      <td>299.00000</td>\n      <td>299.000000</td>\n      <td>299.000000</td>\n      <td>299.00000</td>\n      <td>299.000000</td>\n      <td>299.00000</td>\n    </tr>\n    <tr>\n      <th>mean</th>\n      <td>60.833893</td>\n      <td>0.431438</td>\n      <td>581.839465</td>\n      <td>0.418060</td>\n      <td>38.083612</td>\n      <td>0.351171</td>\n      <td>263358.029264</td>\n      <td>1.39388</td>\n      <td>136.625418</td>\n      <td>0.648829</td>\n      <td>0.32107</td>\n      <td>130.260870</td>\n      <td>0.32107</td>\n    </tr>\n    <tr>\n      <th>std</th>\n      <td>11.894809</td>\n      <td>0.496107</td>\n      <td>970.287881</td>\n      <td>0.494067</td>\n      <td>11.834841</td>\n      <td>0.478136</td>\n      <td>97804.236869</td>\n      <td>1.03451</td>\n      <td>4.412477</td>\n      <td>0.478136</td>\n      <td>0.46767</td>\n      <td>77.614208</td>\n      <td>0.46767</td>\n    </tr>\n    <tr>\n      <th>min</th>\n      <td>40.000000</td>\n      <td>0.000000</td>\n      <td>23.000000</td>\n      <td>0.000000</td>\n      <td>14.000000</td>\n      <td>0.000000</td>\n      <td>25100.000000</td>\n      <td>0.50000</td>\n      <td>113.000000</td>\n      <td>0.000000</td>\n      <td>0.00000</td>\n      <td>4.000000</td>\n      <td>0.00000</td>\n    </tr>\n    <tr>\n      <th>25%</th>\n      <td>51.000000</td>\n      <td>0.000000</td>\n      <td>116.500000</td>\n      <td>0.000000</td>\n      <td>30.000000</td>\n      <td>0.000000</td>\n      <td>212500.000000</td>\n      <td>0.90000</td>\n      <td>134.000000</td>\n      <td>0.000000</td>\n      <td>0.00000</td>\n      <td>73.000000</td>\n      <td>0.00000</td>\n    </tr>\n    <tr>\n      <th>50%</th>\n      <td>60.000000</td>\n      <td>0.000000</td>\n      <td>250.000000</td>\n      <td>0.000000</td>\n      <td>38.000000</td>\n      <td>0.000000</td>\n      <td>262000.000000</td>\n      <td>1.10000</td>\n      <td>137.000000</td>\n      <td>1.000000</td>\n      <td>0.00000</td>\n      <td>115.000000</td>\n      <td>0.00000</td>\n    </tr>\n    <tr>\n      <th>75%</th>\n      <td>70.000000</td>\n      <td>1.000000</td>\n      <td>582.000000</td>\n      <td>1.000000</td>\n      <td>45.000000</td>\n      <td>1.000000</td>\n      <td>303500.000000</td>\n      <td>1.40000</td>\n      <td>140.000000</td>\n      <td>1.000000</td>\n      <td>1.00000</td>\n      <td>203.000000</td>\n      <td>1.00000</td>\n    </tr>\n    <tr>\n      <th>max</th>\n      <td>95.000000</td>\n      <td>1.000000</td>\n      <td>7861.000000</td>\n      <td>1.000000</td>\n      <td>80.000000</td>\n      <td>1.000000</td>\n      <td>850000.000000</td>\n      <td>9.40000</td>\n      <td>148.000000</td>\n      <td>1.000000</td>\n      <td>1.00000</td>\n      <td>285.000000</td>\n      <td>1.00000</td>\n    </tr>\n  </tbody>\n</table>\n</div>"
          },
          "metadata": {}
        }
      ],
      "execution_count": 2,
      "metadata": {
        "gather": {
          "logged": 1613131878694
        }
      }
    },
    {
      "cell_type": "code",
      "source": [
        "ws = Workspace.from_config()\n",
        "\n",
        "# choose a name for experiment\n",
        "experiment_name = 'AutoML_heart'\n",
        "project_folder = '.'\n",
        "experiment=Experiment(ws, experiment_name)"
      ],
      "outputs": [
        {
          "output_type": "stream",
          "name": "stdout",
          "text": [
            "Performing interactive authentication. Please follow the instructions on the terminal.\n",
            "To sign in, use a web browser to open the page https://microsoft.com/devicelogin and enter the code A3J3UA4R4 to authenticate.\n",
            "You have logged in. Now let us find all the subscriptions to which you have access...\n",
            "Interactive authentication successfully completed.\n"
          ]
        }
      ],
      "execution_count": 3,
      "metadata": {
        "gather": {
          "logged": 1613131946023
        },
        "jupyter": {
          "outputs_hidden": false,
          "source_hidden": false
        },
        "nteract": {
          "transient": {
            "deleting": false
          }
        }
      }
    },
    {
      "cell_type": "code",
      "source": [
        "from azureml.core.compute import AmlCompute\n",
        "from azureml.core.compute import ComputeTarget\n",
        "from azureml.core.compute_target import ComputeTargetException\n",
        "\n",
        "# NOTE: update the cluster name to match the existing cluster\n",
        "# Choose a name for your CPU cluster\n",
        "amlcompute_cluster_name = \"auto-ml\"\n",
        "\n",
        "# Verify that cluster does not exist already\n",
        "try:\n",
        "    compute_target = ComputeTarget(workspace=ws, name=amlcompute_cluster_name)\n",
        "    print('Found existing cluster, use it.')\n",
        "except ComputeTargetException:\n",
        "    compute_config = AmlCompute.provisioning_configuration(vm_size='STANDARD_D2_V2',# for GPU, use \"STANDARD_NC6\"\n",
        "                                                           #vm_priority = 'lowpriority', # optional\n",
        "                                                           max_nodes=4)\n",
        "    compute_target = ComputeTarget.create(ws, amlcompute_cluster_name, compute_config)\n",
        "\n",
        "compute_target.wait_for_completion(show_output=True)\n",
        "# For a more detailed view of current AmlCompute status, use get_status()."
      ],
      "outputs": [
        {
          "output_type": "stream",
          "name": "stdout",
          "text": [
            "Found existing cluster, use it.\n",
            "\n",
            "Running\n"
          ]
        }
      ],
      "execution_count": 4,
      "metadata": {
        "gather": {
          "logged": 1613131951887
        }
      }
    },
    {
      "cell_type": "code",
      "source": [
        "from train2 import clean_data\r\n",
        "\r\n",
        "# Use the clean_data function to clean your data.\r\n",
        "x, y = clean_data(ds) ### your code###\r\n",
        "\r\n",
        "from sklearn.model_selection import train_test_split\r\n",
        "\r\n",
        "x_train, x_test, y_train, y_test = train_test_split(x, y, random_state=42, test_size=0.33)\r\n",
        "\r\n",
        "df_train = pd.concat([x_train, y_train], axis=1)"
      ],
      "outputs": [],
      "execution_count": 5,
      "metadata": {
        "collapsed": true,
        "jupyter": {
          "source_hidden": false,
          "outputs_hidden": false
        },
        "nteract": {
          "transient": {
            "deleting": false
          }
        },
        "gather": {
          "logged": 1613131953787
        }
      }
    },
    {
      "cell_type": "code",
      "source": [
        "df_train.describe()"
      ],
      "outputs": [
        {
          "output_type": "execute_result",
          "execution_count": 6,
          "data": {
            "text/plain": "              age     anaemia  creatinine_phosphokinase    diabetes  \\\ncount  200.000000  200.000000                200.000000  200.000000   \nmean    60.588335    0.420000                582.765000    0.395000   \nstd     11.287966    0.494797                944.276208    0.490077   \nmin     40.000000    0.000000                 23.000000    0.000000   \n25%     52.000000    0.000000                109.000000    0.000000   \n50%     60.000000    0.000000                244.500000    0.000000   \n75%     67.250000    1.000000                582.000000    1.000000   \nmax     95.000000    1.000000               7861.000000    1.000000   \n\n       ejection_fraction  high_blood_pressure      platelets  \\\ncount          200.00000           200.000000     200.000000   \nmean            38.59500             0.365000  260130.062100   \nstd             11.68003             0.482638   91079.331644   \nmin             20.00000             0.000000   62000.000000   \n25%             30.00000             0.000000  203000.000000   \n50%             38.00000             0.000000  256000.000000   \n75%             45.00000             1.000000  304250.000000   \nmax             80.00000             1.000000  621000.000000   \n\n       serum_creatinine  serum_sodium         sex     smoking        time  \\\ncount        200.000000    200.000000  200.000000  200.000000  200.000000   \nmean           1.385200    136.620000    0.635000    0.305000  133.735000   \nstd            1.019065      4.318431    0.482638    0.461563   77.612973   \nmin            0.500000    113.000000    0.000000    0.000000    4.000000   \n25%            0.900000    134.000000    0.000000    0.000000   78.750000   \n50%            1.100000    137.000000    1.000000    0.000000  119.500000   \n75%            1.400000    140.000000    1.000000    1.000000  206.250000   \nmax            9.000000    146.000000    1.000000    1.000000  285.000000   \n\n       DEATH_EVENT  \ncount   200.000000  \nmean      0.270000  \nstd       0.445074  \nmin       0.000000  \n25%       0.000000  \n50%       0.000000  \n75%       1.000000  \nmax       1.000000  ",
            "text/html": "<div>\n<style scoped>\n    .dataframe tbody tr th:only-of-type {\n        vertical-align: middle;\n    }\n\n    .dataframe tbody tr th {\n        vertical-align: top;\n    }\n\n    .dataframe thead th {\n        text-align: right;\n    }\n</style>\n<table border=\"1\" class=\"dataframe\">\n  <thead>\n    <tr style=\"text-align: right;\">\n      <th></th>\n      <th>age</th>\n      <th>anaemia</th>\n      <th>creatinine_phosphokinase</th>\n      <th>diabetes</th>\n      <th>ejection_fraction</th>\n      <th>high_blood_pressure</th>\n      <th>platelets</th>\n      <th>serum_creatinine</th>\n      <th>serum_sodium</th>\n      <th>sex</th>\n      <th>smoking</th>\n      <th>time</th>\n      <th>DEATH_EVENT</th>\n    </tr>\n  </thead>\n  <tbody>\n    <tr>\n      <th>count</th>\n      <td>200.000000</td>\n      <td>200.000000</td>\n      <td>200.000000</td>\n      <td>200.000000</td>\n      <td>200.00000</td>\n      <td>200.000000</td>\n      <td>200.000000</td>\n      <td>200.000000</td>\n      <td>200.000000</td>\n      <td>200.000000</td>\n      <td>200.000000</td>\n      <td>200.000000</td>\n      <td>200.000000</td>\n    </tr>\n    <tr>\n      <th>mean</th>\n      <td>60.588335</td>\n      <td>0.420000</td>\n      <td>582.765000</td>\n      <td>0.395000</td>\n      <td>38.59500</td>\n      <td>0.365000</td>\n      <td>260130.062100</td>\n      <td>1.385200</td>\n      <td>136.620000</td>\n      <td>0.635000</td>\n      <td>0.305000</td>\n      <td>133.735000</td>\n      <td>0.270000</td>\n    </tr>\n    <tr>\n      <th>std</th>\n      <td>11.287966</td>\n      <td>0.494797</td>\n      <td>944.276208</td>\n      <td>0.490077</td>\n      <td>11.68003</td>\n      <td>0.482638</td>\n      <td>91079.331644</td>\n      <td>1.019065</td>\n      <td>4.318431</td>\n      <td>0.482638</td>\n      <td>0.461563</td>\n      <td>77.612973</td>\n      <td>0.445074</td>\n    </tr>\n    <tr>\n      <th>min</th>\n      <td>40.000000</td>\n      <td>0.000000</td>\n      <td>23.000000</td>\n      <td>0.000000</td>\n      <td>20.00000</td>\n      <td>0.000000</td>\n      <td>62000.000000</td>\n      <td>0.500000</td>\n      <td>113.000000</td>\n      <td>0.000000</td>\n      <td>0.000000</td>\n      <td>4.000000</td>\n      <td>0.000000</td>\n    </tr>\n    <tr>\n      <th>25%</th>\n      <td>52.000000</td>\n      <td>0.000000</td>\n      <td>109.000000</td>\n      <td>0.000000</td>\n      <td>30.00000</td>\n      <td>0.000000</td>\n      <td>203000.000000</td>\n      <td>0.900000</td>\n      <td>134.000000</td>\n      <td>0.000000</td>\n      <td>0.000000</td>\n      <td>78.750000</td>\n      <td>0.000000</td>\n    </tr>\n    <tr>\n      <th>50%</th>\n      <td>60.000000</td>\n      <td>0.000000</td>\n      <td>244.500000</td>\n      <td>0.000000</td>\n      <td>38.00000</td>\n      <td>0.000000</td>\n      <td>256000.000000</td>\n      <td>1.100000</td>\n      <td>137.000000</td>\n      <td>1.000000</td>\n      <td>0.000000</td>\n      <td>119.500000</td>\n      <td>0.000000</td>\n    </tr>\n    <tr>\n      <th>75%</th>\n      <td>67.250000</td>\n      <td>1.000000</td>\n      <td>582.000000</td>\n      <td>1.000000</td>\n      <td>45.00000</td>\n      <td>1.000000</td>\n      <td>304250.000000</td>\n      <td>1.400000</td>\n      <td>140.000000</td>\n      <td>1.000000</td>\n      <td>1.000000</td>\n      <td>206.250000</td>\n      <td>1.000000</td>\n    </tr>\n    <tr>\n      <th>max</th>\n      <td>95.000000</td>\n      <td>1.000000</td>\n      <td>7861.000000</td>\n      <td>1.000000</td>\n      <td>80.00000</td>\n      <td>1.000000</td>\n      <td>621000.000000</td>\n      <td>9.000000</td>\n      <td>146.000000</td>\n      <td>1.000000</td>\n      <td>1.000000</td>\n      <td>285.000000</td>\n      <td>1.000000</td>\n    </tr>\n  </tbody>\n</table>\n</div>"
          },
          "metadata": {}
        }
      ],
      "execution_count": 6,
      "metadata": {
        "collapsed": true,
        "jupyter": {
          "source_hidden": false,
          "outputs_hidden": false
        },
        "nteract": {
          "transient": {
            "deleting": false
          }
        },
        "gather": {
          "logged": 1613131954183
        }
      }
    },
    {
      "cell_type": "markdown",
      "source": [
        "## AutoML Configuration\n",
        "\n",
        "TODO: Explain why you chose the automl settings and cofiguration you used below."
      ],
      "metadata": {}
    },
    {
      "cell_type": "code",
      "source": [
        "compute_target"
      ],
      "outputs": [
        {
          "output_type": "execute_result",
          "execution_count": 7,
          "data": {
            "text/plain": "{\n  \"id\": \"/subscriptions/d7f39349-a66b-446e-aba6-0053c2cf1c11/resourceGroups/aml-quickstarts-138680/providers/Microsoft.MachineLearningServices/workspaces/quick-starts-ws-138680/computes/auto-ml\",\n  \"name\": \"auto-ml\",\n  \"location\": \"southcentralus\",\n  \"tags\": null,\n  \"properties\": {\n    \"description\": null,\n    \"computeType\": \"ComputeInstance\",\n    \"computeLocation\": \"southcentralus\",\n    \"resourceId\": null,\n    \"provisioningErrors\": null,\n    \"provisioningState\": \"Succeeded\",\n    \"properties\": {\n      \"vmSize\": \"STANDARD_DS3_V2\",\n      \"applications\": [\n        {\n          \"displayName\": \"Jupyter\",\n          \"endpointUri\": \"https://auto-ml.southcentralus.instances.azureml.ms\"\n        },\n        {\n          \"displayName\": \"Jupyter Lab\",\n          \"endpointUri\": \"https://auto-ml.southcentralus.instances.azureml.ms/lab\"\n        },\n        {\n          \"displayName\": \"RStudio\",\n          \"endpointUri\": \"https://auto-ml-8787.southcentralus.instances.azureml.ms\"\n        }\n      ],\n      \"connectivityEndpoints\": {\n        \"publicIpAddress\": \"52.153.120.42\",\n        \"privateIpAddress\": \"10.0.0.4\"\n      },\n      \"sshSettings\": {\n        \"sshPublicAccess\": \"Disabled\",\n        \"adminUserName\": \"azureuser\",\n        \"adminPublicKey\": null,\n        \"sshPort\": 4000\n      },\n      \"personalComputeInstanceSettings\": null,\n      \"subnet\": {\n        \"id\": null\n      },\n      \"errors\": []\n    },\n    \"status\": {\n      \"errors\": [],\n      \"creationTime\": \"2021-02-12T12:06:58.215415+00:00\",\n      \"createdBy\": {\n        \"userObjectId\": \"a774efa8-676c-4da6-adfd-c8db1938ff1d\",\n        \"userTenantId\": \"660b3398-b80e-49d2-bc5b-ac1dc93b5254\",\n        \"userName\": \"ODL_User 138680\"\n      },\n      \"modifiedTime\": \"2021-02-12T12:09:29.811177+00:00\",\n      \"state\": \"Running\",\n      \"vmSize\": \"STANDARD_DS3_V2\"\n    }\n  }\n}",
            "text/html": "<table style=\"width:100%\"><tr><th>Name</th><th>Workspace</th><th>State</th><th>Location</th><th>VmSize</th><th>Application URI</th><th>Docs</th></tr><tr><td><a href=\"https://ml.azure.com/compute/auto-ml/details?wsid=/subscriptions/d7f39349-a66b-446e-aba6-0053c2cf1c11/resourcegroups/aml-quickstarts-138680/workspaces/quick-starts-ws-138680\" target=\"_blank\" rel=\"noopener\">auto-ml</a></td><td><a href=\"https://ml.azure.com?wsid=/subscriptions/d7f39349-a66b-446e-aba6-0053c2cf1c11/resourcegroups/aml-quickstarts-138680/workspaces/quick-starts-ws-138680\" target=\"_blank\" rel=\"noopener\">quick-starts-ws-138680</a></td><td>Running</td><td>southcentralus</td><td>STANDARD_DS3_V2</td><td><a href=\"https://auto-ml.southcentralus.instances.azureml.ms\" target=\"_blank\" rel=\"noopener\">Jupyter</a>  <a href=\"https://auto-ml.southcentralus.instances.azureml.ms/lab\" target=\"_blank\" rel=\"noopener\">JupyterLab</a>  <a href=\"https://auto-ml-8787.southcentralus.instances.azureml.ms\" target=\"_blank\" rel=\"noopener\">RStudio</a></td><td><a href=\"https://docs.microsoft.com/en-us/python/api/azureml-core/azureml.core.compute.computeinstance.ComputeInstance?view=azure-ml-py\" target=\"_blank\" rel=\"noopener\">Doc</a></td></tr></table>"
          },
          "metadata": {}
        }
      ],
      "execution_count": 7,
      "metadata": {
        "collapsed": true,
        "jupyter": {
          "source_hidden": false,
          "outputs_hidden": false
        },
        "nteract": {
          "transient": {
            "deleting": false
          }
        },
        "gather": {
          "logged": 1613131954433
        }
      }
    },
    {
      "cell_type": "code",
      "source": [
        "if 'training' not in os.listdir():\r\n",
        "    os.mkdir(\"./training\")"
      ],
      "outputs": [],
      "execution_count": 8,
      "metadata": {
        "collapsed": true,
        "jupyter": {
          "source_hidden": false,
          "outputs_hidden": false
        },
        "nteract": {
          "transient": {
            "deleting": false
          }
        },
        "gather": {
          "logged": 1613131954739
        }
      }
    },
    {
      "cell_type": "code",
      "source": [
        "# TODO: Put your automl settings here\n",
        "automl_settings = {\"experiment_timeout_minutes\": 15,\n",
        "                    \"max_concurrent_iterations\": 5,\n",
        "                    \"primary_metric\" : 'accuracy'}\n",
        "\n",
        "# TODO: Put your automl config here\n",
        "automl_config = AutoMLConfig(compute_target=compute_target,\n",
        "                             task = \"classification\",\n",
        "                             training_data=dataset,\n",
        "                             label_column_name=\"DEATH_EVENT\",   \n",
        "                             path = project_folder,\n",
        "                             enable_early_stopping= True,\n",
        "                             featurization= 'auto',\n",
        "                             debug_log = \"automl_errors.log\",\n",
        "                             **automl_settings)"
      ],
      "outputs": [],
      "execution_count": 9,
      "metadata": {
        "gather": {
          "logged": 1613131954969
        },
        "jupyter": {
          "outputs_hidden": false,
          "source_hidden": false
        },
        "nteract": {
          "transient": {
            "deleting": false
          }
        }
      }
    },
    {
      "cell_type": "code",
      "source": [
        "# TODO: Submit your experiment\n",
        "remote_run = experiment.submit(automl_config)\n",
        "\n",
        "remote_run.wait_for_completion()"
      ],
      "outputs": [
        {
          "output_type": "stream",
          "name": "stdout",
          "text": [
            "Running on remote.\n"
          ]
        },
        {
          "output_type": "execute_result",
          "execution_count": 10,
          "data": {
            "text/plain": "{'runId': 'AutoML_e88ad83d-9bb0-4623-bb48-b1a373de1485',\n 'target': 'auto-ml',\n 'status': 'Completed',\n 'startTimeUtc': '2021-02-12T12:12:55.602172Z',\n 'endTimeUtc': '2021-02-12T12:32:20.759603Z',\n 'properties': {'num_iterations': '1000',\n  'training_type': 'TrainFull',\n  'acquisition_function': 'EI',\n  'primary_metric': 'accuracy',\n  'train_split': '0',\n  'acquisition_parameter': '0',\n  'num_cross_validation': None,\n  'target': 'auto-ml',\n  'AMLSettingsJsonString': '{\"path\":null,\"name\":\"AutoML_heart\",\"subscription_id\":\"d7f39349-a66b-446e-aba6-0053c2cf1c11\",\"resource_group\":\"aml-quickstarts-138680\",\"workspace_name\":\"quick-starts-ws-138680\",\"region\":\"southcentralus\",\"compute_target\":\"auto-ml\",\"spark_service\":null,\"azure_service\":\"remote\",\"many_models\":false,\"pipeline_fetch_max_batch_size\":1,\"iterations\":1000,\"primary_metric\":\"accuracy\",\"task_type\":\"classification\",\"data_script\":null,\"validation_size\":0.0,\"n_cross_validations\":null,\"y_min\":null,\"y_max\":null,\"num_classes\":null,\"featurization\":\"auto\",\"_ignore_package_version_incompatibilities\":false,\"is_timeseries\":false,\"max_cores_per_iteration\":1,\"max_concurrent_iterations\":5,\"iteration_timeout_minutes\":null,\"mem_in_mb\":null,\"enforce_time_on_windows\":false,\"experiment_timeout_minutes\":15,\"experiment_exit_score\":null,\"whitelist_models\":null,\"blacklist_algos\":[\"TensorFlowLinearClassifier\",\"TensorFlowDNN\"],\"supported_models\":[\"LogisticRegression\",\"LinearSVM\",\"TensorFlowDNN\",\"AveragedPerceptronClassifier\",\"ExtremeRandomTrees\",\"SVM\",\"BernoulliNaiveBayes\",\"LightGBM\",\"DecisionTree\",\"TensorFlowLinearClassifier\",\"RandomForest\",\"SGD\",\"XGBoostClassifier\",\"MultinomialNaiveBayes\",\"KNN\",\"GradientBoosting\"],\"auto_blacklist\":true,\"blacklist_samples_reached\":false,\"exclude_nan_labels\":true,\"verbosity\":20,\"_debug_log\":\"azureml_automl.log\",\"show_warnings\":false,\"model_explainability\":true,\"service_url\":null,\"sdk_url\":null,\"sdk_packages\":null,\"enable_onnx_compatible_models\":false,\"enable_split_onnx_featurizer_estimator_models\":false,\"vm_type\":\"STANDARD_DS3_V2\",\"telemetry_verbosity\":20,\"send_telemetry\":true,\"enable_dnn\":false,\"scenario\":\"SDK-1.13.0\",\"environment_label\":null,\"force_text_dnn\":false,\"enable_feature_sweeping\":true,\"enable_early_stopping\":true,\"early_stopping_n_iters\":10,\"metrics\":null,\"enable_ensembling\":true,\"enable_stack_ensembling\":true,\"ensemble_iterations\":15,\"enable_tf\":false,\"enable_subsampling\":null,\"subsample_seed\":null,\"enable_nimbusml\":false,\"enable_streaming\":false,\"force_streaming\":false,\"track_child_runs\":true,\"allowed_private_models\":[],\"label_column_name\":\"DEATH_EVENT\",\"weight_column_name\":null,\"cv_split_column_names\":null,\"enable_local_managed\":false,\"_local_managed_run_id\":null,\"cost_mode\":1,\"lag_length\":0,\"metric_operation\":\"maximize\",\"preprocess\":true}',\n  'DataPrepJsonString': '{\\\\\"training_data\\\\\": \\\\\"{\\\\\\\\\\\\\"blocks\\\\\\\\\\\\\": [{\\\\\\\\\\\\\"id\\\\\\\\\\\\\": \\\\\\\\\\\\\"8ba35e71-4c91-4036-ab2d-3eb1e8e838bc\\\\\\\\\\\\\", \\\\\\\\\\\\\"type\\\\\\\\\\\\\": \\\\\\\\\\\\\"Microsoft.DPrep.GetFilesBlock\\\\\\\\\\\\\", \\\\\\\\\\\\\"arguments\\\\\\\\\\\\\": {\\\\\\\\\\\\\"isArchive\\\\\\\\\\\\\": false, \\\\\\\\\\\\\"path\\\\\\\\\\\\\": {\\\\\\\\\\\\\"target\\\\\\\\\\\\\": 4, \\\\\\\\\\\\\"resourceDetails\\\\\\\\\\\\\": [{\\\\\\\\\\\\\"path\\\\\\\\\\\\\": \\\\\\\\\\\\\"https://raw.githubusercontent.com/zaza107-1/nd00333-capstone/master/heart_failure_clinical_records_dataset.csv\\\\\\\\\\\\\"}]}}, \\\\\\\\\\\\\"localData\\\\\\\\\\\\\": {}, \\\\\\\\\\\\\"isEnabled\\\\\\\\\\\\\": true, \\\\\\\\\\\\\"name\\\\\\\\\\\\\": null, \\\\\\\\\\\\\"annotation\\\\\\\\\\\\\": null}, {\\\\\\\\\\\\\"id\\\\\\\\\\\\\": \\\\\\\\\\\\\"62521365-e9a5-4ef8-b6b8-5b1c1855cca3\\\\\\\\\\\\\", \\\\\\\\\\\\\"type\\\\\\\\\\\\\": \\\\\\\\\\\\\"Microsoft.DPrep.ParseDelimitedBlock\\\\\\\\\\\\\", \\\\\\\\\\\\\"arguments\\\\\\\\\\\\\": {\\\\\\\\\\\\\"columnHeadersMode\\\\\\\\\\\\\": 3, \\\\\\\\\\\\\"fileEncoding\\\\\\\\\\\\\": 0, \\\\\\\\\\\\\"handleQuotedLineBreaks\\\\\\\\\\\\\": false, \\\\\\\\\\\\\"preview\\\\\\\\\\\\\": false, \\\\\\\\\\\\\"separator\\\\\\\\\\\\\": \\\\\\\\\\\\\",\\\\\\\\\\\\\", \\\\\\\\\\\\\"skipRows\\\\\\\\\\\\\": 0, \\\\\\\\\\\\\"skipRowsMode\\\\\\\\\\\\\": 0}, \\\\\\\\\\\\\"localData\\\\\\\\\\\\\": {}, \\\\\\\\\\\\\"isEnabled\\\\\\\\\\\\\": true, \\\\\\\\\\\\\"name\\\\\\\\\\\\\": null, \\\\\\\\\\\\\"annotation\\\\\\\\\\\\\": null}, {\\\\\\\\\\\\\"id\\\\\\\\\\\\\": \\\\\\\\\\\\\"3fdcab7f-887b-4ff9-ae31-5d6ec04c1598\\\\\\\\\\\\\", \\\\\\\\\\\\\"type\\\\\\\\\\\\\": \\\\\\\\\\\\\"Microsoft.DPrep.DropColumnsBlock\\\\\\\\\\\\\", \\\\\\\\\\\\\"arguments\\\\\\\\\\\\\": {\\\\\\\\\\\\\"columns\\\\\\\\\\\\\": {\\\\\\\\\\\\\"type\\\\\\\\\\\\\": 0, \\\\\\\\\\\\\"details\\\\\\\\\\\\\": {\\\\\\\\\\\\\"selectedColumns\\\\\\\\\\\\\": [\\\\\\\\\\\\\"Path\\\\\\\\\\\\\"]}}}, \\\\\\\\\\\\\"localData\\\\\\\\\\\\\": {}, \\\\\\\\\\\\\"isEnabled\\\\\\\\\\\\\": true, \\\\\\\\\\\\\"name\\\\\\\\\\\\\": null, \\\\\\\\\\\\\"annotation\\\\\\\\\\\\\": null}, {\\\\\\\\\\\\\"id\\\\\\\\\\\\\": \\\\\\\\\\\\\"ea103696-9ce6-484c-a528-36df952e0515\\\\\\\\\\\\\", \\\\\\\\\\\\\"type\\\\\\\\\\\\\": \\\\\\\\\\\\\"Microsoft.DPrep.SetColumnTypesBlock\\\\\\\\\\\\\", \\\\\\\\\\\\\"arguments\\\\\\\\\\\\\": {\\\\\\\\\\\\\"columnConversion\\\\\\\\\\\\\": [{\\\\\\\\\\\\\"column\\\\\\\\\\\\\": {\\\\\\\\\\\\\"type\\\\\\\\\\\\\": 2, \\\\\\\\\\\\\"details\\\\\\\\\\\\\": {\\\\\\\\\\\\\"selectedColumn\\\\\\\\\\\\\": \\\\\\\\\\\\\"age\\\\\\\\\\\\\"}}, \\\\\\\\\\\\\"typeProperty\\\\\\\\\\\\\": 3}, {\\\\\\\\\\\\\"column\\\\\\\\\\\\\": {\\\\\\\\\\\\\"type\\\\\\\\\\\\\": 2, \\\\\\\\\\\\\"details\\\\\\\\\\\\\": {\\\\\\\\\\\\\"selectedColumn\\\\\\\\\\\\\": \\\\\\\\\\\\\"anaemia\\\\\\\\\\\\\"}}, \\\\\\\\\\\\\"typeProperty\\\\\\\\\\\\\": 2}, {\\\\\\\\\\\\\"column\\\\\\\\\\\\\": {\\\\\\\\\\\\\"type\\\\\\\\\\\\\": 2, \\\\\\\\\\\\\"details\\\\\\\\\\\\\": {\\\\\\\\\\\\\"selectedColumn\\\\\\\\\\\\\": \\\\\\\\\\\\\"creatinine_phosphokinase\\\\\\\\\\\\\"}}, \\\\\\\\\\\\\"typeProperty\\\\\\\\\\\\\": 2}, {\\\\\\\\\\\\\"column\\\\\\\\\\\\\": {\\\\\\\\\\\\\"type\\\\\\\\\\\\\": 2, \\\\\\\\\\\\\"details\\\\\\\\\\\\\": {\\\\\\\\\\\\\"selectedColumn\\\\\\\\\\\\\": \\\\\\\\\\\\\"diabetes\\\\\\\\\\\\\"}}, \\\\\\\\\\\\\"typeProperty\\\\\\\\\\\\\": 2}, {\\\\\\\\\\\\\"column\\\\\\\\\\\\\": {\\\\\\\\\\\\\"type\\\\\\\\\\\\\": 2, \\\\\\\\\\\\\"details\\\\\\\\\\\\\": {\\\\\\\\\\\\\"selectedColumn\\\\\\\\\\\\\": \\\\\\\\\\\\\"ejection_fraction\\\\\\\\\\\\\"}}, \\\\\\\\\\\\\"typeProperty\\\\\\\\\\\\\": 2}, {\\\\\\\\\\\\\"column\\\\\\\\\\\\\": {\\\\\\\\\\\\\"type\\\\\\\\\\\\\": 2, \\\\\\\\\\\\\"details\\\\\\\\\\\\\": {\\\\\\\\\\\\\"selectedColumn\\\\\\\\\\\\\": \\\\\\\\\\\\\"high_blood_pressure\\\\\\\\\\\\\"}}, \\\\\\\\\\\\\"typeProperty\\\\\\\\\\\\\": 2}, {\\\\\\\\\\\\\"column\\\\\\\\\\\\\": {\\\\\\\\\\\\\"type\\\\\\\\\\\\\": 2, \\\\\\\\\\\\\"details\\\\\\\\\\\\\": {\\\\\\\\\\\\\"selectedColumn\\\\\\\\\\\\\": \\\\\\\\\\\\\"platelets\\\\\\\\\\\\\"}}, \\\\\\\\\\\\\"typeProperty\\\\\\\\\\\\\": 3}, {\\\\\\\\\\\\\"column\\\\\\\\\\\\\": {\\\\\\\\\\\\\"type\\\\\\\\\\\\\": 2, \\\\\\\\\\\\\"details\\\\\\\\\\\\\": {\\\\\\\\\\\\\"selectedColumn\\\\\\\\\\\\\": \\\\\\\\\\\\\"serum_creatinine\\\\\\\\\\\\\"}}, \\\\\\\\\\\\\"typeProperty\\\\\\\\\\\\\": 3}, {\\\\\\\\\\\\\"column\\\\\\\\\\\\\": {\\\\\\\\\\\\\"type\\\\\\\\\\\\\": 2, \\\\\\\\\\\\\"details\\\\\\\\\\\\\": {\\\\\\\\\\\\\"selectedColumn\\\\\\\\\\\\\": \\\\\\\\\\\\\"serum_sodium\\\\\\\\\\\\\"}}, \\\\\\\\\\\\\"typeProperty\\\\\\\\\\\\\": 2}, {\\\\\\\\\\\\\"column\\\\\\\\\\\\\": {\\\\\\\\\\\\\"type\\\\\\\\\\\\\": 2, \\\\\\\\\\\\\"details\\\\\\\\\\\\\": {\\\\\\\\\\\\\"selectedColumn\\\\\\\\\\\\\": \\\\\\\\\\\\\"sex\\\\\\\\\\\\\"}}, \\\\\\\\\\\\\"typeProperty\\\\\\\\\\\\\": 2}, {\\\\\\\\\\\\\"column\\\\\\\\\\\\\": {\\\\\\\\\\\\\"type\\\\\\\\\\\\\": 2, \\\\\\\\\\\\\"details\\\\\\\\\\\\\": {\\\\\\\\\\\\\"selectedColumn\\\\\\\\\\\\\": \\\\\\\\\\\\\"smoking\\\\\\\\\\\\\"}}, \\\\\\\\\\\\\"typeProperty\\\\\\\\\\\\\": 2}, {\\\\\\\\\\\\\"column\\\\\\\\\\\\\": {\\\\\\\\\\\\\"type\\\\\\\\\\\\\": 2, \\\\\\\\\\\\\"details\\\\\\\\\\\\\": {\\\\\\\\\\\\\"selectedColumn\\\\\\\\\\\\\": \\\\\\\\\\\\\"time\\\\\\\\\\\\\"}}, \\\\\\\\\\\\\"typeProperty\\\\\\\\\\\\\": 2}, {\\\\\\\\\\\\\"column\\\\\\\\\\\\\": {\\\\\\\\\\\\\"type\\\\\\\\\\\\\": 2, \\\\\\\\\\\\\"details\\\\\\\\\\\\\": {\\\\\\\\\\\\\"selectedColumn\\\\\\\\\\\\\": \\\\\\\\\\\\\"DEATH_EVENT\\\\\\\\\\\\\"}}, \\\\\\\\\\\\\"typeProperty\\\\\\\\\\\\\": 2}]}, \\\\\\\\\\\\\"localData\\\\\\\\\\\\\": {}, \\\\\\\\\\\\\"isEnabled\\\\\\\\\\\\\": true, \\\\\\\\\\\\\"name\\\\\\\\\\\\\": null, \\\\\\\\\\\\\"annotation\\\\\\\\\\\\\": null}], \\\\\\\\\\\\\"inspectors\\\\\\\\\\\\\": [], \\\\\\\\\\\\\"meta\\\\\\\\\\\\\": {\\\\\\\\\\\\\"savedDatasetId\\\\\\\\\\\\\": \\\\\\\\\\\\\"eb0113ae-60e7-44c7-aa3e-7372f3d75242\\\\\\\\\\\\\", \\\\\\\\\\\\\"datasetType\\\\\\\\\\\\\": \\\\\\\\\\\\\"tabular\\\\\\\\\\\\\", \\\\\\\\\\\\\"subscriptionId\\\\\\\\\\\\\": \\\\\\\\\\\\\"d7f39349-a66b-446e-aba6-0053c2cf1c11\\\\\\\\\\\\\", \\\\\\\\\\\\\"workspaceId\\\\\\\\\\\\\": \\\\\\\\\\\\\"60f78bf9-b0ef-42a5-95ac-6e276c26092d\\\\\\\\\\\\\", \\\\\\\\\\\\\"workspaceLocation\\\\\\\\\\\\\": \\\\\\\\\\\\\"southcentralus\\\\\\\\\\\\\"}}\\\\\", \\\\\"activities\\\\\": 0}',\n  'EnableSubsampling': None,\n  'runTemplate': 'AutoML',\n  'azureml.runsource': 'automl',\n  'display_task_type': 'classification',\n  'dependencies_versions': '{\"azureml-widgets\": \"1.20.0\", \"azureml-train\": \"1.20.0\", \"azureml-train-restclients-hyperdrive\": \"1.20.0\", \"azureml-train-core\": \"1.20.0\", \"azureml-train-automl\": \"1.20.0\", \"azureml-train-automl-runtime\": \"1.20.0\", \"azureml-train-automl-client\": \"1.20.0\", \"azureml-tensorboard\": \"1.20.0\", \"azureml-telemetry\": \"1.20.0\", \"azureml-sdk\": \"1.20.0\", \"azureml-samples\": \"0+unknown\", \"azureml-pipeline\": \"1.20.0\", \"azureml-pipeline-steps\": \"1.20.0\", \"azureml-pipeline-core\": \"1.20.0\", \"azureml-opendatasets\": \"1.20.0\", \"azureml-model-management-sdk\": \"1.0.1b6.post1\", \"azureml-mlflow\": \"1.20.0.post1\", \"azureml-interpret\": \"1.20.0\", \"azureml-explain-model\": \"1.20.0\", \"azureml-defaults\": \"1.20.0\", \"azureml-dataset-runtime\": \"1.20.0\", \"azureml-dataprep\": \"2.7.3\", \"azureml-dataprep-rslex\": \"1.5.0\", \"azureml-dataprep-native\": \"27.0.0\", \"azureml-datadrift\": \"1.20.0\", \"azureml-core\": \"1.20.0\", \"azureml-contrib-services\": \"1.20.0\", \"azureml-contrib-server\": \"1.20.0\", \"azureml-contrib-reinforcementlearning\": \"1.20.0\", \"azureml-contrib-pipeline-steps\": \"1.20.0\", \"azureml-contrib-notebook\": \"1.20.0\", \"azureml-contrib-interpret\": \"1.20.0\", \"azureml-contrib-gbdt\": \"1.20.0\", \"azureml-contrib-fairness\": \"1.20.0\", \"azureml-contrib-dataset\": \"1.20.0\", \"azureml-cli-common\": \"1.20.0\", \"azureml-automl-runtime\": \"1.20.0\", \"azureml-automl-core\": \"1.20.0\", \"azureml-accel-models\": \"1.20.0\"}',\n  '_aml_system_scenario_identification': 'Remote.Parent',\n  'ClientType': 'SDK',\n  'environment_cpu_name': 'AzureML-AutoML',\n  'environment_cpu_label': 'prod',\n  'environment_gpu_name': 'AzureML-AutoML-GPU',\n  'environment_gpu_label': 'prod',\n  'root_attribution': 'automl',\n  'attribution': 'AutoML',\n  'Orchestrator': 'AutoML',\n  'CancelUri': 'https://southcentralus.experiments.azureml.net/jasmine/v1.0/subscriptions/d7f39349-a66b-446e-aba6-0053c2cf1c11/resourceGroups/aml-quickstarts-138680/providers/Microsoft.MachineLearningServices/workspaces/quick-starts-ws-138680/experimentids/a23ad090-30ce-4104-9651-cb17a03b8d66/cancel/AutoML_e88ad83d-9bb0-4623-bb48-b1a373de1485',\n  'ClientSdkVersion': '1.21.0',\n  'snapshotId': '00000000-0000-0000-0000-000000000000',\n  'SetupRunId': 'AutoML_e88ad83d-9bb0-4623-bb48-b1a373de1485_setup',\n  'SetupRunContainerId': 'dcid.AutoML_e88ad83d-9bb0-4623-bb48-b1a373de1485_setup',\n  'FeaturizationRunJsonPath': 'featurizer_container.json',\n  'FeaturizationRunId': 'AutoML_e88ad83d-9bb0-4623-bb48-b1a373de1485_featurize',\n  'ProblemInfoJsonString': '{\"dataset_num_categorical\": 0, \"is_sparse\": false, \"subsampling\": false, \"dataset_classes\": 2, \"dataset_features\": 12, \"dataset_samples\": 299, \"single_frequency_class_detected\": false}',\n  'ModelExplainRunId': 'AutoML_e88ad83d-9bb0-4623-bb48-b1a373de1485_ModelExplain'},\n 'inputDatasets': [{'dataset': {'id': 'eb0113ae-60e7-44c7-aa3e-7372f3d75242'}, 'consumptionDetails': {'type': 'RunInput', 'inputName': 'training_data', 'mechanism': 'Direct'}}],\n 'outputDatasets': [],\n 'logFiles': {},\n 'submittedBy': 'ODL_User 138680'}"
          },
          "metadata": {}
        }
      ],
      "execution_count": 10,
      "metadata": {
        "gather": {
          "logged": 1613133144071
        },
        "jupyter": {
          "outputs_hidden": false,
          "source_hidden": false
        },
        "nteract": {
          "transient": {
            "deleting": false
          }
        }
      }
    },
    {
      "cell_type": "markdown",
      "source": [
        "## Run Details\n",
        "\n",
        "OPTIONAL: Write about the different models trained and their performance. Why do you think some models did better than others?\n",
        "\n",
        "TODO: In the cell below, use the `RunDetails` widget to show the different experiments."
      ],
      "metadata": {}
    },
    {
      "cell_type": "code",
      "source": [
        "from azureml.widgets import RunDetails\n",
        "RunDetails(remote_run).show()"
      ],
      "outputs": [
        {
          "output_type": "display_data",
          "data": {
            "text/plain": "_AutoMLWidget(widget_settings={'childWidgetDisplay': 'popup', 'send_telemetry': False, 'log_level': 'INFO', 's…",
            "application/vnd.jupyter.widget-view+json": {
              "version_major": 2,
              "version_minor": 0,
              "model_id": "4578a5fc8e4c4339822d39a857bc64d3"
            }
          },
          "metadata": {}
        },
        {
          "output_type": "display_data",
          "data": {
            "application/aml.mini.widget.v1": "{\"status\": \"Completed\", \"workbench_run_details_uri\": \"https://ml.azure.com/experiments/AutoML_heart/runs/AutoML_e88ad83d-9bb0-4623-bb48-b1a373de1485?wsid=/subscriptions/d7f39349-a66b-446e-aba6-0053c2cf1c11/resourcegroups/aml-quickstarts-138680/workspaces/quick-starts-ws-138680\", \"run_id\": \"AutoML_e88ad83d-9bb0-4623-bb48-b1a373de1485\", \"run_properties\": {\"run_id\": \"AutoML_e88ad83d-9bb0-4623-bb48-b1a373de1485\", \"created_utc\": \"2021-02-12T12:12:37.537704Z\", \"properties\": {\"num_iterations\": \"1000\", \"training_type\": \"TrainFull\", \"acquisition_function\": \"EI\", \"primary_metric\": \"accuracy\", \"train_split\": \"0\", \"acquisition_parameter\": \"0\", \"num_cross_validation\": null, \"target\": \"auto-ml\", \"AMLSettingsJsonString\": \"{\\\"path\\\":null,\\\"name\\\":\\\"AutoML_heart\\\",\\\"subscription_id\\\":\\\"d7f39349-a66b-446e-aba6-0053c2cf1c11\\\",\\\"resource_group\\\":\\\"aml-quickstarts-138680\\\",\\\"workspace_name\\\":\\\"quick-starts-ws-138680\\\",\\\"region\\\":\\\"southcentralus\\\",\\\"compute_target\\\":\\\"auto-ml\\\",\\\"spark_service\\\":null,\\\"azure_service\\\":\\\"remote\\\",\\\"many_models\\\":false,\\\"pipeline_fetch_max_batch_size\\\":1,\\\"iterations\\\":1000,\\\"primary_metric\\\":\\\"accuracy\\\",\\\"task_type\\\":\\\"classification\\\",\\\"data_script\\\":null,\\\"validation_size\\\":0.0,\\\"n_cross_validations\\\":null,\\\"y_min\\\":null,\\\"y_max\\\":null,\\\"num_classes\\\":null,\\\"featurization\\\":\\\"auto\\\",\\\"_ignore_package_version_incompatibilities\\\":false,\\\"is_timeseries\\\":false,\\\"max_cores_per_iteration\\\":1,\\\"max_concurrent_iterations\\\":5,\\\"iteration_timeout_minutes\\\":null,\\\"mem_in_mb\\\":null,\\\"enforce_time_on_windows\\\":false,\\\"experiment_timeout_minutes\\\":15,\\\"experiment_exit_score\\\":null,\\\"whitelist_models\\\":null,\\\"blacklist_algos\\\":[\\\"TensorFlowLinearClassifier\\\",\\\"TensorFlowDNN\\\"],\\\"supported_models\\\":[\\\"LogisticRegression\\\",\\\"LinearSVM\\\",\\\"TensorFlowDNN\\\",\\\"AveragedPerceptronClassifier\\\",\\\"ExtremeRandomTrees\\\",\\\"SVM\\\",\\\"BernoulliNaiveBayes\\\",\\\"LightGBM\\\",\\\"DecisionTree\\\",\\\"TensorFlowLinearClassifier\\\",\\\"RandomForest\\\",\\\"SGD\\\",\\\"XGBoostClassifier\\\",\\\"MultinomialNaiveBayes\\\",\\\"KNN\\\",\\\"GradientBoosting\\\"],\\\"auto_blacklist\\\":true,\\\"blacklist_samples_reached\\\":false,\\\"exclude_nan_labels\\\":true,\\\"verbosity\\\":20,\\\"_debug_log\\\":\\\"azureml_automl.log\\\",\\\"show_warnings\\\":false,\\\"model_explainability\\\":true,\\\"service_url\\\":null,\\\"sdk_url\\\":null,\\\"sdk_packages\\\":null,\\\"enable_onnx_compatible_models\\\":false,\\\"enable_split_onnx_featurizer_estimator_models\\\":false,\\\"vm_type\\\":\\\"STANDARD_DS3_V2\\\",\\\"telemetry_verbosity\\\":20,\\\"send_telemetry\\\":true,\\\"enable_dnn\\\":false,\\\"scenario\\\":\\\"SDK-1.13.0\\\",\\\"environment_label\\\":null,\\\"force_text_dnn\\\":false,\\\"enable_feature_sweeping\\\":true,\\\"enable_early_stopping\\\":true,\\\"early_stopping_n_iters\\\":10,\\\"metrics\\\":null,\\\"enable_ensembling\\\":true,\\\"enable_stack_ensembling\\\":true,\\\"ensemble_iterations\\\":15,\\\"enable_tf\\\":false,\\\"enable_subsampling\\\":null,\\\"subsample_seed\\\":null,\\\"enable_nimbusml\\\":false,\\\"enable_streaming\\\":false,\\\"force_streaming\\\":false,\\\"track_child_runs\\\":true,\\\"allowed_private_models\\\":[],\\\"label_column_name\\\":\\\"DEATH_EVENT\\\",\\\"weight_column_name\\\":null,\\\"cv_split_column_names\\\":null,\\\"enable_local_managed\\\":false,\\\"_local_managed_run_id\\\":null,\\\"cost_mode\\\":1,\\\"lag_length\\\":0,\\\"metric_operation\\\":\\\"maximize\\\",\\\"preprocess\\\":true}\", \"DataPrepJsonString\": \"{\\\\\\\"training_data\\\\\\\": \\\\\\\"{\\\\\\\\\\\\\\\"blocks\\\\\\\\\\\\\\\": [{\\\\\\\\\\\\\\\"id\\\\\\\\\\\\\\\": \\\\\\\\\\\\\\\"8ba35e71-4c91-4036-ab2d-3eb1e8e838bc\\\\\\\\\\\\\\\", \\\\\\\\\\\\\\\"type\\\\\\\\\\\\\\\": \\\\\\\\\\\\\\\"Microsoft.DPrep.GetFilesBlock\\\\\\\\\\\\\\\", \\\\\\\\\\\\\\\"arguments\\\\\\\\\\\\\\\": {\\\\\\\\\\\\\\\"isArchive\\\\\\\\\\\\\\\": false, \\\\\\\\\\\\\\\"path\\\\\\\\\\\\\\\": {\\\\\\\\\\\\\\\"target\\\\\\\\\\\\\\\": 4, \\\\\\\\\\\\\\\"resourceDetails\\\\\\\\\\\\\\\": [{\\\\\\\\\\\\\\\"path\\\\\\\\\\\\\\\": \\\\\\\\\\\\\\\"https://raw.githubusercontent.com/zaza107-1/nd00333-capstone/master/heart_failure_clinical_records_dataset.csv\\\\\\\\\\\\\\\"}]}}, \\\\\\\\\\\\\\\"localData\\\\\\\\\\\\\\\": {}, \\\\\\\\\\\\\\\"isEnabled\\\\\\\\\\\\\\\": true, \\\\\\\\\\\\\\\"name\\\\\\\\\\\\\\\": null, \\\\\\\\\\\\\\\"annotation\\\\\\\\\\\\\\\": null}, {\\\\\\\\\\\\\\\"id\\\\\\\\\\\\\\\": \\\\\\\\\\\\\\\"62521365-e9a5-4ef8-b6b8-5b1c1855cca3\\\\\\\\\\\\\\\", \\\\\\\\\\\\\\\"type\\\\\\\\\\\\\\\": \\\\\\\\\\\\\\\"Microsoft.DPrep.ParseDelimitedBlock\\\\\\\\\\\\\\\", \\\\\\\\\\\\\\\"arguments\\\\\\\\\\\\\\\": {\\\\\\\\\\\\\\\"columnHeadersMode\\\\\\\\\\\\\\\": 3, \\\\\\\\\\\\\\\"fileEncoding\\\\\\\\\\\\\\\": 0, \\\\\\\\\\\\\\\"handleQuotedLineBreaks\\\\\\\\\\\\\\\": false, \\\\\\\\\\\\\\\"preview\\\\\\\\\\\\\\\": false, \\\\\\\\\\\\\\\"separator\\\\\\\\\\\\\\\": \\\\\\\\\\\\\\\",\\\\\\\\\\\\\\\", \\\\\\\\\\\\\\\"skipRows\\\\\\\\\\\\\\\": 0, \\\\\\\\\\\\\\\"skipRowsMode\\\\\\\\\\\\\\\": 0}, \\\\\\\\\\\\\\\"localData\\\\\\\\\\\\\\\": {}, \\\\\\\\\\\\\\\"isEnabled\\\\\\\\\\\\\\\": true, \\\\\\\\\\\\\\\"name\\\\\\\\\\\\\\\": null, \\\\\\\\\\\\\\\"annotation\\\\\\\\\\\\\\\": null}, {\\\\\\\\\\\\\\\"id\\\\\\\\\\\\\\\": \\\\\\\\\\\\\\\"3fdcab7f-887b-4ff9-ae31-5d6ec04c1598\\\\\\\\\\\\\\\", \\\\\\\\\\\\\\\"type\\\\\\\\\\\\\\\": \\\\\\\\\\\\\\\"Microsoft.DPrep.DropColumnsBlock\\\\\\\\\\\\\\\", \\\\\\\\\\\\\\\"arguments\\\\\\\\\\\\\\\": {\\\\\\\\\\\\\\\"columns\\\\\\\\\\\\\\\": {\\\\\\\\\\\\\\\"type\\\\\\\\\\\\\\\": 0, \\\\\\\\\\\\\\\"details\\\\\\\\\\\\\\\": {\\\\\\\\\\\\\\\"selectedColumns\\\\\\\\\\\\\\\": [\\\\\\\\\\\\\\\"Path\\\\\\\\\\\\\\\"]}}}, \\\\\\\\\\\\\\\"localData\\\\\\\\\\\\\\\": {}, \\\\\\\\\\\\\\\"isEnabled\\\\\\\\\\\\\\\": true, \\\\\\\\\\\\\\\"name\\\\\\\\\\\\\\\": null, \\\\\\\\\\\\\\\"annotation\\\\\\\\\\\\\\\": null}, {\\\\\\\\\\\\\\\"id\\\\\\\\\\\\\\\": \\\\\\\\\\\\\\\"ea103696-9ce6-484c-a528-36df952e0515\\\\\\\\\\\\\\\", \\\\\\\\\\\\\\\"type\\\\\\\\\\\\\\\": \\\\\\\\\\\\\\\"Microsoft.DPrep.SetColumnTypesBlock\\\\\\\\\\\\\\\", \\\\\\\\\\\\\\\"arguments\\\\\\\\\\\\\\\": {\\\\\\\\\\\\\\\"columnConversion\\\\\\\\\\\\\\\": [{\\\\\\\\\\\\\\\"column\\\\\\\\\\\\\\\": {\\\\\\\\\\\\\\\"type\\\\\\\\\\\\\\\": 2, \\\\\\\\\\\\\\\"details\\\\\\\\\\\\\\\": {\\\\\\\\\\\\\\\"selectedColumn\\\\\\\\\\\\\\\": \\\\\\\\\\\\\\\"age\\\\\\\\\\\\\\\"}}, \\\\\\\\\\\\\\\"typeProperty\\\\\\\\\\\\\\\": 3}, {\\\\\\\\\\\\\\\"column\\\\\\\\\\\\\\\": {\\\\\\\\\\\\\\\"type\\\\\\\\\\\\\\\": 2, \\\\\\\\\\\\\\\"details\\\\\\\\\\\\\\\": {\\\\\\\\\\\\\\\"selectedColumn\\\\\\\\\\\\\\\": \\\\\\\\\\\\\\\"anaemia\\\\\\\\\\\\\\\"}}, \\\\\\\\\\\\\\\"typeProperty\\\\\\\\\\\\\\\": 2}, {\\\\\\\\\\\\\\\"column\\\\\\\\\\\\\\\": {\\\\\\\\\\\\\\\"type\\\\\\\\\\\\\\\": 2, \\\\\\\\\\\\\\\"details\\\\\\\\\\\\\\\": {\\\\\\\\\\\\\\\"selectedColumn\\\\\\\\\\\\\\\": \\\\\\\\\\\\\\\"creatinine_phosphokinase\\\\\\\\\\\\\\\"}}, \\\\\\\\\\\\\\\"typeProperty\\\\\\\\\\\\\\\": 2}, {\\\\\\\\\\\\\\\"column\\\\\\\\\\\\\\\": {\\\\\\\\\\\\\\\"type\\\\\\\\\\\\\\\": 2, \\\\\\\\\\\\\\\"details\\\\\\\\\\\\\\\": {\\\\\\\\\\\\\\\"selectedColumn\\\\\\\\\\\\\\\": \\\\\\\\\\\\\\\"diabetes\\\\\\\\\\\\\\\"}}, \\\\\\\\\\\\\\\"typeProperty\\\\\\\\\\\\\\\": 2}, {\\\\\\\\\\\\\\\"column\\\\\\\\\\\\\\\": {\\\\\\\\\\\\\\\"type\\\\\\\\\\\\\\\": 2, \\\\\\\\\\\\\\\"details\\\\\\\\\\\\\\\": {\\\\\\\\\\\\\\\"selectedColumn\\\\\\\\\\\\\\\": \\\\\\\\\\\\\\\"ejection_fraction\\\\\\\\\\\\\\\"}}, \\\\\\\\\\\\\\\"typeProperty\\\\\\\\\\\\\\\": 2}, {\\\\\\\\\\\\\\\"column\\\\\\\\\\\\\\\": {\\\\\\\\\\\\\\\"type\\\\\\\\\\\\\\\": 2, \\\\\\\\\\\\\\\"details\\\\\\\\\\\\\\\": {\\\\\\\\\\\\\\\"selectedColumn\\\\\\\\\\\\\\\": \\\\\\\\\\\\\\\"high_blood_pressure\\\\\\\\\\\\\\\"}}, \\\\\\\\\\\\\\\"typeProperty\\\\\\\\\\\\\\\": 2}, {\\\\\\\\\\\\\\\"column\\\\\\\\\\\\\\\": {\\\\\\\\\\\\\\\"type\\\\\\\\\\\\\\\": 2, \\\\\\\\\\\\\\\"details\\\\\\\\\\\\\\\": {\\\\\\\\\\\\\\\"selectedColumn\\\\\\\\\\\\\\\": \\\\\\\\\\\\\\\"platelets\\\\\\\\\\\\\\\"}}, \\\\\\\\\\\\\\\"typeProperty\\\\\\\\\\\\\\\": 3}, {\\\\\\\\\\\\\\\"column\\\\\\\\\\\\\\\": {\\\\\\\\\\\\\\\"type\\\\\\\\\\\\\\\": 2, \\\\\\\\\\\\\\\"details\\\\\\\\\\\\\\\": {\\\\\\\\\\\\\\\"selectedColumn\\\\\\\\\\\\\\\": \\\\\\\\\\\\\\\"serum_creatinine\\\\\\\\\\\\\\\"}}, \\\\\\\\\\\\\\\"typeProperty\\\\\\\\\\\\\\\": 3}, {\\\\\\\\\\\\\\\"column\\\\\\\\\\\\\\\": {\\\\\\\\\\\\\\\"type\\\\\\\\\\\\\\\": 2, \\\\\\\\\\\\\\\"details\\\\\\\\\\\\\\\": {\\\\\\\\\\\\\\\"selectedColumn\\\\\\\\\\\\\\\": \\\\\\\\\\\\\\\"serum_sodium\\\\\\\\\\\\\\\"}}, \\\\\\\\\\\\\\\"typeProperty\\\\\\\\\\\\\\\": 2}, {\\\\\\\\\\\\\\\"column\\\\\\\\\\\\\\\": {\\\\\\\\\\\\\\\"type\\\\\\\\\\\\\\\": 2, \\\\\\\\\\\\\\\"details\\\\\\\\\\\\\\\": {\\\\\\\\\\\\\\\"selectedColumn\\\\\\\\\\\\\\\": \\\\\\\\\\\\\\\"sex\\\\\\\\\\\\\\\"}}, \\\\\\\\\\\\\\\"typeProperty\\\\\\\\\\\\\\\": 2}, {\\\\\\\\\\\\\\\"column\\\\\\\\\\\\\\\": {\\\\\\\\\\\\\\\"type\\\\\\\\\\\\\\\": 2, \\\\\\\\\\\\\\\"details\\\\\\\\\\\\\\\": {\\\\\\\\\\\\\\\"selectedColumn\\\\\\\\\\\\\\\": \\\\\\\\\\\\\\\"smoking\\\\\\\\\\\\\\\"}}, \\\\\\\\\\\\\\\"typeProperty\\\\\\\\\\\\\\\": 2}, {\\\\\\\\\\\\\\\"column\\\\\\\\\\\\\\\": {\\\\\\\\\\\\\\\"type\\\\\\\\\\\\\\\": 2, \\\\\\\\\\\\\\\"details\\\\\\\\\\\\\\\": {\\\\\\\\\\\\\\\"selectedColumn\\\\\\\\\\\\\\\": \\\\\\\\\\\\\\\"time\\\\\\\\\\\\\\\"}}, \\\\\\\\\\\\\\\"typeProperty\\\\\\\\\\\\\\\": 2}, {\\\\\\\\\\\\\\\"column\\\\\\\\\\\\\\\": {\\\\\\\\\\\\\\\"type\\\\\\\\\\\\\\\": 2, \\\\\\\\\\\\\\\"details\\\\\\\\\\\\\\\": {\\\\\\\\\\\\\\\"selectedColumn\\\\\\\\\\\\\\\": \\\\\\\\\\\\\\\"DEATH_EVENT\\\\\\\\\\\\\\\"}}, \\\\\\\\\\\\\\\"typeProperty\\\\\\\\\\\\\\\": 2}]}, \\\\\\\\\\\\\\\"localData\\\\\\\\\\\\\\\": {}, \\\\\\\\\\\\\\\"isEnabled\\\\\\\\\\\\\\\": true, \\\\\\\\\\\\\\\"name\\\\\\\\\\\\\\\": null, \\\\\\\\\\\\\\\"annotation\\\\\\\\\\\\\\\": null}], \\\\\\\\\\\\\\\"inspectors\\\\\\\\\\\\\\\": [], \\\\\\\\\\\\\\\"meta\\\\\\\\\\\\\\\": {\\\\\\\\\\\\\\\"savedDatasetId\\\\\\\\\\\\\\\": \\\\\\\\\\\\\\\"eb0113ae-60e7-44c7-aa3e-7372f3d75242\\\\\\\\\\\\\\\", \\\\\\\\\\\\\\\"datasetType\\\\\\\\\\\\\\\": \\\\\\\\\\\\\\\"tabular\\\\\\\\\\\\\\\", \\\\\\\\\\\\\\\"subscriptionId\\\\\\\\\\\\\\\": \\\\\\\\\\\\\\\"d7f39349-a66b-446e-aba6-0053c2cf1c11\\\\\\\\\\\\\\\", \\\\\\\\\\\\\\\"workspaceId\\\\\\\\\\\\\\\": \\\\\\\\\\\\\\\"60f78bf9-b0ef-42a5-95ac-6e276c26092d\\\\\\\\\\\\\\\", \\\\\\\\\\\\\\\"workspaceLocation\\\\\\\\\\\\\\\": \\\\\\\\\\\\\\\"southcentralus\\\\\\\\\\\\\\\"}}\\\\\\\", \\\\\\\"activities\\\\\\\": 0}\", \"EnableSubsampling\": null, \"runTemplate\": \"AutoML\", \"azureml.runsource\": \"automl\", \"display_task_type\": \"classification\", \"dependencies_versions\": \"{\\\"azureml-widgets\\\": \\\"1.20.0\\\", \\\"azureml-train\\\": \\\"1.20.0\\\", \\\"azureml-train-restclients-hyperdrive\\\": \\\"1.20.0\\\", \\\"azureml-train-core\\\": \\\"1.20.0\\\", \\\"azureml-train-automl\\\": \\\"1.20.0\\\", \\\"azureml-train-automl-runtime\\\": \\\"1.20.0\\\", \\\"azureml-train-automl-client\\\": \\\"1.20.0\\\", \\\"azureml-tensorboard\\\": \\\"1.20.0\\\", \\\"azureml-telemetry\\\": \\\"1.20.0\\\", \\\"azureml-sdk\\\": \\\"1.20.0\\\", \\\"azureml-samples\\\": \\\"0+unknown\\\", \\\"azureml-pipeline\\\": \\\"1.20.0\\\", \\\"azureml-pipeline-steps\\\": \\\"1.20.0\\\", \\\"azureml-pipeline-core\\\": \\\"1.20.0\\\", \\\"azureml-opendatasets\\\": \\\"1.20.0\\\", \\\"azureml-model-management-sdk\\\": \\\"1.0.1b6.post1\\\", \\\"azureml-mlflow\\\": \\\"1.20.0.post1\\\", \\\"azureml-interpret\\\": \\\"1.20.0\\\", \\\"azureml-explain-model\\\": \\\"1.20.0\\\", \\\"azureml-defaults\\\": \\\"1.20.0\\\", \\\"azureml-dataset-runtime\\\": \\\"1.20.0\\\", \\\"azureml-dataprep\\\": \\\"2.7.3\\\", \\\"azureml-dataprep-rslex\\\": \\\"1.5.0\\\", \\\"azureml-dataprep-native\\\": \\\"27.0.0\\\", \\\"azureml-datadrift\\\": \\\"1.20.0\\\", \\\"azureml-core\\\": \\\"1.20.0\\\", \\\"azureml-contrib-services\\\": \\\"1.20.0\\\", \\\"azureml-contrib-server\\\": \\\"1.20.0\\\", \\\"azureml-contrib-reinforcementlearning\\\": \\\"1.20.0\\\", \\\"azureml-contrib-pipeline-steps\\\": \\\"1.20.0\\\", \\\"azureml-contrib-notebook\\\": \\\"1.20.0\\\", \\\"azureml-contrib-interpret\\\": \\\"1.20.0\\\", \\\"azureml-contrib-gbdt\\\": \\\"1.20.0\\\", \\\"azureml-contrib-fairness\\\": \\\"1.20.0\\\", \\\"azureml-contrib-dataset\\\": \\\"1.20.0\\\", \\\"azureml-cli-common\\\": \\\"1.20.0\\\", \\\"azureml-automl-runtime\\\": \\\"1.20.0\\\", \\\"azureml-automl-core\\\": \\\"1.20.0\\\", \\\"azureml-accel-models\\\": \\\"1.20.0\\\"}\", \"_aml_system_scenario_identification\": \"Remote.Parent\", \"ClientType\": \"SDK\", \"environment_cpu_name\": \"AzureML-AutoML\", \"environment_cpu_label\": \"prod\", \"environment_gpu_name\": \"AzureML-AutoML-GPU\", \"environment_gpu_label\": \"prod\", \"root_attribution\": \"automl\", \"attribution\": \"AutoML\", \"Orchestrator\": \"AutoML\", \"CancelUri\": \"https://southcentralus.experiments.azureml.net/jasmine/v1.0/subscriptions/d7f39349-a66b-446e-aba6-0053c2cf1c11/resourceGroups/aml-quickstarts-138680/providers/Microsoft.MachineLearningServices/workspaces/quick-starts-ws-138680/experimentids/a23ad090-30ce-4104-9651-cb17a03b8d66/cancel/AutoML_e88ad83d-9bb0-4623-bb48-b1a373de1485\", \"ClientSdkVersion\": \"1.21.0\", \"snapshotId\": \"00000000-0000-0000-0000-000000000000\", \"SetupRunId\": \"AutoML_e88ad83d-9bb0-4623-bb48-b1a373de1485_setup\", \"SetupRunContainerId\": \"dcid.AutoML_e88ad83d-9bb0-4623-bb48-b1a373de1485_setup\", \"FeaturizationRunJsonPath\": \"featurizer_container.json\", \"FeaturizationRunId\": \"AutoML_e88ad83d-9bb0-4623-bb48-b1a373de1485_featurize\", \"ProblemInfoJsonString\": \"{\\\"dataset_num_categorical\\\": 0, \\\"is_sparse\\\": false, \\\"subsampling\\\": false, \\\"dataset_classes\\\": 2, \\\"dataset_features\\\": 12, \\\"dataset_samples\\\": 299, \\\"single_frequency_class_detected\\\": false}\", \"ModelExplainRunId\": \"AutoML_e88ad83d-9bb0-4623-bb48-b1a373de1485_ModelExplain\"}, \"tags\": {\"model_explain_run\": \"best_run\", \"_aml_system_azureml.automlComponent\": \"AutoML\", \"pipeline_id\": \"\", \"score\": \"\", \"predicted_cost\": \"\", \"fit_time\": \"\", \"training_percent\": \"\", \"iteration\": \"\", \"run_preprocessor\": \"\", \"run_algorithm\": \"\", \"dynamic_whitelisting_iterations\": \"<25>;<30>;<35>;<40>;<45>;\", \"automl_best_child_run_id\": \"AutoML_e88ad83d-9bb0-4623-bb48-b1a373de1485_50\", \"model_explain_best_run_child_id\": \"AutoML_e88ad83d-9bb0-4623-bb48-b1a373de1485_50\"}, \"end_time_utc\": \"2021-02-12T12:32:20.759603Z\", \"status\": \"Completed\", \"log_files\": {}, \"log_groups\": [], \"run_duration\": \"0:19:43\"}, \"child_runs\": [{\"run_id\": \"AutoML_e88ad83d-9bb0-4623-bb48-b1a373de1485_0\", \"run_number\": 5, \"metric\": null, \"status\": \"Completed\", \"run_type\": \"azureml.scriptrun\", \"training_percent\": \"100\", \"start_time\": \"2021-02-12T12:17:37.561946Z\", \"end_time\": \"2021-02-12T12:18:33.993977Z\", \"created_time\": \"2021-02-12T12:17:27.276112Z\", \"created_time_dt\": \"2021-02-12T12:17:27.276112Z\", \"duration\": \"0:01:06\", \"iteration\": \"0\", \"goal\": \"accuracy_max\", \"run_name\": \"MaxAbsScaler, LightGBM\", \"run_properties\": \"copy=True\", \"primary_metric\": 0.83597701, \"best_metric\": 0.83597701}, {\"run_id\": \"AutoML_e88ad83d-9bb0-4623-bb48-b1a373de1485_1\", \"run_number\": 6, \"metric\": null, \"status\": \"Completed\", \"run_type\": \"azureml.scriptrun\", \"training_percent\": \"100\", \"start_time\": \"2021-02-12T12:17:38.585481Z\", \"end_time\": \"2021-02-12T12:18:31.935418Z\", \"created_time\": \"2021-02-12T12:17:27.388601Z\", \"created_time_dt\": \"2021-02-12T12:17:27.388601Z\", \"duration\": \"0:01:04\", \"iteration\": \"1\", \"goal\": \"accuracy_max\", \"run_name\": \"MaxAbsScaler, XGBoostClassifier\", \"run_properties\": \"copy=True\", \"primary_metric\": 0.83586207, \"best_metric\": 0.83597701}, {\"run_id\": \"AutoML_e88ad83d-9bb0-4623-bb48-b1a373de1485_4\", \"run_number\": 7, \"metric\": null, \"status\": \"Completed\", \"run_type\": \"azureml.scriptrun\", \"training_percent\": \"100\", \"start_time\": \"2021-02-12T12:17:40.5769Z\", \"end_time\": \"2021-02-12T12:18:32.817874Z\", \"created_time\": \"2021-02-12T12:17:27.408005Z\", \"created_time_dt\": \"2021-02-12T12:17:27.408005Z\", \"duration\": \"0:01:05\", \"iteration\": \"4\", \"goal\": \"accuracy_max\", \"run_name\": \"MinMaxScaler, RandomForest\", \"run_properties\": \"copy=True, feature_range=(0, 1\", \"primary_metric\": 0.83252874, \"best_metric\": 0.85942529}, {\"run_id\": \"AutoML_e88ad83d-9bb0-4623-bb48-b1a373de1485_3\", \"run_number\": 8, \"metric\": null, \"status\": \"Completed\", \"run_type\": \"azureml.scriptrun\", \"training_percent\": \"100\", \"start_time\": \"2021-02-12T12:17:39.281315Z\", \"end_time\": \"2021-02-12T12:18:33.281675Z\", \"created_time\": \"2021-02-12T12:17:27.419468Z\", \"created_time_dt\": \"2021-02-12T12:17:27.419468Z\", \"duration\": \"0:01:05\", \"iteration\": \"3\", \"goal\": \"accuracy_max\", \"run_name\": \"MinMaxScaler, RandomForest\", \"run_properties\": \"copy=True, feature_range=(0, 1\", \"primary_metric\": 0.83632184, \"best_metric\": 0.85942529}, {\"run_id\": \"AutoML_e88ad83d-9bb0-4623-bb48-b1a373de1485_2\", \"run_number\": 9, \"metric\": null, \"status\": \"Completed\", \"run_type\": \"azureml.scriptrun\", \"training_percent\": \"100\", \"start_time\": \"2021-02-12T12:17:38.697547Z\", \"end_time\": \"2021-02-12T12:18:35.858737Z\", \"created_time\": \"2021-02-12T12:17:27.393687Z\", \"created_time_dt\": \"2021-02-12T12:17:27.393687Z\", \"duration\": \"0:01:08\", \"iteration\": \"2\", \"goal\": \"accuracy_max\", \"run_name\": \"MinMaxScaler, RandomForest\", \"run_properties\": \"copy=True, feature_range=(0, 1\", \"primary_metric\": 0.85942529, \"best_metric\": 0.85942529}, {\"run_id\": \"AutoML_e88ad83d-9bb0-4623-bb48-b1a373de1485_5\", \"run_number\": 10, \"metric\": null, \"status\": \"Completed\", \"run_type\": \"azureml.scriptrun\", \"training_percent\": \"100\", \"start_time\": \"2021-02-12T12:18:47.780199Z\", \"end_time\": \"2021-02-12T12:19:45.09176Z\", \"created_time\": \"2021-02-12T12:18:33.722803Z\", \"created_time_dt\": \"2021-02-12T12:18:33.722803Z\", \"duration\": \"0:01:11\", \"iteration\": \"5\", \"goal\": \"accuracy_max\", \"run_name\": \"StandardScalerWrapper, GradientBoosting\", \"run_properties\": \"<azureml.automl.runtime.shared.model_wrappers.StandardScalerWrapper object at 0x7f075aff4048\", \"primary_metric\": 0.84609195, \"best_metric\": 0.85942529}, {\"run_id\": \"AutoML_e88ad83d-9bb0-4623-bb48-b1a373de1485_6\", \"run_number\": 11, \"metric\": null, \"status\": \"Completed\", \"run_type\": \"azureml.scriptrun\", \"training_percent\": \"100\", \"start_time\": \"2021-02-12T12:18:51.453731Z\", \"end_time\": \"2021-02-12T12:19:46.729016Z\", \"created_time\": \"2021-02-12T12:18:38.765108Z\", \"created_time_dt\": \"2021-02-12T12:18:38.765108Z\", \"duration\": \"0:01:07\", \"iteration\": \"6\", \"goal\": \"accuracy_max\", \"run_name\": \"MinMaxScaler, SVM\", \"run_properties\": \"copy=True, feature_range=(0, 1\", \"primary_metric\": 0.7291954, \"best_metric\": 0.85942529}, {\"run_id\": \"AutoML_e88ad83d-9bb0-4623-bb48-b1a373de1485_7\", \"run_number\": 12, \"metric\": null, \"status\": \"Completed\", \"run_type\": \"azureml.scriptrun\", \"training_percent\": \"100\", \"start_time\": \"2021-02-12T12:18:51.247476Z\", \"end_time\": \"2021-02-12T12:19:43.439403Z\", \"created_time\": \"2021-02-12T12:18:38.773375Z\", \"created_time_dt\": \"2021-02-12T12:18:38.773375Z\", \"duration\": \"0:01:04\", \"iteration\": \"7\", \"goal\": \"accuracy_max\", \"run_name\": \"SparseNormalizer, XGBoostClassifier\", \"run_properties\": \"<azureml.automl.runtime.shared.model_wrappers.SparseNormalizer object at 0x7f1f02b441d0\", \"primary_metric\": 0.82287356, \"best_metric\": 0.85942529}, {\"run_id\": \"AutoML_e88ad83d-9bb0-4623-bb48-b1a373de1485_8\", \"run_number\": 13, \"metric\": null, \"status\": \"Completed\", \"run_type\": \"azureml.scriptrun\", \"training_percent\": \"100\", \"start_time\": \"2021-02-12T12:18:51.780988Z\", \"end_time\": \"2021-02-12T12:19:45.057266Z\", \"created_time\": \"2021-02-12T12:18:39.111685Z\", \"created_time_dt\": \"2021-02-12T12:18:39.111685Z\", \"duration\": \"0:01:05\", \"iteration\": \"8\", \"goal\": \"accuracy_max\", \"run_name\": \"SparseNormalizer, XGBoostClassifier\", \"run_properties\": \"<azureml.automl.runtime.shared.model_wrappers.SparseNormalizer object at 0x7f4795c878d0\", \"primary_metric\": 0.83275862, \"best_metric\": 0.85942529}, {\"run_id\": \"AutoML_e88ad83d-9bb0-4623-bb48-b1a373de1485_9\", \"run_number\": 14, \"metric\": null, \"status\": \"Completed\", \"run_type\": \"azureml.scriptrun\", \"training_percent\": \"100\", \"start_time\": \"2021-02-12T12:18:52.317694Z\", \"end_time\": \"2021-02-12T12:19:45.507383Z\", \"created_time\": \"2021-02-12T12:18:39.153147Z\", \"created_time_dt\": \"2021-02-12T12:18:39.153147Z\", \"duration\": \"0:01:06\", \"iteration\": \"9\", \"goal\": \"accuracy_max\", \"run_name\": \"SparseNormalizer, XGBoostClassifier\", \"run_properties\": \"<azureml.automl.runtime.shared.model_wrappers.SparseNormalizer object at 0x7fe78d58b358\", \"primary_metric\": 0.83931034, \"best_metric\": 0.85942529}, {\"run_id\": \"AutoML_e88ad83d-9bb0-4623-bb48-b1a373de1485_10\", \"run_number\": 15, \"metric\": null, \"status\": \"Completed\", \"run_type\": \"azureml.scriptrun\", \"training_percent\": \"100\", \"start_time\": \"2021-02-12T12:20:00.865575Z\", \"end_time\": \"2021-02-12T12:20:56.306376Z\", \"created_time\": \"2021-02-12T12:19:46.716248Z\", \"created_time_dt\": \"2021-02-12T12:19:46.716248Z\", \"duration\": \"0:01:09\", \"iteration\": \"10\", \"goal\": \"accuracy_max\", \"run_name\": \"MaxAbsScaler, GradientBoosting\", \"run_properties\": \"copy=True\", \"primary_metric\": 0.8462069, \"best_metric\": 0.85942529}, {\"run_id\": \"AutoML_e88ad83d-9bb0-4623-bb48-b1a373de1485_11\", \"run_number\": 16, \"metric\": null, \"status\": \"Completed\", \"run_type\": \"azureml.scriptrun\", \"training_percent\": \"100\", \"start_time\": \"2021-02-12T12:20:06.872246Z\", \"end_time\": \"2021-02-12T12:21:05.07222Z\", \"created_time\": \"2021-02-12T12:19:52.282282Z\", \"created_time_dt\": \"2021-02-12T12:19:52.282282Z\", \"duration\": \"0:01:12\", \"iteration\": \"11\", \"goal\": \"accuracy_max\", \"run_name\": \"StandardScalerWrapper, RandomForest\", \"run_properties\": \"<azureml.automl.runtime.shared.model_wrappers.StandardScalerWrapper object at 0x7fe8da87ba20\", \"primary_metric\": 0.82896552, \"best_metric\": 0.85942529}, {\"run_id\": \"AutoML_e88ad83d-9bb0-4623-bb48-b1a373de1485_14\", \"run_number\": 17, \"metric\": null, \"status\": \"Completed\", \"run_type\": \"azureml.scriptrun\", \"training_percent\": \"100\", \"start_time\": \"2021-02-12T12:20:05.459625Z\", \"end_time\": \"2021-02-12T12:21:00.621004Z\", \"created_time\": \"2021-02-12T12:19:52.405838Z\", \"created_time_dt\": \"2021-02-12T12:19:52.405838Z\", \"duration\": \"0:01:08\", \"iteration\": \"14\", \"goal\": \"accuracy_max\", \"run_name\": \"MaxAbsScaler, LightGBM\", \"run_properties\": \"copy=True\", \"primary_metric\": 0.83931034, \"best_metric\": 0.85942529}, {\"run_id\": \"AutoML_e88ad83d-9bb0-4623-bb48-b1a373de1485_13\", \"run_number\": 18, \"metric\": null, \"status\": \"Completed\", \"run_type\": \"azureml.scriptrun\", \"training_percent\": \"100\", \"start_time\": \"2021-02-12T12:20:05.952418Z\", \"end_time\": \"2021-02-12T12:20:55.362215Z\", \"created_time\": \"2021-02-12T12:19:52.449265Z\", \"created_time_dt\": \"2021-02-12T12:19:52.449265Z\", \"duration\": \"0:01:02\", \"iteration\": \"13\", \"goal\": \"accuracy_max\", \"run_name\": \"MaxAbsScaler, LightGBM\", \"run_properties\": \"copy=True\", \"primary_metric\": 0.75931034, \"best_metric\": 0.85942529}, {\"run_id\": \"AutoML_e88ad83d-9bb0-4623-bb48-b1a373de1485_12\", \"run_number\": 19, \"metric\": null, \"status\": \"Completed\", \"run_type\": \"azureml.scriptrun\", \"training_percent\": \"100\", \"start_time\": \"2021-02-12T12:20:05.528158Z\", \"end_time\": \"2021-02-12T12:20:58.908756Z\", \"created_time\": \"2021-02-12T12:19:52.473401Z\", \"created_time_dt\": \"2021-02-12T12:19:52.473401Z\", \"duration\": \"0:01:06\", \"iteration\": \"12\", \"goal\": \"accuracy_max\", \"run_name\": \"SparseNormalizer, LightGBM\", \"run_properties\": \"<azureml.automl.runtime.shared.model_wrappers.SparseNormalizer object at 0x7f60ac75fdd8\", \"primary_metric\": 0.83287356, \"best_metric\": 0.85942529}, {\"run_id\": \"AutoML_e88ad83d-9bb0-4623-bb48-b1a373de1485_15\", \"run_number\": 20, \"metric\": null, \"status\": \"Completed\", \"run_type\": \"azureml.scriptrun\", \"training_percent\": \"100\", \"start_time\": \"2021-02-12T12:21:11.768292Z\", \"end_time\": \"2021-02-12T12:22:04.047393Z\", \"created_time\": \"2021-02-12T12:20:58.101669Z\", \"created_time_dt\": \"2021-02-12T12:20:58.101669Z\", \"duration\": \"0:01:05\", \"iteration\": \"15\", \"goal\": \"accuracy_max\", \"run_name\": \"SparseNormalizer, XGBoostClassifier\", \"run_properties\": \"<azureml.automl.runtime.shared.model_wrappers.SparseNormalizer object at 0x7f5e20f7a208\", \"primary_metric\": 0.80931034, \"best_metric\": 0.85942529}, {\"run_id\": \"AutoML_e88ad83d-9bb0-4623-bb48-b1a373de1485_16\", \"run_number\": 21, \"metric\": null, \"status\": \"Completed\", \"run_type\": \"azureml.scriptrun\", \"training_percent\": \"100\", \"start_time\": \"2021-02-12T12:21:17.528723Z\", \"end_time\": \"2021-02-12T12:22:10.087677Z\", \"created_time\": \"2021-02-12T12:21:04.166077Z\", \"created_time_dt\": \"2021-02-12T12:21:04.166077Z\", \"duration\": \"0:01:05\", \"iteration\": \"16\", \"goal\": \"accuracy_max\", \"run_name\": \"SparseNormalizer, XGBoostClassifier\", \"run_properties\": \"<azureml.automl.runtime.shared.model_wrappers.SparseNormalizer object at 0x7f28ae5bf9b0\", \"primary_metric\": 0.84954023, \"best_metric\": 0.85942529}, {\"run_id\": \"AutoML_e88ad83d-9bb0-4623-bb48-b1a373de1485_17\", \"run_number\": 22, \"metric\": null, \"status\": \"Completed\", \"run_type\": \"azureml.scriptrun\", \"training_percent\": \"100\", \"start_time\": \"2021-02-12T12:21:16.365357Z\", \"end_time\": \"2021-02-12T12:22:15.233512Z\", \"created_time\": \"2021-02-12T12:21:04.29412Z\", \"created_time_dt\": \"2021-02-12T12:21:04.29412Z\", \"duration\": \"0:01:10\", \"iteration\": \"17\", \"goal\": \"accuracy_max\", \"run_name\": \"StandardScalerWrapper, LogisticRegression\", \"run_properties\": \"<azureml.automl.runtime.shared.model_wrappers.StandardScalerWrapper object at 0x7fae4dc47c88\", \"primary_metric\": 0.82252874, \"best_metric\": 0.85942529}, {\"run_id\": \"AutoML_e88ad83d-9bb0-4623-bb48-b1a373de1485_18\", \"run_number\": 23, \"metric\": null, \"status\": \"Completed\", \"run_type\": \"azureml.scriptrun\", \"training_percent\": \"100\", \"start_time\": \"2021-02-12T12:21:14.705898Z\", \"end_time\": \"2021-02-12T12:22:08.404971Z\", \"created_time\": \"2021-02-12T12:21:04.449234Z\", \"created_time_dt\": \"2021-02-12T12:21:04.449234Z\", \"duration\": \"0:01:03\", \"iteration\": \"18\", \"goal\": \"accuracy_max\", \"run_name\": \"StandardScalerWrapper, LightGBM\", \"run_properties\": \"<azureml.automl.runtime.shared.model_wrappers.StandardScalerWrapper object at 0x7f2b39e08e10\", \"primary_metric\": 0.81597701, \"best_metric\": 0.85942529}, {\"run_id\": \"AutoML_e88ad83d-9bb0-4623-bb48-b1a373de1485_19\", \"run_number\": 24, \"metric\": null, \"status\": \"Completed\", \"run_type\": \"azureml.scriptrun\", \"training_percent\": \"100\", \"start_time\": \"2021-02-12T12:21:25.737114Z\", \"end_time\": \"2021-02-12T12:22:18.003361Z\", \"created_time\": \"2021-02-12T12:21:11.333495Z\", \"created_time_dt\": \"2021-02-12T12:21:11.333495Z\", \"duration\": \"0:01:06\", \"iteration\": \"19\", \"goal\": \"accuracy_max\", \"run_name\": \"StandardScalerWrapper, LightGBM\", \"run_properties\": \"<azureml.automl.runtime.shared.model_wrappers.StandardScalerWrapper object at 0x7f08cd3a8cc0\", \"primary_metric\": 0.85275862, \"best_metric\": 0.85942529}, {\"run_id\": \"AutoML_e88ad83d-9bb0-4623-bb48-b1a373de1485_20\", \"run_number\": 25, \"metric\": null, \"status\": \"Completed\", \"run_type\": \"azureml.scriptrun\", \"training_percent\": \"100\", \"start_time\": \"2021-02-12T12:22:16.480653Z\", \"end_time\": \"2021-02-12T12:23:12.910337Z\", \"created_time\": \"2021-02-12T12:22:06.339967Z\", \"created_time_dt\": \"2021-02-12T12:22:06.339967Z\", \"duration\": \"0:01:06\", \"iteration\": \"20\", \"goal\": \"accuracy_max\", \"run_name\": \"StandardScalerWrapper, LightGBM\", \"run_properties\": \"<azureml.automl.runtime.shared.model_wrappers.StandardScalerWrapper object at 0x7f1828e90da0\", \"primary_metric\": 0.75597701, \"best_metric\": 0.85942529}, {\"run_id\": \"AutoML_e88ad83d-9bb0-4623-bb48-b1a373de1485_21\", \"run_number\": 26, \"metric\": null, \"status\": \"Completed\", \"run_type\": \"azureml.scriptrun\", \"training_percent\": \"100\", \"start_time\": \"2021-02-12T12:22:23.075557Z\", \"end_time\": \"2021-02-12T12:23:24.187846Z\", \"created_time\": \"2021-02-12T12:22:10.75649Z\", \"created_time_dt\": \"2021-02-12T12:22:10.75649Z\", \"duration\": \"0:01:13\", \"iteration\": \"21\", \"goal\": \"accuracy_max\", \"run_name\": \"MaxAbsScaler, ExtremeRandomTrees\", \"run_properties\": \"copy=True\", \"primary_metric\": 0.79275862, \"best_metric\": 0.85942529}, {\"run_id\": \"AutoML_e88ad83d-9bb0-4623-bb48-b1a373de1485_22\", \"run_number\": 27, \"metric\": null, \"status\": \"Completed\", \"run_type\": \"azureml.scriptrun\", \"training_percent\": \"100\", \"start_time\": \"2021-02-12T12:22:25.229512Z\", \"end_time\": \"2021-02-12T12:23:18.573266Z\", \"created_time\": \"2021-02-12T12:22:14.77707Z\", \"created_time_dt\": \"2021-02-12T12:22:14.77707Z\", \"duration\": \"0:01:03\", \"iteration\": \"22\", \"goal\": \"accuracy_max\", \"run_name\": \"MaxAbsScaler, RandomForest\", \"run_properties\": \"copy=True\", \"primary_metric\": 0.86287356, \"best_metric\": 0.86287356}, {\"run_id\": \"AutoML_e88ad83d-9bb0-4623-bb48-b1a373de1485_23\", \"run_number\": 28, \"metric\": null, \"status\": \"Completed\", \"run_type\": \"azureml.scriptrun\", \"training_percent\": \"100\", \"start_time\": \"2021-02-12T12:22:29.203446Z\", \"end_time\": \"2021-02-12T12:23:18.233672Z\", \"created_time\": \"2021-02-12T12:22:18.937343Z\", \"created_time_dt\": \"2021-02-12T12:22:18.937343Z\", \"duration\": \"0:00:59\", \"iteration\": \"23\", \"goal\": \"accuracy_max\", \"run_name\": \"SparseNormalizer, XGBoostClassifier\", \"run_properties\": \"<azureml.automl.runtime.shared.model_wrappers.SparseNormalizer object at 0x7f92dc68b7f0\", \"primary_metric\": 0.8262069, \"best_metric\": 0.86287356}, {\"run_id\": \"AutoML_e88ad83d-9bb0-4623-bb48-b1a373de1485_24\", \"run_number\": 29, \"metric\": null, \"status\": \"Completed\", \"run_type\": \"azureml.scriptrun\", \"training_percent\": \"100\", \"start_time\": \"2021-02-12T12:22:33.394608Z\", \"end_time\": \"2021-02-12T12:23:56.696061Z\", \"created_time\": \"2021-02-12T12:22:22.758208Z\", \"created_time_dt\": \"2021-02-12T12:22:22.758208Z\", \"duration\": \"0:01:33\", \"iteration\": \"24\", \"goal\": \"accuracy_max\", \"run_name\": \"StandardScalerWrapper, LightGBM\", \"run_properties\": \"<azureml.automl.runtime.shared.model_wrappers.StandardScalerWrapper object at 0x7f0a88755b00\", \"primary_metric\": 0.84252874, \"best_metric\": 0.86287356}, {\"run_id\": \"AutoML_e88ad83d-9bb0-4623-bb48-b1a373de1485_25\", \"run_number\": 30, \"metric\": null, \"status\": \"Completed\", \"run_type\": \"azureml.scriptrun\", \"training_percent\": \"100\", \"start_time\": \"2021-02-12T12:23:29.03866Z\", \"end_time\": \"2021-02-12T12:24:24.458851Z\", \"created_time\": \"2021-02-12T12:23:16.611843Z\", \"created_time_dt\": \"2021-02-12T12:23:16.611843Z\", \"duration\": \"0:01:07\", \"iteration\": \"25\", \"goal\": \"accuracy_max\", \"run_name\": \"MinMaxScaler, RandomForest\", \"run_properties\": \"copy=True, feature_range=(0, 1\", \"primary_metric\": 0.82574713, \"best_metric\": 0.86287356}, {\"run_id\": \"AutoML_e88ad83d-9bb0-4623-bb48-b1a373de1485_26\", \"run_number\": 31, \"metric\": null, \"status\": \"Completed\", \"run_type\": \"azureml.scriptrun\", \"training_percent\": \"100\", \"start_time\": \"2021-02-12T12:23:33.72458Z\", \"end_time\": \"2021-02-12T12:24:25.903671Z\", \"created_time\": \"2021-02-12T12:23:20.9939Z\", \"created_time_dt\": \"2021-02-12T12:23:20.9939Z\", \"duration\": \"0:01:04\", \"iteration\": \"26\", \"goal\": \"accuracy_max\", \"run_name\": \"MaxAbsScaler, ExtremeRandomTrees\", \"run_properties\": \"copy=True\", \"primary_metric\": 0.83241379, \"best_metric\": 0.86287356}, {\"run_id\": \"AutoML_e88ad83d-9bb0-4623-bb48-b1a373de1485_27\", \"run_number\": 32, \"metric\": null, \"status\": \"Completed\", \"run_type\": \"azureml.scriptrun\", \"training_percent\": \"100\", \"start_time\": \"2021-02-12T12:23:34.38897Z\", \"end_time\": \"2021-02-12T12:24:23.403322Z\", \"created_time\": \"2021-02-12T12:23:21.090639Z\", \"created_time_dt\": \"2021-02-12T12:23:21.090639Z\", \"duration\": \"0:01:02\", \"iteration\": \"27\", \"goal\": \"accuracy_max\", \"run_name\": \"SparseNormalizer, RandomForest\", \"run_properties\": \"<azureml.automl.runtime.shared.model_wrappers.SparseNormalizer object at 0x7f15b9a2c518\", \"primary_metric\": 0.80551724, \"best_metric\": 0.86287356}, {\"run_id\": \"AutoML_e88ad83d-9bb0-4623-bb48-b1a373de1485_28\", \"run_number\": 33, \"metric\": null, \"status\": \"Completed\", \"run_type\": \"azureml.scriptrun\", \"training_percent\": \"100\", \"start_time\": \"2021-02-12T12:23:37.849331Z\", \"end_time\": \"2021-02-12T12:24:32.838121Z\", \"created_time\": \"2021-02-12T12:23:25.900003Z\", \"created_time_dt\": \"2021-02-12T12:23:25.900003Z\", \"duration\": \"0:01:06\", \"iteration\": \"28\", \"goal\": \"accuracy_max\", \"run_name\": \"StandardScalerWrapper, RandomForest\", \"run_properties\": \"<azureml.automl.runtime.shared.model_wrappers.StandardScalerWrapper object at 0x7f242b9cccc0\", \"primary_metric\": 0.8291954, \"best_metric\": 0.86287356}, {\"run_id\": \"AutoML_e88ad83d-9bb0-4623-bb48-b1a373de1485_29\", \"run_number\": 34, \"metric\": null, \"status\": \"Completed\", \"run_type\": \"azureml.scriptrun\", \"training_percent\": \"100\", \"start_time\": \"2021-02-12T12:24:10.246832Z\", \"end_time\": \"2021-02-12T12:25:11.233234Z\", \"created_time\": \"2021-02-12T12:23:59.098596Z\", \"created_time_dt\": \"2021-02-12T12:23:59.098596Z\", \"duration\": \"0:01:12\", \"iteration\": \"29\", \"goal\": \"accuracy_max\", \"run_name\": \"MaxAbsScaler, RandomForest\", \"run_properties\": \"copy=True\", \"primary_metric\": 0.81896552, \"best_metric\": 0.86287356}, {\"run_id\": \"AutoML_e88ad83d-9bb0-4623-bb48-b1a373de1485_30\", \"run_number\": 35, \"metric\": null, \"status\": \"Completed\", \"run_type\": \"azureml.scriptrun\", \"training_percent\": \"100\", \"start_time\": \"2021-02-12T12:24:40.135338Z\", \"end_time\": \"2021-02-12T12:25:35.341111Z\", \"created_time\": \"2021-02-12T12:24:27.365961Z\", \"created_time_dt\": \"2021-02-12T12:24:27.365961Z\", \"duration\": \"0:01:07\", \"iteration\": \"30\", \"goal\": \"accuracy_max\", \"run_name\": \"StandardScalerWrapper, RandomForest\", \"run_properties\": \"<azureml.automl.runtime.shared.model_wrappers.StandardScalerWrapper object at 0x7fcaf21d5198\", \"primary_metric\": 0.6791954, \"best_metric\": 0.86287356}, {\"run_id\": \"AutoML_e88ad83d-9bb0-4623-bb48-b1a373de1485_31\", \"run_number\": 36, \"metric\": null, \"status\": \"Completed\", \"run_type\": \"azureml.scriptrun\", \"training_percent\": \"100\", \"start_time\": \"2021-02-12T12:24:47.643884Z\", \"end_time\": \"2021-02-12T12:25:43.163976Z\", \"created_time\": \"2021-02-12T12:24:33.410021Z\", \"created_time_dt\": \"2021-02-12T12:24:33.410021Z\", \"duration\": \"0:01:09\", \"iteration\": \"31\", \"goal\": \"accuracy_max\", \"run_name\": \"SparseNormalizer, XGBoostClassifier\", \"run_properties\": \"<azureml.automl.runtime.shared.model_wrappers.SparseNormalizer object at 0x7f6982003a58\", \"primary_metric\": 0.85298851, \"best_metric\": 0.86287356}, {\"run_id\": \"AutoML_e88ad83d-9bb0-4623-bb48-b1a373de1485_32\", \"run_number\": 37, \"metric\": null, \"status\": \"Completed\", \"run_type\": \"azureml.scriptrun\", \"training_percent\": \"100\", \"start_time\": \"2021-02-12T12:24:44.461107Z\", \"end_time\": \"2021-02-12T12:25:37.890354Z\", \"created_time\": \"2021-02-12T12:24:33.478886Z\", \"created_time_dt\": \"2021-02-12T12:24:33.478886Z\", \"duration\": \"0:01:04\", \"iteration\": \"32\", \"goal\": \"accuracy_max\", \"run_name\": \"MaxAbsScaler, LightGBM\", \"run_properties\": \"copy=True\", \"primary_metric\": 0.86597701, \"best_metric\": 0.86597701}, {\"run_id\": \"AutoML_e88ad83d-9bb0-4623-bb48-b1a373de1485_33\", \"run_number\": 38, \"metric\": null, \"status\": \"Completed\", \"run_type\": \"azureml.scriptrun\", \"training_percent\": \"100\", \"start_time\": \"2021-02-12T12:24:52.296509Z\", \"end_time\": \"2021-02-12T12:25:46.811568Z\", \"created_time\": \"2021-02-12T12:24:39.563905Z\", \"created_time_dt\": \"2021-02-12T12:24:39.563905Z\", \"duration\": \"0:01:07\", \"iteration\": \"33\", \"goal\": \"accuracy_max\", \"run_name\": \"SparseNormalizer, LightGBM\", \"run_properties\": \"<azureml.automl.runtime.shared.model_wrappers.SparseNormalizer object at 0x7f9defa882e8\", \"primary_metric\": 0.84287356, \"best_metric\": 0.86597701}, {\"run_id\": \"AutoML_e88ad83d-9bb0-4623-bb48-b1a373de1485_34\", \"run_number\": 39, \"metric\": null, \"status\": \"Completed\", \"run_type\": \"azureml.scriptrun\", \"training_percent\": \"100\", \"start_time\": \"2021-02-12T12:25:31.767232Z\", \"end_time\": \"2021-02-12T12:26:22.498403Z\", \"created_time\": \"2021-02-12T12:25:14.287573Z\", \"created_time_dt\": \"2021-02-12T12:25:14.287573Z\", \"duration\": \"0:01:08\", \"iteration\": \"34\", \"goal\": \"accuracy_max\", \"run_name\": \"StandardScalerWrapper, XGBoostClassifier\", \"run_properties\": \"<azureml.automl.runtime.shared.model_wrappers.StandardScalerWrapper object at 0x7fcea5a79d30\", \"primary_metric\": 0.81954023, \"best_metric\": 0.86597701}, {\"run_id\": \"AutoML_e88ad83d-9bb0-4623-bb48-b1a373de1485_35\", \"run_number\": 40, \"metric\": null, \"status\": \"Completed\", \"run_type\": \"azureml.scriptrun\", \"training_percent\": \"100\", \"start_time\": \"2021-02-12T12:25:52.722994Z\", \"end_time\": \"2021-02-12T12:26:44.578165Z\", \"created_time\": \"2021-02-12T12:25:39.526042Z\", \"created_time_dt\": \"2021-02-12T12:25:39.526042Z\", \"duration\": \"0:01:05\", \"iteration\": \"35\", \"goal\": \"accuracy_max\", \"run_name\": \"PCA, RandomForest\", \"run_properties\": \"copy=True, iterated_power='auto', n_components=0.20789473684210527,\\n    random_state=None, svd_solver='auto', tol=0.0, whiten=True\", \"primary_metric\": 0.57885057, \"best_metric\": 0.86597701}, {\"run_id\": \"AutoML_e88ad83d-9bb0-4623-bb48-b1a373de1485_36\", \"run_number\": 41, \"metric\": null, \"status\": \"Completed\", \"run_type\": \"azureml.scriptrun\", \"training_percent\": \"100\", \"start_time\": \"2021-02-12T12:25:58.003749Z\", \"end_time\": \"2021-02-12T12:26:49.88491Z\", \"created_time\": \"2021-02-12T12:25:44.606589Z\", \"created_time_dt\": \"2021-02-12T12:25:44.606589Z\", \"duration\": \"0:01:05\", \"iteration\": \"36\", \"goal\": \"accuracy_max\", \"run_name\": \"RobustScaler, LightGBM\", \"run_properties\": \"copy=True, quantile_range=[25, 75], with_centering=True,\\n             with_scaling=True\", \"primary_metric\": 0.84597701, \"best_metric\": 0.86597701}, {\"run_id\": \"AutoML_e88ad83d-9bb0-4623-bb48-b1a373de1485_37\", \"run_number\": 42, \"metric\": null, \"status\": \"Completed\", \"run_type\": \"azureml.scriptrun\", \"training_percent\": \"100\", \"start_time\": \"2021-02-12T12:26:01.260824Z\", \"end_time\": \"2021-02-12T12:26:53.116902Z\", \"created_time\": \"2021-02-12T12:25:49.712391Z\", \"created_time_dt\": \"2021-02-12T12:25:49.712391Z\", \"duration\": \"0:01:03\", \"iteration\": \"37\", \"goal\": \"accuracy_max\", \"run_name\": \"MaxAbsScaler, LightGBM\", \"run_properties\": \"copy=True\", \"primary_metric\": 0.84609195, \"best_metric\": 0.86597701}, {\"run_id\": \"AutoML_e88ad83d-9bb0-4623-bb48-b1a373de1485_38\", \"run_number\": 43, \"metric\": null, \"status\": \"Completed\", \"run_type\": \"azureml.scriptrun\", \"training_percent\": \"100\", \"start_time\": \"2021-02-12T12:26:02.528468Z\", \"end_time\": \"2021-02-12T12:27:33.520405Z\", \"created_time\": \"2021-02-12T12:25:49.855624Z\", \"created_time_dt\": \"2021-02-12T12:25:49.855624Z\", \"duration\": \"0:01:43\", \"iteration\": \"38\", \"goal\": \"accuracy_max\", \"run_name\": \"RobustScaler, RandomForest\", \"run_properties\": \"copy=True, quantile_range=[10, 90], with_centering=True,\\n             with_scaling=True\", \"primary_metric\": 0.83908046, \"best_metric\": 0.86597701}, {\"run_id\": \"AutoML_e88ad83d-9bb0-4623-bb48-b1a373de1485_39\", \"run_number\": 44, \"metric\": null, \"status\": \"Completed\", \"run_type\": \"azureml.scriptrun\", \"training_percent\": \"100\", \"start_time\": \"2021-02-12T12:26:37.193676Z\", \"end_time\": \"2021-02-12T12:27:46.106335Z\", \"created_time\": \"2021-02-12T12:26:24.893117Z\", \"created_time_dt\": \"2021-02-12T12:26:24.893117Z\", \"duration\": \"0:01:21\", \"iteration\": \"39\", \"goal\": \"accuracy_max\", \"run_name\": \"SparseNormalizer, XGBoostClassifier\", \"run_properties\": \"<azureml.automl.runtime.shared.model_wrappers.SparseNormalizer object at 0x7f9bdce189b0\", \"primary_metric\": 0.83632184, \"best_metric\": 0.86597701}, {\"run_id\": \"AutoML_e88ad83d-9bb0-4623-bb48-b1a373de1485_40\", \"run_number\": 45, \"metric\": null, \"status\": \"Completed\", \"run_type\": \"azureml.scriptrun\", \"training_percent\": \"100\", \"start_time\": \"2021-02-12T12:26:59.613516Z\", \"end_time\": \"2021-02-12T12:27:57.557871Z\", \"created_time\": \"2021-02-12T12:26:47.94916Z\", \"created_time_dt\": \"2021-02-12T12:26:47.94916Z\", \"duration\": \"0:01:09\", \"iteration\": \"40\", \"goal\": \"accuracy_max\", \"run_name\": \"MaxAbsScaler, LightGBM\", \"run_properties\": \"copy=True\", \"primary_metric\": 0.84252874, \"best_metric\": 0.86597701}, {\"run_id\": \"AutoML_e88ad83d-9bb0-4623-bb48-b1a373de1485_41\", \"run_number\": 46, \"metric\": null, \"status\": \"Completed\", \"run_type\": \"azureml.scriptrun\", \"training_percent\": \"100\", \"start_time\": \"2021-02-12T12:27:02.860582Z\", \"end_time\": \"2021-02-12T12:27:59.451122Z\", \"created_time\": \"2021-02-12T12:26:52.193287Z\", \"created_time_dt\": \"2021-02-12T12:26:52.193287Z\", \"duration\": \"0:01:07\", \"iteration\": \"41\", \"goal\": \"accuracy_max\", \"run_name\": \"MaxAbsScaler, RandomForest\", \"run_properties\": \"copy=True\", \"primary_metric\": 0.82942529, \"best_metric\": 0.86597701}, {\"run_id\": \"AutoML_e88ad83d-9bb0-4623-bb48-b1a373de1485_42\", \"run_number\": 47, \"metric\": null, \"status\": \"Completed\", \"run_type\": \"azureml.scriptrun\", \"training_percent\": \"100\", \"start_time\": \"2021-02-12T12:27:09.121624Z\", \"end_time\": \"2021-02-12T12:27:58.11122Z\", \"created_time\": \"2021-02-12T12:26:56.477323Z\", \"created_time_dt\": \"2021-02-12T12:26:56.477323Z\", \"duration\": \"0:01:01\", \"iteration\": \"42\", \"goal\": \"accuracy_max\", \"run_name\": \"StandardScalerWrapper, LightGBM\", \"run_properties\": \"<azureml.automl.runtime.shared.model_wrappers.StandardScalerWrapper object at 0x7f3af5d38dd8\", \"primary_metric\": 0.8291954, \"best_metric\": 0.86597701}, {\"run_id\": \"AutoML_e88ad83d-9bb0-4623-bb48-b1a373de1485_43\", \"run_number\": 48, \"metric\": null, \"status\": \"Completed\", \"run_type\": \"azureml.scriptrun\", \"training_percent\": \"100\", \"start_time\": \"2021-02-12T12:27:50.2298Z\", \"end_time\": \"2021-02-12T12:28:42.105194Z\", \"created_time\": \"2021-02-12T12:27:36.417842Z\", \"created_time_dt\": \"2021-02-12T12:27:36.417842Z\", \"duration\": \"0:01:05\", \"iteration\": \"43\", \"goal\": \"accuracy_max\", \"run_name\": \"MaxAbsScaler, LightGBM\", \"run_properties\": \"copy=True\", \"primary_metric\": 0.84264368, \"best_metric\": 0.86597701}, {\"run_id\": \"AutoML_e88ad83d-9bb0-4623-bb48-b1a373de1485_44\", \"run_number\": 49, \"metric\": null, \"status\": \"Completed\", \"run_type\": \"azureml.scriptrun\", \"training_percent\": \"100\", \"start_time\": \"2021-02-12T12:28:01.328171Z\", \"end_time\": \"2021-02-12T12:28:54.96901Z\", \"created_time\": \"2021-02-12T12:27:48.821803Z\", \"created_time_dt\": \"2021-02-12T12:27:48.821803Z\", \"duration\": \"0:01:06\", \"iteration\": \"44\", \"goal\": \"accuracy_max\", \"run_name\": \"MinMaxScaler, LightGBM\", \"run_properties\": \"copy=True, feature_range=(0, 1\", \"primary_metric\": 0.84264368, \"best_metric\": 0.86597701}, {\"run_id\": \"AutoML_e88ad83d-9bb0-4623-bb48-b1a373de1485_45\", \"run_number\": 50, \"metric\": null, \"status\": \"Canceled\", \"run_type\": \"azureml.scriptrun\", \"training_percent\": \"100\", \"start_time\": \"2021-02-12T12:28:12.097597Z\", \"end_time\": \"2021-02-12T12:29:13.871061Z\", \"created_time\": \"2021-02-12T12:28:01.094635Z\", \"created_time_dt\": \"2021-02-12T12:28:01.094635Z\", \"duration\": \"0:01:12\", \"iteration\": \"45\", \"goal\": \"accuracy_max\", \"run_name\": \"StandardScalerWrapper, LightGBM\", \"run_properties\": \"<azureml.automl.runtime.shared.model_wrappers.StandardScalerWrapper object at 0x7f21d08ca550\", \"primary_metric\": 0.6791954, \"best_metric\": 0.86597701}, {\"run_id\": \"AutoML_e88ad83d-9bb0-4623-bb48-b1a373de1485_46\", \"run_number\": 51, \"metric\": null, \"status\": \"Completed\", \"run_type\": \"azureml.scriptrun\", \"training_percent\": \"100\", \"start_time\": \"2021-02-12T12:28:14.574537Z\", \"end_time\": \"2021-02-12T12:29:04.455078Z\", \"created_time\": \"2021-02-12T12:28:01.274221Z\", \"created_time_dt\": \"2021-02-12T12:28:01.274221Z\", \"duration\": \"0:01:03\", \"iteration\": \"46\", \"goal\": \"accuracy_max\", \"run_name\": \"StandardScalerWrapper, XGBoostClassifier\", \"run_properties\": \"<azureml.automl.runtime.shared.model_wrappers.StandardScalerWrapper object at 0x7f494ac67ba8\", \"primary_metric\": 0.80586207, \"best_metric\": 0.86597701}, {\"run_id\": \"AutoML_e88ad83d-9bb0-4623-bb48-b1a373de1485_47\", \"run_number\": 52, \"metric\": null, \"status\": \"Canceled\", \"run_type\": \"azureml.scriptrun\", \"training_percent\": \"100\", \"start_time\": \"2021-02-12T12:28:20.262323Z\", \"end_time\": \"2021-02-12T12:29:12.233155Z\", \"created_time\": \"2021-02-12T12:28:06.840201Z\", \"created_time_dt\": \"2021-02-12T12:28:06.840201Z\", \"duration\": \"0:01:05\", \"iteration\": \"47\", \"goal\": \"accuracy_max\", \"run_name\": \"StandardScalerWrapper, XGBoostClassifier\", \"run_properties\": \"<azureml.automl.runtime.shared.model_wrappers.StandardScalerWrapper object at 0x7fb02d8ce160\", \"primary_metric\": 0.8291954, \"best_metric\": 0.86597701}, {\"run_id\": \"AutoML_e88ad83d-9bb0-4623-bb48-b1a373de1485_48\", \"run_number\": 53, \"metric\": null, \"status\": \"Canceled\", \"run_type\": \"azureml.scriptrun\", \"training_percent\": \"100\", \"start_time\": \"2021-02-12T12:28:58.15624Z\", \"end_time\": \"2021-02-12T12:29:12.906012Z\", \"created_time\": \"2021-02-12T12:28:44.801658Z\", \"created_time_dt\": \"2021-02-12T12:28:44.801658Z\", \"duration\": \"0:00:28\", \"iteration\": \"48\", \"goal\": null, \"run_name\": \"Canceled\", \"run_properties\": null}, {\"run_id\": \"AutoML_e88ad83d-9bb0-4623-bb48-b1a373de1485_49\", \"run_number\": 54, \"metric\": null, \"status\": \"Canceled\", \"run_type\": \"azureml.scriptrun\", \"training_percent\": \"100\", \"start_time\": \"2021-02-12T12:28:57.768359Z\", \"end_time\": \"2021-02-12T12:29:16.365297Z\", \"created_time\": \"2021-02-12T12:28:57.768359Z\", \"created_time_dt\": \"2021-02-12T12:28:57.768359Z\", \"duration\": \"0:00:18\", \"iteration\": \"49\", \"goal\": null, \"run_name\": \"Canceled\", \"run_properties\": null}, {\"run_id\": \"AutoML_e88ad83d-9bb0-4623-bb48-b1a373de1485_51\", \"run_number\": 55, \"metric\": null, \"status\": \"Completed\", \"run_type\": \"azureml.scriptrun\", \"training_percent\": \"100\", \"start_time\": \"2021-02-12T12:29:28.653575Z\", \"end_time\": \"2021-02-12T12:32:06.648166Z\", \"created_time\": \"2021-02-12T12:29:17.740908Z\", \"created_time_dt\": \"2021-02-12T12:29:17.740908Z\", \"duration\": \"0:02:48\", \"iteration\": \"51\", \"goal\": \"accuracy_max\", \"run_name\": \"StackEnsemble\", \"run_properties\": \"base_learners=[('32',\\n                                        Pipeline(memory=None,\\n                                                 steps=[('maxabsscaler',\\n                                                         MaxAbsScaler(copy=True\", \"primary_metric\": 0.86954023, \"best_metric\": 0.87965517}, {\"run_id\": \"AutoML_e88ad83d-9bb0-4623-bb48-b1a373de1485_50\", \"run_number\": 56, \"metric\": null, \"status\": \"Completed\", \"run_type\": \"azureml.scriptrun\", \"training_percent\": \"100\", \"start_time\": \"2021-02-12T12:29:30.642072Z\", \"end_time\": \"2021-02-12T12:32:03.352987Z\", \"created_time\": \"2021-02-12T12:29:17.738388Z\", \"created_time_dt\": \"2021-02-12T12:29:17.738388Z\", \"duration\": \"0:02:45\", \"iteration\": \"50\", \"goal\": \"accuracy_max\", \"run_name\": \"VotingEnsemble\", \"run_properties\": \"classification_labels=None,\\n                              estimators=[('32',\\n                                           Pipeline(memory=None,\\n                                                    steps=[('maxabsscaler',\\n                                                            MaxAbsScaler(copy=True\", \"primary_metric\": 0.87965517, \"best_metric\": 0.87965517}], \"children_metrics\": {\"categories\": [0], \"series\": {\"weighted_accuracy\": [{\"categories\": [\"0\", \"1\", \"2\", \"3\", \"4\", \"5\", \"6\", \"7\", \"8\", \"9\", \"10\", \"11\", \"12\", \"13\", \"14\", \"15\", \"16\", \"17\", \"18\", \"19\", \"20\", \"21\", \"22\", \"23\", \"24\", \"25\", \"26\", \"27\", \"28\", \"29\", \"30\", \"31\", \"32\", \"33\", \"34\", \"35\", \"36\", \"37\", \"38\", \"39\", \"40\", \"41\", \"42\", \"43\", \"44\", \"45\", \"46\", \"47\", \"50\", \"51\"], \"mode\": \"markers\", \"name\": \"weighted_accuracy\", \"stepped\": false, \"type\": \"scatter\", \"data\": [0.8541321922200625, 0.8502962163535492, 0.8828492054945576, 0.8621276024294225, 0.8390005860189019, 0.8617759438127169, 0.781757011907631, 0.8459653173983817, 0.8595287859119706, 0.8640079405944784, 0.8639427656915499, 0.8563377791450894, 0.8537749403572639, 0.8409032945905187, 0.8669339017794584, 0.8385082313085942, 0.8734514076072569, 0.8451681878460313, 0.8489197405665564, 0.882931155077037, 0.8339584206141429, 0.8519506727323141, 0.8867449608081733, 0.8700946692224327, 0.8587190916032093, 0.830494000340068, 0.8408563575998682, 0.8114301889707528, 0.8309637042566547, 0.8149038148718724, 0.7931711479234276, 0.8748731732257872, 0.8786441099538355, 0.8706545406478282, 0.8569762141082642, 0.6012216538106381, 0.8653031437410797, 0.8688762206489251, 0.8417445207176563, 0.8711481725986866, 0.8618810422840963, 0.8738164457621547, 0.8435504352346621, 0.8712996304658367, 0.8644676882147795, 0.7931711479234276, 0.83677571517602, 0.8462373230424924, 0.9018399961031077, 0.8901933546025969]}, {\"categories\": [\"0\", \"1\", \"2\", \"3\", \"4\", \"5\", \"6\", \"7\", \"8\", \"9\", \"10\", \"11\", \"12\", \"13\", \"14\", \"15\", \"16\", \"17\", \"18\", \"19\", \"20\", \"21\", \"22\", \"23\", \"24\", \"25\", \"26\", \"27\", \"28\", \"29\", \"30\", \"31\", \"32\", \"33\", \"34\", \"35\", \"36\", \"37\", \"38\", \"39\", \"40\", \"41\", \"42\", \"43\", \"44\", \"45\", \"46\", \"47\", \"50\", \"51\"], \"mode\": \"lines\", \"name\": \"weighted_accuracy_max\", \"stepped\": true, \"type\": \"scatter\", \"data\": [0.8541321922200625, 0.8541321922200625, 0.8828492054945576, 0.8828492054945576, 0.8828492054945576, 0.8828492054945576, 0.8828492054945576, 0.8828492054945576, 0.8828492054945576, 0.8828492054945576, 0.8828492054945576, 0.8828492054945576, 0.8828492054945576, 0.8828492054945576, 0.8828492054945576, 0.8828492054945576, 0.8828492054945576, 0.8828492054945576, 0.8828492054945576, 0.882931155077037, 0.882931155077037, 0.882931155077037, 0.8867449608081733, 0.8867449608081733, 0.8867449608081733, 0.8867449608081733, 0.8867449608081733, 0.8867449608081733, 0.8867449608081733, 0.8867449608081733, 0.8867449608081733, 0.8867449608081733, 0.8867449608081733, 0.8867449608081733, 0.8867449608081733, 0.8867449608081733, 0.8867449608081733, 0.8867449608081733, 0.8867449608081733, 0.8867449608081733, 0.8867449608081733, 0.8867449608081733, 0.8867449608081733, 0.8867449608081733, 0.8867449608081733, 0.8867449608081733, 0.8867449608081733, 0.8867449608081733, 0.9018399961031077, 0.9018399961031077]}], \"recall_score_macro\": [{\"categories\": [\"0\", \"1\", \"2\", \"3\", \"4\", \"5\", \"6\", \"7\", \"8\", \"9\", \"10\", \"11\", \"12\", \"13\", \"14\", \"15\", \"16\", \"17\", \"18\", \"19\", \"20\", \"21\", \"22\", \"23\", \"24\", \"25\", \"26\", \"27\", \"28\", \"29\", \"30\", \"31\", \"32\", \"33\", \"34\", \"35\", \"36\", \"37\", \"38\", \"39\", \"40\", \"41\", \"42\", \"43\", \"44\", \"45\", \"46\", \"47\", \"50\", \"51\"], \"mode\": \"markers\", \"name\": \"recall_score_macro\", \"stepped\": false, \"type\": \"scatter\", \"data\": [0.8077082895810014, 0.8130249020938379, 0.8225557776192787, 0.7957560890038006, 0.8216116406794324, 0.8195872359588033, 0.6515480309799531, 0.785013547950905, 0.7918168440699906, 0.8019137909827269, 0.8192160997850356, 0.7865307368388033, 0.7999603913439726, 0.6307160894660895, 0.7992019669562576, 0.758680183247975, 0.810638899207835, 0.7878200375774747, 0.7625731572013036, 0.8034627040262052, 0.6325108225108225, 0.702965260648327, 0.826208375021876, 0.7560270344008903, 0.8177709338398698, 0.815968413292784, 0.819523852037868, 0.7959341836970555, 0.8251782399840181, 0.8279178322948345, 0.5, 0.8190874068405533, 0.8458997852833665, 0.8002588487027845, 0.7603868201465456, 0.5458472663873122, 0.8173921459610819, 0.8075297722237081, 0.83348947261104, 0.7798895666372783, 0.8136783159314624, 0.7574745452234011, 0.8069273286146856, 0.7993124828705492, 0.8099516697706056, 0.5, 0.7611262188739305, 0.8031104948636413, 0.8444691975326986, 0.8368975572164932]}, {\"categories\": [\"0\", \"1\", \"2\", \"3\", \"4\", \"5\", \"6\", \"7\", \"8\", \"9\", \"10\", \"11\", \"12\", \"13\", \"14\", \"15\", \"16\", \"17\", \"18\", \"19\", \"20\", \"21\", \"22\", \"23\", \"24\", \"25\", \"26\", \"27\", \"28\", \"29\", \"30\", \"31\", \"32\", \"33\", \"34\", \"35\", \"36\", \"37\", \"38\", \"39\", \"40\", \"41\", \"42\", \"43\", \"44\", \"45\", \"46\", \"47\", \"50\", \"51\"], \"mode\": \"lines\", \"name\": \"recall_score_macro_max\", \"stepped\": true, \"type\": \"scatter\", \"data\": [0.8077082895810014, 0.8130249020938379, 0.8225557776192787, 0.8225557776192787, 0.8225557776192787, 0.8225557776192787, 0.8225557776192787, 0.8225557776192787, 0.8225557776192787, 0.8225557776192787, 0.8225557776192787, 0.8225557776192787, 0.8225557776192787, 0.8225557776192787, 0.8225557776192787, 0.8225557776192787, 0.8225557776192787, 0.8225557776192787, 0.8225557776192787, 0.8225557776192787, 0.8225557776192787, 0.8225557776192787, 0.826208375021876, 0.826208375021876, 0.826208375021876, 0.826208375021876, 0.826208375021876, 0.826208375021876, 0.826208375021876, 0.8279178322948345, 0.8279178322948345, 0.8279178322948345, 0.8458997852833665, 0.8458997852833665, 0.8458997852833665, 0.8458997852833665, 0.8458997852833665, 0.8458997852833665, 0.8458997852833665, 0.8458997852833665, 0.8458997852833665, 0.8458997852833665, 0.8458997852833665, 0.8458997852833665, 0.8458997852833665, 0.8458997852833665, 0.8458997852833665, 0.8458997852833665, 0.8458997852833665, 0.8458997852833665]}], \"matthews_correlation\": [{\"categories\": [\"0\", \"1\", \"2\", \"3\", \"4\", \"5\", \"6\", \"7\", \"8\", \"9\", \"10\", \"11\", \"12\", \"13\", \"14\", \"15\", \"16\", \"17\", \"18\", \"19\", \"20\", \"21\", \"22\", \"23\", \"24\", \"25\", \"26\", \"27\", \"28\", \"29\", \"30\", \"31\", \"32\", \"33\", \"34\", \"35\", \"36\", \"37\", \"38\", \"39\", \"40\", \"41\", \"42\", \"43\", \"44\", \"45\", \"46\", \"47\", \"50\", \"51\"], \"mode\": \"markers\", \"name\": \"matthews_correlation\", \"stepped\": false, \"type\": \"scatter\", \"data\": [0.6231314496952846, 0.6345538749068885, 0.6757045097465304, 0.616060177233241, 0.6238629594735621, 0.6615141089807668, 0.34178208332788634, 0.5926056841761447, 0.6181804708226917, 0.6345874802720357, 0.6547776486345679, 0.5950613012320518, 0.6251514690683962, 0.41993956162728124, 0.6320897071733595, 0.5420631828594559, 0.6526669490817252, 0.5986771914346563, 0.5742971315138105, 0.6617265669008684, 0.41316531327181255, 0.5148609149152197, 0.690702404820434, 0.5928486670507654, 0.6462559215016896, 0.6068236181377811, 0.625332668103895, 0.5777897792816931, 0.6240544082056937, 0.6151681793040025, 0.0, 0.6760151201633697, 0.7005804823606094, 0.6467644007364978, 0.5859889020033766, 0.0855132076077241, 0.6515657725614947, 0.6476787835412388, 0.6434477968883564, 0.6243448268591918, 0.6456530221925523, 0.5972285584520549, 0.6103906139746911, 0.6325413481576471, 0.6410564451644493, 0.0, 0.5527071889517196, 0.6128737532091374, 0.7362561689923155, 0.7080641381708723]}, {\"categories\": [\"0\", \"1\", \"2\", \"3\", \"4\", \"5\", \"6\", \"7\", \"8\", \"9\", \"10\", \"11\", \"12\", \"13\", \"14\", \"15\", \"16\", \"17\", \"18\", \"19\", \"20\", \"21\", \"22\", \"23\", \"24\", \"25\", \"26\", \"27\", \"28\", \"29\", \"30\", \"31\", \"32\", \"33\", \"34\", \"35\", \"36\", \"37\", \"38\", \"39\", \"40\", \"41\", \"42\", \"43\", \"44\", \"45\", \"46\", \"47\", \"50\", \"51\"], \"mode\": \"lines\", \"name\": \"matthews_correlation_max\", \"stepped\": true, \"type\": \"scatter\", \"data\": [0.6231314496952846, 0.6345538749068885, 0.6757045097465304, 0.6757045097465304, 0.6757045097465304, 0.6757045097465304, 0.6757045097465304, 0.6757045097465304, 0.6757045097465304, 0.6757045097465304, 0.6757045097465304, 0.6757045097465304, 0.6757045097465304, 0.6757045097465304, 0.6757045097465304, 0.6757045097465304, 0.6757045097465304, 0.6757045097465304, 0.6757045097465304, 0.6757045097465304, 0.6757045097465304, 0.6757045097465304, 0.690702404820434, 0.690702404820434, 0.690702404820434, 0.690702404820434, 0.690702404820434, 0.690702404820434, 0.690702404820434, 0.690702404820434, 0.690702404820434, 0.690702404820434, 0.7005804823606094, 0.7005804823606094, 0.7005804823606094, 0.7005804823606094, 0.7005804823606094, 0.7005804823606094, 0.7005804823606094, 0.7005804823606094, 0.7005804823606094, 0.7005804823606094, 0.7005804823606094, 0.7005804823606094, 0.7005804823606094, 0.7005804823606094, 0.7005804823606094, 0.7005804823606094, 0.7362561689923155, 0.7362561689923155]}], \"precision_score_macro\": [{\"categories\": [\"0\", \"1\", \"2\", \"3\", \"4\", \"5\", \"6\", \"7\", \"8\", \"9\", \"10\", \"11\", \"12\", \"13\", \"14\", \"15\", \"16\", \"17\", \"18\", \"19\", \"20\", \"21\", \"22\", \"23\", \"24\", \"25\", \"26\", \"27\", \"28\", \"29\", \"30\", \"31\", \"32\", \"33\", \"34\", \"35\", \"36\", \"37\", \"38\", \"39\", \"40\", \"41\", \"42\", \"43\", \"44\", \"45\", \"46\", \"47\", \"50\", \"51\"], \"mode\": \"markers\", \"name\": \"precision_score_macro\", \"stepped\": false, \"type\": \"scatter\", \"data\": [0.8167365852764965, 0.8232986049897815, 0.8567672335404535, 0.8228416240622123, 0.8037841639672303, 0.843729332261941, 0.7064323740144578, 0.8098152219970096, 0.8294928031541303, 0.8346361199822299, 0.8392265128307328, 0.8095391698944331, 0.8302320007731906, 0.8598423504975228, 0.8366777806592385, 0.7853385886633968, 0.8451538107313784, 0.8133497194072137, 0.8189554616923038, 0.864513468013468, 0.8396562771727689, 0.8336829989656078, 0.8677259411704492, 0.8457606640541423, 0.83090681008392, 0.7922944796861205, 0.8070096643122959, 0.7830775650741326, 0.8002290640963409, 0.790274562468835, 0.33959770114942534, 0.8600354550961967, 0.8564230603081727, 0.8500677656312667, 0.8349356593487027, 0.540063376904052, 0.8361298560961034, 0.843808893665873, 0.8109734089010404, 0.8506061371038488, 0.8348028297027152, 0.8497718582375334, 0.8048667576384968, 0.8357499232270399, 0.8336255411255411, 0.33959770114942534, 0.797496918540397, 0.8115778619646907, 0.8964329836829835, 0.8740405970840752]}, {\"categories\": [\"0\", \"1\", \"2\", \"3\", \"4\", \"5\", \"6\", \"7\", \"8\", \"9\", \"10\", \"11\", \"12\", \"13\", \"14\", \"15\", \"16\", \"17\", \"18\", \"19\", \"20\", \"21\", \"22\", \"23\", \"24\", \"25\", \"26\", \"27\", \"28\", \"29\", \"30\", \"31\", \"32\", \"33\", \"34\", \"35\", \"36\", \"37\", \"38\", \"39\", \"40\", \"41\", \"42\", \"43\", \"44\", \"45\", \"46\", \"47\", \"50\", \"51\"], \"mode\": \"lines\", \"name\": \"precision_score_macro_max\", \"stepped\": true, \"type\": \"scatter\", \"data\": [0.8167365852764965, 0.8232986049897815, 0.8567672335404535, 0.8567672335404535, 0.8567672335404535, 0.8567672335404535, 0.8567672335404535, 0.8567672335404535, 0.8567672335404535, 0.8567672335404535, 0.8567672335404535, 0.8567672335404535, 0.8567672335404535, 0.8598423504975228, 0.8598423504975228, 0.8598423504975228, 0.8598423504975228, 0.8598423504975228, 0.8598423504975228, 0.864513468013468, 0.864513468013468, 0.864513468013468, 0.8677259411704492, 0.8677259411704492, 0.8677259411704492, 0.8677259411704492, 0.8677259411704492, 0.8677259411704492, 0.8677259411704492, 0.8677259411704492, 0.8677259411704492, 0.8677259411704492, 0.8677259411704492, 0.8677259411704492, 0.8677259411704492, 0.8677259411704492, 0.8677259411704492, 0.8677259411704492, 0.8677259411704492, 0.8677259411704492, 0.8677259411704492, 0.8677259411704492, 0.8677259411704492, 0.8677259411704492, 0.8677259411704492, 0.8677259411704492, 0.8677259411704492, 0.8677259411704492, 0.8964329836829835, 0.8964329836829835]}], \"average_precision_score_weighted\": [{\"categories\": [\"0\", \"1\", \"2\", \"3\", \"4\", \"5\", \"6\", \"7\", \"8\", \"9\", \"10\", \"11\", \"12\", \"13\", \"14\", \"15\", \"16\", \"17\", \"18\", \"19\", \"20\", \"21\", \"22\", \"23\", \"24\", \"25\", \"26\", \"27\", \"28\", \"29\", \"30\", \"31\", \"32\", \"33\", \"34\", \"35\", \"36\", \"37\", \"38\", \"39\", \"40\", \"41\", \"42\", \"43\", \"44\", \"45\", \"46\", \"47\", \"50\", \"51\"], \"mode\": \"markers\", \"name\": \"average_precision_score_weighted\", \"stepped\": false, \"type\": \"scatter\", \"data\": [0.9061112830231934, 0.907154018724502, 0.9198324680766887, 0.9116082045973908, 0.9241512887992636, 0.916940718797869, 0.7902984708289256, 0.9006152166437232, 0.9165549146745361, 0.9126926295526324, 0.9187745133372205, 0.9164793532739495, 0.9042677325897064, 0.8992124057005514, 0.9185264340158863, 0.8764764478120824, 0.9060660336140408, 0.8880513236037834, 0.9148132428087162, 0.925934025047994, 0.9002769527869727, 0.9027418141311234, 0.92174537388433, 0.8805846193007794, 0.9249797654505235, 0.9091832324257167, 0.9057643729240578, 0.910954624936763, 0.9244699303095473, 0.9247754670671325, 0.7627126707885343, 0.9135489525886014, 0.9221580914389845, 0.8974572606303326, 0.9080352585855126, 0.6081111043957174, 0.9199677487255465, 0.9173738936965938, 0.9219013788095175, 0.8933117586532398, 0.9142071355380399, 0.911072040630007, 0.9122739829632138, 0.9128585781760818, 0.9250095480051399, 0.8940445838304907, 0.8898096511813464, 0.9211665291831744, 0.9278950886506058, 0.9275092321314087]}, {\"categories\": [\"0\", \"1\", \"2\", \"3\", \"4\", \"5\", \"6\", \"7\", \"8\", \"9\", \"10\", \"11\", \"12\", \"13\", \"14\", \"15\", \"16\", \"17\", \"18\", \"19\", \"20\", \"21\", \"22\", \"23\", \"24\", \"25\", \"26\", \"27\", \"28\", \"29\", \"30\", \"31\", \"32\", \"33\", \"34\", \"35\", \"36\", \"37\", \"38\", \"39\", \"40\", \"41\", \"42\", \"43\", \"44\", \"45\", \"46\", \"47\", \"50\", \"51\"], \"mode\": \"lines\", \"name\": \"average_precision_score_weighted_max\", \"stepped\": true, \"type\": \"scatter\", \"data\": [0.9061112830231934, 0.907154018724502, 0.9198324680766887, 0.9198324680766887, 0.9241512887992636, 0.9241512887992636, 0.9241512887992636, 0.9241512887992636, 0.9241512887992636, 0.9241512887992636, 0.9241512887992636, 0.9241512887992636, 0.9241512887992636, 0.9241512887992636, 0.9241512887992636, 0.9241512887992636, 0.9241512887992636, 0.9241512887992636, 0.9241512887992636, 0.925934025047994, 0.925934025047994, 0.925934025047994, 0.925934025047994, 0.925934025047994, 0.925934025047994, 0.925934025047994, 0.925934025047994, 0.925934025047994, 0.925934025047994, 0.925934025047994, 0.925934025047994, 0.925934025047994, 0.925934025047994, 0.925934025047994, 0.925934025047994, 0.925934025047994, 0.925934025047994, 0.925934025047994, 0.925934025047994, 0.925934025047994, 0.925934025047994, 0.925934025047994, 0.925934025047994, 0.925934025047994, 0.925934025047994, 0.925934025047994, 0.925934025047994, 0.925934025047994, 0.9278950886506058, 0.9278950886506058]}], \"average_precision_score_micro\": [{\"categories\": [\"0\", \"1\", \"2\", \"3\", \"4\", \"5\", \"6\", \"7\", \"8\", \"9\", \"10\", \"11\", \"12\", \"13\", \"14\", \"15\", \"16\", \"17\", \"18\", \"19\", \"20\", \"21\", \"22\", \"23\", \"24\", \"25\", \"26\", \"27\", \"28\", \"29\", \"30\", \"31\", \"32\", \"33\", \"34\", \"35\", \"36\", \"37\", \"38\", \"39\", \"40\", \"41\", \"42\", \"43\", \"44\", \"45\", \"46\", \"47\", \"50\", \"51\"], \"mode\": \"markers\", \"name\": \"average_precision_score_micro\", \"stepped\": false, \"type\": \"scatter\", \"data\": [0.9020054536251629, 0.9033793522124445, 0.9164252700887092, 0.9154071707446683, 0.9145827582673711, 0.9127116894814105, 0.7829188349514646, 0.895111815566743, 0.9076713764950277, 0.9080346510055284, 0.9205487137516846, 0.9134079205774688, 0.9019692978998345, 0.8688128363733986, 0.9100085270296232, 0.876380860099481, 0.9015291478498986, 0.8852817402339633, 0.9104410359135713, 0.9219155032898192, 0.8673206731624405, 0.8795956929898026, 0.9159075533643181, 0.8724569354642544, 0.9239830236272095, 0.9008664433932418, 0.8885378014429159, 0.8934138482546686, 0.9110080908925354, 0.9077866106381537, 0.7816929029855897, 0.9060705912512297, 0.9217113065354008, 0.8941908595347403, 0.9019715624413595, 0.5499791471920671, 0.9132122981745343, 0.919374690999107, 0.9100003364270493, 0.8871643091545641, 0.9103596103126405, 0.900822158163049, 0.9059588200074911, 0.9035880870479078, 0.9199062254949626, 0.8522418257082501, 0.8837786179053586, 0.9145235906707821, 0.9250741873288669, 0.9214254925350399]}, {\"categories\": [\"0\", \"1\", \"2\", \"3\", \"4\", \"5\", \"6\", \"7\", \"8\", \"9\", \"10\", \"11\", \"12\", \"13\", \"14\", \"15\", \"16\", \"17\", \"18\", \"19\", \"20\", \"21\", \"22\", \"23\", \"24\", \"25\", \"26\", \"27\", \"28\", \"29\", \"30\", \"31\", \"32\", \"33\", \"34\", \"35\", \"36\", \"37\", \"38\", \"39\", \"40\", \"41\", \"42\", \"43\", \"44\", \"45\", \"46\", \"47\", \"50\", \"51\"], \"mode\": \"lines\", \"name\": \"average_precision_score_micro_max\", \"stepped\": true, \"type\": \"scatter\", \"data\": [0.9020054536251629, 0.9033793522124445, 0.9164252700887092, 0.9164252700887092, 0.9164252700887092, 0.9164252700887092, 0.9164252700887092, 0.9164252700887092, 0.9164252700887092, 0.9164252700887092, 0.9205487137516846, 0.9205487137516846, 0.9205487137516846, 0.9205487137516846, 0.9205487137516846, 0.9205487137516846, 0.9205487137516846, 0.9205487137516846, 0.9205487137516846, 0.9219155032898192, 0.9219155032898192, 0.9219155032898192, 0.9219155032898192, 0.9219155032898192, 0.9239830236272095, 0.9239830236272095, 0.9239830236272095, 0.9239830236272095, 0.9239830236272095, 0.9239830236272095, 0.9239830236272095, 0.9239830236272095, 0.9239830236272095, 0.9239830236272095, 0.9239830236272095, 0.9239830236272095, 0.9239830236272095, 0.9239830236272095, 0.9239830236272095, 0.9239830236272095, 0.9239830236272095, 0.9239830236272095, 0.9239830236272095, 0.9239830236272095, 0.9239830236272095, 0.9239830236272095, 0.9239830236272095, 0.9239830236272095, 0.9250741873288669, 0.9250741873288669]}], \"balanced_accuracy\": [{\"categories\": [\"0\", \"1\", \"2\", \"3\", \"4\", \"5\", \"6\", \"7\", \"8\", \"9\", \"10\", \"11\", \"12\", \"13\", \"14\", \"15\", \"16\", \"17\", \"18\", \"19\", \"20\", \"21\", \"22\", \"23\", \"24\", \"25\", \"26\", \"27\", \"28\", \"29\", \"30\", \"31\", \"32\", \"33\", \"34\", \"35\", \"36\", \"37\", \"38\", \"39\", \"40\", \"41\", \"42\", \"43\", \"44\", \"45\", \"46\", \"47\", \"50\", \"51\"], \"mode\": \"markers\", \"name\": \"balanced_accuracy\", \"stepped\": false, \"type\": \"scatter\", \"data\": [0.8077082895810014, 0.8130249020938379, 0.8225557776192787, 0.7957560890038006, 0.8216116406794324, 0.8195872359588033, 0.6515480309799531, 0.785013547950905, 0.7918168440699906, 0.8019137909827269, 0.8192160997850356, 0.7865307368388033, 0.7999603913439726, 0.6307160894660895, 0.7992019669562576, 0.758680183247975, 0.810638899207835, 0.7878200375774747, 0.7625731572013036, 0.8034627040262052, 0.6325108225108225, 0.702965260648327, 0.826208375021876, 0.7560270344008903, 0.8177709338398698, 0.815968413292784, 0.819523852037868, 0.7959341836970555, 0.8251782399840181, 0.8279178322948345, 0.5, 0.8190874068405533, 0.8458997852833665, 0.8002588487027845, 0.7603868201465456, 0.5458472663873122, 0.8173921459610819, 0.8075297722237081, 0.83348947261104, 0.7798895666372783, 0.8136783159314624, 0.7574745452234011, 0.8069273286146856, 0.7993124828705492, 0.8099516697706056, 0.5, 0.7611262188739305, 0.8031104948636413, 0.8444691975326986, 0.8368975572164932]}, {\"categories\": [\"0\", \"1\", \"2\", \"3\", \"4\", \"5\", \"6\", \"7\", \"8\", \"9\", \"10\", \"11\", \"12\", \"13\", \"14\", \"15\", \"16\", \"17\", \"18\", \"19\", \"20\", \"21\", \"22\", \"23\", \"24\", \"25\", \"26\", \"27\", \"28\", \"29\", \"30\", \"31\", \"32\", \"33\", \"34\", \"35\", \"36\", \"37\", \"38\", \"39\", \"40\", \"41\", \"42\", \"43\", \"44\", \"45\", \"46\", \"47\", \"50\", \"51\"], \"mode\": \"lines\", \"name\": \"balanced_accuracy_max\", \"stepped\": true, \"type\": \"scatter\", \"data\": [0.8077082895810014, 0.8130249020938379, 0.8225557776192787, 0.8225557776192787, 0.8225557776192787, 0.8225557776192787, 0.8225557776192787, 0.8225557776192787, 0.8225557776192787, 0.8225557776192787, 0.8225557776192787, 0.8225557776192787, 0.8225557776192787, 0.8225557776192787, 0.8225557776192787, 0.8225557776192787, 0.8225557776192787, 0.8225557776192787, 0.8225557776192787, 0.8225557776192787, 0.8225557776192787, 0.8225557776192787, 0.826208375021876, 0.826208375021876, 0.826208375021876, 0.826208375021876, 0.826208375021876, 0.826208375021876, 0.826208375021876, 0.8279178322948345, 0.8279178322948345, 0.8279178322948345, 0.8458997852833665, 0.8458997852833665, 0.8458997852833665, 0.8458997852833665, 0.8458997852833665, 0.8458997852833665, 0.8458997852833665, 0.8458997852833665, 0.8458997852833665, 0.8458997852833665, 0.8458997852833665, 0.8458997852833665, 0.8458997852833665, 0.8458997852833665, 0.8458997852833665, 0.8458997852833665, 0.8458997852833665, 0.8458997852833665]}], \"f1_score_macro\": [{\"categories\": [\"0\", \"1\", \"2\", \"3\", \"4\", \"5\", \"6\", \"7\", \"8\", \"9\", \"10\", \"11\", \"12\", \"13\", \"14\", \"15\", \"16\", \"17\", \"18\", \"19\", \"20\", \"21\", \"22\", \"23\", \"24\", \"25\", \"26\", \"27\", \"28\", \"29\", \"30\", \"31\", \"32\", \"33\", \"34\", \"35\", \"36\", \"37\", \"38\", \"39\", \"40\", \"41\", \"42\", \"43\", \"44\", \"45\", \"46\", \"47\", \"50\", \"51\"], \"mode\": \"markers\", \"name\": \"f1_score_macro\", \"stepped\": false, \"type\": \"scatter\", \"data\": [0.8043314151248963, 0.8078501228997539, 0.8253295059242529, 0.7995996762436158, 0.8030776167917993, 0.8195286170810867, 0.6353070785738473, 0.7844731356932927, 0.795801446434647, 0.8074461666644328, 0.8136810616632454, 0.7908758704688407, 0.7985142741080727, 0.6219075071334602, 0.800592919675218, 0.7603669925285953, 0.8139218100656445, 0.7859665734784926, 0.7681720336915822, 0.8136679839215774, 0.6260952275262537, 0.7132507296107068, 0.8309075179618658, 0.7757918730447664, 0.810490950706052, 0.7960118673877803, 0.8053606161938361, 0.7803701370308281, 0.8041038909407104, 0.7956578782993624, 0.4024893878511494, 0.8245044008279303, 0.842166889470079, 0.8089844281740903, 0.7695296688112171, 0.5238574690089399, 0.8144215915557138, 0.8119667393333095, 0.8153007766401202, 0.7951775306782758, 0.8115173689267563, 0.7737786599278955, 0.7964171131703075, 0.8037759609597854, 0.8099093597097031, 0.4024893878511494, 0.7577982681639169, 0.7959294898523678, 0.8530330369482726, 0.8421672430135609]}, {\"categories\": [\"0\", \"1\", \"2\", \"3\", \"4\", \"5\", \"6\", \"7\", \"8\", \"9\", \"10\", \"11\", \"12\", \"13\", \"14\", \"15\", \"16\", \"17\", \"18\", \"19\", \"20\", \"21\", \"22\", \"23\", \"24\", \"25\", \"26\", \"27\", \"28\", \"29\", \"30\", \"31\", \"32\", \"33\", \"34\", \"35\", \"36\", \"37\", \"38\", \"39\", \"40\", \"41\", \"42\", \"43\", \"44\", \"45\", \"46\", \"47\", \"50\", \"51\"], \"mode\": \"lines\", \"name\": \"f1_score_macro_max\", \"stepped\": true, \"type\": \"scatter\", \"data\": [0.8043314151248963, 0.8078501228997539, 0.8253295059242529, 0.8253295059242529, 0.8253295059242529, 0.8253295059242529, 0.8253295059242529, 0.8253295059242529, 0.8253295059242529, 0.8253295059242529, 0.8253295059242529, 0.8253295059242529, 0.8253295059242529, 0.8253295059242529, 0.8253295059242529, 0.8253295059242529, 0.8253295059242529, 0.8253295059242529, 0.8253295059242529, 0.8253295059242529, 0.8253295059242529, 0.8253295059242529, 0.8309075179618658, 0.8309075179618658, 0.8309075179618658, 0.8309075179618658, 0.8309075179618658, 0.8309075179618658, 0.8309075179618658, 0.8309075179618658, 0.8309075179618658, 0.8309075179618658, 0.842166889470079, 0.842166889470079, 0.842166889470079, 0.842166889470079, 0.842166889470079, 0.842166889470079, 0.842166889470079, 0.842166889470079, 0.842166889470079, 0.842166889470079, 0.842166889470079, 0.842166889470079, 0.842166889470079, 0.842166889470079, 0.842166889470079, 0.842166889470079, 0.8530330369482726, 0.8530330369482726]}], \"accuracy\": [{\"categories\": [\"0\", \"1\", \"2\", \"3\", \"4\", \"5\", \"6\", \"7\", \"8\", \"9\", \"10\", \"11\", \"12\", \"13\", \"14\", \"15\", \"16\", \"17\", \"18\", \"19\", \"20\", \"21\", \"22\", \"23\", \"24\", \"25\", \"26\", \"27\", \"28\", \"29\", \"30\", \"31\", \"32\", \"33\", \"34\", \"35\", \"36\", \"37\", \"38\", \"39\", \"40\", \"41\", \"42\", \"43\", \"44\", \"45\", \"46\", \"47\", \"50\", \"51\"], \"mode\": \"markers\", \"name\": \"accuracy\", \"stepped\": false, \"type\": \"scatter\", \"data\": [0.8359770114942527, 0.8358620689655172, 0.859425287356322, 0.8363218390804598, 0.8325287356321839, 0.8460919540229884, 0.7291954022988507, 0.8228735632183908, 0.8327586206896551, 0.8393103448275863, 0.8462068965517242, 0.8289655172413793, 0.8328735632183909, 0.7593103448275862, 0.8393103448275863, 0.8093103448275862, 0.8495402298850575, 0.822528735632184, 0.8159770114942528, 0.8527586206896552, 0.7559770114942529, 0.7927586206896552, 0.8628735632183909, 0.8262068965517241, 0.8425287356321839, 0.8257471264367817, 0.8324137931034483, 0.8055172413793104, 0.8291954022988506, 0.8189655172413792, 0.6791954022988507, 0.8529885057471265, 0.8659770114942529, 0.8428735632183908, 0.8195402298850574, 0.5788505747126436, 0.8459770114942529, 0.8460919540229886, 0.839080459770115, 0.8363218390804598, 0.842528735632184, 0.8294252873563218, 0.8291954022988506, 0.8426436781609195, 0.8426436781609195, 0.6791954022988507, 0.8058620689655172, 0.8291954022988506, 0.8796551724137931, 0.8695402298850576]}, {\"categories\": [\"0\", \"1\", \"2\", \"3\", \"4\", \"5\", \"6\", \"7\", \"8\", \"9\", \"10\", \"11\", \"12\", \"13\", \"14\", \"15\", \"16\", \"17\", \"18\", \"19\", \"20\", \"21\", \"22\", \"23\", \"24\", \"25\", \"26\", \"27\", \"28\", \"29\", \"30\", \"31\", \"32\", \"33\", \"34\", \"35\", \"36\", \"37\", \"38\", \"39\", \"40\", \"41\", \"42\", \"43\", \"44\", \"45\", \"46\", \"47\", \"50\", \"51\"], \"mode\": \"lines\", \"name\": \"accuracy_max\", \"stepped\": true, \"type\": \"scatter\", \"data\": [0.8359770114942527, 0.8359770114942527, 0.859425287356322, 0.859425287356322, 0.859425287356322, 0.859425287356322, 0.859425287356322, 0.859425287356322, 0.859425287356322, 0.859425287356322, 0.859425287356322, 0.859425287356322, 0.859425287356322, 0.859425287356322, 0.859425287356322, 0.859425287356322, 0.859425287356322, 0.859425287356322, 0.859425287356322, 0.859425287356322, 0.859425287356322, 0.859425287356322, 0.8628735632183909, 0.8628735632183909, 0.8628735632183909, 0.8628735632183909, 0.8628735632183909, 0.8628735632183909, 0.8628735632183909, 0.8628735632183909, 0.8628735632183909, 0.8628735632183909, 0.8659770114942529, 0.8659770114942529, 0.8659770114942529, 0.8659770114942529, 0.8659770114942529, 0.8659770114942529, 0.8659770114942529, 0.8659770114942529, 0.8659770114942529, 0.8659770114942529, 0.8659770114942529, 0.8659770114942529, 0.8659770114942529, 0.8659770114942529, 0.8659770114942529, 0.8659770114942529, 0.8796551724137931, 0.8796551724137931]}], \"AUC_weighted\": [{\"categories\": [\"0\", \"1\", \"2\", \"3\", \"4\", \"5\", \"6\", \"7\", \"8\", \"9\", \"10\", \"11\", \"12\", \"13\", \"14\", \"15\", \"16\", \"17\", \"18\", \"19\", \"20\", \"21\", \"22\", \"23\", \"24\", \"25\", \"26\", \"27\", \"28\", \"29\", \"30\", \"31\", \"32\", \"33\", \"34\", \"35\", \"36\", \"37\", \"38\", \"39\", \"40\", \"41\", \"42\", \"43\", \"44\", \"45\", \"46\", \"47\", \"50\", \"51\"], \"mode\": \"markers\", \"name\": \"AUC_weighted\", \"stepped\": false, \"type\": \"scatter\", \"data\": [0.8840955354735103, 0.8847369443591411, 0.9051069267646499, 0.895741354869387, 0.9091569801755156, 0.894868513813079, 0.747228730835653, 0.879342659940915, 0.900381358452125, 0.8972961414295512, 0.904698676780885, 0.9003715222124262, 0.8877728841757445, 0.8677734895264072, 0.9022516357593588, 0.8608370342027666, 0.8905101635291566, 0.8638387105774978, 0.8951362690597817, 0.9073075697313111, 0.8756314962582126, 0.8803532824705593, 0.9077483133063226, 0.8679325057676032, 0.9088533471084388, 0.8910597590264638, 0.8804248004178211, 0.8883923389116181, 0.9095228120531896, 0.9080429776956664, 0.735763007293156, 0.8992204292296397, 0.9069149364958291, 0.8746741002154046, 0.8956902993787719, 0.5247994342740911, 0.9056043603739254, 0.9017336197047296, 0.9066292854996517, 0.8747306323285157, 0.8985184116555113, 0.8940424974381497, 0.890948972535643, 0.8990051504199673, 0.9075940232938517, 0.8665196439165548, 0.8701587267053228, 0.90171569109973, 0.9150530131873381, 0.913629690360068]}, {\"categories\": [\"0\", \"1\", \"2\", \"3\", \"4\", \"5\", \"6\", \"7\", \"8\", \"9\", \"10\", \"11\", \"12\", \"13\", \"14\", \"15\", \"16\", \"17\", \"18\", \"19\", \"20\", \"21\", \"22\", \"23\", \"24\", \"25\", \"26\", \"27\", \"28\", \"29\", \"30\", \"31\", \"32\", \"33\", \"34\", \"35\", \"36\", \"37\", \"38\", \"39\", \"40\", \"41\", \"42\", \"43\", \"44\", \"45\", \"46\", \"47\", \"50\", \"51\"], \"mode\": \"lines\", \"name\": \"AUC_weighted_max\", \"stepped\": true, \"type\": \"scatter\", \"data\": [0.8840955354735103, 0.8847369443591411, 0.9051069267646499, 0.9051069267646499, 0.9091569801755156, 0.9091569801755156, 0.9091569801755156, 0.9091569801755156, 0.9091569801755156, 0.9091569801755156, 0.9091569801755156, 0.9091569801755156, 0.9091569801755156, 0.9091569801755156, 0.9091569801755156, 0.9091569801755156, 0.9091569801755156, 0.9091569801755156, 0.9091569801755156, 0.9091569801755156, 0.9091569801755156, 0.9091569801755156, 0.9091569801755156, 0.9091569801755156, 0.9091569801755156, 0.9091569801755156, 0.9091569801755156, 0.9091569801755156, 0.9095228120531896, 0.9095228120531896, 0.9095228120531896, 0.9095228120531896, 0.9095228120531896, 0.9095228120531896, 0.9095228120531896, 0.9095228120531896, 0.9095228120531896, 0.9095228120531896, 0.9095228120531896, 0.9095228120531896, 0.9095228120531896, 0.9095228120531896, 0.9095228120531896, 0.9095228120531896, 0.9095228120531896, 0.9095228120531896, 0.9095228120531896, 0.9095228120531896, 0.9150530131873381, 0.9150530131873381]}], \"recall_score_weighted\": [{\"categories\": [\"0\", \"1\", \"2\", \"3\", \"4\", \"5\", \"6\", \"7\", \"8\", \"9\", \"10\", \"11\", \"12\", \"13\", \"14\", \"15\", \"16\", \"17\", \"18\", \"19\", \"20\", \"21\", \"22\", \"23\", \"24\", \"25\", \"26\", \"27\", \"28\", \"29\", \"30\", \"31\", \"32\", \"33\", \"34\", \"35\", \"36\", \"37\", \"38\", \"39\", \"40\", \"41\", \"42\", \"43\", \"44\", \"45\", \"46\", \"47\", \"50\", \"51\"], \"mode\": \"markers\", \"name\": \"recall_score_weighted\", \"stepped\": false, \"type\": \"scatter\", \"data\": [0.8359770114942527, 0.8358620689655172, 0.859425287356322, 0.8363218390804598, 0.8325287356321839, 0.8460919540229884, 0.7291954022988507, 0.8228735632183908, 0.8327586206896551, 0.8393103448275863, 0.8462068965517242, 0.8289655172413793, 0.8328735632183909, 0.7593103448275862, 0.8393103448275863, 0.8093103448275862, 0.8495402298850575, 0.822528735632184, 0.8159770114942528, 0.8527586206896552, 0.7559770114942529, 0.7927586206896552, 0.8628735632183909, 0.8262068965517241, 0.8425287356321839, 0.8257471264367817, 0.8324137931034483, 0.8055172413793104, 0.8291954022988506, 0.8189655172413792, 0.6791954022988507, 0.8529885057471265, 0.8659770114942529, 0.8428735632183908, 0.8195402298850574, 0.5788505747126436, 0.8459770114942529, 0.8460919540229886, 0.839080459770115, 0.8363218390804598, 0.842528735632184, 0.8294252873563218, 0.8291954022988506, 0.8426436781609195, 0.8426436781609195, 0.6791954022988507, 0.8058620689655172, 0.8291954022988506, 0.8796551724137931, 0.8695402298850576]}, {\"categories\": [\"0\", \"1\", \"2\", \"3\", \"4\", \"5\", \"6\", \"7\", \"8\", \"9\", \"10\", \"11\", \"12\", \"13\", \"14\", \"15\", \"16\", \"17\", \"18\", \"19\", \"20\", \"21\", \"22\", \"23\", \"24\", \"25\", \"26\", \"27\", \"28\", \"29\", \"30\", \"31\", \"32\", \"33\", \"34\", \"35\", \"36\", \"37\", \"38\", \"39\", \"40\", \"41\", \"42\", \"43\", \"44\", \"45\", \"46\", \"47\", \"50\", \"51\"], \"mode\": \"lines\", \"name\": \"recall_score_weighted_max\", \"stepped\": true, \"type\": \"scatter\", \"data\": [0.8359770114942527, 0.8359770114942527, 0.859425287356322, 0.859425287356322, 0.859425287356322, 0.859425287356322, 0.859425287356322, 0.859425287356322, 0.859425287356322, 0.859425287356322, 0.859425287356322, 0.859425287356322, 0.859425287356322, 0.859425287356322, 0.859425287356322, 0.859425287356322, 0.859425287356322, 0.859425287356322, 0.859425287356322, 0.859425287356322, 0.859425287356322, 0.859425287356322, 0.8628735632183909, 0.8628735632183909, 0.8628735632183909, 0.8628735632183909, 0.8628735632183909, 0.8628735632183909, 0.8628735632183909, 0.8628735632183909, 0.8628735632183909, 0.8628735632183909, 0.8659770114942529, 0.8659770114942529, 0.8659770114942529, 0.8659770114942529, 0.8659770114942529, 0.8659770114942529, 0.8659770114942529, 0.8659770114942529, 0.8659770114942529, 0.8659770114942529, 0.8659770114942529, 0.8659770114942529, 0.8659770114942529, 0.8659770114942529, 0.8659770114942529, 0.8659770114942529, 0.8796551724137931, 0.8796551724137931]}], \"AUC_macro\": [{\"categories\": [\"0\", \"1\", \"2\", \"3\", \"4\", \"5\", \"6\", \"7\", \"8\", \"9\", \"10\", \"11\", \"12\", \"13\", \"14\", \"15\", \"16\", \"17\", \"18\", \"19\", \"20\", \"21\", \"22\", \"23\", \"24\", \"25\", \"26\", \"27\", \"28\", \"29\", \"30\", \"31\", \"32\", \"33\", \"34\", \"35\", \"36\", \"37\", \"38\", \"39\", \"40\", \"41\", \"42\", \"43\", \"44\", \"45\", \"46\", \"47\", \"50\", \"51\"], \"mode\": \"markers\", \"name\": \"AUC_macro\", \"stepped\": false, \"type\": \"scatter\", \"data\": [0.8840955354735103, 0.8847369443591411, 0.9051069267646499, 0.895741354869387, 0.9091569801755156, 0.894868513813079, 0.7472287308356531, 0.879342659940915, 0.900381358452125, 0.8972961414295512, 0.904698676780885, 0.900371522212426, 0.8877728841757445, 0.8677734895264072, 0.9022516357593588, 0.8608370342027666, 0.8905101635291567, 0.8638387105774978, 0.8951362690597817, 0.9073075697313111, 0.8756314962582126, 0.8803532824705593, 0.9077483133063226, 0.867932505767603, 0.9088533471084388, 0.8910597590264638, 0.8804248004178211, 0.8883923389116181, 0.9095228120531896, 0.9080429776956664, 0.735763007293156, 0.8992204292296396, 0.9069149364958291, 0.8746741002154046, 0.8956902993787719, 0.5247994342740911, 0.9056043603739254, 0.9017336197047294, 0.9066292854996517, 0.8747306323285157, 0.8985184116555113, 0.8940424974381497, 0.890948972535643, 0.8990051504199673, 0.9075940232938517, 0.8665196439165548, 0.8701587267053228, 0.90171569109973, 0.9150530131873381, 0.9136296903600678]}, {\"categories\": [\"0\", \"1\", \"2\", \"3\", \"4\", \"5\", \"6\", \"7\", \"8\", \"9\", \"10\", \"11\", \"12\", \"13\", \"14\", \"15\", \"16\", \"17\", \"18\", \"19\", \"20\", \"21\", \"22\", \"23\", \"24\", \"25\", \"26\", \"27\", \"28\", \"29\", \"30\", \"31\", \"32\", \"33\", \"34\", \"35\", \"36\", \"37\", \"38\", \"39\", \"40\", \"41\", \"42\", \"43\", \"44\", \"45\", \"46\", \"47\", \"50\", \"51\"], \"mode\": \"lines\", \"name\": \"AUC_macro_max\", \"stepped\": true, \"type\": \"scatter\", \"data\": [0.8840955354735103, 0.8847369443591411, 0.9051069267646499, 0.9051069267646499, 0.9091569801755156, 0.9091569801755156, 0.9091569801755156, 0.9091569801755156, 0.9091569801755156, 0.9091569801755156, 0.9091569801755156, 0.9091569801755156, 0.9091569801755156, 0.9091569801755156, 0.9091569801755156, 0.9091569801755156, 0.9091569801755156, 0.9091569801755156, 0.9091569801755156, 0.9091569801755156, 0.9091569801755156, 0.9091569801755156, 0.9091569801755156, 0.9091569801755156, 0.9091569801755156, 0.9091569801755156, 0.9091569801755156, 0.9091569801755156, 0.9095228120531896, 0.9095228120531896, 0.9095228120531896, 0.9095228120531896, 0.9095228120531896, 0.9095228120531896, 0.9095228120531896, 0.9095228120531896, 0.9095228120531896, 0.9095228120531896, 0.9095228120531896, 0.9095228120531896, 0.9095228120531896, 0.9095228120531896, 0.9095228120531896, 0.9095228120531896, 0.9095228120531896, 0.9095228120531896, 0.9095228120531896, 0.9095228120531896, 0.9150530131873381, 0.9150530131873381]}], \"AUC_micro\": [{\"categories\": [\"0\", \"1\", \"2\", \"3\", \"4\", \"5\", \"6\", \"7\", \"8\", \"9\", \"10\", \"11\", \"12\", \"13\", \"14\", \"15\", \"16\", \"17\", \"18\", \"19\", \"20\", \"21\", \"22\", \"23\", \"24\", \"25\", \"26\", \"27\", \"28\", \"29\", \"30\", \"31\", \"32\", \"33\", \"34\", \"35\", \"36\", \"37\", \"38\", \"39\", \"40\", \"41\", \"42\", \"43\", \"44\", \"45\", \"46\", \"47\", \"50\", \"51\"], \"mode\": \"markers\", \"name\": \"AUC_micro\", \"stepped\": false, \"type\": \"scatter\", \"data\": [0.9035422116527941, 0.9042166732725592, 0.915292641035804, 0.911019685559519, 0.9117898005020478, 0.9086707623199896, 0.7914848064473511, 0.8925694279297133, 0.903497291584093, 0.9043783855198839, 0.9172205046901837, 0.9075344166996959, 0.898694147179284, 0.8558131853613423, 0.9062068965517242, 0.8808599550799313, 0.9005986259743691, 0.882282996432818, 0.9036513409961687, 0.9178793764037522, 0.8529846743295021, 0.8735324349319592, 0.9123647773814243, 0.8774056017968027, 0.9201503501123002, 0.9005715418152993, 0.8929906196327122, 0.8875793367683974, 0.9117254591095255, 0.9042382084819659, 0.7776339014400846, 0.9036064209274672, 0.9184563350508654, 0.8921385916237284, 0.9036357510899722, 0.5389207292905271, 0.910460298586339, 0.9166084026952042, 0.9101485004624127, 0.8866220108336635, 0.9082946228035407, 0.8946611177170036, 0.9048521601268332, 0.8985110318404018, 0.9169690844233056, 0.8333453560576034, 0.8806806711586737, 0.9119632712379444, 0.9208929845422118, 0.9180918219051394]}, {\"categories\": [\"0\", \"1\", \"2\", \"3\", \"4\", \"5\", \"6\", \"7\", \"8\", \"9\", \"10\", \"11\", \"12\", \"13\", \"14\", \"15\", \"16\", \"17\", \"18\", \"19\", \"20\", \"21\", \"22\", \"23\", \"24\", \"25\", \"26\", \"27\", \"28\", \"29\", \"30\", \"31\", \"32\", \"33\", \"34\", \"35\", \"36\", \"37\", \"38\", \"39\", \"40\", \"41\", \"42\", \"43\", \"44\", \"45\", \"46\", \"47\", \"50\", \"51\"], \"mode\": \"lines\", \"name\": \"AUC_micro_max\", \"stepped\": true, \"type\": \"scatter\", \"data\": [0.9035422116527941, 0.9042166732725592, 0.915292641035804, 0.915292641035804, 0.915292641035804, 0.915292641035804, 0.915292641035804, 0.915292641035804, 0.915292641035804, 0.915292641035804, 0.9172205046901837, 0.9172205046901837, 0.9172205046901837, 0.9172205046901837, 0.9172205046901837, 0.9172205046901837, 0.9172205046901837, 0.9172205046901837, 0.9172205046901837, 0.9178793764037522, 0.9178793764037522, 0.9178793764037522, 0.9178793764037522, 0.9178793764037522, 0.9201503501123002, 0.9201503501123002, 0.9201503501123002, 0.9201503501123002, 0.9201503501123002, 0.9201503501123002, 0.9201503501123002, 0.9201503501123002, 0.9201503501123002, 0.9201503501123002, 0.9201503501123002, 0.9201503501123002, 0.9201503501123002, 0.9201503501123002, 0.9201503501123002, 0.9201503501123002, 0.9201503501123002, 0.9201503501123002, 0.9201503501123002, 0.9201503501123002, 0.9201503501123002, 0.9201503501123002, 0.9201503501123002, 0.9201503501123002, 0.9208929845422118, 0.9208929845422118]}], \"norm_macro_recall\": [{\"categories\": [\"0\", \"1\", \"2\", \"3\", \"4\", \"5\", \"6\", \"7\", \"8\", \"9\", \"10\", \"11\", \"12\", \"13\", \"14\", \"15\", \"16\", \"17\", \"18\", \"19\", \"20\", \"21\", \"22\", \"23\", \"24\", \"25\", \"26\", \"27\", \"28\", \"29\", \"30\", \"31\", \"32\", \"33\", \"34\", \"35\", \"36\", \"37\", \"38\", \"39\", \"40\", \"41\", \"42\", \"43\", \"44\", \"45\", \"46\", \"47\", \"50\", \"51\"], \"mode\": \"markers\", \"name\": \"norm_macro_recall\", \"stepped\": false, \"type\": \"scatter\", \"data\": [0.6154165791620023, 0.626049804187676, 0.6451115552385575, 0.5915121780076013, 0.6432232813588649, 0.6391744719176068, 0.3203209423426815, 0.5700270959018099, 0.5836336881399811, 0.6038275819654537, 0.6384321995700715, 0.5730614736776064, 0.5999207826879452, 0.26143217893217885, 0.598403933912515, 0.5173603664959501, 0.6212777984156702, 0.5756400751549493, 0.5251463144026072, 0.6069254080524102, 0.265021645021645, 0.40593052129665397, 0.6524167500437523, 0.5120540688017805, 0.6355418676797395, 0.6319368265855682, 0.6390477040757361, 0.5918683673941111, 0.650356479968036, 0.6558356645896691, 0.0, 0.6381748136811065, 0.691799570566733, 0.6005176974055694, 0.5207736402930911, 0.11550405658414813, 0.6347842919221638, 0.6150595444474163, 0.6669789452220802, 0.5597791332745566, 0.6273566318629248, 0.5149490904468021, 0.6138546572293712, 0.5986249657410984, 0.6199033395412114, 0.0, 0.5222524377478611, 0.6062209897272826, 0.6889383950653973, 0.6737951144329862]}, {\"categories\": [\"0\", \"1\", \"2\", \"3\", \"4\", \"5\", \"6\", \"7\", \"8\", \"9\", \"10\", \"11\", \"12\", \"13\", \"14\", \"15\", \"16\", \"17\", \"18\", \"19\", \"20\", \"21\", \"22\", \"23\", \"24\", \"25\", \"26\", \"27\", \"28\", \"29\", \"30\", \"31\", \"32\", \"33\", \"34\", \"35\", \"36\", \"37\", \"38\", \"39\", \"40\", \"41\", \"42\", \"43\", \"44\", \"45\", \"46\", \"47\", \"50\", \"51\"], \"mode\": \"lines\", \"name\": \"norm_macro_recall_max\", \"stepped\": true, \"type\": \"scatter\", \"data\": [0.6154165791620023, 0.626049804187676, 0.6451115552385575, 0.6451115552385575, 0.6451115552385575, 0.6451115552385575, 0.6451115552385575, 0.6451115552385575, 0.6451115552385575, 0.6451115552385575, 0.6451115552385575, 0.6451115552385575, 0.6451115552385575, 0.6451115552385575, 0.6451115552385575, 0.6451115552385575, 0.6451115552385575, 0.6451115552385575, 0.6451115552385575, 0.6451115552385575, 0.6451115552385575, 0.6451115552385575, 0.6524167500437523, 0.6524167500437523, 0.6524167500437523, 0.6524167500437523, 0.6524167500437523, 0.6524167500437523, 0.6524167500437523, 0.6558356645896691, 0.6558356645896691, 0.6558356645896691, 0.691799570566733, 0.691799570566733, 0.691799570566733, 0.691799570566733, 0.691799570566733, 0.691799570566733, 0.691799570566733, 0.691799570566733, 0.691799570566733, 0.691799570566733, 0.691799570566733, 0.691799570566733, 0.691799570566733, 0.691799570566733, 0.691799570566733, 0.691799570566733, 0.691799570566733, 0.691799570566733]}], \"precision_score_weighted\": [{\"categories\": [\"0\", \"1\", \"2\", \"3\", \"4\", \"5\", \"6\", \"7\", \"8\", \"9\", \"10\", \"11\", \"12\", \"13\", \"14\", \"15\", \"16\", \"17\", \"18\", \"19\", \"20\", \"21\", \"22\", \"23\", \"24\", \"25\", \"26\", \"27\", \"28\", \"29\", \"30\", \"31\", \"32\", \"33\", \"34\", \"35\", \"36\", \"37\", \"38\", \"39\", \"40\", \"41\", \"42\", \"43\", \"44\", \"45\", \"46\", \"47\", \"50\", \"51\"], \"mode\": \"markers\", \"name\": \"precision_score_weighted\", \"stepped\": false, \"type\": \"scatter\", \"data\": [0.8443308716969533, 0.8506678986628277, 0.8732019040459204, 0.8437737796160716, 0.851591562813945, 0.8621025561561544, 0.7454571187849299, 0.837153057106774, 0.8471991704876658, 0.8503095268050291, 0.8638384284745119, 0.8356210231255604, 0.8490463978799812, 0.8241893216192067, 0.8553606304186647, 0.8214794960088856, 0.8632553265105122, 0.8413501419573877, 0.8328665171242908, 0.8690330295290065, 0.8139845409204229, 0.8235253872231383, 0.879849847044276, 0.8400947182123595, 0.8595484846156642, 0.8456405304796466, 0.849766935407135, 0.8282554933478747, 0.8503034510550982, 0.8509046721993236, 0.47055053507728895, 0.8688784853694678, 0.8778371718005363, 0.858997325762693, 0.840623900302411, 0.6187894430120322, 0.8596542631983926, 0.8599320247283766, 0.8574836843938478, 0.8520090657533187, 0.8580665941560245, 0.8484503198833678, 0.842399728346505, 0.853522805839049, 0.8556666218838632, 0.47055053507728895, 0.8264288124668935, 0.8452055515233706, 0.8976493359769222, 0.8828924362882382]}, {\"categories\": [\"0\", \"1\", \"2\", \"3\", \"4\", \"5\", \"6\", \"7\", \"8\", \"9\", \"10\", \"11\", \"12\", \"13\", \"14\", \"15\", \"16\", \"17\", \"18\", \"19\", \"20\", \"21\", \"22\", \"23\", \"24\", \"25\", \"26\", \"27\", \"28\", \"29\", \"30\", \"31\", \"32\", \"33\", \"34\", \"35\", \"36\", \"37\", \"38\", \"39\", \"40\", \"41\", \"42\", \"43\", \"44\", \"45\", \"46\", \"47\", \"50\", \"51\"], \"mode\": \"lines\", \"name\": \"precision_score_weighted_max\", \"stepped\": true, \"type\": \"scatter\", \"data\": [0.8443308716969533, 0.8506678986628277, 0.8732019040459204, 0.8732019040459204, 0.8732019040459204, 0.8732019040459204, 0.8732019040459204, 0.8732019040459204, 0.8732019040459204, 0.8732019040459204, 0.8732019040459204, 0.8732019040459204, 0.8732019040459204, 0.8732019040459204, 0.8732019040459204, 0.8732019040459204, 0.8732019040459204, 0.8732019040459204, 0.8732019040459204, 0.8732019040459204, 0.8732019040459204, 0.8732019040459204, 0.879849847044276, 0.879849847044276, 0.879849847044276, 0.879849847044276, 0.879849847044276, 0.879849847044276, 0.879849847044276, 0.879849847044276, 0.879849847044276, 0.879849847044276, 0.879849847044276, 0.879849847044276, 0.879849847044276, 0.879849847044276, 0.879849847044276, 0.879849847044276, 0.879849847044276, 0.879849847044276, 0.879849847044276, 0.879849847044276, 0.879849847044276, 0.879849847044276, 0.879849847044276, 0.879849847044276, 0.879849847044276, 0.879849847044276, 0.8976493359769222, 0.8976493359769222]}], \"average_precision_score_macro\": [{\"categories\": [\"0\", \"1\", \"2\", \"3\", \"4\", \"5\", \"6\", \"7\", \"8\", \"9\", \"10\", \"11\", \"12\", \"13\", \"14\", \"15\", \"16\", \"17\", \"18\", \"19\", \"20\", \"21\", \"22\", \"23\", \"24\", \"25\", \"26\", \"27\", \"28\", \"29\", \"30\", \"31\", \"32\", \"33\", \"34\", \"35\", \"36\", \"37\", \"38\", \"39\", \"40\", \"41\", \"42\", \"43\", \"44\", \"45\", \"46\", \"47\", \"50\", \"51\"], \"mode\": \"markers\", \"name\": \"average_precision_score_macro\", \"stepped\": false, \"type\": \"scatter\", \"data\": [0.8807888197525153, 0.8807340475847678, 0.8959722052578908, 0.8784756220917973, 0.8975648600627416, 0.8952871990737418, 0.745469896825244, 0.8749745008185043, 0.8918330319186867, 0.8885208428861692, 0.8925494144481746, 0.8900110928449376, 0.8793971710929904, 0.8661390074776559, 0.8918742359962035, 0.8401142754782065, 0.8801441796559588, 0.8534565890945919, 0.8853202275375762, 0.9019335743904033, 0.8638331118145132, 0.876350450428132, 0.8963508784892225, 0.8601718304566159, 0.899165145794728, 0.8770649975443252, 0.8807532504667319, 0.8881598779606596, 0.8986016073318888, 0.9017191614071673, 0.6891946998544041, 0.8902416284397487, 0.8968054150313067, 0.8717558017436902, 0.8846017871895763, 0.5313876158541456, 0.8966675981410226, 0.887423906703647, 0.8968054567081529, 0.8701487217440353, 0.8885321496748961, 0.8834364948643503, 0.8875167868137048, 0.8840187962511242, 0.9009506738929163, 0.8553822765461657, 0.858182945994504, 0.8975416605536777, 0.9037238356730081, 0.9034006502906623]}, {\"categories\": [\"0\", \"1\", \"2\", \"3\", \"4\", \"5\", \"6\", \"7\", \"8\", \"9\", \"10\", \"11\", \"12\", \"13\", \"14\", \"15\", \"16\", \"17\", \"18\", \"19\", \"20\", \"21\", \"22\", \"23\", \"24\", \"25\", \"26\", \"27\", \"28\", \"29\", \"30\", \"31\", \"32\", \"33\", \"34\", \"35\", \"36\", \"37\", \"38\", \"39\", \"40\", \"41\", \"42\", \"43\", \"44\", \"45\", \"46\", \"47\", \"50\", \"51\"], \"mode\": \"lines\", \"name\": \"average_precision_score_macro_max\", \"stepped\": true, \"type\": \"scatter\", \"data\": [0.8807888197525153, 0.8807888197525153, 0.8959722052578908, 0.8959722052578908, 0.8975648600627416, 0.8975648600627416, 0.8975648600627416, 0.8975648600627416, 0.8975648600627416, 0.8975648600627416, 0.8975648600627416, 0.8975648600627416, 0.8975648600627416, 0.8975648600627416, 0.8975648600627416, 0.8975648600627416, 0.8975648600627416, 0.8975648600627416, 0.8975648600627416, 0.9019335743904033, 0.9019335743904033, 0.9019335743904033, 0.9019335743904033, 0.9019335743904033, 0.9019335743904033, 0.9019335743904033, 0.9019335743904033, 0.9019335743904033, 0.9019335743904033, 0.9019335743904033, 0.9019335743904033, 0.9019335743904033, 0.9019335743904033, 0.9019335743904033, 0.9019335743904033, 0.9019335743904033, 0.9019335743904033, 0.9019335743904033, 0.9019335743904033, 0.9019335743904033, 0.9019335743904033, 0.9019335743904033, 0.9019335743904033, 0.9019335743904033, 0.9019335743904033, 0.9019335743904033, 0.9019335743904033, 0.9019335743904033, 0.9037238356730081, 0.9037238356730081]}], \"precision_score_micro\": [{\"categories\": [\"0\", \"1\", \"2\", \"3\", \"4\", \"5\", \"6\", \"7\", \"8\", \"9\", \"10\", \"11\", \"12\", \"13\", \"14\", \"15\", \"16\", \"17\", \"18\", \"19\", \"20\", \"21\", \"22\", \"23\", \"24\", \"25\", \"26\", \"27\", \"28\", \"29\", \"30\", \"31\", \"32\", \"33\", \"34\", \"35\", \"36\", \"37\", \"38\", \"39\", \"40\", \"41\", \"42\", \"43\", \"44\", \"45\", \"46\", \"47\", \"50\", \"51\"], \"mode\": \"markers\", \"name\": \"precision_score_micro\", \"stepped\": false, \"type\": \"scatter\", \"data\": [0.8359770114942527, 0.8358620689655172, 0.859425287356322, 0.8363218390804598, 0.8325287356321839, 0.8460919540229884, 0.7291954022988507, 0.8228735632183908, 0.8327586206896551, 0.8393103448275863, 0.8462068965517242, 0.8289655172413793, 0.8328735632183909, 0.7593103448275862, 0.8393103448275863, 0.8093103448275862, 0.8495402298850575, 0.822528735632184, 0.8159770114942528, 0.8527586206896552, 0.7559770114942529, 0.7927586206896552, 0.8628735632183909, 0.8262068965517241, 0.8425287356321839, 0.8257471264367817, 0.8324137931034483, 0.8055172413793104, 0.8291954022988506, 0.8189655172413792, 0.6791954022988507, 0.8529885057471265, 0.8659770114942529, 0.8428735632183908, 0.8195402298850574, 0.5788505747126436, 0.8459770114942529, 0.8460919540229886, 0.839080459770115, 0.8363218390804598, 0.842528735632184, 0.8294252873563218, 0.8291954022988506, 0.8426436781609195, 0.8426436781609195, 0.6791954022988507, 0.8058620689655172, 0.8291954022988506, 0.8796551724137931, 0.8695402298850576]}, {\"categories\": [\"0\", \"1\", \"2\", \"3\", \"4\", \"5\", \"6\", \"7\", \"8\", \"9\", \"10\", \"11\", \"12\", \"13\", \"14\", \"15\", \"16\", \"17\", \"18\", \"19\", \"20\", \"21\", \"22\", \"23\", \"24\", \"25\", \"26\", \"27\", \"28\", \"29\", \"30\", \"31\", \"32\", \"33\", \"34\", \"35\", \"36\", \"37\", \"38\", \"39\", \"40\", \"41\", \"42\", \"43\", \"44\", \"45\", \"46\", \"47\", \"50\", \"51\"], \"mode\": \"lines\", \"name\": \"precision_score_micro_max\", \"stepped\": true, \"type\": \"scatter\", \"data\": [0.8359770114942527, 0.8359770114942527, 0.859425287356322, 0.859425287356322, 0.859425287356322, 0.859425287356322, 0.859425287356322, 0.859425287356322, 0.859425287356322, 0.859425287356322, 0.859425287356322, 0.859425287356322, 0.859425287356322, 0.859425287356322, 0.859425287356322, 0.859425287356322, 0.859425287356322, 0.859425287356322, 0.859425287356322, 0.859425287356322, 0.859425287356322, 0.859425287356322, 0.8628735632183909, 0.8628735632183909, 0.8628735632183909, 0.8628735632183909, 0.8628735632183909, 0.8628735632183909, 0.8628735632183909, 0.8628735632183909, 0.8628735632183909, 0.8628735632183909, 0.8659770114942529, 0.8659770114942529, 0.8659770114942529, 0.8659770114942529, 0.8659770114942529, 0.8659770114942529, 0.8659770114942529, 0.8659770114942529, 0.8659770114942529, 0.8659770114942529, 0.8659770114942529, 0.8659770114942529, 0.8659770114942529, 0.8659770114942529, 0.8659770114942529, 0.8659770114942529, 0.8796551724137931, 0.8796551724137931]}], \"recall_score_micro\": [{\"categories\": [\"0\", \"1\", \"2\", \"3\", \"4\", \"5\", \"6\", \"7\", \"8\", \"9\", \"10\", \"11\", \"12\", \"13\", \"14\", \"15\", \"16\", \"17\", \"18\", \"19\", \"20\", \"21\", \"22\", \"23\", \"24\", \"25\", \"26\", \"27\", \"28\", \"29\", \"30\", \"31\", \"32\", \"33\", \"34\", \"35\", \"36\", \"37\", \"38\", \"39\", \"40\", \"41\", \"42\", \"43\", \"44\", \"45\", \"46\", \"47\", \"50\", \"51\"], \"mode\": \"markers\", \"name\": \"recall_score_micro\", \"stepped\": false, \"type\": \"scatter\", \"data\": [0.8359770114942527, 0.8358620689655172, 0.859425287356322, 0.8363218390804598, 0.8325287356321839, 0.8460919540229884, 0.7291954022988507, 0.8228735632183908, 0.8327586206896551, 0.8393103448275863, 0.8462068965517242, 0.8289655172413793, 0.8328735632183909, 0.7593103448275862, 0.8393103448275863, 0.8093103448275862, 0.8495402298850575, 0.822528735632184, 0.8159770114942528, 0.8527586206896552, 0.7559770114942529, 0.7927586206896552, 0.8628735632183909, 0.8262068965517241, 0.8425287356321839, 0.8257471264367817, 0.8324137931034483, 0.8055172413793104, 0.8291954022988506, 0.8189655172413792, 0.6791954022988507, 0.8529885057471265, 0.8659770114942529, 0.8428735632183908, 0.8195402298850574, 0.5788505747126436, 0.8459770114942529, 0.8460919540229886, 0.839080459770115, 0.8363218390804598, 0.842528735632184, 0.8294252873563218, 0.8291954022988506, 0.8426436781609195, 0.8426436781609195, 0.6791954022988507, 0.8058620689655172, 0.8291954022988506, 0.8796551724137931, 0.8695402298850576]}, {\"categories\": [\"0\", \"1\", \"2\", \"3\", \"4\", \"5\", \"6\", \"7\", \"8\", \"9\", \"10\", \"11\", \"12\", \"13\", \"14\", \"15\", \"16\", \"17\", \"18\", \"19\", \"20\", \"21\", \"22\", \"23\", \"24\", \"25\", \"26\", \"27\", \"28\", \"29\", \"30\", \"31\", \"32\", \"33\", \"34\", \"35\", \"36\", \"37\", \"38\", \"39\", \"40\", \"41\", \"42\", \"43\", \"44\", \"45\", \"46\", \"47\", \"50\", \"51\"], \"mode\": \"lines\", \"name\": \"recall_score_micro_max\", \"stepped\": true, \"type\": \"scatter\", \"data\": [0.8359770114942527, 0.8359770114942527, 0.859425287356322, 0.859425287356322, 0.859425287356322, 0.859425287356322, 0.859425287356322, 0.859425287356322, 0.859425287356322, 0.859425287356322, 0.859425287356322, 0.859425287356322, 0.859425287356322, 0.859425287356322, 0.859425287356322, 0.859425287356322, 0.859425287356322, 0.859425287356322, 0.859425287356322, 0.859425287356322, 0.859425287356322, 0.859425287356322, 0.8628735632183909, 0.8628735632183909, 0.8628735632183909, 0.8628735632183909, 0.8628735632183909, 0.8628735632183909, 0.8628735632183909, 0.8628735632183909, 0.8628735632183909, 0.8628735632183909, 0.8659770114942529, 0.8659770114942529, 0.8659770114942529, 0.8659770114942529, 0.8659770114942529, 0.8659770114942529, 0.8659770114942529, 0.8659770114942529, 0.8659770114942529, 0.8659770114942529, 0.8659770114942529, 0.8659770114942529, 0.8659770114942529, 0.8659770114942529, 0.8659770114942529, 0.8659770114942529, 0.8796551724137931, 0.8796551724137931]}], \"f1_score_micro\": [{\"categories\": [\"0\", \"1\", \"2\", \"3\", \"4\", \"5\", \"6\", \"7\", \"8\", \"9\", \"10\", \"11\", \"12\", \"13\", \"14\", \"15\", \"16\", \"17\", \"18\", \"19\", \"20\", \"21\", \"22\", \"23\", \"24\", \"25\", \"26\", \"27\", \"28\", \"29\", \"30\", \"31\", \"32\", \"33\", \"34\", \"35\", \"36\", \"37\", \"38\", \"39\", \"40\", \"41\", \"42\", \"43\", \"44\", \"45\", \"46\", \"47\", \"50\", \"51\"], \"mode\": \"markers\", \"name\": \"f1_score_micro\", \"stepped\": false, \"type\": \"scatter\", \"data\": [0.8359770114942527, 0.8358620689655172, 0.859425287356322, 0.8363218390804598, 0.8325287356321839, 0.8460919540229886, 0.7291954022988507, 0.8228735632183908, 0.8327586206896551, 0.8393103448275863, 0.8462068965517242, 0.8289655172413793, 0.8328735632183909, 0.7593103448275862, 0.8393103448275863, 0.8093103448275862, 0.8495402298850575, 0.822528735632184, 0.8159770114942528, 0.8527586206896552, 0.7559770114942529, 0.7927586206896552, 0.8628735632183909, 0.8262068965517241, 0.8425287356321839, 0.8257471264367817, 0.8324137931034483, 0.8055172413793104, 0.8291954022988506, 0.8189655172413793, 0.6791954022988507, 0.8529885057471265, 0.8659770114942529, 0.842873563218391, 0.8195402298850574, 0.5788505747126436, 0.8459770114942529, 0.8460919540229886, 0.839080459770115, 0.8363218390804598, 0.842528735632184, 0.8294252873563218, 0.8291954022988506, 0.8426436781609195, 0.8426436781609198, 0.6791954022988507, 0.8058620689655172, 0.8291954022988506, 0.8796551724137931, 0.8695402298850576]}, {\"categories\": [\"0\", \"1\", \"2\", \"3\", \"4\", \"5\", \"6\", \"7\", \"8\", \"9\", \"10\", \"11\", \"12\", \"13\", \"14\", \"15\", \"16\", \"17\", \"18\", \"19\", \"20\", \"21\", \"22\", \"23\", \"24\", \"25\", \"26\", \"27\", \"28\", \"29\", \"30\", \"31\", \"32\", \"33\", \"34\", \"35\", \"36\", \"37\", \"38\", \"39\", \"40\", \"41\", \"42\", \"43\", \"44\", \"45\", \"46\", \"47\", \"50\", \"51\"], \"mode\": \"lines\", \"name\": \"f1_score_micro_max\", \"stepped\": true, \"type\": \"scatter\", \"data\": [0.8359770114942527, 0.8359770114942527, 0.859425287356322, 0.859425287356322, 0.859425287356322, 0.859425287356322, 0.859425287356322, 0.859425287356322, 0.859425287356322, 0.859425287356322, 0.859425287356322, 0.859425287356322, 0.859425287356322, 0.859425287356322, 0.859425287356322, 0.859425287356322, 0.859425287356322, 0.859425287356322, 0.859425287356322, 0.859425287356322, 0.859425287356322, 0.859425287356322, 0.8628735632183909, 0.8628735632183909, 0.8628735632183909, 0.8628735632183909, 0.8628735632183909, 0.8628735632183909, 0.8628735632183909, 0.8628735632183909, 0.8628735632183909, 0.8628735632183909, 0.8659770114942529, 0.8659770114942529, 0.8659770114942529, 0.8659770114942529, 0.8659770114942529, 0.8659770114942529, 0.8659770114942529, 0.8659770114942529, 0.8659770114942529, 0.8659770114942529, 0.8659770114942529, 0.8659770114942529, 0.8659770114942529, 0.8659770114942529, 0.8659770114942529, 0.8659770114942529, 0.8796551724137931, 0.8796551724137931]}], \"log_loss\": [{\"categories\": [\"0\", \"1\", \"2\", \"3\", \"4\", \"5\", \"6\", \"7\", \"8\", \"9\", \"10\", \"11\", \"12\", \"13\", \"14\", \"15\", \"16\", \"17\", \"18\", \"19\", \"20\", \"21\", \"22\", \"23\", \"24\", \"25\", \"26\", \"27\", \"28\", \"29\", \"30\", \"31\", \"32\", \"33\", \"34\", \"35\", \"36\", \"37\", \"38\", \"39\", \"40\", \"41\", \"42\", \"43\", \"44\", \"45\", \"46\", \"47\", \"50\", \"51\"], \"mode\": \"markers\", \"name\": \"log_loss\", \"stepped\": false, \"type\": \"scatter\", \"data\": [0.4772179826627182, 0.41764279466886123, 0.38189136920067945, 0.39537288701962064, 0.37906824069468154, 0.37963852335307824, 0.5763694218873828, 0.4113226523427646, 0.394405483274961, 0.4087218920262994, 0.361406226565101, 0.39248762832257045, 0.412689902302552, 0.5016580412766779, 0.41916278548122055, 0.488972342400222, 0.3964188793382829, 0.43201077513162167, 0.4208631129595055, 0.39175711117795736, 0.5131716222865962, 0.47005991150489307, 0.4038976496418384, 0.5061456218604579, 0.3562220907679948, 0.43993489799561536, 0.474615825872703, 0.4210045817883272, 0.42580957785159324, 0.4129740192576342, 0.6194562923858565, 0.3903754265934277, 0.35949389857831054, 0.4251043863303024, 0.4937811237209755, 0.6915375401834329, 0.4010805439176484, 0.36829447498651496, 0.43610714668748346, 0.43409393704319993, 0.38086860426374985, 0.4409482291581999, 0.3890165973005597, 0.4344605650348279, 0.36930712626488404, 0.6222716582724475, 0.4957111612362331, 0.37753314652606906, 0.3785901690721159, 0.36491869234445334]}, {\"categories\": [\"0\", \"1\", \"2\", \"3\", \"4\", \"5\", \"6\", \"7\", \"8\", \"9\", \"10\", \"11\", \"12\", \"13\", \"14\", \"15\", \"16\", \"17\", \"18\", \"19\", \"20\", \"21\", \"22\", \"23\", \"24\", \"25\", \"26\", \"27\", \"28\", \"29\", \"30\", \"31\", \"32\", \"33\", \"34\", \"35\", \"36\", \"37\", \"38\", \"39\", \"40\", \"41\", \"42\", \"43\", \"44\", \"45\", \"46\", \"47\", \"50\", \"51\"], \"mode\": \"lines\", \"name\": \"log_loss_min\", \"stepped\": true, \"type\": \"scatter\", \"data\": [0.4772179826627182, 0.41764279466886123, 0.38189136920067945, 0.38189136920067945, 0.37906824069468154, 0.37906824069468154, 0.37906824069468154, 0.37906824069468154, 0.37906824069468154, 0.37906824069468154, 0.361406226565101, 0.361406226565101, 0.361406226565101, 0.361406226565101, 0.361406226565101, 0.361406226565101, 0.361406226565101, 0.361406226565101, 0.361406226565101, 0.361406226565101, 0.361406226565101, 0.361406226565101, 0.361406226565101, 0.361406226565101, 0.3562220907679948, 0.3562220907679948, 0.3562220907679948, 0.3562220907679948, 0.3562220907679948, 0.3562220907679948, 0.3562220907679948, 0.3562220907679948, 0.3562220907679948, 0.3562220907679948, 0.3562220907679948, 0.3562220907679948, 0.3562220907679948, 0.3562220907679948, 0.3562220907679948, 0.3562220907679948, 0.3562220907679948, 0.3562220907679948, 0.3562220907679948, 0.3562220907679948, 0.3562220907679948, 0.3562220907679948, 0.3562220907679948, 0.3562220907679948, 0.3562220907679948, 0.3562220907679948]}], \"f1_score_weighted\": [{\"categories\": [\"0\", \"1\", \"2\", \"3\", \"4\", \"5\", \"6\", \"7\", \"8\", \"9\", \"10\", \"11\", \"12\", \"13\", \"14\", \"15\", \"16\", \"17\", \"18\", \"19\", \"20\", \"21\", \"22\", \"23\", \"24\", \"25\", \"26\", \"27\", \"28\", \"29\", \"30\", \"31\", \"32\", \"33\", \"34\", \"35\", \"36\", \"37\", \"38\", \"39\", \"40\", \"41\", \"42\", \"43\", \"44\", \"45\", \"46\", \"47\", \"50\", \"51\"], \"mode\": \"markers\", \"name\": \"f1_score_weighted\", \"stepped\": false, \"type\": \"scatter\", \"data\": [0.8333388901455894, 0.8342588560383983, 0.8545174540246739, 0.832287023653808, 0.8340206516579041, 0.8432616298381566, 0.6984357561596176, 0.8182849428892383, 0.8268845927520065, 0.8353431131714999, 0.84203307689691, 0.8258452903830641, 0.8280418148453291, 0.7057466799580798, 0.8323341032522762, 0.8048217845216165, 0.8444890292067422, 0.81906121720746, 0.8071000235326506, 0.8449005816955119, 0.7054815273326833, 0.76638290464173, 0.8568218324451458, 0.8149112006988377, 0.8385973256401271, 0.8294471463013879, 0.8345246474020334, 0.8096969818663645, 0.8328567102972227, 0.8259052222533134, 0.5534120288954022, 0.8478393896314789, 0.8645974535402402, 0.8367687412461062, 0.8080979228611413, 0.5819424935342425, 0.8414172219145382, 0.8420351142482723, 0.842736784134838, 0.8283869639265664, 0.8393848248332411, 0.8157532820869825, 0.8274861123330265, 0.8357966460907578, 0.8389130933376574, 0.5534120288954022, 0.7978951169999162, 0.826906713369258, 0.8741219812999604, 0.8649050229611961]}, {\"categories\": [\"0\", \"1\", \"2\", \"3\", \"4\", \"5\", \"6\", \"7\", \"8\", \"9\", \"10\", \"11\", \"12\", \"13\", \"14\", \"15\", \"16\", \"17\", \"18\", \"19\", \"20\", \"21\", \"22\", \"23\", \"24\", \"25\", \"26\", \"27\", \"28\", \"29\", \"30\", \"31\", \"32\", \"33\", \"34\", \"35\", \"36\", \"37\", \"38\", \"39\", \"40\", \"41\", \"42\", \"43\", \"44\", \"45\", \"46\", \"47\", \"50\", \"51\"], \"mode\": \"lines\", \"name\": \"f1_score_weighted_max\", \"stepped\": true, \"type\": \"scatter\", \"data\": [0.8333388901455894, 0.8342588560383983, 0.8545174540246739, 0.8545174540246739, 0.8545174540246739, 0.8545174540246739, 0.8545174540246739, 0.8545174540246739, 0.8545174540246739, 0.8545174540246739, 0.8545174540246739, 0.8545174540246739, 0.8545174540246739, 0.8545174540246739, 0.8545174540246739, 0.8545174540246739, 0.8545174540246739, 0.8545174540246739, 0.8545174540246739, 0.8545174540246739, 0.8545174540246739, 0.8545174540246739, 0.8568218324451458, 0.8568218324451458, 0.8568218324451458, 0.8568218324451458, 0.8568218324451458, 0.8568218324451458, 0.8568218324451458, 0.8568218324451458, 0.8568218324451458, 0.8568218324451458, 0.8645974535402402, 0.8645974535402402, 0.8645974535402402, 0.8645974535402402, 0.8645974535402402, 0.8645974535402402, 0.8645974535402402, 0.8645974535402402, 0.8645974535402402, 0.8645974535402402, 0.8645974535402402, 0.8645974535402402, 0.8645974535402402, 0.8645974535402402, 0.8645974535402402, 0.8645974535402402, 0.8741219812999604, 0.8741219812999604]}]}, \"metricName\": null, \"primaryMetricName\": \"accuracy\", \"showLegend\": false}, \"run_metrics\": [{\"name\": \"experiment_status\", \"run_id\": \"AutoML_e88ad83d-9bb0-4623-bb48-b1a373de1485\", \"categories\": [0, 1, 2, 3, 4, 5, 6, 7, 8, 9, 10, 11, 12, 13], \"series\": [{\"data\": [\"DatasetEvaluation\", \"FeaturesGeneration\", \"DatasetFeaturization\", \"DatasetFeaturizationCompleted\", \"DatasetCrossValidationSplit\", \"ModelSelection\", \"BestRunExplainModel\", \"ModelExplanationDataSetSetup\", \"PickSurrogateModel\", \"EngineeredFeatureExplanations\", \"EngineeredFeatureExplanations\", \"RawFeaturesExplanations\", \"RawFeaturesExplanations\", \"BestRunExplainModel\"]}]}, {\"name\": \"experiment_status_description\", \"run_id\": \"AutoML_e88ad83d-9bb0-4623-bb48-b1a373de1485\", \"categories\": [0, 1, 2, 3, 4, 5, 6, 7, 8, 9, 10, 11, 12, 13], \"series\": [{\"data\": [\"Gathering dataset statistics.\", \"Generating features for the dataset.\", \"Beginning to fit featurizers and featurize the dataset.\", \"Completed fit featurizers and featurizing the dataset.\", \"Generating individually featurized CV splits.\", \"Beginning model selection.\", \"Best run model explanations started\", \"Model explanations data setup completed\", \"Choosing LightGBM as the surrogate model for explanations\", \"Computation of engineered features started\", \"Computation of engineered features completed\", \"Computation of raw features started\", \"Computation of raw features completed\", \"Best run model explanations completed\"]}]}, {\"name\": \"accuracy\", \"run_id\": \"AutoML_e88ad83d-9bb0-4623-bb48-b1a373de1485\", \"categories\": [0], \"series\": [{\"data\": [0.8796551724137931]}]}, {\"name\": \"matthews_correlation\", \"run_id\": \"AutoML_e88ad83d-9bb0-4623-bb48-b1a373de1485\", \"categories\": [0], \"series\": [{\"data\": [0.7362561689923155]}]}, {\"name\": \"precision_score_weighted\", \"run_id\": \"AutoML_e88ad83d-9bb0-4623-bb48-b1a373de1485\", \"categories\": [0], \"series\": [{\"data\": [0.8976493359769222]}]}, {\"name\": \"f1_score_weighted\", \"run_id\": \"AutoML_e88ad83d-9bb0-4623-bb48-b1a373de1485\", \"categories\": [0], \"series\": [{\"data\": [0.8741219812999604]}]}, {\"name\": \"balanced_accuracy\", \"run_id\": \"AutoML_e88ad83d-9bb0-4623-bb48-b1a373de1485\", \"categories\": [0], \"series\": [{\"data\": [0.8444691975326986]}]}, {\"name\": \"recall_score_weighted\", \"run_id\": \"AutoML_e88ad83d-9bb0-4623-bb48-b1a373de1485\", \"categories\": [0], \"series\": [{\"data\": [0.8796551724137931]}]}, {\"name\": \"AUC_micro\", \"run_id\": \"AutoML_e88ad83d-9bb0-4623-bb48-b1a373de1485\", \"categories\": [0], \"series\": [{\"data\": [0.9208929845422118]}]}, {\"name\": \"norm_macro_recall\", \"run_id\": \"AutoML_e88ad83d-9bb0-4623-bb48-b1a373de1485\", \"categories\": [0], \"series\": [{\"data\": [0.6889383950653973]}]}, {\"name\": \"recall_score_micro\", \"run_id\": \"AutoML_e88ad83d-9bb0-4623-bb48-b1a373de1485\", \"categories\": [0], \"series\": [{\"data\": [0.8796551724137931]}]}, {\"name\": \"f1_score_macro\", \"run_id\": \"AutoML_e88ad83d-9bb0-4623-bb48-b1a373de1485\", \"categories\": [0], \"series\": [{\"data\": [0.8530330369482726]}]}, {\"name\": \"precision_score_micro\", \"run_id\": \"AutoML_e88ad83d-9bb0-4623-bb48-b1a373de1485\", \"categories\": [0], \"series\": [{\"data\": [0.8796551724137931]}]}, {\"name\": \"average_precision_score_macro\", \"run_id\": \"AutoML_e88ad83d-9bb0-4623-bb48-b1a373de1485\", \"categories\": [0], \"series\": [{\"data\": [0.9037238356730081]}]}, {\"name\": \"average_precision_score_micro\", \"run_id\": \"AutoML_e88ad83d-9bb0-4623-bb48-b1a373de1485\", \"categories\": [0], \"series\": [{\"data\": [0.9250741873288669]}]}, {\"name\": \"AUC_macro\", \"run_id\": \"AutoML_e88ad83d-9bb0-4623-bb48-b1a373de1485\", \"categories\": [0], \"series\": [{\"data\": [0.9150530131873381]}]}, {\"name\": \"log_loss\", \"run_id\": \"AutoML_e88ad83d-9bb0-4623-bb48-b1a373de1485\", \"categories\": [0], \"series\": [{\"data\": [0.3785901690721159]}]}, {\"name\": \"AUC_weighted\", \"run_id\": \"AutoML_e88ad83d-9bb0-4623-bb48-b1a373de1485\", \"categories\": [0], \"series\": [{\"data\": [0.9150530131873381]}]}, {\"name\": \"weighted_accuracy\", \"run_id\": \"AutoML_e88ad83d-9bb0-4623-bb48-b1a373de1485\", \"categories\": [0], \"series\": [{\"data\": [0.9018399961031077]}]}, {\"name\": \"precision_score_macro\", \"run_id\": \"AutoML_e88ad83d-9bb0-4623-bb48-b1a373de1485\", \"categories\": [0], \"series\": [{\"data\": [0.8964329836829835]}]}, {\"name\": \"recall_score_macro\", \"run_id\": \"AutoML_e88ad83d-9bb0-4623-bb48-b1a373de1485\", \"categories\": [0], \"series\": [{\"data\": [0.8444691975326986]}]}, {\"name\": \"f1_score_micro\", \"run_id\": \"AutoML_e88ad83d-9bb0-4623-bb48-b1a373de1485\", \"categories\": [0], \"series\": [{\"data\": [0.8796551724137931]}]}, {\"name\": \"average_precision_score_weighted\", \"run_id\": \"AutoML_e88ad83d-9bb0-4623-bb48-b1a373de1485\", \"categories\": [0], \"series\": [{\"data\": [0.9278950886506058]}]}], \"run_logs\": \"\\nRun is completed.\", \"graph\": {}, \"widget_settings\": {\"childWidgetDisplay\": \"popup\", \"send_telemetry\": false, \"log_level\": \"INFO\", \"sdk_version\": \"1.20.0\"}, \"loading\": false}"
          },
          "metadata": {}
        }
      ],
      "execution_count": 11,
      "metadata": {
        "gather": {
          "logged": 1613133144549
        },
        "jupyter": {
          "outputs_hidden": false,
          "source_hidden": false
        },
        "nteract": {
          "transient": {
            "deleting": false
          }
        }
      }
    },
    {
      "cell_type": "markdown",
      "source": [
        "## Best Model\n",
        "\n",
        "TODO: In the cell below, get the best model from the automl experiments and display all the properties of the model.\n",
        "\n"
      ],
      "metadata": {}
    },
    {
      "cell_type": "code",
      "source": [
        "best_run, fitted_model = remote_run.get_output()\n",
        "print(best_run)\n",
        "print(fitted_model)"
      ],
      "outputs": [
        {
          "output_type": "stream",
          "name": "stderr",
          "text": [
            "WARNING:root:The version of the SDK does not match the version the model was trained on.\n",
            "WARNING:root:The consistency in the result may not be guaranteed.\n",
            "WARNING:root:Package:azureml-automl-core, training version:1.21.0, current version:1.20.0\n",
            "Package:azureml-automl-runtime, training version:1.21.0, current version:1.20.0\n",
            "Package:azureml-core, training version:1.21.0.post1, current version:1.20.0\n",
            "Package:azureml-dataprep, training version:2.8.2, current version:2.7.3\n",
            "Package:azureml-dataprep-native, training version:28.0.0, current version:27.0.0\n",
            "Package:azureml-dataprep-rslex, training version:1.6.0, current version:1.5.0\n",
            "Package:azureml-dataset-runtime, training version:1.21.0, current version:1.20.0\n",
            "Package:azureml-defaults, training version:1.21.0, current version:1.20.0\n",
            "Package:azureml-interpret, training version:1.21.0, current version:1.20.0\n",
            "Package:azureml-pipeline-core, training version:1.21.0, current version:1.20.0\n",
            "Package:azureml-telemetry, training version:1.21.0, current version:1.20.0\n",
            "Package:azureml-train-automl-client, training version:1.21.0, current version:1.20.0\n",
            "Package:azureml-train-automl-runtime, training version:1.21.0, current version:1.20.0\n",
            "WARNING:root:Please ensure the version of your local conda dependencies match the version on which your model was trained in order to properly retrieve your model.\n"
          ]
        },
        {
          "output_type": "stream",
          "name": "stdout",
          "text": [
            "Run(Experiment: AutoML_heart,\n",
            "Id: AutoML_e88ad83d-9bb0-4623-bb48-b1a373de1485_50,\n",
            "Type: azureml.scriptrun,\n",
            "Status: Completed)\n",
            "Pipeline(memory=None,\n",
            "         steps=[('datatransformer',\n",
            "                 DataTransformer(enable_dnn=None, enable_feature_sweeping=None,\n",
            "                                 feature_sweeping_config=None,\n",
            "                                 feature_sweeping_timeout=None,\n",
            "                                 featurization_config=None, force_text_dnn=None,\n",
            "                                 is_cross_validation=None,\n",
            "                                 is_onnx_compatible=None, logger=None,\n",
            "                                 observer=None, task=None, working_dir=None)),\n",
            "                ('prefittedsoftvotingclassifier',...\n",
            "                                                                                                    max_samples=None,\n",
            "                                                                                                    min_impurity_decrease=0.0,\n",
            "                                                                                                    min_impurity_split=None,\n",
            "                                                                                                    min_samples_leaf=0.01,\n",
            "                                                                                                    min_samples_split=0.056842105263157895,\n",
            "                                                                                                    min_weight_fraction_leaf=0.0,\n",
            "                                                                                                    n_estimators=100,\n",
            "                                                                                                    n_jobs=1,\n",
            "                                                                                                    oob_score=False,\n",
            "                                                                                                    random_state=None,\n",
            "                                                                                                    verbose=0,\n",
            "                                                                                                    warm_start=False))],\n",
            "                                                                     verbose=False))],\n",
            "                                               flatten_transform=None,\n",
            "                                               weights=[0.125, 0.125, 0.125,\n",
            "                                                        0.125, 0.125, 0.125,\n",
            "                                                        0.125, 0.125]))],\n",
            "         verbose=False)\n"
          ]
        }
      ],
      "execution_count": 12,
      "metadata": {
        "gather": {
          "logged": 1613133162210
        },
        "jupyter": {
          "outputs_hidden": false,
          "source_hidden": false
        },
        "nteract": {
          "transient": {
            "deleting": false
          }
        }
      }
    },
    {
      "cell_type": "code",
      "source": [
        "#TODO: Save the best model\n",
        "\n",
        "model = best_run.register_model(model_name = 'automl_best_model.pkl', model_path = '/outputs/model.pkl')\n",
        "\n",
        "import joblib\n",
        "\n",
        "joblib.dump(value= fitted_model, filename = './model_ML_fitted.joblib')"
      ],
      "outputs": [
        {
          "output_type": "execute_result",
          "execution_count": 48,
          "data": {
            "text/plain": "['./model_ML_fitted.joblib']"
          },
          "metadata": {}
        }
      ],
      "execution_count": 48,
      "metadata": {
        "gather": {
          "logged": 1613140771699
        },
        "jupyter": {
          "outputs_hidden": false,
          "source_hidden": false
        },
        "nteract": {
          "transient": {
            "deleting": false
          }
        }
      }
    },
    {
      "cell_type": "markdown",
      "source": [
        "## Model Deployment\n",
        "\n",
        "Remember you have to deploy only one of the two models you trained.. Perform the steps in the rest of this notebook only if you wish to deploy this model.\n",
        "\n",
        "TODO: In the cell below, register the model, create an inference config and deploy the model as a web service."
      ],
      "metadata": {}
    },
    {
      "cell_type": "code",
      "source": [
        "#best_run.download_file(constants.CONDA_ENV_FILE_PATH, 'myenv.yml')\r\n",
        "\r\n",
        "from azureml.core.environment import Environment\r\n",
        "from azureml.core.model import InferenceConfig\r\n",
        "\r\n",
        "env = Environment.get(ws, \"AzureML-Minimal\")\r\n",
        "for pip_package in [\"scikit-learn\"]:\r\n",
        "    env.python.conda_dependencies.add_pip_package(pip_package)\r\n",
        "\r\n",
        "#inference_config = InferenceConfig(entry_script='score.py',\r\n",
        "#                                    environment=env)\r\n",
        "\r\n"
      ],
      "outputs": [],
      "execution_count": 14,
      "metadata": {
        "collapsed": true,
        "jupyter": {
          "source_hidden": false,
          "outputs_hidden": false
        },
        "nteract": {
          "transient": {
            "deleting": false
          }
        },
        "gather": {
          "logged": 1613133163483
        }
      }
    },
    {
      "cell_type": "code",
      "source": [
        "best_run.properties['model_name']"
      ],
      "outputs": [
        {
          "output_type": "execute_result",
          "execution_count": 33,
          "data": {
            "text/plain": "'AutoMLe88ad83d950'"
          },
          "metadata": {}
        }
      ],
      "execution_count": 33,
      "metadata": {
        "collapsed": true,
        "jupyter": {
          "source_hidden": false,
          "outputs_hidden": false
        },
        "nteract": {
          "transient": {
            "deleting": false
          }
        },
        "gather": {
          "logged": 1613137348775
        }
      }
    },
    {
      "cell_type": "code",
      "source": [
        "Model.get_model_path('model_ML_fitted.joblib')"
      ],
      "outputs": [
        {
          "output_type": "execute_result",
          "execution_count": 37,
          "data": {
            "text/plain": "'model_ML_fitted.joblib'"
          },
          "metadata": {}
        }
      ],
      "execution_count": 37,
      "metadata": {
        "collapsed": true,
        "jupyter": {
          "source_hidden": false,
          "outputs_hidden": false
        },
        "nteract": {
          "transient": {
            "deleting": false
          }
        },
        "gather": {
          "logged": 1613137678948
        }
      }
    },
    {
      "cell_type": "code",
      "source": [
        "from azureml.core import Model\r\n",
        "from azureml.core.webservice import AciWebservice, Webservice\r\n",
        "import joblib\r\n",
        "##model = best_run.register_model(model_name='model_name', model_path='./outputs/model_name.pkl',\r\n",
        "  ##                     model_framework=Model.Framework.SCIKITLEARN)\r\n",
        "inference_config = InferenceConfig(entry_script='score.py',\r\n",
        "                                    environment=env)\r\n",
        "\r\n",
        "#model = best_run.register_model(model_name = 'automl_best_model.pkl', model_path = '.', model_framework=Model.Framework.SCIKITLEARN )\r\n",
        "\r\n",
        "\r\n",
        "aci_config = AciWebservice.deploy_configuration(cpu_cores=1, memory_gb=2,\r\n",
        "                                                enable_app_insights=True, auth_enabled=False)  \r\n",
        "service_name =  'automl1'\r\n",
        "service = Model.deploy(ws, service_name, [model], inference_config, deployment_config=aci_config, overwrite=True)\r\n",
        "service.wait_for_deployment(show_output = True)\r\n",
        "print(service.get_logs())"
      ],
      "outputs": [
        {
          "output_type": "stream",
          "name": "stdout",
          "text": [
            "Tips: You can try get_logs(): https://aka.ms/debugimage#dockerlog or local deployment: https://aka.ms/debugimage#debug-locally to debug if deployment takes longer than 10 minutes.\n",
            "Running.................................................."
          ]
        }
      ],
      "execution_count": 51,
      "metadata": {
        "gather": {
          "logged": 1598431435189
        },
        "jupyter": {
          "outputs_hidden": false,
          "source_hidden": false
        },
        "nteract": {
          "transient": {
            "deleting": false
          }
        }
      }
    },
    {
      "cell_type": "code",
      "source": [
        "print(service.get_logs())"
      ],
      "outputs": [],
      "execution_count": null,
      "metadata": {
        "collapsed": true,
        "jupyter": {
          "source_hidden": false,
          "outputs_hidden": false
        },
        "nteract": {
          "transient": {
            "deleting": false
          }
        },
        "gather": {
          "logged": 1612195235509
        }
      }
    },
    {
      "cell_type": "markdown",
      "source": [
        "TODO: In the cell below, send a request to the web service you deployed to test it."
      ],
      "metadata": {
        "collapsed": true,
        "gather": {
          "logged": 1598431657736
        },
        "jupyter": {
          "outputs_hidden": false,
          "source_hidden": false
        },
        "nteract": {
          "transient": {
            "deleting": false
          }
        }
      }
    },
    {
      "cell_type": "code",
      "source": [
        "import requests\r\n",
        "import json\r\n",
        "# URL for the web service, should be similar to:\r\n",
        "# 'http://8530a665-66f3-49c8-a953-b82a2d312917.eastus.azurecontainer.io/score'\r\n",
        "scoring_uri = service.scoring_uri\r\n",
        "# If the service is authenticated, set the key or token\r\n",
        "#key = ''\r\n",
        "\r\n",
        "# Two sets of data to score, so we get two results back\r\n",
        "data = {\"data\":\r\n",
        "        [\r\n",
        "          {\r\n",
        "           \"age\": 75, \r\n",
        "           \"anaemia\": 0, \r\n",
        "           \"creatinine_phosphokinase\": 582, \r\n",
        "           \"diabetes\": 0, \r\n",
        "           \"ejection_fraction\": 20, \r\n",
        "           \"high_blood_pressure\": 1, \r\n",
        "           \"platelets\": 265000, \r\n",
        "           \"serum_creatinine\": 1.9, \r\n",
        "           \"serum_sodium\": 130, \r\n",
        "           \"sex\": 1, \r\n",
        "           \"smoking\": 0,\r\n",
        "           \"time\": 4\r\n",
        "          },\r\n",
        "      ]\r\n",
        "    }"
      ],
      "outputs": [],
      "execution_count": null,
      "metadata": {
        "gather": {
          "logged": 1612194084693
        },
        "jupyter": {
          "outputs_hidden": false,
          "source_hidden": false
        },
        "nteract": {
          "transient": {
            "deleting": false
          }
        }
      }
    },
    {
      "cell_type": "code",
      "source": [
        "# Convert to JSON string\r\n",
        "input_data = json.dumps(data)\r\n",
        "with open(\"data.json\", \"w\") as _f:\r\n",
        "    _f.write(input_data)\r\n",
        "# Set the content type\r\n",
        "headers = {'Content-Type': 'application/json'}\r\n",
        "# If authentication is enabled, set the authorization header\r\n",
        "#headers['Authorization'] = f'Bearer {key}'\r\n",
        "# Make the request and display the response\r\n",
        "resp = requests.post(scoring_uri, input_data, headers=headers)\r\n",
        "print(resp.json())"
      ],
      "outputs": [],
      "execution_count": null,
      "metadata": {
        "collapsed": true,
        "jupyter": {
          "source_hidden": false,
          "outputs_hidden": false
        },
        "nteract": {
          "transient": {
            "deleting": false
          }
        }
      }
    },
    {
      "cell_type": "markdown",
      "source": [
        "TODO: In the cell below, print the logs of the web service and delete the service"
      ],
      "metadata": {
        "collapsed": true,
        "gather": {
          "logged": 1598432765711
        },
        "jupyter": {
          "outputs_hidden": false,
          "source_hidden": false
        },
        "nteract": {
          "transient": {
            "deleting": false
          }
        }
      }
    },
    {
      "cell_type": "code",
      "source": [
        "service.delete()\r\n",
        "model.delete()"
      ],
      "outputs": [],
      "execution_count": null,
      "metadata": {
        "jupyter": {
          "outputs_hidden": false,
          "source_hidden": false
        },
        "nteract": {
          "transient": {
            "deleting": false
          }
        }
      }
    }
  ],
  "metadata": {
    "kernel_info": {
      "name": "python3"
    },
    "kernelspec": {
      "name": "python3",
      "language": "python",
      "display_name": "Python 3"
    },
    "language_info": {
      "name": "python",
      "version": "3.6.9",
      "mimetype": "text/x-python",
      "codemirror_mode": {
        "name": "ipython",
        "version": 3
      },
      "pygments_lexer": "ipython3",
      "nbconvert_exporter": "python",
      "file_extension": ".py"
    },
    "nteract": {
      "version": "nteract-front-end@1.0.0"
    }
  },
  "nbformat": 4,
  "nbformat_minor": 2
}