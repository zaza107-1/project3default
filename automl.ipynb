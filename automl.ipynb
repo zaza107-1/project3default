{
  "cells": [
    {
      "cell_type": "markdown",
      "source": [
        "# Automated ML\n",
        "\n",
        "TODO: Import Dependencies. In the cell below, import all the dependencies that you will need to complete the project."
      ],
      "metadata": {}
    },
    {
      "cell_type": "code",
      "source": [
        "import logging\n",
        "import os\n",
        "import csv\n",
        "\n",
        "from matplotlib import pyplot as plt\n",
        "import numpy as np\n",
        "import pandas as pd\n",
        "import pkg_resources\n",
        "\n",
        "import azureml.core\n",
        "from azureml.core.experiment import Experiment\n",
        "from azureml.core.workspace import Workspace\n",
        "from azureml.train.automl import AutoMLConfig\n",
        "from azureml.core.dataset import Dataset\n",
        "from azureml.data.dataset_factory import TabularDatasetFactory\n",
        "\n",
        "\n",
        "# Check core SDK version number\n",
        "print(\"SDK version:\", azureml.core.VERSION)"
      ],
      "outputs": [
        {
          "output_type": "stream",
          "name": "stdout",
          "text": [
            "SDK version: 1.20.0\n"
          ]
        }
      ],
      "execution_count": 1,
      "metadata": {
        "gather": {
          "logged": 1613221762892
        },
        "jupyter": {
          "outputs_hidden": false,
          "source_hidden": false
        },
        "nteract": {
          "transient": {
            "deleting": false
          }
        }
      }
    },
    {
      "cell_type": "markdown",
      "source": [
        "## Dataset\n",
        "\n",
        "### Overview\n",
        "TODO: In this markdown cell, give an overview of the dataset you are using. Also mention the task you will be performing.\n",
        "\n",
        "\n",
        "TODO: Get data. In the cell below, write code to access the data you will be using in this project. Remember that the dataset needs to be external."
      ],
      "metadata": {}
    },
    {
      "cell_type": "code",
      "source": [
        "from azureml.data.dataset_factory import TabularDatasetFactory\n",
        "\n",
        "# Create TabularDataset using TabularDatasetFactory\n",
        "\n",
        "### YOUR CODE HERE ###\n",
        "from azureml.core.dataset import Dataset\n",
        "##url = 'https://archive.ics.uci.edu/ml/machine-learning-databases/00519/heart_failure_clinical_records_dataset.csv'\n",
        "##dataset2 = TabularDatasetFactory.from_delimited_files(path = url)\n",
        "###ds2 = dataset2.to_pandas_dataframe() ### YOUR CODE HERE ###\n",
        "\n",
        "url = 'https://raw.githubusercontent.com/zaza107-1/nd00333-capstone/master/heart_failure_clinical_records_dataset.csv'\n",
        "dataset = Dataset.Tabular.from_delimited_files(path=url)\n",
        "ds = dataset.to_pandas_dataframe()\n",
        "\n",
        "ds.describe()"
      ],
      "outputs": [
        {
          "output_type": "execute_result",
          "execution_count": 2,
          "data": {
            "text/plain": "              age     anaemia  creatinine_phosphokinase    diabetes  \\\ncount  299.000000  299.000000                299.000000  299.000000   \nmean    60.833893    0.431438                581.839465    0.418060   \nstd     11.894809    0.496107                970.287881    0.494067   \nmin     40.000000    0.000000                 23.000000    0.000000   \n25%     51.000000    0.000000                116.500000    0.000000   \n50%     60.000000    0.000000                250.000000    0.000000   \n75%     70.000000    1.000000                582.000000    1.000000   \nmax     95.000000    1.000000               7861.000000    1.000000   \n\n       ejection_fraction  high_blood_pressure      platelets  \\\ncount         299.000000           299.000000     299.000000   \nmean           38.083612             0.351171  263358.029264   \nstd            11.834841             0.478136   97804.236869   \nmin            14.000000             0.000000   25100.000000   \n25%            30.000000             0.000000  212500.000000   \n50%            38.000000             0.000000  262000.000000   \n75%            45.000000             1.000000  303500.000000   \nmax            80.000000             1.000000  850000.000000   \n\n       serum_creatinine  serum_sodium         sex    smoking        time  \\\ncount         299.00000    299.000000  299.000000  299.00000  299.000000   \nmean            1.39388    136.625418    0.648829    0.32107  130.260870   \nstd             1.03451      4.412477    0.478136    0.46767   77.614208   \nmin             0.50000    113.000000    0.000000    0.00000    4.000000   \n25%             0.90000    134.000000    0.000000    0.00000   73.000000   \n50%             1.10000    137.000000    1.000000    0.00000  115.000000   \n75%             1.40000    140.000000    1.000000    1.00000  203.000000   \nmax             9.40000    148.000000    1.000000    1.00000  285.000000   \n\n       DEATH_EVENT  \ncount    299.00000  \nmean       0.32107  \nstd        0.46767  \nmin        0.00000  \n25%        0.00000  \n50%        0.00000  \n75%        1.00000  \nmax        1.00000  ",
            "text/html": "<div>\n<style scoped>\n    .dataframe tbody tr th:only-of-type {\n        vertical-align: middle;\n    }\n\n    .dataframe tbody tr th {\n        vertical-align: top;\n    }\n\n    .dataframe thead th {\n        text-align: right;\n    }\n</style>\n<table border=\"1\" class=\"dataframe\">\n  <thead>\n    <tr style=\"text-align: right;\">\n      <th></th>\n      <th>age</th>\n      <th>anaemia</th>\n      <th>creatinine_phosphokinase</th>\n      <th>diabetes</th>\n      <th>ejection_fraction</th>\n      <th>high_blood_pressure</th>\n      <th>platelets</th>\n      <th>serum_creatinine</th>\n      <th>serum_sodium</th>\n      <th>sex</th>\n      <th>smoking</th>\n      <th>time</th>\n      <th>DEATH_EVENT</th>\n    </tr>\n  </thead>\n  <tbody>\n    <tr>\n      <th>count</th>\n      <td>299.000000</td>\n      <td>299.000000</td>\n      <td>299.000000</td>\n      <td>299.000000</td>\n      <td>299.000000</td>\n      <td>299.000000</td>\n      <td>299.000000</td>\n      <td>299.00000</td>\n      <td>299.000000</td>\n      <td>299.000000</td>\n      <td>299.00000</td>\n      <td>299.000000</td>\n      <td>299.00000</td>\n    </tr>\n    <tr>\n      <th>mean</th>\n      <td>60.833893</td>\n      <td>0.431438</td>\n      <td>581.839465</td>\n      <td>0.418060</td>\n      <td>38.083612</td>\n      <td>0.351171</td>\n      <td>263358.029264</td>\n      <td>1.39388</td>\n      <td>136.625418</td>\n      <td>0.648829</td>\n      <td>0.32107</td>\n      <td>130.260870</td>\n      <td>0.32107</td>\n    </tr>\n    <tr>\n      <th>std</th>\n      <td>11.894809</td>\n      <td>0.496107</td>\n      <td>970.287881</td>\n      <td>0.494067</td>\n      <td>11.834841</td>\n      <td>0.478136</td>\n      <td>97804.236869</td>\n      <td>1.03451</td>\n      <td>4.412477</td>\n      <td>0.478136</td>\n      <td>0.46767</td>\n      <td>77.614208</td>\n      <td>0.46767</td>\n    </tr>\n    <tr>\n      <th>min</th>\n      <td>40.000000</td>\n      <td>0.000000</td>\n      <td>23.000000</td>\n      <td>0.000000</td>\n      <td>14.000000</td>\n      <td>0.000000</td>\n      <td>25100.000000</td>\n      <td>0.50000</td>\n      <td>113.000000</td>\n      <td>0.000000</td>\n      <td>0.00000</td>\n      <td>4.000000</td>\n      <td>0.00000</td>\n    </tr>\n    <tr>\n      <th>25%</th>\n      <td>51.000000</td>\n      <td>0.000000</td>\n      <td>116.500000</td>\n      <td>0.000000</td>\n      <td>30.000000</td>\n      <td>0.000000</td>\n      <td>212500.000000</td>\n      <td>0.90000</td>\n      <td>134.000000</td>\n      <td>0.000000</td>\n      <td>0.00000</td>\n      <td>73.000000</td>\n      <td>0.00000</td>\n    </tr>\n    <tr>\n      <th>50%</th>\n      <td>60.000000</td>\n      <td>0.000000</td>\n      <td>250.000000</td>\n      <td>0.000000</td>\n      <td>38.000000</td>\n      <td>0.000000</td>\n      <td>262000.000000</td>\n      <td>1.10000</td>\n      <td>137.000000</td>\n      <td>1.000000</td>\n      <td>0.00000</td>\n      <td>115.000000</td>\n      <td>0.00000</td>\n    </tr>\n    <tr>\n      <th>75%</th>\n      <td>70.000000</td>\n      <td>1.000000</td>\n      <td>582.000000</td>\n      <td>1.000000</td>\n      <td>45.000000</td>\n      <td>1.000000</td>\n      <td>303500.000000</td>\n      <td>1.40000</td>\n      <td>140.000000</td>\n      <td>1.000000</td>\n      <td>1.00000</td>\n      <td>203.000000</td>\n      <td>1.00000</td>\n    </tr>\n    <tr>\n      <th>max</th>\n      <td>95.000000</td>\n      <td>1.000000</td>\n      <td>7861.000000</td>\n      <td>1.000000</td>\n      <td>80.000000</td>\n      <td>1.000000</td>\n      <td>850000.000000</td>\n      <td>9.40000</td>\n      <td>148.000000</td>\n      <td>1.000000</td>\n      <td>1.00000</td>\n      <td>285.000000</td>\n      <td>1.00000</td>\n    </tr>\n  </tbody>\n</table>\n</div>"
          },
          "metadata": {}
        }
      ],
      "execution_count": 2,
      "metadata": {
        "gather": {
          "logged": 1613221770009
        }
      }
    },
    {
      "cell_type": "code",
      "source": [
        "ws = Workspace.from_config()\n",
        "\n",
        "# choose a name for experiment\n",
        "experiment_name = 'AutoML_heart'\n",
        "project_folder = '.'\n",
        "experiment=Experiment(ws, experiment_name)"
      ],
      "outputs": [
        {
          "output_type": "stream",
          "name": "stdout",
          "text": [
            "Performing interactive authentication. Please follow the instructions on the terminal.\n",
            "To sign in, use a web browser to open the page https://microsoft.com/devicelogin and enter the code AXQ4SW57G to authenticate.\n",
            "You have logged in. Now let us find all the subscriptions to which you have access...\n",
            "Interactive authentication successfully completed.\n"
          ]
        }
      ],
      "execution_count": 3,
      "metadata": {
        "gather": {
          "logged": 1613221824237
        },
        "jupyter": {
          "outputs_hidden": false,
          "source_hidden": false
        },
        "nteract": {
          "transient": {
            "deleting": false
          }
        }
      }
    },
    {
      "cell_type": "code",
      "source": [
        "from azureml.core.compute import AmlCompute\n",
        "from azureml.core.compute import ComputeTarget\n",
        "from azureml.core.compute_target import ComputeTargetException\n",
        "\n",
        "# NOTE: update the cluster name to match the existing cluster\n",
        "# Choose a name for your CPU cluster\n",
        "amlcompute_cluster_name = \"auto-ml\"\n",
        "\n",
        "# Verify that cluster does not exist already\n",
        "try:\n",
        "    compute_target = ComputeTarget(workspace=ws, name=amlcompute_cluster_name)\n",
        "    print('Found existing cluster, use it.')\n",
        "except ComputeTargetException:\n",
        "    compute_config = AmlCompute.provisioning_configuration(vm_size='STANDARD_D2_V2',# for GPU, use \"STANDARD_NC6\"\n",
        "                                                           #vm_priority = 'lowpriority', # optional\n",
        "                                                           max_nodes=4)\n",
        "    compute_target = ComputeTarget.create(ws, amlcompute_cluster_name, compute_config)\n",
        "\n",
        "compute_target.wait_for_completion(show_output=True)\n",
        "# For a more detailed view of current AmlCompute status, use get_status()."
      ],
      "outputs": [
        {
          "output_type": "stream",
          "name": "stdout",
          "text": [
            "Creating\n",
            "Succeeded\n",
            "AmlCompute wait for completion finished\n",
            "\n",
            "Minimum number of nodes requested have been provisioned\n"
          ]
        }
      ],
      "execution_count": 4,
      "metadata": {
        "gather": {
          "logged": 1613221844273
        }
      }
    },
    {
      "cell_type": "code",
      "source": [
        "from train2 import clean_data\r\n",
        "\r\n",
        "# Use the clean_data function to clean your data.\r\n",
        "x, y = clean_data(ds) ### your code###\r\n",
        "\r\n",
        "from sklearn.model_selection import train_test_split\r\n",
        "\r\n",
        "x_train, x_test, y_train, y_test = train_test_split(x, y, random_state=42, test_size=0.33)\r\n",
        "\r\n",
        "df_train = pd.concat([x_train, y_train], axis=1)"
      ],
      "outputs": [],
      "execution_count": 5,
      "metadata": {
        "collapsed": true,
        "jupyter": {
          "source_hidden": false,
          "outputs_hidden": false
        },
        "nteract": {
          "transient": {
            "deleting": false
          }
        },
        "gather": {
          "logged": 1613221846118
        }
      }
    },
    {
      "cell_type": "code",
      "source": [
        "df_train.describe()"
      ],
      "outputs": [
        {
          "output_type": "execute_result",
          "execution_count": 6,
          "data": {
            "text/plain": "              age     anaemia  creatinine_phosphokinase    diabetes  \\\ncount  200.000000  200.000000                200.000000  200.000000   \nmean    60.588335    0.420000                582.765000    0.395000   \nstd     11.287966    0.494797                944.276208    0.490077   \nmin     40.000000    0.000000                 23.000000    0.000000   \n25%     52.000000    0.000000                109.000000    0.000000   \n50%     60.000000    0.000000                244.500000    0.000000   \n75%     67.250000    1.000000                582.000000    1.000000   \nmax     95.000000    1.000000               7861.000000    1.000000   \n\n       ejection_fraction  high_blood_pressure      platelets  \\\ncount          200.00000           200.000000     200.000000   \nmean            38.59500             0.365000  260130.062100   \nstd             11.68003             0.482638   91079.331644   \nmin             20.00000             0.000000   62000.000000   \n25%             30.00000             0.000000  203000.000000   \n50%             38.00000             0.000000  256000.000000   \n75%             45.00000             1.000000  304250.000000   \nmax             80.00000             1.000000  621000.000000   \n\n       serum_creatinine  serum_sodium         sex     smoking        time  \\\ncount        200.000000    200.000000  200.000000  200.000000  200.000000   \nmean           1.385200    136.620000    0.635000    0.305000  133.735000   \nstd            1.019065      4.318431    0.482638    0.461563   77.612973   \nmin            0.500000    113.000000    0.000000    0.000000    4.000000   \n25%            0.900000    134.000000    0.000000    0.000000   78.750000   \n50%            1.100000    137.000000    1.000000    0.000000  119.500000   \n75%            1.400000    140.000000    1.000000    1.000000  206.250000   \nmax            9.000000    146.000000    1.000000    1.000000  285.000000   \n\n       DEATH_EVENT  \ncount   200.000000  \nmean      0.270000  \nstd       0.445074  \nmin       0.000000  \n25%       0.000000  \n50%       0.000000  \n75%       1.000000  \nmax       1.000000  ",
            "text/html": "<div>\n<style scoped>\n    .dataframe tbody tr th:only-of-type {\n        vertical-align: middle;\n    }\n\n    .dataframe tbody tr th {\n        vertical-align: top;\n    }\n\n    .dataframe thead th {\n        text-align: right;\n    }\n</style>\n<table border=\"1\" class=\"dataframe\">\n  <thead>\n    <tr style=\"text-align: right;\">\n      <th></th>\n      <th>age</th>\n      <th>anaemia</th>\n      <th>creatinine_phosphokinase</th>\n      <th>diabetes</th>\n      <th>ejection_fraction</th>\n      <th>high_blood_pressure</th>\n      <th>platelets</th>\n      <th>serum_creatinine</th>\n      <th>serum_sodium</th>\n      <th>sex</th>\n      <th>smoking</th>\n      <th>time</th>\n      <th>DEATH_EVENT</th>\n    </tr>\n  </thead>\n  <tbody>\n    <tr>\n      <th>count</th>\n      <td>200.000000</td>\n      <td>200.000000</td>\n      <td>200.000000</td>\n      <td>200.000000</td>\n      <td>200.00000</td>\n      <td>200.000000</td>\n      <td>200.000000</td>\n      <td>200.000000</td>\n      <td>200.000000</td>\n      <td>200.000000</td>\n      <td>200.000000</td>\n      <td>200.000000</td>\n      <td>200.000000</td>\n    </tr>\n    <tr>\n      <th>mean</th>\n      <td>60.588335</td>\n      <td>0.420000</td>\n      <td>582.765000</td>\n      <td>0.395000</td>\n      <td>38.59500</td>\n      <td>0.365000</td>\n      <td>260130.062100</td>\n      <td>1.385200</td>\n      <td>136.620000</td>\n      <td>0.635000</td>\n      <td>0.305000</td>\n      <td>133.735000</td>\n      <td>0.270000</td>\n    </tr>\n    <tr>\n      <th>std</th>\n      <td>11.287966</td>\n      <td>0.494797</td>\n      <td>944.276208</td>\n      <td>0.490077</td>\n      <td>11.68003</td>\n      <td>0.482638</td>\n      <td>91079.331644</td>\n      <td>1.019065</td>\n      <td>4.318431</td>\n      <td>0.482638</td>\n      <td>0.461563</td>\n      <td>77.612973</td>\n      <td>0.445074</td>\n    </tr>\n    <tr>\n      <th>min</th>\n      <td>40.000000</td>\n      <td>0.000000</td>\n      <td>23.000000</td>\n      <td>0.000000</td>\n      <td>20.00000</td>\n      <td>0.000000</td>\n      <td>62000.000000</td>\n      <td>0.500000</td>\n      <td>113.000000</td>\n      <td>0.000000</td>\n      <td>0.000000</td>\n      <td>4.000000</td>\n      <td>0.000000</td>\n    </tr>\n    <tr>\n      <th>25%</th>\n      <td>52.000000</td>\n      <td>0.000000</td>\n      <td>109.000000</td>\n      <td>0.000000</td>\n      <td>30.00000</td>\n      <td>0.000000</td>\n      <td>203000.000000</td>\n      <td>0.900000</td>\n      <td>134.000000</td>\n      <td>0.000000</td>\n      <td>0.000000</td>\n      <td>78.750000</td>\n      <td>0.000000</td>\n    </tr>\n    <tr>\n      <th>50%</th>\n      <td>60.000000</td>\n      <td>0.000000</td>\n      <td>244.500000</td>\n      <td>0.000000</td>\n      <td>38.00000</td>\n      <td>0.000000</td>\n      <td>256000.000000</td>\n      <td>1.100000</td>\n      <td>137.000000</td>\n      <td>1.000000</td>\n      <td>0.000000</td>\n      <td>119.500000</td>\n      <td>0.000000</td>\n    </tr>\n    <tr>\n      <th>75%</th>\n      <td>67.250000</td>\n      <td>1.000000</td>\n      <td>582.000000</td>\n      <td>1.000000</td>\n      <td>45.00000</td>\n      <td>1.000000</td>\n      <td>304250.000000</td>\n      <td>1.400000</td>\n      <td>140.000000</td>\n      <td>1.000000</td>\n      <td>1.000000</td>\n      <td>206.250000</td>\n      <td>1.000000</td>\n    </tr>\n    <tr>\n      <th>max</th>\n      <td>95.000000</td>\n      <td>1.000000</td>\n      <td>7861.000000</td>\n      <td>1.000000</td>\n      <td>80.00000</td>\n      <td>1.000000</td>\n      <td>621000.000000</td>\n      <td>9.000000</td>\n      <td>146.000000</td>\n      <td>1.000000</td>\n      <td>1.000000</td>\n      <td>285.000000</td>\n      <td>1.000000</td>\n    </tr>\n  </tbody>\n</table>\n</div>"
          },
          "metadata": {}
        }
      ],
      "execution_count": 6,
      "metadata": {
        "collapsed": true,
        "jupyter": {
          "source_hidden": false,
          "outputs_hidden": false
        },
        "nteract": {
          "transient": {
            "deleting": false
          }
        },
        "gather": {
          "logged": 1613221846347
        }
      }
    },
    {
      "cell_type": "markdown",
      "source": [
        "## AutoML Configuration\n",
        "\n",
        "TODO: Explain why you chose the automl settings and cofiguration you used below."
      ],
      "metadata": {}
    },
    {
      "cell_type": "code",
      "source": [
        "compute_target"
      ],
      "outputs": [
        {
          "output_type": "execute_result",
          "execution_count": 7,
          "data": {
            "text/plain": "AmlCompute(workspace=Workspace.create(name='quick-starts-ws-138790', subscription_id='3e42d11f-d64d-4173-af9b-12ecaa1030b3', resource_group='aml-quickstarts-138790'), name=auto-ml, id=/subscriptions/3e42d11f-d64d-4173-af9b-12ecaa1030b3/resourceGroups/aml-quickstarts-138790/providers/Microsoft.MachineLearningServices/workspaces/quick-starts-ws-138790/computes/auto-ml, type=AmlCompute, provisioning_state=Succeeded, location=southcentralus, tags=None)"
          },
          "metadata": {}
        }
      ],
      "execution_count": 7,
      "metadata": {
        "collapsed": true,
        "jupyter": {
          "source_hidden": false,
          "outputs_hidden": false
        },
        "nteract": {
          "transient": {
            "deleting": false
          }
        },
        "gather": {
          "logged": 1613221846528
        }
      }
    },
    {
      "cell_type": "code",
      "source": [
        "if 'training' not in os.listdir():\r\n",
        "    os.mkdir(\"./training\")"
      ],
      "outputs": [],
      "execution_count": 8,
      "metadata": {
        "collapsed": true,
        "jupyter": {
          "source_hidden": false,
          "outputs_hidden": false
        },
        "nteract": {
          "transient": {
            "deleting": false
          }
        },
        "gather": {
          "logged": 1613221846692
        }
      }
    },
    {
      "cell_type": "code",
      "source": [
        "# TODO: Put your automl settings here\n",
        "automl_settings = {\"experiment_timeout_minutes\": 15,\n",
        "                    \"max_concurrent_iterations\": 5,\n",
        "                    \"primary_metric\" : 'accuracy'}\n",
        "\n",
        "# TODO: Put your automl config here\n",
        "automl_config = AutoMLConfig(compute_target=compute_target,\n",
        "                             task = \"classification\",\n",
        "                             training_data=dataset,\n",
        "                             label_column_name=\"DEATH_EVENT\",   \n",
        "                             path = project_folder,\n",
        "                             enable_early_stopping= True,\n",
        "                             featurization= 'auto',\n",
        "                             debug_log = \"automl_errors.log\",\n",
        "                             **automl_settings)"
      ],
      "outputs": [],
      "execution_count": 9,
      "metadata": {
        "gather": {
          "logged": 1613221846855
        },
        "jupyter": {
          "outputs_hidden": false,
          "source_hidden": false
        },
        "nteract": {
          "transient": {
            "deleting": false
          }
        }
      }
    },
    {
      "cell_type": "code",
      "source": [
        "# TODO: Submit your experiment\n",
        "remote_run = experiment.submit(automl_config)\n",
        "\n",
        "remote_run.wait_for_completion()"
      ],
      "outputs": [
        {
          "output_type": "stream",
          "name": "stdout",
          "text": [
            "Running on remote.\n"
          ]
        },
        {
          "output_type": "execute_result",
          "execution_count": 25,
          "data": {
            "text/plain": "{'runId': 'AutoML_6d8e5bd6-d09f-4cfd-8a1d-546aca1d9943',\n 'target': 'auto-ml',\n 'status': 'Completed',\n 'startTimeUtc': '2021-02-13T14:10:34.986369Z',\n 'endTimeUtc': '2021-02-13T14:36:21.684266Z',\n 'properties': {'num_iterations': '1000',\n  'training_type': 'TrainFull',\n  'acquisition_function': 'EI',\n  'primary_metric': 'accuracy',\n  'train_split': '0',\n  'acquisition_parameter': '0',\n  'num_cross_validation': None,\n  'target': 'auto-ml',\n  'AMLSettingsJsonString': '{\"path\":null,\"name\":\"AutoML_heart\",\"subscription_id\":\"3e42d11f-d64d-4173-af9b-12ecaa1030b3\",\"resource_group\":\"aml-quickstarts-138790\",\"workspace_name\":\"quick-starts-ws-138790\",\"region\":\"southcentralus\",\"compute_target\":\"auto-ml\",\"spark_service\":null,\"azure_service\":\"remote\",\"many_models\":false,\"pipeline_fetch_max_batch_size\":1,\"iterations\":1000,\"primary_metric\":\"accuracy\",\"task_type\":\"classification\",\"data_script\":null,\"validation_size\":0.0,\"n_cross_validations\":null,\"y_min\":null,\"y_max\":null,\"num_classes\":null,\"featurization\":\"auto\",\"_ignore_package_version_incompatibilities\":false,\"is_timeseries\":false,\"max_cores_per_iteration\":1,\"max_concurrent_iterations\":5,\"iteration_timeout_minutes\":null,\"mem_in_mb\":null,\"enforce_time_on_windows\":false,\"experiment_timeout_minutes\":15,\"experiment_exit_score\":null,\"whitelist_models\":null,\"blacklist_algos\":[\"TensorFlowLinearClassifier\",\"TensorFlowDNN\"],\"supported_models\":[\"SGD\",\"KNN\",\"XGBoostClassifier\",\"GradientBoosting\",\"RandomForest\",\"SVM\",\"ExtremeRandomTrees\",\"BernoulliNaiveBayes\",\"TensorFlowLinearClassifier\",\"LogisticRegression\",\"AveragedPerceptronClassifier\",\"LightGBM\",\"MultinomialNaiveBayes\",\"TensorFlowDNN\",\"LinearSVM\",\"DecisionTree\"],\"auto_blacklist\":true,\"blacklist_samples_reached\":false,\"exclude_nan_labels\":true,\"verbosity\":20,\"_debug_log\":\"azureml_automl.log\",\"show_warnings\":false,\"model_explainability\":true,\"service_url\":null,\"sdk_url\":null,\"sdk_packages\":null,\"enable_onnx_compatible_models\":false,\"enable_split_onnx_featurizer_estimator_models\":false,\"vm_type\":\"STANDARD_D2_V2\",\"telemetry_verbosity\":20,\"send_telemetry\":true,\"enable_dnn\":false,\"scenario\":\"SDK-1.13.0\",\"environment_label\":null,\"force_text_dnn\":false,\"enable_feature_sweeping\":true,\"enable_early_stopping\":true,\"early_stopping_n_iters\":10,\"metrics\":null,\"enable_ensembling\":true,\"enable_stack_ensembling\":true,\"ensemble_iterations\":15,\"enable_tf\":false,\"enable_subsampling\":null,\"subsample_seed\":null,\"enable_nimbusml\":false,\"enable_streaming\":false,\"force_streaming\":false,\"track_child_runs\":true,\"allowed_private_models\":[],\"label_column_name\":\"DEATH_EVENT\",\"weight_column_name\":null,\"cv_split_column_names\":null,\"enable_local_managed\":false,\"_local_managed_run_id\":null,\"cost_mode\":1,\"lag_length\":0,\"metric_operation\":\"maximize\",\"preprocess\":true}',\n  'DataPrepJsonString': '{\\\\\"training_data\\\\\": \\\\\"{\\\\\\\\\\\\\"blocks\\\\\\\\\\\\\": [{\\\\\\\\\\\\\"id\\\\\\\\\\\\\": \\\\\\\\\\\\\"95531399-5ba7-400d-990f-21659164e3b9\\\\\\\\\\\\\", \\\\\\\\\\\\\"type\\\\\\\\\\\\\": \\\\\\\\\\\\\"Microsoft.DPrep.GetFilesBlock\\\\\\\\\\\\\", \\\\\\\\\\\\\"arguments\\\\\\\\\\\\\": {\\\\\\\\\\\\\"isArchive\\\\\\\\\\\\\": false, \\\\\\\\\\\\\"path\\\\\\\\\\\\\": {\\\\\\\\\\\\\"target\\\\\\\\\\\\\": 4, \\\\\\\\\\\\\"resourceDetails\\\\\\\\\\\\\": [{\\\\\\\\\\\\\"path\\\\\\\\\\\\\": \\\\\\\\\\\\\"https://raw.githubusercontent.com/zaza107-1/nd00333-capstone/master/heart_failure_clinical_records_dataset.csv\\\\\\\\\\\\\"}]}}, \\\\\\\\\\\\\"localData\\\\\\\\\\\\\": {}, \\\\\\\\\\\\\"isEnabled\\\\\\\\\\\\\": true, \\\\\\\\\\\\\"name\\\\\\\\\\\\\": null, \\\\\\\\\\\\\"annotation\\\\\\\\\\\\\": null}, {\\\\\\\\\\\\\"id\\\\\\\\\\\\\": \\\\\\\\\\\\\"59dd2b06-44f5-4ec3-aebf-48dc92742196\\\\\\\\\\\\\", \\\\\\\\\\\\\"type\\\\\\\\\\\\\": \\\\\\\\\\\\\"Microsoft.DPrep.ParseDelimitedBlock\\\\\\\\\\\\\", \\\\\\\\\\\\\"arguments\\\\\\\\\\\\\": {\\\\\\\\\\\\\"columnHeadersMode\\\\\\\\\\\\\": 3, \\\\\\\\\\\\\"fileEncoding\\\\\\\\\\\\\": 0, \\\\\\\\\\\\\"handleQuotedLineBreaks\\\\\\\\\\\\\": false, \\\\\\\\\\\\\"preview\\\\\\\\\\\\\": false, \\\\\\\\\\\\\"separator\\\\\\\\\\\\\": \\\\\\\\\\\\\",\\\\\\\\\\\\\", \\\\\\\\\\\\\"skipRows\\\\\\\\\\\\\": 0, \\\\\\\\\\\\\"skipRowsMode\\\\\\\\\\\\\": 0}, \\\\\\\\\\\\\"localData\\\\\\\\\\\\\": {}, \\\\\\\\\\\\\"isEnabled\\\\\\\\\\\\\": true, \\\\\\\\\\\\\"name\\\\\\\\\\\\\": null, \\\\\\\\\\\\\"annotation\\\\\\\\\\\\\": null}, {\\\\\\\\\\\\\"id\\\\\\\\\\\\\": \\\\\\\\\\\\\"cf258d7c-c175-4fbb-8a83-c7a00551bcb2\\\\\\\\\\\\\", \\\\\\\\\\\\\"type\\\\\\\\\\\\\": \\\\\\\\\\\\\"Microsoft.DPrep.DropColumnsBlock\\\\\\\\\\\\\", \\\\\\\\\\\\\"arguments\\\\\\\\\\\\\": {\\\\\\\\\\\\\"columns\\\\\\\\\\\\\": {\\\\\\\\\\\\\"type\\\\\\\\\\\\\": 0, \\\\\\\\\\\\\"details\\\\\\\\\\\\\": {\\\\\\\\\\\\\"selectedColumns\\\\\\\\\\\\\": [\\\\\\\\\\\\\"Path\\\\\\\\\\\\\"]}}}, \\\\\\\\\\\\\"localData\\\\\\\\\\\\\": {}, \\\\\\\\\\\\\"isEnabled\\\\\\\\\\\\\": true, \\\\\\\\\\\\\"name\\\\\\\\\\\\\": null, \\\\\\\\\\\\\"annotation\\\\\\\\\\\\\": null}, {\\\\\\\\\\\\\"id\\\\\\\\\\\\\": \\\\\\\\\\\\\"c2dfa7fc-9734-4d27-9e30-f9ad48891681\\\\\\\\\\\\\", \\\\\\\\\\\\\"type\\\\\\\\\\\\\": \\\\\\\\\\\\\"Microsoft.DPrep.SetColumnTypesBlock\\\\\\\\\\\\\", \\\\\\\\\\\\\"arguments\\\\\\\\\\\\\": {\\\\\\\\\\\\\"columnConversion\\\\\\\\\\\\\": [{\\\\\\\\\\\\\"column\\\\\\\\\\\\\": {\\\\\\\\\\\\\"type\\\\\\\\\\\\\": 2, \\\\\\\\\\\\\"details\\\\\\\\\\\\\": {\\\\\\\\\\\\\"selectedColumn\\\\\\\\\\\\\": \\\\\\\\\\\\\"age\\\\\\\\\\\\\"}}, \\\\\\\\\\\\\"typeProperty\\\\\\\\\\\\\": 3}, {\\\\\\\\\\\\\"column\\\\\\\\\\\\\": {\\\\\\\\\\\\\"type\\\\\\\\\\\\\": 2, \\\\\\\\\\\\\"details\\\\\\\\\\\\\": {\\\\\\\\\\\\\"selectedColumn\\\\\\\\\\\\\": \\\\\\\\\\\\\"anaemia\\\\\\\\\\\\\"}}, \\\\\\\\\\\\\"typeProperty\\\\\\\\\\\\\": 2}, {\\\\\\\\\\\\\"column\\\\\\\\\\\\\": {\\\\\\\\\\\\\"type\\\\\\\\\\\\\": 2, \\\\\\\\\\\\\"details\\\\\\\\\\\\\": {\\\\\\\\\\\\\"selectedColumn\\\\\\\\\\\\\": \\\\\\\\\\\\\"creatinine_phosphokinase\\\\\\\\\\\\\"}}, \\\\\\\\\\\\\"typeProperty\\\\\\\\\\\\\": 2}, {\\\\\\\\\\\\\"column\\\\\\\\\\\\\": {\\\\\\\\\\\\\"type\\\\\\\\\\\\\": 2, \\\\\\\\\\\\\"details\\\\\\\\\\\\\": {\\\\\\\\\\\\\"selectedColumn\\\\\\\\\\\\\": \\\\\\\\\\\\\"diabetes\\\\\\\\\\\\\"}}, \\\\\\\\\\\\\"typeProperty\\\\\\\\\\\\\": 2}, {\\\\\\\\\\\\\"column\\\\\\\\\\\\\": {\\\\\\\\\\\\\"type\\\\\\\\\\\\\": 2, \\\\\\\\\\\\\"details\\\\\\\\\\\\\": {\\\\\\\\\\\\\"selectedColumn\\\\\\\\\\\\\": \\\\\\\\\\\\\"ejection_fraction\\\\\\\\\\\\\"}}, \\\\\\\\\\\\\"typeProperty\\\\\\\\\\\\\": 2}, {\\\\\\\\\\\\\"column\\\\\\\\\\\\\": {\\\\\\\\\\\\\"type\\\\\\\\\\\\\": 2, \\\\\\\\\\\\\"details\\\\\\\\\\\\\": {\\\\\\\\\\\\\"selectedColumn\\\\\\\\\\\\\": \\\\\\\\\\\\\"high_blood_pressure\\\\\\\\\\\\\"}}, \\\\\\\\\\\\\"typeProperty\\\\\\\\\\\\\": 2}, {\\\\\\\\\\\\\"column\\\\\\\\\\\\\": {\\\\\\\\\\\\\"type\\\\\\\\\\\\\": 2, \\\\\\\\\\\\\"details\\\\\\\\\\\\\": {\\\\\\\\\\\\\"selectedColumn\\\\\\\\\\\\\": \\\\\\\\\\\\\"platelets\\\\\\\\\\\\\"}}, \\\\\\\\\\\\\"typeProperty\\\\\\\\\\\\\": 3}, {\\\\\\\\\\\\\"column\\\\\\\\\\\\\": {\\\\\\\\\\\\\"type\\\\\\\\\\\\\": 2, \\\\\\\\\\\\\"details\\\\\\\\\\\\\": {\\\\\\\\\\\\\"selectedColumn\\\\\\\\\\\\\": \\\\\\\\\\\\\"serum_creatinine\\\\\\\\\\\\\"}}, \\\\\\\\\\\\\"typeProperty\\\\\\\\\\\\\": 3}, {\\\\\\\\\\\\\"column\\\\\\\\\\\\\": {\\\\\\\\\\\\\"type\\\\\\\\\\\\\": 2, \\\\\\\\\\\\\"details\\\\\\\\\\\\\": {\\\\\\\\\\\\\"selectedColumn\\\\\\\\\\\\\": \\\\\\\\\\\\\"serum_sodium\\\\\\\\\\\\\"}}, \\\\\\\\\\\\\"typeProperty\\\\\\\\\\\\\": 2}, {\\\\\\\\\\\\\"column\\\\\\\\\\\\\": {\\\\\\\\\\\\\"type\\\\\\\\\\\\\": 2, \\\\\\\\\\\\\"details\\\\\\\\\\\\\": {\\\\\\\\\\\\\"selectedColumn\\\\\\\\\\\\\": \\\\\\\\\\\\\"sex\\\\\\\\\\\\\"}}, \\\\\\\\\\\\\"typeProperty\\\\\\\\\\\\\": 2}, {\\\\\\\\\\\\\"column\\\\\\\\\\\\\": {\\\\\\\\\\\\\"type\\\\\\\\\\\\\": 2, \\\\\\\\\\\\\"details\\\\\\\\\\\\\": {\\\\\\\\\\\\\"selectedColumn\\\\\\\\\\\\\": \\\\\\\\\\\\\"smoking\\\\\\\\\\\\\"}}, \\\\\\\\\\\\\"typeProperty\\\\\\\\\\\\\": 2}, {\\\\\\\\\\\\\"column\\\\\\\\\\\\\": {\\\\\\\\\\\\\"type\\\\\\\\\\\\\": 2, \\\\\\\\\\\\\"details\\\\\\\\\\\\\": {\\\\\\\\\\\\\"selectedColumn\\\\\\\\\\\\\": \\\\\\\\\\\\\"time\\\\\\\\\\\\\"}}, \\\\\\\\\\\\\"typeProperty\\\\\\\\\\\\\": 2}, {\\\\\\\\\\\\\"column\\\\\\\\\\\\\": {\\\\\\\\\\\\\"type\\\\\\\\\\\\\": 2, \\\\\\\\\\\\\"details\\\\\\\\\\\\\": {\\\\\\\\\\\\\"selectedColumn\\\\\\\\\\\\\": \\\\\\\\\\\\\"DEATH_EVENT\\\\\\\\\\\\\"}}, \\\\\\\\\\\\\"typeProperty\\\\\\\\\\\\\": 2}]}, \\\\\\\\\\\\\"localData\\\\\\\\\\\\\": {}, \\\\\\\\\\\\\"isEnabled\\\\\\\\\\\\\": true, \\\\\\\\\\\\\"name\\\\\\\\\\\\\": null, \\\\\\\\\\\\\"annotation\\\\\\\\\\\\\": null}], \\\\\\\\\\\\\"inspectors\\\\\\\\\\\\\": [], \\\\\\\\\\\\\"meta\\\\\\\\\\\\\": {\\\\\\\\\\\\\"savedDatasetId\\\\\\\\\\\\\": \\\\\\\\\\\\\"ec0f52d2-afdb-473b-ba34-9584abd0afd0\\\\\\\\\\\\\", \\\\\\\\\\\\\"datasetType\\\\\\\\\\\\\": \\\\\\\\\\\\\"tabular\\\\\\\\\\\\\", \\\\\\\\\\\\\"subscriptionId\\\\\\\\\\\\\": \\\\\\\\\\\\\"3e42d11f-d64d-4173-af9b-12ecaa1030b3\\\\\\\\\\\\\", \\\\\\\\\\\\\"workspaceId\\\\\\\\\\\\\": \\\\\\\\\\\\\"0b06a065-bdad-4314-9eb0-7dc4cec5ee3b\\\\\\\\\\\\\", \\\\\\\\\\\\\"workspaceLocation\\\\\\\\\\\\\": \\\\\\\\\\\\\"southcentralus\\\\\\\\\\\\\"}}\\\\\", \\\\\"activities\\\\\": 0}',\n  'EnableSubsampling': None,\n  'runTemplate': 'AutoML',\n  'azureml.runsource': 'automl',\n  'display_task_type': 'classification',\n  'dependencies_versions': '{\"azureml-widgets\": \"1.20.0\", \"azureml-train\": \"1.20.0\", \"azureml-train-restclients-hyperdrive\": \"1.20.0\", \"azureml-train-core\": \"1.20.0\", \"azureml-train-automl\": \"1.20.0\", \"azureml-train-automl-runtime\": \"1.20.0\", \"azureml-train-automl-client\": \"1.20.0\", \"azureml-tensorboard\": \"1.20.0\", \"azureml-telemetry\": \"1.20.0\", \"azureml-sdk\": \"1.20.0\", \"azureml-samples\": \"0+unknown\", \"azureml-pipeline\": \"1.20.0\", \"azureml-pipeline-steps\": \"1.20.0\", \"azureml-pipeline-core\": \"1.20.0\", \"azureml-opendatasets\": \"1.20.0\", \"azureml-model-management-sdk\": \"1.0.1b6.post1\", \"azureml-mlflow\": \"1.20.0.post1\", \"azureml-interpret\": \"1.20.0\", \"azureml-explain-model\": \"1.20.0\", \"azureml-defaults\": \"1.20.0\", \"azureml-dataset-runtime\": \"1.20.0\", \"azureml-dataprep\": \"2.7.3\", \"azureml-dataprep-rslex\": \"1.5.0\", \"azureml-dataprep-native\": \"27.0.0\", \"azureml-datadrift\": \"1.20.0\", \"azureml-core\": \"1.20.0\", \"azureml-contrib-services\": \"1.20.0\", \"azureml-contrib-server\": \"1.20.0\", \"azureml-contrib-reinforcementlearning\": \"1.20.0\", \"azureml-contrib-pipeline-steps\": \"1.20.0\", \"azureml-contrib-notebook\": \"1.20.0\", \"azureml-contrib-interpret\": \"1.20.0\", \"azureml-contrib-gbdt\": \"1.20.0\", \"azureml-contrib-fairness\": \"1.20.0\", \"azureml-contrib-dataset\": \"1.20.0\", \"azureml-cli-common\": \"1.20.0\", \"azureml-automl-runtime\": \"1.20.0\", \"azureml-automl-core\": \"1.20.0\", \"azureml-accel-models\": \"1.20.0\"}',\n  '_aml_system_scenario_identification': 'Remote.Parent',\n  'ClientType': 'SDK',\n  'environment_cpu_name': 'AzureML-AutoML',\n  'environment_cpu_label': 'prod',\n  'environment_gpu_name': 'AzureML-AutoML-GPU',\n  'environment_gpu_label': 'prod',\n  'root_attribution': 'automl',\n  'attribution': 'AutoML',\n  'Orchestrator': 'AutoML',\n  'CancelUri': 'https://southcentralus.experiments.azureml.net/jasmine/v1.0/subscriptions/3e42d11f-d64d-4173-af9b-12ecaa1030b3/resourceGroups/aml-quickstarts-138790/providers/Microsoft.MachineLearningServices/workspaces/quick-starts-ws-138790/experimentids/4d975238-9677-43eb-8a98-a0b9cb8cebd4/cancel/AutoML_6d8e5bd6-d09f-4cfd-8a1d-546aca1d9943',\n  'ClientSdkVersion': '1.21.0',\n  'snapshotId': '00000000-0000-0000-0000-000000000000',\n  'SetupRunId': 'AutoML_6d8e5bd6-d09f-4cfd-8a1d-546aca1d9943_setup',\n  'SetupRunContainerId': 'dcid.AutoML_6d8e5bd6-d09f-4cfd-8a1d-546aca1d9943_setup',\n  'FeaturizationRunJsonPath': 'featurizer_container.json',\n  'FeaturizationRunId': 'AutoML_6d8e5bd6-d09f-4cfd-8a1d-546aca1d9943_featurize',\n  'ProblemInfoJsonString': '{\"dataset_num_categorical\": 0, \"is_sparse\": false, \"subsampling\": false, \"dataset_classes\": 2, \"dataset_features\": 12, \"dataset_samples\": 299, \"single_frequency_class_detected\": false}',\n  'ModelExplainRunId': 'AutoML_6d8e5bd6-d09f-4cfd-8a1d-546aca1d9943_ModelExplain'},\n 'inputDatasets': [{'dataset': {'id': 'ec0f52d2-afdb-473b-ba34-9584abd0afd0'}, 'consumptionDetails': {'type': 'RunInput', 'inputName': 'training_data', 'mechanism': 'Direct'}}],\n 'outputDatasets': [],\n 'logFiles': {},\n 'submittedBy': 'ODL_User 138790'}"
          },
          "metadata": {}
        }
      ],
      "execution_count": 25,
      "metadata": {
        "gather": {
          "logged": 1613226984980
        },
        "jupyter": {
          "outputs_hidden": false,
          "source_hidden": false
        },
        "nteract": {
          "transient": {
            "deleting": false
          }
        }
      }
    },
    {
      "cell_type": "markdown",
      "source": [
        "## Run Details\n",
        "\n",
        "OPTIONAL: Write about the different models trained and their performance. Why do you think some models did better than others?\n",
        "\n",
        "TODO: In the cell below, use the `RunDetails` widget to show the different experiments."
      ],
      "metadata": {}
    },
    {
      "cell_type": "code",
      "source": [
        "from azureml.widgets import RunDetails\n",
        "RunDetails(remote_run).show()"
      ],
      "outputs": [
        {
          "output_type": "display_data",
          "data": {
            "text/plain": "_AutoMLWidget(widget_settings={'childWidgetDisplay': 'popup', 'send_telemetry': False, 'log_level': 'INFO', 's…",
            "application/vnd.jupyter.widget-view+json": {
              "version_major": 2,
              "version_minor": 0,
              "model_id": "bbf0497724074b309eb4dd29f210adef"
            }
          },
          "metadata": {}
        },
        {
          "output_type": "display_data",
          "data": {
            "application/aml.mini.widget.v1": "{\"status\": \"Completed\", \"workbench_run_details_uri\": \"https://ml.azure.com/experiments/AutoML_heart/runs/AutoML_6d8e5bd6-d09f-4cfd-8a1d-546aca1d9943?wsid=/subscriptions/3e42d11f-d64d-4173-af9b-12ecaa1030b3/resourcegroups/aml-quickstarts-138790/workspaces/quick-starts-ws-138790\", \"run_id\": \"AutoML_6d8e5bd6-d09f-4cfd-8a1d-546aca1d9943\", \"run_properties\": {\"run_id\": \"AutoML_6d8e5bd6-d09f-4cfd-8a1d-546aca1d9943\", \"created_utc\": \"2021-02-13T14:10:20.438487Z\", \"properties\": {\"num_iterations\": \"1000\", \"training_type\": \"TrainFull\", \"acquisition_function\": \"EI\", \"primary_metric\": \"accuracy\", \"train_split\": \"0\", \"acquisition_parameter\": \"0\", \"num_cross_validation\": null, \"target\": \"auto-ml\", \"AMLSettingsJsonString\": \"{\\\"path\\\":null,\\\"name\\\":\\\"AutoML_heart\\\",\\\"subscription_id\\\":\\\"3e42d11f-d64d-4173-af9b-12ecaa1030b3\\\",\\\"resource_group\\\":\\\"aml-quickstarts-138790\\\",\\\"workspace_name\\\":\\\"quick-starts-ws-138790\\\",\\\"region\\\":\\\"southcentralus\\\",\\\"compute_target\\\":\\\"auto-ml\\\",\\\"spark_service\\\":null,\\\"azure_service\\\":\\\"remote\\\",\\\"many_models\\\":false,\\\"pipeline_fetch_max_batch_size\\\":1,\\\"iterations\\\":1000,\\\"primary_metric\\\":\\\"accuracy\\\",\\\"task_type\\\":\\\"classification\\\",\\\"data_script\\\":null,\\\"validation_size\\\":0.0,\\\"n_cross_validations\\\":null,\\\"y_min\\\":null,\\\"y_max\\\":null,\\\"num_classes\\\":null,\\\"featurization\\\":\\\"auto\\\",\\\"_ignore_package_version_incompatibilities\\\":false,\\\"is_timeseries\\\":false,\\\"max_cores_per_iteration\\\":1,\\\"max_concurrent_iterations\\\":5,\\\"iteration_timeout_minutes\\\":null,\\\"mem_in_mb\\\":null,\\\"enforce_time_on_windows\\\":false,\\\"experiment_timeout_minutes\\\":15,\\\"experiment_exit_score\\\":null,\\\"whitelist_models\\\":null,\\\"blacklist_algos\\\":[\\\"TensorFlowLinearClassifier\\\",\\\"TensorFlowDNN\\\"],\\\"supported_models\\\":[\\\"SGD\\\",\\\"KNN\\\",\\\"XGBoostClassifier\\\",\\\"GradientBoosting\\\",\\\"RandomForest\\\",\\\"SVM\\\",\\\"ExtremeRandomTrees\\\",\\\"BernoulliNaiveBayes\\\",\\\"TensorFlowLinearClassifier\\\",\\\"LogisticRegression\\\",\\\"AveragedPerceptronClassifier\\\",\\\"LightGBM\\\",\\\"MultinomialNaiveBayes\\\",\\\"TensorFlowDNN\\\",\\\"LinearSVM\\\",\\\"DecisionTree\\\"],\\\"auto_blacklist\\\":true,\\\"blacklist_samples_reached\\\":false,\\\"exclude_nan_labels\\\":true,\\\"verbosity\\\":20,\\\"_debug_log\\\":\\\"azureml_automl.log\\\",\\\"show_warnings\\\":false,\\\"model_explainability\\\":true,\\\"service_url\\\":null,\\\"sdk_url\\\":null,\\\"sdk_packages\\\":null,\\\"enable_onnx_compatible_models\\\":false,\\\"enable_split_onnx_featurizer_estimator_models\\\":false,\\\"vm_type\\\":\\\"STANDARD_D2_V2\\\",\\\"telemetry_verbosity\\\":20,\\\"send_telemetry\\\":true,\\\"enable_dnn\\\":false,\\\"scenario\\\":\\\"SDK-1.13.0\\\",\\\"environment_label\\\":null,\\\"force_text_dnn\\\":false,\\\"enable_feature_sweeping\\\":true,\\\"enable_early_stopping\\\":true,\\\"early_stopping_n_iters\\\":10,\\\"metrics\\\":null,\\\"enable_ensembling\\\":true,\\\"enable_stack_ensembling\\\":true,\\\"ensemble_iterations\\\":15,\\\"enable_tf\\\":false,\\\"enable_subsampling\\\":null,\\\"subsample_seed\\\":null,\\\"enable_nimbusml\\\":false,\\\"enable_streaming\\\":false,\\\"force_streaming\\\":false,\\\"track_child_runs\\\":true,\\\"allowed_private_models\\\":[],\\\"label_column_name\\\":\\\"DEATH_EVENT\\\",\\\"weight_column_name\\\":null,\\\"cv_split_column_names\\\":null,\\\"enable_local_managed\\\":false,\\\"_local_managed_run_id\\\":null,\\\"cost_mode\\\":1,\\\"lag_length\\\":0,\\\"metric_operation\\\":\\\"maximize\\\",\\\"preprocess\\\":true}\", \"DataPrepJsonString\": \"{\\\\\\\"training_data\\\\\\\": \\\\\\\"{\\\\\\\\\\\\\\\"blocks\\\\\\\\\\\\\\\": [{\\\\\\\\\\\\\\\"id\\\\\\\\\\\\\\\": \\\\\\\\\\\\\\\"95531399-5ba7-400d-990f-21659164e3b9\\\\\\\\\\\\\\\", \\\\\\\\\\\\\\\"type\\\\\\\\\\\\\\\": \\\\\\\\\\\\\\\"Microsoft.DPrep.GetFilesBlock\\\\\\\\\\\\\\\", \\\\\\\\\\\\\\\"arguments\\\\\\\\\\\\\\\": {\\\\\\\\\\\\\\\"isArchive\\\\\\\\\\\\\\\": false, \\\\\\\\\\\\\\\"path\\\\\\\\\\\\\\\": {\\\\\\\\\\\\\\\"target\\\\\\\\\\\\\\\": 4, \\\\\\\\\\\\\\\"resourceDetails\\\\\\\\\\\\\\\": [{\\\\\\\\\\\\\\\"path\\\\\\\\\\\\\\\": \\\\\\\\\\\\\\\"https://raw.githubusercontent.com/zaza107-1/nd00333-capstone/master/heart_failure_clinical_records_dataset.csv\\\\\\\\\\\\\\\"}]}}, \\\\\\\\\\\\\\\"localData\\\\\\\\\\\\\\\": {}, \\\\\\\\\\\\\\\"isEnabled\\\\\\\\\\\\\\\": true, \\\\\\\\\\\\\\\"name\\\\\\\\\\\\\\\": null, \\\\\\\\\\\\\\\"annotation\\\\\\\\\\\\\\\": null}, {\\\\\\\\\\\\\\\"id\\\\\\\\\\\\\\\": \\\\\\\\\\\\\\\"59dd2b06-44f5-4ec3-aebf-48dc92742196\\\\\\\\\\\\\\\", \\\\\\\\\\\\\\\"type\\\\\\\\\\\\\\\": \\\\\\\\\\\\\\\"Microsoft.DPrep.ParseDelimitedBlock\\\\\\\\\\\\\\\", \\\\\\\\\\\\\\\"arguments\\\\\\\\\\\\\\\": {\\\\\\\\\\\\\\\"columnHeadersMode\\\\\\\\\\\\\\\": 3, \\\\\\\\\\\\\\\"fileEncoding\\\\\\\\\\\\\\\": 0, \\\\\\\\\\\\\\\"handleQuotedLineBreaks\\\\\\\\\\\\\\\": false, \\\\\\\\\\\\\\\"preview\\\\\\\\\\\\\\\": false, \\\\\\\\\\\\\\\"separator\\\\\\\\\\\\\\\": \\\\\\\\\\\\\\\",\\\\\\\\\\\\\\\", \\\\\\\\\\\\\\\"skipRows\\\\\\\\\\\\\\\": 0, \\\\\\\\\\\\\\\"skipRowsMode\\\\\\\\\\\\\\\": 0}, \\\\\\\\\\\\\\\"localData\\\\\\\\\\\\\\\": {}, \\\\\\\\\\\\\\\"isEnabled\\\\\\\\\\\\\\\": true, \\\\\\\\\\\\\\\"name\\\\\\\\\\\\\\\": null, \\\\\\\\\\\\\\\"annotation\\\\\\\\\\\\\\\": null}, {\\\\\\\\\\\\\\\"id\\\\\\\\\\\\\\\": \\\\\\\\\\\\\\\"cf258d7c-c175-4fbb-8a83-c7a00551bcb2\\\\\\\\\\\\\\\", \\\\\\\\\\\\\\\"type\\\\\\\\\\\\\\\": \\\\\\\\\\\\\\\"Microsoft.DPrep.DropColumnsBlock\\\\\\\\\\\\\\\", \\\\\\\\\\\\\\\"arguments\\\\\\\\\\\\\\\": {\\\\\\\\\\\\\\\"columns\\\\\\\\\\\\\\\": {\\\\\\\\\\\\\\\"type\\\\\\\\\\\\\\\": 0, \\\\\\\\\\\\\\\"details\\\\\\\\\\\\\\\": {\\\\\\\\\\\\\\\"selectedColumns\\\\\\\\\\\\\\\": [\\\\\\\\\\\\\\\"Path\\\\\\\\\\\\\\\"]}}}, \\\\\\\\\\\\\\\"localData\\\\\\\\\\\\\\\": {}, \\\\\\\\\\\\\\\"isEnabled\\\\\\\\\\\\\\\": true, \\\\\\\\\\\\\\\"name\\\\\\\\\\\\\\\": null, \\\\\\\\\\\\\\\"annotation\\\\\\\\\\\\\\\": null}, {\\\\\\\\\\\\\\\"id\\\\\\\\\\\\\\\": \\\\\\\\\\\\\\\"c2dfa7fc-9734-4d27-9e30-f9ad48891681\\\\\\\\\\\\\\\", \\\\\\\\\\\\\\\"type\\\\\\\\\\\\\\\": \\\\\\\\\\\\\\\"Microsoft.DPrep.SetColumnTypesBlock\\\\\\\\\\\\\\\", \\\\\\\\\\\\\\\"arguments\\\\\\\\\\\\\\\": {\\\\\\\\\\\\\\\"columnConversion\\\\\\\\\\\\\\\": [{\\\\\\\\\\\\\\\"column\\\\\\\\\\\\\\\": {\\\\\\\\\\\\\\\"type\\\\\\\\\\\\\\\": 2, \\\\\\\\\\\\\\\"details\\\\\\\\\\\\\\\": {\\\\\\\\\\\\\\\"selectedColumn\\\\\\\\\\\\\\\": \\\\\\\\\\\\\\\"age\\\\\\\\\\\\\\\"}}, \\\\\\\\\\\\\\\"typeProperty\\\\\\\\\\\\\\\": 3}, {\\\\\\\\\\\\\\\"column\\\\\\\\\\\\\\\": {\\\\\\\\\\\\\\\"type\\\\\\\\\\\\\\\": 2, \\\\\\\\\\\\\\\"details\\\\\\\\\\\\\\\": {\\\\\\\\\\\\\\\"selectedColumn\\\\\\\\\\\\\\\": \\\\\\\\\\\\\\\"anaemia\\\\\\\\\\\\\\\"}}, \\\\\\\\\\\\\\\"typeProperty\\\\\\\\\\\\\\\": 2}, {\\\\\\\\\\\\\\\"column\\\\\\\\\\\\\\\": {\\\\\\\\\\\\\\\"type\\\\\\\\\\\\\\\": 2, \\\\\\\\\\\\\\\"details\\\\\\\\\\\\\\\": {\\\\\\\\\\\\\\\"selectedColumn\\\\\\\\\\\\\\\": \\\\\\\\\\\\\\\"creatinine_phosphokinase\\\\\\\\\\\\\\\"}}, \\\\\\\\\\\\\\\"typeProperty\\\\\\\\\\\\\\\": 2}, {\\\\\\\\\\\\\\\"column\\\\\\\\\\\\\\\": {\\\\\\\\\\\\\\\"type\\\\\\\\\\\\\\\": 2, \\\\\\\\\\\\\\\"details\\\\\\\\\\\\\\\": {\\\\\\\\\\\\\\\"selectedColumn\\\\\\\\\\\\\\\": \\\\\\\\\\\\\\\"diabetes\\\\\\\\\\\\\\\"}}, \\\\\\\\\\\\\\\"typeProperty\\\\\\\\\\\\\\\": 2}, {\\\\\\\\\\\\\\\"column\\\\\\\\\\\\\\\": {\\\\\\\\\\\\\\\"type\\\\\\\\\\\\\\\": 2, \\\\\\\\\\\\\\\"details\\\\\\\\\\\\\\\": {\\\\\\\\\\\\\\\"selectedColumn\\\\\\\\\\\\\\\": \\\\\\\\\\\\\\\"ejection_fraction\\\\\\\\\\\\\\\"}}, \\\\\\\\\\\\\\\"typeProperty\\\\\\\\\\\\\\\": 2}, {\\\\\\\\\\\\\\\"column\\\\\\\\\\\\\\\": {\\\\\\\\\\\\\\\"type\\\\\\\\\\\\\\\": 2, \\\\\\\\\\\\\\\"details\\\\\\\\\\\\\\\": {\\\\\\\\\\\\\\\"selectedColumn\\\\\\\\\\\\\\\": \\\\\\\\\\\\\\\"high_blood_pressure\\\\\\\\\\\\\\\"}}, \\\\\\\\\\\\\\\"typeProperty\\\\\\\\\\\\\\\": 2}, {\\\\\\\\\\\\\\\"column\\\\\\\\\\\\\\\": {\\\\\\\\\\\\\\\"type\\\\\\\\\\\\\\\": 2, \\\\\\\\\\\\\\\"details\\\\\\\\\\\\\\\": {\\\\\\\\\\\\\\\"selectedColumn\\\\\\\\\\\\\\\": \\\\\\\\\\\\\\\"platelets\\\\\\\\\\\\\\\"}}, \\\\\\\\\\\\\\\"typeProperty\\\\\\\\\\\\\\\": 3}, {\\\\\\\\\\\\\\\"column\\\\\\\\\\\\\\\": {\\\\\\\\\\\\\\\"type\\\\\\\\\\\\\\\": 2, \\\\\\\\\\\\\\\"details\\\\\\\\\\\\\\\": {\\\\\\\\\\\\\\\"selectedColumn\\\\\\\\\\\\\\\": \\\\\\\\\\\\\\\"serum_creatinine\\\\\\\\\\\\\\\"}}, \\\\\\\\\\\\\\\"typeProperty\\\\\\\\\\\\\\\": 3}, {\\\\\\\\\\\\\\\"column\\\\\\\\\\\\\\\": {\\\\\\\\\\\\\\\"type\\\\\\\\\\\\\\\": 2, \\\\\\\\\\\\\\\"details\\\\\\\\\\\\\\\": {\\\\\\\\\\\\\\\"selectedColumn\\\\\\\\\\\\\\\": \\\\\\\\\\\\\\\"serum_sodium\\\\\\\\\\\\\\\"}}, \\\\\\\\\\\\\\\"typeProperty\\\\\\\\\\\\\\\": 2}, {\\\\\\\\\\\\\\\"column\\\\\\\\\\\\\\\": {\\\\\\\\\\\\\\\"type\\\\\\\\\\\\\\\": 2, \\\\\\\\\\\\\\\"details\\\\\\\\\\\\\\\": {\\\\\\\\\\\\\\\"selectedColumn\\\\\\\\\\\\\\\": \\\\\\\\\\\\\\\"sex\\\\\\\\\\\\\\\"}}, \\\\\\\\\\\\\\\"typeProperty\\\\\\\\\\\\\\\": 2}, {\\\\\\\\\\\\\\\"column\\\\\\\\\\\\\\\": {\\\\\\\\\\\\\\\"type\\\\\\\\\\\\\\\": 2, \\\\\\\\\\\\\\\"details\\\\\\\\\\\\\\\": {\\\\\\\\\\\\\\\"selectedColumn\\\\\\\\\\\\\\\": \\\\\\\\\\\\\\\"smoking\\\\\\\\\\\\\\\"}}, \\\\\\\\\\\\\\\"typeProperty\\\\\\\\\\\\\\\": 2}, {\\\\\\\\\\\\\\\"column\\\\\\\\\\\\\\\": {\\\\\\\\\\\\\\\"type\\\\\\\\\\\\\\\": 2, \\\\\\\\\\\\\\\"details\\\\\\\\\\\\\\\": {\\\\\\\\\\\\\\\"selectedColumn\\\\\\\\\\\\\\\": \\\\\\\\\\\\\\\"time\\\\\\\\\\\\\\\"}}, \\\\\\\\\\\\\\\"typeProperty\\\\\\\\\\\\\\\": 2}, {\\\\\\\\\\\\\\\"column\\\\\\\\\\\\\\\": {\\\\\\\\\\\\\\\"type\\\\\\\\\\\\\\\": 2, \\\\\\\\\\\\\\\"details\\\\\\\\\\\\\\\": {\\\\\\\\\\\\\\\"selectedColumn\\\\\\\\\\\\\\\": \\\\\\\\\\\\\\\"DEATH_EVENT\\\\\\\\\\\\\\\"}}, \\\\\\\\\\\\\\\"typeProperty\\\\\\\\\\\\\\\": 2}]}, \\\\\\\\\\\\\\\"localData\\\\\\\\\\\\\\\": {}, \\\\\\\\\\\\\\\"isEnabled\\\\\\\\\\\\\\\": true, \\\\\\\\\\\\\\\"name\\\\\\\\\\\\\\\": null, \\\\\\\\\\\\\\\"annotation\\\\\\\\\\\\\\\": null}], \\\\\\\\\\\\\\\"inspectors\\\\\\\\\\\\\\\": [], \\\\\\\\\\\\\\\"meta\\\\\\\\\\\\\\\": {\\\\\\\\\\\\\\\"savedDatasetId\\\\\\\\\\\\\\\": \\\\\\\\\\\\\\\"ec0f52d2-afdb-473b-ba34-9584abd0afd0\\\\\\\\\\\\\\\", \\\\\\\\\\\\\\\"datasetType\\\\\\\\\\\\\\\": \\\\\\\\\\\\\\\"tabular\\\\\\\\\\\\\\\", \\\\\\\\\\\\\\\"subscriptionId\\\\\\\\\\\\\\\": \\\\\\\\\\\\\\\"3e42d11f-d64d-4173-af9b-12ecaa1030b3\\\\\\\\\\\\\\\", \\\\\\\\\\\\\\\"workspaceId\\\\\\\\\\\\\\\": \\\\\\\\\\\\\\\"0b06a065-bdad-4314-9eb0-7dc4cec5ee3b\\\\\\\\\\\\\\\", \\\\\\\\\\\\\\\"workspaceLocation\\\\\\\\\\\\\\\": \\\\\\\\\\\\\\\"southcentralus\\\\\\\\\\\\\\\"}}\\\\\\\", \\\\\\\"activities\\\\\\\": 0}\", \"EnableSubsampling\": null, \"runTemplate\": \"AutoML\", \"azureml.runsource\": \"automl\", \"display_task_type\": \"classification\", \"dependencies_versions\": \"{\\\"azureml-widgets\\\": \\\"1.20.0\\\", \\\"azureml-train\\\": \\\"1.20.0\\\", \\\"azureml-train-restclients-hyperdrive\\\": \\\"1.20.0\\\", \\\"azureml-train-core\\\": \\\"1.20.0\\\", \\\"azureml-train-automl\\\": \\\"1.20.0\\\", \\\"azureml-train-automl-runtime\\\": \\\"1.20.0\\\", \\\"azureml-train-automl-client\\\": \\\"1.20.0\\\", \\\"azureml-tensorboard\\\": \\\"1.20.0\\\", \\\"azureml-telemetry\\\": \\\"1.20.0\\\", \\\"azureml-sdk\\\": \\\"1.20.0\\\", \\\"azureml-samples\\\": \\\"0+unknown\\\", \\\"azureml-pipeline\\\": \\\"1.20.0\\\", \\\"azureml-pipeline-steps\\\": \\\"1.20.0\\\", \\\"azureml-pipeline-core\\\": \\\"1.20.0\\\", \\\"azureml-opendatasets\\\": \\\"1.20.0\\\", \\\"azureml-model-management-sdk\\\": \\\"1.0.1b6.post1\\\", \\\"azureml-mlflow\\\": \\\"1.20.0.post1\\\", \\\"azureml-interpret\\\": \\\"1.20.0\\\", \\\"azureml-explain-model\\\": \\\"1.20.0\\\", \\\"azureml-defaults\\\": \\\"1.20.0\\\", \\\"azureml-dataset-runtime\\\": \\\"1.20.0\\\", \\\"azureml-dataprep\\\": \\\"2.7.3\\\", \\\"azureml-dataprep-rslex\\\": \\\"1.5.0\\\", \\\"azureml-dataprep-native\\\": \\\"27.0.0\\\", \\\"azureml-datadrift\\\": \\\"1.20.0\\\", \\\"azureml-core\\\": \\\"1.20.0\\\", \\\"azureml-contrib-services\\\": \\\"1.20.0\\\", \\\"azureml-contrib-server\\\": \\\"1.20.0\\\", \\\"azureml-contrib-reinforcementlearning\\\": \\\"1.20.0\\\", \\\"azureml-contrib-pipeline-steps\\\": \\\"1.20.0\\\", \\\"azureml-contrib-notebook\\\": \\\"1.20.0\\\", \\\"azureml-contrib-interpret\\\": \\\"1.20.0\\\", \\\"azureml-contrib-gbdt\\\": \\\"1.20.0\\\", \\\"azureml-contrib-fairness\\\": \\\"1.20.0\\\", \\\"azureml-contrib-dataset\\\": \\\"1.20.0\\\", \\\"azureml-cli-common\\\": \\\"1.20.0\\\", \\\"azureml-automl-runtime\\\": \\\"1.20.0\\\", \\\"azureml-automl-core\\\": \\\"1.20.0\\\", \\\"azureml-accel-models\\\": \\\"1.20.0\\\"}\", \"_aml_system_scenario_identification\": \"Remote.Parent\", \"ClientType\": \"SDK\", \"environment_cpu_name\": \"AzureML-AutoML\", \"environment_cpu_label\": \"prod\", \"environment_gpu_name\": \"AzureML-AutoML-GPU\", \"environment_gpu_label\": \"prod\", \"root_attribution\": \"automl\", \"attribution\": \"AutoML\", \"Orchestrator\": \"AutoML\", \"CancelUri\": \"https://southcentralus.experiments.azureml.net/jasmine/v1.0/subscriptions/3e42d11f-d64d-4173-af9b-12ecaa1030b3/resourceGroups/aml-quickstarts-138790/providers/Microsoft.MachineLearningServices/workspaces/quick-starts-ws-138790/experimentids/4d975238-9677-43eb-8a98-a0b9cb8cebd4/cancel/AutoML_6d8e5bd6-d09f-4cfd-8a1d-546aca1d9943\", \"ClientSdkVersion\": \"1.21.0\", \"snapshotId\": \"00000000-0000-0000-0000-000000000000\", \"SetupRunId\": \"AutoML_6d8e5bd6-d09f-4cfd-8a1d-546aca1d9943_setup\", \"SetupRunContainerId\": \"dcid.AutoML_6d8e5bd6-d09f-4cfd-8a1d-546aca1d9943_setup\", \"FeaturizationRunJsonPath\": \"featurizer_container.json\", \"FeaturizationRunId\": \"AutoML_6d8e5bd6-d09f-4cfd-8a1d-546aca1d9943_featurize\", \"ProblemInfoJsonString\": \"{\\\"dataset_num_categorical\\\": 0, \\\"is_sparse\\\": false, \\\"subsampling\\\": false, \\\"dataset_classes\\\": 2, \\\"dataset_features\\\": 12, \\\"dataset_samples\\\": 299, \\\"single_frequency_class_detected\\\": false}\", \"ModelExplainRunId\": \"AutoML_6d8e5bd6-d09f-4cfd-8a1d-546aca1d9943_ModelExplain\"}, \"tags\": {\"model_explain_run\": \"best_run\", \"_aml_system_azureml.automlComponent\": \"AutoML\", \"pipeline_id\": \"\", \"score\": \"\", \"predicted_cost\": \"\", \"fit_time\": \"\", \"training_percent\": \"\", \"iteration\": \"\", \"run_preprocessor\": \"\", \"run_algorithm\": \"\", \"dynamic_whitelisting_iterations\": \"<25>;<30>;<35>;<40>;\", \"automl_best_child_run_id\": \"AutoML_6d8e5bd6-d09f-4cfd-8a1d-546aca1d9943_41\"}, \"end_time_utc\": \"2021-02-13T14:36:21.684266Z\", \"status\": \"Completed\", \"log_files\": {}, \"log_groups\": [], \"run_duration\": \"0:26:01\"}, \"child_runs\": [{\"run_id\": \"AutoML_6d8e5bd6-d09f-4cfd-8a1d-546aca1d9943_0\", \"run_number\": 9, \"metric\": null, \"status\": \"Completed\", \"run_type\": \"azureml.scriptrun\", \"training_percent\": \"100\", \"start_time\": \"2021-02-13T14:22:10.603663Z\", \"end_time\": \"2021-02-13T14:25:30.643903Z\", \"created_time\": \"2021-02-13T14:19:42.270319Z\", \"created_time_dt\": \"2021-02-13T14:19:42.270319Z\", \"duration\": \"0:05:48\", \"iteration\": \"0\", \"goal\": \"accuracy_max\", \"run_name\": \"MaxAbsScaler, LightGBM\", \"run_properties\": \"copy=True\", \"primary_metric\": 0.83597701, \"best_metric\": 0.83597701}, {\"run_id\": \"AutoML_6d8e5bd6-d09f-4cfd-8a1d-546aca1d9943_2\", \"run_number\": 10, \"metric\": null, \"status\": \"Completed\", \"run_type\": \"azureml.scriptrun\", \"training_percent\": \"100\", \"start_time\": \"2021-02-13T14:21:49.800403Z\", \"end_time\": \"2021-02-13T14:22:41.787192Z\", \"created_time\": \"2021-02-13T14:19:42.357865Z\", \"created_time_dt\": \"2021-02-13T14:19:42.357865Z\", \"duration\": \"0:02:59\", \"iteration\": \"2\", \"goal\": \"accuracy_max\", \"run_name\": \"MinMaxScaler, RandomForest\", \"run_properties\": \"copy=True, feature_range=(0, 1\", \"primary_metric\": 0.82609195, \"best_metric\": 0.83597701}, {\"run_id\": \"AutoML_6d8e5bd6-d09f-4cfd-8a1d-546aca1d9943_4\", \"run_number\": 11, \"metric\": null, \"status\": \"Completed\", \"run_type\": \"azureml.scriptrun\", \"training_percent\": \"100\", \"start_time\": \"2021-02-13T14:20:51.016008Z\", \"end_time\": \"2021-02-13T14:21:46.131955Z\", \"created_time\": \"2021-02-13T14:19:42.388622Z\", \"created_time_dt\": \"2021-02-13T14:19:42.388622Z\", \"duration\": \"0:02:03\", \"iteration\": \"4\", \"goal\": \"accuracy_max\", \"run_name\": \"MinMaxScaler, RandomForest\", \"run_properties\": \"copy=True, feature_range=(0, 1\", \"primary_metric\": 0.81896552, \"best_metric\": 0.84264368}, {\"run_id\": \"AutoML_6d8e5bd6-d09f-4cfd-8a1d-546aca1d9943_1\", \"run_number\": 12, \"metric\": null, \"status\": \"Completed\", \"run_type\": \"azureml.scriptrun\", \"training_percent\": \"100\", \"start_time\": \"2021-02-13T14:22:15.363314Z\", \"end_time\": \"2021-02-13T14:25:53.812856Z\", \"created_time\": \"2021-02-13T14:19:42.431699Z\", \"created_time_dt\": \"2021-02-13T14:19:42.431699Z\", \"duration\": \"0:06:11\", \"iteration\": \"1\", \"goal\": \"accuracy_max\", \"run_name\": \"MaxAbsScaler, XGBoostClassifier\", \"run_properties\": \"copy=True\", \"primary_metric\": 0.83586207, \"best_metric\": 0.83597701}, {\"run_id\": \"AutoML_6d8e5bd6-d09f-4cfd-8a1d-546aca1d9943_3\", \"run_number\": 13, \"metric\": null, \"status\": \"Completed\", \"run_type\": \"azureml.scriptrun\", \"training_percent\": \"100\", \"start_time\": \"2021-02-13T14:19:53.131818Z\", \"end_time\": \"2021-02-13T14:20:42.104603Z\", \"created_time\": \"2021-02-13T14:19:42.530876Z\", \"created_time_dt\": \"2021-02-13T14:19:42.530876Z\", \"duration\": \"0:00:59\", \"iteration\": \"3\", \"goal\": \"accuracy_max\", \"run_name\": \"MinMaxScaler, RandomForest\", \"run_properties\": \"copy=True, feature_range=(0, 1\", \"primary_metric\": 0.84264368, \"best_metric\": 0.84264368}, {\"run_id\": \"AutoML_6d8e5bd6-d09f-4cfd-8a1d-546aca1d9943_5\", \"run_number\": 14, \"metric\": null, \"status\": \"Completed\", \"run_type\": \"azureml.scriptrun\", \"training_percent\": \"100\", \"start_time\": \"2021-02-13T14:22:12.60133Z\", \"end_time\": \"2021-02-13T14:25:32.001176Z\", \"created_time\": \"2021-02-13T14:20:45.916775Z\", \"created_time_dt\": \"2021-02-13T14:20:45.916775Z\", \"duration\": \"0:04:46\", \"iteration\": \"5\", \"goal\": \"accuracy_max\", \"run_name\": \"StandardScalerWrapper, XGBoostClassifier\", \"run_properties\": \"<azureml.automl.runtime.shared.model_wrappers.StandardScalerWrapper object at 0x7f1c094d6eb8\", \"primary_metric\": 0.82931034, \"best_metric\": 0.84264368}, {\"run_id\": \"AutoML_6d8e5bd6-d09f-4cfd-8a1d-546aca1d9943_6\", \"run_number\": 15, \"metric\": null, \"status\": \"Completed\", \"run_type\": \"azureml.scriptrun\", \"training_percent\": \"100\", \"start_time\": \"2021-02-13T14:22:45.146341Z\", \"end_time\": \"2021-02-13T14:23:41.015972Z\", \"created_time\": \"2021-02-13T14:21:48.628877Z\", \"created_time_dt\": \"2021-02-13T14:21:48.628877Z\", \"duration\": \"0:01:52\", \"iteration\": \"6\", \"goal\": \"accuracy_max\", \"run_name\": \"MinMaxScaler, SVM\", \"run_properties\": \"copy=True, feature_range=(0, 1\", \"primary_metric\": 0.72597701, \"best_metric\": 0.84264368}, {\"run_id\": \"AutoML_6d8e5bd6-d09f-4cfd-8a1d-546aca1d9943_7\", \"run_number\": 16, \"metric\": null, \"status\": \"Completed\", \"run_type\": \"azureml.scriptrun\", \"training_percent\": \"100\", \"start_time\": \"2021-02-13T14:23:46.796634Z\", \"end_time\": \"2021-02-13T14:24:45.447457Z\", \"created_time\": \"2021-02-13T14:22:44.185278Z\", \"created_time_dt\": \"2021-02-13T14:22:44.185278Z\", \"duration\": \"0:02:01\", \"iteration\": \"7\", \"goal\": \"accuracy_max\", \"run_name\": \"SparseNormalizer, XGBoostClassifier\", \"run_properties\": \"<azureml.automl.runtime.shared.model_wrappers.SparseNormalizer object at 0x7fe714b16860\", \"primary_metric\": 0.82287356, \"best_metric\": 0.84264368}, {\"run_id\": \"AutoML_6d8e5bd6-d09f-4cfd-8a1d-546aca1d9943_8\", \"run_number\": 17, \"metric\": null, \"status\": \"Completed\", \"run_type\": \"azureml.scriptrun\", \"training_percent\": \"100\", \"start_time\": \"2021-02-13T14:24:46.105233Z\", \"end_time\": \"2021-02-13T14:25:43.215727Z\", \"created_time\": \"2021-02-13T14:23:44.319905Z\", \"created_time_dt\": \"2021-02-13T14:23:44.319905Z\", \"duration\": \"0:01:58\", \"iteration\": \"8\", \"goal\": \"accuracy_max\", \"run_name\": \"MaxAbsScaler, GradientBoosting\", \"run_properties\": \"copy=True\", \"primary_metric\": 0.83586207, \"best_metric\": 0.84264368}, {\"run_id\": \"AutoML_6d8e5bd6-d09f-4cfd-8a1d-546aca1d9943_9\", \"run_number\": 18, \"metric\": null, \"status\": \"Completed\", \"run_type\": \"azureml.scriptrun\", \"training_percent\": \"100\", \"start_time\": \"2021-02-13T14:25:31.863519Z\", \"end_time\": \"2021-02-13T14:26:38.287385Z\", \"created_time\": \"2021-02-13T14:24:49.040604Z\", \"created_time_dt\": \"2021-02-13T14:24:49.040604Z\", \"duration\": \"0:01:49\", \"iteration\": \"9\", \"goal\": \"accuracy_max\", \"run_name\": \"SparseNormalizer, LightGBM\", \"run_properties\": \"<azureml.automl.runtime.shared.model_wrappers.SparseNormalizer object at 0x7f8f0d486358\", \"primary_metric\": 0.83287356, \"best_metric\": 0.84264368}, {\"run_id\": \"AutoML_6d8e5bd6-d09f-4cfd-8a1d-546aca1d9943_10\", \"run_number\": 19, \"metric\": null, \"status\": \"Completed\", \"run_type\": \"azureml.scriptrun\", \"training_percent\": \"100\", \"start_time\": \"2021-02-13T14:25:44.968509Z\", \"end_time\": \"2021-02-13T14:26:39.743266Z\", \"created_time\": \"2021-02-13T14:25:32.866029Z\", \"created_time_dt\": \"2021-02-13T14:25:32.866029Z\", \"duration\": \"0:01:06\", \"iteration\": \"10\", \"goal\": \"accuracy_max\", \"run_name\": \"StandardScalerWrapper, RandomForest\", \"run_properties\": \"<azureml.automl.runtime.shared.model_wrappers.StandardScalerWrapper object at 0x7f20ec078978\", \"primary_metric\": 0.82931034, \"best_metric\": 0.84264368}, {\"run_id\": \"AutoML_6d8e5bd6-d09f-4cfd-8a1d-546aca1d9943_11\", \"run_number\": 20, \"metric\": null, \"status\": \"Completed\", \"run_type\": \"azureml.scriptrun\", \"training_percent\": \"100\", \"start_time\": \"2021-02-13T14:25:50.129392Z\", \"end_time\": \"2021-02-13T14:26:48.156742Z\", \"created_time\": \"2021-02-13T14:25:37.763707Z\", \"created_time_dt\": \"2021-02-13T14:25:37.763707Z\", \"duration\": \"0:01:10\", \"iteration\": \"11\", \"goal\": \"accuracy_max\", \"run_name\": \"MaxAbsScaler, ExtremeRandomTrees\", \"run_properties\": \"copy=True\", \"primary_metric\": 0.8462069, \"best_metric\": 0.8462069}, {\"run_id\": \"AutoML_6d8e5bd6-d09f-4cfd-8a1d-546aca1d9943_12\", \"run_number\": 21, \"metric\": null, \"status\": \"Completed\", \"run_type\": \"azureml.scriptrun\", \"training_percent\": \"100\", \"start_time\": \"2021-02-13T14:25:57.32251Z\", \"end_time\": \"2021-02-13T14:26:55.972701Z\", \"created_time\": \"2021-02-13T14:25:45.573694Z\", \"created_time_dt\": \"2021-02-13T14:25:45.573694Z\", \"duration\": \"0:01:10\", \"iteration\": \"12\", \"goal\": \"accuracy_max\", \"run_name\": \"SparseNormalizer, XGBoostClassifier\", \"run_properties\": \"<azureml.automl.runtime.shared.model_wrappers.SparseNormalizer object at 0x7f410eb6b400\", \"primary_metric\": 0.84954023, \"best_metric\": 0.84954023}, {\"run_id\": \"AutoML_6d8e5bd6-d09f-4cfd-8a1d-546aca1d9943_13\", \"run_number\": 22, \"metric\": null, \"status\": \"Completed\", \"run_type\": \"azureml.scriptrun\", \"training_percent\": \"100\", \"start_time\": \"2021-02-13T14:26:43.868943Z\", \"end_time\": \"2021-02-13T14:27:45.097285Z\", \"created_time\": \"2021-02-13T14:25:56.600257Z\", \"created_time_dt\": \"2021-02-13T14:25:56.600257Z\", \"duration\": \"0:01:48\", \"iteration\": \"13\", \"goal\": \"accuracy_max\", \"run_name\": \"RobustScaler, LightGBM\", \"run_properties\": \"copy=True, quantile_range=[10, 90], with_centering=True,\\n             with_scaling=False\", \"primary_metric\": 0.77942529, \"best_metric\": 0.84954023}, {\"run_id\": \"AutoML_6d8e5bd6-d09f-4cfd-8a1d-546aca1d9943_14\", \"run_number\": 23, \"metric\": null, \"status\": \"Completed\", \"run_type\": \"azureml.scriptrun\", \"training_percent\": \"100\", \"start_time\": \"2021-02-13T14:26:53.092421Z\", \"end_time\": \"2021-02-13T14:27:49.256725Z\", \"created_time\": \"2021-02-13T14:26:41.058842Z\", \"created_time_dt\": \"2021-02-13T14:26:41.058842Z\", \"duration\": \"0:01:08\", \"iteration\": \"14\", \"goal\": \"accuracy_max\", \"run_name\": \"MinMaxScaler, LightGBM\", \"run_properties\": \"copy=True, feature_range=(0, 1\", \"primary_metric\": 0.82609195, \"best_metric\": 0.84954023}, {\"run_id\": \"AutoML_6d8e5bd6-d09f-4cfd-8a1d-546aca1d9943_15\", \"run_number\": 24, \"metric\": null, \"status\": \"Completed\", \"run_type\": \"azureml.scriptrun\", \"training_percent\": \"100\", \"start_time\": \"2021-02-13T14:26:59.44483Z\", \"end_time\": \"2021-02-13T14:27:47.488265Z\", \"created_time\": \"2021-02-13T14:26:47.312799Z\", \"created_time_dt\": \"2021-02-13T14:26:47.312799Z\", \"duration\": \"0:01:00\", \"iteration\": \"15\", \"goal\": \"accuracy_max\", \"run_name\": \"StandardScalerWrapper, LightGBM\", \"run_properties\": \"<azureml.automl.runtime.shared.model_wrappers.StandardScalerWrapper object at 0x7f15fc5959e8\", \"primary_metric\": 0.82264368, \"best_metric\": 0.84954023}, {\"run_id\": \"AutoML_6d8e5bd6-d09f-4cfd-8a1d-546aca1d9943_16\", \"run_number\": 25, \"metric\": null, \"status\": \"Completed\", \"run_type\": \"azureml.scriptrun\", \"training_percent\": \"100\", \"start_time\": \"2021-02-13T14:27:06.439055Z\", \"end_time\": \"2021-02-13T14:27:56.668667Z\", \"created_time\": \"2021-02-13T14:26:53.364743Z\", \"created_time_dt\": \"2021-02-13T14:26:53.364743Z\", \"duration\": \"0:01:03\", \"iteration\": \"16\", \"goal\": \"accuracy_max\", \"run_name\": \"MaxAbsScaler, LightGBM\", \"run_properties\": \"copy=True\", \"primary_metric\": 0.81597701, \"best_metric\": 0.84954023}, {\"run_id\": \"AutoML_6d8e5bd6-d09f-4cfd-8a1d-546aca1d9943_17\", \"run_number\": 26, \"metric\": null, \"status\": \"Completed\", \"run_type\": \"azureml.scriptrun\", \"training_percent\": \"100\", \"start_time\": \"2021-02-13T14:27:48.755476Z\", \"end_time\": \"2021-02-13T14:28:42.111668Z\", \"created_time\": \"2021-02-13T14:27:01.184635Z\", \"created_time_dt\": \"2021-02-13T14:27:01.184635Z\", \"duration\": \"0:01:40\", \"iteration\": \"17\", \"goal\": \"accuracy_max\", \"run_name\": \"RobustScaler, ExtremeRandomTrees\", \"run_properties\": \"copy=True, quantile_range=[25, 75], with_centering=True,\\n             with_scaling=False\", \"primary_metric\": 0.84942529, \"best_metric\": 0.84954023}, {\"run_id\": \"AutoML_6d8e5bd6-d09f-4cfd-8a1d-546aca1d9943_18\", \"run_number\": 27, \"metric\": null, \"status\": \"Completed\", \"run_type\": \"azureml.scriptrun\", \"training_percent\": \"100\", \"start_time\": \"2021-02-13T14:27:58.472318Z\", \"end_time\": \"2021-02-13T14:28:48.172572Z\", \"created_time\": \"2021-02-13T14:27:47.516088Z\", \"created_time_dt\": \"2021-02-13T14:27:47.516088Z\", \"duration\": \"0:01:00\", \"iteration\": \"18\", \"goal\": \"accuracy_max\", \"run_name\": \"RobustScaler, LightGBM\", \"run_properties\": \"copy=True, quantile_range=[25, 75], with_centering=False,\\n             with_scaling=False\", \"primary_metric\": 0.84252874, \"best_metric\": 0.84954023}, {\"run_id\": \"AutoML_6d8e5bd6-d09f-4cfd-8a1d-546aca1d9943_19\", \"run_number\": 28, \"metric\": null, \"status\": \"Completed\", \"run_type\": \"azureml.scriptrun\", \"training_percent\": \"100\", \"start_time\": \"2021-02-13T14:28:03.639751Z\", \"end_time\": \"2021-02-13T14:28:54.186712Z\", \"created_time\": \"2021-02-13T14:27:51.855109Z\", \"created_time_dt\": \"2021-02-13T14:27:51.855109Z\", \"duration\": \"0:01:02\", \"iteration\": \"19\", \"goal\": \"accuracy_max\", \"run_name\": \"StandardScalerWrapper, LightGBM\", \"run_properties\": \"<azureml.automl.runtime.shared.model_wrappers.StandardScalerWrapper object at 0x7fefca3b4b70\", \"primary_metric\": 0.83264368, \"best_metric\": 0.84954023}, {\"run_id\": \"AutoML_6d8e5bd6-d09f-4cfd-8a1d-546aca1d9943_20\", \"run_number\": 29, \"metric\": null, \"status\": \"Completed\", \"run_type\": \"azureml.scriptrun\", \"training_percent\": \"100\", \"start_time\": \"2021-02-13T14:28:04.264434Z\", \"end_time\": \"2021-02-13T14:29:09.278035Z\", \"created_time\": \"2021-02-13T14:27:52.000584Z\", \"created_time_dt\": \"2021-02-13T14:27:52.000584Z\", \"duration\": \"0:01:17\", \"iteration\": \"20\", \"goal\": \"accuracy_max\", \"run_name\": \"StandardScalerWrapper, LightGBM\", \"run_properties\": \"<azureml.automl.runtime.shared.model_wrappers.StandardScalerWrapper object at 0x7fd345722400\", \"primary_metric\": 0.7391954, \"best_metric\": 0.84954023}, {\"run_id\": \"AutoML_6d8e5bd6-d09f-4cfd-8a1d-546aca1d9943_21\", \"run_number\": 30, \"metric\": null, \"status\": \"Completed\", \"run_type\": \"azureml.scriptrun\", \"training_percent\": \"100\", \"start_time\": \"2021-02-13T14:28:45.193493Z\", \"end_time\": \"2021-02-13T14:29:42.723988Z\", \"created_time\": \"2021-02-13T14:27:58.94122Z\", \"created_time_dt\": \"2021-02-13T14:27:58.94122Z\", \"duration\": \"0:01:43\", \"iteration\": \"21\", \"goal\": \"accuracy_max\", \"run_name\": \"MaxAbsScaler, LightGBM\", \"run_properties\": \"copy=True\", \"primary_metric\": 0.83597701, \"best_metric\": 0.84954023}, {\"run_id\": \"AutoML_6d8e5bd6-d09f-4cfd-8a1d-546aca1d9943_22\", \"run_number\": 31, \"metric\": null, \"status\": \"Completed\", \"run_type\": \"azureml.scriptrun\", \"training_percent\": \"100\", \"start_time\": \"2021-02-13T14:28:56.809201Z\", \"end_time\": \"2021-02-13T14:29:55.125816Z\", \"created_time\": \"2021-02-13T14:28:44.455985Z\", \"created_time_dt\": \"2021-02-13T14:28:44.455985Z\", \"duration\": \"0:01:10\", \"iteration\": \"22\", \"goal\": \"accuracy_max\", \"run_name\": \"StandardScalerWrapper, LightGBM\", \"run_properties\": \"<azureml.automl.runtime.shared.model_wrappers.StandardScalerWrapper object at 0x7f1849729320\", \"primary_metric\": 0.83931034, \"best_metric\": 0.84954023}, {\"run_id\": \"AutoML_6d8e5bd6-d09f-4cfd-8a1d-546aca1d9943_23\", \"run_number\": 32, \"metric\": null, \"status\": \"Completed\", \"run_type\": \"azureml.scriptrun\", \"training_percent\": \"100\", \"start_time\": \"2021-02-13T14:29:02.312534Z\", \"end_time\": \"2021-02-13T14:29:53.762298Z\", \"created_time\": \"2021-02-13T14:28:50.494635Z\", \"created_time_dt\": \"2021-02-13T14:28:50.494635Z\", \"duration\": \"0:01:03\", \"iteration\": \"23\", \"goal\": \"accuracy_max\", \"run_name\": \"MaxAbsScaler, RandomForest\", \"run_properties\": \"copy=True\", \"primary_metric\": 0.85942529, \"best_metric\": 0.85942529}, {\"run_id\": \"AutoML_6d8e5bd6-d09f-4cfd-8a1d-546aca1d9943_24\", \"run_number\": 33, \"metric\": null, \"status\": \"Completed\", \"run_type\": \"azureml.scriptrun\", \"training_percent\": \"100\", \"start_time\": \"2021-02-13T14:29:30.557806Z\", \"end_time\": \"2021-02-13T14:30:20.858478Z\", \"created_time\": \"2021-02-13T14:28:56.774189Z\", \"created_time_dt\": \"2021-02-13T14:28:56.774189Z\", \"duration\": \"0:01:24\", \"iteration\": \"24\", \"goal\": \"accuracy_max\", \"run_name\": \"SparseNormalizer, LightGBM\", \"run_properties\": \"<azureml.automl.runtime.shared.model_wrappers.SparseNormalizer object at 0x7f1e7c2c94a8\", \"primary_metric\": 0.80954023, \"best_metric\": 0.85942529}, {\"run_id\": \"AutoML_6d8e5bd6-d09f-4cfd-8a1d-546aca1d9943_25\", \"run_number\": 34, \"metric\": null, \"status\": \"Completed\", \"run_type\": \"azureml.scriptrun\", \"training_percent\": \"100\", \"start_time\": \"2021-02-13T14:29:43.471718Z\", \"end_time\": \"2021-02-13T14:30:40.849896Z\", \"created_time\": \"2021-02-13T14:29:24.179388Z\", \"created_time_dt\": \"2021-02-13T14:29:24.179388Z\", \"duration\": \"0:01:16\", \"iteration\": \"25\", \"goal\": \"accuracy_max\", \"run_name\": \"StandardScalerWrapper, XGBoostClassifier\", \"run_properties\": \"<azureml.automl.runtime.shared.model_wrappers.StandardScalerWrapper object at 0x7f56f80fc390\", \"primary_metric\": 0.6791954, \"best_metric\": 0.85942529}, {\"run_id\": \"AutoML_6d8e5bd6-d09f-4cfd-8a1d-546aca1d9943_26\", \"run_number\": 35, \"metric\": null, \"status\": \"Completed\", \"run_type\": \"azureml.scriptrun\", \"training_percent\": \"100\", \"start_time\": \"2021-02-13T14:30:02.896141Z\", \"end_time\": \"2021-02-13T14:30:57.849826Z\", \"created_time\": \"2021-02-13T14:29:45.381707Z\", \"created_time_dt\": \"2021-02-13T14:29:45.381707Z\", \"duration\": \"0:01:12\", \"iteration\": \"26\", \"goal\": \"accuracy_max\", \"run_name\": \"MaxAbsScaler, RandomForest\", \"run_properties\": \"copy=True\", \"primary_metric\": 0.81241379, \"best_metric\": 0.85942529}, {\"run_id\": \"AutoML_6d8e5bd6-d09f-4cfd-8a1d-546aca1d9943_27\", \"run_number\": 36, \"metric\": null, \"status\": \"Completed\", \"run_type\": \"azureml.scriptrun\", \"training_percent\": \"100\", \"start_time\": \"2021-02-13T14:30:05.934587Z\", \"end_time\": \"2021-02-13T14:30:56.156867Z\", \"created_time\": \"2021-02-13T14:29:56.268839Z\", \"created_time_dt\": \"2021-02-13T14:29:56.268839Z\", \"duration\": \"0:00:59\", \"iteration\": \"27\", \"goal\": \"accuracy_max\", \"run_name\": \"RobustScaler, RandomForest\", \"run_properties\": \"copy=True, quantile_range=[25, 75], with_centering=False,\\n             with_scaling=True\", \"primary_metric\": 0.7954023, \"best_metric\": 0.85942529}, {\"run_id\": \"AutoML_6d8e5bd6-d09f-4cfd-8a1d-546aca1d9943_28\", \"run_number\": 37, \"metric\": null, \"status\": \"Completed\", \"run_type\": \"azureml.scriptrun\", \"training_percent\": \"100\", \"start_time\": \"2021-02-13T14:30:21.072667Z\", \"end_time\": \"2021-02-13T14:31:19.422169Z\", \"created_time\": \"2021-02-13T14:30:00.043442Z\", \"created_time_dt\": \"2021-02-13T14:30:00.043442Z\", \"duration\": \"0:01:19\", \"iteration\": \"28\", \"goal\": \"accuracy_max\", \"run_name\": \"StandardScalerWrapper, LightGBM\", \"run_properties\": \"<azureml.automl.runtime.shared.model_wrappers.StandardScalerWrapper object at 0x7fe700ea2d68\", \"primary_metric\": 0.85252874, \"best_metric\": 0.85942529}, {\"run_id\": \"AutoML_6d8e5bd6-d09f-4cfd-8a1d-546aca1d9943_29\", \"run_number\": 38, \"metric\": null, \"status\": \"Completed\", \"run_type\": \"azureml.scriptrun\", \"training_percent\": \"100\", \"start_time\": \"2021-02-13T14:30:43.443813Z\", \"end_time\": \"2021-02-13T14:31:41.91213Z\", \"created_time\": \"2021-02-13T14:30:23.611132Z\", \"created_time_dt\": \"2021-02-13T14:30:23.611132Z\", \"duration\": \"0:01:18\", \"iteration\": \"29\", \"goal\": \"accuracy_max\", \"run_name\": \"StandardScalerWrapper, XGBoostClassifier\", \"run_properties\": \"<azureml.automl.runtime.shared.model_wrappers.StandardScalerWrapper object at 0x7fbcea7f1b00\", \"primary_metric\": 0.81954023, \"best_metric\": 0.85942529}, {\"run_id\": \"AutoML_6d8e5bd6-d09f-4cfd-8a1d-546aca1d9943_30\", \"run_number\": 39, \"metric\": null, \"status\": \"Completed\", \"run_type\": \"azureml.scriptrun\", \"training_percent\": \"100\", \"start_time\": \"2021-02-13T14:31:01.931714Z\", \"end_time\": \"2021-02-13T14:32:02.445614Z\", \"created_time\": \"2021-02-13T14:30:44.937212Z\", \"created_time_dt\": \"2021-02-13T14:30:44.937212Z\", \"duration\": \"0:01:17\", \"iteration\": \"30\", \"goal\": \"accuracy_max\", \"run_name\": \"MaxAbsScaler, RandomForest\", \"run_properties\": \"copy=True\", \"primary_metric\": 0.84264368, \"best_metric\": 0.85942529}, {\"run_id\": \"AutoML_6d8e5bd6-d09f-4cfd-8a1d-546aca1d9943_31\", \"run_number\": 40, \"metric\": null, \"status\": \"Completed\", \"run_type\": \"azureml.scriptrun\", \"training_percent\": \"100\", \"start_time\": \"2021-02-13T14:31:12.43953Z\", \"end_time\": \"2021-02-13T14:32:01.275521Z\", \"created_time\": \"2021-02-13T14:30:59.252403Z\", \"created_time_dt\": \"2021-02-13T14:30:59.252403Z\", \"duration\": \"0:01:02\", \"iteration\": \"31\", \"goal\": \"accuracy_max\", \"run_name\": \"SparseNormalizer, XGBoostClassifier\", \"run_properties\": \"<azureml.automl.runtime.shared.model_wrappers.SparseNormalizer object at 0x7f75091c91d0\", \"primary_metric\": 0.8262069, \"best_metric\": 0.85942529}, {\"run_id\": \"AutoML_6d8e5bd6-d09f-4cfd-8a1d-546aca1d9943_32\", \"run_number\": 41, \"metric\": null, \"status\": \"Completed\", \"run_type\": \"azureml.scriptrun\", \"training_percent\": \"100\", \"start_time\": \"2021-02-13T14:31:30.927735Z\", \"end_time\": \"2021-02-13T14:32:19.924347Z\", \"created_time\": \"2021-02-13T14:31:17.847252Z\", \"created_time_dt\": \"2021-02-13T14:31:17.847252Z\", \"duration\": \"0:01:02\", \"iteration\": \"32\", \"goal\": \"accuracy_max\", \"run_name\": \"SparseNormalizer, XGBoostClassifier\", \"run_properties\": \"<azureml.automl.runtime.shared.model_wrappers.SparseNormalizer object at 0x7fb5e0485da0\", \"primary_metric\": 0.82954023, \"best_metric\": 0.85942529}, {\"run_id\": \"AutoML_6d8e5bd6-d09f-4cfd-8a1d-546aca1d9943_33\", \"run_number\": 42, \"metric\": null, \"status\": \"Completed\", \"run_type\": \"azureml.scriptrun\", \"training_percent\": \"100\", \"start_time\": \"2021-02-13T14:31:44.295836Z\", \"end_time\": \"2021-02-13T14:32:36.146493Z\", \"created_time\": \"2021-02-13T14:31:23.005938Z\", \"created_time_dt\": \"2021-02-13T14:31:23.005938Z\", \"duration\": \"0:01:13\", \"iteration\": \"33\", \"goal\": \"accuracy_max\", \"run_name\": \"MinMaxScaler, LightGBM\", \"run_properties\": \"copy=True, feature_range=(0, 1\", \"primary_metric\": 0.81931034, \"best_metric\": 0.85942529}, {\"run_id\": \"AutoML_6d8e5bd6-d09f-4cfd-8a1d-546aca1d9943_34\", \"run_number\": 43, \"metric\": null, \"status\": \"Completed\", \"run_type\": \"azureml.scriptrun\", \"training_percent\": \"100\", \"start_time\": \"2021-02-13T14:32:06.945839Z\", \"end_time\": \"2021-02-13T14:33:02.410104Z\", \"created_time\": \"2021-02-13T14:31:44.429308Z\", \"created_time_dt\": \"2021-02-13T14:31:44.429308Z\", \"duration\": \"0:01:17\", \"iteration\": \"34\", \"goal\": \"accuracy_max\", \"run_name\": \"StandardScalerWrapper, XGBoostClassifier\", \"run_properties\": \"<azureml.automl.runtime.shared.model_wrappers.StandardScalerWrapper object at 0x7f04b1ae27b8\", \"primary_metric\": 0.83931034, \"best_metric\": 0.85942529}, {\"run_id\": \"AutoML_6d8e5bd6-d09f-4cfd-8a1d-546aca1d9943_35\", \"run_number\": 44, \"metric\": null, \"status\": \"Completed\", \"run_type\": \"azureml.scriptrun\", \"training_percent\": \"100\", \"start_time\": \"2021-02-13T14:32:15.106275Z\", \"end_time\": \"2021-02-13T14:33:06.295895Z\", \"created_time\": \"2021-02-13T14:32:04.365206Z\", \"created_time_dt\": \"2021-02-13T14:32:04.365206Z\", \"duration\": \"0:01:01\", \"iteration\": \"35\", \"goal\": \"accuracy_max\", \"run_name\": \"StandardScalerWrapper, RandomForest\", \"run_properties\": \"<azureml.automl.runtime.shared.model_wrappers.StandardScalerWrapper object at 0x7fa5c90e5908\", \"primary_metric\": 0.83597701, \"best_metric\": 0.85942529}, {\"run_id\": \"AutoML_6d8e5bd6-d09f-4cfd-8a1d-546aca1d9943_36\", \"run_number\": 45, \"metric\": null, \"status\": \"Completed\", \"run_type\": \"azureml.scriptrun\", \"training_percent\": \"100\", \"start_time\": \"2021-02-13T14:32:23.399253Z\", \"end_time\": \"2021-02-13T14:33:27.845155Z\", \"created_time\": \"2021-02-13T14:32:08.5047Z\", \"created_time_dt\": \"2021-02-13T14:32:08.5047Z\", \"duration\": \"0:01:19\", \"iteration\": \"36\", \"goal\": \"accuracy_max\", \"run_name\": \"StandardScalerWrapper, RandomForest\", \"run_properties\": \"<azureml.automl.runtime.shared.model_wrappers.StandardScalerWrapper object at 0x7f846f077278\", \"primary_metric\": 0.84597701, \"best_metric\": 0.85942529}, {\"run_id\": \"AutoML_6d8e5bd6-d09f-4cfd-8a1d-546aca1d9943_37\", \"run_number\": 46, \"metric\": null, \"status\": \"Canceled\", \"run_type\": \"azureml.scriptrun\", \"training_percent\": \"100\", \"start_time\": \"2021-02-13T14:32:41.983778Z\", \"end_time\": \"2021-02-13T14:33:38.340955Z\", \"created_time\": \"2021-02-13T14:32:22.866479Z\", \"created_time_dt\": \"2021-02-13T14:32:22.866479Z\", \"duration\": \"0:01:15\", \"iteration\": \"37\", \"goal\": \"accuracy_max\", \"run_name\": \"StandardScalerWrapper, XGBoostClassifier\", \"run_properties\": \"<azureml.automl.runtime.shared.model_wrappers.StandardScalerWrapper object at 0x7f63fc1aac18\", \"primary_metric\": 0.84597701, \"best_metric\": 0.85942529}, {\"run_id\": \"AutoML_6d8e5bd6-d09f-4cfd-8a1d-546aca1d9943_38\", \"run_number\": 47, \"metric\": null, \"status\": \"Canceled\", \"run_type\": \"azureml.scriptrun\", \"training_percent\": \"100\", \"start_time\": \"2021-02-13T14:33:04.899608Z\", \"end_time\": \"2021-02-13T14:33:36.478216Z\", \"created_time\": \"2021-02-13T14:32:38.707327Z\", \"created_time_dt\": \"2021-02-13T14:32:38.707327Z\", \"duration\": \"0:00:57\", \"iteration\": \"38\", \"goal\": null, \"run_name\": \"StandardScalerWrapper, RandomForest\", \"run_properties\": null}, {\"run_id\": \"AutoML_6d8e5bd6-d09f-4cfd-8a1d-546aca1d9943_39\", \"run_number\": 48, \"metric\": null, \"status\": \"Canceled\", \"run_type\": \"azureml.scriptrun\", \"training_percent\": \"100\", \"start_time\": \"2021-02-13T14:33:17.292494Z\", \"end_time\": \"2021-02-13T14:33:36.921823Z\", \"created_time\": \"2021-02-13T14:33:05.33506Z\", \"created_time_dt\": \"2021-02-13T14:33:05.33506Z\", \"duration\": \"0:00:31\", \"iteration\": \"39\", \"goal\": null, \"run_name\": \"Canceled\", \"run_properties\": null}, {\"run_id\": \"AutoML_6d8e5bd6-d09f-4cfd-8a1d-546aca1d9943_40\", \"run_number\": 49, \"metric\": null, \"status\": \"Canceled\", \"run_type\": \"azureml.scriptrun\", \"training_percent\": \"100\", \"start_time\": \"2021-02-13T14:33:29.743989Z\", \"end_time\": \"2021-02-13T14:33:37.179033Z\", \"created_time\": \"2021-02-13T14:33:10.713791Z\", \"created_time_dt\": \"2021-02-13T14:33:10.713791Z\", \"duration\": \"0:00:26\", \"iteration\": \"40\", \"goal\": null, \"run_name\": \"Canceled\", \"run_properties\": null}, {\"run_id\": \"AutoML_6d8e5bd6-d09f-4cfd-8a1d-546aca1d9943_41\", \"run_number\": 50, \"metric\": null, \"status\": \"Completed\", \"run_type\": \"azureml.scriptrun\", \"training_percent\": \"100\", \"start_time\": \"2021-02-13T14:33:52.837198Z\", \"end_time\": \"2021-02-13T14:36:07.504085Z\", \"created_time\": \"2021-02-13T14:33:39.895397Z\", \"created_time_dt\": \"2021-02-13T14:33:39.895397Z\", \"duration\": \"0:02:27\", \"iteration\": \"41\", \"goal\": \"accuracy_max\", \"run_name\": \"VotingEnsemble\", \"run_properties\": \"classification_labels=None,\\n                              estimators=[('23',\\n                                           Pipeline(memory=None,\\n                                                    steps=[('maxabsscaler',\\n                                                            MaxAbsScaler(copy=True\", \"primary_metric\": 0.87298851, \"best_metric\": 0.87298851}, {\"run_id\": \"AutoML_6d8e5bd6-d09f-4cfd-8a1d-546aca1d9943_42\", \"run_number\": 51, \"metric\": null, \"status\": \"Completed\", \"run_type\": \"azureml.scriptrun\", \"training_percent\": \"100\", \"start_time\": \"2021-02-13T14:33:51.076636Z\", \"end_time\": \"2021-02-13T14:36:07.253693Z\", \"created_time\": \"2021-02-13T14:33:40.044743Z\", \"created_time_dt\": \"2021-02-13T14:33:40.044743Z\", \"duration\": \"0:02:27\", \"iteration\": \"42\", \"goal\": \"accuracy_max\", \"run_name\": \"StackEnsemble\", \"run_properties\": \"base_learners=[('23',\\n                                        Pipeline(memory=None,\\n                                                 steps=[('maxabsscaler',\\n                                                         MaxAbsScaler(copy=True\", \"primary_metric\": 0.8662069, \"best_metric\": 0.87298851}], \"children_metrics\": {\"categories\": [0], \"series\": {\"f1_score_macro\": [{\"categories\": [\"0\", \"1\", \"2\", \"3\", \"4\", \"5\", \"6\", \"7\", \"8\", \"9\", \"10\", \"11\", \"12\", \"13\", \"14\", \"15\", \"16\", \"17\", \"18\", \"19\", \"20\", \"21\", \"22\", \"23\", \"24\", \"25\", \"26\", \"27\", \"28\", \"29\", \"30\", \"31\", \"32\", \"33\", \"34\", \"35\", \"36\", \"37\", \"41\", \"42\"], \"mode\": \"markers\", \"name\": \"f1_score_macro\", \"stepped\": false, \"type\": \"scatter\", \"data\": [0.8043314151248963, 0.8078501228997539, 0.7884141217728006, 0.8079901449014585, 0.7880338146443883, 0.7890698649808062, 0.6247173995028795, 0.7844731356932927, 0.8013486466266965, 0.7985142741080727, 0.7928092346689798, 0.8042580976736836, 0.8139218100656445, 0.6818642366891708, 0.7754192497122441, 0.7728404384842704, 0.753292833021183, 0.809456823517402, 0.809956110225244, 0.7980488084040716, 0.5798543908288544, 0.8061943484553484, 0.8012883076904815, 0.8285686570234624, 0.7467275005222922, 0.4024893878511494, 0.7895676507409941, 0.7725694940685719, 0.8234730338780667, 0.7695296688112171, 0.8046605540229012, 0.7828601505683351, 0.7788961172313575, 0.7672260266971183, 0.8026096581295047, 0.796071674161138, 0.8158323660943181, 0.8080219173843133, 0.8458404745464229, 0.8378646605588047]}, {\"categories\": [\"0\", \"1\", \"2\", \"3\", \"4\", \"5\", \"6\", \"7\", \"8\", \"9\", \"10\", \"11\", \"12\", \"13\", \"14\", \"15\", \"16\", \"17\", \"18\", \"19\", \"20\", \"21\", \"22\", \"23\", \"24\", \"25\", \"26\", \"27\", \"28\", \"29\", \"30\", \"31\", \"32\", \"33\", \"34\", \"35\", \"36\", \"37\", \"41\", \"42\"], \"mode\": \"lines\", \"name\": \"f1_score_macro_max\", \"stepped\": true, \"type\": \"scatter\", \"data\": [0.8043314151248963, 0.8078501228997539, 0.8078501228997539, 0.8079901449014585, 0.8079901449014585, 0.8079901449014585, 0.8079901449014585, 0.8079901449014585, 0.8079901449014585, 0.8079901449014585, 0.8079901449014585, 0.8079901449014585, 0.8139218100656445, 0.8139218100656445, 0.8139218100656445, 0.8139218100656445, 0.8139218100656445, 0.8139218100656445, 0.8139218100656445, 0.8139218100656445, 0.8139218100656445, 0.8139218100656445, 0.8139218100656445, 0.8285686570234624, 0.8285686570234624, 0.8285686570234624, 0.8285686570234624, 0.8285686570234624, 0.8285686570234624, 0.8285686570234624, 0.8285686570234624, 0.8285686570234624, 0.8285686570234624, 0.8285686570234624, 0.8285686570234624, 0.8285686570234624, 0.8285686570234624, 0.8285686570234624, 0.8458404745464229, 0.8458404745464229]}], \"matthews_correlation\": [{\"categories\": [\"0\", \"1\", \"2\", \"3\", \"4\", \"5\", \"6\", \"7\", \"8\", \"9\", \"10\", \"11\", \"12\", \"13\", \"14\", \"15\", \"16\", \"17\", \"18\", \"19\", \"20\", \"21\", \"22\", \"23\", \"24\", \"25\", \"26\", \"27\", \"28\", \"29\", \"30\", \"31\", \"32\", \"33\", \"34\", \"35\", \"36\", \"37\", \"41\", \"42\"], \"mode\": \"markers\", \"name\": \"matthews_correlation\", \"stepped\": false, \"type\": \"scatter\", \"data\": [0.6231314496952846, 0.6345538749068885, 0.5998409907055561, 0.6470907613469852, 0.5953852892338516, 0.6020605538803722, 0.3355249883545832, 0.5926056841761447, 0.6248785246112851, 0.6251514690683962, 0.612126269854579, 0.6503474394181177, 0.6526669490817252, 0.4788202096540526, 0.5985307000342799, 0.5839565871463948, 0.5576406829489285, 0.6541647307868467, 0.6374186591928249, 0.6173725861784394, 0.30923138770756675, 0.6313785811454357, 0.6282666583697689, 0.6751721598834433, 0.5507003027757014, 0.0, 0.6020302764969601, 0.5736155840513006, 0.6652627264285969, 0.5859889020033766, 0.632841474204037, 0.5899539090564098, 0.6024088213486583, 0.5717325261134746, 0.6284918095534159, 0.6166496738975804, 0.6470499531899233, 0.6403248657867768, 0.7210877603559134, 0.7011542882735856]}, {\"categories\": [\"0\", \"1\", \"2\", \"3\", \"4\", \"5\", \"6\", \"7\", \"8\", \"9\", \"10\", \"11\", \"12\", \"13\", \"14\", \"15\", \"16\", \"17\", \"18\", \"19\", \"20\", \"21\", \"22\", \"23\", \"24\", \"25\", \"26\", \"27\", \"28\", \"29\", \"30\", \"31\", \"32\", \"33\", \"34\", \"35\", \"36\", \"37\", \"41\", \"42\"], \"mode\": \"lines\", \"name\": \"matthews_correlation_max\", \"stepped\": true, \"type\": \"scatter\", \"data\": [0.6231314496952846, 0.6345538749068885, 0.6345538749068885, 0.6470907613469852, 0.6470907613469852, 0.6470907613469852, 0.6470907613469852, 0.6470907613469852, 0.6470907613469852, 0.6470907613469852, 0.6470907613469852, 0.6503474394181177, 0.6526669490817252, 0.6526669490817252, 0.6526669490817252, 0.6526669490817252, 0.6526669490817252, 0.6541647307868467, 0.6541647307868467, 0.6541647307868467, 0.6541647307868467, 0.6541647307868467, 0.6541647307868467, 0.6751721598834433, 0.6751721598834433, 0.6751721598834433, 0.6751721598834433, 0.6751721598834433, 0.6751721598834433, 0.6751721598834433, 0.6751721598834433, 0.6751721598834433, 0.6751721598834433, 0.6751721598834433, 0.6751721598834433, 0.6751721598834433, 0.6751721598834433, 0.6751721598834433, 0.7210877603559134, 0.7210877603559134]}], \"AUC_micro\": [{\"categories\": [\"0\", \"1\", \"2\", \"3\", \"4\", \"5\", \"6\", \"7\", \"8\", \"9\", \"10\", \"11\", \"12\", \"13\", \"14\", \"15\", \"16\", \"17\", \"18\", \"19\", \"20\", \"21\", \"22\", \"23\", \"24\", \"25\", \"26\", \"27\", \"28\", \"29\", \"30\", \"31\", \"32\", \"33\", \"34\", \"35\", \"36\", \"37\", \"41\", \"42\"], \"mode\": \"markers\", \"name\": \"AUC_micro\", \"stepped\": false, \"type\": \"scatter\", \"data\": [0.9035422116527941, 0.9042166732725592, 0.9114349319593076, 0.9188871713568503, 0.9057937640375215, 0.8983511692429648, 0.7882148236226715, 0.8925694279297133, 0.9156435460430703, 0.898694147179284, 0.9067156823886908, 0.8913335975690316, 0.9005986259743691, 0.8740743823490554, 0.8975012551195668, 0.8919398863786497, 0.876479852028009, 0.9113238208481966, 0.9064408772625182, 0.9159223147047166, 0.8572985863390145, 0.9089339410754393, 0.9027644338750165, 0.9118989298454221, 0.8784251552384728, 0.6791954022988507, 0.8986124983485269, 0.8777804201347601, 0.9133921257761923, 0.9036357510899722, 0.8679087065662572, 0.8844563350508652, 0.8828188664288543, 0.8846708944378385, 0.8984388954947814, 0.88629475492139, 0.9167644338750163, 0.911238076364117, 0.9199417360285373, 0.9188072400581317]}, {\"categories\": [\"0\", \"1\", \"2\", \"3\", \"4\", \"5\", \"6\", \"7\", \"8\", \"9\", \"10\", \"11\", \"12\", \"13\", \"14\", \"15\", \"16\", \"17\", \"18\", \"19\", \"20\", \"21\", \"22\", \"23\", \"24\", \"25\", \"26\", \"27\", \"28\", \"29\", \"30\", \"31\", \"32\", \"33\", \"34\", \"35\", \"36\", \"37\", \"41\", \"42\"], \"mode\": \"lines\", \"name\": \"AUC_micro_max\", \"stepped\": true, \"type\": \"scatter\", \"data\": [0.9035422116527941, 0.9042166732725592, 0.9114349319593076, 0.9188871713568503, 0.9188871713568503, 0.9188871713568503, 0.9188871713568503, 0.9188871713568503, 0.9188871713568503, 0.9188871713568503, 0.9188871713568503, 0.9188871713568503, 0.9188871713568503, 0.9188871713568503, 0.9188871713568503, 0.9188871713568503, 0.9188871713568503, 0.9188871713568503, 0.9188871713568503, 0.9188871713568503, 0.9188871713568503, 0.9188871713568503, 0.9188871713568503, 0.9188871713568503, 0.9188871713568503, 0.9188871713568503, 0.9188871713568503, 0.9188871713568503, 0.9188871713568503, 0.9188871713568503, 0.9188871713568503, 0.9188871713568503, 0.9188871713568503, 0.9188871713568503, 0.9188871713568503, 0.9188871713568503, 0.9188871713568503, 0.9188871713568503, 0.9199417360285373, 0.9199417360285373]}], \"norm_macro_recall\": [{\"categories\": [\"0\", \"1\", \"2\", \"3\", \"4\", \"5\", \"6\", \"7\", \"8\", \"9\", \"10\", \"11\", \"12\", \"13\", \"14\", \"15\", \"16\", \"17\", \"18\", \"19\", \"20\", \"21\", \"22\", \"23\", \"24\", \"25\", \"26\", \"27\", \"28\", \"29\", \"30\", \"31\", \"32\", \"33\", \"34\", \"35\", \"36\", \"37\", \"41\", \"42\"], \"mode\": \"markers\", \"name\": \"norm_macro_recall\", \"stepped\": false, \"type\": \"scatter\", \"data\": [0.6154165791620023, 0.626049804187676, 0.5870598160420815, 0.6040448164218187, 0.6066084356147285, 0.5728132774294101, 0.3002451847669239, 0.5700270959018099, 0.613486312124184, 0.5999207826879452, 0.5968774472412915, 0.5740131331292659, 0.6212777984156702, 0.3479403053087263, 0.5201972239558051, 0.5295872578349694, 0.4814413248206154, 0.5903010119171446, 0.6239655784718714, 0.6000259946638666, 0.21460317460317455, 0.6245059197730821, 0.5916896481982293, 0.6495938784708806, 0.4550448791610119, 0.0, 0.6362675017583485, 0.6019504839173032, 0.6574033395412113, 0.5207736402930911, 0.6029539700701028, 0.5524008142886861, 0.5135369426530754, 0.5114272745434072, 0.6119178322948345, 0.5821206367367694, 0.6336705474159707, 0.5992158748320074, 0.6712165335935358, 0.6619091742861766]}, {\"categories\": [\"0\", \"1\", \"2\", \"3\", \"4\", \"5\", \"6\", \"7\", \"8\", \"9\", \"10\", \"11\", \"12\", \"13\", \"14\", \"15\", \"16\", \"17\", \"18\", \"19\", \"20\", \"21\", \"22\", \"23\", \"24\", \"25\", \"26\", \"27\", \"28\", \"29\", \"30\", \"31\", \"32\", \"33\", \"34\", \"35\", \"36\", \"37\", \"41\", \"42\"], \"mode\": \"lines\", \"name\": \"norm_macro_recall_max\", \"stepped\": true, \"type\": \"scatter\", \"data\": [0.6154165791620023, 0.626049804187676, 0.626049804187676, 0.626049804187676, 0.626049804187676, 0.626049804187676, 0.626049804187676, 0.626049804187676, 0.626049804187676, 0.626049804187676, 0.626049804187676, 0.626049804187676, 0.626049804187676, 0.626049804187676, 0.626049804187676, 0.626049804187676, 0.626049804187676, 0.626049804187676, 0.626049804187676, 0.626049804187676, 0.626049804187676, 0.626049804187676, 0.626049804187676, 0.6495938784708806, 0.6495938784708806, 0.6495938784708806, 0.6495938784708806, 0.6495938784708806, 0.6574033395412113, 0.6574033395412113, 0.6574033395412113, 0.6574033395412113, 0.6574033395412113, 0.6574033395412113, 0.6574033395412113, 0.6574033395412113, 0.6574033395412113, 0.6574033395412113, 0.6712165335935358, 0.6712165335935358]}], \"recall_score_micro\": [{\"categories\": [\"0\", \"1\", \"2\", \"3\", \"4\", \"5\", \"6\", \"7\", \"8\", \"9\", \"10\", \"11\", \"12\", \"13\", \"14\", \"15\", \"16\", \"17\", \"18\", \"19\", \"20\", \"21\", \"22\", \"23\", \"24\", \"25\", \"26\", \"27\", \"28\", \"29\", \"30\", \"31\", \"32\", \"33\", \"34\", \"35\", \"36\", \"37\", \"41\", \"42\"], \"mode\": \"markers\", \"name\": \"recall_score_micro\", \"stepped\": false, \"type\": \"scatter\", \"data\": [0.8359770114942527, 0.8358620689655172, 0.8260919540229885, 0.8426436781609196, 0.8189655172413793, 0.8293103448275861, 0.725977011494253, 0.8228735632183908, 0.8358620689655172, 0.8328735632183909, 0.8293103448275861, 0.8462068965517242, 0.8495402298850575, 0.7794252873563219, 0.8260919540229885, 0.8226436781609194, 0.8159770114942528, 0.849425287356322, 0.8425287356321839, 0.8326436781609197, 0.7391954022988505, 0.8359770114942527, 0.8393103448275863, 0.859425287356322, 0.8095402298850575, 0.6791954022988507, 0.8124137931034483, 0.7954022988505748, 0.852528735632184, 0.8195402298850574, 0.8426436781609196, 0.8262068965517242, 0.8295402298850576, 0.8193103448275864, 0.8393103448275863, 0.8359770114942527, 0.8459770114942529, 0.8459770114942529, 0.8729885057471265, 0.8662068965517242]}, {\"categories\": [\"0\", \"1\", \"2\", \"3\", \"4\", \"5\", \"6\", \"7\", \"8\", \"9\", \"10\", \"11\", \"12\", \"13\", \"14\", \"15\", \"16\", \"17\", \"18\", \"19\", \"20\", \"21\", \"22\", \"23\", \"24\", \"25\", \"26\", \"27\", \"28\", \"29\", \"30\", \"31\", \"32\", \"33\", \"34\", \"35\", \"36\", \"37\", \"41\", \"42\"], \"mode\": \"lines\", \"name\": \"recall_score_micro_max\", \"stepped\": true, \"type\": \"scatter\", \"data\": [0.8359770114942527, 0.8359770114942527, 0.8359770114942527, 0.8426436781609196, 0.8426436781609196, 0.8426436781609196, 0.8426436781609196, 0.8426436781609196, 0.8426436781609196, 0.8426436781609196, 0.8426436781609196, 0.8462068965517242, 0.8495402298850575, 0.8495402298850575, 0.8495402298850575, 0.8495402298850575, 0.8495402298850575, 0.8495402298850575, 0.8495402298850575, 0.8495402298850575, 0.8495402298850575, 0.8495402298850575, 0.8495402298850575, 0.859425287356322, 0.859425287356322, 0.859425287356322, 0.859425287356322, 0.859425287356322, 0.859425287356322, 0.859425287356322, 0.859425287356322, 0.859425287356322, 0.859425287356322, 0.859425287356322, 0.859425287356322, 0.859425287356322, 0.859425287356322, 0.859425287356322, 0.8729885057471265, 0.8729885057471265]}], \"average_precision_score_micro\": [{\"categories\": [\"0\", \"1\", \"2\", \"3\", \"4\", \"5\", \"6\", \"7\", \"8\", \"9\", \"10\", \"11\", \"12\", \"13\", \"14\", \"15\", \"16\", \"17\", \"18\", \"19\", \"20\", \"21\", \"22\", \"23\", \"24\", \"25\", \"26\", \"27\", \"28\", \"29\", \"30\", \"31\", \"32\", \"33\", \"34\", \"35\", \"36\", \"37\", \"41\", \"42\"], \"mode\": \"markers\", \"name\": \"average_precision_score_micro\", \"stepped\": false, \"type\": \"scatter\", \"data\": [0.9020054536251629, 0.9033793522124445, 0.9108414279660485, 0.9230820746507978, 0.9076352164255151, 0.8845757558472427, 0.7815648081068758, 0.895111815566743, 0.9188070685678585, 0.9019692978998345, 0.9095966796654166, 0.8929074868922269, 0.9015291478498986, 0.8834597513438405, 0.9045880262347422, 0.8974845578120805, 0.874213726671546, 0.9147186051203307, 0.9086134097539054, 0.9173835111409099, 0.8695675396775158, 0.912037124920684, 0.907380079578538, 0.9156041431640796, 0.8800688693601451, 0.6309528339278636, 0.8990388791851167, 0.8830681641550443, 0.9174544458249295, 0.9019715624413595, 0.8459444302164568, 0.8831306137617396, 0.8767580846938035, 0.8849733691671909, 0.8950673049215215, 0.8827922721228036, 0.9187733523539132, 0.9099230667929221, 0.9237068487001725, 0.9221936578394686]}, {\"categories\": [\"0\", \"1\", \"2\", \"3\", \"4\", \"5\", \"6\", \"7\", \"8\", \"9\", \"10\", \"11\", \"12\", \"13\", \"14\", \"15\", \"16\", \"17\", \"18\", \"19\", \"20\", \"21\", \"22\", \"23\", \"24\", \"25\", \"26\", \"27\", \"28\", \"29\", \"30\", \"31\", \"32\", \"33\", \"34\", \"35\", \"36\", \"37\", \"41\", \"42\"], \"mode\": \"lines\", \"name\": \"average_precision_score_micro_max\", \"stepped\": true, \"type\": \"scatter\", \"data\": [0.9020054536251629, 0.9033793522124445, 0.9108414279660485, 0.9230820746507978, 0.9230820746507978, 0.9230820746507978, 0.9230820746507978, 0.9230820746507978, 0.9230820746507978, 0.9230820746507978, 0.9230820746507978, 0.9230820746507978, 0.9230820746507978, 0.9230820746507978, 0.9230820746507978, 0.9230820746507978, 0.9230820746507978, 0.9230820746507978, 0.9230820746507978, 0.9230820746507978, 0.9230820746507978, 0.9230820746507978, 0.9230820746507978, 0.9230820746507978, 0.9230820746507978, 0.9230820746507978, 0.9230820746507978, 0.9230820746507978, 0.9230820746507978, 0.9230820746507978, 0.9230820746507978, 0.9230820746507978, 0.9230820746507978, 0.9230820746507978, 0.9230820746507978, 0.9230820746507978, 0.9230820746507978, 0.9230820746507978, 0.9237068487001725, 0.9237068487001725]}], \"AUC_macro\": [{\"categories\": [\"0\", \"1\", \"2\", \"3\", \"4\", \"5\", \"6\", \"7\", \"8\", \"9\", \"10\", \"11\", \"12\", \"13\", \"14\", \"15\", \"16\", \"17\", \"18\", \"19\", \"20\", \"21\", \"22\", \"23\", \"24\", \"25\", \"26\", \"27\", \"28\", \"29\", \"30\", \"31\", \"32\", \"33\", \"34\", \"35\", \"36\", \"37\", \"41\", \"42\"], \"mode\": \"markers\", \"name\": \"AUC_macro\", \"stepped\": false, \"type\": \"scatter\", \"data\": [0.8840955354735103, 0.8847369443591411, 0.9084349180207877, 0.9155796746202352, 0.8970050806638907, 0.8801586577610031, 0.7472287308356531, 0.879342659940915, 0.9027066282856901, 0.8877728841757445, 0.898082367947757, 0.8839277000967505, 0.8905101635291567, 0.8894343285475437, 0.8947674802399058, 0.9041695342055182, 0.8866186786960814, 0.9000399909248309, 0.8998310874765965, 0.9024904930034792, 0.8887855695177777, 0.8900098440820982, 0.8951857931224636, 0.9045215654419316, 0.878092995609357, 0.5, 0.9017126768117043, 0.8908693194338504, 0.9047205120563815, 0.8956902993787719, 0.8478817539016624, 0.8662644202045519, 0.8701769574077927, 0.8895810211464102, 0.8890898286146856, 0.8663628249642553, 0.9019734193850899, 0.9021371592683949, 0.9138736126658322, 0.9135026671861913]}, {\"categories\": [\"0\", \"1\", \"2\", \"3\", \"4\", \"5\", \"6\", \"7\", \"8\", \"9\", \"10\", \"11\", \"12\", \"13\", \"14\", \"15\", \"16\", \"17\", \"18\", \"19\", \"20\", \"21\", \"22\", \"23\", \"24\", \"25\", \"26\", \"27\", \"28\", \"29\", \"30\", \"31\", \"32\", \"33\", \"34\", \"35\", \"36\", \"37\", \"41\", \"42\"], \"mode\": \"lines\", \"name\": \"AUC_macro_max\", \"stepped\": true, \"type\": \"scatter\", \"data\": [0.8840955354735103, 0.8847369443591411, 0.9084349180207877, 0.9155796746202352, 0.9155796746202352, 0.9155796746202352, 0.9155796746202352, 0.9155796746202352, 0.9155796746202352, 0.9155796746202352, 0.9155796746202352, 0.9155796746202352, 0.9155796746202352, 0.9155796746202352, 0.9155796746202352, 0.9155796746202352, 0.9155796746202352, 0.9155796746202352, 0.9155796746202352, 0.9155796746202352, 0.9155796746202352, 0.9155796746202352, 0.9155796746202352, 0.9155796746202352, 0.9155796746202352, 0.9155796746202352, 0.9155796746202352, 0.9155796746202352, 0.9155796746202352, 0.9155796746202352, 0.9155796746202352, 0.9155796746202352, 0.9155796746202352, 0.9155796746202352, 0.9155796746202352, 0.9155796746202352, 0.9155796746202352, 0.9155796746202352, 0.9155796746202352, 0.9155796746202352]}], \"precision_score_weighted\": [{\"categories\": [\"0\", \"1\", \"2\", \"3\", \"4\", \"5\", \"6\", \"7\", \"8\", \"9\", \"10\", \"11\", \"12\", \"13\", \"14\", \"15\", \"16\", \"17\", \"18\", \"19\", \"20\", \"21\", \"22\", \"23\", \"24\", \"25\", \"26\", \"27\", \"28\", \"29\", \"30\", \"31\", \"32\", \"33\", \"34\", \"35\", \"36\", \"37\", \"41\", \"42\"], \"mode\": \"markers\", \"name\": \"precision_score_weighted\", \"stepped\": false, \"type\": \"scatter\", \"data\": [0.8443308716969533, 0.8506678986628277, 0.8413990180430343, 0.8578355626811792, 0.8402028136863195, 0.8408593619856738, 0.746960744261569, 0.837153057106774, 0.8525211814366986, 0.8490463978799812, 0.8481768807497486, 0.8635704583605633, 0.8632553265105122, 0.8176354505897235, 0.8458189288953408, 0.8349369327241142, 0.8314714021194531, 0.8635417546979529, 0.8528011598457625, 0.8458278020080868, 0.7224490586482263, 0.8510230864763895, 0.8512215457548056, 0.8687856191147928, 0.8287688860198605, 0.47055053507728895, 0.8440050206427381, 0.832236046309202, 0.8661200876834311, 0.840623900302411, 0.8535284209968381, 0.8351816459526751, 0.8456741794918207, 0.8301755349431511, 0.8520676351939469, 0.8469609053698258, 0.8558013293332767, 0.8559991688480206, 0.8887536764834365, 0.8795201000898152]}, {\"categories\": [\"0\", \"1\", \"2\", \"3\", \"4\", \"5\", \"6\", \"7\", \"8\", \"9\", \"10\", \"11\", \"12\", \"13\", \"14\", \"15\", \"16\", \"17\", \"18\", \"19\", \"20\", \"21\", \"22\", \"23\", \"24\", \"25\", \"26\", \"27\", \"28\", \"29\", \"30\", \"31\", \"32\", \"33\", \"34\", \"35\", \"36\", \"37\", \"41\", \"42\"], \"mode\": \"lines\", \"name\": \"precision_score_weighted_max\", \"stepped\": true, \"type\": \"scatter\", \"data\": [0.8443308716969533, 0.8506678986628277, 0.8506678986628277, 0.8578355626811792, 0.8578355626811792, 0.8578355626811792, 0.8578355626811792, 0.8578355626811792, 0.8578355626811792, 0.8578355626811792, 0.8578355626811792, 0.8635704583605633, 0.8635704583605633, 0.8635704583605633, 0.8635704583605633, 0.8635704583605633, 0.8635704583605633, 0.8635704583605633, 0.8635704583605633, 0.8635704583605633, 0.8635704583605633, 0.8635704583605633, 0.8635704583605633, 0.8687856191147928, 0.8687856191147928, 0.8687856191147928, 0.8687856191147928, 0.8687856191147928, 0.8687856191147928, 0.8687856191147928, 0.8687856191147928, 0.8687856191147928, 0.8687856191147928, 0.8687856191147928, 0.8687856191147928, 0.8687856191147928, 0.8687856191147928, 0.8687856191147928, 0.8887536764834365, 0.8887536764834365]}], \"average_precision_score_weighted\": [{\"categories\": [\"0\", \"1\", \"2\", \"3\", \"4\", \"5\", \"6\", \"7\", \"8\", \"9\", \"10\", \"11\", \"12\", \"13\", \"14\", \"15\", \"16\", \"17\", \"18\", \"19\", \"20\", \"21\", \"22\", \"23\", \"24\", \"25\", \"26\", \"27\", \"28\", \"29\", \"30\", \"31\", \"32\", \"33\", \"34\", \"35\", \"36\", \"37\", \"41\", \"42\"], \"mode\": \"markers\", \"name\": \"average_precision_score_weighted\", \"stepped\": false, \"type\": \"scatter\", \"data\": [0.9061112830231934, 0.907154018724502, 0.9234030536418295, 0.933140396877983, 0.9142323803967931, 0.8740056599158077, 0.7902984708289256, 0.9006152166437232, 0.9195541758967691, 0.9042677325897064, 0.9207912443716382, 0.9067980066263541, 0.9060660336140408, 0.9119588313615263, 0.9177586180946771, 0.916358520578126, 0.888324275117038, 0.9192548225083051, 0.912529107918125, 0.920949738780997, 0.9063143562803369, 0.9063284549122764, 0.9128433838735328, 0.9239246744548103, 0.8965887863153508, 0.5827102655568768, 0.9182341333842385, 0.9106983654662602, 0.9212065958923157, 0.9080352585855126, 0.850454607899756, 0.8859937092218978, 0.8873666602527956, 0.8995489661919154, 0.8970735335670106, 0.8864674061898349, 0.9157095037077765, 0.9141465458207684, 0.9283477654539982, 0.9279952255790127]}, {\"categories\": [\"0\", \"1\", \"2\", \"3\", \"4\", \"5\", \"6\", \"7\", \"8\", \"9\", \"10\", \"11\", \"12\", \"13\", \"14\", \"15\", \"16\", \"17\", \"18\", \"19\", \"20\", \"21\", \"22\", \"23\", \"24\", \"25\", \"26\", \"27\", \"28\", \"29\", \"30\", \"31\", \"32\", \"33\", \"34\", \"35\", \"36\", \"37\", \"41\", \"42\"], \"mode\": \"lines\", \"name\": \"average_precision_score_weighted_max\", \"stepped\": true, \"type\": \"scatter\", \"data\": [0.9061112830231934, 0.907154018724502, 0.9234030536418295, 0.933140396877983, 0.933140396877983, 0.933140396877983, 0.933140396877983, 0.933140396877983, 0.933140396877983, 0.933140396877983, 0.933140396877983, 0.933140396877983, 0.933140396877983, 0.933140396877983, 0.933140396877983, 0.933140396877983, 0.933140396877983, 0.933140396877983, 0.933140396877983, 0.933140396877983, 0.933140396877983, 0.933140396877983, 0.933140396877983, 0.933140396877983, 0.933140396877983, 0.933140396877983, 0.933140396877983, 0.933140396877983, 0.933140396877983, 0.933140396877983, 0.933140396877983, 0.933140396877983, 0.933140396877983, 0.933140396877983, 0.933140396877983, 0.933140396877983, 0.933140396877983, 0.933140396877983, 0.933140396877983, 0.933140396877983]}], \"recall_score_macro\": [{\"categories\": [\"0\", \"1\", \"2\", \"3\", \"4\", \"5\", \"6\", \"7\", \"8\", \"9\", \"10\", \"11\", \"12\", \"13\", \"14\", \"15\", \"16\", \"17\", \"18\", \"19\", \"20\", \"21\", \"22\", \"23\", \"24\", \"25\", \"26\", \"27\", \"28\", \"29\", \"30\", \"31\", \"32\", \"33\", \"34\", \"35\", \"36\", \"37\", \"41\", \"42\"], \"mode\": \"markers\", \"name\": \"recall_score_macro\", \"stepped\": false, \"type\": \"scatter\", \"data\": [0.8077082895810014, 0.8130249020938379, 0.7935299080210407, 0.8020224082109093, 0.8033042178073643, 0.7864066387147051, 0.6415101521920743, 0.785013547950905, 0.8067431560620921, 0.7999603913439726, 0.7984387236206458, 0.787006566564633, 0.810638899207835, 0.673970152654363, 0.7600986119779026, 0.7647936289174846, 0.7407206624103077, 0.7951505059585723, 0.8119827892359357, 0.8000129973319332, 0.60502886002886, 0.8122529598865411, 0.7958448240991147, 0.8247969392354403, 0.727522439580506, 0.5, 0.8181337508791742, 0.8009752419586516, 0.8287016697706058, 0.7603868201465456, 0.8014769850350515, 0.7762004071443431, 0.7567684713265377, 0.7557136372717036, 0.8059589161474173, 0.7910603183683846, 0.8168352737079854, 0.7996079374160037, 0.835608266796768, 0.8309545871430883]}, {\"categories\": [\"0\", \"1\", \"2\", \"3\", \"4\", \"5\", \"6\", \"7\", \"8\", \"9\", \"10\", \"11\", \"12\", \"13\", \"14\", \"15\", \"16\", \"17\", \"18\", \"19\", \"20\", \"21\", \"22\", \"23\", \"24\", \"25\", \"26\", \"27\", \"28\", \"29\", \"30\", \"31\", \"32\", \"33\", \"34\", \"35\", \"36\", \"37\", \"41\", \"42\"], \"mode\": \"lines\", \"name\": \"recall_score_macro_max\", \"stepped\": true, \"type\": \"scatter\", \"data\": [0.8077082895810014, 0.8130249020938379, 0.8130249020938379, 0.8130249020938379, 0.8130249020938379, 0.8130249020938379, 0.8130249020938379, 0.8130249020938379, 0.8130249020938379, 0.8130249020938379, 0.8130249020938379, 0.8130249020938379, 0.8130249020938379, 0.8130249020938379, 0.8130249020938379, 0.8130249020938379, 0.8130249020938379, 0.8130249020938379, 0.8130249020938379, 0.8130249020938379, 0.8130249020938379, 0.8130249020938379, 0.8130249020938379, 0.8247969392354403, 0.8247969392354403, 0.8247969392354403, 0.8247969392354403, 0.8247969392354403, 0.8287016697706058, 0.8287016697706058, 0.8287016697706058, 0.8287016697706058, 0.8287016697706058, 0.8287016697706058, 0.8287016697706058, 0.8287016697706058, 0.8287016697706058, 0.8287016697706058, 0.835608266796768, 0.835608266796768]}], \"precision_score_micro\": [{\"categories\": [\"0\", \"1\", \"2\", \"3\", \"4\", \"5\", \"6\", \"7\", \"8\", \"9\", \"10\", \"11\", \"12\", \"13\", \"14\", \"15\", \"16\", \"17\", \"18\", \"19\", \"20\", \"21\", \"22\", \"23\", \"24\", \"25\", \"26\", \"27\", \"28\", \"29\", \"30\", \"31\", \"32\", \"33\", \"34\", \"35\", \"36\", \"37\", \"41\", \"42\"], \"mode\": \"markers\", \"name\": \"precision_score_micro\", \"stepped\": false, \"type\": \"scatter\", \"data\": [0.8359770114942527, 0.8358620689655172, 0.8260919540229885, 0.8426436781609196, 0.8189655172413793, 0.8293103448275861, 0.725977011494253, 0.8228735632183908, 0.8358620689655172, 0.8328735632183909, 0.8293103448275861, 0.8462068965517242, 0.8495402298850575, 0.7794252873563219, 0.8260919540229885, 0.8226436781609194, 0.8159770114942528, 0.849425287356322, 0.8425287356321839, 0.8326436781609197, 0.7391954022988505, 0.8359770114942527, 0.8393103448275863, 0.859425287356322, 0.8095402298850575, 0.6791954022988507, 0.8124137931034483, 0.7954022988505748, 0.852528735632184, 0.8195402298850574, 0.8426436781609196, 0.8262068965517242, 0.8295402298850576, 0.8193103448275864, 0.8393103448275863, 0.8359770114942527, 0.8459770114942529, 0.8459770114942529, 0.8729885057471265, 0.8662068965517242]}, {\"categories\": [\"0\", \"1\", \"2\", \"3\", \"4\", \"5\", \"6\", \"7\", \"8\", \"9\", \"10\", \"11\", \"12\", \"13\", \"14\", \"15\", \"16\", \"17\", \"18\", \"19\", \"20\", \"21\", \"22\", \"23\", \"24\", \"25\", \"26\", \"27\", \"28\", \"29\", \"30\", \"31\", \"32\", \"33\", \"34\", \"35\", \"36\", \"37\", \"41\", \"42\"], \"mode\": \"lines\", \"name\": \"precision_score_micro_max\", \"stepped\": true, \"type\": \"scatter\", \"data\": [0.8359770114942527, 0.8359770114942527, 0.8359770114942527, 0.8426436781609196, 0.8426436781609196, 0.8426436781609196, 0.8426436781609196, 0.8426436781609196, 0.8426436781609196, 0.8426436781609196, 0.8426436781609196, 0.8462068965517242, 0.8495402298850575, 0.8495402298850575, 0.8495402298850575, 0.8495402298850575, 0.8495402298850575, 0.8495402298850575, 0.8495402298850575, 0.8495402298850575, 0.8495402298850575, 0.8495402298850575, 0.8495402298850575, 0.859425287356322, 0.859425287356322, 0.859425287356322, 0.859425287356322, 0.859425287356322, 0.859425287356322, 0.859425287356322, 0.859425287356322, 0.859425287356322, 0.859425287356322, 0.859425287356322, 0.859425287356322, 0.859425287356322, 0.859425287356322, 0.859425287356322, 0.8729885057471265, 0.8729885057471265]}], \"f1_score_weighted\": [{\"categories\": [\"0\", \"1\", \"2\", \"3\", \"4\", \"5\", \"6\", \"7\", \"8\", \"9\", \"10\", \"11\", \"12\", \"13\", \"14\", \"15\", \"16\", \"17\", \"18\", \"19\", \"20\", \"21\", \"22\", \"23\", \"24\", \"25\", \"26\", \"27\", \"28\", \"29\", \"30\", \"31\", \"32\", \"33\", \"34\", \"35\", \"36\", \"37\", \"41\", \"42\"], \"mode\": \"markers\", \"name\": \"f1_score_weighted\", \"stepped\": false, \"type\": \"scatter\", \"data\": [0.8333388901455894, 0.8342588560383983, 0.8229979408207482, 0.8352544774749842, 0.8208375467980711, 0.8232309449541184, 0.6909543159064384, 0.8182849428892383, 0.8335399863041422, 0.8280418148453291, 0.8256323290395914, 0.8357318121036776, 0.8444890292067422, 0.7446772135867714, 0.8132634517824846, 0.8099817042890736, 0.7999966834924516, 0.8399465014636297, 0.8390705680141874, 0.828615269921985, 0.6732166776894909, 0.8342648358448098, 0.832414726095011, 0.8552222561912967, 0.7940068072932505, 0.5534120288954022, 0.8185556958064574, 0.8012343351487621, 0.8504070355136815, 0.8080979228611413, 0.8364408079024983, 0.8203540639078974, 0.8180235722088479, 0.8071559995013535, 0.8341644215726021, 0.8293789917697438, 0.843102714530187, 0.8389655089739063, 0.8669433360030334, 0.8604799687684073]}, {\"categories\": [\"0\", \"1\", \"2\", \"3\", \"4\", \"5\", \"6\", \"7\", \"8\", \"9\", \"10\", \"11\", \"12\", \"13\", \"14\", \"15\", \"16\", \"17\", \"18\", \"19\", \"20\", \"21\", \"22\", \"23\", \"24\", \"25\", \"26\", \"27\", \"28\", \"29\", \"30\", \"31\", \"32\", \"33\", \"34\", \"35\", \"36\", \"37\", \"41\", \"42\"], \"mode\": \"lines\", \"name\": \"f1_score_weighted_max\", \"stepped\": true, \"type\": \"scatter\", \"data\": [0.8333388901455894, 0.8342588560383983, 0.8342588560383983, 0.8352544774749842, 0.8352544774749842, 0.8352544774749842, 0.8352544774749842, 0.8352544774749842, 0.8352544774749842, 0.8352544774749842, 0.8352544774749842, 0.8357318121036776, 0.8444890292067422, 0.8444890292067422, 0.8444890292067422, 0.8444890292067422, 0.8444890292067422, 0.8444890292067422, 0.8444890292067422, 0.8444890292067422, 0.8444890292067422, 0.8444890292067422, 0.8444890292067422, 0.8552222561912967, 0.8552222561912967, 0.8552222561912967, 0.8552222561912967, 0.8552222561912967, 0.8552222561912967, 0.8552222561912967, 0.8552222561912967, 0.8552222561912967, 0.8552222561912967, 0.8552222561912967, 0.8552222561912967, 0.8552222561912967, 0.8552222561912967, 0.8552222561912967, 0.8669433360030334, 0.8669433360030334]}], \"accuracy\": [{\"categories\": [\"0\", \"1\", \"2\", \"3\", \"4\", \"5\", \"6\", \"7\", \"8\", \"9\", \"10\", \"11\", \"12\", \"13\", \"14\", \"15\", \"16\", \"17\", \"18\", \"19\", \"20\", \"21\", \"22\", \"23\", \"24\", \"25\", \"26\", \"27\", \"28\", \"29\", \"30\", \"31\", \"32\", \"33\", \"34\", \"35\", \"36\", \"37\", \"41\", \"42\"], \"mode\": \"markers\", \"name\": \"accuracy\", \"stepped\": false, \"type\": \"scatter\", \"data\": [0.8359770114942527, 0.8358620689655172, 0.8260919540229885, 0.8426436781609196, 0.8189655172413793, 0.8293103448275861, 0.725977011494253, 0.8228735632183908, 0.8358620689655172, 0.8328735632183909, 0.8293103448275861, 0.8462068965517242, 0.8495402298850575, 0.7794252873563219, 0.8260919540229885, 0.8226436781609194, 0.8159770114942528, 0.849425287356322, 0.8425287356321839, 0.8326436781609197, 0.7391954022988505, 0.8359770114942527, 0.8393103448275863, 0.859425287356322, 0.8095402298850575, 0.6791954022988507, 0.8124137931034483, 0.7954022988505748, 0.852528735632184, 0.8195402298850574, 0.8426436781609196, 0.8262068965517242, 0.8295402298850576, 0.8193103448275864, 0.8393103448275863, 0.8359770114942527, 0.8459770114942529, 0.8459770114942529, 0.8729885057471265, 0.8662068965517242]}, {\"categories\": [\"0\", \"1\", \"2\", \"3\", \"4\", \"5\", \"6\", \"7\", \"8\", \"9\", \"10\", \"11\", \"12\", \"13\", \"14\", \"15\", \"16\", \"17\", \"18\", \"19\", \"20\", \"21\", \"22\", \"23\", \"24\", \"25\", \"26\", \"27\", \"28\", \"29\", \"30\", \"31\", \"32\", \"33\", \"34\", \"35\", \"36\", \"37\", \"41\", \"42\"], \"mode\": \"lines\", \"name\": \"accuracy_max\", \"stepped\": true, \"type\": \"scatter\", \"data\": [0.8359770114942527, 0.8359770114942527, 0.8359770114942527, 0.8426436781609196, 0.8426436781609196, 0.8426436781609196, 0.8426436781609196, 0.8426436781609196, 0.8426436781609196, 0.8426436781609196, 0.8426436781609196, 0.8462068965517242, 0.8495402298850575, 0.8495402298850575, 0.8495402298850575, 0.8495402298850575, 0.8495402298850575, 0.8495402298850575, 0.8495402298850575, 0.8495402298850575, 0.8495402298850575, 0.8495402298850575, 0.8495402298850575, 0.859425287356322, 0.859425287356322, 0.859425287356322, 0.859425287356322, 0.859425287356322, 0.859425287356322, 0.859425287356322, 0.859425287356322, 0.859425287356322, 0.859425287356322, 0.859425287356322, 0.859425287356322, 0.859425287356322, 0.859425287356322, 0.859425287356322, 0.8729885057471265, 0.8729885057471265]}], \"average_precision_score_macro\": [{\"categories\": [\"0\", \"1\", \"2\", \"3\", \"4\", \"5\", \"6\", \"7\", \"8\", \"9\", \"10\", \"11\", \"12\", \"13\", \"14\", \"15\", \"16\", \"17\", \"18\", \"19\", \"20\", \"21\", \"22\", \"23\", \"24\", \"25\", \"26\", \"27\", \"28\", \"29\", \"30\", \"31\", \"32\", \"33\", \"34\", \"35\", \"36\", \"37\", \"41\", \"42\"], \"mode\": \"markers\", \"name\": \"average_precision_score_macro\", \"stepped\": false, \"type\": \"scatter\", \"data\": [0.8807888197525153, 0.8807340475847678, 0.90316702697068, 0.9157857551284788, 0.8831385783094461, 0.8374549259422588, 0.745469896825244, 0.8749745008185043, 0.8946304539881818, 0.8793971710929904, 0.8991006886127165, 0.8840631739545408, 0.8801441796559588, 0.8841645683845177, 0.8914413855454489, 0.8893073017964932, 0.8540226811644409, 0.8942400652503206, 0.8816389761044438, 0.8966174980527096, 0.8763592637965589, 0.8754316906129442, 0.8833412239264323, 0.9023599713815322, 0.8743263375299865, 0.5, 0.892793020540501, 0.8740664974292283, 0.8957085318199729, 0.8846017871895763, 0.8187069750817869, 0.8614680757961786, 0.8692590703420224, 0.8680517460506655, 0.8670051871471305, 0.8547379525794984, 0.8889598357020148, 0.8914655367482102, 0.9055695287409226, 0.9052430658634771]}, {\"categories\": [\"0\", \"1\", \"2\", \"3\", \"4\", \"5\", \"6\", \"7\", \"8\", \"9\", \"10\", \"11\", \"12\", \"13\", \"14\", \"15\", \"16\", \"17\", \"18\", \"19\", \"20\", \"21\", \"22\", \"23\", \"24\", \"25\", \"26\", \"27\", \"28\", \"29\", \"30\", \"31\", \"32\", \"33\", \"34\", \"35\", \"36\", \"37\", \"41\", \"42\"], \"mode\": \"lines\", \"name\": \"average_precision_score_macro_max\", \"stepped\": true, \"type\": \"scatter\", \"data\": [0.8807888197525153, 0.8807888197525153, 0.90316702697068, 0.9157857551284788, 0.9157857551284788, 0.9157857551284788, 0.9157857551284788, 0.9157857551284788, 0.9157857551284788, 0.9157857551284788, 0.9157857551284788, 0.9157857551284788, 0.9157857551284788, 0.9157857551284788, 0.9157857551284788, 0.9157857551284788, 0.9157857551284788, 0.9157857551284788, 0.9157857551284788, 0.9157857551284788, 0.9157857551284788, 0.9157857551284788, 0.9157857551284788, 0.9157857551284788, 0.9157857551284788, 0.9157857551284788, 0.9157857551284788, 0.9157857551284788, 0.9157857551284788, 0.9157857551284788, 0.9157857551284788, 0.9157857551284788, 0.9157857551284788, 0.9157857551284788, 0.9157857551284788, 0.9157857551284788, 0.9157857551284788, 0.9157857551284788, 0.9157857551284788, 0.9157857551284788]}], \"precision_score_macro\": [{\"categories\": [\"0\", \"1\", \"2\", \"3\", \"4\", \"5\", \"6\", \"7\", \"8\", \"9\", \"10\", \"11\", \"12\", \"13\", \"14\", \"15\", \"16\", \"17\", \"18\", \"19\", \"20\", \"21\", \"22\", \"23\", \"24\", \"25\", \"26\", \"27\", \"28\", \"29\", \"30\", \"31\", \"32\", \"33\", \"34\", \"35\", \"36\", \"37\", \"41\", \"42\"], \"mode\": \"markers\", \"name\": \"precision_score_macro\", \"stepped\": false, \"type\": \"scatter\", \"data\": [0.8167365852764965, 0.8232986049897815, 0.8088681627409249, 0.8498661616796628, 0.793976822970631, 0.8179623094297007, 0.7167085591819475, 0.8098152219970096, 0.8207563131313131, 0.8302320007731906, 0.8166242414164409, 0.8720865185539098, 0.8451538107313784, 0.8372565606696043, 0.8466691396365309, 0.8236542443064183, 0.8258595317725753, 0.8650628639095459, 0.8268486449985305, 0.8190270901232, 0.6963876257841775, 0.8205826858563432, 0.8347272430087076, 0.8519322533032992, 0.8377479730414512, 0.33959770114942534, 0.7858187576956928, 0.7744286417486882, 0.8380784735224095, 0.8349356593487027, 0.8336677662535786, 0.8198495249982664, 0.8558342571277354, 0.8210744014439667, 0.82479852876592, 0.8280084227366835, 0.8312070831645135, 0.843103395841382, 0.8899565447265676, 0.8732589162680696]}, {\"categories\": [\"0\", \"1\", \"2\", \"3\", \"4\", \"5\", \"6\", \"7\", \"8\", \"9\", \"10\", \"11\", \"12\", \"13\", \"14\", \"15\", \"16\", \"17\", \"18\", \"19\", \"20\", \"21\", \"22\", \"23\", \"24\", \"25\", \"26\", \"27\", \"28\", \"29\", \"30\", \"31\", \"32\", \"33\", \"34\", \"35\", \"36\", \"37\", \"41\", \"42\"], \"mode\": \"lines\", \"name\": \"precision_score_macro_max\", \"stepped\": true, \"type\": \"scatter\", \"data\": [0.8167365852764965, 0.8232986049897815, 0.8232986049897815, 0.8498661616796628, 0.8498661616796628, 0.8498661616796628, 0.8498661616796628, 0.8498661616796628, 0.8498661616796628, 0.8498661616796628, 0.8498661616796628, 0.8720865185539098, 0.8720865185539098, 0.8720865185539098, 0.8720865185539098, 0.8720865185539098, 0.8720865185539098, 0.8720865185539098, 0.8720865185539098, 0.8720865185539098, 0.8720865185539098, 0.8720865185539098, 0.8720865185539098, 0.8720865185539098, 0.8720865185539098, 0.8720865185539098, 0.8720865185539098, 0.8720865185539098, 0.8720865185539098, 0.8720865185539098, 0.8720865185539098, 0.8720865185539098, 0.8720865185539098, 0.8720865185539098, 0.8720865185539098, 0.8720865185539098, 0.8720865185539098, 0.8720865185539098, 0.8899565447265676, 0.8899565447265676]}], \"AUC_weighted\": [{\"categories\": [\"0\", \"1\", \"2\", \"3\", \"4\", \"5\", \"6\", \"7\", \"8\", \"9\", \"10\", \"11\", \"12\", \"13\", \"14\", \"15\", \"16\", \"17\", \"18\", \"19\", \"20\", \"21\", \"22\", \"23\", \"24\", \"25\", \"26\", \"27\", \"28\", \"29\", \"30\", \"31\", \"32\", \"33\", \"34\", \"35\", \"36\", \"37\", \"41\", \"42\"], \"mode\": \"markers\", \"name\": \"AUC_weighted\", \"stepped\": false, \"type\": \"scatter\", \"data\": [0.8840955354735103, 0.8847369443591411, 0.9084349180207877, 0.9155796746202352, 0.897005080663891, 0.8801586577610033, 0.747228730835653, 0.879342659940915, 0.9027066282856901, 0.8877728841757445, 0.898082367947757, 0.8839277000967505, 0.8905101635291566, 0.8894343285475437, 0.8947674802399058, 0.9041695342055182, 0.8866186786960814, 0.9000399909248307, 0.8998310874765965, 0.9024904930034794, 0.8887855695177777, 0.8900098440820982, 0.8951857931224636, 0.9045215654419316, 0.878092995609357, 0.5, 0.9017126768117043, 0.8908693194338504, 0.9047205120563817, 0.8956902993787719, 0.8478817539016624, 0.8662644202045519, 0.8701769574077927, 0.8895810211464102, 0.8890898286146856, 0.8663628249642551, 0.9019734193850899, 0.9021371592683949, 0.9138736126658322, 0.9135026671861912]}, {\"categories\": [\"0\", \"1\", \"2\", \"3\", \"4\", \"5\", \"6\", \"7\", \"8\", \"9\", \"10\", \"11\", \"12\", \"13\", \"14\", \"15\", \"16\", \"17\", \"18\", \"19\", \"20\", \"21\", \"22\", \"23\", \"24\", \"25\", \"26\", \"27\", \"28\", \"29\", \"30\", \"31\", \"32\", \"33\", \"34\", \"35\", \"36\", \"37\", \"41\", \"42\"], \"mode\": \"lines\", \"name\": \"AUC_weighted_max\", \"stepped\": true, \"type\": \"scatter\", \"data\": [0.8840955354735103, 0.8847369443591411, 0.9084349180207877, 0.9155796746202352, 0.9155796746202352, 0.9155796746202352, 0.9155796746202352, 0.9155796746202352, 0.9155796746202352, 0.9155796746202352, 0.9155796746202352, 0.9155796746202352, 0.9155796746202352, 0.9155796746202352, 0.9155796746202352, 0.9155796746202352, 0.9155796746202352, 0.9155796746202352, 0.9155796746202352, 0.9155796746202352, 0.9155796746202352, 0.9155796746202352, 0.9155796746202352, 0.9155796746202352, 0.9155796746202352, 0.9155796746202352, 0.9155796746202352, 0.9155796746202352, 0.9155796746202352, 0.9155796746202352, 0.9155796746202352, 0.9155796746202352, 0.9155796746202352, 0.9155796746202352, 0.9155796746202352, 0.9155796746202352, 0.9155796746202352, 0.9155796746202352, 0.9155796746202352, 0.9155796746202352]}], \"recall_score_weighted\": [{\"categories\": [\"0\", \"1\", \"2\", \"3\", \"4\", \"5\", \"6\", \"7\", \"8\", \"9\", \"10\", \"11\", \"12\", \"13\", \"14\", \"15\", \"16\", \"17\", \"18\", \"19\", \"20\", \"21\", \"22\", \"23\", \"24\", \"25\", \"26\", \"27\", \"28\", \"29\", \"30\", \"31\", \"32\", \"33\", \"34\", \"35\", \"36\", \"37\", \"41\", \"42\"], \"mode\": \"markers\", \"name\": \"recall_score_weighted\", \"stepped\": false, \"type\": \"scatter\", \"data\": [0.8359770114942527, 0.8358620689655172, 0.8260919540229885, 0.8426436781609196, 0.8189655172413793, 0.8293103448275861, 0.725977011494253, 0.8228735632183908, 0.8358620689655172, 0.8328735632183909, 0.8293103448275861, 0.8462068965517242, 0.8495402298850575, 0.7794252873563219, 0.8260919540229885, 0.8226436781609194, 0.8159770114942528, 0.849425287356322, 0.8425287356321839, 0.8326436781609197, 0.7391954022988505, 0.8359770114942527, 0.8393103448275863, 0.859425287356322, 0.8095402298850575, 0.6791954022988507, 0.8124137931034483, 0.7954022988505748, 0.852528735632184, 0.8195402298850574, 0.8426436781609196, 0.8262068965517242, 0.8295402298850576, 0.8193103448275864, 0.8393103448275863, 0.8359770114942527, 0.8459770114942529, 0.8459770114942529, 0.8729885057471265, 0.8662068965517242]}, {\"categories\": [\"0\", \"1\", \"2\", \"3\", \"4\", \"5\", \"6\", \"7\", \"8\", \"9\", \"10\", \"11\", \"12\", \"13\", \"14\", \"15\", \"16\", \"17\", \"18\", \"19\", \"20\", \"21\", \"22\", \"23\", \"24\", \"25\", \"26\", \"27\", \"28\", \"29\", \"30\", \"31\", \"32\", \"33\", \"34\", \"35\", \"36\", \"37\", \"41\", \"42\"], \"mode\": \"lines\", \"name\": \"recall_score_weighted_max\", \"stepped\": true, \"type\": \"scatter\", \"data\": [0.8359770114942527, 0.8359770114942527, 0.8359770114942527, 0.8426436781609196, 0.8426436781609196, 0.8426436781609196, 0.8426436781609196, 0.8426436781609196, 0.8426436781609196, 0.8426436781609196, 0.8426436781609196, 0.8462068965517242, 0.8495402298850575, 0.8495402298850575, 0.8495402298850575, 0.8495402298850575, 0.8495402298850575, 0.8495402298850575, 0.8495402298850575, 0.8495402298850575, 0.8495402298850575, 0.8495402298850575, 0.8495402298850575, 0.859425287356322, 0.859425287356322, 0.859425287356322, 0.859425287356322, 0.859425287356322, 0.859425287356322, 0.859425287356322, 0.859425287356322, 0.859425287356322, 0.859425287356322, 0.859425287356322, 0.859425287356322, 0.859425287356322, 0.859425287356322, 0.859425287356322, 0.8729885057471265, 0.8729885057471265]}], \"f1_score_micro\": [{\"categories\": [\"0\", \"1\", \"2\", \"3\", \"4\", \"5\", \"6\", \"7\", \"8\", \"9\", \"10\", \"11\", \"12\", \"13\", \"14\", \"15\", \"16\", \"17\", \"18\", \"19\", \"20\", \"21\", \"22\", \"23\", \"24\", \"25\", \"26\", \"27\", \"28\", \"29\", \"30\", \"31\", \"32\", \"33\", \"34\", \"35\", \"36\", \"37\", \"41\", \"42\"], \"mode\": \"markers\", \"name\": \"f1_score_micro\", \"stepped\": false, \"type\": \"scatter\", \"data\": [0.8359770114942527, 0.8358620689655172, 0.8260919540229885, 0.8426436781609196, 0.8189655172413793, 0.8293103448275861, 0.725977011494253, 0.8228735632183908, 0.8358620689655172, 0.8328735632183909, 0.8293103448275861, 0.8462068965517242, 0.8495402298850575, 0.7794252873563219, 0.8260919540229885, 0.8226436781609194, 0.8159770114942528, 0.849425287356322, 0.842528735632184, 0.8326436781609197, 0.7391954022988505, 0.8359770114942527, 0.8393103448275863, 0.859425287356322, 0.8095402298850575, 0.6791954022988507, 0.8124137931034483, 0.7954022988505748, 0.852528735632184, 0.8195402298850574, 0.8426436781609196, 0.8262068965517242, 0.8295402298850576, 0.8193103448275864, 0.8393103448275863, 0.8359770114942527, 0.8459770114942529, 0.8459770114942529, 0.8729885057471265, 0.8662068965517242]}, {\"categories\": [\"0\", \"1\", \"2\", \"3\", \"4\", \"5\", \"6\", \"7\", \"8\", \"9\", \"10\", \"11\", \"12\", \"13\", \"14\", \"15\", \"16\", \"17\", \"18\", \"19\", \"20\", \"21\", \"22\", \"23\", \"24\", \"25\", \"26\", \"27\", \"28\", \"29\", \"30\", \"31\", \"32\", \"33\", \"34\", \"35\", \"36\", \"37\", \"41\", \"42\"], \"mode\": \"lines\", \"name\": \"f1_score_micro_max\", \"stepped\": true, \"type\": \"scatter\", \"data\": [0.8359770114942527, 0.8359770114942527, 0.8359770114942527, 0.8426436781609196, 0.8426436781609196, 0.8426436781609196, 0.8426436781609196, 0.8426436781609196, 0.8426436781609196, 0.8426436781609196, 0.8426436781609196, 0.8462068965517242, 0.8495402298850575, 0.8495402298850575, 0.8495402298850575, 0.8495402298850575, 0.8495402298850575, 0.8495402298850575, 0.8495402298850575, 0.8495402298850575, 0.8495402298850575, 0.8495402298850575, 0.8495402298850575, 0.859425287356322, 0.859425287356322, 0.859425287356322, 0.859425287356322, 0.859425287356322, 0.859425287356322, 0.859425287356322, 0.859425287356322, 0.859425287356322, 0.859425287356322, 0.859425287356322, 0.859425287356322, 0.859425287356322, 0.859425287356322, 0.859425287356322, 0.8729885057471265, 0.8729885057471265]}], \"balanced_accuracy\": [{\"categories\": [\"0\", \"1\", \"2\", \"3\", \"4\", \"5\", \"6\", \"7\", \"8\", \"9\", \"10\", \"11\", \"12\", \"13\", \"14\", \"15\", \"16\", \"17\", \"18\", \"19\", \"20\", \"21\", \"22\", \"23\", \"24\", \"25\", \"26\", \"27\", \"28\", \"29\", \"30\", \"31\", \"32\", \"33\", \"34\", \"35\", \"36\", \"37\", \"41\", \"42\"], \"mode\": \"markers\", \"name\": \"balanced_accuracy\", \"stepped\": false, \"type\": \"scatter\", \"data\": [0.8077082895810014, 0.8130249020938379, 0.7935299080210407, 0.8020224082109093, 0.8033042178073643, 0.7864066387147051, 0.6415101521920743, 0.785013547950905, 0.8067431560620921, 0.7999603913439726, 0.7984387236206458, 0.787006566564633, 0.810638899207835, 0.673970152654363, 0.7600986119779026, 0.7647936289174846, 0.7407206624103077, 0.7951505059585723, 0.8119827892359357, 0.8000129973319332, 0.60502886002886, 0.8122529598865411, 0.7958448240991147, 0.8247969392354403, 0.727522439580506, 0.5, 0.8181337508791742, 0.8009752419586516, 0.8287016697706058, 0.7603868201465456, 0.8014769850350515, 0.7762004071443431, 0.7567684713265377, 0.7557136372717036, 0.8059589161474173, 0.7910603183683846, 0.8168352737079854, 0.7996079374160037, 0.835608266796768, 0.8309545871430883]}, {\"categories\": [\"0\", \"1\", \"2\", \"3\", \"4\", \"5\", \"6\", \"7\", \"8\", \"9\", \"10\", \"11\", \"12\", \"13\", \"14\", \"15\", \"16\", \"17\", \"18\", \"19\", \"20\", \"21\", \"22\", \"23\", \"24\", \"25\", \"26\", \"27\", \"28\", \"29\", \"30\", \"31\", \"32\", \"33\", \"34\", \"35\", \"36\", \"37\", \"41\", \"42\"], \"mode\": \"lines\", \"name\": \"balanced_accuracy_max\", \"stepped\": true, \"type\": \"scatter\", \"data\": [0.8077082895810014, 0.8130249020938379, 0.8130249020938379, 0.8130249020938379, 0.8130249020938379, 0.8130249020938379, 0.8130249020938379, 0.8130249020938379, 0.8130249020938379, 0.8130249020938379, 0.8130249020938379, 0.8130249020938379, 0.8130249020938379, 0.8130249020938379, 0.8130249020938379, 0.8130249020938379, 0.8130249020938379, 0.8130249020938379, 0.8130249020938379, 0.8130249020938379, 0.8130249020938379, 0.8130249020938379, 0.8130249020938379, 0.8247969392354403, 0.8247969392354403, 0.8247969392354403, 0.8247969392354403, 0.8247969392354403, 0.8287016697706058, 0.8287016697706058, 0.8287016697706058, 0.8287016697706058, 0.8287016697706058, 0.8287016697706058, 0.8287016697706058, 0.8287016697706058, 0.8287016697706058, 0.8287016697706058, 0.835608266796768, 0.835608266796768]}], \"log_loss\": [{\"categories\": [\"0\", \"1\", \"2\", \"3\", \"4\", \"5\", \"6\", \"7\", \"8\", \"9\", \"10\", \"11\", \"12\", \"13\", \"14\", \"15\", \"16\", \"17\", \"18\", \"19\", \"20\", \"21\", \"22\", \"23\", \"24\", \"25\", \"26\", \"27\", \"28\", \"29\", \"30\", \"31\", \"32\", \"33\", \"34\", \"35\", \"36\", \"37\", \"41\", \"42\"], \"mode\": \"markers\", \"name\": \"log_loss\", \"stepped\": false, \"type\": \"scatter\", \"data\": [0.4772179826627182, 0.41764279466886123, 0.3843680087930799, 0.38255867305001645, 0.3874039132441021, 0.47217404449905687, 0.5802769790567852, 0.4113226523427646, 0.36336057018294515, 0.412689902302552, 0.397255730106593, 0.42872331891080495, 0.3964188793382829, 0.4807904268610071, 0.4227894568759668, 0.45853779779480364, 0.4774572179243627, 0.40002699204141734, 0.398054177581154, 0.3645955686965593, 0.5029936166391399, 0.3813839187476032, 0.41860634754545883, 0.39388487993451243, 0.459522289293688, 0.63252095011256, 0.45449617598995423, 0.43579416746190225, 0.3796683558762439, 0.4937811237209755, 0.6798495214849983, 0.4790569231158598, 0.5011959869532034, 0.4681931974062922, 0.4630721184303791, 0.4167494029749494, 0.35899823690864185, 0.41398803984158156, 0.3861154547969442, 0.3671632633435302]}, {\"categories\": [\"0\", \"1\", \"2\", \"3\", \"4\", \"5\", \"6\", \"7\", \"8\", \"9\", \"10\", \"11\", \"12\", \"13\", \"14\", \"15\", \"16\", \"17\", \"18\", \"19\", \"20\", \"21\", \"22\", \"23\", \"24\", \"25\", \"26\", \"27\", \"28\", \"29\", \"30\", \"31\", \"32\", \"33\", \"34\", \"35\", \"36\", \"37\", \"41\", \"42\"], \"mode\": \"lines\", \"name\": \"log_loss_min\", \"stepped\": true, \"type\": \"scatter\", \"data\": [0.4772179826627182, 0.41764279466886123, 0.3843680087930799, 0.38255867305001645, 0.38255867305001645, 0.38255867305001645, 0.38255867305001645, 0.38255867305001645, 0.36336057018294515, 0.36336057018294515, 0.36336057018294515, 0.36336057018294515, 0.36336057018294515, 0.36336057018294515, 0.36336057018294515, 0.36336057018294515, 0.36336057018294515, 0.36336057018294515, 0.36336057018294515, 0.36336057018294515, 0.36336057018294515, 0.36336057018294515, 0.36336057018294515, 0.36336057018294515, 0.36336057018294515, 0.36336057018294515, 0.36336057018294515, 0.36336057018294515, 0.36336057018294515, 0.36336057018294515, 0.36336057018294515, 0.36336057018294515, 0.36336057018294515, 0.36336057018294515, 0.36336057018294515, 0.36336057018294515, 0.35899823690864185, 0.35899823690864185, 0.35899823690864185, 0.35899823690864185]}], \"weighted_accuracy\": [{\"categories\": [\"0\", \"1\", \"2\", \"3\", \"4\", \"5\", \"6\", \"7\", \"8\", \"9\", \"10\", \"11\", \"12\", \"13\", \"14\", \"15\", \"16\", \"17\", \"18\", \"19\", \"20\", \"21\", \"22\", \"23\", \"24\", \"25\", \"26\", \"27\", \"28\", \"29\", \"30\", \"31\", \"32\", \"33\", \"34\", \"35\", \"36\", \"37\", \"41\", \"42\"], \"mode\": \"markers\", \"name\": \"weighted_accuracy\", \"stepped\": false, \"type\": \"scatter\", \"data\": [0.8541321922200625, 0.8502962163535492, 0.8459604069307612, 0.8698561270661292, 0.8299068131097052, 0.8574972560118438, 0.7833111310423092, 0.8459653173983817, 0.8545505474974299, 0.8537749403572639, 0.8501209848471216, 0.8846201573595428, 0.8734514076072569, 0.8471772199465175, 0.8683139582924287, 0.8613850227996014, 0.8656750096917115, 0.8845165342009083, 0.8623964506212038, 0.8532902344600725, 0.8262633165105754, 0.8509428631728448, 0.8685521836685911, 0.8817080393690748, 0.8597635521177006, 0.7931711479234276, 0.8075556975351704, 0.7903608949408805, 0.8682019159695358, 0.8569762141082642, 0.8695587996364379, 0.85484454828196, 0.875038702153302, 0.8619126983474066, 0.8613171490646818, 0.8655348430577368, 0.8647702702448019, 0.8759680879737404, 0.8969436587909133, 0.8887930905478303]}, {\"categories\": [\"0\", \"1\", \"2\", \"3\", \"4\", \"5\", \"6\", \"7\", \"8\", \"9\", \"10\", \"11\", \"12\", \"13\", \"14\", \"15\", \"16\", \"17\", \"18\", \"19\", \"20\", \"21\", \"22\", \"23\", \"24\", \"25\", \"26\", \"27\", \"28\", \"29\", \"30\", \"31\", \"32\", \"33\", \"34\", \"35\", \"36\", \"37\", \"41\", \"42\"], \"mode\": \"lines\", \"name\": \"weighted_accuracy_max\", \"stepped\": true, \"type\": \"scatter\", \"data\": [0.8541321922200625, 0.8541321922200625, 0.8541321922200625, 0.8698561270661292, 0.8698561270661292, 0.8698561270661292, 0.8698561270661292, 0.8698561270661292, 0.8698561270661292, 0.8698561270661292, 0.8698561270661292, 0.8846201573595428, 0.8846201573595428, 0.8846201573595428, 0.8846201573595428, 0.8846201573595428, 0.8846201573595428, 0.8846201573595428, 0.8846201573595428, 0.8846201573595428, 0.8846201573595428, 0.8846201573595428, 0.8846201573595428, 0.8846201573595428, 0.8846201573595428, 0.8846201573595428, 0.8846201573595428, 0.8846201573595428, 0.8846201573595428, 0.8846201573595428, 0.8846201573595428, 0.8846201573595428, 0.8846201573595428, 0.8846201573595428, 0.8846201573595428, 0.8846201573595428, 0.8846201573595428, 0.8846201573595428, 0.8969436587909133, 0.8969436587909133]}]}, \"metricName\": null, \"primaryMetricName\": \"accuracy\", \"showLegend\": false}, \"run_metrics\": [{\"name\": \"experiment_status\", \"run_id\": \"AutoML_6d8e5bd6-d09f-4cfd-8a1d-546aca1d9943\", \"categories\": [0, 1, 2, 3, 4, 5], \"series\": [{\"data\": [\"DatasetEvaluation\", \"FeaturesGeneration\", \"DatasetFeaturization\", \"DatasetFeaturizationCompleted\", \"DatasetCrossValidationSplit\", \"ModelSelection\"]}]}, {\"name\": \"experiment_status_description\", \"run_id\": \"AutoML_6d8e5bd6-d09f-4cfd-8a1d-546aca1d9943\", \"categories\": [0, 1, 2, 3, 4, 5], \"series\": [{\"data\": [\"Gathering dataset statistics.\", \"Generating features for the dataset.\", \"Beginning to fit featurizers and featurize the dataset.\", \"Completed fit featurizers and featurizing the dataset.\", \"Generating individually featurized CV splits.\", \"Beginning model selection.\"]}]}, {\"name\": \"recall_score_weighted\", \"run_id\": \"AutoML_6d8e5bd6-d09f-4cfd-8a1d-546aca1d9943\", \"categories\": [0], \"series\": [{\"data\": [0.8729885057471265]}]}, {\"name\": \"AUC_micro\", \"run_id\": \"AutoML_6d8e5bd6-d09f-4cfd-8a1d-546aca1d9943\", \"categories\": [0], \"series\": [{\"data\": [0.9199417360285373]}]}, {\"name\": \"precision_score_weighted\", \"run_id\": \"AutoML_6d8e5bd6-d09f-4cfd-8a1d-546aca1d9943\", \"categories\": [0], \"series\": [{\"data\": [0.8887536764834365]}]}, {\"name\": \"norm_macro_recall\", \"run_id\": \"AutoML_6d8e5bd6-d09f-4cfd-8a1d-546aca1d9943\", \"categories\": [0], \"series\": [{\"data\": [0.6712165335935358]}]}, {\"name\": \"f1_score_micro\", \"run_id\": \"AutoML_6d8e5bd6-d09f-4cfd-8a1d-546aca1d9943\", \"categories\": [0], \"series\": [{\"data\": [0.8729885057471265]}]}, {\"name\": \"precision_score_macro\", \"run_id\": \"AutoML_6d8e5bd6-d09f-4cfd-8a1d-546aca1d9943\", \"categories\": [0], \"series\": [{\"data\": [0.8899565447265676]}]}, {\"name\": \"AUC_weighted\", \"run_id\": \"AutoML_6d8e5bd6-d09f-4cfd-8a1d-546aca1d9943\", \"categories\": [0], \"series\": [{\"data\": [0.9138736126658322]}]}, {\"name\": \"recall_score_micro\", \"run_id\": \"AutoML_6d8e5bd6-d09f-4cfd-8a1d-546aca1d9943\", \"categories\": [0], \"series\": [{\"data\": [0.8729885057471265]}]}, {\"name\": \"matthews_correlation\", \"run_id\": \"AutoML_6d8e5bd6-d09f-4cfd-8a1d-546aca1d9943\", \"categories\": [0], \"series\": [{\"data\": [0.7210877603559134]}]}, {\"name\": \"weighted_accuracy\", \"run_id\": \"AutoML_6d8e5bd6-d09f-4cfd-8a1d-546aca1d9943\", \"categories\": [0], \"series\": [{\"data\": [0.8969436587909133]}]}, {\"name\": \"average_precision_score_macro\", \"run_id\": \"AutoML_6d8e5bd6-d09f-4cfd-8a1d-546aca1d9943\", \"categories\": [0], \"series\": [{\"data\": [0.9055695287409226]}]}, {\"name\": \"AUC_macro\", \"run_id\": \"AutoML_6d8e5bd6-d09f-4cfd-8a1d-546aca1d9943\", \"categories\": [0], \"series\": [{\"data\": [0.9138736126658322]}]}, {\"name\": \"f1_score_weighted\", \"run_id\": \"AutoML_6d8e5bd6-d09f-4cfd-8a1d-546aca1d9943\", \"categories\": [0], \"series\": [{\"data\": [0.8669433360030334]}]}, {\"name\": \"average_precision_score_micro\", \"run_id\": \"AutoML_6d8e5bd6-d09f-4cfd-8a1d-546aca1d9943\", \"categories\": [0], \"series\": [{\"data\": [0.9237068487001725]}]}, {\"name\": \"recall_score_macro\", \"run_id\": \"AutoML_6d8e5bd6-d09f-4cfd-8a1d-546aca1d9943\", \"categories\": [0], \"series\": [{\"data\": [0.835608266796768]}]}, {\"name\": \"log_loss\", \"run_id\": \"AutoML_6d8e5bd6-d09f-4cfd-8a1d-546aca1d9943\", \"categories\": [0], \"series\": [{\"data\": [0.3861154547969442]}]}, {\"name\": \"accuracy\", \"run_id\": \"AutoML_6d8e5bd6-d09f-4cfd-8a1d-546aca1d9943\", \"categories\": [0], \"series\": [{\"data\": [0.8729885057471265]}]}, {\"name\": \"average_precision_score_weighted\", \"run_id\": \"AutoML_6d8e5bd6-d09f-4cfd-8a1d-546aca1d9943\", \"categories\": [0], \"series\": [{\"data\": [0.9283477654539982]}]}, {\"name\": \"f1_score_macro\", \"run_id\": \"AutoML_6d8e5bd6-d09f-4cfd-8a1d-546aca1d9943\", \"categories\": [0], \"series\": [{\"data\": [0.8458404745464229]}]}, {\"name\": \"precision_score_micro\", \"run_id\": \"AutoML_6d8e5bd6-d09f-4cfd-8a1d-546aca1d9943\", \"categories\": [0], \"series\": [{\"data\": [0.8729885057471265]}]}, {\"name\": \"balanced_accuracy\", \"run_id\": \"AutoML_6d8e5bd6-d09f-4cfd-8a1d-546aca1d9943\", \"categories\": [0], \"series\": [{\"data\": [0.835608266796768]}]}], \"run_logs\": \"\\nRun is completed.\", \"graph\": {}, \"widget_settings\": {\"childWidgetDisplay\": \"popup\", \"send_telemetry\": false, \"log_level\": \"INFO\", \"sdk_version\": \"1.20.0\"}, \"loading\": false}"
          },
          "metadata": {}
        }
      ],
      "execution_count": 26,
      "metadata": {
        "gather": {
          "logged": 1613227019701
        },
        "jupyter": {
          "outputs_hidden": false,
          "source_hidden": false
        },
        "nteract": {
          "transient": {
            "deleting": false
          }
        }
      }
    },
    {
      "cell_type": "markdown",
      "source": [
        "## Best Model\n",
        "\n",
        "TODO: In the cell below, get the best model from the automl experiments and display all the properties of the model.\n",
        "\n"
      ],
      "metadata": {}
    },
    {
      "cell_type": "code",
      "source": [
        "best_run, fitted_model = remote_run.get_output()\n",
        "print(best_run)\n",
        "print(fitted_model)"
      ],
      "outputs": [
        {
          "output_type": "stream",
          "name": "stderr",
          "text": [
            "WARNING:root:The version of the SDK does not match the version the model was trained on.\n",
            "WARNING:root:The consistency in the result may not be guaranteed.\n",
            "WARNING:root:Package:azureml-automl-core, training version:1.21.0, current version:1.20.0\n",
            "Package:azureml-automl-runtime, training version:1.21.0, current version:1.20.0\n",
            "Package:azureml-core, training version:1.21.0.post1, current version:1.20.0\n",
            "Package:azureml-dataprep, training version:2.8.2, current version:2.7.3\n",
            "Package:azureml-dataprep-native, training version:28.0.0, current version:27.0.0\n",
            "Package:azureml-dataprep-rslex, training version:1.6.0, current version:1.5.0\n",
            "Package:azureml-dataset-runtime, training version:1.21.0, current version:1.20.0\n",
            "Package:azureml-defaults, training version:1.21.0, current version:1.20.0\n",
            "Package:azureml-interpret, training version:1.21.0, current version:1.20.0\n",
            "Package:azureml-pipeline-core, training version:1.21.0, current version:1.20.0\n",
            "Package:azureml-telemetry, training version:1.21.0, current version:1.20.0\n",
            "Package:azureml-train-automl-client, training version:1.21.0, current version:1.20.0\n",
            "Package:azureml-train-automl-runtime, training version:1.21.0, current version:1.20.0\n",
            "WARNING:root:Please ensure the version of your local conda dependencies match the version on which your model was trained in order to properly retrieve your model.\n"
          ]
        },
        {
          "output_type": "stream",
          "name": "stdout",
          "text": [
            "Run(Experiment: AutoML_heart,\n",
            "Id: AutoML_6d8e5bd6-d09f-4cfd-8a1d-546aca1d9943_41,\n",
            "Type: azureml.scriptrun,\n",
            "Status: Completed)\n",
            "Pipeline(memory=None,\n",
            "         steps=[('datatransformer',\n",
            "                 DataTransformer(enable_dnn=None, enable_feature_sweeping=None,\n",
            "                                 feature_sweeping_config=None,\n",
            "                                 feature_sweeping_timeout=None,\n",
            "                                 featurization_config=None, force_text_dnn=None,\n",
            "                                 is_cross_validation=None,\n",
            "                                 is_onnx_compatible=None, logger=None,\n",
            "                                 observer=None, task=None, working_dir=None)),\n",
            "                ('prefittedsoftvotingclassifier',...\n",
            "                                                                                                objective=None,\n",
            "                                                                                                random_state=None,\n",
            "                                                                                                reg_alpha=0,\n",
            "                                                                                                reg_lambda=0.42105263157894735,\n",
            "                                                                                                silent=True,\n",
            "                                                                                                subsample=1,\n",
            "                                                                                                subsample_for_bin=200000,\n",
            "                                                                                                subsample_freq=0,\n",
            "                                                                                                verbose=-10))],\n",
            "                                                                     verbose=False))],\n",
            "                                               flatten_transform=None,\n",
            "                                               weights=[0.14285714285714285,\n",
            "                                                        0.14285714285714285,\n",
            "                                                        0.14285714285714285,\n",
            "                                                        0.14285714285714285,\n",
            "                                                        0.14285714285714285,\n",
            "                                                        0.14285714285714285,\n",
            "                                                        0.14285714285714285]))],\n",
            "         verbose=False)\n"
          ]
        }
      ],
      "execution_count": 27,
      "metadata": {
        "gather": {
          "logged": 1613227037440
        },
        "jupyter": {
          "outputs_hidden": false,
          "source_hidden": false
        },
        "nteract": {
          "transient": {
            "deleting": false
          }
        }
      }
    },
    {
      "cell_type": "code",
      "source": [
        "print(best_run)"
      ],
      "outputs": [
        {
          "output_type": "stream",
          "name": "stdout",
          "text": [
            "Run(Experiment: AutoML_heart,\n",
            "Id: AutoML_6d8e5bd6-d09f-4cfd-8a1d-546aca1d9943_41,\n",
            "Type: azureml.scriptrun,\n",
            "Status: Completed)\n"
          ]
        }
      ],
      "execution_count": 28,
      "metadata": {
        "collapsed": true,
        "jupyter": {
          "source_hidden": false,
          "outputs_hidden": false
        },
        "nteract": {
          "transient": {
            "deleting": false
          }
        },
        "gather": {
          "logged": 1613227037620
        }
      }
    },
    {
      "cell_type": "code",
      "source": [
        "#TODO: Save the best model\n",
        "\n",
        "best_run.register_model(model_name = 'automl_best_model.pkl', model_path = '/outputs/model.pkl')\n",
        "\n",
        "import joblib\n",
        "\n",
        "joblib.dump(value= fitted_model, filename = './model_ML_fitted.joblib')"
      ],
      "outputs": [],
      "execution_count": null,
      "metadata": {
        "gather": {
          "logged": 1613151505717
        },
        "jupyter": {
          "outputs_hidden": false,
          "source_hidden": false
        },
        "nteract": {
          "transient": {
            "deleting": false
          }
        }
      }
    },
    {
      "cell_type": "markdown",
      "source": [
        "## Model Deployment\n",
        "\n",
        "Remember you have to deploy only one of the two models you trained.. Perform the steps in the rest of this notebook only if you wish to deploy this model.\n",
        "\n",
        "TODO: In the cell below, register the model, create an inference config and deploy the model as a web service."
      ],
      "metadata": {}
    },
    {
      "cell_type": "code",
      "source": [
        "#best_run.download_file(constants.CONDA_ENV_FILE_PATH, 'myenv.yml')\r\n",
        "\r\n",
        "from azureml.core.environment import Environment\r\n",
        "from azureml.core.model import InferenceConfig\r\n",
        "\r\n",
        "env = Environment.get(ws, \"AzureML-AutoML\")\r\n",
        "for pip_package in [\"scikit-learn\"]:\r\n",
        "    env.python.conda_dependencies.add_pip_package(pip_package)\r\n",
        "\r\n",
        "#inference_config = InferenceConfig(entry_script='score.py',\r\n",
        "#                                    environment=env)\r\n",
        "\r\n"
      ],
      "outputs": [],
      "execution_count": 29,
      "metadata": {
        "collapsed": true,
        "jupyter": {
          "source_hidden": false,
          "outputs_hidden": false
        },
        "nteract": {
          "transient": {
            "deleting": false
          }
        },
        "gather": {
          "logged": 1613227037790
        }
      }
    },
    {
      "cell_type": "code",
      "source": [
        "best_run.properties['model_name']"
      ],
      "outputs": [
        {
          "output_type": "execute_result",
          "execution_count": 30,
          "data": {
            "text/plain": "'AutoML6d8e5bd6d41'"
          },
          "metadata": {}
        }
      ],
      "execution_count": 30,
      "metadata": {
        "collapsed": true,
        "jupyter": {
          "source_hidden": false,
          "outputs_hidden": false
        },
        "nteract": {
          "transient": {
            "deleting": false
          }
        },
        "gather": {
          "logged": 1613227037986
        }
      }
    },
    {
      "cell_type": "code",
      "source": [
        "#Model.get_model_path('model_ML_fitted.joblib')"
      ],
      "outputs": [],
      "execution_count": null,
      "metadata": {
        "collapsed": true,
        "jupyter": {
          "source_hidden": false,
          "outputs_hidden": false
        },
        "nteract": {
          "transient": {
            "deleting": false
          }
        },
        "gather": {
          "logged": 1613151597169
        }
      }
    },
    {
      "cell_type": "code",
      "source": [
        "from azureml.core import Model\r\n",
        "from azureml.core.webservice import AciWebservice, Webservice\r\n",
        "import joblib\r\n",
        "##model = best_run.register_model(model_name='model_name', model_path='./outputs/model_name.pkl',\r\n",
        "  ##                     model_framework=Model.Framework.SCIKITLEARN)\r\n",
        "inference_config = InferenceConfig(entry_script='score.py',\r\n",
        "                                    environment=env)\r\n",
        "\r\n",
        "model = best_run.register_model(model_name = 'automl_best_model.pkl', model_path = './outputs/model.pkl', model_framework=Model.Framework.SCIKITLEARN )\r\n",
        "\r\n",
        "\r\n",
        "aci_config = AciWebservice.deploy_configuration(cpu_cores=1, memory_gb=2,\r\n",
        "                                                enable_app_insights=True, auth_enabled=False)  \r\n",
        "service_name =  'automl57'\r\n",
        "service = Model.deploy(ws, service_name, [model], inference_config, deployment_config=aci_config, overwrite=True)\r\n",
        "service.wait_for_deployment(show_output = True)\r\n",
        "print(service.get_logs())"
      ],
      "outputs": [
        {
          "output_type": "stream",
          "name": "stdout",
          "text": [
            "Tips: You can try get_logs(): https://aka.ms/debugimage#dockerlog or local deployment: https://aka.ms/debugimage#debug-locally to debug if deployment takes longer than 10 minutes.\n",
            "Running..................................................................\n",
            "Succeeded\n",
            "ACI service creation operation finished, operation \"Succeeded\"\n",
            "2021-02-13T14:42:37,973567100+00:00 - gunicorn/run \n",
            "2021-02-13T14:42:37,975174900+00:00 - iot-server/run \n",
            "2021-02-13T14:42:37,983785600+00:00 - rsyslog/run \n",
            "2021-02-13T14:42:37,993462000+00:00 - nginx/run \n",
            "/usr/sbin/nginx: /azureml-envs/azureml_09ff55f546b313bb1ab136a466214499/lib/libcrypto.so.1.0.0: no version information available (required by /usr/sbin/nginx)\n",
            "/usr/sbin/nginx: /azureml-envs/azureml_09ff55f546b313bb1ab136a466214499/lib/libcrypto.so.1.0.0: no version information available (required by /usr/sbin/nginx)\n",
            "/usr/sbin/nginx: /azureml-envs/azureml_09ff55f546b313bb1ab136a466214499/lib/libssl.so.1.0.0: no version information available (required by /usr/sbin/nginx)\n",
            "/usr/sbin/nginx: /azureml-envs/azureml_09ff55f546b313bb1ab136a466214499/lib/libssl.so.1.0.0: no version information available (required by /usr/sbin/nginx)\n",
            "/usr/sbin/nginx: /azureml-envs/azureml_09ff55f546b313bb1ab136a466214499/lib/libssl.so.1.0.0: no version information available (required by /usr/sbin/nginx)\n",
            "rsyslogd: /azureml-envs/azureml_09ff55f546b313bb1ab136a466214499/lib/libuuid.so.1: no version information available (required by rsyslogd)\n",
            "EdgeHubConnectionString and IOTEDGE_IOTHUBHOSTNAME are not set. Exiting...\n",
            "2021-02-13T14:42:40,113026700+00:00 - iot-server/finish 1 0\n",
            "2021-02-13T14:42:40,118577500+00:00 - Exit code 1 is normal. Not restarting iot-server.\n",
            "Starting gunicorn 19.9.0\n",
            "Listening at: http://127.0.0.1:31311 (65)\n",
            "Using worker: sync\n",
            "worker timeout is set to 300\n",
            "Booting worker with pid: 95\n",
            "SPARK_HOME not set. Skipping PySpark Initialization.\n",
            "Generating new fontManager, this may take some time...\n",
            "Initializing logger\n",
            "2021-02-13 14:42:46,921 | root | INFO | Starting up app insights client\n",
            "2021-02-13 14:42:46,922 | root | INFO | Starting up request id generator\n",
            "2021-02-13 14:42:46,923 | root | INFO | Starting up app insight hooks\n",
            "2021-02-13 14:42:46,923 | root | INFO | Invoking user's init function\n",
            "2021-02-13 14:42:56,499 | root | INFO | Users's init has completed successfully\n",
            "/azureml-envs/azureml_09ff55f546b313bb1ab136a466214499/lib/python3.6/site-packages/sklearn/externals/joblib/__init__.py:15: FutureWarning: sklearn.externals.joblib is deprecated in 0.21 and will be removed in 0.23. Please import this functionality directly from joblib, which can be installed with: pip install joblib. If this warning is raised when loading pickled models, you may need to re-serialize those models with scikit-learn 0.21+.\n",
            "  warnings.warn(msg, category=FutureWarning)\n",
            "2021-02-13 14:42:56,518 | root | INFO | Skipping middleware: dbg_model_info as it's not enabled.\n",
            "2021-02-13 14:42:56,518 | root | INFO | Skipping middleware: dbg_resource_usage as it's not enabled.\n",
            "2021-02-13 14:42:56,521 | root | INFO | Scoring timeout is found from os.environ: 60000 ms\n",
            "2021-02-13 14:42:57,351 | root | INFO | Swagger file not present\n",
            "2021-02-13 14:42:57,351 | root | INFO | 404\n",
            "127.0.0.1 - - [13/Feb/2021:14:42:57 +0000] \"GET /swagger.json HTTP/1.0\" 404 19 \"-\" \"Go-http-client/1.1\"\n",
            "2021-02-13 14:43:02,883 | root | INFO | Swagger file not present\n",
            "2021-02-13 14:43:02,884 | root | INFO | 404\n",
            "127.0.0.1 - - [13/Feb/2021:14:43:02 +0000] \"GET /swagger.json HTTP/1.0\" 404 19 \"-\" \"Go-http-client/1.1\"\n",
            "\n"
          ]
        },
        {
          "output_type": "stream",
          "name": "stderr",
          "text": [
            "WARNING:urllib3.connectionpool:Retrying (Retry(total=2, connect=2, read=3, redirect=None, status=None)) after connection broken by 'NewConnectionError('<urllib3.connection.HTTPSConnection object at 0x7f125ab6c1d0>: Failed to establish a new connection: [Errno 111] Connection refused',)': /history/v1.0/subscriptions/3e42d11f-d64d-4173-af9b-12ecaa1030b3/resourceGroups/aml-quickstarts-138790/providers/Microsoft.MachineLearningServices/workspaces/quick-starts-ws-138790/experiments/AutoML_heart/metrics:query?mergestrategytype=None\n"
          ]
        }
      ],
      "execution_count": 31,
      "metadata": {
        "gather": {
          "logged": 1613227383355
        },
        "jupyter": {
          "outputs_hidden": false,
          "source_hidden": false
        },
        "nteract": {
          "transient": {
            "deleting": false
          }
        }
      }
    },
    {
      "cell_type": "markdown",
      "source": [
        "TODO: In the cell below, send a request to the web service you deployed to test it."
      ],
      "metadata": {
        "collapsed": true,
        "gather": {
          "logged": 1598431657736
        },
        "jupyter": {
          "outputs_hidden": false,
          "source_hidden": false
        },
        "nteract": {
          "transient": {
            "deleting": false
          }
        }
      }
    },
    {
      "cell_type": "code",
      "source": [
        "import requests\r\n",
        "import json\r\n",
        "# URL for the web service, should be similar to:\r\n",
        "# 'http://8530a665-66f3-49c8-a953-b82a2d312917.eastus.azurecontainer.io/score'\r\n",
        "scoring_uri = service.scoring_uri\r\n",
        "# If the service is authenticated, set the key or token\r\n",
        "#key = ''\r\n",
        "\r\n",
        "# Two sets of data to score, so we get two results back\r\n",
        "data = {\"data\":\r\n",
        "        [\r\n",
        "          {\r\n",
        "           \"age\": 75, \r\n",
        "           \"anaemia\": 0, \r\n",
        "           \"creatinine_phosphokinase\": 582, \r\n",
        "           \"diabetes\": 0, \r\n",
        "           \"ejection_fraction\": 20, \r\n",
        "           \"high_blood_pressure\": 1, \r\n",
        "           \"platelets\": 265000, \r\n",
        "           \"serum_creatinine\": 1.9, \r\n",
        "           \"serum_sodium\": 130, \r\n",
        "           \"sex\": 1, \r\n",
        "           \"smoking\": 0,\r\n",
        "           \"time\": 4\r\n",
        "          },\r\n",
        "          \r\n",
        "      ]\r\n",
        "    }"
      ],
      "outputs": [],
      "execution_count": 32,
      "metadata": {
        "gather": {
          "logged": 1613227383467
        },
        "jupyter": {
          "outputs_hidden": false,
          "source_hidden": false
        },
        "nteract": {
          "transient": {
            "deleting": false
          }
        }
      }
    },
    {
      "cell_type": "code",
      "source": [
        "# Convert to JSON string\r\n",
        "input_data = json.dumps(data)\r\n",
        "with open(\"data.json\", \"w\") as _f:\r\n",
        "    _f.write(input_data)\r\n",
        "# Set the content type\r\n",
        "headers = {'Content-Type': 'application/json'}\r\n",
        "# If authentication is enabled, set the authorization header\r\n",
        "#headers['Authorization'] = f'Bearer {key}'\r\n",
        "# Make the request and display the response\r\n",
        "resp = requests.post(scoring_uri, input_data, headers=headers)\r\n",
        "print(resp.json())"
      ],
      "outputs": [
        {
          "output_type": "stream",
          "name": "stdout",
          "text": [
            "[1]\n"
          ]
        }
      ],
      "execution_count": 33,
      "metadata": {
        "collapsed": true,
        "jupyter": {
          "source_hidden": false,
          "outputs_hidden": false
        },
        "nteract": {
          "transient": {
            "deleting": false
          }
        },
        "gather": {
          "logged": 1613227383679
        }
      }
    },
    {
      "cell_type": "code",
      "source": [
        "best_run.download_file('outputs/conda_env_v_1_0_0.yml','.')"
      ],
      "outputs": [],
      "execution_count": 41,
      "metadata": {
        "collapsed": true,
        "jupyter": {
          "source_hidden": false,
          "outputs_hidden": false
        },
        "nteract": {
          "transient": {
            "deleting": false
          }
        },
        "gather": {
          "logged": 1613227943534
        }
      }
    },
    {
      "cell_type": "markdown",
      "source": [
        "TODO: In the cell below, print the logs of the web service and delete the service"
      ],
      "metadata": {
        "collapsed": true,
        "gather": {
          "logged": 1598432765711
        },
        "jupyter": {
          "outputs_hidden": false,
          "source_hidden": false
        },
        "nteract": {
          "transient": {
            "deleting": false
          }
        }
      }
    },
    {
      "cell_type": "code",
      "source": [
        "service.delete()\r\n",
        "model.delete()"
      ],
      "outputs": [],
      "execution_count": 45,
      "metadata": {
        "jupyter": {
          "outputs_hidden": false,
          "source_hidden": false
        },
        "nteract": {
          "transient": {
            "deleting": false
          }
        },
        "gather": {
          "logged": 1613228117896
        }
      }
    }
  ],
  "metadata": {
    "kernel_info": {
      "name": "python3"
    },
    "kernelspec": {
      "name": "python3",
      "language": "python",
      "display_name": "Python 3"
    },
    "language_info": {
      "name": "python",
      "version": "3.6.9",
      "mimetype": "text/x-python",
      "codemirror_mode": {
        "name": "ipython",
        "version": 3
      },
      "pygments_lexer": "ipython3",
      "nbconvert_exporter": "python",
      "file_extension": ".py"
    },
    "nteract": {
      "version": "nteract-front-end@1.0.0"
    }
  },
  "nbformat": 4,
  "nbformat_minor": 2
}